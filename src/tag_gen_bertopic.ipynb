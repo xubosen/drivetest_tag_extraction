{
 "cells": [
  {
   "cell_type": "markdown",
   "id": "3b0af83a-da80-46b9-a0a8-4e70a3399c00",
   "metadata": {},
   "source": [
    "# Drive Test Tag Generation With BERTopic\n",
    "Generate tags for the written portion of the chinese driving exam using BERTopic."
   ]
  },
  {
   "cell_type": "markdown",
   "id": "d2bf9df9-a4e7-4134-9652-6a522acf2189",
   "metadata": {},
   "source": [
    "## 1. Load Data\n",
    "Loading data from a local database into a question bank class."
   ]
  },
  {
   "cell_type": "code",
   "id": "76b55877-b5f6-4901-841d-4187a9511e0d",
   "metadata": {
    "ExecuteTime": {
     "end_time": "2025-06-25T05:48:04.148630Z",
     "start_time": "2025-06-25T05:48:04.036047Z"
    }
   },
   "source": [
    "from src.qb.question import Question\n",
    "from src.qb.question_bank import QuestionBank\n",
    "from data_storage.database.json_database import LocalJsonDB\n",
    "\n",
    "db = LocalJsonDB(\"data_storage/database/json_db/data.json\",\n",
    "                 \"data_storage/database/json_db/images\")\n",
    "qb : QuestionBank = db.load()\n",
    "print(qb.question_count())"
   ],
   "outputs": [
    {
     "name": "stdout",
     "output_type": "stream",
     "text": [
      "2836\n"
     ]
    }
   ],
   "execution_count": 1
  },
  {
   "metadata": {},
   "cell_type": "markdown",
   "source": [
    "## 2. Format Data\n",
    "Although the Siglip2 model can handle images of different sizes, I will still resize all images to common sizes."
   ],
   "id": "7eebd6332bc9e58e"
  },
  {
   "metadata": {
    "ExecuteTime": {
     "end_time": "2025-06-25T05:48:04.184388Z",
     "start_time": "2025-06-25T05:48:04.155117Z"
    }
   },
   "cell_type": "code",
   "source": [
    "from data_cleaning.img_reshaper import ImgSquarer\n",
    "\n",
    "IMG_DIR_256 = \"data_cleaning/resized_imgs/img256\"\n",
    "IMG_DIR_512 = \"data_cleaning/resized_imgs/img512\"\n",
    "\n",
    "squarer_256 = ImgSquarer(256)\n",
    "squarer_512 = ImgSquarer(512)"
   ],
   "id": "5d1b4ef6948dbabb",
   "outputs": [],
   "execution_count": 2
  },
  {
   "metadata": {
    "ExecuteTime": {
     "end_time": "2025-06-25T05:48:04.293325Z",
     "start_time": "2025-06-25T05:48:04.289854Z"
    }
   },
   "cell_type": "code",
   "source": [
    "def resize_images(qb: QuestionBank, squarer: ImgSquarer, new_dir: str) -> None:\n",
    "    for chapter_id in qb.get_all_chapter_num():\n",
    "        for qid in qb.get_qids_by_chapter(chapter_id):\n",
    "            question = qb.get_question(qid)\n",
    "            if question.get_img_path() is not None:\n",
    "                question.set_img_path(squarer.reshape(qid, qb.get_img_dir(), new_dir))"
   ],
   "id": "5e52674cb6084790",
   "outputs": [],
   "execution_count": 3
  },
  {
   "metadata": {
    "ExecuteTime": {
     "end_time": "2025-06-25T05:48:04.334558Z",
     "start_time": "2025-06-25T05:48:04.329284Z"
    }
   },
   "cell_type": "code",
   "source": [
    "import os\n",
    "# If the directory is empty, resize images.\n",
    "if not os.listdir(IMG_DIR_256):\n",
    "    print(\"Resizing images to 256x256...\")\n",
    "    resize_images(qb, squarer_256, IMG_DIR_256)\n",
    "else:\n",
    "    print(\"Images already resized to 256x256, skipping...\")"
   ],
   "id": "b4e6d53a53651c93",
   "outputs": [
    {
     "name": "stdout",
     "output_type": "stream",
     "text": [
      "Images already resized to 256x256, skipping...\n"
     ]
    }
   ],
   "execution_count": 4
  },
  {
   "metadata": {},
   "cell_type": "markdown",
   "source": [
    "## 3. Create Multimodal Embeddings\n",
    "Create multimodal embeddings for the questions using a Siglip2 model."
   ],
   "id": "9107061d51b64c55"
  },
  {
   "metadata": {
    "ExecuteTime": {
     "end_time": "2025-06-25T05:48:09.778810Z",
     "start_time": "2025-06-25T05:48:04.361212Z"
    }
   },
   "cell_type": "code",
   "source": [
    "# Library Imports\n",
    "from transformers import AutoModel, AutoProcessor\n",
    "\n",
    "# Local Imports\n",
    "from embedder.siglip2_qb_embedder import Siglip2QBEmbedder"
   ],
   "id": "21c02234f40c68ef",
   "outputs": [],
   "execution_count": 5
  },
  {
   "metadata": {},
   "cell_type": "markdown",
   "source": [
    "### a) Load/Download the Siglip2 Model\n",
    "We will be using \"google/siglip2-base-patch16-256\" for this task."
   ],
   "id": "1aec01c979cca317"
  },
  {
   "metadata": {
    "ExecuteTime": {
     "end_time": "2025-06-25T05:48:15.473206Z",
     "start_time": "2025-06-25T05:48:09.789752Z"
    }
   },
   "cell_type": "code",
   "source": [
    "MODEL_NAME = \"google/siglip2-base-patch16-256\"\n",
    "\n",
    "model = AutoModel.from_pretrained(MODEL_NAME)\n",
    "processor = AutoProcessor.from_pretrained(MODEL_NAME, use_fast=False)"
   ],
   "id": "801a62831dd141bf",
   "outputs": [],
   "execution_count": 6
  },
  {
   "metadata": {},
   "cell_type": "markdown",
   "source": "### b) Create embeddings",
   "id": "68e3e08cc3a642eb"
  },
  {
   "metadata": {},
   "cell_type": "markdown",
   "source": "#### i) Define a logger",
   "id": "601cfc0d981abcf1"
  },
  {
   "metadata": {
    "ExecuteTime": {
     "end_time": "2025-06-25T05:48:15.621244Z",
     "start_time": "2025-06-25T05:48:15.616345Z"
    }
   },
   "cell_type": "code",
   "source": [
    "import logging\n",
    "from logging import Logger\n",
    "from datetime import datetime\n",
    "import os\n",
    "\n",
    "LOGGING_PATH = \"logs\"\n",
    "\n",
    "def get_logger(name: str) -> Logger:\n",
    "    # Create logger\n",
    "    logger = logging.getLogger(name)\n",
    "    logger.setLevel(logging.DEBUG)\n",
    "\n",
    "    # Create a file handler with timestamp in filename\n",
    "    timestamp = datetime.now().strftime(\"%Y%m%d_%H%M\")\n",
    "    file_handler = logging.FileHandler(\n",
    "        os.path.join(LOGGING_PATH, f\"{name}_{timestamp}.log\")\n",
    "    )\n",
    "\n",
    "    # Create formatter\n",
    "    formatter = logging.Formatter(\n",
    "        '%(asctime)s - %(name)s - %(levelname)s - %(message)s'\n",
    "    )\n",
    "    file_handler.setFormatter(formatter)\n",
    "\n",
    "    # Add handler to logger\n",
    "    logger.addHandler(file_handler)\n",
    "\n",
    "    return logger\n",
    "embedder_logger = get_logger(\"embedder\")"
   ],
   "id": "c3d92e8a645cba3a",
   "outputs": [],
   "execution_count": 7
  },
  {
   "metadata": {},
   "cell_type": "markdown",
   "source": "#### ii) Create the embedder",
   "id": "3b4d7e4f38ef5344"
  },
  {
   "metadata": {
    "ExecuteTime": {
     "end_time": "2025-06-25T05:48:15.781517Z",
     "start_time": "2025-06-25T05:48:15.777890Z"
    }
   },
   "cell_type": "code",
   "source": "custom_embedder = Siglip2QBEmbedder(model, processor, embedder_logger)",
   "id": "7b3276b9dc473fd6",
   "outputs": [],
   "execution_count": 8
  },
  {
   "metadata": {},
   "cell_type": "markdown",
   "source": "#### iii) Generate embeddings",
   "id": "a6c1d319ac524873"
  },
  {
   "metadata": {
    "ExecuteTime": {
     "end_time": "2025-06-25T06:04:40.373114Z",
     "start_time": "2025-06-25T06:04:40.369822Z"
    }
   },
   "cell_type": "code",
   "source": [
    "EMBEDDINGS_DIR = \"data_storage/embedding_dir\"\n",
    "os.makedirs(EMBEDDINGS_DIR, exist_ok=True)\n",
    "embedding_file = os.path.join(EMBEDDINGS_DIR, \"siglip2_embeddings.npz\")"
   ],
   "id": "9b16ff69a4ddfd84",
   "outputs": [],
   "execution_count": 12
  },
  {
   "metadata": {
    "ExecuteTime": {
     "end_time": "2025-06-25T06:02:15.398969Z",
     "start_time": "2025-06-25T05:48:15.924138Z"
    }
   },
   "cell_type": "code",
   "source": [
    "\n",
    "\n",
    "if embedding_file in os.listdir(EMBEDDINGS_DIR):\n",
    "    print(f\"Embeddings already exist at {embedding_file}, skipping generation.\")\n",
    "else:\n",
    "    print(\"Generating embeddings...\")\n",
    "    # Generate embeddings for the question bank\n",
    "    embeddings = custom_embedder.encode_qb(qb)"
   ],
   "id": "73393130d3b64fcd",
   "outputs": [],
   "execution_count": 9
  },
  {
   "metadata": {},
   "cell_type": "markdown",
   "source": "#### iv) Save embeddings",
   "id": "5216673cda9d198c"
  },
  {
   "metadata": {
    "ExecuteTime": {
     "end_time": "2025-06-25T06:04:46.590095Z",
     "start_time": "2025-06-25T06:04:46.416480Z"
    }
   },
   "cell_type": "code",
   "source": [
    "import numpy as np\n",
    "\n",
    "def save_embeddings(embeddings, file_path):\n",
    "    np.savez(embedding_file, **{str(qid): embeddings[qid] for qid in embeddings})\n",
    "\n",
    "if not os.path.exists(embedding_file):\n",
    "    print(f\"Saving embeddings to {embedding_file}...\")\n",
    "    save_embeddings(embeddings, embedding_file)\n",
    "else:\n",
    "    print(f\"Embeddings file {embedding_file} already exists, skipping save.\")"
   ],
   "id": "32a35483496c3770",
   "outputs": [
    {
     "name": "stdout",
     "output_type": "stream",
     "text": [
      "Saving embeddings to data_storage/embedding_dir/siglip2_embeddings.npz...\n"
     ]
    }
   ],
   "execution_count": 13
  },
  {
   "metadata": {},
   "cell_type": "markdown",
   "source": "## 4. Generate Tags with BERTopic",
   "id": "f8d344e935d31ec6"
  },
  {
   "metadata": {},
   "cell_type": "markdown",
   "source": "### a) Load Embeddings",
   "id": "4dd168213eb8a39b"
  },
  {
   "metadata": {},
   "cell_type": "code",
   "outputs": [],
   "execution_count": null,
   "source": [
    "# To load the embeddings later:\n",
    "def load_embeddings(file_path):\n",
    "    loaded = np.load(file_path)\n",
    "    return {key: loaded[key] for key in loaded.files}\n",
    "embeddings = load_embeddings(embedding_file)"
   ],
   "id": "350c58c98f0e98cb"
  },
  {
   "metadata": {},
   "cell_type": "markdown",
   "source": "",
   "id": "eeada4f3890f1d0d"
  }
 ],
 "metadata": {
  "kernelspec": {
   "display_name": "drivetest_tag_gen",
   "language": "python",
   "name": "drivetest_tag_gen"
  },
  "language_info": {
   "codemirror_mode": {
    "name": "ipython",
    "version": 3
   },
   "file_extension": ".py",
   "mimetype": "text/x-python",
   "name": "python",
   "nbconvert_exporter": "python",
   "pygments_lexer": "ipython3",
   "version": "3.13.5"
  }
 },
 "nbformat": 4,
 "nbformat_minor": 5
}
