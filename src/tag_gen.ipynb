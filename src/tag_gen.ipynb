{
 "cells": [
  {
   "cell_type": "markdown",
   "id": "3b0af83a-da80-46b9-a0a8-4e70a3399c00",
   "metadata": {},
   "source": [
    "# Drive Test Tag Generation\n",
    "Generate tags for the written portion of the chinese driving exam using a process similar to BERTopic."
   ]
  },
  {
   "cell_type": "markdown",
   "id": "d2bf9df9-a4e7-4134-9652-6a522acf2189",
   "metadata": {},
   "source": [
    "## 1. Load Data\n",
    "Loading data from a local database into a question bank class."
   ]
  },
  {
   "cell_type": "code",
   "id": "76b55877-b5f6-4901-841d-4187a9511e0d",
   "metadata": {
    "ExecuteTime": {
     "end_time": "2025-07-06T15:26:03.366594Z",
     "start_time": "2025-07-06T15:26:03.266027Z"
    }
   },
   "source": [
    "from src.qb.question_bank import QuestionBank\n",
    "from data_storage.database.json_database import LocalJsonDB\n",
    "\n",
    "db = LocalJsonDB(\"data_storage/database/json_db/data.json\",\n",
    "                 \"data_storage/database/json_db/images\")\n",
    "qb : QuestionBank = db.load()\n",
    "print(qb.question_count())"
   ],
   "outputs": [
    {
     "name": "stdout",
     "output_type": "stream",
     "text": [
      "2836\n"
     ]
    }
   ],
   "execution_count": 1
  },
  {
   "metadata": {},
   "cell_type": "markdown",
   "source": [
    "## 2. Format Data\n",
    "Although the Siglip2 model can handle images of different sizes, we will still standardize the image sizes to the same size to avoid unnecessary complications."
   ],
   "id": "7eebd6332bc9e58e"
  },
  {
   "metadata": {
    "ExecuteTime": {
     "end_time": "2025-07-06T15:26:03.489967Z",
     "start_time": "2025-07-06T15:26:03.463154Z"
    }
   },
   "cell_type": "code",
   "source": [
    "from data_cleaning.img_reshaper import ImgSquarer\n",
    "\n",
    "IMG_DIR_256 = \"data_cleaning/resized_imgs/img256\"\n",
    "IMG_DIR_512 = \"data_cleaning/resized_imgs/img512\"\n",
    "\n",
    "squarer_256 = ImgSquarer(256)\n",
    "# squarer_512 = ImgSquarer(512)"
   ],
   "id": "5d1b4ef6948dbabb",
   "outputs": [],
   "execution_count": 2
  },
  {
   "metadata": {
    "ExecuteTime": {
     "end_time": "2025-07-06T15:26:03.506783Z",
     "start_time": "2025-07-06T15:26:03.503601Z"
    }
   },
   "cell_type": "code",
   "source": [
    "def resize_images(qb: QuestionBank, squarer: ImgSquarer, new_dir: str) -> None:\n",
    "    for chapter_id in qb.get_all_chapter_num():\n",
    "        for qid in qb.get_qids_by_chapter(chapter_id):\n",
    "            question = qb.get_question(qid)\n",
    "            if question.get_img_path() is not None:\n",
    "                question.set_img_path(squarer.reshape(qid, qb.get_img_dir(), new_dir))"
   ],
   "id": "5e52674cb6084790",
   "outputs": [],
   "execution_count": 3
  },
  {
   "metadata": {
    "ExecuteTime": {
     "end_time": "2025-07-06T15:26:03.521897Z",
     "start_time": "2025-07-06T15:26:03.517450Z"
    }
   },
   "cell_type": "code",
   "source": [
    "import os\n",
    "# If the directory is empty, resize images.\n",
    "if not os.listdir(IMG_DIR_256):\n",
    "    print(\"Resizing images to 256x256...\")\n",
    "    resize_images(qb, squarer_256, IMG_DIR_256)\n",
    "else:\n",
    "    print(\"Images already resized to 256x256, skipping...\")"
   ],
   "id": "b4e6d53a53651c93",
   "outputs": [
    {
     "name": "stdout",
     "output_type": "stream",
     "text": [
      "Images already resized to 256x256, skipping...\n"
     ]
    }
   ],
   "execution_count": 4
  },
  {
   "metadata": {},
   "cell_type": "markdown",
   "source": [
    "## 3. Create Multimodal Embeddings\n",
    "Create multimodal embeddings for the questions using a Siglip2 model."
   ],
   "id": "9107061d51b64c55"
  },
  {
   "metadata": {
    "ExecuteTime": {
     "end_time": "2025-07-06T15:26:07.923823Z",
     "start_time": "2025-07-06T15:26:03.559459Z"
    }
   },
   "cell_type": "code",
   "source": [
    "# Library Imports\n",
    "from transformers import AutoModel, AutoProcessor\n",
    "\n",
    "# Local Imports\n",
    "from embedder.siglip2_qb_embedder import Siglip2QBEmbedder"
   ],
   "id": "21c02234f40c68ef",
   "outputs": [],
   "execution_count": 5
  },
  {
   "metadata": {},
   "cell_type": "markdown",
   "source": [
    "### a) Load/Download the Siglip2 Model\n",
    "We will be using \"google/siglip2-base-patch16-256\" for this task."
   ],
   "id": "1aec01c979cca317"
  },
  {
   "metadata": {
    "ExecuteTime": {
     "end_time": "2025-07-06T15:26:24.610900Z",
     "start_time": "2025-07-06T15:26:07.939198Z"
    }
   },
   "cell_type": "code",
   "source": [
    "import torch\n",
    "MODEL_NAME = \"google/siglip2-base-patch16-256\"\n",
    "\n",
    "model = AutoModel.from_pretrained(MODEL_NAME, torch_dtype=torch.float32, attn_implementation=\"sdpa\")\n",
    "processor = AutoProcessor.from_pretrained(MODEL_NAME, use_fast=True) # Ensure the model is on the correct device"
   ],
   "id": "801a62831dd141bf",
   "outputs": [],
   "execution_count": 6
  },
  {
   "metadata": {},
   "cell_type": "markdown",
   "source": "### b) Create embeddings",
   "id": "68e3e08cc3a642eb"
  },
  {
   "metadata": {},
   "cell_type": "markdown",
   "source": "#### i) Define a logger",
   "id": "601cfc0d981abcf1"
  },
  {
   "metadata": {
    "ExecuteTime": {
     "end_time": "2025-07-06T15:26:26.102848Z",
     "start_time": "2025-07-06T15:26:26.097487Z"
    }
   },
   "cell_type": "code",
   "source": [
    "import logging\n",
    "from logging import Logger\n",
    "from datetime import datetime\n",
    "import os\n",
    "\n",
    "LOGGING_PATH = \"logs\"\n",
    "\n",
    "def get_logger(name: str) -> Logger:\n",
    "    # Create logger\n",
    "    logger = logging.getLogger(name)\n",
    "    logger.setLevel(logging.INFO) # Set the logging level\n",
    "\n",
    "    # Create a file handler with timestamp in filename\n",
    "    timestamp = datetime.now().strftime(\"%Y%m%d_%H%M\")\n",
    "    file_handler = logging.FileHandler(\n",
    "        os.path.join(LOGGING_PATH, f\"{name}_{timestamp}.log\")\n",
    "    )\n",
    "\n",
    "    # Create formatter\n",
    "    formatter = logging.Formatter(\n",
    "        '%(asctime)s - %(name)s - %(levelname)s - %(message)s'\n",
    "    )\n",
    "    file_handler.setFormatter(formatter)\n",
    "\n",
    "    # Add handler to logger\n",
    "    logger.addHandler(file_handler)\n",
    "\n",
    "    return logger\n",
    "\n",
    "embedder_logger = get_logger(\"embedder\")"
   ],
   "id": "c3d92e8a645cba3a",
   "outputs": [],
   "execution_count": 7
  },
  {
   "metadata": {},
   "cell_type": "markdown",
   "source": "#### ii) Create the embedder",
   "id": "3b4d7e4f38ef5344"
  },
  {
   "metadata": {
    "ExecuteTime": {
     "end_time": "2025-07-06T15:26:27.597361Z",
     "start_time": "2025-07-06T15:26:27.594476Z"
    }
   },
   "cell_type": "code",
   "source": "custom_embedder = Siglip2QBEmbedder(model, processor, embedder_logger)",
   "id": "7b3276b9dc473fd6",
   "outputs": [],
   "execution_count": 8
  },
  {
   "metadata": {},
   "cell_type": "markdown",
   "source": "#### iii) Generate embeddings",
   "id": "a6c1d319ac524873"
  },
  {
   "metadata": {
    "ExecuteTime": {
     "end_time": "2025-07-06T15:26:29.077166Z",
     "start_time": "2025-07-06T15:26:29.073523Z"
    }
   },
   "cell_type": "code",
   "source": [
    "EMBEDDINGS_DIR = \"data_storage/embedding_dir\"\n",
    "EMBEDDING_FILE_NAME = \"siglip2_embeddings.npz\"\n",
    "\n",
    "os.makedirs(EMBEDDINGS_DIR, exist_ok=True)\n",
    "embedding_file = os.path.join(EMBEDDINGS_DIR, EMBEDDING_FILE_NAME)\n",
    "print(embedding_file)"
   ],
   "id": "9b16ff69a4ddfd84",
   "outputs": [
    {
     "name": "stdout",
     "output_type": "stream",
     "text": [
      "data_storage/embedding_dir/siglip2_embeddings.npz\n"
     ]
    }
   ],
   "execution_count": 9
  },
  {
   "metadata": {
    "ExecuteTime": {
     "end_time": "2025-07-06T15:26:30.576835Z",
     "start_time": "2025-07-06T15:26:30.573071Z"
    }
   },
   "cell_type": "code",
   "source": [
    "if EMBEDDING_FILE_NAME in os.listdir(EMBEDDINGS_DIR):\n",
    "    print(f\"Embeddings already exist at {embedding_file}, skipping generation.\")\n",
    "else:\n",
    "    print(\"Generating embeddings...\")\n",
    "    # Generate embeddings for the question bank\n",
    "    embeddings = custom_embedder.encode_qb(qb)"
   ],
   "id": "73393130d3b64fcd",
   "outputs": [
    {
     "name": "stdout",
     "output_type": "stream",
     "text": [
      "Embeddings already exist at data_storage/embedding_dir/siglip2_embeddings.npz, skipping generation.\n"
     ]
    }
   ],
   "execution_count": 10
  },
  {
   "metadata": {},
   "cell_type": "markdown",
   "source": "#### iv) Save embeddings",
   "id": "5216673cda9d198c"
  },
  {
   "metadata": {
    "ExecuteTime": {
     "end_time": "2025-07-06T15:26:32.066022Z",
     "start_time": "2025-07-06T15:26:32.061601Z"
    }
   },
   "cell_type": "code",
   "source": [
    "import numpy as np\n",
    "\n",
    "def save_embeddings(embeddings, file_path):\n",
    "    np.savez(file_path, **{str(qid): embeddings[qid] for qid in embeddings})\n",
    "\n",
    "if not os.path.exists(embedding_file):\n",
    "    print(f\"Saving embeddings to {embedding_file}...\")\n",
    "    save_embeddings(embeddings, embedding_file)\n",
    "else:\n",
    "    print(f\"Embeddings file {embedding_file} already exists, skipping save.\")"
   ],
   "id": "32a35483496c3770",
   "outputs": [
    {
     "name": "stdout",
     "output_type": "stream",
     "text": [
      "Embeddings file data_storage/embedding_dir/siglip2_embeddings.npz already exists, skipping save.\n"
     ]
    }
   ],
   "execution_count": 11
  },
  {
   "metadata": {},
   "cell_type": "markdown",
   "source": "## 4. Dimension Reduction",
   "id": "f8d344e935d31ec6"
  },
  {
   "metadata": {},
   "cell_type": "markdown",
   "source": "### a) Load Embeddings",
   "id": "4dd168213eb8a39b"
  },
  {
   "metadata": {
    "ExecuteTime": {
     "end_time": "2025-07-06T15:26:34.095021Z",
     "start_time": "2025-07-06T15:26:33.620039Z"
    }
   },
   "cell_type": "code",
   "source": [
    "def load_embeddings(file_path):\n",
    "    loaded = np.load(file_path)\n",
    "    return {key: loaded[key] for key in loaded.files}\n",
    "id_to_embedding = load_embeddings(embedding_file)"
   ],
   "id": "350c58c98f0e98cb",
   "outputs": [],
   "execution_count": 12
  },
  {
   "metadata": {
    "ExecuteTime": {
     "end_time": "2025-07-06T15:26:35.601692Z",
     "start_time": "2025-07-06T15:26:35.596587Z"
    }
   },
   "cell_type": "code",
   "source": [
    "from typing import List\n",
    "\n",
    "from embedder.siglip2_qb_embedder import format_question\n",
    "\n",
    "def format_for_clustering(id_to_embedding: dict, qb: QuestionBank) -> (List[str], List[str], np.ndarray):\n",
    "    \"\"\"\n",
    "    Format the embeddings for clustering.\n",
    "    \"\"\"\n",
    "    qid_lst: List[str] = []\n",
    "    documents: List[str] = []\n",
    "    embedding_lst: List[np.ndarray] = []\n",
    "\n",
    "    for chapter_id in qb.get_all_chapter_num():\n",
    "        for qid in qb.get_qids_by_chapter(chapter_id):\n",
    "\n",
    "            doc = format_question(qb.get_question(qid), qb.describe_chapter(chapter_id))\n",
    "\n",
    "            qid_lst.append(qid)\n",
    "            documents.append(doc)\n",
    "            embedding_lst.append(id_to_embedding[qid])\n",
    "\n",
    "    embedding_array = np.array(embedding_lst)\n",
    "    return qid_lst, documents, embedding_array"
   ],
   "id": "d9469e155cb15bbb",
   "outputs": [],
   "execution_count": 13
  },
  {
   "metadata": {
    "ExecuteTime": {
     "end_time": "2025-07-06T15:26:37.104310Z",
     "start_time": "2025-07-06T15:26:37.094422Z"
    }
   },
   "cell_type": "code",
   "source": [
    "qid_lst, documents, embeds = format_for_clustering(id_to_embedding, qb)\n",
    "print(f\"Number of questions: {len(qid_lst)} \"\n",
    "      f\"Embedding shape: {embeds.shape}\")"
   ],
   "id": "158b6357d70c9e6a",
   "outputs": [
    {
     "name": "stdout",
     "output_type": "stream",
     "text": [
      "Number of questions: 2836 Embedding shape: (2836, 768)\n"
     ]
    }
   ],
   "execution_count": 14
  },
  {
   "metadata": {
    "ExecuteTime": {
     "end_time": "2025-07-06T15:26:38.856172Z",
     "start_time": "2025-07-06T15:26:38.850064Z"
    }
   },
   "cell_type": "code",
   "source": "documents[:5]  # Display the first 5 documents to verify formatting",
   "id": "6fe21b3805ae0bce",
   "outputs": [
    {
     "data": {
      "text/plain": [
       "['题目:图中标志提示前方道路的最高车速限制在50公里以下。答案:错',\n",
       " '题目:准驾车型为C1驾照的，可以驾驶以下哪种车辆？答案:低速载货汽车',\n",
       " '题目:潮汐车道是可变车道，根据早晚交通流量情况，调整车道的行驶方向。答案:对',\n",
       " '题目:如图所示，驾驶这辆小型客车能否进入高速公路行驶？答案:由持该车型驾驶证3年以上驾驶人陪同允许进入',\n",
       " '题目:对有伪造或变造号牌、行驶证嫌疑的车辆，交通警察可依法予以扣留。答案:对']"
      ]
     },
     "execution_count": 15,
     "metadata": {},
     "output_type": "execute_result"
    }
   ],
   "execution_count": 15
  },
  {
   "metadata": {},
   "cell_type": "markdown",
   "source": [
    "### b) Set up dimension reduction model\n",
    "We will be using UMAP for dimension reduction."
   ],
   "id": "1fbf3eb18a15ac7b"
  },
  {
   "metadata": {
    "ExecuteTime": {
     "end_time": "2025-07-06T15:26:44.069571Z",
     "start_time": "2025-07-06T15:26:40.560075Z"
    }
   },
   "cell_type": "code",
   "source": [
    "from umap import UMAP\n",
    "def dim_reduction(dimensions: int, n_neighbors: int, embeddings: np.ndarray) -> np.ndarray:\n",
    "    umap_model = UMAP(\n",
    "        n_components=dimensions,\n",
    "        metric='cosine',\n",
    "        n_neighbors=n_neighbors,\n",
    "        min_dist=0.0\n",
    "    )\n",
    "    return umap_model.fit_transform(embeddings)"
   ],
   "id": "f8f78fce0d067b1b",
   "outputs": [],
   "execution_count": 16
  },
  {
   "metadata": {
    "ExecuteTime": {
     "end_time": "2025-07-06T15:26:45.563475Z",
     "start_time": "2025-07-06T15:26:45.560624Z"
    }
   },
   "cell_type": "code",
   "source": [
    "def save_rdc_embeddings(embeddings, file_path):\n",
    "    np.savez(file_path, embeddings=embeddings)"
   ],
   "id": "41bdc630c3f51192",
   "outputs": [],
   "execution_count": 17
  },
  {
   "metadata": {
    "ExecuteTime": {
     "end_time": "2025-07-06T15:26:47.064121Z",
     "start_time": "2025-07-06T15:26:47.061384Z"
    }
   },
   "cell_type": "code",
   "source": [
    "def load_rdc_embeddings(file_path):\n",
    "    loaded = np.load(file_path)\n",
    "    return loaded['embeddings']"
   ],
   "id": "aef5c918136496ec",
   "outputs": [],
   "execution_count": 18
  },
  {
   "metadata": {
    "ExecuteTime": {
     "end_time": "2025-07-06T15:26:48.540748Z",
     "start_time": "2025-07-06T15:26:48.537006Z"
    }
   },
   "cell_type": "code",
   "source": [
    "def make_reduced_embeddings(dimension, n_neighbors, embeddings):\n",
    "    path = f\"data_storage/embedding_dir/rdc_embeds_n{n_neighbors}d{dimension}.npz\"\n",
    "    if not os.path.exists(path):\n",
    "        print(f\"Generating embeddings for dimension {dimension} with n_neighbors={n_neighbors}...\\n\")\n",
    "        rdc_embeds = dim_reduction(dimension, n_neighbors, embeddings)\n",
    "        save_rdc_embeddings(rdc_embeds, path)\n",
    "    else:\n",
    "        print(f\"Embeddings for dimension {dimension} with n_neighbors={n_neighbors} already exist. Loading...\\n\")\n",
    "        rdc_embeds = load_rdc_embeddings(path)\n",
    "    return rdc_embeds"
   ],
   "id": "5989827570459b6e",
   "outputs": [],
   "execution_count": 19
  },
  {
   "metadata": {},
   "cell_type": "markdown",
   "source": "## 5. Clustering\n",
   "id": "345e9ec83eeca528"
  },
  {
   "metadata": {},
   "cell_type": "markdown",
   "source": "Generate a small representative sample of the question bank by clustering the questions and selecting representative questions from each cluster.",
   "id": "58bd3bc4c40872a7"
  },
  {
   "metadata": {},
   "cell_type": "markdown",
   "source": "## a) Set up clustering model",
   "id": "c952c674ec461cf8"
  },
  {
   "metadata": {
    "ExecuteTime": {
     "end_time": "2025-07-06T15:27:04.872430Z",
     "start_time": "2025-07-06T15:27:04.868789Z"
    }
   },
   "cell_type": "code",
   "source": [
    "from sklearn.cluster import HDBSCAN\n",
    "def cluster_embeddings(embeddings: np.ndarray) -> np.ndarray:\n",
    "    \"\"\"\n",
    "    Cluster the embeddings using HDBSCAN.\n",
    "\n",
    "    Args:\n",
    "        embeddings: Embeddings array with shape (n_samples, n_features)\n",
    "\n",
    "    Returns:\n",
    "        Cluster labels for each embedding\n",
    "    \"\"\"\n",
    "    clusterer = HDBSCAN(min_cluster_size=2, metric='cosine', min_samples=1, cluster_selection_method=\"leaf\", allow_single_cluster=True)\n",
    "    return clusterer.fit_predict(embeddings)"
   ],
   "id": "684713f810028a25",
   "outputs": [],
   "execution_count": 25
  },
  {
   "metadata": {},
   "cell_type": "markdown",
   "source": [
    "## b) Tune Hyperparameters\n",
    "Find optimal hyperparameters\n",
    "### i) Set up experiment trying a range of hyperparameters"
   ],
   "id": "49c13f6845e6018"
  },
  {
   "metadata": {
    "ExecuteTime": {
     "end_time": "2025-07-06T15:27:06.493964Z",
     "start_time": "2025-07-06T15:27:06.489735Z"
    }
   },
   "cell_type": "code",
   "source": [
    "from pandas import DataFrame\n",
    "\n",
    "\n",
    "def make_topics(dimension: int, n_neighbors: int, qid_lst: List[str], docs: List[str], embeddings: np.ndarray) -> DataFrame:\n",
    "    \"\"\"\n",
    "    A pipeline that takes in the dimension and n_neighbors, then performs dimension reduction and clustering using those hyperparameters on docs.\n",
    "    \"\"\"\n",
    "    topic_labels = cluster_embeddings(make_reduced_embeddings(dimension, n_neighbors, embeddings))\n",
    "    return DataFrame({\n",
    "        \"topic\" : topic_labels,\n",
    "        \"qid\": qid_lst,\n",
    "        \"question\": docs\n",
    "    })"
   ],
   "id": "a4b8bb83b92c6db2",
   "outputs": [],
   "execution_count": 26
  },
  {
   "metadata": {
    "ExecuteTime": {
     "end_time": "2025-07-06T15:27:17.203113Z",
     "start_time": "2025-07-06T15:27:17.198639Z"
    }
   },
   "cell_type": "code",
   "source": [
    "def dimred_experiment(qid_lst: List[str], questions: List[str], embeddings: np.ndarray) -> DataFrame:\n",
    "    \"\"\"\n",
    "    An experiment to find the optimal hyperparameters for dimension reduction (dimensions and n_neighbors).\n",
    "\n",
    "    With a fixed clustering method, we will vary the dimensions and n_neighbors to see how it affects the outlier count.\n",
    "    \"\"\"\n",
    "    topic_labels = {}\n",
    "\n",
    "    for n_neighbors in range(5, 100, 10):\n",
    "        for dimension in range(2, 767, 50):\n",
    "\n",
    "            print(f\"Running for n_neighbors={n_neighbors}, dimension={dimension}...\")\n",
    "\n",
    "            column_name = f\"n{n_neighbors}d{dimension}\"\n",
    "            topic_labels[column_name] = cluster_embeddings(make_reduced_embeddings(dimension, n_neighbors, embeddings))\n",
    "\n",
    "    result_dict = topic_labels\n",
    "    result_dict[\"id\"] = qid_lst\n",
    "    result_dict[\"question\"] = questions\n",
    "    result_df = DataFrame(result_dict)\n",
    "    return result_df"
   ],
   "id": "436352498f8ee0b2",
   "outputs": [],
   "execution_count": 28
  },
  {
   "metadata": {
    "ExecuteTime": {
     "end_time": "2025-07-06T15:27:18.686825Z",
     "start_time": "2025-07-06T15:27:18.682935Z"
    }
   },
   "cell_type": "code",
   "source": [
    "def save_dimred_results(df: DataFrame, file_path: str):\n",
    "    \"\"\"\n",
    "    Save the dimension reduction results to a CSV file.\n",
    "    \"\"\"\n",
    "    df.to_csv(file_path, index=False)\n",
    "    print(f\"Results saved to {file_path}\")\n",
    "\n",
    "def load_dimred_results(file_path: str) -> DataFrame:\n",
    "    \"\"\"\n",
    "    Load the dimension reduction results from a CSV file.\n",
    "    \"\"\"\n",
    "    return DataFrame.read_csv(file_path)"
   ],
   "id": "252d3e58008c2c9f",
   "outputs": [],
   "execution_count": 29
  },
  {
   "metadata": {
    "ExecuteTime": {
     "end_time": "2025-07-06T15:27:50.980073Z",
     "start_time": "2025-07-06T15:27:20.122693Z"
    }
   },
   "cell_type": "code",
   "source": [
    "DIMRED_EXPR_PATH = \"data_storage/experiments/dim_reduct_experiment.csv\"\n",
    "if not os.path.exists(DIMRED_EXPR_PATH):\n",
    "    print(\"Running experiment...\")\n",
    "    dimred_exp_results = dimred_experiment(qid_lst=qid_lst, questions=documents, embeddings=embeds)\n",
    "    print(\"Saving dimension reduction experiment results...\")\n",
    "    save_dimred_results(dimred_exp_results, DIMRED_EXPR_PATH)\n",
    "else:\n",
    "    print(f\"Dimension reduction experiment results already exist at {DIMRED_EXPR_PATH}, skipping save.\")\n",
    "    dimred_exp_results = load_dimred_results(DIMRED_EXPR_PATH)"
   ],
   "id": "779612e9e1817a4f",
   "outputs": [
    {
     "name": "stdout",
     "output_type": "stream",
     "text": [
      "Running experiment...\n",
      "Running for n_neighbors=5, dimension=2...\n",
      "Embeddings for dimension 2 with n_neighbors=5 already exist. Loading...\n",
      "\n",
      "Running for n_neighbors=5, dimension=52...\n",
      "Embeddings for dimension 52 with n_neighbors=5 already exist. Loading...\n",
      "\n",
      "Running for n_neighbors=5, dimension=102...\n",
      "Embeddings for dimension 102 with n_neighbors=5 already exist. Loading...\n",
      "\n",
      "Running for n_neighbors=5, dimension=152...\n",
      "Embeddings for dimension 152 with n_neighbors=5 already exist. Loading...\n",
      "\n",
      "Running for n_neighbors=5, dimension=202...\n",
      "Embeddings for dimension 202 with n_neighbors=5 already exist. Loading...\n",
      "\n",
      "Running for n_neighbors=5, dimension=252...\n",
      "Embeddings for dimension 252 with n_neighbors=5 already exist. Loading...\n",
      "\n",
      "Running for n_neighbors=5, dimension=302...\n",
      "Embeddings for dimension 302 with n_neighbors=5 already exist. Loading...\n",
      "\n",
      "Running for n_neighbors=5, dimension=352...\n",
      "Embeddings for dimension 352 with n_neighbors=5 already exist. Loading...\n",
      "\n",
      "Running for n_neighbors=5, dimension=402...\n",
      "Embeddings for dimension 402 with n_neighbors=5 already exist. Loading...\n",
      "\n",
      "Running for n_neighbors=5, dimension=452...\n",
      "Embeddings for dimension 452 with n_neighbors=5 already exist. Loading...\n",
      "\n",
      "Running for n_neighbors=5, dimension=502...\n",
      "Embeddings for dimension 502 with n_neighbors=5 already exist. Loading...\n",
      "\n",
      "Running for n_neighbors=5, dimension=552...\n",
      "Embeddings for dimension 552 with n_neighbors=5 already exist. Loading...\n",
      "\n",
      "Running for n_neighbors=5, dimension=602...\n",
      "Embeddings for dimension 602 with n_neighbors=5 already exist. Loading...\n",
      "\n",
      "Running for n_neighbors=5, dimension=652...\n",
      "Embeddings for dimension 652 with n_neighbors=5 already exist. Loading...\n",
      "\n",
      "Running for n_neighbors=5, dimension=702...\n",
      "Embeddings for dimension 702 with n_neighbors=5 already exist. Loading...\n",
      "\n",
      "Running for n_neighbors=5, dimension=752...\n",
      "Embeddings for dimension 752 with n_neighbors=5 already exist. Loading...\n",
      "\n",
      "Running for n_neighbors=15, dimension=2...\n",
      "Embeddings for dimension 2 with n_neighbors=15 already exist. Loading...\n",
      "\n",
      "Running for n_neighbors=15, dimension=52...\n",
      "Embeddings for dimension 52 with n_neighbors=15 already exist. Loading...\n",
      "\n",
      "Running for n_neighbors=15, dimension=102...\n",
      "Embeddings for dimension 102 with n_neighbors=15 already exist. Loading...\n",
      "\n",
      "Running for n_neighbors=15, dimension=152...\n",
      "Embeddings for dimension 152 with n_neighbors=15 already exist. Loading...\n",
      "\n",
      "Running for n_neighbors=15, dimension=202...\n",
      "Embeddings for dimension 202 with n_neighbors=15 already exist. Loading...\n",
      "\n",
      "Running for n_neighbors=15, dimension=252...\n",
      "Embeddings for dimension 252 with n_neighbors=15 already exist. Loading...\n",
      "\n",
      "Running for n_neighbors=15, dimension=302...\n",
      "Embeddings for dimension 302 with n_neighbors=15 already exist. Loading...\n",
      "\n",
      "Running for n_neighbors=15, dimension=352...\n",
      "Embeddings for dimension 352 with n_neighbors=15 already exist. Loading...\n",
      "\n",
      "Running for n_neighbors=15, dimension=402...\n",
      "Embeddings for dimension 402 with n_neighbors=15 already exist. Loading...\n",
      "\n",
      "Running for n_neighbors=15, dimension=452...\n",
      "Embeddings for dimension 452 with n_neighbors=15 already exist. Loading...\n",
      "\n",
      "Running for n_neighbors=15, dimension=502...\n",
      "Embeddings for dimension 502 with n_neighbors=15 already exist. Loading...\n",
      "\n",
      "Running for n_neighbors=15, dimension=552...\n",
      "Embeddings for dimension 552 with n_neighbors=15 already exist. Loading...\n",
      "\n",
      "Running for n_neighbors=15, dimension=602...\n",
      "Embeddings for dimension 602 with n_neighbors=15 already exist. Loading...\n",
      "\n",
      "Running for n_neighbors=15, dimension=652...\n",
      "Embeddings for dimension 652 with n_neighbors=15 already exist. Loading...\n",
      "\n",
      "Running for n_neighbors=15, dimension=702...\n",
      "Embeddings for dimension 702 with n_neighbors=15 already exist. Loading...\n",
      "\n",
      "Running for n_neighbors=15, dimension=752...\n",
      "Embeddings for dimension 752 with n_neighbors=15 already exist. Loading...\n",
      "\n",
      "Running for n_neighbors=25, dimension=2...\n",
      "Embeddings for dimension 2 with n_neighbors=25 already exist. Loading...\n",
      "\n",
      "Running for n_neighbors=25, dimension=52...\n",
      "Embeddings for dimension 52 with n_neighbors=25 already exist. Loading...\n",
      "\n",
      "Running for n_neighbors=25, dimension=102...\n",
      "Embeddings for dimension 102 with n_neighbors=25 already exist. Loading...\n",
      "\n",
      "Running for n_neighbors=25, dimension=152...\n",
      "Embeddings for dimension 152 with n_neighbors=25 already exist. Loading...\n",
      "\n",
      "Running for n_neighbors=25, dimension=202...\n",
      "Embeddings for dimension 202 with n_neighbors=25 already exist. Loading...\n",
      "\n",
      "Running for n_neighbors=25, dimension=252...\n",
      "Embeddings for dimension 252 with n_neighbors=25 already exist. Loading...\n",
      "\n",
      "Running for n_neighbors=25, dimension=302...\n",
      "Embeddings for dimension 302 with n_neighbors=25 already exist. Loading...\n",
      "\n",
      "Running for n_neighbors=25, dimension=352...\n",
      "Embeddings for dimension 352 with n_neighbors=25 already exist. Loading...\n",
      "\n",
      "Running for n_neighbors=25, dimension=402...\n",
      "Embeddings for dimension 402 with n_neighbors=25 already exist. Loading...\n",
      "\n",
      "Running for n_neighbors=25, dimension=452...\n",
      "Embeddings for dimension 452 with n_neighbors=25 already exist. Loading...\n",
      "\n",
      "Running for n_neighbors=25, dimension=502...\n",
      "Embeddings for dimension 502 with n_neighbors=25 already exist. Loading...\n",
      "\n",
      "Running for n_neighbors=25, dimension=552...\n",
      "Embeddings for dimension 552 with n_neighbors=25 already exist. Loading...\n",
      "\n",
      "Running for n_neighbors=25, dimension=602...\n",
      "Embeddings for dimension 602 with n_neighbors=25 already exist. Loading...\n",
      "\n",
      "Running for n_neighbors=25, dimension=652...\n",
      "Embeddings for dimension 652 with n_neighbors=25 already exist. Loading...\n",
      "\n",
      "Running for n_neighbors=25, dimension=702...\n",
      "Embeddings for dimension 702 with n_neighbors=25 already exist. Loading...\n",
      "\n",
      "Running for n_neighbors=25, dimension=752...\n",
      "Embeddings for dimension 752 with n_neighbors=25 already exist. Loading...\n",
      "\n",
      "Running for n_neighbors=35, dimension=2...\n",
      "Embeddings for dimension 2 with n_neighbors=35 already exist. Loading...\n",
      "\n",
      "Running for n_neighbors=35, dimension=52...\n",
      "Embeddings for dimension 52 with n_neighbors=35 already exist. Loading...\n",
      "\n",
      "Running for n_neighbors=35, dimension=102...\n",
      "Embeddings for dimension 102 with n_neighbors=35 already exist. Loading...\n",
      "\n",
      "Running for n_neighbors=35, dimension=152...\n",
      "Embeddings for dimension 152 with n_neighbors=35 already exist. Loading...\n",
      "\n",
      "Running for n_neighbors=35, dimension=202...\n",
      "Embeddings for dimension 202 with n_neighbors=35 already exist. Loading...\n",
      "\n",
      "Running for n_neighbors=35, dimension=252...\n",
      "Embeddings for dimension 252 with n_neighbors=35 already exist. Loading...\n",
      "\n",
      "Running for n_neighbors=35, dimension=302...\n",
      "Embeddings for dimension 302 with n_neighbors=35 already exist. Loading...\n",
      "\n",
      "Running for n_neighbors=35, dimension=352...\n",
      "Embeddings for dimension 352 with n_neighbors=35 already exist. Loading...\n",
      "\n",
      "Running for n_neighbors=35, dimension=402...\n",
      "Embeddings for dimension 402 with n_neighbors=35 already exist. Loading...\n",
      "\n",
      "Running for n_neighbors=35, dimension=452...\n",
      "Embeddings for dimension 452 with n_neighbors=35 already exist. Loading...\n",
      "\n",
      "Running for n_neighbors=35, dimension=502...\n",
      "Embeddings for dimension 502 with n_neighbors=35 already exist. Loading...\n",
      "\n",
      "Running for n_neighbors=35, dimension=552...\n",
      "Embeddings for dimension 552 with n_neighbors=35 already exist. Loading...\n",
      "\n",
      "Running for n_neighbors=35, dimension=602...\n",
      "Embeddings for dimension 602 with n_neighbors=35 already exist. Loading...\n",
      "\n",
      "Running for n_neighbors=35, dimension=652...\n",
      "Embeddings for dimension 652 with n_neighbors=35 already exist. Loading...\n",
      "\n",
      "Running for n_neighbors=35, dimension=702...\n",
      "Embeddings for dimension 702 with n_neighbors=35 already exist. Loading...\n",
      "\n",
      "Running for n_neighbors=35, dimension=752...\n",
      "Embeddings for dimension 752 with n_neighbors=35 already exist. Loading...\n",
      "\n",
      "Running for n_neighbors=45, dimension=2...\n",
      "Embeddings for dimension 2 with n_neighbors=45 already exist. Loading...\n",
      "\n",
      "Running for n_neighbors=45, dimension=52...\n",
      "Embeddings for dimension 52 with n_neighbors=45 already exist. Loading...\n",
      "\n",
      "Running for n_neighbors=45, dimension=102...\n",
      "Embeddings for dimension 102 with n_neighbors=45 already exist. Loading...\n",
      "\n",
      "Running for n_neighbors=45, dimension=152...\n",
      "Embeddings for dimension 152 with n_neighbors=45 already exist. Loading...\n",
      "\n",
      "Running for n_neighbors=45, dimension=202...\n",
      "Embeddings for dimension 202 with n_neighbors=45 already exist. Loading...\n",
      "\n",
      "Running for n_neighbors=45, dimension=252...\n",
      "Embeddings for dimension 252 with n_neighbors=45 already exist. Loading...\n",
      "\n",
      "Running for n_neighbors=45, dimension=302...\n",
      "Embeddings for dimension 302 with n_neighbors=45 already exist. Loading...\n",
      "\n",
      "Running for n_neighbors=45, dimension=352...\n",
      "Embeddings for dimension 352 with n_neighbors=45 already exist. Loading...\n",
      "\n",
      "Running for n_neighbors=45, dimension=402...\n",
      "Embeddings for dimension 402 with n_neighbors=45 already exist. Loading...\n",
      "\n",
      "Running for n_neighbors=45, dimension=452...\n",
      "Embeddings for dimension 452 with n_neighbors=45 already exist. Loading...\n",
      "\n",
      "Running for n_neighbors=45, dimension=502...\n",
      "Embeddings for dimension 502 with n_neighbors=45 already exist. Loading...\n",
      "\n",
      "Running for n_neighbors=45, dimension=552...\n",
      "Embeddings for dimension 552 with n_neighbors=45 already exist. Loading...\n",
      "\n",
      "Running for n_neighbors=45, dimension=602...\n",
      "Embeddings for dimension 602 with n_neighbors=45 already exist. Loading...\n",
      "\n",
      "Running for n_neighbors=45, dimension=652...\n",
      "Embeddings for dimension 652 with n_neighbors=45 already exist. Loading...\n",
      "\n",
      "Running for n_neighbors=45, dimension=702...\n",
      "Embeddings for dimension 702 with n_neighbors=45 already exist. Loading...\n",
      "\n",
      "Running for n_neighbors=45, dimension=752...\n",
      "Embeddings for dimension 752 with n_neighbors=45 already exist. Loading...\n",
      "\n",
      "Running for n_neighbors=55, dimension=2...\n",
      "Embeddings for dimension 2 with n_neighbors=55 already exist. Loading...\n",
      "\n",
      "Running for n_neighbors=55, dimension=52...\n",
      "Embeddings for dimension 52 with n_neighbors=55 already exist. Loading...\n",
      "\n",
      "Running for n_neighbors=55, dimension=102...\n",
      "Embeddings for dimension 102 with n_neighbors=55 already exist. Loading...\n",
      "\n",
      "Running for n_neighbors=55, dimension=152...\n",
      "Embeddings for dimension 152 with n_neighbors=55 already exist. Loading...\n",
      "\n",
      "Running for n_neighbors=55, dimension=202...\n",
      "Embeddings for dimension 202 with n_neighbors=55 already exist. Loading...\n",
      "\n",
      "Running for n_neighbors=55, dimension=252...\n",
      "Embeddings for dimension 252 with n_neighbors=55 already exist. Loading...\n",
      "\n",
      "Running for n_neighbors=55, dimension=302...\n",
      "Embeddings for dimension 302 with n_neighbors=55 already exist. Loading...\n",
      "\n",
      "Running for n_neighbors=55, dimension=352...\n",
      "Embeddings for dimension 352 with n_neighbors=55 already exist. Loading...\n",
      "\n",
      "Running for n_neighbors=55, dimension=402...\n",
      "Embeddings for dimension 402 with n_neighbors=55 already exist. Loading...\n",
      "\n",
      "Running for n_neighbors=55, dimension=452...\n",
      "Embeddings for dimension 452 with n_neighbors=55 already exist. Loading...\n",
      "\n",
      "Running for n_neighbors=55, dimension=502...\n",
      "Embeddings for dimension 502 with n_neighbors=55 already exist. Loading...\n",
      "\n",
      "Running for n_neighbors=55, dimension=552...\n",
      "Embeddings for dimension 552 with n_neighbors=55 already exist. Loading...\n",
      "\n",
      "Running for n_neighbors=55, dimension=602...\n",
      "Embeddings for dimension 602 with n_neighbors=55 already exist. Loading...\n",
      "\n",
      "Running for n_neighbors=55, dimension=652...\n",
      "Embeddings for dimension 652 with n_neighbors=55 already exist. Loading...\n",
      "\n",
      "Running for n_neighbors=55, dimension=702...\n",
      "Embeddings for dimension 702 with n_neighbors=55 already exist. Loading...\n",
      "\n",
      "Running for n_neighbors=55, dimension=752...\n",
      "Embeddings for dimension 752 with n_neighbors=55 already exist. Loading...\n",
      "\n",
      "Running for n_neighbors=65, dimension=2...\n",
      "Embeddings for dimension 2 with n_neighbors=65 already exist. Loading...\n",
      "\n",
      "Running for n_neighbors=65, dimension=52...\n",
      "Embeddings for dimension 52 with n_neighbors=65 already exist. Loading...\n",
      "\n",
      "Running for n_neighbors=65, dimension=102...\n",
      "Embeddings for dimension 102 with n_neighbors=65 already exist. Loading...\n",
      "\n",
      "Running for n_neighbors=65, dimension=152...\n",
      "Embeddings for dimension 152 with n_neighbors=65 already exist. Loading...\n",
      "\n",
      "Running for n_neighbors=65, dimension=202...\n",
      "Embeddings for dimension 202 with n_neighbors=65 already exist. Loading...\n",
      "\n",
      "Running for n_neighbors=65, dimension=252...\n",
      "Embeddings for dimension 252 with n_neighbors=65 already exist. Loading...\n",
      "\n",
      "Running for n_neighbors=65, dimension=302...\n",
      "Embeddings for dimension 302 with n_neighbors=65 already exist. Loading...\n",
      "\n",
      "Running for n_neighbors=65, dimension=352...\n",
      "Embeddings for dimension 352 with n_neighbors=65 already exist. Loading...\n",
      "\n",
      "Running for n_neighbors=65, dimension=402...\n",
      "Embeddings for dimension 402 with n_neighbors=65 already exist. Loading...\n",
      "\n",
      "Running for n_neighbors=65, dimension=452...\n",
      "Embeddings for dimension 452 with n_neighbors=65 already exist. Loading...\n",
      "\n",
      "Running for n_neighbors=65, dimension=502...\n",
      "Embeddings for dimension 502 with n_neighbors=65 already exist. Loading...\n",
      "\n",
      "Running for n_neighbors=65, dimension=552...\n",
      "Embeddings for dimension 552 with n_neighbors=65 already exist. Loading...\n",
      "\n",
      "Running for n_neighbors=65, dimension=602...\n",
      "Embeddings for dimension 602 with n_neighbors=65 already exist. Loading...\n",
      "\n",
      "Running for n_neighbors=65, dimension=652...\n",
      "Embeddings for dimension 652 with n_neighbors=65 already exist. Loading...\n",
      "\n",
      "Running for n_neighbors=65, dimension=702...\n",
      "Embeddings for dimension 702 with n_neighbors=65 already exist. Loading...\n",
      "\n",
      "Running for n_neighbors=65, dimension=752...\n",
      "Embeddings for dimension 752 with n_neighbors=65 already exist. Loading...\n",
      "\n",
      "Running for n_neighbors=75, dimension=2...\n",
      "Embeddings for dimension 2 with n_neighbors=75 already exist. Loading...\n",
      "\n",
      "Running for n_neighbors=75, dimension=52...\n",
      "Embeddings for dimension 52 with n_neighbors=75 already exist. Loading...\n",
      "\n",
      "Running for n_neighbors=75, dimension=102...\n",
      "Embeddings for dimension 102 with n_neighbors=75 already exist. Loading...\n",
      "\n",
      "Running for n_neighbors=75, dimension=152...\n",
      "Embeddings for dimension 152 with n_neighbors=75 already exist. Loading...\n",
      "\n",
      "Running for n_neighbors=75, dimension=202...\n",
      "Embeddings for dimension 202 with n_neighbors=75 already exist. Loading...\n",
      "\n",
      "Running for n_neighbors=75, dimension=252...\n",
      "Embeddings for dimension 252 with n_neighbors=75 already exist. Loading...\n",
      "\n",
      "Running for n_neighbors=75, dimension=302...\n",
      "Embeddings for dimension 302 with n_neighbors=75 already exist. Loading...\n",
      "\n",
      "Running for n_neighbors=75, dimension=352...\n",
      "Embeddings for dimension 352 with n_neighbors=75 already exist. Loading...\n",
      "\n",
      "Running for n_neighbors=75, dimension=402...\n",
      "Embeddings for dimension 402 with n_neighbors=75 already exist. Loading...\n",
      "\n",
      "Running for n_neighbors=75, dimension=452...\n",
      "Embeddings for dimension 452 with n_neighbors=75 already exist. Loading...\n",
      "\n",
      "Running for n_neighbors=75, dimension=502...\n",
      "Embeddings for dimension 502 with n_neighbors=75 already exist. Loading...\n",
      "\n",
      "Running for n_neighbors=75, dimension=552...\n",
      "Embeddings for dimension 552 with n_neighbors=75 already exist. Loading...\n",
      "\n",
      "Running for n_neighbors=75, dimension=602...\n",
      "Embeddings for dimension 602 with n_neighbors=75 already exist. Loading...\n",
      "\n",
      "Running for n_neighbors=75, dimension=652...\n",
      "Embeddings for dimension 652 with n_neighbors=75 already exist. Loading...\n",
      "\n",
      "Running for n_neighbors=75, dimension=702...\n",
      "Embeddings for dimension 702 with n_neighbors=75 already exist. Loading...\n",
      "\n",
      "Running for n_neighbors=75, dimension=752...\n",
      "Embeddings for dimension 752 with n_neighbors=75 already exist. Loading...\n",
      "\n",
      "Running for n_neighbors=85, dimension=2...\n",
      "Embeddings for dimension 2 with n_neighbors=85 already exist. Loading...\n",
      "\n",
      "Running for n_neighbors=85, dimension=52...\n",
      "Embeddings for dimension 52 with n_neighbors=85 already exist. Loading...\n",
      "\n",
      "Running for n_neighbors=85, dimension=102...\n",
      "Embeddings for dimension 102 with n_neighbors=85 already exist. Loading...\n",
      "\n",
      "Running for n_neighbors=85, dimension=152...\n",
      "Embeddings for dimension 152 with n_neighbors=85 already exist. Loading...\n",
      "\n",
      "Running for n_neighbors=85, dimension=202...\n",
      "Embeddings for dimension 202 with n_neighbors=85 already exist. Loading...\n",
      "\n",
      "Running for n_neighbors=85, dimension=252...\n",
      "Embeddings for dimension 252 with n_neighbors=85 already exist. Loading...\n",
      "\n",
      "Running for n_neighbors=85, dimension=302...\n",
      "Embeddings for dimension 302 with n_neighbors=85 already exist. Loading...\n",
      "\n",
      "Running for n_neighbors=85, dimension=352...\n",
      "Embeddings for dimension 352 with n_neighbors=85 already exist. Loading...\n",
      "\n",
      "Running for n_neighbors=85, dimension=402...\n",
      "Embeddings for dimension 402 with n_neighbors=85 already exist. Loading...\n",
      "\n",
      "Running for n_neighbors=85, dimension=452...\n",
      "Embeddings for dimension 452 with n_neighbors=85 already exist. Loading...\n",
      "\n",
      "Running for n_neighbors=85, dimension=502...\n",
      "Embeddings for dimension 502 with n_neighbors=85 already exist. Loading...\n",
      "\n",
      "Running for n_neighbors=85, dimension=552...\n",
      "Embeddings for dimension 552 with n_neighbors=85 already exist. Loading...\n",
      "\n",
      "Running for n_neighbors=85, dimension=602...\n",
      "Embeddings for dimension 602 with n_neighbors=85 already exist. Loading...\n",
      "\n",
      "Running for n_neighbors=85, dimension=652...\n",
      "Embeddings for dimension 652 with n_neighbors=85 already exist. Loading...\n",
      "\n",
      "Running for n_neighbors=85, dimension=702...\n",
      "Embeddings for dimension 702 with n_neighbors=85 already exist. Loading...\n",
      "\n",
      "Running for n_neighbors=85, dimension=752...\n",
      "Embeddings for dimension 752 with n_neighbors=85 already exist. Loading...\n",
      "\n",
      "Running for n_neighbors=95, dimension=2...\n",
      "Embeddings for dimension 2 with n_neighbors=95 already exist. Loading...\n",
      "\n",
      "Running for n_neighbors=95, dimension=52...\n",
      "Embeddings for dimension 52 with n_neighbors=95 already exist. Loading...\n",
      "\n",
      "Running for n_neighbors=95, dimension=102...\n",
      "Embeddings for dimension 102 with n_neighbors=95 already exist. Loading...\n",
      "\n",
      "Running for n_neighbors=95, dimension=152...\n",
      "Embeddings for dimension 152 with n_neighbors=95 already exist. Loading...\n",
      "\n",
      "Running for n_neighbors=95, dimension=202...\n",
      "Embeddings for dimension 202 with n_neighbors=95 already exist. Loading...\n",
      "\n",
      "Running for n_neighbors=95, dimension=252...\n",
      "Embeddings for dimension 252 with n_neighbors=95 already exist. Loading...\n",
      "\n",
      "Running for n_neighbors=95, dimension=302...\n",
      "Embeddings for dimension 302 with n_neighbors=95 already exist. Loading...\n",
      "\n",
      "Running for n_neighbors=95, dimension=352...\n",
      "Embeddings for dimension 352 with n_neighbors=95 already exist. Loading...\n",
      "\n",
      "Running for n_neighbors=95, dimension=402...\n",
      "Embeddings for dimension 402 with n_neighbors=95 already exist. Loading...\n",
      "\n",
      "Running for n_neighbors=95, dimension=452...\n",
      "Embeddings for dimension 452 with n_neighbors=95 already exist. Loading...\n",
      "\n",
      "Running for n_neighbors=95, dimension=502...\n",
      "Embeddings for dimension 502 with n_neighbors=95 already exist. Loading...\n",
      "\n",
      "Running for n_neighbors=95, dimension=552...\n",
      "Embeddings for dimension 552 with n_neighbors=95 already exist. Loading...\n",
      "\n",
      "Running for n_neighbors=95, dimension=602...\n",
      "Embeddings for dimension 602 with n_neighbors=95 already exist. Loading...\n",
      "\n",
      "Running for n_neighbors=95, dimension=652...\n",
      "Embeddings for dimension 652 with n_neighbors=95 already exist. Loading...\n",
      "\n",
      "Running for n_neighbors=95, dimension=702...\n",
      "Embeddings for dimension 702 with n_neighbors=95 already exist. Loading...\n",
      "\n",
      "Running for n_neighbors=95, dimension=752...\n",
      "Embeddings for dimension 752 with n_neighbors=95 already exist. Loading...\n",
      "\n",
      "Saving dimension reduction experiment results...\n",
      "Results saved to data_storage/experiments/dim_reduct_experiment.csv\n"
     ]
    }
   ],
   "execution_count": 30
  },
  {
   "metadata": {
    "ExecuteTime": {
     "end_time": "2025-07-06T15:28:36.789791Z",
     "start_time": "2025-07-06T15:28:36.778618Z"
    }
   },
   "cell_type": "code",
   "source": "dimred_exp_results.head(3)",
   "id": "b62c33267a047b2e",
   "outputs": [
    {
     "data": {
      "text/plain": [
       "   n5d2  n5d52  n5d102  n5d152  n5d202  n5d252  n5d302  n5d352  n5d402  \\\n",
       "0   266    148     184     224     165     136     233      89     112   \n",
       "1   509    504     572      -1     593     582     573     571     630   \n",
       "2   131    402     232     287     405     469     262     426     414   \n",
       "\n",
       "   n5d452  ...  n95d402  n95d452  n95d502  n95d552  n95d602  n95d652  n95d702  \\\n",
       "0     162  ...      191      100      265      213      156      202      166   \n",
       "1     546  ...      507      549       -1       -1      453      573      375   \n",
       "2      -1  ...      486      422       -1      533       -1      491      470   \n",
       "\n",
       "   n95d752     id                                question  \n",
       "0      167  cea30        题目:图中标志提示前方道路的最高车速限制在50公里以下。答案:错  \n",
       "1      543  af3a1      题目:准驾车型为C1驾照的，可以驾驶以下哪种车辆？答案:低速载货汽车  \n",
       "2      515  ae845  题目:潮汐车道是可变车道，根据早晚交通流量情况，调整车道的行驶方向。答案:对  \n",
       "\n",
       "[3 rows x 162 columns]"
      ],
      "text/html": [
       "<div>\n",
       "<style scoped>\n",
       "    .dataframe tbody tr th:only-of-type {\n",
       "        vertical-align: middle;\n",
       "    }\n",
       "\n",
       "    .dataframe tbody tr th {\n",
       "        vertical-align: top;\n",
       "    }\n",
       "\n",
       "    .dataframe thead th {\n",
       "        text-align: right;\n",
       "    }\n",
       "</style>\n",
       "<table border=\"1\" class=\"dataframe\">\n",
       "  <thead>\n",
       "    <tr style=\"text-align: right;\">\n",
       "      <th></th>\n",
       "      <th>n5d2</th>\n",
       "      <th>n5d52</th>\n",
       "      <th>n5d102</th>\n",
       "      <th>n5d152</th>\n",
       "      <th>n5d202</th>\n",
       "      <th>n5d252</th>\n",
       "      <th>n5d302</th>\n",
       "      <th>n5d352</th>\n",
       "      <th>n5d402</th>\n",
       "      <th>n5d452</th>\n",
       "      <th>...</th>\n",
       "      <th>n95d402</th>\n",
       "      <th>n95d452</th>\n",
       "      <th>n95d502</th>\n",
       "      <th>n95d552</th>\n",
       "      <th>n95d602</th>\n",
       "      <th>n95d652</th>\n",
       "      <th>n95d702</th>\n",
       "      <th>n95d752</th>\n",
       "      <th>id</th>\n",
       "      <th>question</th>\n",
       "    </tr>\n",
       "  </thead>\n",
       "  <tbody>\n",
       "    <tr>\n",
       "      <th>0</th>\n",
       "      <td>266</td>\n",
       "      <td>148</td>\n",
       "      <td>184</td>\n",
       "      <td>224</td>\n",
       "      <td>165</td>\n",
       "      <td>136</td>\n",
       "      <td>233</td>\n",
       "      <td>89</td>\n",
       "      <td>112</td>\n",
       "      <td>162</td>\n",
       "      <td>...</td>\n",
       "      <td>191</td>\n",
       "      <td>100</td>\n",
       "      <td>265</td>\n",
       "      <td>213</td>\n",
       "      <td>156</td>\n",
       "      <td>202</td>\n",
       "      <td>166</td>\n",
       "      <td>167</td>\n",
       "      <td>cea30</td>\n",
       "      <td>题目:图中标志提示前方道路的最高车速限制在50公里以下。答案:错</td>\n",
       "    </tr>\n",
       "    <tr>\n",
       "      <th>1</th>\n",
       "      <td>509</td>\n",
       "      <td>504</td>\n",
       "      <td>572</td>\n",
       "      <td>-1</td>\n",
       "      <td>593</td>\n",
       "      <td>582</td>\n",
       "      <td>573</td>\n",
       "      <td>571</td>\n",
       "      <td>630</td>\n",
       "      <td>546</td>\n",
       "      <td>...</td>\n",
       "      <td>507</td>\n",
       "      <td>549</td>\n",
       "      <td>-1</td>\n",
       "      <td>-1</td>\n",
       "      <td>453</td>\n",
       "      <td>573</td>\n",
       "      <td>375</td>\n",
       "      <td>543</td>\n",
       "      <td>af3a1</td>\n",
       "      <td>题目:准驾车型为C1驾照的，可以驾驶以下哪种车辆？答案:低速载货汽车</td>\n",
       "    </tr>\n",
       "    <tr>\n",
       "      <th>2</th>\n",
       "      <td>131</td>\n",
       "      <td>402</td>\n",
       "      <td>232</td>\n",
       "      <td>287</td>\n",
       "      <td>405</td>\n",
       "      <td>469</td>\n",
       "      <td>262</td>\n",
       "      <td>426</td>\n",
       "      <td>414</td>\n",
       "      <td>-1</td>\n",
       "      <td>...</td>\n",
       "      <td>486</td>\n",
       "      <td>422</td>\n",
       "      <td>-1</td>\n",
       "      <td>533</td>\n",
       "      <td>-1</td>\n",
       "      <td>491</td>\n",
       "      <td>470</td>\n",
       "      <td>515</td>\n",
       "      <td>ae845</td>\n",
       "      <td>题目:潮汐车道是可变车道，根据早晚交通流量情况，调整车道的行驶方向。答案:对</td>\n",
       "    </tr>\n",
       "  </tbody>\n",
       "</table>\n",
       "<p>3 rows × 162 columns</p>\n",
       "</div>"
      ]
     },
     "execution_count": 32,
     "metadata": {},
     "output_type": "execute_result"
    }
   ],
   "execution_count": 32
  },
  {
   "metadata": {},
   "cell_type": "markdown",
   "source": "### ii) Analyze Results",
   "id": "c24ce1eaf80a83bb"
  },
  {
   "metadata": {},
   "cell_type": "markdown",
   "source": "Extract key metrics from the data into a dataframe.",
   "id": "7754d0f948c5f4ab"
  },
  {
   "metadata": {},
   "cell_type": "code",
   "outputs": [],
   "execution_count": null,
   "source": [
    "def analyze_dr_data(data: DataFrame) -> DataFrame:\n",
    "    \"\"\"\n",
    "    Set up a data frame with n_neighbours and dimensions as the first 2 columns, followed by\n",
    "    key metrics, such as:\n",
    "        - Number of clusters\n",
    "        - Number of outliers\n",
    "        - ...\n",
    "    \"\"\"\n",
    "    raise NotImplementedError"
   ],
   "id": "b622ca51b696b88e"
  }
 ],
 "metadata": {
  "kernelspec": {
   "display_name": "drivetest_tag_gen",
   "language": "python",
   "name": "drivetest_tag_gen"
  },
  "language_info": {
   "codemirror_mode": {
    "name": "ipython",
    "version": 3
   },
   "file_extension": ".py",
   "mimetype": "text/x-python",
   "name": "python",
   "nbconvert_exporter": "python",
   "pygments_lexer": "ipython3",
   "version": "3.13.5"
  }
 },
 "nbformat": 4,
 "nbformat_minor": 5
}
