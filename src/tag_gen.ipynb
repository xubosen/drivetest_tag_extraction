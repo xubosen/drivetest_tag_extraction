{
 "cells": [
  {
   "cell_type": "markdown",
   "id": "3b0af83a-da80-46b9-a0a8-4e70a3399c00",
   "metadata": {},
   "source": [
    "# Drive Test Tag Generation\n",
    "Generate tags for the written portion of the chinese driving exam using a process similar to BERTopic."
   ]
  },
  {
   "cell_type": "markdown",
   "id": "d2bf9df9-a4e7-4134-9652-6a522acf2189",
   "metadata": {},
   "source": [
    "## 1. Load Data\n",
    "Loading data from a local database into a question bank class."
   ]
  },
  {
   "metadata": {
    "ExecuteTime": {
     "end_time": "2025-07-15T15:33:31.303264Z",
     "start_time": "2025-07-15T15:33:31.296336Z"
    }
   },
   "cell_type": "code",
   "source": [
    "from src.qb.question_bank import QuestionBank\n",
    "from data_storage.database.json_database import LocalJsonDB"
   ],
   "id": "a9b70a7d29109633",
   "outputs": [],
   "execution_count": 1
  },
  {
   "cell_type": "code",
   "id": "76b55877-b5f6-4901-841d-4187a9511e0d",
   "metadata": {
    "ExecuteTime": {
     "end_time": "2025-07-15T15:33:31.608111Z",
     "start_time": "2025-07-15T15:33:31.438483Z"
    }
   },
   "source": [
    "db = LocalJsonDB(\"data_storage/database/json_db/data.json\",\n",
    "                 \"data_storage/database/json_db/images\")\n",
    "qb : QuestionBank = db.load()\n",
    "print(qb.question_count())"
   ],
   "outputs": [
    {
     "name": "stdout",
     "output_type": "stream",
     "text": [
      "2836\n"
     ]
    }
   ],
   "execution_count": 2
  },
  {
   "metadata": {},
   "cell_type": "markdown",
   "source": [
    "## 2. Format Data\n",
    "Although the Siglip2 model can handle images of different sizes, we will still standardize the image sizes to the same size to avoid unnecessary complications."
   ],
   "id": "7eebd6332bc9e58e"
  },
  {
   "metadata": {
    "ExecuteTime": {
     "end_time": "2025-07-15T15:33:31.653478Z",
     "start_time": "2025-07-15T15:33:31.624750Z"
    }
   },
   "cell_type": "code",
   "source": "from data_cleaning.img_reshaper import ImgSquarer",
   "id": "2a7bdf10bb9554ea",
   "outputs": [],
   "execution_count": 3
  },
  {
   "metadata": {
    "ExecuteTime": {
     "end_time": "2025-07-15T15:33:31.702608Z",
     "start_time": "2025-07-15T15:33:31.699153Z"
    }
   },
   "cell_type": "code",
   "source": [
    "IMG_DIR_256 = \"data_cleaning/resized_imgs/img256\"\n",
    "squarer_256 = ImgSquarer(256)"
   ],
   "id": "5d1b4ef6948dbabb",
   "outputs": [],
   "execution_count": 4
  },
  {
   "metadata": {
    "ExecuteTime": {
     "end_time": "2025-07-15T15:33:31.720090Z",
     "start_time": "2025-07-15T15:33:31.716715Z"
    }
   },
   "cell_type": "code",
   "source": [
    "def resize_images(qb: QuestionBank, squarer: ImgSquarer, new_dir: str) -> None:\n",
    "    for chapter_id in qb.list_chapters():\n",
    "        for qid in qb.get_qids_by_chapter(chapter_id):\n",
    "            question = qb.get_question(qid)\n",
    "            if question.get_img_path() is not None:\n",
    "                question.set_img_path(squarer.reshape(qid, qb.get_img_dir(), new_dir))"
   ],
   "id": "5e52674cb6084790",
   "outputs": [],
   "execution_count": 5
  },
  {
   "metadata": {
    "ExecuteTime": {
     "end_time": "2025-07-15T15:33:31.734686Z",
     "start_time": "2025-07-15T15:33:31.732319Z"
    }
   },
   "cell_type": "code",
   "source": "import os",
   "id": "710dd459b356977b",
   "outputs": [],
   "execution_count": 6
  },
  {
   "metadata": {
    "ExecuteTime": {
     "end_time": "2025-07-15T15:33:31.758031Z",
     "start_time": "2025-07-15T15:33:31.747627Z"
    }
   },
   "cell_type": "code",
   "source": [
    "# If the directory is empty, resize images.\n",
    "if not os.listdir(IMG_DIR_256):\n",
    "    print(\"Resizing images to 256x256...\")\n",
    "    resize_images(qb, squarer_256, IMG_DIR_256)\n",
    "else:\n",
    "    print(\"Images already resized to 256x256, skipping...\")"
   ],
   "id": "b4e6d53a53651c93",
   "outputs": [
    {
     "name": "stdout",
     "output_type": "stream",
     "text": [
      "Images already resized to 256x256, skipping...\n"
     ]
    }
   ],
   "execution_count": 7
  },
  {
   "metadata": {},
   "cell_type": "markdown",
   "source": [
    "## 3. Create Multimodal Embeddings\n",
    "Create multimodal embeddings for the questions using a Siglip2 model."
   ],
   "id": "9107061d51b64c55"
  },
  {
   "metadata": {
    "ExecuteTime": {
     "end_time": "2025-07-15T15:33:37.378338Z",
     "start_time": "2025-07-15T15:33:31.785683Z"
    }
   },
   "cell_type": "code",
   "source": [
    "# Library Imports\n",
    "from transformers import AutoModel, AutoProcessor\n",
    "\n",
    "# Local Imports\n",
    "from embedder.siglip2_qb_embedder import Siglip2QBEmbedder"
   ],
   "id": "21c02234f40c68ef",
   "outputs": [],
   "execution_count": 8
  },
  {
   "metadata": {},
   "cell_type": "markdown",
   "source": [
    "### a) Load/Download the Siglip2 Model\n",
    "We will be using \"google/siglip2-base-patch16-256\" for this task."
   ],
   "id": "1aec01c979cca317"
  },
  {
   "metadata": {
    "ExecuteTime": {
     "end_time": "2025-07-15T15:33:37.391455Z",
     "start_time": "2025-07-15T15:33:37.389059Z"
    }
   },
   "cell_type": "code",
   "source": "import torch",
   "id": "e7936f11c52f6e3e",
   "outputs": [],
   "execution_count": 9
  },
  {
   "metadata": {
    "ExecuteTime": {
     "end_time": "2025-07-15T15:33:50.335380Z",
     "start_time": "2025-07-15T15:33:37.403296Z"
    }
   },
   "cell_type": "code",
   "source": [
    "MODEL_NAME = \"google/siglip2-base-patch16-256\"\n",
    "model = AutoModel.from_pretrained(MODEL_NAME, torch_dtype=torch.float32, attn_implementation=\"sdpa\")\n",
    "processor = AutoProcessor.from_pretrained(MODEL_NAME, use_fast=True)"
   ],
   "id": "801a62831dd141bf",
   "outputs": [],
   "execution_count": 10
  },
  {
   "metadata": {},
   "cell_type": "markdown",
   "source": "### b) Create embeddings",
   "id": "68e3e08cc3a642eb"
  },
  {
   "metadata": {},
   "cell_type": "markdown",
   "source": "#### i) Define a logger",
   "id": "601cfc0d981abcf1"
  },
  {
   "metadata": {
    "ExecuteTime": {
     "end_time": "2025-07-15T15:33:51.804604Z",
     "start_time": "2025-07-15T15:33:51.799298Z"
    }
   },
   "cell_type": "code",
   "source": [
    "import logging\n",
    "from logging import Logger\n",
    "from datetime import datetime\n",
    "\n",
    "LOGGING_PATH = \"logs\"\n",
    "\n",
    "def get_logger(name: str) -> Logger:\n",
    "    # Create logger\n",
    "    logger = logging.getLogger(name)\n",
    "    logger.setLevel(logging.INFO) # Set the logging level\n",
    "\n",
    "    # Create a file handler with timestamp in filename\n",
    "    timestamp = datetime.now().strftime(\"%Y%m%d_%H%M\")\n",
    "    file_handler = logging.FileHandler(\n",
    "        os.path.join(LOGGING_PATH, f\"{name}_{timestamp}.log\")\n",
    "    )\n",
    "\n",
    "    # Create formatter\n",
    "    formatter = logging.Formatter(\n",
    "        '%(asctime)s - %(name)s - %(levelname)s - %(message)s'\n",
    "    )\n",
    "    file_handler.setFormatter(formatter)\n",
    "\n",
    "    # Add handler to logger\n",
    "    logger.addHandler(file_handler)\n",
    "\n",
    "    return logger\n",
    "\n",
    "embedder_logger = get_logger(\"embedder\")"
   ],
   "id": "c3d92e8a645cba3a",
   "outputs": [],
   "execution_count": 11
  },
  {
   "metadata": {},
   "cell_type": "markdown",
   "source": "#### ii) Create the embedder",
   "id": "3b4d7e4f38ef5344"
  },
  {
   "metadata": {
    "ExecuteTime": {
     "end_time": "2025-07-15T15:33:53.194409Z",
     "start_time": "2025-07-15T15:33:53.191303Z"
    }
   },
   "cell_type": "code",
   "source": "custom_embedder = Siglip2QBEmbedder(model, processor, embedder_logger)",
   "id": "7b3276b9dc473fd6",
   "outputs": [],
   "execution_count": 12
  },
  {
   "metadata": {},
   "cell_type": "markdown",
   "source": "#### iii) Generate embeddings",
   "id": "a6c1d319ac524873"
  },
  {
   "metadata": {
    "ExecuteTime": {
     "end_time": "2025-07-15T15:33:54.618074Z",
     "start_time": "2025-07-15T15:33:54.615485Z"
    }
   },
   "cell_type": "code",
   "source": "import numpy as np",
   "id": "3223e1f5b6d0482f",
   "outputs": [],
   "execution_count": 13
  },
  {
   "metadata": {
    "ExecuteTime": {
     "end_time": "2025-07-15T15:33:56.045043Z",
     "start_time": "2025-07-15T15:33:56.042006Z"
    }
   },
   "cell_type": "code",
   "source": [
    "def save_embeddings(embeddings, file_path):\n",
    "    np.savez(file_path, **{str(qid): embeddings[qid] for qid in embeddings})"
   ],
   "id": "fa0458e4d525756a",
   "outputs": [],
   "execution_count": 14
  },
  {
   "metadata": {
    "ExecuteTime": {
     "end_time": "2025-07-15T15:33:57.509136Z",
     "start_time": "2025-07-15T15:33:57.505190Z"
    }
   },
   "cell_type": "code",
   "source": [
    "EMBEDDING_FILE_NAME = \"data_storage/embedding_dir/siglip2_embeddings.npz\"\n",
    "if os.path.exists(EMBEDDING_FILE_NAME):\n",
    "    print(f\"Embeddings already exist at {EMBEDDING_FILE_NAME}, skipping generation.\")\n",
    "else:\n",
    "    print(\"Generating embeddings...\")\n",
    "    embeddings = custom_embedder.encode_qb(qb)\n",
    "\n",
    "    print(f\"Saving embeddings to {EMBEDDING_FILE_NAME}...\")\n",
    "    save_embeddings(embeddings, EMBEDDING_FILE_NAME)"
   ],
   "id": "73393130d3b64fcd",
   "outputs": [
    {
     "name": "stdout",
     "output_type": "stream",
     "text": [
      "Embeddings already exist at data_storage/embedding_dir/siglip2_embeddings.npz, skipping generation.\n"
     ]
    }
   ],
   "execution_count": 15
  },
  {
   "metadata": {},
   "cell_type": "markdown",
   "source": "## 4. Dimension Reduction",
   "id": "f8d344e935d31ec6"
  },
  {
   "metadata": {},
   "cell_type": "markdown",
   "source": "### a) Load Embeddings",
   "id": "4dd168213eb8a39b"
  },
  {
   "metadata": {
    "ExecuteTime": {
     "end_time": "2025-07-15T15:33:59.374043Z",
     "start_time": "2025-07-15T15:33:59.365720Z"
    }
   },
   "cell_type": "code",
   "source": [
    "def load_embeddings(file_path):\n",
    "    loaded = np.load(file_path)\n",
    "    return {key: loaded[key] for key in loaded.files}"
   ],
   "id": "c521938a9f801a23",
   "outputs": [],
   "execution_count": 16
  },
  {
   "metadata": {
    "ExecuteTime": {
     "end_time": "2025-07-15T15:34:02.060131Z",
     "start_time": "2025-07-15T15:34:01.576656Z"
    }
   },
   "cell_type": "code",
   "source": "id_to_embedding = load_embeddings(EMBEDDING_FILE_NAME)",
   "id": "350c58c98f0e98cb",
   "outputs": [],
   "execution_count": 17
  },
  {
   "metadata": {
    "ExecuteTime": {
     "end_time": "2025-07-15T15:34:03.467494Z",
     "start_time": "2025-07-15T15:34:03.464729Z"
    }
   },
   "cell_type": "code",
   "source": [
    "from typing import List\n",
    "\n",
    "from embedder.siglip2_qb_embedder import format_question"
   ],
   "id": "4917a450667c3f9f",
   "outputs": [],
   "execution_count": 18
  },
  {
   "metadata": {
    "ExecuteTime": {
     "end_time": "2025-07-15T15:34:04.912273Z",
     "start_time": "2025-07-15T15:34:04.907401Z"
    }
   },
   "cell_type": "code",
   "source": [
    "def format_for_clustering(id_to_embedding: dict, qb: QuestionBank) -> (List[str], List[str], np.ndarray):\n",
    "    \"\"\"\n",
    "    Format the embeddings for clustering.\n",
    "    \"\"\"\n",
    "    qid_lst: List[str] = []\n",
    "    documents: List[str] = []\n",
    "    embedding_lst: List[np.ndarray] = []\n",
    "\n",
    "    qid_to_chapter = {}\n",
    "    for chapter_id in qb.list_chapters():\n",
    "        for qid in qb.get_qids_by_chapter(chapter_id):\n",
    "            qid_lst.append(qid)\n",
    "            qid_to_chapter[qid] = chapter_id\n",
    "    qid_lst.sort()\n",
    "\n",
    "    for qid in qid_lst:\n",
    "        documents.append(\n",
    "            format_question(qb.get_question(qid), qb.describe_chapter(\n",
    "                qid_to_chapter[qid])))\n",
    "        embedding_lst.append(id_to_embedding[qid])\n",
    "\n",
    "    embedding_array = np.array(embedding_lst)\n",
    "    return qid_lst, documents, embedding_array"
   ],
   "id": "d9469e155cb15bbb",
   "outputs": [],
   "execution_count": 19
  },
  {
   "metadata": {
    "ExecuteTime": {
     "end_time": "2025-07-15T15:34:06.373372Z",
     "start_time": "2025-07-15T15:34:06.362585Z"
    }
   },
   "cell_type": "code",
   "source": [
    "qid_lst, documents, embeds = format_for_clustering(id_to_embedding, qb)\n",
    "print(f\"Number of questions: {len(qid_lst)} \"\n",
    "      f\"Embedding shape: {embeds.shape}\")"
   ],
   "id": "158b6357d70c9e6a",
   "outputs": [
    {
     "name": "stdout",
     "output_type": "stream",
     "text": [
      "Number of questions: 2836 Embedding shape: (2836, 768)\n"
     ]
    }
   ],
   "execution_count": 20
  },
  {
   "metadata": {
    "ExecuteTime": {
     "end_time": "2025-07-15T15:37:49.783397Z",
     "start_time": "2025-07-15T15:37:49.777819Z"
    }
   },
   "cell_type": "code",
   "source": "documents[1500:1510]  # Display the first few documents to verify formatting",
   "id": "6fe21b3805ae0bce",
   "outputs": [
    {
     "data": {
      "text/plain": [
       "['章节:交通信号 题目:如图所示，驾驶机动车行驶至铁路道口时，以下做法正确的是什么？ 答案:停车等待',\n",
       " '章节:摩托车专用试题 题目:这个标志是何含义？ 答案:村庄或集镇',\n",
       " '章节:道路交通安全法律、法规和规章 题目:申请人以欺骗、贿赂等不正当手段取得校车驾驶资格的，处两千元以下罚款，申请人在三年内不得再次申请校车驾驶资格。 答案:对',\n",
       " '章节:交通信号 题目:以下哪个交通标志表示该道路仅供非机动车与行人通行，机动车不准进入? 答案:图D',\n",
       " '章节:交通信号 题目:图中这组交警手势是什么信号？ 答案:左转弯待转信号',\n",
       " '章节:交通信号 题目:这个标志是何含义？ 答案:步行',\n",
       " '章节:货车专用试题 题目:以下缩写中，表示车辆车道偏离预警系统缩写的是什么？ 答案:LDW',\n",
       " '章节:道路交通安全法律、法规和规章 题目:机动车驾驶人申请学法减分时，参加交通安全公益活动满一小时的，可扣减几分？ 答案:1分',\n",
       " '章节:交通信号 题目:如图所示，蓝色小型客车（C）行驶车道是正确的。 答案:对',\n",
       " '章节:摩托车专用试题 题目:会车中道路一侧有障碍，双方机动车应如何做？ 答案:有障碍的一方让对向先行']"
      ]
     },
     "execution_count": 31,
     "metadata": {},
     "output_type": "execute_result"
    }
   ],
   "execution_count": 31
  },
  {
   "metadata": {},
   "cell_type": "markdown",
   "source": [
    "### b) Set up dimension reduction model\n",
    "We will be using UMAP for dimension reduction."
   ],
   "id": "1fbf3eb18a15ac7b"
  },
  {
   "metadata": {
    "ExecuteTime": {
     "end_time": "2025-07-15T15:34:13.497797Z",
     "start_time": "2025-07-15T15:34:09.325297Z"
    }
   },
   "cell_type": "code",
   "source": [
    "from umap import UMAP\n",
    "def dim_reduction(dimensions: int, n_neighbors: int, embeddings: np.ndarray) -> np.ndarray:\n",
    "    umap_model = UMAP(\n",
    "        n_components=dimensions,\n",
    "        metric='euclidean',\n",
    "        n_neighbors=n_neighbors,\n",
    "        min_dist=0.0\n",
    "    )\n",
    "    return umap_model.fit_transform(embeddings)"
   ],
   "id": "f8f78fce0d067b1b",
   "outputs": [],
   "execution_count": 22
  },
  {
   "metadata": {
    "ExecuteTime": {
     "end_time": "2025-07-15T15:34:14.971345Z",
     "start_time": "2025-07-15T15:34:14.967012Z"
    }
   },
   "cell_type": "code",
   "source": [
    "def get_reduced(dimension: int, n_neighbors: int, embeddings: np.ndarray, make_new: bool = False) -> np.ndarray:\n",
    "    path = f\"data_storage/embedding_dir/rdc_embeds_n{n_neighbors}d{dimension}.npz\"\n",
    "    if not os.path.exists(path) or make_new:\n",
    "        rdc_embeds = dim_reduction(dimension, n_neighbors, embeddings)\n",
    "        np.savez(path, embeddings=rdc_embeds)\n",
    "    else:\n",
    "        rdc_embeds = np.load(path)['embeddings']\n",
    "    return rdc_embeds"
   ],
   "id": "5989827570459b6e",
   "outputs": [],
   "execution_count": 23
  },
  {
   "metadata": {},
   "cell_type": "markdown",
   "source": "## 5. Clustering\n",
   "id": "345e9ec83eeca528"
  },
  {
   "metadata": {},
   "cell_type": "markdown",
   "source": "Generate a small representative sample of the question bank by clustering the questions and selecting representative questions from each cluster.",
   "id": "58bd3bc4c40872a7"
  },
  {
   "metadata": {},
   "cell_type": "markdown",
   "source": "### a) Set up clustering model",
   "id": "c952c674ec461cf8"
  },
  {
   "metadata": {
    "ExecuteTime": {
     "end_time": "2025-07-15T15:34:16.569087Z",
     "start_time": "2025-07-15T15:34:16.405754Z"
    }
   },
   "cell_type": "code",
   "source": [
    "from sklearn.cluster import HDBSCAN\n",
    "def cluster_embeddings(embeddings: np.ndarray) -> np.ndarray:\n",
    "    \"\"\"\n",
    "    Cluster the embeddings using HDBSCAN.\n",
    "\n",
    "    Args:\n",
    "        embeddings: Embeddings array with shape (n_samples, n_features)\n",
    "\n",
    "    Returns:\n",
    "        Cluster labels for each embedding\n",
    "    \"\"\"\n",
    "    clusterer = HDBSCAN(min_cluster_size=2, metric='euclidean', min_samples=1, cluster_selection_method=\"leaf\", cluster_selection_epsilon=0.15, allow_single_cluster=True)\n",
    "    return clusterer.fit_predict(embeddings)"
   ],
   "id": "684713f810028a25",
   "outputs": [],
   "execution_count": 24
  },
  {
   "metadata": {},
   "cell_type": "markdown",
   "source": [
    "### b) Tune Hyperparameters\n",
    "Find optimal hyperparameters\n",
    "#### i) Set up experiments trying a range of hyperparameters"
   ],
   "id": "49c13f6845e6018"
  },
  {
   "metadata": {
    "ExecuteTime": {
     "end_time": "2025-07-15T15:34:17.997690Z",
     "start_time": "2025-07-15T15:34:17.995042Z"
    }
   },
   "cell_type": "code",
   "source": "from pandas import DataFrame",
   "id": "e272fa7d8af0f63e",
   "outputs": [],
   "execution_count": 25
  },
  {
   "metadata": {
    "ExecuteTime": {
     "end_time": "2025-07-15T15:34:19.462055Z",
     "start_time": "2025-07-15T15:34:19.458079Z"
    }
   },
   "cell_type": "code",
   "source": [
    "def make_topics(dimension: int, n_neighbors: int, qid_lst: List[str], docs: List[str], embeddings: np.ndarray) -> DataFrame:\n",
    "    \"\"\"\n",
    "    A pipeline that takes in the dimension and n_neighbors, then performs dimension reduction and clustering using those hyperparameters on docs.\n",
    "    \"\"\"\n",
    "    topic_labels = cluster_embeddings(get_reduced(dimension, n_neighbors, embeddings))\n",
    "    return DataFrame({\n",
    "        \"topic\" : topic_labels,\n",
    "        \"qid\": qid_lst,\n",
    "        \"question\": docs\n",
    "    })"
   ],
   "id": "a4b8bb83b92c6db2",
   "outputs": [],
   "execution_count": 26
  },
  {
   "metadata": {
    "ExecuteTime": {
     "end_time": "2025-07-15T15:34:20.888101Z",
     "start_time": "2025-07-15T15:34:20.885240Z"
    }
   },
   "cell_type": "code",
   "source": [
    "from typing import Tuple\n",
    "from ipywidgets import IntProgress, Label, HBox\n",
    "from IPython.display import display"
   ],
   "id": "7d7ef6d5d0fdb08b",
   "outputs": [],
   "execution_count": 27
  },
  {
   "metadata": {
    "ExecuteTime": {
     "end_time": "2025-07-15T04:07:30.074182Z",
     "start_time": "2025-07-15T04:07:30.068968Z"
    }
   },
   "cell_type": "code",
   "source": [
    "def dimred_experiment(qid_lst: List[str], questions: List[str], embeddings: np.ndarray, n_d_pairs: List[Tuple[int]]) -> DataFrame:\n",
    "    \"\"\"\n",
    "    An experiment to find the optimal hyperparameters for dimension reduction (dimensions and n_neighbors).\n",
    "\n",
    "    With a fixed clustering method, we will vary the dimensions and n_neighbors to see how it affects the outlier count.\n",
    "    \"\"\"\n",
    "\n",
    "    cur, total = 0, len(n_d_pairs)\n",
    "    progress_bar = IntProgress(min=0, max=total, description='Progress:')\n",
    "    progress_label = Label(f'0/{total} complete')\n",
    "    progress_box = HBox([progress_bar, progress_label])\n",
    "    display(progress_box)\n",
    "\n",
    "    result_dict = {\n",
    "        \"qid\": qid_lst,\n",
    "        \"question\": questions\n",
    "    }\n",
    "    for n_neighbors, dimension in n_d_pairs:\n",
    "        progress_label.value = f\"{cur}/{total} complete. Calculating n = {n_neighbors}, d = {dimension}...\"\n",
    "\n",
    "        column_name = f\"n{n_neighbors}d{dimension}\"\n",
    "        result_dict[column_name] = cluster_embeddings(get_reduced(dimension, n_neighbors, embeddings))\n",
    "\n",
    "        cur += 1\n",
    "        progress_bar.value += 1\n",
    "    progress_label.value = \"Experiment complete!\"\n",
    "    return DataFrame(result_dict)"
   ],
   "id": "436352498f8ee0b2",
   "outputs": [],
   "execution_count": 28
  },
  {
   "metadata": {
    "ExecuteTime": {
     "end_time": "2025-07-15T04:07:31.556420Z",
     "start_time": "2025-07-15T04:07:31.554093Z"
    }
   },
   "cell_type": "code",
   "source": [
    "import pandas as pd\n",
    "import warnings"
   ],
   "id": "39346c793efa1c08",
   "outputs": [],
   "execution_count": 29
  },
  {
   "metadata": {
    "ExecuteTime": {
     "end_time": "2025-07-15T04:33:02.397721Z",
     "start_time": "2025-07-15T04:07:33.046077Z"
    }
   },
   "cell_type": "code",
   "source": [
    "DIMRED_EXPR1_PATH = \"data_storage/experiments/dimension_reduction_experiment1.csv\"\n",
    "if not os.path.exists(DIMRED_EXPR1_PATH):\n",
    "    with warnings.catch_warnings():\n",
    "        warnings.simplefilter(\"ignore\")\n",
    "\n",
    "        n_d_pairs = [(n, d) for n in range(2, 767, 100) for d in range(2, 767, 100)]\n",
    "        results = dimred_experiment(qid_lst=qid_lst,\n",
    "                                    questions=documents,\n",
    "                                    embeddings=embeds,\n",
    "                                    n_d_pairs=n_d_pairs)\n",
    "        results.to_csv(DIMRED_EXPR1_PATH, index=False)\n",
    "        dimred_exp1_results = results\n",
    "else:\n",
    "    print(f\"Results already exist at {DIMRED_EXPR1_PATH}. Loading results from file...\")\n",
    "    dimred_exp1_results = pd.read_csv(DIMRED_EXPR1_PATH)"
   ],
   "id": "214d8889d50872e7",
   "outputs": [
    {
     "data": {
      "text/plain": [
       "HBox(children=(IntProgress(value=0, description='Progress:', max=64), Label(value='0/64 complete')))"
      ],
      "application/vnd.jupyter.widget-view+json": {
       "version_major": 2,
       "version_minor": 0,
       "model_id": "306d6996242e474fad8ac9b693de19dc"
      }
     },
     "metadata": {},
     "output_type": "display_data"
    }
   ],
   "execution_count": 30
  },
  {
   "metadata": {
    "ExecuteTime": {
     "end_time": "2025-07-15T04:33:06.406480Z",
     "start_time": "2025-07-15T04:33:06.393927Z"
    }
   },
   "cell_type": "code",
   "source": [
    "combined_results = dimred_exp1_results\n",
    "print(combined_results.shape)"
   ],
   "id": "ac482d94f03281",
   "outputs": [
    {
     "name": "stdout",
     "output_type": "stream",
     "text": [
      "(2836, 66)\n"
     ]
    }
   ],
   "execution_count": 31
  },
  {
   "metadata": {},
   "cell_type": "markdown",
   "source": "#### ii) Analyze Results",
   "id": "c24ce1eaf80a83bb"
  },
  {
   "metadata": {},
   "cell_type": "markdown",
   "source": "Extract key metrics from the data into a dataframe.",
   "id": "7754d0f948c5f4ab"
  },
  {
   "metadata": {
    "ExecuteTime": {
     "end_time": "2025-07-15T04:33:09.498149Z",
     "start_time": "2025-07-15T04:33:09.492613Z"
    }
   },
   "cell_type": "code",
   "source": [
    "def extract_n_d(col_name: str) -> (int, int):\n",
    "    \"\"\"\n",
    "    Extract n_neighbors and dimensions from the column name.\n",
    "    \"\"\"\n",
    "    parts = col_name.split(\"d\")\n",
    "    n_neighbors = int(parts[0][1:])  # Remove 'n' and convert to int\n",
    "    dimensions = int(parts[1])  # Convert to int\n",
    "    return n_neighbors, dimensions"
   ],
   "id": "515f22e2b9aa6f36",
   "outputs": [],
   "execution_count": 32
  },
  {
   "metadata": {
    "ExecuteTime": {
     "end_time": "2025-07-15T04:33:12.280628Z",
     "start_time": "2025-07-15T04:33:12.273875Z"
    }
   },
   "cell_type": "code",
   "source": [
    "def analyze_dimred_data(data: DataFrame) -> DataFrame:\n",
    "    \"\"\"\n",
    "    Set up a data frame with n_neighbours and dimensions as the first 2 columns, followed by\n",
    "    key metrics, such as:\n",
    "        - Number of clusters\n",
    "        - Number of outliers\n",
    "        - ...\n",
    "    \"\"\"\n",
    "    metrics = {\n",
    "        \"n_neighbors\": [],\n",
    "        \"dimensions\": [],\n",
    "        \"num_clusters\": [],\n",
    "        \"num_outliers\": []\n",
    "    }\n",
    "    for col in data.columns:\n",
    "        if col.startswith(\"n\") and \"d\" in col:\n",
    "            n_neighbors, dimensions = extract_n_d(col)\n",
    "            metrics[\"n_neighbors\"].append(n_neighbors)\n",
    "            metrics[\"dimensions\"].append(dimensions)\n",
    "            metrics[\"num_clusters\"].append(data[col].nunique())\n",
    "            metrics[\"num_outliers\"].append((data[col] == -1).sum())\n",
    "    return DataFrame(metrics)"
   ],
   "id": "b622ca51b696b88e",
   "outputs": [],
   "execution_count": 33
  },
  {
   "metadata": {
    "ExecuteTime": {
     "end_time": "2025-07-15T04:33:15.152586Z",
     "start_time": "2025-07-15T04:33:14.996607Z"
    }
   },
   "cell_type": "code",
   "source": "import plotly.express as px",
   "id": "aec6f91e7d77c53a",
   "outputs": [],
   "execution_count": 34
  },
  {
   "metadata": {
    "ExecuteTime": {
     "end_time": "2025-07-15T04:33:17.831164Z",
     "start_time": "2025-07-15T04:33:17.824735Z"
    }
   },
   "cell_type": "code",
   "source": [
    "def interactive_plot3d(df, z_metric, size=(1600, 800)):\n",
    "    \"\"\"\n",
    "    Creates an interactive 3D plot using Plotly.\n",
    "\n",
    "    Parameters:\n",
    "    -----------\n",
    "    df : DataFrame\n",
    "        DataFrame with 'n_neighbors', 'dimensions', and z_metric\n",
    "    z_metric : str\n",
    "        Column name to use for z-axis values\n",
    "    size : tuple, optional\n",
    "        Figure size in pixels\n",
    "    \"\"\"\n",
    "    fig = px.scatter_3d(\n",
    "        df,\n",
    "        x='n_neighbors',\n",
    "        y='dimensions',\n",
    "        z=z_metric,\n",
    "        color=z_metric,\n",
    "        color_continuous_scale='Viridis',\n",
    "        range_color=(df[z_metric].min(), df[z_metric].max()),\n",
    "        title=f'3D Plot of {z_metric} by n_neighbors and dimensions'\n",
    "    )\n",
    "    fig.update_traces(marker=dict(size=6))\n",
    "    fig.update_layout(\n",
    "        width=size[0],\n",
    "        height=size[1],\n",
    "        scene=dict(\n",
    "            xaxis_title='n_neighbors',\n",
    "            yaxis_title='dimensions',\n",
    "            zaxis_title=z_metric\n",
    "        ),\n",
    "        coloraxis_colorbar=dict(\n",
    "            title=z_metric,\n",
    "            len=0.75\n",
    "        )\n",
    "    )\n",
    "    return fig"
   ],
   "id": "cb52ed966ee4b6e7",
   "outputs": [],
   "execution_count": 35
  },
  {
   "metadata": {},
   "cell_type": "markdown",
   "source": "Examine number of clusters",
   "id": "161a2e21af5927db"
  },
  {
   "metadata": {
    "ExecuteTime": {
     "end_time": "2025-07-15T04:33:20.878418Z",
     "start_time": "2025-07-15T04:33:20.446749Z"
    }
   },
   "cell_type": "code",
   "source": [
    "metrics = analyze_dimred_data(combined_results)\n",
    "fig = interactive_plot3d(metrics, z_metric='num_clusters')\n",
    "fig.show()"
   ],
   "id": "99a7b104733a732c",
   "outputs": [
    {
     "data": {
      "application/vnd.plotly.v1+json": {
       "data": [
        {
         "hovertemplate": "n_neighbors=%{x}<br>dimensions=%{y}<br>num_clusters=%{marker.color}<extra></extra>",
         "legendgroup": "",
         "marker": {
          "color": {
           "dtype": "i2",
           "bdata": "aAKJApkCtwL+AtoBQgAMABkAeABzAHYAhgB0AHcAdAAZAIEAgQCHAIYAjQCPAHkAFwCOALUAqgC2AKEAngCWABIAoQCxALYAugCpAKsAvgASALYAuwDOAMIA0AC7AL8ADQDWAM8A0QDOANQAzwDDABUAygDSAOcAxwDPAM4AygA="
          },
          "coloraxis": "coloraxis",
          "symbol": "circle",
          "size": 6
         },
         "mode": "markers",
         "name": "",
         "scene": "scene",
         "showlegend": false,
         "x": {
          "dtype": "i2",
          "bdata": "AgACAAIAAgACAAIAAgACAGYAZgBmAGYAZgBmAGYAZgDKAMoAygDKAMoAygDKAMoALgEuAS4BLgEuAS4BLgEuAZIBkgGSAZIBkgGSAZIBkgH2AfYB9gH2AfYB9gH2AfYBWgJaAloCWgJaAloCWgJaAr4CvgK+Ar4CvgK+Ar4CvgI="
         },
         "y": {
          "dtype": "i2",
          "bdata": "AgBmAMoALgGSAfYBWgK+AgIAZgDKAC4BkgH2AVoCvgICAGYAygAuAZIB9gFaAr4CAgBmAMoALgGSAfYBWgK+AgIAZgDKAC4BkgH2AVoCvgICAGYAygAuAZIB9gFaAr4CAgBmAMoALgGSAfYBWgK+AgIAZgDKAC4BkgH2AVoCvgI="
         },
         "z": {
          "dtype": "i2",
          "bdata": "aAKJApkCtwL+AtoBQgAMABkAeABzAHYAhgB0AHcAdAAZAIEAgQCHAIYAjQCPAHkAFwCOALUAqgC2AKEAngCWABIAoQCxALYAugCpAKsAvgASALYAuwDOAMIA0AC7AL8ADQDWAM8A0QDOANQAzwDDABUAygDSAOcAxwDPAM4AygA="
         },
         "type": "scatter3d"
        }
       ],
       "layout": {
        "template": {
         "data": {
          "histogram2dcontour": [
           {
            "type": "histogram2dcontour",
            "colorbar": {
             "outlinewidth": 0,
             "ticks": ""
            },
            "colorscale": [
             [
              0.0,
              "#0d0887"
             ],
             [
              0.1111111111111111,
              "#46039f"
             ],
             [
              0.2222222222222222,
              "#7201a8"
             ],
             [
              0.3333333333333333,
              "#9c179e"
             ],
             [
              0.4444444444444444,
              "#bd3786"
             ],
             [
              0.5555555555555556,
              "#d8576b"
             ],
             [
              0.6666666666666666,
              "#ed7953"
             ],
             [
              0.7777777777777778,
              "#fb9f3a"
             ],
             [
              0.8888888888888888,
              "#fdca26"
             ],
             [
              1.0,
              "#f0f921"
             ]
            ]
           }
          ],
          "choropleth": [
           {
            "type": "choropleth",
            "colorbar": {
             "outlinewidth": 0,
             "ticks": ""
            }
           }
          ],
          "histogram2d": [
           {
            "type": "histogram2d",
            "colorbar": {
             "outlinewidth": 0,
             "ticks": ""
            },
            "colorscale": [
             [
              0.0,
              "#0d0887"
             ],
             [
              0.1111111111111111,
              "#46039f"
             ],
             [
              0.2222222222222222,
              "#7201a8"
             ],
             [
              0.3333333333333333,
              "#9c179e"
             ],
             [
              0.4444444444444444,
              "#bd3786"
             ],
             [
              0.5555555555555556,
              "#d8576b"
             ],
             [
              0.6666666666666666,
              "#ed7953"
             ],
             [
              0.7777777777777778,
              "#fb9f3a"
             ],
             [
              0.8888888888888888,
              "#fdca26"
             ],
             [
              1.0,
              "#f0f921"
             ]
            ]
           }
          ],
          "heatmap": [
           {
            "type": "heatmap",
            "colorbar": {
             "outlinewidth": 0,
             "ticks": ""
            },
            "colorscale": [
             [
              0.0,
              "#0d0887"
             ],
             [
              0.1111111111111111,
              "#46039f"
             ],
             [
              0.2222222222222222,
              "#7201a8"
             ],
             [
              0.3333333333333333,
              "#9c179e"
             ],
             [
              0.4444444444444444,
              "#bd3786"
             ],
             [
              0.5555555555555556,
              "#d8576b"
             ],
             [
              0.6666666666666666,
              "#ed7953"
             ],
             [
              0.7777777777777778,
              "#fb9f3a"
             ],
             [
              0.8888888888888888,
              "#fdca26"
             ],
             [
              1.0,
              "#f0f921"
             ]
            ]
           }
          ],
          "contourcarpet": [
           {
            "type": "contourcarpet",
            "colorbar": {
             "outlinewidth": 0,
             "ticks": ""
            }
           }
          ],
          "contour": [
           {
            "type": "contour",
            "colorbar": {
             "outlinewidth": 0,
             "ticks": ""
            },
            "colorscale": [
             [
              0.0,
              "#0d0887"
             ],
             [
              0.1111111111111111,
              "#46039f"
             ],
             [
              0.2222222222222222,
              "#7201a8"
             ],
             [
              0.3333333333333333,
              "#9c179e"
             ],
             [
              0.4444444444444444,
              "#bd3786"
             ],
             [
              0.5555555555555556,
              "#d8576b"
             ],
             [
              0.6666666666666666,
              "#ed7953"
             ],
             [
              0.7777777777777778,
              "#fb9f3a"
             ],
             [
              0.8888888888888888,
              "#fdca26"
             ],
             [
              1.0,
              "#f0f921"
             ]
            ]
           }
          ],
          "surface": [
           {
            "type": "surface",
            "colorbar": {
             "outlinewidth": 0,
             "ticks": ""
            },
            "colorscale": [
             [
              0.0,
              "#0d0887"
             ],
             [
              0.1111111111111111,
              "#46039f"
             ],
             [
              0.2222222222222222,
              "#7201a8"
             ],
             [
              0.3333333333333333,
              "#9c179e"
             ],
             [
              0.4444444444444444,
              "#bd3786"
             ],
             [
              0.5555555555555556,
              "#d8576b"
             ],
             [
              0.6666666666666666,
              "#ed7953"
             ],
             [
              0.7777777777777778,
              "#fb9f3a"
             ],
             [
              0.8888888888888888,
              "#fdca26"
             ],
             [
              1.0,
              "#f0f921"
             ]
            ]
           }
          ],
          "mesh3d": [
           {
            "type": "mesh3d",
            "colorbar": {
             "outlinewidth": 0,
             "ticks": ""
            }
           }
          ],
          "scatter": [
           {
            "marker": {
             "line": {
              "color": "#283442"
             }
            },
            "type": "scatter"
           }
          ],
          "parcoords": [
           {
            "type": "parcoords",
            "line": {
             "colorbar": {
              "outlinewidth": 0,
              "ticks": ""
             }
            }
           }
          ],
          "scatterpolargl": [
           {
            "type": "scatterpolargl",
            "marker": {
             "colorbar": {
              "outlinewidth": 0,
              "ticks": ""
             }
            }
           }
          ],
          "bar": [
           {
            "error_x": {
             "color": "#f2f5fa"
            },
            "error_y": {
             "color": "#f2f5fa"
            },
            "marker": {
             "line": {
              "color": "rgb(17,17,17)",
              "width": 0.5
             },
             "pattern": {
              "fillmode": "overlay",
              "size": 10,
              "solidity": 0.2
             }
            },
            "type": "bar"
           }
          ],
          "scattergeo": [
           {
            "type": "scattergeo",
            "marker": {
             "colorbar": {
              "outlinewidth": 0,
              "ticks": ""
             }
            }
           }
          ],
          "scatterpolar": [
           {
            "type": "scatterpolar",
            "marker": {
             "colorbar": {
              "outlinewidth": 0,
              "ticks": ""
             }
            }
           }
          ],
          "histogram": [
           {
            "marker": {
             "pattern": {
              "fillmode": "overlay",
              "size": 10,
              "solidity": 0.2
             }
            },
            "type": "histogram"
           }
          ],
          "scattergl": [
           {
            "marker": {
             "line": {
              "color": "#283442"
             }
            },
            "type": "scattergl"
           }
          ],
          "scatter3d": [
           {
            "type": "scatter3d",
            "line": {
             "colorbar": {
              "outlinewidth": 0,
              "ticks": ""
             }
            },
            "marker": {
             "colorbar": {
              "outlinewidth": 0,
              "ticks": ""
             }
            }
           }
          ],
          "scattermap": [
           {
            "type": "scattermap",
            "marker": {
             "colorbar": {
              "outlinewidth": 0,
              "ticks": ""
             }
            }
           }
          ],
          "scattermapbox": [
           {
            "type": "scattermapbox",
            "marker": {
             "colorbar": {
              "outlinewidth": 0,
              "ticks": ""
             }
            }
           }
          ],
          "scatterternary": [
           {
            "type": "scatterternary",
            "marker": {
             "colorbar": {
              "outlinewidth": 0,
              "ticks": ""
             }
            }
           }
          ],
          "scattercarpet": [
           {
            "type": "scattercarpet",
            "marker": {
             "colorbar": {
              "outlinewidth": 0,
              "ticks": ""
             }
            }
           }
          ],
          "carpet": [
           {
            "aaxis": {
             "endlinecolor": "#A2B1C6",
             "gridcolor": "#506784",
             "linecolor": "#506784",
             "minorgridcolor": "#506784",
             "startlinecolor": "#A2B1C6"
            },
            "baxis": {
             "endlinecolor": "#A2B1C6",
             "gridcolor": "#506784",
             "linecolor": "#506784",
             "minorgridcolor": "#506784",
             "startlinecolor": "#A2B1C6"
            },
            "type": "carpet"
           }
          ],
          "table": [
           {
            "cells": {
             "fill": {
              "color": "#506784"
             },
             "line": {
              "color": "rgb(17,17,17)"
             }
            },
            "header": {
             "fill": {
              "color": "#2a3f5f"
             },
             "line": {
              "color": "rgb(17,17,17)"
             }
            },
            "type": "table"
           }
          ],
          "barpolar": [
           {
            "marker": {
             "line": {
              "color": "rgb(17,17,17)",
              "width": 0.5
             },
             "pattern": {
              "fillmode": "overlay",
              "size": 10,
              "solidity": 0.2
             }
            },
            "type": "barpolar"
           }
          ],
          "pie": [
           {
            "automargin": true,
            "type": "pie"
           }
          ]
         },
         "layout": {
          "autotypenumbers": "strict",
          "colorway": [
           "#636efa",
           "#EF553B",
           "#00cc96",
           "#ab63fa",
           "#FFA15A",
           "#19d3f3",
           "#FF6692",
           "#B6E880",
           "#FF97FF",
           "#FECB52"
          ],
          "font": {
           "color": "#f2f5fa"
          },
          "hovermode": "closest",
          "hoverlabel": {
           "align": "left"
          },
          "paper_bgcolor": "rgb(17,17,17)",
          "plot_bgcolor": "rgb(17,17,17)",
          "polar": {
           "bgcolor": "rgb(17,17,17)",
           "angularaxis": {
            "gridcolor": "#506784",
            "linecolor": "#506784",
            "ticks": ""
           },
           "radialaxis": {
            "gridcolor": "#506784",
            "linecolor": "#506784",
            "ticks": ""
           }
          },
          "ternary": {
           "bgcolor": "rgb(17,17,17)",
           "aaxis": {
            "gridcolor": "#506784",
            "linecolor": "#506784",
            "ticks": ""
           },
           "baxis": {
            "gridcolor": "#506784",
            "linecolor": "#506784",
            "ticks": ""
           },
           "caxis": {
            "gridcolor": "#506784",
            "linecolor": "#506784",
            "ticks": ""
           }
          },
          "coloraxis": {
           "colorbar": {
            "outlinewidth": 0,
            "ticks": ""
           }
          },
          "colorscale": {
           "sequential": [
            [
             0.0,
             "#0d0887"
            ],
            [
             0.1111111111111111,
             "#46039f"
            ],
            [
             0.2222222222222222,
             "#7201a8"
            ],
            [
             0.3333333333333333,
             "#9c179e"
            ],
            [
             0.4444444444444444,
             "#bd3786"
            ],
            [
             0.5555555555555556,
             "#d8576b"
            ],
            [
             0.6666666666666666,
             "#ed7953"
            ],
            [
             0.7777777777777778,
             "#fb9f3a"
            ],
            [
             0.8888888888888888,
             "#fdca26"
            ],
            [
             1.0,
             "#f0f921"
            ]
           ],
           "sequentialminus": [
            [
             0.0,
             "#0d0887"
            ],
            [
             0.1111111111111111,
             "#46039f"
            ],
            [
             0.2222222222222222,
             "#7201a8"
            ],
            [
             0.3333333333333333,
             "#9c179e"
            ],
            [
             0.4444444444444444,
             "#bd3786"
            ],
            [
             0.5555555555555556,
             "#d8576b"
            ],
            [
             0.6666666666666666,
             "#ed7953"
            ],
            [
             0.7777777777777778,
             "#fb9f3a"
            ],
            [
             0.8888888888888888,
             "#fdca26"
            ],
            [
             1.0,
             "#f0f921"
            ]
           ],
           "diverging": [
            [
             0,
             "#8e0152"
            ],
            [
             0.1,
             "#c51b7d"
            ],
            [
             0.2,
             "#de77ae"
            ],
            [
             0.3,
             "#f1b6da"
            ],
            [
             0.4,
             "#fde0ef"
            ],
            [
             0.5,
             "#f7f7f7"
            ],
            [
             0.6,
             "#e6f5d0"
            ],
            [
             0.7,
             "#b8e186"
            ],
            [
             0.8,
             "#7fbc41"
            ],
            [
             0.9,
             "#4d9221"
            ],
            [
             1,
             "#276419"
            ]
           ]
          },
          "xaxis": {
           "gridcolor": "#283442",
           "linecolor": "#506784",
           "ticks": "",
           "title": {
            "standoff": 15
           },
           "zerolinecolor": "#283442",
           "automargin": true,
           "zerolinewidth": 2
          },
          "yaxis": {
           "gridcolor": "#283442",
           "linecolor": "#506784",
           "ticks": "",
           "title": {
            "standoff": 15
           },
           "zerolinecolor": "#283442",
           "automargin": true,
           "zerolinewidth": 2
          },
          "scene": {
           "xaxis": {
            "backgroundcolor": "rgb(17,17,17)",
            "gridcolor": "#506784",
            "linecolor": "#506784",
            "showbackground": true,
            "ticks": "",
            "zerolinecolor": "#C8D4E3",
            "gridwidth": 2
           },
           "yaxis": {
            "backgroundcolor": "rgb(17,17,17)",
            "gridcolor": "#506784",
            "linecolor": "#506784",
            "showbackground": true,
            "ticks": "",
            "zerolinecolor": "#C8D4E3",
            "gridwidth": 2
           },
           "zaxis": {
            "backgroundcolor": "rgb(17,17,17)",
            "gridcolor": "#506784",
            "linecolor": "#506784",
            "showbackground": true,
            "ticks": "",
            "zerolinecolor": "#C8D4E3",
            "gridwidth": 2
           }
          },
          "shapedefaults": {
           "line": {
            "color": "#f2f5fa"
           }
          },
          "annotationdefaults": {
           "arrowcolor": "#f2f5fa",
           "arrowhead": 0,
           "arrowwidth": 1
          },
          "geo": {
           "bgcolor": "rgb(17,17,17)",
           "landcolor": "rgb(17,17,17)",
           "subunitcolor": "#506784",
           "showland": true,
           "showlakes": true,
           "lakecolor": "rgb(17,17,17)"
          },
          "title": {
           "x": 0.05
          },
          "updatemenudefaults": {
           "bgcolor": "#506784",
           "borderwidth": 0
          },
          "sliderdefaults": {
           "bgcolor": "#C8D4E3",
           "borderwidth": 1,
           "bordercolor": "rgb(17,17,17)",
           "tickwidth": 0
          },
          "mapbox": {
           "style": "dark"
          }
         }
        },
        "scene": {
         "domain": {
          "x": [
           0.0,
           1.0
          ],
          "y": [
           0.0,
           1.0
          ]
         },
         "xaxis": {
          "title": {
           "text": "n_neighbors"
          }
         },
         "yaxis": {
          "title": {
           "text": "dimensions"
          }
         },
         "zaxis": {
          "title": {
           "text": "num_clusters"
          }
         }
        },
        "coloraxis": {
         "colorbar": {
          "title": {
           "text": "num_clusters"
          },
          "len": 0.75
         },
         "colorscale": [
          [
           0.0,
           "#440154"
          ],
          [
           0.1111111111111111,
           "#482878"
          ],
          [
           0.2222222222222222,
           "#3e4989"
          ],
          [
           0.3333333333333333,
           "#31688e"
          ],
          [
           0.4444444444444444,
           "#26828e"
          ],
          [
           0.5555555555555556,
           "#1f9e89"
          ],
          [
           0.6666666666666666,
           "#35b779"
          ],
          [
           0.7777777777777778,
           "#6ece58"
          ],
          [
           0.8888888888888888,
           "#b5de2b"
          ],
          [
           1.0,
           "#fde725"
          ]
         ],
         "cmin": 12,
         "cmax": 766
        },
        "legend": {
         "tracegroupgap": 0
        },
        "title": {
         "text": "3D Plot of num_clusters by n_neighbors and dimensions"
        },
        "width": 1600,
        "height": 800
       },
       "config": {
        "plotlyServerURL": "https://plot.ly"
       }
      }
     },
     "metadata": {},
     "output_type": "display_data"
    }
   ],
   "execution_count": 36
  },
  {
   "metadata": {},
   "cell_type": "markdown",
   "source": "Examine number of outliers",
   "id": "2e4b9ae241eb9018"
  },
  {
   "metadata": {
    "ExecuteTime": {
     "end_time": "2025-07-15T04:33:23.631526Z",
     "start_time": "2025-07-15T04:33:23.555459Z"
    }
   },
   "cell_type": "code",
   "source": [
    "fig = interactive_plot3d(metrics, z_metric='num_outliers')\n",
    "fig.show()"
   ],
   "id": "847a0879d3a8f40a",
   "outputs": [
    {
     "data": {
      "application/vnd.plotly.v1+json": {
       "data": [
        {
         "hovertemplate": "n_neighbors=%{x}<br>dimensions=%{y}<br>num_outliers=%{marker.color}<extra></extra>",
         "legendgroup": "",
         "marker": {
          "color": {
           "dtype": "i2",
           "bdata": "AAADACQABwFwAakGgAr8CgUAfwBvAIYAfACCAIcAfQAJAKQAmQCwAJwAqgCcAKoACADAAKUAuwDIAMcAtADPAA0A3QDjAM8A4QDnANgA2AAJAOwA2gDeAOkA1QDcAOcABADyAOMA8wDqANEAxwDYAAYA1wDQAO8A5ADmANMA3AA="
          },
          "coloraxis": "coloraxis",
          "symbol": "circle",
          "size": 6
         },
         "mode": "markers",
         "name": "",
         "scene": "scene",
         "showlegend": false,
         "x": {
          "dtype": "i2",
          "bdata": "AgACAAIAAgACAAIAAgACAGYAZgBmAGYAZgBmAGYAZgDKAMoAygDKAMoAygDKAMoALgEuAS4BLgEuAS4BLgEuAZIBkgGSAZIBkgGSAZIBkgH2AfYB9gH2AfYB9gH2AfYBWgJaAloCWgJaAloCWgJaAr4CvgK+Ar4CvgK+Ar4CvgI="
         },
         "y": {
          "dtype": "i2",
          "bdata": "AgBmAMoALgGSAfYBWgK+AgIAZgDKAC4BkgH2AVoCvgICAGYAygAuAZIB9gFaAr4CAgBmAMoALgGSAfYBWgK+AgIAZgDKAC4BkgH2AVoCvgICAGYAygAuAZIB9gFaAr4CAgBmAMoALgGSAfYBWgK+AgIAZgDKAC4BkgH2AVoCvgI="
         },
         "z": {
          "dtype": "i2",
          "bdata": "AAADACQABwFwAakGgAr8CgUAfwBvAIYAfACCAIcAfQAJAKQAmQCwAJwAqgCcAKoACADAAKUAuwDIAMcAtADPAA0A3QDjAM8A4QDnANgA2AAJAOwA2gDeAOkA1QDcAOcABADyAOMA8wDqANEAxwDYAAYA1wDQAO8A5ADmANMA3AA="
         },
         "type": "scatter3d"
        }
       ],
       "layout": {
        "template": {
         "data": {
          "histogram2dcontour": [
           {
            "type": "histogram2dcontour",
            "colorbar": {
             "outlinewidth": 0,
             "ticks": ""
            },
            "colorscale": [
             [
              0.0,
              "#0d0887"
             ],
             [
              0.1111111111111111,
              "#46039f"
             ],
             [
              0.2222222222222222,
              "#7201a8"
             ],
             [
              0.3333333333333333,
              "#9c179e"
             ],
             [
              0.4444444444444444,
              "#bd3786"
             ],
             [
              0.5555555555555556,
              "#d8576b"
             ],
             [
              0.6666666666666666,
              "#ed7953"
             ],
             [
              0.7777777777777778,
              "#fb9f3a"
             ],
             [
              0.8888888888888888,
              "#fdca26"
             ],
             [
              1.0,
              "#f0f921"
             ]
            ]
           }
          ],
          "choropleth": [
           {
            "type": "choropleth",
            "colorbar": {
             "outlinewidth": 0,
             "ticks": ""
            }
           }
          ],
          "histogram2d": [
           {
            "type": "histogram2d",
            "colorbar": {
             "outlinewidth": 0,
             "ticks": ""
            },
            "colorscale": [
             [
              0.0,
              "#0d0887"
             ],
             [
              0.1111111111111111,
              "#46039f"
             ],
             [
              0.2222222222222222,
              "#7201a8"
             ],
             [
              0.3333333333333333,
              "#9c179e"
             ],
             [
              0.4444444444444444,
              "#bd3786"
             ],
             [
              0.5555555555555556,
              "#d8576b"
             ],
             [
              0.6666666666666666,
              "#ed7953"
             ],
             [
              0.7777777777777778,
              "#fb9f3a"
             ],
             [
              0.8888888888888888,
              "#fdca26"
             ],
             [
              1.0,
              "#f0f921"
             ]
            ]
           }
          ],
          "heatmap": [
           {
            "type": "heatmap",
            "colorbar": {
             "outlinewidth": 0,
             "ticks": ""
            },
            "colorscale": [
             [
              0.0,
              "#0d0887"
             ],
             [
              0.1111111111111111,
              "#46039f"
             ],
             [
              0.2222222222222222,
              "#7201a8"
             ],
             [
              0.3333333333333333,
              "#9c179e"
             ],
             [
              0.4444444444444444,
              "#bd3786"
             ],
             [
              0.5555555555555556,
              "#d8576b"
             ],
             [
              0.6666666666666666,
              "#ed7953"
             ],
             [
              0.7777777777777778,
              "#fb9f3a"
             ],
             [
              0.8888888888888888,
              "#fdca26"
             ],
             [
              1.0,
              "#f0f921"
             ]
            ]
           }
          ],
          "contourcarpet": [
           {
            "type": "contourcarpet",
            "colorbar": {
             "outlinewidth": 0,
             "ticks": ""
            }
           }
          ],
          "contour": [
           {
            "type": "contour",
            "colorbar": {
             "outlinewidth": 0,
             "ticks": ""
            },
            "colorscale": [
             [
              0.0,
              "#0d0887"
             ],
             [
              0.1111111111111111,
              "#46039f"
             ],
             [
              0.2222222222222222,
              "#7201a8"
             ],
             [
              0.3333333333333333,
              "#9c179e"
             ],
             [
              0.4444444444444444,
              "#bd3786"
             ],
             [
              0.5555555555555556,
              "#d8576b"
             ],
             [
              0.6666666666666666,
              "#ed7953"
             ],
             [
              0.7777777777777778,
              "#fb9f3a"
             ],
             [
              0.8888888888888888,
              "#fdca26"
             ],
             [
              1.0,
              "#f0f921"
             ]
            ]
           }
          ],
          "surface": [
           {
            "type": "surface",
            "colorbar": {
             "outlinewidth": 0,
             "ticks": ""
            },
            "colorscale": [
             [
              0.0,
              "#0d0887"
             ],
             [
              0.1111111111111111,
              "#46039f"
             ],
             [
              0.2222222222222222,
              "#7201a8"
             ],
             [
              0.3333333333333333,
              "#9c179e"
             ],
             [
              0.4444444444444444,
              "#bd3786"
             ],
             [
              0.5555555555555556,
              "#d8576b"
             ],
             [
              0.6666666666666666,
              "#ed7953"
             ],
             [
              0.7777777777777778,
              "#fb9f3a"
             ],
             [
              0.8888888888888888,
              "#fdca26"
             ],
             [
              1.0,
              "#f0f921"
             ]
            ]
           }
          ],
          "mesh3d": [
           {
            "type": "mesh3d",
            "colorbar": {
             "outlinewidth": 0,
             "ticks": ""
            }
           }
          ],
          "scatter": [
           {
            "marker": {
             "line": {
              "color": "#283442"
             }
            },
            "type": "scatter"
           }
          ],
          "parcoords": [
           {
            "type": "parcoords",
            "line": {
             "colorbar": {
              "outlinewidth": 0,
              "ticks": ""
             }
            }
           }
          ],
          "scatterpolargl": [
           {
            "type": "scatterpolargl",
            "marker": {
             "colorbar": {
              "outlinewidth": 0,
              "ticks": ""
             }
            }
           }
          ],
          "bar": [
           {
            "error_x": {
             "color": "#f2f5fa"
            },
            "error_y": {
             "color": "#f2f5fa"
            },
            "marker": {
             "line": {
              "color": "rgb(17,17,17)",
              "width": 0.5
             },
             "pattern": {
              "fillmode": "overlay",
              "size": 10,
              "solidity": 0.2
             }
            },
            "type": "bar"
           }
          ],
          "scattergeo": [
           {
            "type": "scattergeo",
            "marker": {
             "colorbar": {
              "outlinewidth": 0,
              "ticks": ""
             }
            }
           }
          ],
          "scatterpolar": [
           {
            "type": "scatterpolar",
            "marker": {
             "colorbar": {
              "outlinewidth": 0,
              "ticks": ""
             }
            }
           }
          ],
          "histogram": [
           {
            "marker": {
             "pattern": {
              "fillmode": "overlay",
              "size": 10,
              "solidity": 0.2
             }
            },
            "type": "histogram"
           }
          ],
          "scattergl": [
           {
            "marker": {
             "line": {
              "color": "#283442"
             }
            },
            "type": "scattergl"
           }
          ],
          "scatter3d": [
           {
            "type": "scatter3d",
            "line": {
             "colorbar": {
              "outlinewidth": 0,
              "ticks": ""
             }
            },
            "marker": {
             "colorbar": {
              "outlinewidth": 0,
              "ticks": ""
             }
            }
           }
          ],
          "scattermap": [
           {
            "type": "scattermap",
            "marker": {
             "colorbar": {
              "outlinewidth": 0,
              "ticks": ""
             }
            }
           }
          ],
          "scattermapbox": [
           {
            "type": "scattermapbox",
            "marker": {
             "colorbar": {
              "outlinewidth": 0,
              "ticks": ""
             }
            }
           }
          ],
          "scatterternary": [
           {
            "type": "scatterternary",
            "marker": {
             "colorbar": {
              "outlinewidth": 0,
              "ticks": ""
             }
            }
           }
          ],
          "scattercarpet": [
           {
            "type": "scattercarpet",
            "marker": {
             "colorbar": {
              "outlinewidth": 0,
              "ticks": ""
             }
            }
           }
          ],
          "carpet": [
           {
            "aaxis": {
             "endlinecolor": "#A2B1C6",
             "gridcolor": "#506784",
             "linecolor": "#506784",
             "minorgridcolor": "#506784",
             "startlinecolor": "#A2B1C6"
            },
            "baxis": {
             "endlinecolor": "#A2B1C6",
             "gridcolor": "#506784",
             "linecolor": "#506784",
             "minorgridcolor": "#506784",
             "startlinecolor": "#A2B1C6"
            },
            "type": "carpet"
           }
          ],
          "table": [
           {
            "cells": {
             "fill": {
              "color": "#506784"
             },
             "line": {
              "color": "rgb(17,17,17)"
             }
            },
            "header": {
             "fill": {
              "color": "#2a3f5f"
             },
             "line": {
              "color": "rgb(17,17,17)"
             }
            },
            "type": "table"
           }
          ],
          "barpolar": [
           {
            "marker": {
             "line": {
              "color": "rgb(17,17,17)",
              "width": 0.5
             },
             "pattern": {
              "fillmode": "overlay",
              "size": 10,
              "solidity": 0.2
             }
            },
            "type": "barpolar"
           }
          ],
          "pie": [
           {
            "automargin": true,
            "type": "pie"
           }
          ]
         },
         "layout": {
          "autotypenumbers": "strict",
          "colorway": [
           "#636efa",
           "#EF553B",
           "#00cc96",
           "#ab63fa",
           "#FFA15A",
           "#19d3f3",
           "#FF6692",
           "#B6E880",
           "#FF97FF",
           "#FECB52"
          ],
          "font": {
           "color": "#f2f5fa"
          },
          "hovermode": "closest",
          "hoverlabel": {
           "align": "left"
          },
          "paper_bgcolor": "rgb(17,17,17)",
          "plot_bgcolor": "rgb(17,17,17)",
          "polar": {
           "bgcolor": "rgb(17,17,17)",
           "angularaxis": {
            "gridcolor": "#506784",
            "linecolor": "#506784",
            "ticks": ""
           },
           "radialaxis": {
            "gridcolor": "#506784",
            "linecolor": "#506784",
            "ticks": ""
           }
          },
          "ternary": {
           "bgcolor": "rgb(17,17,17)",
           "aaxis": {
            "gridcolor": "#506784",
            "linecolor": "#506784",
            "ticks": ""
           },
           "baxis": {
            "gridcolor": "#506784",
            "linecolor": "#506784",
            "ticks": ""
           },
           "caxis": {
            "gridcolor": "#506784",
            "linecolor": "#506784",
            "ticks": ""
           }
          },
          "coloraxis": {
           "colorbar": {
            "outlinewidth": 0,
            "ticks": ""
           }
          },
          "colorscale": {
           "sequential": [
            [
             0.0,
             "#0d0887"
            ],
            [
             0.1111111111111111,
             "#46039f"
            ],
            [
             0.2222222222222222,
             "#7201a8"
            ],
            [
             0.3333333333333333,
             "#9c179e"
            ],
            [
             0.4444444444444444,
             "#bd3786"
            ],
            [
             0.5555555555555556,
             "#d8576b"
            ],
            [
             0.6666666666666666,
             "#ed7953"
            ],
            [
             0.7777777777777778,
             "#fb9f3a"
            ],
            [
             0.8888888888888888,
             "#fdca26"
            ],
            [
             1.0,
             "#f0f921"
            ]
           ],
           "sequentialminus": [
            [
             0.0,
             "#0d0887"
            ],
            [
             0.1111111111111111,
             "#46039f"
            ],
            [
             0.2222222222222222,
             "#7201a8"
            ],
            [
             0.3333333333333333,
             "#9c179e"
            ],
            [
             0.4444444444444444,
             "#bd3786"
            ],
            [
             0.5555555555555556,
             "#d8576b"
            ],
            [
             0.6666666666666666,
             "#ed7953"
            ],
            [
             0.7777777777777778,
             "#fb9f3a"
            ],
            [
             0.8888888888888888,
             "#fdca26"
            ],
            [
             1.0,
             "#f0f921"
            ]
           ],
           "diverging": [
            [
             0,
             "#8e0152"
            ],
            [
             0.1,
             "#c51b7d"
            ],
            [
             0.2,
             "#de77ae"
            ],
            [
             0.3,
             "#f1b6da"
            ],
            [
             0.4,
             "#fde0ef"
            ],
            [
             0.5,
             "#f7f7f7"
            ],
            [
             0.6,
             "#e6f5d0"
            ],
            [
             0.7,
             "#b8e186"
            ],
            [
             0.8,
             "#7fbc41"
            ],
            [
             0.9,
             "#4d9221"
            ],
            [
             1,
             "#276419"
            ]
           ]
          },
          "xaxis": {
           "gridcolor": "#283442",
           "linecolor": "#506784",
           "ticks": "",
           "title": {
            "standoff": 15
           },
           "zerolinecolor": "#283442",
           "automargin": true,
           "zerolinewidth": 2
          },
          "yaxis": {
           "gridcolor": "#283442",
           "linecolor": "#506784",
           "ticks": "",
           "title": {
            "standoff": 15
           },
           "zerolinecolor": "#283442",
           "automargin": true,
           "zerolinewidth": 2
          },
          "scene": {
           "xaxis": {
            "backgroundcolor": "rgb(17,17,17)",
            "gridcolor": "#506784",
            "linecolor": "#506784",
            "showbackground": true,
            "ticks": "",
            "zerolinecolor": "#C8D4E3",
            "gridwidth": 2
           },
           "yaxis": {
            "backgroundcolor": "rgb(17,17,17)",
            "gridcolor": "#506784",
            "linecolor": "#506784",
            "showbackground": true,
            "ticks": "",
            "zerolinecolor": "#C8D4E3",
            "gridwidth": 2
           },
           "zaxis": {
            "backgroundcolor": "rgb(17,17,17)",
            "gridcolor": "#506784",
            "linecolor": "#506784",
            "showbackground": true,
            "ticks": "",
            "zerolinecolor": "#C8D4E3",
            "gridwidth": 2
           }
          },
          "shapedefaults": {
           "line": {
            "color": "#f2f5fa"
           }
          },
          "annotationdefaults": {
           "arrowcolor": "#f2f5fa",
           "arrowhead": 0,
           "arrowwidth": 1
          },
          "geo": {
           "bgcolor": "rgb(17,17,17)",
           "landcolor": "rgb(17,17,17)",
           "subunitcolor": "#506784",
           "showland": true,
           "showlakes": true,
           "lakecolor": "rgb(17,17,17)"
          },
          "title": {
           "x": 0.05
          },
          "updatemenudefaults": {
           "bgcolor": "#506784",
           "borderwidth": 0
          },
          "sliderdefaults": {
           "bgcolor": "#C8D4E3",
           "borderwidth": 1,
           "bordercolor": "rgb(17,17,17)",
           "tickwidth": 0
          },
          "mapbox": {
           "style": "dark"
          }
         }
        },
        "scene": {
         "domain": {
          "x": [
           0.0,
           1.0
          ],
          "y": [
           0.0,
           1.0
          ]
         },
         "xaxis": {
          "title": {
           "text": "n_neighbors"
          }
         },
         "yaxis": {
          "title": {
           "text": "dimensions"
          }
         },
         "zaxis": {
          "title": {
           "text": "num_outliers"
          }
         }
        },
        "coloraxis": {
         "colorbar": {
          "title": {
           "text": "num_outliers"
          },
          "len": 0.75
         },
         "colorscale": [
          [
           0.0,
           "#440154"
          ],
          [
           0.1111111111111111,
           "#482878"
          ],
          [
           0.2222222222222222,
           "#3e4989"
          ],
          [
           0.3333333333333333,
           "#31688e"
          ],
          [
           0.4444444444444444,
           "#26828e"
          ],
          [
           0.5555555555555556,
           "#1f9e89"
          ],
          [
           0.6666666666666666,
           "#35b779"
          ],
          [
           0.7777777777777778,
           "#6ece58"
          ],
          [
           0.8888888888888888,
           "#b5de2b"
          ],
          [
           1.0,
           "#fde725"
          ]
         ],
         "cmin": 0,
         "cmax": 2812
        },
        "legend": {
         "tracegroupgap": 0
        },
        "title": {
         "text": "3D Plot of num_outliers by n_neighbors and dimensions"
        },
        "width": 1600,
        "height": 800
       },
       "config": {
        "plotlyServerURL": "https://plot.ly"
       }
      }
     },
     "metadata": {},
     "output_type": "display_data"
    }
   ],
   "execution_count": 37
  },
  {
   "metadata": {},
   "cell_type": "markdown",
   "source": [
    "#### iii) Refine Experiment Based on Results\n",
    "##### Experiment 2"
   ],
   "id": "3b17a92072e2c6fe"
  },
  {
   "metadata": {
    "ExecuteTime": {
     "end_time": "2025-07-15T04:33:26.189320Z",
     "start_time": "2025-07-15T04:33:26.184004Z"
    }
   },
   "cell_type": "code",
   "source": [
    "def get_nd_experiment2() -> List[Tuple[int]]:\n",
    "    \"\"\"\n",
    "    Get the n_neighbors and dimensions pairs for the second experiment.\n",
    "    This is based on the results of the first experiment.\n",
    "    \"\"\"\n",
    "    nd_set = set()\n",
    "    for n in range(2, 50, 5):\n",
    "        for d in range(2, 10, 1):\n",
    "            nd_set.add((n, d))\n",
    "        for d in range(10, 50, 5):\n",
    "            nd_set.add((n, d))\n",
    "    return list(nd_set)"
   ],
   "id": "936ba4dad2bbfce7",
   "outputs": [],
   "execution_count": 38
  },
  {
   "metadata": {
    "ExecuteTime": {
     "end_time": "2025-07-15T04:33:28.624309Z",
     "start_time": "2025-07-15T04:33:28.618478Z"
    }
   },
   "cell_type": "code",
   "source": [
    "def run_experiment(qid_lst: List[str], documents: List[str], embeds: np.ndarray, n_d_pairs: List[Tuple[int]], path: str) -> DataFrame:\n",
    "    \"\"\"Set up experiment.\"\"\"\n",
    "    # Suppress all warnings within this block\n",
    "    if not os.path.exists(path):\n",
    "        with warnings.catch_warnings():\n",
    "            warnings.simplefilter(\"ignore\")\n",
    "            results = dimred_experiment(qid_lst=qid_lst, questions=documents, embeddings=embeds, n_d_pairs=n_d_pairs)\n",
    "            results.to_csv(path, index=False)\n",
    "    else:\n",
    "        results = pd.read_csv(path)\n",
    "    return results"
   ],
   "id": "e6ad89aeaa1da435",
   "outputs": [],
   "execution_count": 39
  },
  {
   "metadata": {
    "ExecuteTime": {
     "end_time": "2025-07-15T04:33:30.983543Z",
     "start_time": "2025-07-15T04:33:30.980548Z"
    }
   },
   "cell_type": "code",
   "source": "DIMRED_EXPR2_PATH = \"data_storage/experiments/dimension_reduction_experiment2.csv\"",
   "id": "78c6add6a3b0ec83",
   "outputs": [],
   "execution_count": 40
  },
  {
   "metadata": {
    "ExecuteTime": {
     "end_time": "2025-07-15T05:06:32.975070Z",
     "start_time": "2025-07-15T04:33:33.327253Z"
    }
   },
   "cell_type": "code",
   "source": "dimred_exp2_results = run_experiment(qid_lst=qid_lst, documents=documents, embeds=embeds, n_d_pairs=get_nd_experiment2(), path=DIMRED_EXPR2_PATH)",
   "id": "f09333cfb2b2b04b",
   "outputs": [
    {
     "data": {
      "text/plain": [
       "HBox(children=(IntProgress(value=0, description='Progress:', max=160), Label(value='0/160 complete')))"
      ],
      "application/vnd.jupyter.widget-view+json": {
       "version_major": 2,
       "version_minor": 0,
       "model_id": "85c8283b00cb4774933289fc925d20b5"
      }
     },
     "metadata": {},
     "output_type": "display_data"
    }
   ],
   "execution_count": 41
  },
  {
   "metadata": {
    "ExecuteTime": {
     "end_time": "2025-07-15T05:06:35.212924Z",
     "start_time": "2025-07-15T05:06:35.197097Z"
    }
   },
   "cell_type": "code",
   "source": [
    "combined_results = pd.concat([\n",
    "    combined_results,\n",
    "    dimred_exp2_results.drop(columns=[\"qid\", \"question\"])], axis=1).reindex()\n",
    "combined_results.shape"
   ],
   "id": "efc4608f4cd99fbd",
   "outputs": [
    {
     "data": {
      "text/plain": [
       "(2836, 226)"
      ]
     },
     "execution_count": 42,
     "metadata": {},
     "output_type": "execute_result"
    }
   ],
   "execution_count": 42
  },
  {
   "metadata": {
    "ExecuteTime": {
     "end_time": "2025-07-15T05:06:37.378263Z",
     "start_time": "2025-07-15T05:06:37.332757Z"
    }
   },
   "cell_type": "code",
   "source": "metrics = analyze_dimred_data(dimred_exp2_results)",
   "id": "ada9280c58c8a545",
   "outputs": [],
   "execution_count": 43
  },
  {
   "metadata": {
    "ExecuteTime": {
     "end_time": "2025-07-15T05:06:45.261705Z",
     "start_time": "2025-07-15T05:06:45.209789Z"
    }
   },
   "cell_type": "code",
   "source": [
    "fig = interactive_plot3d(metrics, z_metric='num_clusters')\n",
    "fig.show()"
   ],
   "id": "8c172567ce8fd513",
   "outputs": [
    {
     "data": {
      "application/vnd.plotly.v1+json": {
       "data": [
        {
         "hovertemplate": "n_neighbors=%{x}<br>dimensions=%{y}<br>num_clusters=%{marker.color}<extra></extra>",
         "legendgroup": "",
         "marker": {
          "color": {
           "dtype": "i2",
           "bdata": "fABoAGoAXgDiAGIAIgByAGsArABoAogANwCZAHsA3gB5AHAAdABiAHsAUABtAnIAfQCjAIEAogB8AHsCRQAgAOkAbwByAIoAZQCbAIgAcwB3AMYAcQBwAEIAOACGAo4AcwB4AKoAdgDYAHgAeAJ5AGwAiQBZAC8AoQCGACoAiAB8AOEAcwB3AH4AfQKXAHIAcABdAGcAmABzAHcCjgBpAHgAfAItAKQAbgCGAH0AZwByAHECwQBxAG8AnABlAIoCZAAdAIAA5ABHAJ0AdgBoAI4AfAByAngAhgBLAGwAWwA2AOIAawBwAnQAgQB6AIkAfwKCAJkAeADgAGIAdQCHAGIAmgB2AHACdgB/AIsAKgB3AOkAgQBzAHAAYQB0An0AagCTAN4AQACEAOUAVgAtAIoAjQBqAHsAeQJxAHUA3gA="
          },
          "coloraxis": "coloraxis",
          "symbol": "circle",
          "size": 6
         },
         "mode": "markers",
         "name": "",
         "scene": "scene",
         "showlegend": false,
         "x": {
          "dtype": "i1",
          "bdata": "DC8bJQcRKiUvDAIWIBEgBxYvGyURKgIgJQwqBxsCFi8HGyURLwwWICAHKhYvJQIRJSAMKgcbAhYvDCURDBYgGyAHLyoWAgwRJSAqDCoCEQcbAhYMJRYbICoCBy8qERYCDCUgBxsMLyoRGwIWDCUvGyoHJQIvFioRAhYMIAcvGxEqERsCICUMLxsHESolLwIWIBEHDCAHLxsWESobAiAlBw=="
         },
         "y": {
          "dtype": "i1",
          "bdata": "BAcEBiMDAg8ZGQIjAx4eCgoJBggFBAQFIy0ZAy0ZAwIeCAoHFBQeBxkFLQUEAy0JHgkoFAcoFAcGBgUCDxkCDxQJLSgJKAgEBwQGIw8GGQIjDwIKCRQKBggIBCgjLQQjAwItGQMeDwoUHgoGBQQIBQMtGQMjLR4oHggHKBQKBwYFDxkFDy0JAwkoCAcUHgcoCCMGAiMPBQIPCgkUCQooCA=="
         },
         "z": {
          "dtype": "i2",
          "bdata": "fABoAGoAXgDiAGIAIgByAGsArABoAogANwCZAHsA3gB5AHAAdABiAHsAUABtAnIAfQCjAIEAogB8AHsCRQAgAOkAbwByAIoAZQCbAIgAcwB3AMYAcQBwAEIAOACGAo4AcwB4AKoAdgDYAHgAeAJ5AGwAiQBZAC8AoQCGACoAiAB8AOEAcwB3AH4AfQKXAHIAcABdAGcAmABzAHcCjgBpAHgAfAItAKQAbgCGAH0AZwByAHECwQBxAG8AnABlAIoCZAAdAIAA5ABHAJ0AdgBoAI4AfAByAngAhgBLAGwAWwA2AOIAawBwAnQAgQB6AIkAfwKCAJkAeADgAGIAdQCHAGIAmgB2AHACdgB/AIsAKgB3AOkAgQBzAHAAYQB0An0AagCTAN4AQACEAOUAVgAtAIoAjQBqAHsAeQJxAHUA3gA="
         },
         "type": "scatter3d"
        }
       ],
       "layout": {
        "template": {
         "data": {
          "histogram2dcontour": [
           {
            "type": "histogram2dcontour",
            "colorbar": {
             "outlinewidth": 0,
             "ticks": ""
            },
            "colorscale": [
             [
              0.0,
              "#0d0887"
             ],
             [
              0.1111111111111111,
              "#46039f"
             ],
             [
              0.2222222222222222,
              "#7201a8"
             ],
             [
              0.3333333333333333,
              "#9c179e"
             ],
             [
              0.4444444444444444,
              "#bd3786"
             ],
             [
              0.5555555555555556,
              "#d8576b"
             ],
             [
              0.6666666666666666,
              "#ed7953"
             ],
             [
              0.7777777777777778,
              "#fb9f3a"
             ],
             [
              0.8888888888888888,
              "#fdca26"
             ],
             [
              1.0,
              "#f0f921"
             ]
            ]
           }
          ],
          "choropleth": [
           {
            "type": "choropleth",
            "colorbar": {
             "outlinewidth": 0,
             "ticks": ""
            }
           }
          ],
          "histogram2d": [
           {
            "type": "histogram2d",
            "colorbar": {
             "outlinewidth": 0,
             "ticks": ""
            },
            "colorscale": [
             [
              0.0,
              "#0d0887"
             ],
             [
              0.1111111111111111,
              "#46039f"
             ],
             [
              0.2222222222222222,
              "#7201a8"
             ],
             [
              0.3333333333333333,
              "#9c179e"
             ],
             [
              0.4444444444444444,
              "#bd3786"
             ],
             [
              0.5555555555555556,
              "#d8576b"
             ],
             [
              0.6666666666666666,
              "#ed7953"
             ],
             [
              0.7777777777777778,
              "#fb9f3a"
             ],
             [
              0.8888888888888888,
              "#fdca26"
             ],
             [
              1.0,
              "#f0f921"
             ]
            ]
           }
          ],
          "heatmap": [
           {
            "type": "heatmap",
            "colorbar": {
             "outlinewidth": 0,
             "ticks": ""
            },
            "colorscale": [
             [
              0.0,
              "#0d0887"
             ],
             [
              0.1111111111111111,
              "#46039f"
             ],
             [
              0.2222222222222222,
              "#7201a8"
             ],
             [
              0.3333333333333333,
              "#9c179e"
             ],
             [
              0.4444444444444444,
              "#bd3786"
             ],
             [
              0.5555555555555556,
              "#d8576b"
             ],
             [
              0.6666666666666666,
              "#ed7953"
             ],
             [
              0.7777777777777778,
              "#fb9f3a"
             ],
             [
              0.8888888888888888,
              "#fdca26"
             ],
             [
              1.0,
              "#f0f921"
             ]
            ]
           }
          ],
          "contourcarpet": [
           {
            "type": "contourcarpet",
            "colorbar": {
             "outlinewidth": 0,
             "ticks": ""
            }
           }
          ],
          "contour": [
           {
            "type": "contour",
            "colorbar": {
             "outlinewidth": 0,
             "ticks": ""
            },
            "colorscale": [
             [
              0.0,
              "#0d0887"
             ],
             [
              0.1111111111111111,
              "#46039f"
             ],
             [
              0.2222222222222222,
              "#7201a8"
             ],
             [
              0.3333333333333333,
              "#9c179e"
             ],
             [
              0.4444444444444444,
              "#bd3786"
             ],
             [
              0.5555555555555556,
              "#d8576b"
             ],
             [
              0.6666666666666666,
              "#ed7953"
             ],
             [
              0.7777777777777778,
              "#fb9f3a"
             ],
             [
              0.8888888888888888,
              "#fdca26"
             ],
             [
              1.0,
              "#f0f921"
             ]
            ]
           }
          ],
          "surface": [
           {
            "type": "surface",
            "colorbar": {
             "outlinewidth": 0,
             "ticks": ""
            },
            "colorscale": [
             [
              0.0,
              "#0d0887"
             ],
             [
              0.1111111111111111,
              "#46039f"
             ],
             [
              0.2222222222222222,
              "#7201a8"
             ],
             [
              0.3333333333333333,
              "#9c179e"
             ],
             [
              0.4444444444444444,
              "#bd3786"
             ],
             [
              0.5555555555555556,
              "#d8576b"
             ],
             [
              0.6666666666666666,
              "#ed7953"
             ],
             [
              0.7777777777777778,
              "#fb9f3a"
             ],
             [
              0.8888888888888888,
              "#fdca26"
             ],
             [
              1.0,
              "#f0f921"
             ]
            ]
           }
          ],
          "mesh3d": [
           {
            "type": "mesh3d",
            "colorbar": {
             "outlinewidth": 0,
             "ticks": ""
            }
           }
          ],
          "scatter": [
           {
            "marker": {
             "line": {
              "color": "#283442"
             }
            },
            "type": "scatter"
           }
          ],
          "parcoords": [
           {
            "type": "parcoords",
            "line": {
             "colorbar": {
              "outlinewidth": 0,
              "ticks": ""
             }
            }
           }
          ],
          "scatterpolargl": [
           {
            "type": "scatterpolargl",
            "marker": {
             "colorbar": {
              "outlinewidth": 0,
              "ticks": ""
             }
            }
           }
          ],
          "bar": [
           {
            "error_x": {
             "color": "#f2f5fa"
            },
            "error_y": {
             "color": "#f2f5fa"
            },
            "marker": {
             "line": {
              "color": "rgb(17,17,17)",
              "width": 0.5
             },
             "pattern": {
              "fillmode": "overlay",
              "size": 10,
              "solidity": 0.2
             }
            },
            "type": "bar"
           }
          ],
          "scattergeo": [
           {
            "type": "scattergeo",
            "marker": {
             "colorbar": {
              "outlinewidth": 0,
              "ticks": ""
             }
            }
           }
          ],
          "scatterpolar": [
           {
            "type": "scatterpolar",
            "marker": {
             "colorbar": {
              "outlinewidth": 0,
              "ticks": ""
             }
            }
           }
          ],
          "histogram": [
           {
            "marker": {
             "pattern": {
              "fillmode": "overlay",
              "size": 10,
              "solidity": 0.2
             }
            },
            "type": "histogram"
           }
          ],
          "scattergl": [
           {
            "marker": {
             "line": {
              "color": "#283442"
             }
            },
            "type": "scattergl"
           }
          ],
          "scatter3d": [
           {
            "type": "scatter3d",
            "line": {
             "colorbar": {
              "outlinewidth": 0,
              "ticks": ""
             }
            },
            "marker": {
             "colorbar": {
              "outlinewidth": 0,
              "ticks": ""
             }
            }
           }
          ],
          "scattermap": [
           {
            "type": "scattermap",
            "marker": {
             "colorbar": {
              "outlinewidth": 0,
              "ticks": ""
             }
            }
           }
          ],
          "scattermapbox": [
           {
            "type": "scattermapbox",
            "marker": {
             "colorbar": {
              "outlinewidth": 0,
              "ticks": ""
             }
            }
           }
          ],
          "scatterternary": [
           {
            "type": "scatterternary",
            "marker": {
             "colorbar": {
              "outlinewidth": 0,
              "ticks": ""
             }
            }
           }
          ],
          "scattercarpet": [
           {
            "type": "scattercarpet",
            "marker": {
             "colorbar": {
              "outlinewidth": 0,
              "ticks": ""
             }
            }
           }
          ],
          "carpet": [
           {
            "aaxis": {
             "endlinecolor": "#A2B1C6",
             "gridcolor": "#506784",
             "linecolor": "#506784",
             "minorgridcolor": "#506784",
             "startlinecolor": "#A2B1C6"
            },
            "baxis": {
             "endlinecolor": "#A2B1C6",
             "gridcolor": "#506784",
             "linecolor": "#506784",
             "minorgridcolor": "#506784",
             "startlinecolor": "#A2B1C6"
            },
            "type": "carpet"
           }
          ],
          "table": [
           {
            "cells": {
             "fill": {
              "color": "#506784"
             },
             "line": {
              "color": "rgb(17,17,17)"
             }
            },
            "header": {
             "fill": {
              "color": "#2a3f5f"
             },
             "line": {
              "color": "rgb(17,17,17)"
             }
            },
            "type": "table"
           }
          ],
          "barpolar": [
           {
            "marker": {
             "line": {
              "color": "rgb(17,17,17)",
              "width": 0.5
             },
             "pattern": {
              "fillmode": "overlay",
              "size": 10,
              "solidity": 0.2
             }
            },
            "type": "barpolar"
           }
          ],
          "pie": [
           {
            "automargin": true,
            "type": "pie"
           }
          ]
         },
         "layout": {
          "autotypenumbers": "strict",
          "colorway": [
           "#636efa",
           "#EF553B",
           "#00cc96",
           "#ab63fa",
           "#FFA15A",
           "#19d3f3",
           "#FF6692",
           "#B6E880",
           "#FF97FF",
           "#FECB52"
          ],
          "font": {
           "color": "#f2f5fa"
          },
          "hovermode": "closest",
          "hoverlabel": {
           "align": "left"
          },
          "paper_bgcolor": "rgb(17,17,17)",
          "plot_bgcolor": "rgb(17,17,17)",
          "polar": {
           "bgcolor": "rgb(17,17,17)",
           "angularaxis": {
            "gridcolor": "#506784",
            "linecolor": "#506784",
            "ticks": ""
           },
           "radialaxis": {
            "gridcolor": "#506784",
            "linecolor": "#506784",
            "ticks": ""
           }
          },
          "ternary": {
           "bgcolor": "rgb(17,17,17)",
           "aaxis": {
            "gridcolor": "#506784",
            "linecolor": "#506784",
            "ticks": ""
           },
           "baxis": {
            "gridcolor": "#506784",
            "linecolor": "#506784",
            "ticks": ""
           },
           "caxis": {
            "gridcolor": "#506784",
            "linecolor": "#506784",
            "ticks": ""
           }
          },
          "coloraxis": {
           "colorbar": {
            "outlinewidth": 0,
            "ticks": ""
           }
          },
          "colorscale": {
           "sequential": [
            [
             0.0,
             "#0d0887"
            ],
            [
             0.1111111111111111,
             "#46039f"
            ],
            [
             0.2222222222222222,
             "#7201a8"
            ],
            [
             0.3333333333333333,
             "#9c179e"
            ],
            [
             0.4444444444444444,
             "#bd3786"
            ],
            [
             0.5555555555555556,
             "#d8576b"
            ],
            [
             0.6666666666666666,
             "#ed7953"
            ],
            [
             0.7777777777777778,
             "#fb9f3a"
            ],
            [
             0.8888888888888888,
             "#fdca26"
            ],
            [
             1.0,
             "#f0f921"
            ]
           ],
           "sequentialminus": [
            [
             0.0,
             "#0d0887"
            ],
            [
             0.1111111111111111,
             "#46039f"
            ],
            [
             0.2222222222222222,
             "#7201a8"
            ],
            [
             0.3333333333333333,
             "#9c179e"
            ],
            [
             0.4444444444444444,
             "#bd3786"
            ],
            [
             0.5555555555555556,
             "#d8576b"
            ],
            [
             0.6666666666666666,
             "#ed7953"
            ],
            [
             0.7777777777777778,
             "#fb9f3a"
            ],
            [
             0.8888888888888888,
             "#fdca26"
            ],
            [
             1.0,
             "#f0f921"
            ]
           ],
           "diverging": [
            [
             0,
             "#8e0152"
            ],
            [
             0.1,
             "#c51b7d"
            ],
            [
             0.2,
             "#de77ae"
            ],
            [
             0.3,
             "#f1b6da"
            ],
            [
             0.4,
             "#fde0ef"
            ],
            [
             0.5,
             "#f7f7f7"
            ],
            [
             0.6,
             "#e6f5d0"
            ],
            [
             0.7,
             "#b8e186"
            ],
            [
             0.8,
             "#7fbc41"
            ],
            [
             0.9,
             "#4d9221"
            ],
            [
             1,
             "#276419"
            ]
           ]
          },
          "xaxis": {
           "gridcolor": "#283442",
           "linecolor": "#506784",
           "ticks": "",
           "title": {
            "standoff": 15
           },
           "zerolinecolor": "#283442",
           "automargin": true,
           "zerolinewidth": 2
          },
          "yaxis": {
           "gridcolor": "#283442",
           "linecolor": "#506784",
           "ticks": "",
           "title": {
            "standoff": 15
           },
           "zerolinecolor": "#283442",
           "automargin": true,
           "zerolinewidth": 2
          },
          "scene": {
           "xaxis": {
            "backgroundcolor": "rgb(17,17,17)",
            "gridcolor": "#506784",
            "linecolor": "#506784",
            "showbackground": true,
            "ticks": "",
            "zerolinecolor": "#C8D4E3",
            "gridwidth": 2
           },
           "yaxis": {
            "backgroundcolor": "rgb(17,17,17)",
            "gridcolor": "#506784",
            "linecolor": "#506784",
            "showbackground": true,
            "ticks": "",
            "zerolinecolor": "#C8D4E3",
            "gridwidth": 2
           },
           "zaxis": {
            "backgroundcolor": "rgb(17,17,17)",
            "gridcolor": "#506784",
            "linecolor": "#506784",
            "showbackground": true,
            "ticks": "",
            "zerolinecolor": "#C8D4E3",
            "gridwidth": 2
           }
          },
          "shapedefaults": {
           "line": {
            "color": "#f2f5fa"
           }
          },
          "annotationdefaults": {
           "arrowcolor": "#f2f5fa",
           "arrowhead": 0,
           "arrowwidth": 1
          },
          "geo": {
           "bgcolor": "rgb(17,17,17)",
           "landcolor": "rgb(17,17,17)",
           "subunitcolor": "#506784",
           "showland": true,
           "showlakes": true,
           "lakecolor": "rgb(17,17,17)"
          },
          "title": {
           "x": 0.05
          },
          "updatemenudefaults": {
           "bgcolor": "#506784",
           "borderwidth": 0
          },
          "sliderdefaults": {
           "bgcolor": "#C8D4E3",
           "borderwidth": 1,
           "bordercolor": "rgb(17,17,17)",
           "tickwidth": 0
          },
          "mapbox": {
           "style": "dark"
          }
         }
        },
        "scene": {
         "domain": {
          "x": [
           0.0,
           1.0
          ],
          "y": [
           0.0,
           1.0
          ]
         },
         "xaxis": {
          "title": {
           "text": "n_neighbors"
          }
         },
         "yaxis": {
          "title": {
           "text": "dimensions"
          }
         },
         "zaxis": {
          "title": {
           "text": "num_clusters"
          }
         }
        },
        "coloraxis": {
         "colorbar": {
          "title": {
           "text": "num_clusters"
          },
          "len": 0.75
         },
         "colorscale": [
          [
           0.0,
           "#440154"
          ],
          [
           0.1111111111111111,
           "#482878"
          ],
          [
           0.2222222222222222,
           "#3e4989"
          ],
          [
           0.3333333333333333,
           "#31688e"
          ],
          [
           0.4444444444444444,
           "#26828e"
          ],
          [
           0.5555555555555556,
           "#1f9e89"
          ],
          [
           0.6666666666666666,
           "#35b779"
          ],
          [
           0.7777777777777778,
           "#6ece58"
          ],
          [
           0.8888888888888888,
           "#b5de2b"
          ],
          [
           1.0,
           "#fde725"
          ]
         ],
         "cmin": 29,
         "cmax": 650
        },
        "legend": {
         "tracegroupgap": 0
        },
        "title": {
         "text": "3D Plot of num_clusters by n_neighbors and dimensions"
        },
        "width": 1600,
        "height": 800
       },
       "config": {
        "plotlyServerURL": "https://plot.ly"
       }
      }
     },
     "metadata": {},
     "output_type": "display_data"
    }
   ],
   "execution_count": 44
  },
  {
   "metadata": {
    "ExecuteTime": {
     "end_time": "2025-07-15T05:06:45.678658Z",
     "start_time": "2025-07-15T05:06:45.625580Z"
    }
   },
   "cell_type": "code",
   "source": [
    "fig = interactive_plot3d(metrics, z_metric='num_outliers')\n",
    "fig.show()"
   ],
   "id": "27fb3f7cdc4027a2",
   "outputs": [
    {
     "data": {
      "application/vnd.plotly.v1+json": {
       "data": [
        {
         "hovertemplate": "n_neighbors=%{x}<br>dimensions=%{y}<br>num_outliers=%{marker.color}<extra></extra>",
         "legendgroup": "",
         "marker": {
          "color": {
           "dtype": "i1",
           "bdata": "NF0lVVIWCGFfYQBWFk5nSUpbSVg7LQE9WFltGlUAGgtMUlpIaVVYTE01UUM/FQE5Y1VaWTZHAENUREsPTFgGX0lOdHBOA0YySTBTSFQAUApTAQxUWlhVPkMAKVtVTjYCIQ5XSxdRbk1FXgBQRDJdRyJIYgBnT15OAVJMaUZaTEFMQlEBUFxFIE5OT0phYgBUQ1gyB19HSA5cS0pNAFFgPA=="
          },
          "coloraxis": "coloraxis",
          "symbol": "circle",
          "size": 6
         },
         "mode": "markers",
         "name": "",
         "scene": "scene",
         "showlegend": false,
         "x": {
          "dtype": "i1",
          "bdata": "DC8bJQcRKiUvDAIWIBEgBxYvGyURKgIgJQwqBxsCFi8HGyURLwwWICAHKhYvJQIRJSAMKgcbAhYvDCURDBYgGyAHLyoWAgwRJSAqDCoCEQcbAhYMJRYbICoCBy8qERYCDCUgBxsMLyoRGwIWDCUvGyoHJQIvFioRAhYMIAcvGxEqERsCICUMLxsHESolLwIWIBEHDCAHLxsWESobAiAlBw=="
         },
         "y": {
          "dtype": "i1",
          "bdata": "BAcEBiMDAg8ZGQIjAx4eCgoJBggFBAQFIy0ZAy0ZAwIeCAoHFBQeBxkFLQUEAy0JHgkoFAcoFAcGBgUCDxkCDxQJLSgJKAgEBwQGIw8GGQIjDwIKCRQKBggIBCgjLQQjAwItGQMeDwoUHgoGBQQIBQMtGQMjLR4oHggHKBQKBwYFDxkFDy0JAwkoCAcUHgcoCCMGAiMPBQIPCgkUCQooCA=="
         },
         "z": {
          "dtype": "i1",
          "bdata": "NF0lVVIWCGFfYQBWFk5nSUpbSVg7LQE9WFltGlUAGgtMUlpIaVVYTE01UUM/FQE5Y1VaWTZHAENUREsPTFgGX0lOdHBOA0YySTBTSFQAUApTAQxUWlhVPkMAKVtVTjYCIQ5XSxdRbk1FXgBQRDJdRyJIYgBnT15OAVJMaUZaTEFMQlEBUFxFIE5OT0phYgBUQ1gyB19HSA5cS0pNAFFgPA=="
         },
         "type": "scatter3d"
        }
       ],
       "layout": {
        "template": {
         "data": {
          "histogram2dcontour": [
           {
            "type": "histogram2dcontour",
            "colorbar": {
             "outlinewidth": 0,
             "ticks": ""
            },
            "colorscale": [
             [
              0.0,
              "#0d0887"
             ],
             [
              0.1111111111111111,
              "#46039f"
             ],
             [
              0.2222222222222222,
              "#7201a8"
             ],
             [
              0.3333333333333333,
              "#9c179e"
             ],
             [
              0.4444444444444444,
              "#bd3786"
             ],
             [
              0.5555555555555556,
              "#d8576b"
             ],
             [
              0.6666666666666666,
              "#ed7953"
             ],
             [
              0.7777777777777778,
              "#fb9f3a"
             ],
             [
              0.8888888888888888,
              "#fdca26"
             ],
             [
              1.0,
              "#f0f921"
             ]
            ]
           }
          ],
          "choropleth": [
           {
            "type": "choropleth",
            "colorbar": {
             "outlinewidth": 0,
             "ticks": ""
            }
           }
          ],
          "histogram2d": [
           {
            "type": "histogram2d",
            "colorbar": {
             "outlinewidth": 0,
             "ticks": ""
            },
            "colorscale": [
             [
              0.0,
              "#0d0887"
             ],
             [
              0.1111111111111111,
              "#46039f"
             ],
             [
              0.2222222222222222,
              "#7201a8"
             ],
             [
              0.3333333333333333,
              "#9c179e"
             ],
             [
              0.4444444444444444,
              "#bd3786"
             ],
             [
              0.5555555555555556,
              "#d8576b"
             ],
             [
              0.6666666666666666,
              "#ed7953"
             ],
             [
              0.7777777777777778,
              "#fb9f3a"
             ],
             [
              0.8888888888888888,
              "#fdca26"
             ],
             [
              1.0,
              "#f0f921"
             ]
            ]
           }
          ],
          "heatmap": [
           {
            "type": "heatmap",
            "colorbar": {
             "outlinewidth": 0,
             "ticks": ""
            },
            "colorscale": [
             [
              0.0,
              "#0d0887"
             ],
             [
              0.1111111111111111,
              "#46039f"
             ],
             [
              0.2222222222222222,
              "#7201a8"
             ],
             [
              0.3333333333333333,
              "#9c179e"
             ],
             [
              0.4444444444444444,
              "#bd3786"
             ],
             [
              0.5555555555555556,
              "#d8576b"
             ],
             [
              0.6666666666666666,
              "#ed7953"
             ],
             [
              0.7777777777777778,
              "#fb9f3a"
             ],
             [
              0.8888888888888888,
              "#fdca26"
             ],
             [
              1.0,
              "#f0f921"
             ]
            ]
           }
          ],
          "contourcarpet": [
           {
            "type": "contourcarpet",
            "colorbar": {
             "outlinewidth": 0,
             "ticks": ""
            }
           }
          ],
          "contour": [
           {
            "type": "contour",
            "colorbar": {
             "outlinewidth": 0,
             "ticks": ""
            },
            "colorscale": [
             [
              0.0,
              "#0d0887"
             ],
             [
              0.1111111111111111,
              "#46039f"
             ],
             [
              0.2222222222222222,
              "#7201a8"
             ],
             [
              0.3333333333333333,
              "#9c179e"
             ],
             [
              0.4444444444444444,
              "#bd3786"
             ],
             [
              0.5555555555555556,
              "#d8576b"
             ],
             [
              0.6666666666666666,
              "#ed7953"
             ],
             [
              0.7777777777777778,
              "#fb9f3a"
             ],
             [
              0.8888888888888888,
              "#fdca26"
             ],
             [
              1.0,
              "#f0f921"
             ]
            ]
           }
          ],
          "surface": [
           {
            "type": "surface",
            "colorbar": {
             "outlinewidth": 0,
             "ticks": ""
            },
            "colorscale": [
             [
              0.0,
              "#0d0887"
             ],
             [
              0.1111111111111111,
              "#46039f"
             ],
             [
              0.2222222222222222,
              "#7201a8"
             ],
             [
              0.3333333333333333,
              "#9c179e"
             ],
             [
              0.4444444444444444,
              "#bd3786"
             ],
             [
              0.5555555555555556,
              "#d8576b"
             ],
             [
              0.6666666666666666,
              "#ed7953"
             ],
             [
              0.7777777777777778,
              "#fb9f3a"
             ],
             [
              0.8888888888888888,
              "#fdca26"
             ],
             [
              1.0,
              "#f0f921"
             ]
            ]
           }
          ],
          "mesh3d": [
           {
            "type": "mesh3d",
            "colorbar": {
             "outlinewidth": 0,
             "ticks": ""
            }
           }
          ],
          "scatter": [
           {
            "marker": {
             "line": {
              "color": "#283442"
             }
            },
            "type": "scatter"
           }
          ],
          "parcoords": [
           {
            "type": "parcoords",
            "line": {
             "colorbar": {
              "outlinewidth": 0,
              "ticks": ""
             }
            }
           }
          ],
          "scatterpolargl": [
           {
            "type": "scatterpolargl",
            "marker": {
             "colorbar": {
              "outlinewidth": 0,
              "ticks": ""
             }
            }
           }
          ],
          "bar": [
           {
            "error_x": {
             "color": "#f2f5fa"
            },
            "error_y": {
             "color": "#f2f5fa"
            },
            "marker": {
             "line": {
              "color": "rgb(17,17,17)",
              "width": 0.5
             },
             "pattern": {
              "fillmode": "overlay",
              "size": 10,
              "solidity": 0.2
             }
            },
            "type": "bar"
           }
          ],
          "scattergeo": [
           {
            "type": "scattergeo",
            "marker": {
             "colorbar": {
              "outlinewidth": 0,
              "ticks": ""
             }
            }
           }
          ],
          "scatterpolar": [
           {
            "type": "scatterpolar",
            "marker": {
             "colorbar": {
              "outlinewidth": 0,
              "ticks": ""
             }
            }
           }
          ],
          "histogram": [
           {
            "marker": {
             "pattern": {
              "fillmode": "overlay",
              "size": 10,
              "solidity": 0.2
             }
            },
            "type": "histogram"
           }
          ],
          "scattergl": [
           {
            "marker": {
             "line": {
              "color": "#283442"
             }
            },
            "type": "scattergl"
           }
          ],
          "scatter3d": [
           {
            "type": "scatter3d",
            "line": {
             "colorbar": {
              "outlinewidth": 0,
              "ticks": ""
             }
            },
            "marker": {
             "colorbar": {
              "outlinewidth": 0,
              "ticks": ""
             }
            }
           }
          ],
          "scattermap": [
           {
            "type": "scattermap",
            "marker": {
             "colorbar": {
              "outlinewidth": 0,
              "ticks": ""
             }
            }
           }
          ],
          "scattermapbox": [
           {
            "type": "scattermapbox",
            "marker": {
             "colorbar": {
              "outlinewidth": 0,
              "ticks": ""
             }
            }
           }
          ],
          "scatterternary": [
           {
            "type": "scatterternary",
            "marker": {
             "colorbar": {
              "outlinewidth": 0,
              "ticks": ""
             }
            }
           }
          ],
          "scattercarpet": [
           {
            "type": "scattercarpet",
            "marker": {
             "colorbar": {
              "outlinewidth": 0,
              "ticks": ""
             }
            }
           }
          ],
          "carpet": [
           {
            "aaxis": {
             "endlinecolor": "#A2B1C6",
             "gridcolor": "#506784",
             "linecolor": "#506784",
             "minorgridcolor": "#506784",
             "startlinecolor": "#A2B1C6"
            },
            "baxis": {
             "endlinecolor": "#A2B1C6",
             "gridcolor": "#506784",
             "linecolor": "#506784",
             "minorgridcolor": "#506784",
             "startlinecolor": "#A2B1C6"
            },
            "type": "carpet"
           }
          ],
          "table": [
           {
            "cells": {
             "fill": {
              "color": "#506784"
             },
             "line": {
              "color": "rgb(17,17,17)"
             }
            },
            "header": {
             "fill": {
              "color": "#2a3f5f"
             },
             "line": {
              "color": "rgb(17,17,17)"
             }
            },
            "type": "table"
           }
          ],
          "barpolar": [
           {
            "marker": {
             "line": {
              "color": "rgb(17,17,17)",
              "width": 0.5
             },
             "pattern": {
              "fillmode": "overlay",
              "size": 10,
              "solidity": 0.2
             }
            },
            "type": "barpolar"
           }
          ],
          "pie": [
           {
            "automargin": true,
            "type": "pie"
           }
          ]
         },
         "layout": {
          "autotypenumbers": "strict",
          "colorway": [
           "#636efa",
           "#EF553B",
           "#00cc96",
           "#ab63fa",
           "#FFA15A",
           "#19d3f3",
           "#FF6692",
           "#B6E880",
           "#FF97FF",
           "#FECB52"
          ],
          "font": {
           "color": "#f2f5fa"
          },
          "hovermode": "closest",
          "hoverlabel": {
           "align": "left"
          },
          "paper_bgcolor": "rgb(17,17,17)",
          "plot_bgcolor": "rgb(17,17,17)",
          "polar": {
           "bgcolor": "rgb(17,17,17)",
           "angularaxis": {
            "gridcolor": "#506784",
            "linecolor": "#506784",
            "ticks": ""
           },
           "radialaxis": {
            "gridcolor": "#506784",
            "linecolor": "#506784",
            "ticks": ""
           }
          },
          "ternary": {
           "bgcolor": "rgb(17,17,17)",
           "aaxis": {
            "gridcolor": "#506784",
            "linecolor": "#506784",
            "ticks": ""
           },
           "baxis": {
            "gridcolor": "#506784",
            "linecolor": "#506784",
            "ticks": ""
           },
           "caxis": {
            "gridcolor": "#506784",
            "linecolor": "#506784",
            "ticks": ""
           }
          },
          "coloraxis": {
           "colorbar": {
            "outlinewidth": 0,
            "ticks": ""
           }
          },
          "colorscale": {
           "sequential": [
            [
             0.0,
             "#0d0887"
            ],
            [
             0.1111111111111111,
             "#46039f"
            ],
            [
             0.2222222222222222,
             "#7201a8"
            ],
            [
             0.3333333333333333,
             "#9c179e"
            ],
            [
             0.4444444444444444,
             "#bd3786"
            ],
            [
             0.5555555555555556,
             "#d8576b"
            ],
            [
             0.6666666666666666,
             "#ed7953"
            ],
            [
             0.7777777777777778,
             "#fb9f3a"
            ],
            [
             0.8888888888888888,
             "#fdca26"
            ],
            [
             1.0,
             "#f0f921"
            ]
           ],
           "sequentialminus": [
            [
             0.0,
             "#0d0887"
            ],
            [
             0.1111111111111111,
             "#46039f"
            ],
            [
             0.2222222222222222,
             "#7201a8"
            ],
            [
             0.3333333333333333,
             "#9c179e"
            ],
            [
             0.4444444444444444,
             "#bd3786"
            ],
            [
             0.5555555555555556,
             "#d8576b"
            ],
            [
             0.6666666666666666,
             "#ed7953"
            ],
            [
             0.7777777777777778,
             "#fb9f3a"
            ],
            [
             0.8888888888888888,
             "#fdca26"
            ],
            [
             1.0,
             "#f0f921"
            ]
           ],
           "diverging": [
            [
             0,
             "#8e0152"
            ],
            [
             0.1,
             "#c51b7d"
            ],
            [
             0.2,
             "#de77ae"
            ],
            [
             0.3,
             "#f1b6da"
            ],
            [
             0.4,
             "#fde0ef"
            ],
            [
             0.5,
             "#f7f7f7"
            ],
            [
             0.6,
             "#e6f5d0"
            ],
            [
             0.7,
             "#b8e186"
            ],
            [
             0.8,
             "#7fbc41"
            ],
            [
             0.9,
             "#4d9221"
            ],
            [
             1,
             "#276419"
            ]
           ]
          },
          "xaxis": {
           "gridcolor": "#283442",
           "linecolor": "#506784",
           "ticks": "",
           "title": {
            "standoff": 15
           },
           "zerolinecolor": "#283442",
           "automargin": true,
           "zerolinewidth": 2
          },
          "yaxis": {
           "gridcolor": "#283442",
           "linecolor": "#506784",
           "ticks": "",
           "title": {
            "standoff": 15
           },
           "zerolinecolor": "#283442",
           "automargin": true,
           "zerolinewidth": 2
          },
          "scene": {
           "xaxis": {
            "backgroundcolor": "rgb(17,17,17)",
            "gridcolor": "#506784",
            "linecolor": "#506784",
            "showbackground": true,
            "ticks": "",
            "zerolinecolor": "#C8D4E3",
            "gridwidth": 2
           },
           "yaxis": {
            "backgroundcolor": "rgb(17,17,17)",
            "gridcolor": "#506784",
            "linecolor": "#506784",
            "showbackground": true,
            "ticks": "",
            "zerolinecolor": "#C8D4E3",
            "gridwidth": 2
           },
           "zaxis": {
            "backgroundcolor": "rgb(17,17,17)",
            "gridcolor": "#506784",
            "linecolor": "#506784",
            "showbackground": true,
            "ticks": "",
            "zerolinecolor": "#C8D4E3",
            "gridwidth": 2
           }
          },
          "shapedefaults": {
           "line": {
            "color": "#f2f5fa"
           }
          },
          "annotationdefaults": {
           "arrowcolor": "#f2f5fa",
           "arrowhead": 0,
           "arrowwidth": 1
          },
          "geo": {
           "bgcolor": "rgb(17,17,17)",
           "landcolor": "rgb(17,17,17)",
           "subunitcolor": "#506784",
           "showland": true,
           "showlakes": true,
           "lakecolor": "rgb(17,17,17)"
          },
          "title": {
           "x": 0.05
          },
          "updatemenudefaults": {
           "bgcolor": "#506784",
           "borderwidth": 0
          },
          "sliderdefaults": {
           "bgcolor": "#C8D4E3",
           "borderwidth": 1,
           "bordercolor": "rgb(17,17,17)",
           "tickwidth": 0
          },
          "mapbox": {
           "style": "dark"
          }
         }
        },
        "scene": {
         "domain": {
          "x": [
           0.0,
           1.0
          ],
          "y": [
           0.0,
           1.0
          ]
         },
         "xaxis": {
          "title": {
           "text": "n_neighbors"
          }
         },
         "yaxis": {
          "title": {
           "text": "dimensions"
          }
         },
         "zaxis": {
          "title": {
           "text": "num_outliers"
          }
         }
        },
        "coloraxis": {
         "colorbar": {
          "title": {
           "text": "num_outliers"
          },
          "len": 0.75
         },
         "colorscale": [
          [
           0.0,
           "#440154"
          ],
          [
           0.1111111111111111,
           "#482878"
          ],
          [
           0.2222222222222222,
           "#3e4989"
          ],
          [
           0.3333333333333333,
           "#31688e"
          ],
          [
           0.4444444444444444,
           "#26828e"
          ],
          [
           0.5555555555555556,
           "#1f9e89"
          ],
          [
           0.6666666666666666,
           "#35b779"
          ],
          [
           0.7777777777777778,
           "#6ece58"
          ],
          [
           0.8888888888888888,
           "#b5de2b"
          ],
          [
           1.0,
           "#fde725"
          ]
         ],
         "cmin": 0,
         "cmax": 116
        },
        "legend": {
         "tracegroupgap": 0
        },
        "title": {
         "text": "3D Plot of num_outliers by n_neighbors and dimensions"
        },
        "width": 1600,
        "height": 800
       },
       "config": {
        "plotlyServerURL": "https://plot.ly"
       }
      }
     },
     "metadata": {},
     "output_type": "display_data"
    }
   ],
   "execution_count": 45
  },
  {
   "metadata": {},
   "cell_type": "markdown",
   "source": "Inspect certain points manually to determine the quality of clusters",
   "id": "caa9920607849964"
  },
  {
   "metadata": {
    "ExecuteTime": {
     "end_time": "2025-07-15T05:06:49.769892Z",
     "start_time": "2025-07-15T05:06:49.764138Z"
    }
   },
   "cell_type": "code",
   "source": [
    "def inspect_topic(data: DataFrame, n_neighbors: int, dimensions: int, sort_df=False, ascending=False) -> DataFrame:\n",
    "    \"\"\"\n",
    "    Inspect the results for a specific n_neighbors and dimensions combination.\n",
    "    \"\"\"\n",
    "    col_name = f\"n{n_neighbors}d{dimensions}\"\n",
    "    if col_name in data.columns:\n",
    "        output = data[[\"qid\", \"question\", col_name]].rename(columns={col_name: \"topic\"})\n",
    "        if sort_df:\n",
    "            output = output.sort_values(by=\"topic\", ascending=ascending)\n",
    "    else:\n",
    "        raise ValueError(f\"No results found for n_neighbors={n_neighbors} and dimensions={dimensions}\")\n",
    "    return output"
   ],
   "id": "b9d8fdb66d9c04e1",
   "outputs": [],
   "execution_count": 46
  },
  {
   "metadata": {
    "ExecuteTime": {
     "end_time": "2025-07-15T05:06:52.201253Z",
     "start_time": "2025-07-15T05:06:52.194249Z"
    }
   },
   "cell_type": "code",
   "source": [
    "def plot_2d_clusters(data: DataFrame, size: Tuple[int,int] = (1400,1200)) -> px.scatter:\n",
    "    \"\"\"\n",
    "    Plot the 2D clusters and color code by topic\n",
    "\n",
    "    ====== Representational Invariant ==========\n",
    "    - embeddings are two dimensional\n",
    "    \"\"\"\n",
    "    fig = px.scatter(\n",
    "        data, x=0, y=1,\n",
    "        color='topic',\n",
    "        title='2D Clusters Colored by Topic',\n",
    "        color_continuous_scale=\"Viridis\",\n",
    "        hover_name=\"question\"\n",
    "    )\n",
    "    fig.update_traces(marker=dict(size=10))\n",
    "    fig.update_layout(\n",
    "        width=size[0],\n",
    "        height=size[1],\n",
    "        xaxis_title='X',\n",
    "        yaxis_title='Y',\n",
    "        plot_bgcolor='white'\n",
    "    )\n",
    "    return fig\n",
    "\n",
    "\n",
    "def plot_3d_clusters(data: DataFrame, size: Tuple[int,int] = (1400,1000)) -> px.scatter_3d:\n",
    "    \"\"\"\n",
    "    Plot the 3D clusters and color code by topic\n",
    "\n",
    "    ====== Representational Invariant ==========\n",
    "    - embeddings are three dimensional\n",
    "    \"\"\"\n",
    "    fig = px.scatter_3d(\n",
    "        data, x=0, y=1, z=2,\n",
    "        color='topic',\n",
    "        title='3D Clusters Colored by Topic',\n",
    "        color_continuous_scale=\"Viridis\",\n",
    "        hover_name=\"question\"\n",
    "    )\n",
    "    fig.update_traces(marker=dict(size=10))\n",
    "    fig.update_layout(\n",
    "        width=size[0],\n",
    "        height=size[1],\n",
    "        scene=dict(\n",
    "            xaxis_title='X',\n",
    "            yaxis_title='Y',\n",
    "            zaxis_title='Z'\n",
    "        )\n",
    "    )\n",
    "    return fig"
   ],
   "id": "8eb21e8b3fb9e7ce",
   "outputs": [],
   "execution_count": 47
  },
  {
   "metadata": {
    "ExecuteTime": {
     "end_time": "2025-07-15T05:06:54.263878Z",
     "start_time": "2025-07-15T05:06:54.257573Z"
    }
   },
   "cell_type": "code",
   "source": [
    "from typing import Dict\n",
    "\n",
    "def make_embeds_with_topics(qid_lst: List[str],\n",
    "                            qb: QuestionBank,\n",
    "                            topic_array: np.ndarray, reduced_embeddings: np.ndarray,\n",
    "                            dimension: int) -> DataFrame:\n",
    "    result_dict = {\n",
    "        \"qid\": qid_lst,\n",
    "        \"question\": [format_question(qb.get_question(qid)) for qid in qid_lst],\n",
    "        \"topic\": topic_array\n",
    "    }\n",
    "    for i in range(dimension):\n",
    "        result_dict[i] = reduced_embeddings[:, i]\n",
    "    return DataFrame(result_dict)\n",
    "\n",
    "def make_embeds_df(qid_lst: List[str],\n",
    "                   qb: QuestionBank,\n",
    "                   id_to_embedding: Dict[str, np.ndarray],\n",
    "                   dim: int, n_nghbrs: int) -> DataFrame:\n",
    "    embedding_lst = [id_to_embedding[qid] for qid in (sorted(qid_lst))]\n",
    "    embeds_3d = get_reduced(dimension=dim,\n",
    "                            n_neighbors=n_nghbrs,\n",
    "                            embeddings=np.array(embedding_lst),\n",
    "                            make_new=True)\n",
    "    return make_embeds_with_topics(sorted(qid_lst),\n",
    "                                   qb,\n",
    "                                   cluster_embeddings(embeds_3d),\n",
    "                                   embeds_3d,\n",
    "                                   dim)"
   ],
   "id": "a522bc5199b14bcb",
   "outputs": [],
   "execution_count": 48
  },
  {
   "metadata": {
    "ExecuteTime": {
     "end_time": "2025-07-15T05:07:10.323474Z",
     "start_time": "2025-07-15T05:07:01.729124Z"
    }
   },
   "cell_type": "code",
   "source": [
    "embeds_with_topics = make_embeds_df(combined_results[\"qid\"].tolist(),\n",
    "                                    qb,\n",
    "                                    id_to_embedding,\n",
    "                                    dim=2, n_nghbrs=5)"
   ],
   "id": "5dabc17e93f4ed46",
   "outputs": [
    {
     "name": "stderr",
     "output_type": "stream",
     "text": [
      "/Users/simonxu/opt/anaconda3/envs/drivetest_tag_gen/lib/python3.11/site-packages/sklearn/utils/deprecation.py:132: FutureWarning:\n",
      "\n",
      "'force_all_finite' was renamed to 'ensure_all_finite' in 1.6 and will be removed in 1.8.\n",
      "\n"
     ]
    }
   ],
   "execution_count": 49
  },
  {
   "metadata": {
    "ExecuteTime": {
     "end_time": "2025-07-15T05:07:12.209751Z",
     "start_time": "2025-07-15T05:07:12.138734Z"
    }
   },
   "cell_type": "code",
   "source": [
    "fig = plot_2d_clusters(embeds_with_topics)\n",
    "# fig = plot_3d_clusters(embeds_with_topics)\n",
    "fig.show()"
   ],
   "id": "a238b9052153aecc",
   "outputs": [
    {
     "data": {
      "application/vnd.plotly.v1+json": {
       "data": [
        {
         "hovertemplate": "<b>%{hovertext}</b><br><br>0=%{x}<br>1=%{y}<br>topic=%{marker.color}<extra></extra>",
         "hovertext": [
          "题目:这个标志是何含义？ 答案:禁止直行和向右转弯",
          "题目:这个标志是何含义？ 答案:十字交叉路口预告",
          "题目:这个标志是何含义？ 答案:会车时停车让对方车先行",
          "题目:谨慎驾驶的三个原则是集中注意力、仔细观察和提前预防。 答案:对",
          "题目:在这条公路上行驶的最高速度不能超过多少？ 答案:40公里/小时",
          "题目:驾驶机动车在雾天行车开启雾灯和危险报警闪光灯。 答案:对",
          "题目:驾驶机动车在路口遇到这种信号灯亮时，不能右转弯。 答案:错",
          "题目:灯光开关旋转到这个位置时，全车灯光点亮。 答案:错",
          "题目:如图所示，这辆小轿车不能在这个位置停车。 答案:对",
          "题目:汽车列车在转弯过程中，要注意提前做好让车准备。 答案:对",
          "题目:汽车列车的车身越长，转弯半径越小。 答案:错",
          "题目:机动车驾驶人造成事故后逃逸构成犯罪的，吊销驾驶证且多长时间不得重新取得驾驶证？ 答案:终生",
          "题目:机动车仪表板上如图所示指示灯亮时表示什么？ 答案:已开启前照灯远光",
          "题目:这个路面标记是何含义？ 答案:最高限速为100公里/小时",
          "题目:驾驶机动车在道路上靠路边停车过程中如何使用灯光？ 答案:提前开启右转向灯",
          "题目:机动车驾驶人初次取得汽车类准驾车型或者初次取得摩托车类准驾车型后的多长时间为实习期？ 答案:12个月",
          "题目:驾驶机动车在道路上违反道路交通安全法的行为，属于什么行为？ 答案:违法行为",
          "题目:如图所示，驾驶机动车驶出这个路口时应当怎样使用灯光? 答案:开启右转向灯",
          "题目:机动车仪表板上如图所示指示灯亮表示什么？ 答案:左转向指示灯闪烁",
          "题目:下列哪个标志提示驾驶人下陡坡？ 答案:如图中D所示",
          "题目:遇到这个标志时，您应该主动确认您与前车之间的距离。 答案:对",
          "题目:路面上的白色标线是何含义？ 答案:车行道横向减速标线",
          "题目:夜间通过无交通信号灯控制的交叉路口时，不得变换远、近光灯。 答案:错",
          "题目:车辆行至急转弯处时，应减速并靠右侧行驶，防止与越过弯道中心线的对方车辆相撞。 答案:对",
          "题目:下列哪个标志禁止一切车辆长时间停放，但可以临时停车？ 答案:如图中D所示",
          "题目:关于机动车灯光的使用，以下说法正确的是什么？ 答案:机动车灯光一个重要的作用是提示其他机动车驾驶人和行人",
          "题目:申请人因故不能按照预约时间参加考试的，应当提前一日申请取消预约。对申请人未按照预约考试时间参加考试的，判定该次考试不合格。 答案:对",
          "题目:变更车道时只需开启转向灯，便可迅速转向驶入相应的行车道。 答案:错",
          "题目:下列关于大型、中型载客汽车能否牵引挂车的说法，正确的是什么？ 答案:不得牵引挂车",
          "题目:行车中从其他道路汇入车流前，应注意观察侧后方车辆的动态。 答案:对",
          "题目:车辆因故障必须在高速公路停车时，应在车后方至少多少米处设置故障警告标志？ 答案:150",
          "题目:在道路上遇到这种情况可以从左侧超车。 答案:错",
          "题目:这个标志是何含义？ 答案:错车道",
          "题目:这个标志是何含义？ 答案:高速公路加油站",
          "题目:红色圆圈内标线含义是什么？ 答案:公交车停靠站",
          "题目:如图所示，在这种路口怎样进行掉头？ 答案:从中心线虚线处掉头",
          "题目:如图所示，在路边临时停放机动车是什么违法行为？ 答案:在人行横道上停车",
          "题目:这是什么踏板？ 答案:制动踏板",
          "题目:驾驶机动车在高速公路遇到能见度低于50米的气象条件时，车速不得超过20公里/小时，还应怎么做？ 答案:尽快驶离高速公路",
          "题目:路中心的双黄实线属于哪一类标线？ 答案:禁止标线",
          "题目:在距这段路多少米以内的路段不能停放机动车？ 答案:50米以内",
          "题目:如图所示，车辆在拥挤路段排队行驶时，遇有其他车辆强行穿插行驶，为保证安全，应该怎么办？ 答案:减速或停车让行",
          "题目:摩托车驾驶人及乘坐人员应当按规定戴安全头盔。 答案:对",
          "题目:在这种情况的铁路道口要加速通过。 答案:错",
          "题目:车辆发生故障而无法移动时，首先应在车辆后方50-150米处放置危险警告标志，防止后车追尾。 答案:错",
          "题目:发动机号码、车辆识别代号因磨损、锈蚀、事故等原因辨认不清或者损坏的，可以向登记地车辆管理所申请备案。 答案:对",
          "题目:驾驶机动车行驶过程中，遇道路养护车辆从本车道逆向驶来时，以下做法正确的是什么？ 答案:靠边减速或停车让行",
          "题目:这个标志是何含义？ 答案:环行交叉路口预告",
          "题目:大雾天行车，多鸣喇叭是为了什么？ 答案:引起对方注意，避免发生危险",
          "题目:如图所示，A车可以从左侧超越B车。 答案:错",
          "题目:驾驶机动车在这种条件的道路上行驶，最高速度不能超过每小时50公里。 答案:错",
          "题目:驶近没有人行横道的交叉路口时，发现有人横穿道路，应怎样做？ 答案:减速或停车让行",
          "题目:这个标志的含义是提醒车辆驾驶人前方路段通过村庄或集镇。 答案:对",
          "题目:以下哪个仪表表示发动机转速表？ 答案:如图中A所示",
          "题目:雾天行车听到对方鸣喇叭，也应该鸣喇叭回应，以提示对方车辆。 答案:对",
          "题目:车辆在主干道上行驶，驶近主支干道交汇处时，为防止与从支路突然驶入的车辆相撞，应怎样做？ 答案:提前减速、观察，谨慎驾驶",
          "题目:遇到路口情况复杂时，应做到“宁停三分，不抢一秒”。 答案:对",
          "题目:车辆在路边起步后应尽快提速，并向左迅速转向驶入正常行驶道路。 答案:错",
          "题目:这个标志是何含义？ 答案:右转车道",
          "题目:这个标志的含义是警告前方道路易滑，注意慢行。 答案:错",
          "题目:申请人在考试过程中有贿赂、舞弊行为的，取消考试资格，已经通过考试的其他科目成绩无效。 答案:对",
          "题目:下列哪个表示一般道路车道数变少？ 答案:图2",
          "题目:机动车驾驶人在实习期内驾驶机动车不得牵引挂车。 答案:对",
          "题目:驾驶机动车在这种情况下可以右转弯。 答案:错",
          "题目:驾驶机动车在没有交通信号的路口遇到前方车辆缓慢行驶时要依次交替通行。 答案:对",
          "题目:驾驶机动车在下列哪种路段不得超车？ 答案:窄桥、弯道",
          "题目:这个标志是何含义？ 答案:旅游区方向",
          "题目:变更车道时只需开启转向灯，并迅速转向驶入相应的车道，以不妨碍同车道机动车正常行驶。 答案:错",
          "题目:如图所示，驾驶机动车在路口遇到这种信号灯应该如何行驶？ 答案:向右转弯",
          "题目:机动车驾驶人在实习期内有记满12分记录的，注销其实习的准驾车型驾驶资格。 答案:对",
          "题目:如图所示，当您车速为95km/h时，您可以在哪条车道内行驶？ 答案:车道B",
          "题目:在这段道路上，只要不影响其他车辆通行的前提下可以掉头。 答案:对",
          "题目:如图所示，以下哪种情况可以超车？ 答案:如图中C所示",
          "题目:这个标志是何含义？ 答案:左侧通行",
          "题目:这个标志是何含义？ 答案:高速公路紧急停车带",
          "题目:如图所示，这种情况下只要后方、对向无来车，可以掉头。 答案:对",
          "题目:车辆在高速公路匝道上可以停车。 答案:错",
          "题目:这个标志是何含义？ 答案:高速公路右侧出口预告",
          "题目:雨天行车，遇撑雨伞和穿雨衣的行人在公路上行走时，应怎样做？ 答案:提前鸣喇叭，并适当降低车速",
          "题目:小型客车行驶在平坦的高速公路上，突然有颠簸感觉时，应迅速降低车速，防止爆胎。 答案:对",
          "题目:驾驶人在驾驶证核发地车辆管理所管辖区以外居住的，可以向居住地车辆管理所申请换证。 答案:对",
          "题目:因避让特种车辆而发生违法行为，被电子警察拍到时，可向交管部门复议。 答案:对",
          "题目:驾驶机动车行经下列哪种路段时不得超车？ 答案:交叉路口",
          "题目:机动车驾驶人违法驾驶造成重大交通事故构成犯罪的，依法追究什么责任？ 答案:刑事责任",
          "题目:这一组交通警察手势是什么信号？ 答案:左转弯待转信号",
          "题目:这个标志是何含义？ 答案:高速公路ETC车道",
          "题目:这个标志的含义是警告车辆驾驶人前方是学校区域。 答案:错",
          "题目:在没有中心线的道路上发现后车发出超车信号时，如果条件许可如何行驶？ 答案:降速靠右让路",
          "题目:驾驶车辆进入高速公路加速车道后，应尽快将车速提高到每小时多少公里以上？ 答案:60",
          "题目:如图所示，A车在此时进入左侧车道是因为进入实线区不得变更车道。 答案:对",
          "题目:驾驶机动车遇到漫水桥时要察明水情确认安全后再低速通过。 答案:对",
          "题目:驾驶机动车在没有中心线的城市道路上，最高速度不能超过每小时50公里。 答案:错",
          "题目:在这种急弯道路上行车应交替使用远、近光灯。 答案:对",
          "题目:申请小型汽车准驾车型驾驶证的人年龄条件是多少？ 答案:18周岁以上",
          "题目:已注册登记的机动车，改变机动车车身颜色的，机动车所有人应到登记地车辆管理所申请变更登记。 答案:对",
          "题目:以下哪个仪表表示水温表？ 答案:如图中C所示",
          "题目:这个标志是何含义？ 答案:室内停车场",
          "题目:在高速公路上开车遇到图中所示的情况时，以下操作不正确的是什么？ 答案:继续维持高速行驶，防止后面车辆堵塞",
          "题目:这是什么操纵装置？ 答案:驻车制动器操纵杆",
          "题目:驾驶机动车行经漫水路或者漫水桥时，应当停车察明水情。 答案:对",
          "题目:如图所示，驾驶机动车遇左侧车道有车辆正在超车时，可以迅速变道，伺机反超。 答案:错",
          "题目:在路口直行时，遇这种情形如何通行？ 答案:让右方道路车辆先行",
          "题目:以下交通标志表示的含义是什么？ 答案:禁止机动车驶入",
          "题目:驾驶证记载的驾驶人信息发生变化的要在多长时间内申请换证？ 答案:30日",
          "题目:大型货车驾驶人在一个记分周期内参加满分教育的次数每增加一次或者累积记分每增加12分，道路交通安全法律、法规和相关知识的学习时间增加30天，每次满分学习的天数最多120天。 答案:对",
          "题目:机动车之间发生交通事故，不管是否有人员伤亡，只要双方当事人同意，都可自行协商解决。 答案:错",
          "题目:驾驶机动车在路口遇到这种情况如何行驶？ 答案:停车等待",
          "题目:这个标志是何含义？ 答案:高速公路终点预告",
          "题目:夜间会车时距对向来车150米以内应使用近光灯的原因是什么？ 答案:使用远光灯会造成双方驾驶人出现眩目，而发生危险",
          "题目:这个标志是何含义？ 答案:右侧绕行",
          "题目:夜间行车中，前方出现弯道时，灯光照射会发生怎样的变化？ 答案:由路中移到路侧",
          "题目:看到这个标志的时候，您应该开启前照灯。 答案:对",
          "题目:这个标志是何含义？ 答案:国道编号",
          "题目:路口转弯过程中，持续开启转向灯，主要是因为什么？ 答案:让其他驾驶人知道您正在转弯",
          "题目:驾驶机动车通过没有交通信号和管理人员的铁路道口怎样通过？ 答案:停车确认安全后通过",
          "题目:饮酒后驾驶营运机动车的，处十五日拘留，并处多少罚款？ 答案:5000元",
          "题目:这个标志是何含义？ 答案:多乘员车辆专用车道",
          "题目:这位驾驶人违反法律规定的行为是什么？ 答案:没系安全带",
          "题目:载货汽车从注册登记之日起，超过10年的，每隔多长时间检验1次？ 答案:6个月",
          "题目:车辆在高速公路行驶时，可以仅凭感觉确认车速。 答案:错",
          "题目:通过铁路道口时，不得超车。 答案:对",
          "题目:机动车驾驶人在实习期内不得驾驶载有危险化学品的机动车。 答案:对",
          "题目:机动车登记证书丢失后应及时补办，避免被不法分子利用。 答案:对",
          "题目:水淹路面影响行车安全，不易通行的原因是什么？ 答案:无法观察到暗坑和凸起的路面",
          "题目:将转向灯开关向下拉，右转向灯亮。 答案:错",
          "题目:小型汽车驾驶人发生交通事故造成人员死亡，承担同等以上责任未被吊销驾驶证的，应当在记分周期结束后30日内接受审验。 答案:对",
          "题目:驾驶人有下列哪种违法行为一次记6分？ 答案:驾驶机动车在高速公路违法占用应急车道行驶的",
          "题目:如图所示停放机动车是什么违法行为 答案:在公共汽车站停车",
          "题目:持有小型汽车驾驶证的驾驶人，发生交通事故造成人员死亡承担同等以上责任未被吊销机动车驾驶证的，应当在本记分周期结束后三十日内到公安机关交通管理部门接受审验，同时应当申报身体条件情况。 答案:对",
          "题目:有下列哪种违法行为的机动车驾驶人将被一次记9分？ 答案:驾驶故意污损号牌的机动车上道路行驶",
          "题目:在高速公路上行驶感觉疲劳时，应立即停车休息。 答案:错",
          "题目:在高速公路上驾驶机动车，车辆发生故障后的处置方法，以下说法错误的是什么？ 答案:车内乘员应下车辅助将故障车辆推移到紧急停车带上",
          "题目:如图所示，在这种情况下，会车时必须减速靠右通过。 答案:对",
          "题目:驾驶机动车在隧道内行驶时，可以临时停车。 答案:错",
          "题目:摩托车爆胎时，驾驶人应在控制住方向的情况下采取紧急制动，迫使摩托车迅速停住。 答案:错",
          "题目:遇到这种情形时要停车避让行人。 答案:对",
          "题目:事故报警时，要向交警提供事故地点、人员伤情、车辆号牌等信息，协助交警快速定位到达现场。 答案:对",
          "题目:机动车发生故障时，如图所示指示灯闪烁。 答案:错",
          "题目:如图所示，在这种情况下准备进入环形路口时，为了保证车后车流的通畅，应加速超越红车进入路口。 答案:错",
          "题目:如图所示，驾驶机动车在这种情况下，当C车减速让超车时，A车应该如何行驶？ 答案:放弃超越C车",
          "题目:道路交通安全违法行为累积记分一个周期满分为12分。 答案:对",
          "题目:驾驶机动车驶近急弯、坡道顶端等影响安全视距的路段时，减速慢行并鸣喇叭示意是为了什么？ 答案:提示对向交通参与者我方有来车",
          "题目:驾驶机动车在这种道路上如何通行？ 答案:在道路中间通行",
          "题目:在这个路口左转弯选择哪条车道？ 答案:最左侧车道",
          "题目:行车中需要借道绕过前方障碍物，但对向来车已接近障碍物时，应怎样做？ 答案:降低速度或停车，让对向来车优先通行",
          "题目:机动车仪表板上如图所示指示灯亮，提示右侧车门未关闭。 答案:错",
          "题目:行驶至这种上坡路段时，以下做法正确的是什么？ 答案:换低挡位，踏加速踏板",
          "题目:机动车在发生碰撞时，安全带可以减轻驾乘人员受到的伤害。 答案:对",
          "题目:遇到这种情况的路段，可以进入网状线区域内停车等候。 答案:错",
          "题目:使用伪造、变造的机动车号牌的，一次记几分？ 答案:12分",
          "题目:驾驶机动车行经下列哪种路段不得超车？ 答案:人行横道",
          "题目:驾驶机动车在高速公路要按照限速标志标明的车速行驶。 答案:对",
          "题目:车辆下长坡过程中，遇制动鼓温度过高时，不要立即进入冷水中冷却，以免造成制动鼓损坏。 答案:对",
          "题目:这个标志是何含义？ 答案:向右转弯",
          "题目:摩托车从注册登记之日起10年内，每多长时间向公安交管部门申领一次检验标志？ 答案:2年",
          "题目:车辆驶入高速公路匝道后，迅速将车速提高到每小时60公里以上。 答案:错",
          "题目:装有ABS系统的机动车在冰雪路面上会最大限度缩短制动距离。 答案:错",
          "题目:以下哪个指示灯亮时，提醒驾驶人安全带插头未插入锁扣？ 答案:如图中A所示",
          "题目:驾驶机动车在泥泞道路行驶时，最高速度不能超过多少？ 答案:30公里/小时",
          "题目:这个标志的含义是提醒车辆驾驶人前方是无人看守铁路道口。 答案:错",
          "题目:行车中发现前方道路拥堵时，应怎样做？ 答案:减速停车，依次排队等候",
          "题目:将转向灯开关向上提，左转向灯亮。 答案:错",
          "题目:雪天在高速公路上驾驶时，关于安全车距错误的说法是什么？ 答案:能见度小于200m时，与前车至少保持50m的安全距离",
          "题目:旋转开关这一挡控制机动车哪个部位？ 答案:前后雾灯",
          "题目:年龄在70周岁以上的机动车驾驶人，应当每年进行一次身体检查。 答案:对",
          "题目:通过经常发生塌方、泥石流的山区地段，避免停车。 答案:对",
          "题目:公安交通管理部门对驾驶人的交通违法行为除依法给予行政处罚外，实行下列哪种制度？ 答案:累积记分制度",
          "题目:点火开关在ON位置，车用电器不能使用。 答案:错",
          "题目:这个导向箭头是何含义？ 答案:指示前方左转弯",
          "题目:路面上的菱形块虚线是何含义？ 答案:车行道纵向减速标线",
          "题目:驾驶人在实习期内驾驶机动车上高速公路行驶，应由持相应或者更高准驾车型驾驶证一年以上的驾驶人陪同。 答案:错",
          "题目:安装防抱死制动装置（ABS）的机动车紧急制动时，可用力踏制动踏板。 答案:对",
          "题目:这个导向箭头是何含义？ 答案:指示前方掉头",
          "题目:行车中仪表板上如图所示指示灯亮表示什么？ 答案:发动机温度过高",
          "题目:驾驶车辆时在道路上抛撒物品，以下说法不正确的是？ 答案:保持车内整洁，减少燃油消耗",
          "题目:行驶在高速公路上遇大雾视线受阻时，应当立即紧急制动停车。 答案:错",
          "题目:在高速公路变更车道时，应提前开启转向灯，观察情况，确认安全后，驶入需要变更的车道。 答案:对",
          "题目:半挂车倒车时转向盘转动方向与单车倒车方向相反。 答案:对",
          "题目:这个标志的含义是指示此处设有室内停车场。 答案:对",
          "题目:这个标志的含义是警告车辆驾驶人注意前方设有信号灯。 答案:对",
          "题目:驾驶机动车由加速车道进入高速公路行驶，以下做法错误的是什么？ 答案:经加速车道充分加速后，可直接驶入最左侧车道",
          "题目:摩托车涉水后，制动器的制动效果不会改变。 答案:错",
          "题目:驾驶人违反交通运输管理法规发生重大事故后，逃逸或者有其他特别恶劣情节的，处7年以上有期徒刑。 答案:错",
          "题目:如图所示，驾驶机动车遇到这种信号灯亮时，如果已越过停止线，可以继续通行。 答案:对",
          "题目:如图所示，此时车辆可以怎么行驶？ 答案:左转或者直行",
          "题目:一个合格的驾驶人，不仅表现在技术的娴熟上，更重要的是应该具有良好的驾驶行为习惯和道德修养。 答案:对",
          "题目:如图所示，驾驶机动车直行遇前方道路堵塞时，车辆可以在黄色网格线区域临时停车等待，但不得在人行横道停车。 答案:错",
          "题目:下面关于下坡熄火滑行的说法错误的是什么？ 答案:下坡滑行是利用坡道的位能推动汽车前进，发动机不工作，可以节油，应大力提倡",
          "题目:驾驶小型汽车下陡坡时允许熄火滑行。 答案:错",
          "题目:机动车发生碰撞时座椅安全带主要作用是什么？ 答案:减轻驾乘人员伤害",
          "题目:图中标志的含义是什么？ 答案:禁止载货汽车驶入",
          "题目:这个标志是何含义？ 答案:高速公路命名编号",
          "题目:驾驶人连续驾驶不得超过多长时间？ 答案:4小时",
          "题目:驾驶机动车在没有中心线的城市道路上，最高的行驶速度不能超过每小时50公里。 答案:错",
          "题目:这辆红色轿车可以在该车道行驶。 答案:错",
          "题目:如图所示，在这种情况下，A车可以向左变更车道。 答案:错",
          "题目:机动车行驶证灭失、丢失，机动车所有人要向登记地车辆管理所申请补领、换领。 答案:对",
          "题目:《道路交通安全法实施条例》规定，高速公路上最高时速不得超过120公里。因此在高速公路上行驶只要时速不超过120公里就不违法。 答案:错",
          "题目:车辆通过凹凸路面时，应怎样做？ 答案:低速缓慢平稳通过",
          "题目:路中心白色实线是何含义？ 答案:禁止跨越同向车行道分界线",
          "题目:驾驶人发现转向把不灵活时，下列做法哪一项是错误的？ 答案:继续驾驶",
          "题目:在一般道路倒车时，若发现有过往车辆通过，应怎样做？ 答案:主动停车避让",
          "题目:这个标志是何含义？ 答案:应当鸣喇叭",
          "题目:这个标志是何含义？ 答案:路面低洼",
          "题目:这是什么操纵装置？ 答案:除雾器开关",
          "题目:驾驶车辆在道路上行驶时，应当按照规定的速度安全行驶。 答案:对",
          "题目:这个标志是何含义？ 答案:向右急弯路",
          "题目:如图所示，驾驶机动车遇到这种情况时，以下做法正确的是什么？ 答案:应停车察明水情，确认安全后，低速通过",
          "题目:这个标志是何含义？ 答案:乡道编号",
          "题目:机动车运载超限不可解体物品影响交通安全的，应当按照哪个部门指定的时间、路线、速度行驶，并悬挂明显标志？ 答案:公安机关交通管理部门",
          "题目:申请人在考试过程中有贿赂、舞弊行为的，申请人在多少年内不得再次申领机动车驾驶证？ 答案:1年",
          "题目:摩托车前轮爆胎时，会产生严重的左右摆动，驾驶人应立即减小油门，紧握转向把，逐级减挡，减速停车。 答案:对",
          "题目:在这种情况下允许借右侧公交车道超车。 答案:错",
          "题目:如图所示，可以从这个位置直接驶入高速公路行车道。 答案:错",
          "题目:客车行经转弯、上下坡、凹凸路时，应让乘客抓住车内固定物，尤其提醒后排乘客注意安全。 答案:对",
          "题目:路面上的黄色标记是何含义？ 答案:禁止右转",
          "题目:初次申领的机动车驾驶证的有效期为6年。 答案:对",
          "题目:行至这种情况的铁路道口要停车观察。 答案:对",
          "题目:驾驶摩托车，应穿着颜色鲜明的长袖及长裤服装，易被其他交通参与者发现。 答案:对",
          "题目:避免爆胎的错误做法是什么？ 答案:降低轮胎气压",
          "题目:机动车仪表板上（如图所示）亮表示什么？ 答案:防抱死制动系统故障",
          "题目:驾驶机动车在前方路口不能右转弯。 答案:错",
          "题目:车辆不得在高速公路匝道上掉头。 答案:对",
          "题目:高速公路上行车，如果因疏忽驶过出口，应怎样做？ 答案:继续向前行驶，寻找下一个出口",
          "题目:如图所示，在这种雾天情况下，通过交叉路口时必须开灯、鸣喇叭，加速通过，以免造成交通拥堵。 答案:错",
          "题目:在山区冰雪道路上行车，遇有前车正在爬坡时，后车应怎样做？ 答案:选择适当地点停车，等前车通过后再爬坡",
          "题目:路口最前端的双白实线是什么含义？ 答案:停车让行线",
          "题目:驾驶人持超过有效期的驾驶证可以在1年内驾驶机动车。 答案:错",
          "题目:驾驶机动车下陡坡、转弯、掉头时，最高速度不能超过多少？ 答案:30公里/小时",
          "题目:如图所示，驾驶机动车遇到这种情况能够加速通过，是因为人行横道没有行人通过。 答案:错",
          "题目:这种停车标线含义是什么？ 答案:固定停车方向停车位",
          "题目:驾驶机动车向右变更车道前应仔细观察右侧车道车流情况的原因是什么？ 答案:判断有无变更车道的条件",
          "题目:对驾驶已达到报废标准的机动车上路行驶的驾驶人，会受到下列哪种处罚？ 答案:吊销机动车驾驶证",
          "题目:行人参与道路交通的主要特点是什么？ 答案:行走随意性大，方向多变",
          "题目:这个标志是何含义？ 答案:窄桥",
          "题目:在这条车道行驶的最高车速是多少？ 答案:90公里/小时",
          "题目:这种白色矩形标线框含义是什么？ 答案:平行式停车位",
          "题目:以下哪个指示灯亮时，表示防抱死制动系统出现故障？ 答案:如图中C所示",
          "题目:交通警察对未放置保险标志上道路行驶的车辆可依法扣留行驶证。 答案:错",
          "题目:驾驶人在道路上醉酒驾驶机动车的处3年以上有期徒刑。 答案:错",
          "题目:驾驶机动车在道路上发生交通事故要立即将车移到路边。 答案:错",
          "题目:客车遇碰刮或制动失效时，应迅速告知乘客向车厢哪个位置或没有被刮碰的一侧挤靠，并抓住车内固定物，注意防范车身变形挤伤身体？ 答案:中部",
          "题目:在学习驾驶证明的有效期内，科目二和科目三道路驾驶技能考试预约次数分别不得超过多少次？ 答案:5次",
          "题目:酒后驾驶发生重大交通事故被依法追究刑事责任的人不能申请机动车驾驶证。 答案:对",
          "题目:驾驶机动车超车时，前方车辆不减速让路，应停止超车并适当减速，与前方车辆保持安全距离。 答案:对",
          "题目:营运客车起步前，乘务人员应提醒乘客系好安全带。 答案:对",
          "题目:驾驶机动车在路口遇到这种信号灯禁止通行。 答案:错",
          "题目:这个仪表是何含义？ 答案:燃油表",
          "题目:下雨后路面湿滑，车辆行驶中紧急制动时，容易导致什么？ 答案:发生侧滑、引发交通事故",
          "题目:遇到这种单方交通事故，应如何处理？ 答案:报警",
          "题目:客车在行驶中遇险时，要做到哪些？ 答案:优先保护乘客人身安全",
          "题目:如图所示，驾驶机动车行驶至此位置时，以下做法正确的是什么？ 答案:不得左转，应当直行",
          "题目:机动车仪表板上如图所示这个符号表示什么？ 答案:车灯总开关",
          "题目:以下哪个仪表表示速度和里程表？ 答案:如图中B所示",
          "题目:这种黄黑相间的倾斜线条是什么标记？ 答案:立面标记",
          "题目:打开前雾灯开关，如图所示指示灯亮起。 答案:错",
          "题目:这个标志是何含义？ 答案:解除禁止超车",
          "题目:通过窄路、窄桥时，不得超车。 答案:对",
          "题目:这个标志的含义是提醒车辆驾驶人前方是堤坝路段。 答案:错",
          "题目:如图所示，在这种情况下跟车行驶，不能使用远光灯的原因是什么？ 答案:会影响前车驾驶人的视线",
          "题目:如图所示，在这种情况下，您应该轻踩制动踏板减速。 答案:对",
          "题目:这个标志是何含义？ 答案:交叉路口预告",
          "题目:遇到这种情形时，应怎么办？ 答案:停车让行人先行",
          "题目:驾驶人未携带哪种证件驾驶机动车上路，交通警察可依法扣留车辆？ 答案:机动车行驶证",
          "题目:车辆发生故障无法移动时，以下做法是否正确？ 答案:错",
          "题目:持有大型客车、重型牵引挂车、城市公交车、中型客车、大型货车驾驶证一个记分周期内有记分的，审验时应当参加不少于3小时的道路交通安全法律法规、交通安全文明驾驶、应急处置等知识学习，并接受交通事故案例警示教育。 答案:对",
          "题目:驾驶机动车下长坡时，利用惯性滑行可以减少燃油消耗，值得提倡。 答案:错",
          "题目:这个标志是何含义？ 答案:直行和右转合用车道",
          "题目:这个标志的含义是提醒车辆驾驶人前方是过水路面或漫水桥路段。 答案:对",
          "题目:如图所示，这辆在高速公路上临时停放的故障车，警告标志应该设置在车后多远处？ 答案:150米以外",
          "题目:如图所示，驾驶过程中遇到这种情况时，A车可以长鸣喇叭提醒道路养护车辆暂停喷水。 答案:错",
          "题目:下列哪个交通标志表示不能停车？ 答案:如图中B所示",
          "题目:未上坡的车辆遇到这种情况让对向下坡车先行。 答案:对",
          "题目:全挂车倒车，要避免牵引车与挂车形成怎样的角度？ 答案:较小的角度",
          "题目:发生交通事故时，下列哪种情况下当事人应当保护现场并立即报警？ 答案:驾驶人有酒后驾驶嫌疑的",
          "题目:下列哪个标志，指示车辆直行和右转合用车道？ 答案:如图中A所示",
          "题目:如图所示，驾驶机动车行驶至车道减少的路段时，遇前方机动车排队等候或行驶缓慢时，以下做法正确的是什么？ 答案:每车道一辆依次交替驶入左侧车道",
          "题目:开启前照灯远光时仪表板上如图所示指示灯亮起。 答案:错",
          "题目:行车中遇交通事故受伤者需要抢救时，应怎样做？ 答案:及时将伤者送医院抢救或拨打急救电话",
          "题目:如图所示，当您超越右侧车辆时，应该尽快超越，减少并行时间。 答案:对",
          "题目:这个标志是何含义？ 答案:注意儿童",
          "题目:行车中在道路情况良好的条件下可以观看车载视频。 答案:错",
          "题目:城市公共汽车不得在站点以外的路段停车上下乘客。 答案:对",
          "题目:图中圈内两条黄色虚线间的区域是何含义？ 答案:公交专用车道",
          "题目:记分满12分的驾驶人拒不参加学习和考试的将被公告驾驶证停止使用。 答案:对",
          "题目:如图所示，夜间驾驶机动车遇对方使用远光灯，无法看清前方路况时，以下做法正确的是什么？ 答案:降低车速，谨慎会车",
          "题目:这个标志的含义是提醒车辆驾驶人前方是车辆渡口。 答案:对",
          "题目:打开机动车车门时，不得妨碍其他车辆和行人通行。 答案:对",
          "题目:大型、中型非营运载客汽车从注册登记之日起，多长时间以内每年检验1次？ 答案:10年",
          "题目:这是什么操纵装置？ 答案:刮水器开关",
          "题目:发生交通事故造成人员受伤时，要保护现场并立即报警。 答案:对",
          "题目:机动车仪表板上如图所示指示灯亮时，提醒发动机冷却液可能不足。 答案:对",
          "题目:这属于哪一类标志？ 答案:指路标志",
          "题目:行车中遇儿童时，应怎样做？ 答案:减速慢行，必要时停车避让",
          "题目:下列哪个标志为最低限速标志？ 答案:如图中B所示",
          "题目:持有大型客车、重型牵引挂车、城市公交车、中型客车、大型货车驾驶证的驾驶人从业单位等信息发生变化的，应当在信息变更后三十日内，向从业单位所在地车辆管理所备案。 答案:对",
          "题目:已注册登记的机动车达到国家规定的强制报废标准的，应当向登记地车辆管理所申请注销登记。 答案:对",
          "题目:路中白色虚线是什么标线？ 答案:可跨越同向车道中心线",
          "题目:高速公路上同时有最高和最低速度限制，因为过快或者过慢都容易导致追尾。 答案:对",
          "题目:为提示车辆和行人注意，雾天必须开启哪个灯？ 答案:如图中D所示",
          "题目:这个标志的含义是告示前方道路施工，车辆左右绕行。 答案:错",
          "题目:路右侧车行道边缘白色虚线是什么含义？ 答案:车辆可临时越线行驶",
          "题目:年龄在50周岁以上的机动车驾驶人，应当每年进行一次身体检查，并向公安机关交通管理部门申报身体条件情况。 答案:错",
          "题目:设有安全带装置的车辆，应要求车内乘员系安全带。 答案:对",
          "题目:驾驶人的驾驶证损毁后不得驾驶机动车。 答案:对",
          "题目:这个标志提示哪种车型禁止通行？ 答案:小型客车",
          "题目:这个地面标记的含义是预告前方设有交叉路口。 答案:错",
          "题目:这种标志的作用是警告车辆驾驶人前方有危险，谨慎通行。 答案:对",
          "题目:避让特种车辆使其顺利通过后，车辆应有序回到原车道继续行驶，不要尾随特种车辆，以免发生交通事故。 答案:对",
          "题目:驾驶机动车下陡坡时不得有哪些危险行为？ 答案:空挡滑行",
          "题目:驾驶车辆向右变更车道时，应提前开启右转向灯，注意观察，在确保安全的情况下，驶入要变更的车道。 答案:对",
          "题目:已注册登记的机动车，改变车身颜色，机动车所有人不需要向登记地车辆管理所申请变更登记。 答案:错",
          "题目:冰雪道路对安全行车的主要影响是什么？ 答案:制动性能差，方向易跑偏",
          "题目:这个仪表是何含义？ 答案:速度和里程表",
          "题目:驾驶人违反交通运输管理法规发生重大事故后，因逃逸致人死亡的，处多少年有期徒刑？ 答案:7年以上",
          "题目:如图所示，A车在这种情况下，应适当减速。 答案:对",
          "题目:机动车仪表板上如图所示指示灯一直亮，表示安全气囊处于工作状态。 答案:错",
          "题目:交通肇事致一人以上重伤，负事故全部或者主要责任，并具有下列哪种行为的，构成交通肇事罪？ 答案:严重超载驾驶的",
          "题目:对驾驶拼装机动车上路行驶的驾驶人，会受到下列哪种处罚？ 答案:处200以上2000元以下罚款",
          "题目:这个导向箭头是何含义？ 答案:指示前方可左转或掉头",
          "题目:机动车上路行驶时，前排乘车人可不系安全带。 答案:错",
          "题目:发动机起动后仪表板上如下图所示指示灯亮表示什么？ 答案:发动机机油压力过低",
          "题目:这辆停在路边的机动车没有违法行为。 答案:错",
          "题目:这属于哪一种标志？ 答案:旅游区标志",
          "题目:道路交通安全违法行为累积记分的周期是多长时间？ 答案:12个月",
          "题目:机动车仪表板上如图所示指示灯亮时，提醒驾驶人座椅没调整好。 答案:错",
          "题目:如图所示，在这种情况下遇右侧车辆变更车道，应减速保持间距，注意避让。 答案:对",
          "题目:驾驶机动车上路行驶应当按规定悬挂号牌。 答案:对",
          "题目:对未按照国家规定投保交强险的车辆，交通警察可依法予以扣留。 答案:对",
          "题目:如图所示，前方路口这种信号灯亮表示什么意思？ 答案:禁止通行",
          "题目:当驾驶员看到以下标志时，需减速慢行，是因为什么？ 答案:前方车行道或路面变窄",
          "题目:以下哪个指示灯亮时，表示发动机温度过高？ 答案:如图中B所示",
          "题目:这个导向箭头是何含义？ 答案:指示前方可直行或掉头",
          "题目:道路最左侧白色虚线区域是何含义？ 答案:多乘员车辆专用车道",
          "题目:机动车在道路上发生故障难以移动时要在车后50米以内设置警告标志。 答案:错",
          "题目:驾驶报废机动车上路行驶的驾驶人，除按规定罚款外，还要受到哪种处理？ 答案:吊销驾驶证",
          "题目:驾驶机动车前，以下说法错误的是什么？ 答案:调整安全头枕高度，使头枕正对驾驶人的颈椎",
          "题目:驾驶机动车超车时，被超越车辆未减速让路，应提速超越前方车辆完成超车。 答案:错",
          "题目:下列哪种标识是自学直考人员在道路上学习驾驶时，应当在车上放置的标志？ 答案:学车专用标识",
          "题目:在什么情况下不得行车？ 答案:车门没关闭",
          "题目:驾驶车辆在交叉路口前变更车道时，应怎样驶入要变更的车道？ 答案:在虚线区按导向箭头指示",
          "题目:车辆长时间停放时，应选择停车场停车。 答案:对",
          "题目:车辆上坡行驶，要提前观察路况、坡道长度，及时减挡使车辆保持充足的动力。 答案:对",
          "题目:在暴雨天气驾车，刮水器无法刮净雨水时，应怎样做？ 答案:立即减速靠边停车",
          "题目:这个导向箭头是何含义？ 答案:指示直行或左转弯",
          "题目:牵引故障车时，牵引与被牵引的机动车，在行驶中都要开启危险报警闪光灯。 答案:对",
          "题目:车辆涉水后，应保持低速行驶，怎样操作制动踏板，以恢复制动效果？ 答案:间断轻踏",
          "题目:驾驶人驾驶机动车不按交通信号灯指示通行的，一次记多少分？ 答案:6分",
          "题目:安装乘客安全带的车辆，应要求乘客在起步前按规定使用安全带。 答案:对",
          "题目:机动车仪表板上如图指示灯亮表示什么？ 答案:两侧车门开启",
          "题目:驾驶机动车在高速公路遇到能见度低于200米的气象条件时，最高车速是多少？ 答案:不得超过60公里/小时",
          "题目:有下列哪种违法行为的机动车驾驶人将被一次记6分？ 答案:驾驶机动车不按交通信号灯指示通行",
          "题目:开启危险报警闪光灯时，如图所示指示灯闪烁。 答案:对",
          "题目:在这条高速公路上行驶，最高速度不能超过多少？ 答案:110公里/小时",
          "题目:路面上的黄色填充标线是何含义？ 答案:接近障碍物标线",
          "题目:非机动车驾驶人、行人故意碰撞机动车造成交通事故的，机动车一方不承担赔偿责任。 答案:对",
          "题目:以下安全带系法正确的是？ 答案:如图中A所示",
          "题目:驾驶机动车在道路上违反道路通行规定应当接受相应的处罚。 答案:对",
          "题目:轻便摩托车只允许乘载学龄前儿童。 答案:错",
          "题目:机动车购买后尚未注册登记，需要临时上道路行驶的，可以凭什么临时上道路行驶？ 答案:临时行驶车号牌",
          "题目:驾驶人有使用其他车辆号牌、行驶证嫌疑的，交通警察可依法扣留车辆。 答案:对",
          "题目:机动车仪表板上如图所示指示灯一直亮表示什么？ 答案:安全气囊处于故障状态",
          "题目:机动车在道路上发生故障，难以移动时下列做法正确的是什么？ 答案:开启危险报警闪光灯",
          "题目:行车中遇到正在进行作业的道路养护车辆、工程作业车时要注意避让。 答案:对",
          "题目:科目三道路驾驶技能和安全文明驾驶常识考试满分分别为100分，成绩分别达到80和90分的为合格。 答案:错",
          "题目:进入左侧道路超车，无法保证与正常行驶前车的横向安全间距时，应怎样做？ 答案:放弃超车",
          "题目:以下交通标志表示除小客车和货车外，其他车辆可以直行。 答案:对",
          "题目:这个标志是何含义？ 答案:高速公路地点距离预告",
          "题目:这辆在道路上行驶的机动车有下列哪种违法行为？ 答案:故意遮挡号牌",
          "题目:驾驶人有使用其他车辆保险标志嫌疑的，交通警察可依法扣留车辆。 答案:对",
          "题目:在泥泞路上制动时，摩托车车轮易发生侧滑或甩尾，导致交通事故。 答案:对",
          "题目:如图所示，驾驶机动车遇到这种情况时，以下做法正确的是什么？ 答案:应停车察明水情，确认安全后，低速通过",
          "题目:点火开关在START位置起动机起动。 答案:对",
          "题目:这个标志是何含义？ 答案:隧道",
          "题目:红色圆圈内标线含义是什么？ 答案:港湾式停靠站",
          "题目:驾驶机动车行经城市没有列车通过的铁路道口时允许超车。 答案:错",
          "题目:驾驶机动车通过铁路道口时，最高速度不能超过多少？ 答案:30公里/小时",
          "题目:夜间行车，遇对面来车未关闭远光灯时，应减速行驶，以防两车灯光的交汇处有行人通过时发生事故。 答案:对",
          "题目:驾驶机动车遇紧急事务，可以边开车边接打电话。 答案:错",
          "题目:驾驶车辆驶入铁路道口前减速降挡，进入道口后，做法正确的是什么？ 答案:不能变换挡位",
          "题目:驾驶机动车在上道路行驶前驾驶人要按规定系好安全带。 答案:对",
          "题目:汽车列车的车身越长，转弯半径会怎样？ 答案:越大",
          "题目:学习驾驶证明的有效期是多久？ 答案:3年",
          "题目:驾驶人在驾驶证有效期满前多长时间申请换证？ 答案:90日内",
          "题目:上道路行驶的机动车驾驶人未携带机动车驾驶证、行驶证的，除扣留机动车外，并受到什么处罚？ 答案:罚款",
          "题目:这是什么操纵装置？ 答案:变速器操纵杆",
          "题目:驾驶小型载客汽车在高速公路行驶的最低车速为90公里/小时。 答案:错",
          "题目:驾驶机动车在路口右转弯时，应提前开启右转向灯，不受信号灯限制，不受车速限制，迅速通过，防止路口堵塞。 答案:错",
          "题目:这个标志是何含义？ 答案:停车让行",
          "题目:这个标志是何含义？ 答案:向左急弯路",
          "题目:在这种环境下通过路口如何使用灯光？ 答案:交替使用远、近光灯",
          "题目:转弯时速度过快，摩托车容易冲出弯道或侧滑。 答案:对",
          "题目:穿高跟鞋驾驶摩托车，不利于安全行车。 答案:对",
          "题目:泥泞道路对安全行车的主要影响是什么？ 答案:车轮极易滑转和侧滑",
          "题目:这个标志是何含义？ 答案:车道数增加",
          "题目:开启前照灯近光时仪表板上如图所示指示灯亮起。 答案:错",
          "题目:这个路面标记是何含义？ 答案:非机动车道",
          "题目:驾驶机动车下长坡时，空挡滑行会导致再次挂挡困难。 答案:对",
          "题目:这是什么踏板？ 答案:加速踏板",
          "题目:这个标志是何含义？ 答案:距无人看守铁路道口100米",
          "题目:这个标志是何含义？ 答案:直行和左转合用车道",
          "题目:车辆下坡行驶，要适当控制车速，充分利用发动机进行制动。 答案:对",
          "题目:车辆后备箱门未关好，是可以上路行驶的。 答案:错",
          "题目:如图所示，在同向三车道高速公路上行车，车速高于每小时110公里的车辆应在哪条车道上行驶？ 答案:最左侧车道",
          "题目:这一组交通警察手势是什么信号？ 答案:左转弯信号",
          "题目:在交叉路口遇到这种情况享有优先通行权。 答案:错",
          "题目:路中心黄色虚实线是何含义？ 答案:实线一侧禁止越线",
          "题目:图中左侧白色轿车，在这种情况下为了保证安全，应适当降低车速。 答案:对",
          "题目:驾驶人违反交通运输管理法规发生重大事故致人重伤的可能判处3年以下徒刑或拘役。 答案:对",
          "题目:机动车驾驶人造成重大交通事故后逃逸，构成犯罪的，十年内不能申请机动车驾驶证。 答案:错",
          "题目:超车时，如果无法保证与被超车辆的安全间距，应主动放弃超车。 答案:对",
          "题目:车辆发生爆胎后，驾驶人在尚未控制住车速前，不要冒险使用行车制动器停车，以避免车辆横甩发生更大的险情。 答案:对",
          "题目:车辆进入山区道路后，要特别注意“连续转弯”标志，并主动避让车辆及行人，适时减速和提前鸣喇叭。 答案:对",
          "题目:这个标志的含义是提醒车辆驾驶人前方是傍山险路路段。 答案:错",
          "题目:驾驶人有哪种情形，交通警察可依法扣留机动车驾驶证？ 答案:饮酒后驾驶机动车",
          "题目:山区道路对安全行车的主要影响是什么？ 答案:坡长弯急，视距不足",
          "题目:这个标志是何含义？ 答案:高速公路入口预告",
          "题目:这个标志的作用是用以警告车辆驾驶人谨慎慢行，注意横向来车。 答案:对",
          "题目:这个标志是何含义？ 答案:向左和向右转弯",
          "题目:如图所示，驾驶机动车遇前方车流行驶缓慢时，借用公交专用道超车是正确的。 答案:错",
          "题目:夜间行车，驾驶人的视野受限，很难观察到灯光照射区域以外的交通情况，因此要减速行驶。 答案:对",
          "题目:在这种情况下可以加速通过人行横道。 答案:错",
          "题目:以下哪个仪表表示燃油表？ 答案:如图中D所示",
          "题目:准驾车型为小型汽车的，可以驾驶小型自动挡载客汽车。 答案:对",
          "题目:这个标志是何含义？ 答案:高速公路地点、方向预告",
          "题目:公路客运车辆载客超过额定乘员，但没有超过额定乘员20%的，处多少罚款？ 答案:200元以上500元以下",
          "题目:这个标志是何含义？ 答案:右侧通行",
          "题目:这个标志是何含义？ 答案:提醒车辆驾驶人前方有两个及以上的连续下坡路段",
          "题目:车辆临时靠边停车后准备起步时，应先怎样做？ 答案:观察周围交通情况",
          "题目:这个标志是何含义？ 答案:渡口",
          "题目:驾驶人逃离火灾如果无法开启驾驶室门或车门时，应敲碎前挡风玻璃脱离。 答案:错",
          "题目:这个标志是何含义？ 答案:多股铁路与道路相交",
          "题目:如图所示，在这种情形下，对方车辆具有先行权。 答案:对",
          "题目:全挂车倒车时转向盘转动方向与单车倒车方向相反。 答案:错",
          "题目:全挂列车倒车，要避免牵引车与挂车形成较大的角度。 答案:错",
          "题目:这个标志是何含义？ 答案:高速公路交通广播频率",
          "题目:这个标志的含义是提醒车辆驾驶人前方有很强的侧向风。 答案:对",
          "题目:车辆发生意外，要及时打开哪个灯? 答案:如图中D所示",
          "题目:驾驶机动车通过未设置交通信号灯的交叉路口时，下列说法错误的是什么？ 答案:相对方向行驶的左转弯机动车让右转弯的车辆先行",
          "题目:驾驶机动车上坡时，在将要到达坡道顶端时要加速并鸣喇叭。 答案:错",
          "题目:如图所示，在高速公路同方向三条机动车道右侧车道行驶，车速不能低于多少？ 答案:60公里/小时",
          "题目:蓝色车辆遇到图中的情形时，下列做法正确的是？ 答案:停车等待，直到学生队伍完全通过",
          "题目:驾驶人在核发地车辆管理所管辖区以外居住的，可以向居住地车辆管理所申请换证。 答案:对",
          "题目:在泥泞路上制动时，车轮易发生侧滑或甩尾，导致交通事故。 答案:对",
          "题目:侧身乘坐摩托车极不安全，一旦发生侧滑，由于重心不稳，会被甩出造成伤亡。 答案:对",
          "题目:饮酒后只要不影响驾驶操作可以短距离驾驶机动车。 答案:错",
          "题目:如图所示，红圈标注的深色车辆的做法是违法的。 答案:对",
          "题目:如图所示，驾驶机动车在这种信号灯亮的路口，可以右转弯。 答案:对",
          "题目:准驾车型为大型货车的，可以驾驶以下哪种车型？ 答案:小型汽车",
          "题目:这个路面数字标记是何含义？ 答案:速度限制标记",
          "题目:驾驶机动车跨越双实线行驶属于什么行为？ 答案:违法行为",
          "题目:对有伪造或变造号牌、行驶证嫌疑的车辆，交通警察可依法予以扣留。 答案:对",
          "题目:车辆行至交叉路口时，左转弯车辆在任何时段都可以进入左转弯待转区。 答案:错",
          "题目:交通肇事致一人以上重伤，负事故全部或者主要责任，并具有下列哪种行为的，构成交通肇事罪？ 答案:为逃避法律追究逃离事故现场的",
          "题目:如图所示，在这个路口可以掉头。 答案:错",
          "题目:在这个弯道上行驶时的最高速度不能超过多少？ 答案:30公里/小时",
          "题目:如图所示，机动车遇行人正在通过人行横道时，要停车让行，是因为行人享有优先通行权。 答案:对",
          "题目:掉头过程中，应严格控制车速，仔细观察道路前后方情况，确认安全后方可前进或倒车。 答案:对",
          "题目:载客汽车行李架载货时，从地面起高度不得超过多少米？ 答案:4",
          "题目:驾驶机动车正在被其他车辆超越时，被超车辆减速靠右侧行驶的目的是什么？ 答案:给该车让出足够的超车空间",
          "题目:这一组交通警察手势是什么信号？ 答案:停止信号",
          "题目:驾驶机动车找不到停车位时可以借人行道停放。 答案:错",
          "题目:这个标志是何含义？ 答案:只准直行",
          "题目:图中圈内白色实线是什么标线？ 答案:导向车道线",
          "题目:这是什么交通标志？ 答案:连续弯路",
          "题目:机动车载人不得超过核定的人数。 答案:对",
          "题目:驾驶机动车行驶到这个位置时，如果车前轮已越过停止线可以继续通过。 答案:错",
          "题目:驾驶车辆驶离高速公路可以从这个位置直接驶入匝道。 答案:错",
          "题目:驾驶机动车在高速公路上遇到雨雪天气时，需要降低车速、保持安全距离的原因，以下说法错误的是什么？ 答案:降低恶劣天气对车辆造成的损害",
          "题目:这个标志的含义是前方即将行驶至Y形交叉路口。 答案:错",
          "题目:这个标志是何含义？ 答案:交通监控设备",
          "题目:服用国家管制的精神药品可以短途驾驶机动车。 答案:错",
          "题目:牵引发生故障的机动车时，最高车速不得超过多少？ 答案:30公里/小时",
          "题目:驾驶这种机动车上路行驶属于什么行为？ 答案:违法行为",
          "题目:如图所示，在这种情况下，驾驶机动车要停车让行。 答案:对",
          "题目:机动车所有人申请转移登记前，应当将涉及该车的道路交通安全违法行为和交通事故处理完毕。 答案:对",
          "题目:将机动车交由未取得机动车驾驶证的人驾驶的，由公安交通管理部门处二百元以上二千元以下罚款，可以并处以下哪种处罚？ 答案:吊销驾驶证",
          "题目:这属于哪一种标志？ 答案:禁令标志",
          "题目:载货汽车从注册登记之日起，多长时间以内每年检验1次？ 答案:10年",
          "题目:对发生道路交通事故需要收集证据的事故车，交通警察可以依法扣留。 答案:对",
          "题目:驾驶机动车造成重大交通事故后逃逸，构成犯罪的，由公安机关交通管理部门吊销机动车驾驶证，且终生不得重新取得机动车驾驶证。 答案:对",
          "题目:驾驶机动车在没有道路中心线的道路上行驶，应该在道路的左侧通行。 答案:错",
          "题目:驾驶机动车遇雾、雨、雪等能见度在50米以内时，最高速度不能超过多少？ 答案:30公里/小时",
          "题目:摩托车爆胎时，驾驶人应迅速踏下制动踏板减速，极力控制转向把，迅速停车。 答案:错",
          "题目:这个标志的含义是提醒前方道路变为不分离双向行驶路段。 答案:对",
          "题目:这个标志的含义是警告车辆驾驶人前方是人行横道。 答案:错",
          "题目:机动车驾驶人在实习期内不得驾驶哪类车型？ 答案:公共汽车",
          "题目:行车中前方遇自行车影响通行时，可鸣喇叭提示，加速绕行。 答案:错",
          "题目:图中圈内黄色虚线是什么标线？ 答案:路口导向线",
          "题目:这个仪表是何含义？ 答案:水温表",
          "题目:如图所示，在高速公路最左侧车道行驶，想驶离高速公路，以下说法正确的是什么？ 答案:每次变更一条车道，直到最右侧车道",
          "题目:驾驶机动车在道路上向左变更车道时如何使用灯光？ 答案:提前开启左转向灯",
          "题目:这是什么踏板？ 答案:离合器踏板",
          "题目:在这条车道行驶的最低车速是多少？ 答案:100公里/小时",
          "题目:在以下哪些路段不能倒车？ 答案:以上皆是",
          "题目:路中心黄色虚线属于哪一类标线？ 答案:指示标线",
          "题目:夜间行车，可选择下列哪个地段超车？ 答案:路宽车少",
          "题目:行车中下列哪个灯亮，提示驾驶人车辆制动系统出现异常? 答案:如图中C所示",
          "题目:如图所示，铁路道口设置这个标志，是提示驾驶人前方路口只有单股铁道。 答案:错",
          "题目:驾驶机动车发生故障或事故不能正常行驶时，应立即打开危险报警闪光灯。 答案:对",
          "题目:这个标志是何含义？ 答案:立体交叉直行和右转弯行驶",
          "题目:夜间在道路上会车时，距离对向来车多远将远光灯改用近光灯？ 答案:150米以外",
          "题目:如图所示，夜间驾驶机动车与同方向行驶的前车距离较近时，以下做法正确的是什么？ 答案:禁止使用远光灯，避免灯光照射至前车后视镜造成前车驾驶人眩目",
          "题目:交通信号包括交通信号灯、交通标志、交通标线和交通警察的指挥。 答案:对",
          "题目:驾驶机动车遇到前方车辆停车排队等候或缓慢行驶时怎么办？ 答案:依次行驶",
          "题目:这个标志是何含义？ 答案:堤坝路",
          "题目:安全头枕在发生追尾事故时，能有效保护驾驶人的什么部位？ 答案:颈部",
          "题目:黄灯持续闪烁，表示机动车可以加速通过。 答案:错",
          "题目:在这段道路上一定要减少鸣喇叭的频率。 答案:错",
          "题目:驾驶人在观察后方无来车的情况下，未开转向灯就变更车道也是合理的。 答案:错",
          "题目:遇到这种情况时，要加速从银灰色车前变更车道。 答案:错",
          "题目:载货汽车从注册登记之日起，超过10年的，每年检验多少次？ 答案:2",
          "题目:这个标志是何含义？ 答案:禁止超车",
          "题目:车辆在山区道路行车下陡坡时，不得超车。 答案:对",
          "题目:如图所示，A车货物掉落，导致B车与掉落货物发生碰撞，以下说法正确的是什么？ 答案:A车负全部责任",
          "题目:这个标志是何含义？ 答案:高速公路下一出口预告",
          "题目:隐瞒有关情况或者提供虚假材料申请机动车驾驶证，申请人在多少年内不得再次申领机动车驾驶证？ 答案:1年",
          "题目:驾驶机动车在没有道路中心线的狭窄山路怎样会车？ 答案:不靠山体的一方先行",
          "题目:这个标志是何含义？ 答案:注意野生动物",
          "题目:载货汽车从注册登记之日起，10年以内每年检验几次？ 答案:1次",
          "题目:这个标志的含义是表示车辆会车时，对方车辆应停车让行。 答案:错",
          "题目:雾天行车时，应及时开启什么灯？ 答案:雾灯",
          "题目:这个标志是何含义？ 答案:省道编号",
          "题目:在冰雪道路上行车时，摩托车的稳定性降低，加速过急时车轮极易空转或滑溜。 答案:对",
          "题目:驾驶摩托车时不得在车把上悬挂物品。 答案:对",
          "题目:行车中遇残疾人影响通行时，应主动减速礼让。 答案:对",
          "题目:遇到这种情况时怎样行驶？ 答案:禁止车辆在两侧车道通行",
          "题目:摩托车在冰雪路制动时，驾驶人应采用点制动，并在制动时双脚做好落地的准备。 答案:对",
          "题目:这个标志是何含义？ 答案:避险车道",
          "题目:交通标志和交通标线不属于交通信号。 答案:错",
          "题目:在涉水路段跟车行驶时，应当怎样做？ 答案:适当增加车距",
          "题目:这个标志是何含义？ 答案:注意行人",
          "题目:车辆驶近停在车站的公交车辆时，为预防公交车突然起步或行人从车前穿出，应怎样做？ 答案:减速，保持足够间距，随时准备停车",
          "题目:这个标志是何含义？ 答案:县道编号",
          "题目:驾驶机动车在道路上发生交通事故，任何情况下都应标明现场位置后，先行撤离现场。 答案:错",
          "题目:禁令标志的作用是什么？ 答案:禁止或限制行为",
          "题目:驾驶机动车在冰雪道路行驶时，最高速度不能超过多少？ 答案:30公里/小时",
          "题目:这个标志是何含义？ 答案:高速公路服务区预告",
          "题目:行车中当车辆突然爆胎时，驾驶人切忌慌乱中急踏制动踏板，尽量采用“抢挡”的方法，利用发动机制动使车辆减速。 答案:对",
          "题目:这个标志的含义是指示此处设有室内停车场。 答案:错",
          "题目:在高速公路上行驶的载货汽车车厢内不得载人。 答案:对",
          "题目:指示标线的作用是什么？ 答案:指示通行",
          "题目:机动车驾驶人初次申领驾驶证后的实习期是多长时间？ 答案:12个月",
          "题目:如图所示，A车具有优先通行权。 答案:对",
          "题目:机动车驾驶人血液中酒精含量大于或者等于多少可认定为醉驾？ 答案:80毫克/100毫升",
          "题目:这个标志是何含义？ 答案:快速公交系统（BRT）车辆专用车道",
          "题目:这个标志是何含义？ 答案:观景台",
          "题目:下列关于夏季驾驶摩托车的错误做法是哪一项？ 答案:长时间高速行驶",
          "题目:在高速公路上行驶的载货汽车最高车速不得超过每小时多少公里？ 答案:100",
          "题目:行车中，遇有非机动车抢行时，应怎样做？ 答案:减速让行",
          "题目:货运机动车需要附载作业人员的，应当设置保护作业人员的安全措施。 答案:对",
          "题目:机动车号牌损毁，机动车所有人要向登记地车辆管理所申请补领、换领。 答案:对",
          "题目:如图所示，铁路道口禁止掉头的原因是什么？ 答案:容易引发事故",
          "题目:图中路口中央黄色路面标记是什么标线？ 答案:网状线",
          "题目:饮酒后或者醉酒驾驶机动车发生重大交通事故构成犯罪的，依法追究刑事责任，吊销机动车驾驶证，将多少年内不得申请机动车驾驶证？ 答案:终生",
          "题目:警车、消防车、救护车、工程救险车执行紧急任务时，耽误或影响其通行可能会导致严重后果，所以其他车辆和行人应当主动让行。 答案:对",
          "题目:下列关于三轮摩托车载物宽度的说法正确的是哪一项？ 答案:不得超过车身",
          "题目:驾驶机动车在高速公路上行驶，错过出口时，如果确认后方无来车，可以倒回出口驶离高速公路。 答案:错",
          "题目:这个标志是何含义？ 答案:分隔带左侧行驶",
          "题目:在这种情况下可加速通过交叉路口。 答案:错",
          "题目:行车中突遇对向车辆强行超车，占据自己车道时，可不予避让，迫使对方让路。 答案:错",
          "题目:遇到这种情况的路口怎样通过？ 答案:确认安全后通过",
          "题目:驾驶机动车遇有前方交叉路口交通阻塞时怎么办？ 答案:依次停在路口外等候",
          "题目:对未取得驾驶证驾驶机动车的，追究其法律责任。 答案:对",
          "题目:牵引车拖带挂车时，挂车必须装有有效的制动装置。 答案:对",
          "题目:这个标志是何含义？ 答案:立体交叉直行和左转弯行驶",
          "题目:如图所示，遇到这种情况时，中间车道不允许车辆通行。 答案:对",
          "题目:不得驾驶具有安全隐患的机动车上道路行驶。 答案:对",
          "题目:客车失火无法开启车门时，为了减少伤害，应尽快组织乘客如何逃生？ 答案:砸碎侧挡风玻璃",
          "题目:遇到这种情况的路口，以下做法正确的是什么？ 答案:该路口不能掉头",
          "题目:如图所示，通过有这个标志的路口时无需减速。 答案:错",
          "题目:驾驶拼装的机动车上道路行驶的，公安机关交通管理部门应当予以收缴，强制报废，并吊销机动车驾驶证。 答案:对",
          "题目:申请人患有癫痫病的，可以申领机动车驾驶证，但是驾驶时必须有人陪同。 答案:错",
          "题目:下列哪种情况可以向机动车驾驶证核发地车辆管理所申请补发? 答案:驾驶证遗失",
          "题目:增加大型货车准驾车型科目三考试的，在取得学习驾驶证明满30日后预约。 答案:对",
          "题目:机动车驾驶证有效期超过一年以上未换证的，驾驶证将被注销。 答案:对",
          "题目:以下不属于机动车驾驶证审验内容的是什么？ 答案:驾驶车辆累计行驶里程",
          "题目:客车在加油站加油时，驾驶人应当提醒乘客怎么做？ 答案:不能拨打手机、吸烟",
          "题目:专用车道规定的专用使用时间之外，其他车辆可以进入专用车道行驶。 答案:对",
          "题目:这个标志是何含义？ 答案:设有ETC的收费站",
          "题目:初次申领机动车驾驶证的，可以申请下列哪种准驾车型？ 答案:普通三轮摩托车",
          "题目:这辆黄色轿车变更车道的方法和路线是正确的。 答案:错",
          "题目:如图所示，这辆小型载客汽车进入高速公路行车道的行为是正确的。 答案:错",
          "题目:摩托车爆胎后，驾驶人在尚未控制住车速前，不要冒险使用制动器停车，以避免摩托车横甩发生更大的险情。 答案:对",
          "题目:这个标志是何含义？ 答案:禁止向左和向右转弯",
          "题目:这个标志是何含义？ 答案:向右单行路",
          "题目:客车在遇险的一刹那，应果断地采取一切有效措施保护乘客不受伤害或少受伤害，要避免车辆发生倾覆。 答案:对",
          "题目:距离交叉路口50米以内的路段不能停车。 答案:对",
          "题目:机动车在高速公路行驶，下列做法正确的是？ 答案:非紧急情况时不得在应急车道行驶或者停车",
          "题目:这个标志的含义是提醒前方左侧行车道或路面变窄。 答案:对",
          "题目:驾驶机动车在高速公路上行驶，遇有雾、雨、雪、沙尘、冰雹等低能见度气象条件时，能见度在50米以下时，以下做法正确的是什么？ 答案:以不超过每小时20公里的车速从最近的出口尽快驶离高速公路",
          "题目:驾驶机动车在山路行驶时，为了减少油耗，下坡时可以空挡滑行，并使用行车制动器控制速度。 答案:错",
          "题目:机动车在高速公路上发生故障或交通事故无法正常行驶时由什么车拖曳或牵引？ 答案:清障车",
          "题目:驾驶机动车超车后立即开启右转向灯驶回原车道。 答案:错",
          "题目:如图所示，驾驶机动车接打电话容易导致发生交通事故。 答案:对",
          "题目:这个仪表是何含义？ 答案:发动机转速表",
          "题目:机动车登记证书、号牌、行驶证灭失、丢失或者损毁的，机动车所有人应当向居住地车辆管理所申请补领、换领。 答案:错",
          "题目:驾驶证审验内容不包括以下哪一项？ 答案:机动车检验情况",
          "题目:图中深色车辆在该地点临时停车是可以的。 答案:错",
          "题目:车辆行至泥泞或翻浆路段时，应停车观察，选择平整、坚实的路段缓慢通过。 答案:对",
          "题目:以欺骗、贿赂等不正当手段取得驾驶证被依法撤销驾驶许可的，多长时间不得重新申请驾驶许可？ 答案:3年内",
          "题目:禁止货运机动车载客。 答案:对",
          "题目:持有大型客车、牵引车、城市公交车、中型客车、大型货车驾驶证的驾驶人联系电话、从业单位等信息发生变化未及时申报变更信息的，公安机关交通管理部门处二十元以上二百元以下罚款。 答案:对",
          "题目:这个标志是何含义？ 答案:掉头",
          "题目:在堵车的交叉路口绿灯亮时，车辆应怎样做？ 答案:不能驶入交叉路口",
          "题目:为什么规定辅路车让主路车先行？ 答案:主路车流量大、速度快",
          "题目:这个标志是何含义？ 答案:分隔带右侧行驶",
          "题目:驾驶人违反交通运输管理法规发生重大事故使公私财产遭受重大损失，可能会受到什么刑罚？ 答案:处3年以下徒刑或者拘役",
          "题目:汽车列车转直角弯时，需先判断弯道情况，减速或停车后重新起步，缓慢通过。 答案:对",
          "题目:如图所示，在这种情况下只要后方、对向无来车，可以掉头。 答案:错",
          "题目:在标志、标线齐全的高速公路上行车，应当按照什么规定的车道和车速行驶？ 答案:标志或标线",
          "题目:下长坡时，控制车速除了刹车制动以外，还有什么有效的辅助方法？ 答案:利用发动机制动",
          "题目:如何通过这种交叉路口？ 答案:减速慢行",
          "题目:这个标志是何含义？ 答案:傍山险路",
          "题目:驾驶机动车需要在路边停车时怎样选择停车地点？ 答案:在停车泊位内停放",
          "题目:这个标志是何含义？ 答案:旅游区距离",
          "题目:车辆在交叉路口绿灯亮后，遇非机动车抢道行驶时，可以不让行。 答案:错",
          "题目:这个标志是何含义？ 答案:丁字交叉路口预告",
          "题目:车辆转弯时应沿道路右侧行驶，不要侵占对方的车道，做到“左转转大弯，右转转小弯”。 答案:对",
          "题目:这个标志是何含义？ 答案:机动车车道",
          "题目:驾驶机动车超车时，可以鸣喇叭替代开启转向灯。 答案:错",
          "题目:前方路口这种信号灯亮表示什么意思？ 答案:路口警示",
          "题目:有吸食、注射毒品后驾驶车辆行为的机动车驾驶人，不会被注销驾驶证。 答案:错",
          "题目:机动车仪表板上如图所示指示灯亮，表示驻车制动器操纵杆可能没松到底。 答案:错",
          "题目:机动车紧急制动时，ABS系统在提供最大制动力的同时能使车前轮保持转向能力。 答案:对",
          "题目:行至两座山谷之间，如果遇到较强的横风，感觉摩托车产生横向偏移时，要急转转向把调正行进方向。 答案:错",
          "题目:机动车在紧急制动时ABS系统会起到什么作用？ 答案:防止车轮抱死",
          "题目:驾驶人将机动车交给驾驶证被吊销的人驾驶的，交通警察可依法吊销驾驶证。 答案:对",
          "题目:驾驶人的机动车驾驶证被依法扣留、暂扣的情况下不得驾驶机动车。 答案:对",
          "题目:遇紧急情况时，客车的顶窗也可用作疏散乘客的紧急出口。 答案:对",
          "题目:这个标志是何含义？ 答案:分向行驶车道",
          "题目:这一组交通警察手势是什么信号？ 答案:变道信号",
          "题目:如图所示，通过有这个标志的路口时应该减速让行。 答案:错",
          "题目:如图所示，驾驶机动车在路口遇到这种交通信号时，右转弯的车辆在不妨碍被放行的车辆、行人的情况下，可以通行。 答案:对",
          "题目:找出这辆故障车有哪种违法行为？ 答案:没有设置警告标志",
          "题目:这一组交通警察手势是什么信号？ 答案:右转弯信号",
          "题目:如图所示这个符号的开关控制什么装置？ 答案:车门锁住开锁",
          "题目:雪天行车中，在有车辙的路段应循车辙行驶。 答案:对",
          "题目:这个标志的含义是告示车辆驾驶人应慢行或停车，确保干道车辆优先。 答案:对",
          "题目:机动车向左转弯、向左变更车道、驶离停车地点或者掉头时，提前开启左转向灯是为了什么？ 答案:提示后车，将要向左变更行驶路线",
          "题目:客车通过险桥、漫水桥、渡口、危险地段前，应当怎么做？ 答案:组织乘客下车",
          "题目:如图所示，B车具有优先通行权。 答案:错",
          "题目:如图所示，当越过停在人行横道前的A车时，B车应减速，准备停车让行。 答案:对",
          "题目:驾驶机动车在铁路道口看到这种信号灯时怎样行驶？ 答案:不得越过停止线",
          "题目:在行驶过程中，机动车驾驶人要注意与前车保持安全距离。 答案:对",
          "题目:在同向4车道高速公路上行车，车速高于每小时110公里的车辆应在哪条车道上行驶？ 答案:最左侧",
          "题目:机动车仪表板上如图所示指示灯亮表示什么？ 答案:冷却液不足",
          "题目:驾驶小型汽车在城市快速路行驶，车速超过规定时速50%以上的一次记3分。 答案:错",
          "题目:路口最前端的双白虚线是什么含义？ 答案:减速让行线",
          "题目:风、雨、雪、雾等复杂气象条件，遇前车速度较低时，应开启前照灯，连续鸣喇叭迅速超越。 答案:错",
          "题目:这个标志是何含义？ 答案:十字交叉路口",
          "题目:这个路段可以在非机动车道上临时停车。 答案:错",
          "题目:机动车仪表板上如图所示指示灯亮表示什么？ 答案:空气内循环",
          "题目:驾驶机动车发生以下交通事故，哪种情况适用自行协商解决？ 答案:未造成人身伤亡，对事实及成因无争议的",
          "题目:闪光警告信号灯为持续闪烁的黄灯，其作用是提示车辆、行人需要快速通过。 答案:错",
          "题目:车辆因故障等原因需要被牵引时，以下说法正确的是什么？ 答案:前后车均应打开报警灯",
          "题目:在下图所示的交通事故中，有关事故责任认定，正确的说法是什么？ 答案:B车可以右转，但不得妨碍被放行的直行车辆，所以B车负全责",
          "题目:路中心的黄色斜线填充是何含义？ 答案:禁止跨越对向车行道分界线",
          "题目:这个标志是何含义？ 答案:双向交通",
          "题目:这个标志是何含义？ 答案:过水路面",
          "题目:这个路面标记是何含义？ 答案:最低限速为80公里/小时",
          "题目:营运载客汽车从注册登记之日起，超过5年的，每多长时间检验1次？ 答案:6个月",
          "题目:这一组交通警察手势是什么信号？ 答案:直行信号",
          "题目:在这种情况的交叉路口转弯要让直行车先行。 答案:对",
          "题目:当驾驶车辆行经两侧有非机动车行驶且有积水的路面时，应怎样做？ 答案:减速慢行",
          "题目:行至漫水路时，应当怎样做？ 答案:低速通过涉水路段",
          "题目:这个标志是何含义？ 答案:两侧通行",
          "题目:机动车发生正面碰撞时，安全气囊加上安全带的双重保护才能充分发挥作用。 答案:对",
          "题目:这种握转向盘的动作是正确的。 答案:错",
          "题目:路面上导向箭头是何含义？ 答案:提示前方有右弯或需向右合流",
          "题目:驾驶人在超车时，前方车辆不减速、不让道，应怎样做？ 答案:停止继续超车",
          "题目:驾驶车辆通过无人看守的铁路道口时，应怎样做？ 答案:一停、二看、三通过",
          "题目:夜间行驶，与对向车道车辆交会时，以下做法正确的是？ 答案:切换为近光灯",
          "题目:这个标志是何含义？ 答案:距无人看守铁路道口150米",
          "题目:如图所示，驾驶机动车遇到这种情况，以下做法正确的是什么？ 答案:降低行驶速度，避让行人",
          "题目:机动车驾驶证有效期分为6年、10年、20年。 答案:错",
          "题目:这个标志是何含义？ 答案:慢行",
          "题目:使用伪造、变造的行驶证、驾驶证的，一次记几分？ 答案:12分",
          "题目:前轮胎爆裂已出现转向时，驾驶人不要过度矫正，应在控制住方向的情况下，应怎样做，使车辆缓慢减速？ 答案:轻踏制动踏板",
          "题目:乘坐两轮摩托车的人应当侧向骑坐。 答案:错",
          "题目:遇到下列哪个标志，你不需要主动让行？ 答案:如图中D所示",
          "题目:驾驶机动车遇到前方道路拥堵时，可以借用无人通行的非机动车道行驶。 答案:错",
          "题目:在高速公路上长期骑、轧车行道分界线行驶，会同时占用两个车道，导致后方车辆行驶困难，易引发交通事故。 答案:对",
          "题目:超车需从前车左侧超越，以下说法正确的是什么？ 答案:便于观察，有利于安全",
          "题目:这样在路边临时停放机动车有什么违法行为？ 答案:在有禁停标线路段停车",
          "题目:车辆应靠高速公路右侧的路肩上行驶。 答案:错",
          "题目:其他车辆不准进入专用车道行驶，其目的是为了不影响专用车的正常通行。 答案:对",
          "题目:如图所示，这辆小型载客汽车驶离高速公路行车道的方法是正确的。 答案:对",
          "题目:如图所示，在这种情况下只要后方没有来车，可以倒车。 答案:错",
          "题目:驾驶机动车在高速公路上行驶，遇低能见度气象条件时，能见度在200米以下，车速不得超过每小时多少公里，与同车道前车至少保持多少米的距离？ 答案:60，100",
          "题目:驾驶人违反交通运输管理法规发生重大事故致人重伤、死亡，可能会受到什么刑罚？ 答案:处3年以下徒刑或者拘役",
          "题目:醉酒驾驶营运机动车的，由公安机关交通管理部门约束至酒醒，吊销机动车驾驶证，多长时间内不得重新取得机动车驾驶证，并依法追究刑事责任；重新取得机动车驾驶证后，不得驾驶营运机动车？ 答案:10年",
          "题目:驾驶人记分没有达到满分，有罚款尚未缴纳的，记分转入下一记分周期。 答案:对",
          "题目:补领机动车驾驶证应到以下哪个地方办理？ 答案:全国任何地方车辆管理所",
          "题目:这个标志是何含义？ 答案:非机动车行驶",
          "题目:夜间驾驶车辆遇自行车对向驶来时，应怎样做？ 答案:使用近光灯，减速或停车避让",
          "题目:行人参与道路交通的特点除了行走随意性大、方向多变以外，还喜欢聚集、围观。 答案:对",
          "题目:机动车行驶中，车上少年儿童可不使用安全带。 答案:错",
          "题目:车辆驶离高速公路时，应当经减速车道减速后进入匝道。 答案:对",
          "题目:这个标志是何含义？ 答案:直行单行路",
          "题目:驾驶机动车在夜间超车时怎样使用灯光？ 答案:变换远、近光灯",
          "题目:如图所示，驾驶机动车在路口直行遇到这种信号灯应该怎样行驶？ 答案:不得越过停止线",
          "题目:会车前选择的交会位置不理想时，应怎样做？ 答案:减速、低速会车或停车让行",
          "题目:出车前对轮胎进行哪些方面的检查？ 答案:轮胎的紧固和气压",
          "题目:在高速公路上遇分流交通管制时，可不驶出高速公路，就地靠边停靠等待管制结束后继续前行。 答案:错",
          "题目:摩托车高速行驶时，仅使用前制动，驾驶人易因惯性从车上甩出摔伤。 答案:对",
          "题目:这个标志是何含义？ 答案:连续下坡",
          "题目:路两侧的车行道边缘白色实线是什么含义？ 答案:禁止车辆跨越",
          "题目:这个标志是何含义？ 答案:直行和向右转弯",
          "题目:驾驶摩托车时应当穿着有脚后跟、鞋底不容易滑的鞋或靴，以保证用脚换挡的灵活，准确而可靠。 答案:对",
          "题目:图中哪个报警灯亮，提示充电电路异常或故障？ 答案:如图中D所示",
          "题目:行车中遇到对向来车占道行驶，应怎样做？ 答案:主动给对方让行",
          "题目:有执行社区戒毒、强制隔离戒毒、社区康复措施记录的，车辆管理所将注销其驾驶证。 答案:对",
          "题目:在这条公路上行驶的最高速度不能超过多少？ 答案:70公里/小时",
          "题目:行车中超越同向行驶的自行车时，应怎样做？ 答案:注意观察动态，减速慢行，留有足够的安全距离",
          "题目:这个标志是何含义？ 答案:禁止车辆停放",
          "题目:这个标志是何含义？ 答案:环岛行驶",
          "题目:这个标志的含义是提醒车辆驾驶人前方是无人看守铁路道口。 答案:对",
          "题目:驾驶机动车在高速公路发生故障，需要停车排除故障时，以下做法先后顺序正确的是？①放置警告标志，转移乘车人员至安全处，迅速报警②开启危险报警闪光灯③将车辆移至不妨碍交通的位置④等待救援。 答案:②③①④",
          "题目:这个标志是何含义？ 答案:地点距离",
          "题目:机动车驾驶人有以下哪种违法行为的，暂扣六个月机动车驾驶证？ 答案:饮酒后驾驶机动车的",
          "题目:关于醉酒驾驶机动车的处罚，以下说法错误的是什么？ 答案:记6分",
          "题目:这个标志是何含义？ 答案:隧道出口距离",
          "题目:车辆起步前，驾驶人应对车辆周围交通情况进行观察，确认安全时再开始起步。 答案:对",
          "题目:夜间行车，驾驶人视距变短，影响观察，同时注意力高度集中，易产生疲劳。 答案:对",
          "题目:这个标志是何含义？ 答案:高速公路停车区预告",
          "题目:如图所示，A车具有优先通行权。 答案:对",
          "题目:冰雪路行车时应注意什么？ 答案:制动距离延长",
          "题目:路中两条双黄色虚线是什么标线？ 答案:潮汐车道线",
          "题目:假如你驾车行驶在颠簸路段时，以下做法正确的是什么？ 答案:挂低挡位缓抬加速踏板",
          "题目:这个路面标记是什么标线？ 答案:中心圈",
          "题目:在划有道路中心线的道路上会车时，应做到保持安全车速、不越线行驶。 答案:对",
          "题目:驾驶机动车经过无划分车道的道路时，可以随意通行。 答案:错",
          "题目:机动车载运危险化学品，经公安部门批准后，行驶时间、路线可不受限制。 答案:错",
          "题目:驾驶人在道路上驾驶机动车追逐竞驶，情节恶劣的处3年以下有期徒刑。 答案:错",
          "题目:驾驶摩托车紧急制动时，应特别注意使车身垂直于路面，以免摩托车侧滑倾倒。 答案:对",
          "题目:机动车在道路上发生轻微交通事故且妨碍交通时，不需移动。 答案:错",
          "题目:机动车在抵押登记、质押备案期间不可以办理注销登记。 答案:对",
          "题目:下列关于载货汽车、半挂牵引车、拖拉机牵引挂车的说法正确的是？ 答案:只允许牵引1辆",
          "题目:以下哪种身体条件，不可以申请机动车驾驶证? 答案:红绿色盲",
          "题目:驾驶机动车违反道路交通安全法律法规发生交通事故属于交通违章行为。 答案:错",
          "题目:驾驶拼装机动车上路行驶的驾驶人，除按规定接受罚款外，还要受到哪种处理？ 答案:吊销驾驶证",
          "题目:发动机起动后仪表板上如下图所示指示灯亮表示什么？ 答案:油箱内燃油已到最低液面",
          "题目:驾驶机动车在道路上违反交通安全法规的行为属于违法行为。 答案:对",
          "题目:如图所示，机动车在这种道路上行驶，在道路中间通行的原因是什么？ 答案:给两侧的非机动车和行人留有充足的通行空间",
          "题目:上路行驶的机动车未随车携带身份证的，交通警察可依法扣留机动车。 答案:错",
          "题目:机动车仪表板上如图所示指示灯亮表示什么？ 答案:空气外循环",
          "题目:哪个报警灯亮，提示发动机控制系统异常或故障？ 答案:如图中C所示",
          "题目:这个标志是何含义？ 答案:禁止通行",
          "题目:这个标志是何含义？ 答案:直行和向左转弯",
          "题目:在道路上超车时，应尽量加大横向距离，必要时可越实线超车。 答案:错",
          "题目:车辆驶入双向行驶隧道前，应开启什么灯？ 答案:示廓灯或近光灯",
          "题目:驾驶机动车下陡坡时，以下做法正确的是？ 答案:不准空挡或熄火",
          "题目:打开位置灯开关，如下图所示指示灯亮起。 答案:对",
          "题目:路面上的黄色标记是何含义？ 答案:禁止掉头",
          "题目:遇到这种情形怎样行驶？ 答案:停车让对方车辆通过",
          "题目:隐瞒有关情况或者提供虚假材料申领机动车驾驶证的，申请人在1年内不得再次申领机动车驾驶证。 答案:对",
          "题目:距离桥梁、陡坡、隧道50米以内的路段不能停车。 答案:对",
          "题目:拼装的机动车只要认为安全就可以上路行驶。 答案:错",
          "题目:图中圈内白色横实线是何含义？ 答案:停止线",
          "题目:这个标志是何含义？ 答案:互通式立体交叉预告",
          "题目:机动车在道路上变更车道需要注意什么？ 答案:不能影响其他车辆正常行驶",
          "题目:以下哪个指示灯亮时，表示油箱内燃油已到最低液面 ？ 答案:如图中D所示",
          "题目:如图所示，在这种情况下通过交叉路口时，不得超车的原因是什么？ 答案:路口内交通情况复杂，易发生交通事故",
          "题目:驾驶机动车发生财产损失交通事故，当事人对事实及成因无争议的可先撤离现场。 答案:对",
          "题目:驾驶机动车在隧道、陡坡等特殊路段不得超车。 答案:对",
          "题目:驾驶机动车遇到沙尘、冰雹、雨、雾、结冰等气象条件如何行驶？ 答案:降低行驶速度",
          "题目:如图所示，在环岛交叉路口发生的交通事故中，应由A车负全部责任。 答案:对",
          "题目:驾驶人穿高跟鞋驾驶车辆，不利于安全行车。 答案:对",
          "题目:立交桥上一般都是单向行驶，车辆不必减速行驶。 答案:错",
          "题目:机动车登记证书、号牌、行驶证灭失、丢失或者损毁的，机动车所有人应当向哪个部门申请补领、换领？ 答案:登记地车辆管理所",
          "题目:在交叉路口、隧道内均不能倒车。 答案:对",
          "题目:安全头枕用于在发生追尾事故时保护驾驶人的头部不受伤害。 答案:错",
          "题目:如图所示，驾驶机动车在这种情况下不能直行和左转弯。 答案:对",
          "题目:驾驶人驾驶有达到报废标准嫌疑机动车上路的，交通警察依法予以拘留。 答案:错",
          "题目:夜间道路环境对安全行车的主要影响是什么？ 答案:能见度低、不利于观察道路交通情况",
          "题目:机动车驾驶人一次有两个以上违法行为记分的，应当分别计算累加分值。 答案:对",
          "题目:道路交通事故中，机动车无号牌、检验合格标志、保险标志时，要保护现场并立即报警。 答案:对",
          "题目:这个标志是何含义？ 答案:注意落石",
          "题目:机动车在道路上发生故障，需要停车排除时，驾驶人应该怎么办？ 答案:将车停到不妨碍交通的地方",
          "题目:有下列哪种违法行为的机动车驾驶人将被一次记9分？ 答案:未取得校车驾驶资格驾驶校车的",
          "题目:如图所示，驾驶机动车遇到这种情况，以下做法正确的是什么？ 答案:减速慢行、鸣喇叭示意",
          "题目:如图所示，A车在此处停车是可以的。 答案:错",
          "题目:如图所示，驾驶机动车行驶至桥梁涵洞时，以下做法正确的是什么？ 答案:减速靠右通过",
          "题目:驾驶机动车发生交通事故未造成人身伤亡的，责任明确双方无争议时，应当如何处置？ 答案:撤离现场自行协商",
          "题目:在这种天气条件下行车如何使用灯光？ 答案:使用雾灯",
          "题目:驾驶机动车在沙尘天气条件下行车不用开启前照灯、示廓灯和后位灯。 答案:错",
          "题目:机动车仪表板上如图所示指示灯亮表示什么？ 答案:没有系好安全带",
          "题目:在路口遇到这种情形时怎样做？ 答案:停在路口以外等待",
          "题目:驾驶机动车通过窄路、窄桥时的最高速度不能超过每小时30公里。 答案:对",
          "题目:长下坡禁止挂空挡，下列原因错误的是？ 答案:下坡挂空挡，油耗容易增多",
          "题目:这个标志是何含义？ 答案:高速公路紧急电话",
          "题目:夜间驾驶机动车在窄路、窄桥会车时正确的做法是使用远光灯。 答案:错",
          "题目:机动车仪表板上如图所示指示灯亮，提示左侧车门未关闭。 答案:错",
          "题目:驾驶机动车在道路上掉头时，应当提前开启左转向灯。 答案:对",
          "题目:在实习期内驾驶机动车的，应当在车身后部粘贴或者悬挂哪种标志？ 答案:统一式样的实习标志",
          "题目:驾驶人因服兵役、出国（境）等原因无法办理审验时，延期审验期限最长不超过多长时间？ 答案:3年",
          "题目:这个标志是何含义？ 答案:注意合流",
          "题目:如图所示，驾驶机动车经过这种道路时，应降低车速在道路中间通行。 答案:对",
          "题目:小型汽车科目二考试内容包括倒车入库、坡道定点停车和起步、侧方停车、曲线行驶、直角转弯。 答案:对",
          "题目:持有大型客车、重型牵引挂车、城市公交车、中型客车、大型货车驾驶证的驾驶人从业单位等信息发生变化的，应当在信息变更后三十日内，向从业单位所在地车辆管理所备案。 答案:对",
          "题目:驾驶机动车在没有中心线的道路上遇相对方向来车时怎样行驶？ 答案:减速靠右行驶",
          "题目:科目三考试分为道路驾驶技能考试和安全文明驾驶常识考试两部分。 答案:对",
          "题目:这个标志是何含义？ 答案:向左转弯",
          "题目:这个开关控制机动车哪个部位？ 答案:风窗玻璃刮水器",
          "题目:驾驶车辆变更车道时，应提前开启转向灯，注意观察，保持安全距离，驶入要变更的车道。 答案:对",
          "题目:同车道行驶的车辆前方遇到下列哪种车辆不得超车？ 答案:执行任务的消防车",
          "题目:这是什么交通标志？ 答案:右侧变窄",
          "题目:驾驶机动车通过漫水路时要加速行驶。 答案:错",
          "题目:如图所示，以下哪种情况可以超车？ 答案:如图中A所示",
          "题目:这个导向箭头是何含义？ 答案:指示直行或右转弯",
          "题目:行车中水温报警灯亮，下列可能是其原因的是？ 答案:缺少冷却液",
          "题目:乘坐摩托车的人，不必戴安全头盔。 答案:错",
          "题目:驾驶机动车发生财产损失交通事故后，当事人对事实及成因无争议，移动车辆时需要对现场拍照或者标划停车位置。 答案:对",
          "题目:驾驶机动车行经市区下列哪种道路时不得超车？ 答案:交通流量大的路段",
          "题目:进入这个路口应该怎样做？ 答案:让已在路口内的车辆先行",
          "题目:机动车仪表板上如图所示指示灯亮表示什么？ 答案:危险报警闪光灯闪烁",
          "题目:前方路口这种信号灯亮表示什么意思？ 答案:准许通行",
          "题目:驾驶机动车上道路行驶，不允许超过限速标志标明的最高时速。 答案:对",
          "题目:在道路同方向划有2条以上机动车道的，摩托车应当在最左侧车道行驶。 答案:错",
          "题目:这个标志是何含义？ 答案:建议速度",
          "题目:这个标志是何含义？ 答案:停车检查",
          "题目:行车中，制动报警灯亮，应试踩一下制动，只要有效可正常行车。 答案:错",
          "题目:这个标志是何含义？ 答案:村庄或集镇",
          "题目:图中标志的含义是什么？ 答案:限制质量",
          "题目:驾驶人未携带哪种证件驾驶机动车上路，交通警察可依法扣留车辆？ 答案:机动车驾驶证",
          "题目:车辆在交叉路口有优先通行权的，遇有车辆抢行时，应怎样做？ 答案:减速避让，必要时停车让行",
          "题目:驾驶机动车不能进入红色叉形灯或者红色箭头灯亮的车道。 答案:对",
          "题目:如图所示，在这个路段可以掉头。 答案:错",
          "题目:驾驶有ABS系统的机动车在紧急制动的同时转向可能会发生侧滑。 答案:对",
          "题目:驾驶与准驾车型不符的机动车一次记多少分？ 答案:9分",
          "题目:这属于哪一种标志？ 答案:指示标志",
          "题目:这个标志是何含义？ 答案:提醒车辆驾驶人前方有向下的陡坡路段",
          "题目:挂车车厢内在留有安全位置的情况下，可以附载临时作业人员1人至5人。 答案:错",
          "题目:机动车在高速公路上发生故障时，在来车方向50至100米处设置警告标志。 答案:错",
          "题目:机动车驾驶人补领机动车驾驶证后，使用原机动车驾驶证驾驶的，除由公安机关交通管理部门收回原机动车驾驶证外，还应当受到何种处罚？ 答案:罚款",
          "题目:车辆不得在高速公路匝道上倒车。 答案:对",
          "题目:机动车仪表板上如下图所示指示灯亮表示发动机可能机油量不足。 答案:对",
          "题目:路中心的双黄实线作用是分隔对向交通流，在保证安全的前提下，可越线超车或转弯。 答案:错",
          "题目:机动车行驶时，乘坐人员可不使用安全带。 答案:错",
          "题目:申请人有下列哪种行为，三年内不得再次申领机动车驾驶证？ 答案:申请人以欺骗、贿赂等不正当手段取得机动车驾驶证的",
          "题目:机动车仪表板上如下图所示指示灯亮表示发动机可能机油压力过高。 答案:错",
          "题目:这个标志是何含义？ 答案:提醒车辆驾驶人前方有向上的陡坡路段",
          "题目:倒车过程中要缓慢行驶，注意观察车辆两侧和后方的情况，随时做好停车准备。 答案:对",
          "题目:这个标志的含义是警告前方有两个相邻的反向转弯道路。 答案:错",
          "题目:如图所示，在高速公路同方向三条机动车道最左侧车道行驶，应保持什么车速？ 答案:110公里/小时～120公里/小时",
          "题目:驾驶机动车在路口遇到这种信号灯亮时，要在停止线前停车瞭望。 答案:错",
          "题目:这个导向箭头是何含义？ 答案:指示前方右转弯",
          "题目:如图所示，驾驶机动车经过这种道路时，如果前方没有其他交通参与者，可在道路上随意通行。 答案:错",
          "题目:在狭窄的山路会车，规定不靠山体的一方优先行驶的原因是什么？ 答案:靠山体的一方相对安全",
          "题目:驾驶这种机动车上路行驶没有违法行为。 答案:错",
          "题目:在这段高速公路上行驶的最高车速是多少？ 答案:120公里/小时",
          "题目:行车中，遇有非机动车准备绕过停放的车辆时，应怎样做？ 答案:让其先行",
          "题目:狂风袭来，可能会使行驶中的摩托车产生横向偏移。 答案:对",
          "题目:驾驶机动车遇前方交叉路口交通阻塞时，路口内无网状线的，可停在路口内等候。 答案:错",
          "题目:在这段城市道路上行驶的最高速度不能超过多少？ 答案:30公里/小时",
          "题目:大型、中型非营运载客汽车从注册登记之日起，超过10年的，每多长时间检验1次？ 答案:6个月",
          "题目:驾驶机动车在高速公路上行驶，能见度小于200米时，与同车道前车应保持100米以上的距离。 答案:对",
          "题目:上道路行驶的机动车有哪种情形交通警察可依法扣留车辆？ 答案:未携带行驶证",
          "题目:准驾车型为小型自动挡汽车的，可以驾驶低速载货汽车。 答案:错",
          "题目:车辆在山区道路跟车行驶时，应怎样做？ 答案:适当加大安全距离",
          "题目:驾驶机动车遇到这种桥时首先怎样办？ 答案:停车察明水情",
          "题目:这个地面标记是什么标线？ 答案:人行横道预告",
          "题目:下列哪种行为会受到200元以上2000元以下罚款，并处吊销机动车驾驶证？ 答案:超过规定时速50%",
          "题目:这样临时停放的蓝色轿车有什么违法行为？ 答案:距离加油站不到30米",
          "题目:打开右转向灯开关，如图所示指示灯亮起。 答案:错",
          "题目:驾驶人实习期内可以单独驾驶大型客车、电车、起重车、牵引车。 答案:错",
          "题目:机动车仪表板上如图所示这个符号表示什么？ 答案:行李舱开启",
          "题目:如图所示，在同方向两条机动车道的高速公路左侧车道行驶，应保持什么车速？ 答案:100公里/小时～120公里/小时",
          "题目:这个标志是何含义？ 答案:注意保持车距",
          "题目:如图所示，当车辆驶近这样的路口时，以下说法错误的是什么？ 答案:本车有优先通行权，不需减速",
          "题目:在路口这个位置时可以加速通过路口。 答案:错",
          "题目:这个标志是何含义？ 答案:限制高度为3.5米",
          "题目:如图所示，当机动车行驶至交叉口时的做法是正确的。 答案:对",
          "题目:在狭窄的路段会车时，应做到礼让三先：先慢、先让、先停。 答案:对",
          "题目:如图所示，这个标志设置在有人看守的铁路道口，提示驾驶人距有人看守的铁路道口的距离还有100米。 答案:错",
          "题目:湿滑路面制动过程中，发现车辆偏离方向，以下做法正确的是？ 答案:不要踩制动踏板",
          "题目:在交叉路口遇到这种情况享有优先通行权。 答案:对",
          "题目:自愿降级的驾驶人需要到车辆管理所申请换领驾驶证。 答案:对",
          "题目:初次申领的机动车驾驶证的有效期为4年。 答案:错",
          "题目:机动车仪表板上如下图所示指示灯亮表示什么？ 答案:前雾灯打开",
          "题目:驾驶机动车在高速公路遇到能见度低于100米的气象条件时，最高车速是多少？ 答案:不得超过40公里/小时",
          "题目:驾驶机动车通过窄路、窄桥时，最高速度不能超过多少？ 答案:30公里/小时",
          "题目:这个标志是何含义？ 答案:车道数变少",
          "题目:驾驶人要按照驾驶证载明的准驾车型驾驶车辆。 答案:对",
          "题目:这个标志是何含义？ 答案:上陡坡",
          "题目:摩托车驾驶人最有效的防护装备是______。 答案:专用安全头盔",
          "题目:以下哪个指示灯亮时，表示发动机机油压力过低？ 答案:如图中A所示",
          "题目:通过急转弯路段时，在车辆较少的情况下可以超车。 答案:错",
          "题目:这个标志的含义是警告前方道路有障碍物，车辆减速绕行。 答案:错",
          "题目:驾驶机动车超车应该提前开启左转向灯、变换使用远、近光灯或鸣喇叭。 答案:对",
          "题目:同车道行驶的车辆遇前车有下列哪种情形时不得超车？ 答案:正在掉头",
          "题目:图中标志的含义是限制轴重。 答案:错",
          "题目:交通警察对未放置保险标志上道路行驶的车辆可依法扣留行驶证。 答案:错",
          "题目:车辆在高速公路发生故障不能移动时，驾驶人这种尝试排除故障的做法是否正确？ 答案:错",
          "题目:改变车身颜色、更换发动机、车身或者车架，未按规定的时限办理变更登记的，由公安机关交通管理部门处警告或者二百元以下罚款。 答案:对",
          "题目:驾驶装有ABS系统的汽车怎样采取紧急制动？ 答案:用力踏制动踏板",
          "题目:驾驶机动车行经人行横道，不按规定减速、停车避让行人的，一次记2分。 答案:错",
          "题目:在道路上行车时，驾驶人通过车窗丢弃垃圾不会干扰到其他车辆正常行驶。 答案:错",
          "题目:实习期内驾驶机动车牵引挂车的，由公安机关交通管理部门处20元以上200元以下罚款。 答案:对",
          "题目:这个标志是何含义？ 答案:人行横道",
          "题目:对行驶中的公共交通工具的驾驶人员使用暴力或者抢控驾驶操纵装置，干扰公共交通工具正常行驶，危及公共安全构成犯罪的，处一年以下有期徒刑、拘役或管制，并处或单处罚金。 答案:对",
          "题目:服用多长时间的依赖性精神药品成瘾且尚未戒除的，不得申请机动车驾驶证？ 答案:长期",
          "题目:未取得校车驾驶资格驾驶校车的，一次记几分? 答案:9分",
          "题目:下列交通违法行为，一次记12分的是什么？ 答案:代替实际机动车驾驶人接受交通违法行为处罚和记分牟取经济利益的",
          "题目:如图所示，驾驶机动车在遇有前方机动车停车排队等候或者缓慢行驶时，以下做法正确的是什么？ 答案:在路口外依次排队",
          "题目:如图所示，遇到这种情形怎样行驶？ 答案:不得越过停止线",
          "题目:雾天行车，不能使用什么？ 答案:远光灯",
          "题目:这个标志是何含义？ 答案:解除时速40公里限制",
          "题目:这个标志是何含义？ 答案:环岛行驶",
          "题目:如图所示，这种情形下，此车可以通过。 答案:错",
          "题目:电动汽车连接或断开充电插座的注意事项，下列说法正确的是什么？ 答案:不要用湿手操作连接或断开插头",
          "题目:下列哪种证件是驾驶机动车上路行驶应当随车携带？ 答案:机动车行驶证",
          "题目:机动车在夜间行驶如何保证安全？ 答案:降低速度，谨慎驾驶",
          "题目:这个标志是何含义？ 答案:左侧绕行",
          "题目:这个标志是何含义？ 答案:高速公路终点",
          "题目:已达到报废标准的机动车经大修后也不可以上路行驶。 答案:对",
          "题目:这个标志是何含义？ 答案:开车灯",
          "题目:同车道行驶的机动车，在下列哪种情形下不能超越前车？ 答案:前车正在掉头",
          "题目:避免机动车爆胎的正确做法是降低轮胎气压。 答案:错",
          "题目:以下哪个代号表示准驾中型载货汽车？ 答案:B2",
          "题目:行车中遇到后方车辆要求超车时，应怎样做？ 答案:及时减速、观察后靠右行驶让行",
          "题目:遇到这种情况不能超车。 答案:对",
          "题目:机动车驾驶人在一个记分周期内累计记满多少分的，公安机关交通管理部门将通知其参加满分学习、考试？ 答案:12分",
          "题目:机动车参加安全技术检验的主要目的是检查车辆各项性能系数，及时消除车辆安全隐患，减少事故发生。 答案:对",
          "题目:这种情况超车时，从前车的哪一侧超越？ 答案:从前车的左侧超越",
          "题目:驾驶小型载客汽车在高速公路上时速超过100公里时的跟车距离是多少？ 答案:保持100米以上",
          "题目:这个标志是何含义？ 答案:易滑路段",
          "题目:允许自学直考人员使用图中教练车，在学车专用标识签注的指导人员随车指导下学习驾驶。 答案:错",
          "题目:下列哪个标志提示驾驶人连续弯路？ 答案:如图中B所示",
          "题目:夜间驾驶机动车在窄路、窄桥会车怎样使用灯光？ 答案:开启近光灯",
          "题目:符合记分减免条件的，在一个记分周期内累计最高可扣减多少分？ 答案:6分",
          "题目:如图所示，在路边临时停放机动车是什么违法行为？ 答案:在有禁停标线路段停车",
          "题目:驾驶机动车在道路上发生交通事故，当事人不能自行移动车辆的，应当保护现场并立即报警。 答案:对",
          "题目:驾驶机动车在铁路道口内出现故障，短时间移出道口有困难时，应先设法告知列车之后，再尽快设法将车辆移出道口。 答案:对",
          "题目:这个标志是何含义？ 答案:向左转弯",
          "题目:驾驶机动车通过漫水路时驾驶人要挂低速挡匀速通过。 答案:对",
          "题目:组织他人代替实际机动车驾驶人参加审验教育的，有违法所得的，由公安机关交通管理部门处违法所得三倍以下罚款，但最高不超过二万元。 答案:对",
          "题目:机动车属于被盗抢骗的，不予办理注册登记。 答案:对",
          "题目:如图所示，在这起交通事故中，以下说法正确的是什么？ 答案:A车负全部责任",
          "题目:驾驶机动车在路口转弯过程中，持续开启转向灯，是为了让其他交通参与者知道您正在转弯。 答案:对",
          "题目:驾驶机动车通过急弯路时，最高速度不能超过多少？ 答案:30公里/小时",
          "题目:在这个路口右转弯如何通行？ 答案:先让对面车左转弯",
          "题目:申请人隐瞒有关情况或者提供虚假材料申请校车驾驶资格的，公安机关交通管理部门不予受理或者不予办理，处五百元以下罚款。 答案:对",
          "题目:提拉这个开关控制机动车哪个部位？ 答案:左右转向灯",
          "题目:机动车仪表板上如图所示指示灯亮时，防抱死制动系统处于打开状态。 答案:错",
          "题目:在雨天湿滑路面行车要尽量避免紧急制动。 答案:对",
          "题目:驾驶机动车在道路上行驶突然熄火，以下做法错误的是什么？ 答案:立即停车检修",
          "题目:雨天行车视线受阻，开启远光灯会提高能见度。 答案:错",
          "题目:如图所示，在这种情况下直行车辆应停车等待。 答案:对",
          "题目:机动车在路边临时停车要紧靠道路右侧，按顺行方向停放，车身距道路边缘不超过50厘米。 答案:错",
          "题目:在高速公路上行驶感觉疲劳时，应在下一个服务区停车休息。 答案:对",
          "题目:驾驶校车、中型以上载客载货汽车、危险物品运输车辆以外的机动车在高速公路、城市快速路以外的道路上行驶超过规定时速百分之五十以上的，一次记多少分? 答案:6分",
          "题目:夜间车辆通过照明条件良好的路段时，应使用什么灯？ 答案:近光灯",
          "题目:驾驶机动车遇到前方低速行驶的洒水车作业时，以下做法错误的是什么？ 答案:通过洒水车时应急加速通过",
          "题目:这一组交通警察手势是什么信号？ 答案:减速慢行信号",
          "题目:图中圈内三角填充区域是什么标线？ 答案:导流线",
          "题目:申请小型汽车驾驶证的人，年龄要在18周岁以上。 答案:对",
          "题目:机动车被监察机关、人民法院、人民检察院、行政执法部门依法查封、扣押的，不予办理注册登记。 答案:对",
          "题目:大风天气行车中，如果遇到狂风袭来，感觉机动车产生横向偏移时，要急转方向以恢复行驶方向。 答案:错",
          "题目:驾驶机动车在高速公路违法占用应急车道行驶的一次记6分。 答案:对",
          "题目:驾驶机动车在高速公路上行驶时，应尽可能避免与其他车辆长时间并行。 答案:对",
          "题目:机动车驾驶人及乘车人下车时，用远离车门一侧的手开门，转头观察车辆侧方和后方通行状况，避免妨碍他人通行。 答案:对",
          "题目:驾驶未按规定定期进行安全技术检验的公路客运汽车、旅游客运汽车、危险物品运输车辆上道路行驶的，一次记多少分？ 答案:3分",
          "题目:申请人隐瞒有关情况或者提供虚假材料申领机动车驾驶证的，公安机关交通管理部门不予受理或者不予办理，处多少元以下罚款，申请人在多长时间内不得再次申领机动车驾驶证？ 答案:500元，1年",
          "题目:这个标志是何含义？ 答案:下陡坡",
          "题目:驾驶机动车在行驶过程中与对向来车会车时，应特别注意的是？ 答案:两车横向的安全间距",
          "题目:雾天在道路上行车，可多使用喇叭引起对向车辆注意，避免发生危险。 答案:对",
          "题目:如图所示，行车中遇到停在路边校车时，怎么做才正确？ 答案:停在校车后方等待",
          "题目:电动汽车起步时，应轻踩加速踏板，同时要注意周围的车辆和行人动态。 答案:对",
          "题目:驾驶机动车进入高速公路加速车道后，可临时停车等待同行的其他车辆。 答案:错",
          "题目:当你驾车遇到图中这个路口右转弯时，应如何通行？ 答案:让行对面车辆左转弯",
          "题目:记分满12分的驾驶人拒不参加学习和考试的将被公告驾驶证停止使用。 答案:对",
          "题目:驾驶人应当在机动车驾驶证有效期满前60日内申请换证。 答案:错",
          "题目:如图所示这个符号的开关控制什么装置？ 答案:儿童安全锁",
          "题目:在没有绷带急救伤员的情况下，以下救护行为中错误的是什么？ 答案:用细绳缠绕包扎",
          "题目:路面上导向箭头是何含义？ 答案:指示前方道路仅可左右转弯",
          "题目:车辆使用远光灯，下列哪个指示灯会亮？ 答案:如图中D所示",
          "题目:如图所示，驾驶机动车遇到这种情况，即使人行横道上没有行人，也不能加速通过。 答案:对",
          "题目:使用伪造、变造的机动车号牌一次记几分？ 答案:12分",
          "题目:行车中遇到这种情况，应当怎样做？ 答案:提前变更到最左侧车道超越",
          "题目:驾驶过程中需接听电话时应先将车辆停在安全的地点再接听电话。 答案:对",
          "题目:通过漫水路时要谨慎慢行，不得空挡滑行。 答案:对",
          "题目:驶近一个铁路道口，遇到图中所示信号灯亮着，但栏杆还没落下的情况，怎么做才正确？ 答案:在道口的停止线以外停车等待",
          "题目:驾驶机动车在高速公路上行驶低于规定最低时速的，一次记3分。 答案:对",
          "题目:组织他人代替实际机动车驾驶人参加审验教育的，没有违法所得的，由公安机关交通管理部门处二万元以下罚款。 答案:对",
          "题目:如图所示，这个路段不得长时间在非机动车道上停车，但可以临时停车。 答案:错",
          "题目:打开前雾灯开关，如图所示指示灯亮起。 答案:对",
          "题目:未按照国家规定投保机动车第三者责任强制保险的机动车所有人、管理人，由公安机关交通管理部门处以按照规定投保最低责任限额应缴纳保险费的多少倍罚款？ 答案:2倍",
          "题目:持小型汽车驾驶证的驾驶人在下列哪种情况下需要接受审验？ 答案:有效期满换发驾驶证时",
          "题目:驾驶人在确认后方无来车的情况下，可以不开转向灯变更车道。 答案:错",
          "题目:这个标志是何含义？ 答案:T型交叉路口",
          "题目:道路没有划分机动车道、非机动车道和人行道的，机动车、非机动车和行人可随意通行。 答案:错",
          "题目:在这种雨天跟车行驶使用灯光，以下做法正确的是？ 答案:不能使用远光灯",
          "题目:道路交通安全违法行为累积记分的周期是多长时间？ 答案:12个月",
          "题目:救助全身燃烧伤员采取哪种应急措施？ 答案:向身上喷冷水灭火",
          "题目:驾驶机动车在高速公路上车辆发生故障时，若车辆可以移动至应急车道内，只需开启危险报警闪光灯，警告标志可根据交通流情况选择是否放置。 答案:错",
          "题目:检查机动车机油时，以下做法正确是什么？ 答案:停在平坦的地方，在启动前检查",
          "题目:如图所示，驾驶机动车在高速公路上因故障停车，以下说法正确的是什么？ ① 该车未开启危险报警闪光灯 ②该驾驶人设置的警告标志与车辆之间的距离不足150米 ③该车骑压应急车道分界线，未完全停在应急车道内 答案:②③",
          "题目:准驾车型为小型自动挡汽车的，可以驾驶以下哪种车型？ 答案:轻型自动挡载货汽车",
          "题目:驾驶校车、中型以上载客载货汽车、危险物品运输车辆以外的机动车在高速公路上行驶超过规定时速百分之四十的，一次记6分。 答案:对",
          "题目:遇伤者被压于车轮或货物下时，要立即拉拽伤者的肢体将其拖出。 答案:错",
          "题目:载客汽车除车身外部的行李架和内置的行李箱外，不得载货。 答案:对",
          "题目:这个标志是何含义？ 答案:慢行",
          "题目:如图所示，驾驶机动车在同方向只有1条机动车道的公路上行驶，最高行驶速度不得超过每小时多少公里？ 答案:70",
          "题目:已注册登记的机动车，更换发动机的，机动车所有人应当向登记地车辆管理所申请变更登记。 答案:对",
          "题目:雾天对安全行车的主要影响是什么？ 答案:能见度低",
          "题目:车货总质量超过多少吨的货车，禁止驶入高速公路？ 答案:49吨",
          "题目:在上一记分周期内机动车驾驶人有二次以上参加满分教育记录的，可以在接受交通安全教育后扣减交通违法行为记分。 答案:错",
          "题目:驾驶机动车变更车道时，属于交通陋习的是什么行为？ 答案:随意并线",
          "题目:下列哪个标志表示禁止挂车、半挂车驶入？ 答案:如图中C所示",
          "题目:这个标志是何含义？ 答案:禁止向右转弯",
          "题目:这个标志是何含义？ 答案:最低限速50公里/小时",
          "题目:如图所示，此车的违法行为是占用应急车道。 答案:错",
          "题目:驾驶人违反交通运输管理法规发生重大事故使公私财产遭受重大损失的可能处3年以下徒刑或拘役。 答案:对",
          "题目:如图所示，驾驶机动车行经漫水桥时，以下做法正确的是什么？ 答案:停车察明水情，确认安全后，低速通过",
          "题目:机动车在道路上发生故障，需要停车排除时，驾驶人应该怎么办？ 答案:将车停到不妨碍交通的地方",
          "题目:驾驶机动车在道路上车辆发生故障、事故停车后，不按规定使用灯光或者设置警告标志的，一次记3分。 答案:对",
          "题目:采用指压止血法为动脉出血伤员止血时，拇指压住伤口的什么位置？ 答案:近心端动脉",
          "题目:机动车驾驶人在一个记分周期内累计记满多少分的，公安机关交通管理部门将通知其参加满分学习、考试？ 答案:12分",
          "题目:驾驶人违反交通运输管理法规发生重大事故致人死亡的处3年以上有期徒刑。 答案:错",
          "题目:这是什么操纵装置？ 答案:点火开关",
          "题目:持有大型客车、重型牵引挂车、城市公交车、中型客车、大型货车驾驶证的驾驶人，应当在每个记分周期结束后三十日内到公安机关交通管理部门接受审验。但在一个记分周期内没有记分记录的，免予本记分周期审验。 答案:对",
          "题目:驾驶人初次取得摩托车类准驾车型后的实习期是________？ 答案:12个月",
          "题目:这个标志是何含义？ 答案:禁止向左转弯",
          "题目:小型汽车驾驶人发生交通事故造成人员死亡，承担同等以上责任未被吊销驾驶证的，应当在记分周期结束后90日内接受审验。 答案:错",
          "题目:如图所示，红车所在的车道是慢速车道。 答案:错",
          "题目:雨天超车要开启前照灯，连续鸣喇叭迅速超越。 答案:错",
          "题目:在图中这种环境超车时，要先变换远近光灯告知前车，待前车让行后，开启远光灯超越。 答案:错",
          "题目:机动车在高速公路上遇前方交通受阻时，应当跟随前车顺序排队，并立即开启危险报警闪光灯，防止追尾。 答案:对",
          "题目:高速公路因发生事故造成堵塞时，可在右侧紧急停车带或路肩行驶。 答案:错",
          "题目:下坡路行驶，制动突然失效后，不可采用的减速方法是什么？ 答案:首先拉紧驻车制动",
          "题目:机动车已达到国家强制报废标准的，机动车所有人应当向居住地车辆管理所申请注销登记。 答案:错",
          "题目:黄色闪光警告信号灯持续闪烁，警示驾驶人要注意瞭望，确认安全通过。 答案:对",
          "题目:有吸食、注射毒品后驾驶车辆行为的机动车驾驶人，会被注销驾驶证。 答案:对",
          "题目:B1表示哪种车型？ 答案:中型客车",
          "题目:驾驶机动车在高速公路加速车道上行驶，应尽快将车速提高到60km/h以上。 答案:对",
          "题目:发现前方道路堵塞，正确的做法是什么？ 答案:按顺序停车等候",
          "题目:当驾驶车辆行经两侧有行人且有积水的路面时，应怎样做？ 答案:减速慢行",
          "题目:驾驶人出现下列哪种情况，不得驾驶机动车？ 答案:驾驶证丢失、损毁",
          "题目:如图所示，驾驶人的这种违法行为会被记多少分？ 答案:3分",
          "题目:下列高速公路交通标志含义正确的是什么？ 答案:如图中C所示",
          "题目:这个标志是何含义？ 答案:隧道开灯",
          "题目:图中驾驶人的这种违法行为会被记多少分？ 答案:记2分",
          "题目:安装防抱死制动装置（ABS）的机动车制动时，制动距离会大大缩短，因此不必保持安全车距。 答案:错",
          "题目:驾驶与准驾车型不符的机动车一次记多少分？ 答案:9分",
          "题目:在道路上发生未造成人员伤亡且无争议的轻微交通事故如何处置？ 答案:撤离现场自行协商",
          "题目:驾驶人一边驾车，一边打手持电话是违法行为。 答案:对",
          "题目:醉酒驾驶营运机动车依法被吊销机动车驾驶证未满十年的，不得申请机动车驾驶证。 答案:对",
          "题目:如图所示，A车正在变更车道，以下说法正确的是什么？ 答案:压实线变更车道",
          "题目:禁令标志是用以____车辆、行人交通行为的标志。 答案:禁止和限制",
          "题目:驾驶机动车遇到大雾或特大雾等能见度过低天气时如何做？ 答案:选择安全地点停车",
          "题目:驾驶机动车上高速公路行驶，以下说法正确的是什么？ 答案:不准倒车、逆行、穿越中央分隔带掉头",
          "题目:如图所示，如果遇到这种情况需要超车时，可以在不影响公交车通行的前提下借公交车道超越。 答案:错",
          "题目:使用其他机动车号牌、行驶证的一次记3分。 答案:错",
          "题目:如图所示，A车具有优先通行权。 答案:错",
          "题目:这个标志提示哪种车型禁止进入？ 答案:电动自行车",
          "题目:如图所示，在这种情况下直行车辆应停车等待。 答案:对",
          "题目:这个标志是何含义？ 答案:禁止鸣喇叭",
          "题目:代替实际机动车驾驶人接受交通违法行为处罚和记分牟取经济利益的，一次记多少分？ 答案:12分",
          "题目:请判断这是一个什么标志？ 答案:警告标志",
          "题目:在高速公路上驾驶机动车，可随时借用应急车道行驶、超车或停车。 答案:错",
          "题目:驾驶机动车在高速公路行驶，超过规定时速20%以上未达50%的，一次记多少分？ 答案:6分",
          "题目:驾驶小型汽车在城市快速路行驶，车速超过规定时速50%以上的一次记3分。 答案:错",
          "题目:这个标志的含义是指示该道路仅供电动自行车行驶。 答案:对",
          "题目:对未按照国家规定投保交强险的车辆，交通警察可依法予以扣留。 答案:对",
          "题目:驾驶机动车在高速公路上行驶，发生拥堵时，以下做法正确的是什么？ 答案:按序行驶",
          "题目:驾驶校车、公路客运汽车、旅游客运汽车载人超过核定人数多少以上的，一次记12分？ 答案:百分之二十",
          "题目:拨动这个开关，风窗玻璃刮水器开始工作。 答案:对",
          "题目:机动车仪表板上如图所示这个符号表示什么？ 答案:发动机舱开启",
          "题目:实习期驾驶人驾驶机动车上高速公路行驶，以下做法正确的是什么？ 答案:需要持有相应或者更高准驾车型驾驶证三年以上的驾驶人陪同",
          "题目:这辆在路边临时停放的故障车，未开启危险报警闪光灯的行为，会被记多少分？ 答案:3分",
          "题目:持有大型货车驾驶证的驾驶人联系电话、联系地址等信息发生变化，未在信息变更后三十日内向驾驶证核发地车辆管理所备案的，由公安机关交通管理部门处多少元罚款？ 答案:20元以上200元以下",
          "题目:下列交通违法行为，一次记12分的是什么？ 答案:代替实际机动车驾驶人接受交通违法行为处罚和记分牟取经济利益的",
          "题目:变更车道时，驾驶人在观察后方无来车的情况下，可以不开启转向灯。 答案:错",
          "题目:看到图中标志时，应怎样行驶？ 答案:在路口减速观察，确认安全后通过",
          "题目:驾驶机动车遇到沙尘、冰雹、雨、雾、结冰等气象条件时应降低行驶速度。 答案:对",
          "题目:驾驶机动车从高速公路进入减速车道后，应通过察看行驶速度表来控制车速，不能单纯凭感觉判断车速。 答案:对",
          "题目:如图所示，在这段路的最高时速为每小时50公里。 答案:错",
          "题目:这个标志是何含义？ 答案:下陡坡",
          "题目:申请人患有精神病的，可以申领机动车驾驶证，但是在发病期间不得驾驶机动车。 答案:错",
          "题目:这个标志是何含义? 答案:高速公路直出车道出口方向",
          "题目:驾驶机动车在高速公路上行驶低于规定最低时速的，一次记多少分？ 答案:3分",
          "题目:这个标志是何含义？ 答案:减速丘",
          "题目:机动车仪表板上如下图所示指示灯亮表示什么？ 答案:驻车制动器处于制动状态",
          "题目:这个标志是什么意思？ 答案:前方路口只能直行",
          "题目:遇到这个标志，您不可以左转，但是可以掉头。 答案:错",
          "题目:校车载人不得超过核定的人数，不得以任何理由超员。 答案:对",
          "题目:驾驶未悬挂机动车号牌的车辆在道路上行驶，发生交通事故后，当事人可以不报警。 答案:错",
          "题目:在没有交通信号灯的路口遇有前方车辆停车等待时，可以临时占用对面车道行驶，避免造成更大的拥堵。 答案:错",
          "题目:如图所示，驾驶机动车在这种道路上行驶遇到这种标志应减速慢行。 答案:对",
          "题目:机动车仪表板上如图所示指示灯亮表示什么？ 答案:迎面出风",
          "题目:这个标志是何含义？ 答案:注意横风",
          "题目:驾驶机动车通过没有交通信号和管理人员的铁路道口怎样通过？ 答案:停车确认安全后通过",
          "题目:车辆前轮胎爆裂，危险较大，方向会立刻向爆胎车轮一侧跑偏，直接影响驾驶人对转向盘的控制。 答案:对",
          "题目:新能源汽车充电过程中，若遇电池出现异味、异响时，应立即停止充电。 答案:对",
          "题目:驾驶机动车载货长度、宽度、高度超过规定的，一次记多少分？ 答案:1分",
          "题目:驾驶人有下列哪种违法行为一次记3分？ 答案:驾驶机动车在高速公路或者城市快速路上不按规定车道行驶的",
          "题目:伪造、变造或者使用伪造、变造驾驶证的驾驶人构成犯罪的，将依法追究刑事责任。 答案:对",
          "题目:驾驶人有使用其他车辆号牌、行驶证嫌疑的，交通警察可依法扣留车辆。 答案:对",
          "题目:路缘石上的黄色虚线是何含义？ 答案:禁止长时停车",
          "题目:遇前方路段车道减少，车辆行驶缓慢，为保证道路通畅，应借对向车道迅速通过。 答案:错",
          "题目:如图所示，在这种情况下通过前方路口，应该怎么行驶？ 答案:减速或停车避让行人",
          "题目:连续驾驶载货汽车超过4小时未停车休息的，一次记多少分？ 答案:3分",
          "题目:已持有普通二轮摩托车驾驶证申请增加普通三轮摩托车准驾车型的，应当考试科目二和科目三。 答案:对",
          "题目:在这种天气条件下行车如何使用灯光？ 答案:使用近光灯",
          "题目:上道路行驶的机动车不按规定安装机动车号牌的一次记多少分？ 答案:3分",
          "题目:驾驶机动车在山区狭窄坡路会车时，下坡行驶的车辆应先行，因为下坡速度不好控制更加危险。 答案:错",
          "题目:在设有隔离设施允许掉头的路段，无需减速，可直接进行掉头。 答案:错",
          "题目:在路口遇有交通信号灯和交通警察指挥不一致时，按照交通信号灯通行。 答案:错",
          "题目:货运机动车装载超过核定质量的，公安机关交通管理部门应当扣留机动车，直至消除违法状态。 答案:对",
          "题目:以下缩写中，表示前方碰撞预警系统缩写的是什么？ 答案:FCW",
          "题目:驾驶机动车在山区冰雪道路上遇前车正在爬坡时如何处置？ 答案:前车通过后再爬坡",
          "题目:车辆临时靠边停车后准备起步时，可直接鸣喇叭示意左侧车道机动车让道。 答案:错",
          "题目:申请人考试合格后，应当接受不少于多长时间的交通安全文明驾驶常识和交通事故案例警示教育？ 答案:30分钟",
          "题目:驾驶机动车与行人之间发生交通事故造成人身伤亡、财产损失的，机动车一方没有过错的，不承担赔偿责任。 答案:错",
          "题目:驾驶摩托车后座不得乘坐未满多少周岁的未成年？ 答案:12",
          "题目:驾驶机动车倒车时，应当察明车后情况，确认安全后倒车。 答案:对",
          "题目:发生仅造成财产损失交通事故，且双方无争议。但其中一方损毁严重不能移动的，可以自行协商解决。 答案:错",
          "题目:在狭窄的山路会车，靠山体的一方视野宽阔，所以要让不靠山体的一方优先行驶。 答案:错",
          "题目:驾驶机动车在没有中心隔离设施或者没有中心线的道路上会车时，以下做法错误的是什么？ 答案:在狭窄的山路，靠山体的一方先行",
          "题目:遇到图中所示的情景，怎样做才正确？ 答案:停在校车后面等待",
          "题目:上道路行驶的机动车故意遮挡、污损机动车号牌的一次记多少分？ 答案:9分",
          "题目:驾驶7座以上载客汽车载人超过核定人数百分之二十以上未达到百分之五十的，一次记几分？ 答案:6分",
          "题目:这个标志是何含义？ 答案:左右绕行",
          "题目:驾驶机动车在高速公路上行驶，遇有雾、雨、雪、沙尘、冰雹等低能见度气象条件，能见度小于200米时，与同车道前车保持多少米以上的距离？ 答案:100",
          "题目:如图所示，遇到这种有车道信号灯的路段，应该选择右侧或者左侧车道行驶。 答案:对",
          "题目:以下缩写中，表示车辆电子控制制动辅助系统缩写的是什么？ 答案:EBA",
          "题目:机动车在道路上发生故障难以移动时要在车后50米以内设置警告标志。 答案:错",
          "题目:使用伪造机动车号牌、行驶证的，交通警察可以扣留摩托车。 答案:对",
          "题目:驾驶人将机动车交由什么样的人驾驶的，交通警察可依法扣留机动车驾驶证？ 答案:驾驶证被吊销的人",
          "题目:驾驶电动汽车，如下图所示指示灯亮表示什么？ 答案:系统故障",
          "题目:驾驶机动车在这条公路上行驶，最高速度不能超过每小时50公里。 答案:错",
          "题目:在道路上驾驶机动车追逐竞驶，情节恶劣的，或者在道路上醉酒驾驶机动车的如何处罚？ 答案:处拘役，并处罚金",
          "题目:驾驶机动车在道路上向右变更车道应使用转向灯。 答案:对",
          "题目:以下机动车中，可以牵引挂车的是哪种车型？ 答案:半挂牵引车",
          "题目:大型载客汽车允许牵引总质量700千克以下的挂车。 答案:错",
          "题目:雾天公路行车可多使用喇叭引起对向注意；听到对向机动车鸣喇叭，也要鸣喇叭回应。 答案:对",
          "题目:夜间驾驶机动车在照明条件良好的路段跟车行驶怎样使用灯光？ 答案:使用近光灯",
          "题目:机动车驾驶人在一个记分周期内三次以上累积记分满12分或者累积记分满36分的，只需预约参加科目一和科目二考试。 答案:错",
          "题目:行人、乘车人、非机动车驾驶人违反道路交通安全法律、法规关于道路通行规定的，处警告或者多少元罚款？ 答案:5元以上50元以下",
          "题目:再次饮酒后驾驶机动车的，不得申请大型客车准驾车型。 答案:对",
          "题目:机动车驾驶人在实习期内驾驶机动车牵引挂车的，由公安机关交通管理部门处多少元罚款？ 答案:20元以上200元以下",
          "题目:暂扣或者吊销机动车驾驶证，属于对道路交通安全违法行为的处罚种类中的一种。 答案:对",
          "题目:驾驶人违反交通运输管理法规发生重大事故致人死亡且逃逸的，处多少年有期徒刑？ 答案:3年以上7年以下",
          "题目:驾驶摩托车可以穿拖鞋。 答案:错",
          "题目:驾驶机动车行经人行横道，不按规定减速、停车避让行人的，一次记2分。 答案:错",
          "题目:如图，请判断左侧这辆小型客车有几种违法行为？ 答案:有四种违法行为",
          "题目:在正常行车中，尽量靠近中心线或压线行驶，不给对向机动车留有侵占行驶路线的机会。 答案:错",
          "题目:对未取得驾驶证驾驶机动车的，追究其法律责任。 答案:对",
          "题目:高温炎热天气，电动汽车出行时要避免在户外长时间暴晒。 答案:对",
          "题目:驾驶机动车驶出地下车库，遇车流量较大时，以下做法正确的是什么？ 答案:依次排队等候通过",
          "题目:驾驶人发现轮胎漏气，将车辆驶离主车道时，不要采用紧急制动，以免造成翻车或后车采取制动不及时导致追尾事故。 答案:对",
          "题目:夜间驾驶机动车在高速公路上发生交通事故后，以下做法正确的是什么？ 答案:开启危险报警闪光灯，人员转移到安全地带",
          "题目:连接全挂车时，将牵引车的牵引钩与挂车挂钩连接好，并将牵引钩锁止好，连接什么？ 答案:制动管路接头、灯用电缆插头等",
          "题目:这个标志是何含义？ 答案:十字交叉路口",
          "题目:驾驶未按规定定期进行安全技术检验的货车上道路行驶的，一次记1分。 答案:对",
          "题目:车辆在冰雪路面紧急制动易产生侧滑，应低速行驶，可利用发动机制动进行减速。 答案:对",
          "题目:驾驶机动车需要在路边停车时，应选择在停车泊位内停放。 答案:对",
          "题目:儿童安全座椅能够在汽车发生碰撞情况下，通过减缓对儿童的冲击力和限制儿童的身体移动来减少对他们的伤害。 答案:对",
          "题目:这个标志是何含义？ 答案:注意信号灯",
          "题目:机动车驾驶证被暂扣或者扣留期间驾驶机动车的，一次记3分。 答案:错",
          "题目:这个标志的含义是警告前方出现向左的急转弯路。 答案:对",
          "题目:组织他人参加审验教育时在签注学习记录、学习过程中弄虚作假的，有违法所得的，由公安机关交通管理部门处违法所得三倍以下罚款，但最高不超过二万元。 答案:对",
          "题目:驾驶人在行车中经过积水路面时，应怎样做？ 答案:减速慢行",
          "题目:上道路行驶的机动车未按规定定期进行安全技术检验的，一次记6分。 答案:错",
          "题目:机动车在道路上发生轻微交通事故且妨碍交通时，不需移动。 答案:错",
          "题目:累积记分满12分的，不得再处理其他机动车的交通违法行为记录。 答案:对",
          "题目:驾驶机动车汇入车流时不能影响其他机动车通行。 答案:对",
          "题目:驾驶不按规定安装机动车号牌的机动车上道路行驶的，一次记1分。 答案:错",
          "题目:你在驾车过程中遇到该标志时，应慢行或停车，观察干道行车情况，在确保干道车辆优先，确保安全的前提下，方可进入路口。 答案:对",
          "题目:以下说法正确的是什么？ 答案:驶离高速公路进入匝道，应提前开启右转向灯",
          "题目:临时行驶车号牌有效期不得超过机动车交通事故责任强制保险有效期。 答案:对",
          "题目:持有C2驾驶证可以驾驶轻型自动挡载货汽车。 答案:对",
          "题目:如图所示，驾驶机动车可以在该路段通行。 答案:错",
          "题目:夜间通过没有路灯或路灯照明不良的路段时，应将近光灯转换为远光灯，但同向行驶的后车不得使用远光灯。 答案:对",
          "题目:机动车行经交叉路口，不得超车。 答案:对",
          "题目:驾驶机动车在冰雪路面怎样跟车行驶？ 答案:保持较大的安全距离",
          "题目:驾车通过转弯、坡道窄道、有障碍物的交叉路口等无法预测交通情况的路段时，驾驶人应轻按喇叭提示对方车辆，注意避让。 答案:对",
          "题目:潮汐车道是可变车道，根据早晚交通流量情况，调整车道的行驶方向。 答案:对",
          "题目:驾驶机动车在路口遇到这种信号灯可以怎样行驶？ 答案:向右转弯",
          "题目:轮胎气压过低时，高速行驶轮胎会出现波浪变形温度升高而导致什么情况发生？ 答案:爆胎",
          "题目:变更车道时，提前打开转向灯后，就可以立即变更车道。 答案:错",
          "题目:驾驶机动车超车后立即开启右转向灯驶回原车道。 答案:错",
          "题目:驾驶机动车不按规定会车的，将被一次记多少分？ 答案:1分",
          "题目:在行驶中，驾驶人在注意与前车保持安全距离的同时，也要谨慎制动，防止被后车追尾。 答案:对",
          "题目:当机动车驾驶人准备超车，但无法保证与被超车辆的安全距离时，应当加速超过。 答案:错",
          "题目:这个标志是何含义？ 答案:多乘员车辆（HOV）专用车道",
          "题目:申请人以欺骗、贿赂等不正当手段取得机动车驾驶证的（被撤销的），申请人在多长时间内不得再次申领机动车驾驶证？ 答案:3年",
          "题目:交通事故现场一旦发现有毒有害物质泄漏，应当第一时间疏散人员并立即报警。 答案:对",
          "题目:机动车在路边起步后，应随时注意机动车两侧道路情况，向左缓慢转向，逐渐驶入正常行驶道路。 答案:对",
          "题目:灯光开关在该位置时，后雾灯点亮。 答案:对",
          "题目:仪表显示当前车速是20公里/小时。 答案:错",
          "题目:机动车驶入双向行驶隧道前，要如何使用灯光？ 答案:开启近光灯",
          "题目:驾驶机动车在高速公路上行驶时，机动车驾驶人未按规定系安全带的一次记3分。 答案:错",
          "题目:准驾车型为C1驾照的，可以驾驶以下哪种车辆？ 答案:低速载货汽车",
          "题目:这个标志是何含义？ 答案:无人看守铁路道口",
          "题目:机动车驾驶人在实习期内不得驾驶________。 答案:营运出租车",
          "题目:无证驾驶可构成危险驾驶罪。 答案:错",
          "题目:有下列哪种违法行为的机动车驾驶人将被一次记12分？ 答案:驾驶小型汽车在高速路行驶超速50%以上",
          "题目:驾驶电动汽车，如下图所示指示灯亮表示什么？ 答案:胎压故障警告",
          "题目:如图所示，驾驶机动车在这种情况下不能左转弯。 答案:对",
          "题目:驾驶机动车在没有划分道路中心线的城市道路上行驶速度不得超过50公里/小时。 答案:错",
          "题目:驾驶小型机动车在没有道路中心线狭窄的山路会车时，靠山体的一方视野宽阔，所以要让不靠山体的一方优先行驶。 答案:错",
          "题目:驾驶机动车驶出地下车库时，应按照导向箭头的方向行驶，不得逆行。 答案:对",
          "题目:大型客车、大型货车驾驶人在一个记分周期内累积记分满12分的，应当参加为期三十天的道路交通安全法律、法规和相关知识学习。 答案:对",
          "题目:酒后驾驶发生重大交通事故被依法追究刑事责任的人不能申请机动车驾驶证。 答案:对",
          "题目:驾驶机动车在高速公路上遇前方车流缓行时，以下做法正确的是什么？ 答案:跟随车流行驶，保持安全车距",
          "题目:下列属于机动车驾驶证审验内容的是哪项？ 答案:身体条件情况",
          "题目:如图所示，驾驶过程中遇到这种情况时，A车不可以长鸣喇叭提醒道路养护车辆暂停喷水。 答案:对",
          "题目:这个标志是何含义？ 答案:硬路肩允许行驶路段即将结束",
          "题目:再次饮酒后驾驶机动车的，不得申请大型货车准驾车型。 答案:对",
          "题目:驾驶机动车变更车道时，以下做法正确的是什么？ 答案:在道路同方向划有2条以上机动车道的，不得影响相关车道内行驶的机动车的正常行驶",
          "题目:请判断图中这辆黄色机动车有几种违法行为？ 答案:有三种违法行为",
          "题目:申请人以欺骗、贿赂等不正当手段取得机动车驾驶证的，公安机关交通管理部门收缴机动车驾驶证，撤销机动车驾驶许可，处二千元以下罚款，申请人在3年内不得再次申领机动车驾驶证。 答案:对",
          "题目:不要在驾驶室的前后窗范围内悬挂和放置妨碍驾驶人视线的物品。 答案:对",
          "题目:驾驶机动车在道路上向右变更车道可以不使用转向灯。 答案:错",
          "题目:道路交通安全违法行为的处罚种类不包括下列哪项？ 答案:训诫",
          "题目:驾驶人有下列哪种违法行为一次记9分？ 答案:连续驾驶危险物品运输车辆停车休息时间少于20分钟的",
          "题目:对驾驶人开展日常安全教育是增强_____意识，提高安全文明素质的重要手段。 答案:驾驶人社会责任",
          "题目:学员在学习驾驶中有道路交通安全违法行为或者造成交通事故的，由谁承担责任？ 答案:教练员",
          "题目:这个标志是何含义？ 答案:注意残疾人",
          "题目:这个标志的含义是告示车辆驾驶人前方是两侧变窄路段。 答案:错",
          "题目:这个标志是何含义？ 答案:疏散标志",
          "题目:机动车驾驶人非法拦截、扣留机动车辆，不听劝阻，造成较大财产损失的，由公安机关交通管理部门处二千元以上五千元以下罚款，可以并处15日以下拘留。 答案:错",
          "题目:怎样通过这样的路口？ 答案:减速或停车观察",
          "题目:机动车驾驶人在驾驶证有效期满换领驾驶证时，可以到具有健康体检资质的二级以上医院、乡镇卫生院、社区卫生服务中心、健康体检中心等医疗机构体检。 答案:对",
          "题目:驾驶机动车在高速公路或者城市快速路上不按规定车道行驶的，一次记几分？ 答案:3分",
          "题目:机动车在设置了禁止车辆停放标志的路段，不得停放车辆，否则一次记1分。 答案:对",
          "题目:机动车停车的错误做法是什么？ 答案:可以停放在非机动车道上",
          "题目:机动车发生火灾，救火时无需脱去所穿的化纤服装，以免伤害暴露的皮肤。 答案:错",
          "题目:驾驶机动车在进出非机动车道时，最高速度不能超过多少？ 答案:30公里/小时",
          "题目:醉酒驾驶机动车在道路上行驶会受到以下哪种处罚？ 答案:5年内不得重新获取驾照",
          "题目:造成致人轻伤以上或者死亡的交通事故后逃逸，尚不构成犯罪的一次记几分？ 答案:12分",
          "题目:驾驶未按规定定期进行安全技术检验的公路客运汽车、旅游客运汽车、危险物品运输车辆以外的机动车上道路行驶的，一次记1分。 答案:对",
          "题目:驾驶人违反交通运输管理法规发生重大事故后，逃逸或者有其他特别恶劣情节的，处7年以上有期徒刑。 答案:错",
          "题目:这个标志是何含义？ 答案:掉头车道",
          "题目:上道路行驶的机动车有哪种情形交通警察可依法扣留车辆？ 答案:悬挂变造的机动车号牌",
          "题目:驾驶机动车在高速公路上行驶，车速超过每小时100公里时，应当与同车道前车保持多少米以上的距离？ 答案:100",
          "题目:机动车驾驶人由摩托车类准驾车型增加汽车类准驾车型后的多长时间为实习期？ 答案:12个月",
          "题目:路中心双黄实线是何含义？ 答案:禁止跨越对向车行道分界线",
          "题目:驾驶机动车在高速公路上行驶，遇能见度小于100米时，车速不得超过每小时60公里。 答案:错",
          "题目:这个标志是何含义？ 答案:路面低洼",
          "题目:关于申请增加轻型牵引挂车准驾车型的要求，以下说法正确的是什么? 答案:取得小型汽车、小型自动挡汽车驾驶证1年以上",
          "题目:如图所示，路口遇到黄灯不断闪烁的情况时，说明是什么情况？ 答案:路口交通信号暂时解除",
          "题目:如图所示，驾驶机动车遇到这种信号灯不断闪烁时怎样行驶？ 答案:注意瞭望安全通过",
          "题目:机动车驾驶人有下列哪种交通违法行为，一次记9分？ 答案:驾驶与准驾车型不符的机动车的",
          "题目:机动车驾驶人造成事故后逃逸构成犯罪的，吊销驾驶证且多长时间不得重新取得驾驶证？ 答案:终生",
          "题目:如图，驶近这种路段时，只要没有车辆和行人在人行横道上通过，就可以加速通过。 答案:错",
          "题目:对道路交通安全违法行为的处罚种类不包括下列哪项？ 答案:训诫",
          "题目:驾驶机动车在道路上超车完毕驶回原车道时需提前开启右转向灯。 答案:对",
          "题目:驾驶机动车在交叉路口前变更车道时，应在进入实线区后，开启转向灯，变更车道。 答案:错",
          "题目:驾驶机动车行经人行横道，不按规定减速、停车避让行人的，一次记多少分？ 答案:3分",
          "题目:在路口右转弯遇同车道前车等候放行信号时如何行驶？ 答案:依次停车等候",
          "题目:造成致人轻微伤或者财产损失的交通事故后逃逸，尚不构成犯罪的一次记多少分？ 答案:6分",
          "题目:以下哪类信息显示在机动车交通事故快速处理协议书中的？ 答案:车牌号码",
          "题目:驾驶证准驾车型代号为C1的，可以驾驶以下哪种车型? 答案:图1",
          "题目:通过隧道时，不得超车。 答案:对",
          "题目:机动车涉水后，驾驶人要间断轻踩制动踏板，以恢复制动效能。 答案:对",
          "题目:轻型牵引挂车准驾车型科目二考试内容包括桩考、曲线行驶和直角转弯。 答案:对",
          "题目:驾车向右转弯、向右变更车道、超车完毕驶回原车道或靠路边停车时，应提前开启右转向灯。 答案:对",
          "题目:机油压力报警灯持续亮，可边行驶，边观察，等待报警灯自行熄灭。 答案:错",
          "题目:驾驶人户籍迁出原车辆管理所需要向什么地方的车辆管理所提出申请？ 答案:迁入地",
          "题目:驾驶机动车在没有中心线的道路上遇相对方向来车时怎样行驶？ 答案:减速靠右行驶",
          "题目:这个标志是何含义？ 答案:仅供行人步行",
          "题目:在这种情况下应当等行人通过后再通过人行横道。 答案:对",
          "题目:机动车驾驶人可以通过以下哪个平台申请机动车驾驶证电子版？ 答案:互联网交通安全综合服务管理平台",
          "题目:直线行驶时，车速越快，转向盘操作量应越小，转动转向盘的速度也应越慢。 答案:对",
          "题目:驾驶机动车碰撞道路中央护栏造成护栏损坏时，驾驶人可以不报警，直接驶离事故现场。 答案:错",
          "题目:机动车驾驶人补领机动车驾驶证后，原机动车驾驶证作废。 答案:对",
          "题目:摩托车通过立交桥时，如发现选择路线错误，应立即在原地掉头或倒车更改路线。 答案:错",
          "题目:非法安装警报器、标志灯具的，由公安机关交通管理部门__________，予以收缴，并处200元以上2000元以下罚款。 答案:强制拆除",
          "题目:黄色闪光警告信号灯，表示机动车可以在确认安全后通过。 答案:对",
          "题目:高速公路行车中发现前方发生道路拥堵，可占用应急车道行驶。 答案:错",
          "题目:这个标志表示加油站。 答案:错",
          "题目:代替他人或者让他人代替自己参加机动车驾驶人考试，构成犯罪的，处拘役或者管制，并处或者单处罚金。 答案:对",
          "题目:申请人在机动车驾驶人考试过程中组织作弊构成犯罪的，处三年以下有期徒刑或者拘役，并处或单处罚金。 答案:对",
          "题目:以下缩写中，表示车辆定速巡航系统缩写的是什么？ 答案:CCS",
          "题目:驾驶机动车时可以向道路上抛撒物品。 答案:错",
          "题目:停车位标线为蓝色的，表示该停车位为收费停车位。 答案:错",
          "题目:图中机动车驾驶人没系安全带的行为，会被记2分。 答案:错",
          "题目:驾驶机动车遇前方机动车停车排队或者缓慢行驶时，借道超车或者占用对面车道、穿插等候车辆的，一次记1分。 答案:错",
          "题目:驾驶机动车在路口遇到这种信号灯持续闪烁，警示驾驶人要尽快通过。 答案:错",
          "题目:下列关于轻便摩托车的说法正确的是哪一项？ 答案:不得载人",
          "题目:驾驶机动车遇急救伤员的救护车逆向驶来时，因其违反交通信号通行，可以不予避让。 答案:错",
          "题目:驾驶人违法使用其他机动车号牌、行驶证的，一次记几分？ 答案:12分",
          "题目:这个标志是何含义？ 答案:非机动车推行",
          "题目:请判断这是一个什么手势？ 答案:准许右方直行车辆通行手势",
          "题目:驾驶机动车靠边停车时，应如何使用转向灯？ 答案:提前开启右转向灯",
          "题目:驾驶机动车在泥泞道路行驶时，最高速度不能超过50公里/小时。 答案:错",
          "题目:申请小型汽车驾驶证的，年龄应在18周岁以上70周岁以下。 答案:错",
          "题目:驾驶人发现轮胎漏气，将摩托车驶离主车道时，不要采用紧急制动，以免造成翻车或后车制动不及时导致追尾事故。 答案:对",
          "题目:在本记分周期内或者上一个记分周期内，机动车驾驶人有二次以上参加满分教育记录的，不得参加学法减分。 答案:对",
          "题目:驾驶机动车在没有中心线的城市道路上，最高速度不能超过每小时50公里。 答案:错",
          "题目:驾驶车辆通过人行横道线时，应注意礼让行人。 答案:对",
          "题目:这是什么交通标志？ 答案:反向弯路",
          "题目:驾驶电动汽车，如下图所示指示灯亮表示什么？ 答案:动力蓄电池故障",
          "题目:机动车遇到交通警察现场指挥和交通信号不一致时，应当如何通行？ 答案:按照交通警察的指挥",
          "题目:这个标志是提醒注意潮汐车道。 答案:对",
          "题目:大型货车准驾车型的代号是什么？ 答案:B2",
          "题目:驾驶机动车在道路上向左变更车道时如何使用灯光？ 答案:提前开启左转向灯",
          "题目:在铁路道口遇到两个红灯交替闪烁时要停车等待。 答案:对",
          "题目:驾驶机动车通过有交通信号灯控制的交叉路口时，以下做法错误的是什么？ 答案:黄灯亮起时应加速通过",
          "题目:如图所示，这种情形下，B车可加速通过。 答案:错",
          "题目:灯光开关在该位置时，前雾灯点亮。 答案:对",
          "题目:申请人有下列何种行为的，三年内不得再次申领机动车驾驶证？ 答案:申请人以欺骗、贿赂等不正当手段取得机动车驾驶证",
          "题目:如图所示，驾驶机动车从匝道驶入高速公路时，以下做法正确的是什么？ 答案:提前开启左转向灯",
          "题目:机动车驾驶人血液中的酒精含量大于或者等于20毫克/100毫升，小于80毫克/100毫升时，可认定为酒后驾驶。 答案:对",
          "题目:驾驶机动车掉头、转弯、下陡坡时的最高速度不能超过每小时40公里。 答案:错",
          "题目:遇前方路段车道减少行驶缓慢，为了有序、安全，应依次交替通行。 答案:对",
          "题目:这个标志是何含义？ 答案:港湾式紧急停车带",
          "题目:这个标志的含义是告示前方是塌方路段，车辆应绕道行驶。 答案:错",
          "题目:机动车驾驶人可以在机动车驾驶证核发地或者交通违法行为发生地、处理地参加公安机关交通管理部门组织的道路交通安全法律、法规和相关知识学习，并在学习地参加考试。 答案:对",
          "题目:驾驶机动车在高速公路上车辆发生故障，需要停车排除故障时，若能将机动车移至应急车道内，则不需要开启危险报警闪光灯。 答案:错",
          "题目:驾驶机动车在高速公路上行驶，以下做法正确的是什么？ 答案:合理调整行车速度",
          "题目:驾驶机动车在普通道路上逆向行驶的，将被一次记多少分？ 答案:3分",
          "题目:夜间驾驶机动车在窄路、窄桥会车怎样使用灯光？ 答案:开启近光灯",
          "题目:年龄在70周岁以上的机动车驾驶人，应当每年进行一次身体检查的目的是什么？ 答案:检查是否患有妨碍安全驾驶的疾病",
          "题目:准驾车型为小型汽车的，可以驾驶下列哪种车辆？ 答案:低速载货汽车",
          "题目:机动车驾驶人身体条件发生变化不适合驾驶机动车，仍驾驶机动车的，由公安机关交通管理部门处多少元罚款？ 答案:200元以上500元以下",
          "题目:车辆通过铁路道口时，应用低速挡安全通过，中途不得换挡，以避免发动机熄火。 答案:对",
          "题目:驾驶人员在行驶的公共交通工具上擅离职守，与他人互殴或者殴打他人，危及公共安全，构成犯罪的，处一年以下有期徒刑、拘役或者管制，并处或者单处罚金。 答案:对",
          "题目:组织、参与实施欺骗、贿赂等不正当手段取得机动车驾驶证牟取经济利益的，由公安机关交通管理部门处违法所得三倍以上五倍以下罚款，但最高不超过十万元。 答案:对",
          "题目:假如您在高速公路上不小心错过了准备驶出的路口，正确的操作应该是？ 答案:继续前行，到下一出口驶离高速公路掉头",
          "题目:驾驶电动汽车，如下图所示指示灯亮表示什么？ 答案:动力蓄电池高温报警",
          "题目:驾驶人在实习期内驾驶机动车时，应当在车身后部粘贴或者悬挂统一式样的实习标志。 答案:对",
          "题目:抢救昏迷失去知觉的伤员要在抢救前先检查呼吸。 答案:对",
          "题目:这个标志是何含义？ 答案:干路先行",
          "题目:当事人应当自收到罚款的行政处罚决定书之日起多长时间内，到指定的银行缴纳罚款？ 答案:十五日",
          "题目:如果安全头枕调整不到位，发生交通事故时可能会对驾驶人颈椎造成一定程度的伤害。 答案:对",
          "题目:如图所示，以下哪类车辆可以在黄色虚线标记的车道中行驶？ 答案:公交车",
          "题目:这两辆车发生追尾的主要原因是什么？ 答案:后车未与前车保持安全距离",
          "题目:驾驶客车在山区、桥梁、高速公路遇紧急情况避险时，应先转动转向盘避让，再使用制动减速。 答案:错",
          "题目:在如图所示的道路跟车行驶时，为什么要保持较大的安全距离？ 答案:因为溅起来的水会影响视线",
          "题目:关于机动车安全装置的使用，以下说法错误的是什么？ 答案:摩托车驾驶人应按规定佩戴安全头盔，乘坐人员可以不佩戴",
          "题目:这个标志是何含义？ 答案:注意残疾人",
          "题目:机动车仪表板上如图所示指示灯亮，提示两侧车门未关闭。 答案:对",
          "题目:在这种急弯道路上行车应如何使用灯光？ 答案:交替使用远近光灯",
          "题目:在救助烧伤伤员时，如果伤口已经起泡，可用什么覆盖在水泡上进行保护？ 答案:塑料袋或保鲜膜",
          "题目:这个标志是何含义？ 答案:地点距离",
          "题目:这样在设有禁停标线路段临时停车的行为，会被记多少分？ 答案:1分",
          "题目:车辆在通过山区道路弯道时，要做到“减速、鸣喇叭、靠右行”。 答案:对",
          "题目:这个标志是何含义? 答案:残疾人专用停车位",
          "题目:在图中所示的这种天气行车，由于能见度较低，需要开启远光灯告知对向来车。 答案:错",
          "题目:距离宽度不足4米的窄路50米以内的路段不能停车。 答案:对",
          "题目:驾驶机动车不得在交叉路口、铁路道口、急弯路、宽度不足4米的窄路、桥梁、陡坡、隧道以及距离上述地点多少米以内的路段停车？ 答案:50",
          "题目:属于申请增加准驾车型的，应当收回原机动车驾驶证。 答案:对",
          "题目:驾驶机动车在夜间超车时怎样使用灯光？ 答案:变换远、近光灯",
          "题目:车辆发生故障被牵引时，可以临时搭载乘客。 答案:错",
          "题目:对使用其他车辆号牌、行驶证的车辆，交通警察可依法予以扣留。 答案:对",
          "题目:驾驶机动车不得连续超过多少小时未停车休息，停车休息时间不得少于多少分钟？ 答案:4，20",
          "题目:驾驶电动汽车，如下图所示指示灯亮表示什么？ 答案:电机过热警告",
          "题目:在城市道路上，货运机动车在留有安全位置的情况下，车厢内可以附载临时作业人员1人至几人？ 答案:5",
          "题目:驾驶7座以下载客汽车载人超过核定人数50%以上未达到100%的，一次记9分。 答案:错",
          "题目:驾驶机动车通过漫水桥，停车观察水情确认安全后，怎样通过？ 答案:挂低速挡匀速通过",
          "题目:交通事故的损失是由非机动车驾驶人、行人故意碰撞机动车造成的，机动车一方也要承担赔偿责任。 答案:错",
          "题目:安全气囊是一种什么装置？ 答案:辅助驾乘人员保护系统",
          "题目:参加公安机关交通管理部门组织的道路交通安全法律、法规和相关知识现场学习满一小时且考试合格的，一次扣减12分。 答案:错",
          "题目:对未放置检验合格标志上道路行驶的车辆，交通警察可依法予以扣留。 答案:对",
          "题目:机动车在高速公路上发生故障时，应当在来车方向150米外设置警告标志。 答案:对",
          "题目:遇到图中这种情况的铁路道口，禁止车辆通行。 答案:对",
          "题目:这个标志是何含义？ 答案:公交专用车道",
          "题目:机动车驾驶证被暂扣期间驾驶机动车的，由公安机关交通管理部门处二百元以上二千元以下罚款，可以并处以下哪种处罚？ 答案:15日以下拘留",
          "题目:年龄在70周岁以上，在一个记分周期结束后一年内未提交身体条件证明的，其机动车驾驶证将会被车辆管理所注销。 答案:对",
          "题目:根据交通违法行为的严重程度，一次记分的分值为？ 答案:12分、9分、6分、3分、1分",
          "题目:驾驶机动车驶入铁路道口前减速减挡，驶入道口后不可以变换挡位。 答案:对",
          "题目:这个标志表示禁止车货总体外廓高度超过标志所示数值的车辆通行。 答案:错",
          "题目:驾驶机动车行经人行横道，不按规定减速、停车、避让行人的，一次记3分。 答案:对",
          "题目:如图所示，驶近这种路口时，必须先停车，再重新起步通过路口。 答案:错",
          "题目:关于机动车驾驶人参加审验教育时在签注学习记录、学习过程中弄虚作假的会受到的处罚，以下说法错误的是什么? 答案:暂扣机动车驾驶证",
          "题目:这个标志是何含义？ 答案:注意危险",
          "题目:科目三道路驾驶技能考试，小型汽车、小型自动挡汽车考试里程不少于5公里。 答案:错",
          "题目:申请人以欺骗、贿赂等不正当手段取得机动车驾驶证的，会受到什么处罚？ 答案:处两千元以下罚款，申请人在三年内不得再次申领机动车驾驶证",
          "题目:驾驶机动车在高速公路上行驶，遇有能见度小于200米的恶劣气象条件时，车速不得超过每小时多少公里? 答案:60",
          "题目:雾天驾驶机动车起步，不得使用远光灯、长时间鸣喇叭。 答案:对",
          "题目:图中上路学习驾驶的自学直考小客车存在什么违法行为？ 答案:搭载了除随车指导人员以外的其他人员",
          "题目:这个标志是何含义？ 答案:注意电动自行车",
          "题目:机动车驾驶人在驾驶证有效期满换领驾驶证时，可以到具有健康体检资质的二级以上医院、乡镇卫生院、社区卫生服务中心、健康体检中心等医疗机构体检。 答案:对",
          "题目:同车道行驶的车辆遇前车有下列哪种情形时不得超车？ 答案:正在超车",
          "题目:伪造、变造机动车驾驶证构成犯罪的将被依法追究刑事责任。 答案:对",
          "题目:在这个路口怎样左转弯？ 答案:靠路口中心点左侧转弯",
          "题目:行车中遇列队横过道路的学生时，应怎样做？ 答案:停车让行",
          "题目:道路交通事故中，驾驶人有饮酒、醉酒嫌疑时，要保护现场并立即报警。 答案:对",
          "题目:营运载客汽车从注册登记之日起，多长时间以内每年检验1次？ 答案:5年",
          "题目:机动车驾驶人在实习期内可以单独驾驶大型营运客车。 答案:错",
          "题目:行车中遇到后方车辆要求超车时，应怎样做？ 答案:在条件许可的情况下，降低速度靠右让路",
          "题目:机动车驾驶人提出注销申请的，车辆管理所应当注销其机动车驾驶证。 答案:对",
          "题目:如图所示，这种情形下，此车可以通过。 答案:错",
          "题目:机动车之间发生的轻微财产损失尚未造成人员伤亡，且车辆可以移动的交通事故，双方驾驶人对交通事故无争议，但其中一方使用伪造、变造车牌的，不可以自行协商解决。 答案:对",
          "题目:夜间行车应尽量避免超车，确实需要超车时，可直接变换远近光灯超越。 答案:错",
          "题目:行车中发动机突然熄火后，以下哪种措施不可取？ 答案:立即原地停车检修",
          "题目:这个标志的含义是什么? 答案:用以预告距离出口100米",
          "题目:关于实习期，以下说法正确的是什么？ 答案:驾驶初次取得汽车类准驾车型后12个月为实习期",
          "题目:机动车仪表板上如下图所示指示灯亮表示什么？ 答案:后雾灯打开",
          "题目:山区上坡路段跟车过程中遇前车停车时怎么办？ 答案:保持大距离停车",
          "题目:打开后雾灯开关，如图所示指示灯亮起。 答案:对",
          "题目:这个标志是何含义？ 答案:线形诱导标志",
          "题目:驾驶机动车遇到骑自行车人占道影响通行时，可连续鸣喇叭加速从其左侧绕行。 答案:错",
          "题目:参加公安机关交通管理部门组织的道路交通安全法律、法规和相关知识网上学习三日内累计满三十分钟且考试合格的，一次扣减1分交通违法行为记分。 答案:对",
          "题目:驾驶机动车在道路上超车时可以不使用转向灯。 答案:错",
          "题目:这个标志是何含义？ 答案:人行横道",
          "题目:驾驶机动车不按规定超车、让行的，将被一次记多少分？ 答案:3分",
          "题目:请判断这是一个什么手势？ 答案:准许车辆右转弯手势",
          "题目:驾驶机动车在行经市区交通流量大的道路时不得超车。 答案:对",
          "题目:这个标志用以警告车辆驾驶人减速慢行，注意行人。 答案:对",
          "题目:驾驶人违反交通运输管理法规发生重大事故致人重伤的可能判处3年以下徒刑或拘役。 答案:对",
          "题目:轮胎气压过低时，高速行驶轮胎会出现波浪变形温度升高而导致什么？ 答案:爆胎",
          "题目:这个标志是何含义？ 答案:禁止直行和向左转弯",
          "题目:作业区标志的作用是通告道路交通阻断、绕行等情况。 答案:对",
          "题目:这个标志的含义是提醒前方桥面宽度变窄。 答案:错",
          "题目:雾天行车时，可持续鸣喇叭催促前车提速，避免发生追尾事故。 答案:错",
          "题目:同车道行驶的车辆遇前车有下列哪种情形时不得超车？ 答案:正在掉头",
          "题目:驾驶人违反交通运输管理法规发生重大事故致人死亡的处3年以上有期徒刑。 答案:错",
          "题目:这属于哪一种标志？ 答案:指示标志",
          "题目:驾驶机动车造成交通事故后逃逸，尚不构成犯罪的，由公安机关交通管理部门处二百元以上二千元以下罚款，可以并处15日以下拘留。 答案:对",
          "题目:出车前检查冷却液、发动机机油、燃油等是否有渗漏现象。 答案:对",
          "题目:车辆在高速公路匝道提速到每小时60公里以上时，可直接驶入行车道。 答案:错",
          "题目:重型、中型载货汽车的车厢后部未按照规定喷涂放大的牌号或者放大的牌号不清晰的，由公安机关交通管理部门处警告或者多少元以下罚款？ 答案:二百元",
          "题目:如图所示，驾驶机动车时，前风窗玻璃处悬挂放置干扰视线的物品是错误的。 答案:对",
          "题目:70周岁以上人员考领机动车驾驶证，应增加判断力、记忆力、反应力等能力测试。 答案:对",
          "题目:驾驶机动车遇前方机动车停车排队或者缓慢行驶时，借道超车或者占用对面车道、穿插等候车辆的，将被一次记多少分 ？ 答案:3分",
          "题目:在大雨天行车，为避免发生“水滑”而造成危险，要控制速度行驶。 答案:对",
          "题目:申请人在机动车驾驶人考试过程中组织作弊的，情节严重构成犯罪的，会受到什么处罚? 答案:处三年以上七年以下有期徒刑，并处罚金",
          "题目:点火开关在LOCK位置拔出钥匙转向盘会锁住。 答案:对",
          "题目:非营运小微型载客汽车从注册登记之日起，超过多长时间的每年检验1次？ 答案:10年",
          "题目:机动车驾驶人造成交通事故后逃逸构成犯罪的，由公安机关交通管理部门吊销机动车驾驶证，且多长时间不得重新取得机动车驾驶证？ 答案:终生",
          "题目:遇到交通信号灯、交通标志或交通标线与交通警察的指挥不一致时，按照交通警察指挥行驶。 答案:对",
          "题目:机动车在道路上发生故障难以移动时，要在车后50米以内设置警告标志，以防止发生交通事故。 答案:错",
          "题目:机动车驾驶人在一个记分周期内累积记分未满12分，但有罚款逾期未缴纳的，该记分周期内尚未缴纳罚款的交通违法行为记分分值转入下一记分周期。 答案:对",
          "题目:这个标志是何含义？ 答案:交叉路口",
          "题目:在图中位置停车会被记多少分？ 答案:1分",
          "题目:驾驶人在下列哪种情况下不能驾驶机动车？ 答案:饮酒后",
          "题目:本车号牌遗失的，可以暂时悬挂其他机动车的号牌上路行驶。 答案:错",
          "题目:驾驶机动车牵引挂车时，以下说法正确的是什么？ 答案:三轮汽车不得牵引挂车",
          "题目:如图所示，驾驶机动车遇这种情况时，我方车辆不能超越是因为？ 答案:前车正在超车",
          "题目:两辆机动车发生轻微碰擦事故后，为保证理赔，必须等保险公司人员到场鉴定后才能撤离现场。 答案:错",
          "题目:饮酒后驾驶营运机动车依法被吊销机动车驾驶证未满五年的，不得申请机动车驾驶证。 答案:对",
          "题目:当驾驶人的血液中酒精含量为100毫克/100毫升时，属于醉酒驾驶。 答案:对",
          "题目:上道路行驶的小型汽车不按规定年检的，将被一次记多少分？ 答案:1分",
          "题目:这个标志的含义是除必要的超车行为外，应靠右侧车道行驶。 答案:对",
          "题目:这个标志是何含义？ 答案:注意信号灯",
          "题目:如图所示，这种情况下准备进入环形路口时，为了保证车后车流的通畅，应超越红车进入路口。 答案:错",
          "题目:对有使用伪造或变造检验合格标志嫌疑的车辆，交通警察只进行罚款处罚。 答案:错",
          "题目:图中所示红圈内道路右侧车行道边缘白色虚线的含义是什么？ 答案:机动车可临时越线行驶",
          "题目:社会车辆距离消防栓或者消防队(站)门前50米以内的路段不能停车。 答案:错",
          "题目:右侧这个标志警告前方是无人看守的有多股铁路与道路相交铁路道口。 答案:错",
          "题目:初次申领的机动车驾驶证的有效期为多少年？ 答案:6年",
          "题目:这个标志表示该车道仅供小型客车通行。 答案:错",
          "题目:图中标志设在禁止运输危险品车辆驶入路段的入口处。 答案:对",
          "题目:驾驶人在机动车驾驶证的6年有效期内，每个记分周期均未达到12分的，换发10年有效期的机动车驾驶证。 答案:对",
          "题目:机动车在路边临时停车时，不得并列或逆向停放。 答案:对",
          "题目:机动车驾驶证在实习期内，驾驶人不得通过接受交通安全教育扣减交通违法行为记分。 答案:对",
          "题目:驾驶载货汽车载物超过最大允许总质量未达到百分之三十的，一次记多少分？ 答案:1分",
          "题目:交通信号灯由红灯、绿灯和黄灯组成。 答案:对",
          "题目:这个标志是什么意思？ 答案:前方路口不能左转",
          "题目:遇到图中所示车辆停车等待的情形，怎样做是正确的？ 答案:依次在红色小型客车后停车等待",
          "题目:提供虚假材料申领驾驶证的申请人会承担下列哪种法律责任？ 答案:1年内不得再次申领驾驶证",
          "题目:如图所示，当后方有执行任务的救护车驶来时，以下做法正确的是什么？ 答案:靠右减速让路",
          "题目:驾驶人将机动车交由什么样的人驾驶的，交通警察可依法扣留机动车驾驶证？ 答案:驾驶证被吊销的人",
          "题目:车辆行至交叉路口需要掉头时，不可直接轧双黄实线掉头，否则一次记3分。 答案:错",
          "题目:这个标志是何含义？ 答案:休息区",
          "题目:驾驶电动汽车，如下图所示指示灯亮表示什么？ 答案:低荷电状态警告",
          "题目:夜间驾驶机动车在没有中心隔离设施或者没有中心线的道路上行驶，以下哪种情况下应当改用近光灯？ 答案:与对向机动车会车时",
          "题目:驾驶机动车遇到成群青少年绕过路边停放的机动车时，要主动减速让行。 答案:对",
          "题目:交通信号包括交通信号灯、交通标志、交通标线和交通警察的指挥。 答案:对",
          "题目:驾驶机动车通过没有交通信号的交叉路口怎样行驶？ 答案:减速慢行",
          "题目:交通事故造成人员重伤但驾驶人愿意承担全部责任的，可以自行协商处理。 答案:错",
          "题目:机动车在高速公路上发生故障时错误的做法是什么？ 答案:车上人员不能下车",
          "题目:山区道路车辆进入弯道前，在对面没有来车的情况下，应怎样做？ 答案:应“减速、鸣喇叭、靠右行”",
          "题目:交通违法行为累积记分未满12分的，可以处理其驾驶的其他机动车的交通违法行为记录。 答案:对",
          "题目:故意损毁、移动、涂改交通设施，造成危害后果，尚不构成犯罪的，由公安交通管理部门处多少元罚款？ 答案:200元以上2000元以下",
          "题目:这个标志是何含义？ 答案:禁止直行和向左转弯",
          "题目:如果想超越前方图中这辆速度行驶的小客车，怎么做是正确的？ 答案:开启左转向灯等待让超",
          "题目:小张打算利用大学期间的寒暑假学车，在申请考取小型汽车驾驶证时，提交符合健康体检资质的二级以上社区卫生服务中心出具的身体条件证明是可以申请通过的。 答案:对",
          "题目:驾驶机动车在高速公路上发生故障，驾驶人应开启危险报警闪光灯增大警示范围。 答案:对",
          "题目:应注意电动汽车的保养，电动汽车出现故障需要维修时，应选择专业的维修机构或者人员。 答案:对",
          "题目:车辆驶近人行横道时，应怎样做？ 答案:先减速注意观察行人、非机动车动态，确认安全后再通过",
          "题目:上路行驶的机动车未随车携带身份证的，交通警察可依法扣留机动车。 答案:错",
          "题目:如图所示，驾驶机动车遇到这种情形，下列做法正确的是什么？ 答案:减速让行，必要时停车",
          "题目:对违法驾驶发生重大交通事故且构成犯罪的，不追究其刑事责任。 答案:错",
          "题目:造成致人轻伤以上或者死亡的交通事故后逃逸，尚不构成犯罪的一次记几分？ 答案:12分",
          "题目:醉驾可构成危险驾驶罪。 答案:对",
          "题目:如图所示，驾驶机动车遇到这种情况，以下做法正确的是什么？ 答案:跟随前车行驶",
          "题目:高速公路上车辆发生故障后，开启危险报警闪光灯和摆放警告标志的作用是警告后续车辆注意避让。 答案:对",
          "题目:在道路上驾驶机动车与对向来车会车时，可以不必注意两车的横向间距。 答案:错",
          "题目:在泥泞路段行车容易出现什么现象？ 答案:车轮侧滑",
          "题目:这个标志是何含义？ 答案:货车通行",
          "题目:遇到前方车辆停车排队或者缓慢行驶时，强行穿插，以下说法正确的是什么？ 答案:禁止，因为这样扰乱车流，加重拥堵",
          "题目:驶近一个图中所示的路口时，怎么做是正确的？ 答案:在路口减速后向左转头观察，确认安全后通过",
          "题目:如图所示，前车通过积水路段的方式是不文明的。 答案:对",
          "题目:驾驶机动车载货长度、宽度、高度超过规定的，一次记1分。 答案:对",
          "题目:下列避免爆胎的做法中，错误的是哪一个？ 答案:降低轮胎气压",
          "题目:驾驶擅自改变已登记的结构、构造或者特征的载货汽车上道路行驶的，一次记多少分？ 答案:1分",
          "题目:年龄在70周岁以上的机动车驾驶人发生责任交通事故造成人员重伤或者死亡的，应当在本记分周期结束后30日内到公安机关交通管理部门接受审验。 答案:对",
          "题目:行车中遇到非机动车占道行驶并且影响通行时，以下做法错误的是什么？ 答案:持续鸣喇叭警告非机动车避让",
          "题目:如图所示，驾驶机动车在路口前遇到这种情况时，A车具有优先通行权。 答案:对",
          "题目:机动车仪表板上如图所示指示灯亮时提醒发动机需要加注机油。 答案:错",
          "题目:三年内有代替他人参加机动车驾驶人考试行为的，不得申请机动车驾驶证。 答案:对",
          "题目:禁止标线的作用是告示道路使用者道路交通的遵行、禁止、限制等特殊规定。 答案:对",
          "题目:机动车驾驶证损毁无法辨认的，机动车驾驶人应当在六十日内申请换证。 答案:错",
          "题目:如图所示，驾驶机动车行驶至铁路道口时，以下做法正确的是什么？ 答案:停车等待",
          "题目:这个标志是何含义？ 答案:村庄或集镇",
          "题目:申请人以欺骗、贿赂等不正当手段取得校车驾驶资格的，处两千元以下罚款，申请人在三年内不得再次申请校车驾驶资格。 答案:对",
          "题目:以下哪个交通标志表示该道路仅供非机动车与行人通行，机动车不准进入? 答案:图D",
          "题目:图中这组交警手势是什么信号？ 答案:左转弯待转信号",
          "题目:这个标志是何含义？ 答案:步行",
          "题目:以下缩写中，表示车辆车道偏离预警系统缩写的是什么？ 答案:LDW",
          "题目:机动车驾驶人申请学法减分时，参加交通安全公益活动满一小时的，可扣减几分？ 答案:1分",
          "题目:如图所示，蓝色小型客车（C）行驶车道是正确的。 答案:对",
          "题目:会车中道路一侧有障碍，双方机动车应如何做？ 答案:有障碍的一方让对向先行",
          "题目:申请增加哪些准驾车型的，不得有在造成人员死亡的交通事故中承担同等以上责任的记录？ 答案:大型客车、重型牵引挂车、中型客车",
          "题目:组织、参与实施欺骗、贿赂等不正当手段取得机动车驾驶证牟取经济利益的，由公安机关交通管理部门处违法所得三倍以上五倍以下罚款，但最高不超过十万元。 答案:对",
          "题目:驾驶这种机动车上路行驶，将被一次记12分。 答案:错",
          "题目:机动车驾驶人请他人代为接受交通违法行为处罚和记分并支付经济利益的，由公安机关交通管理部门处所支付经济利益多少倍以下罚款，但最高不超过多少万元? 答案:三，五",
          "题目:驾驶机动车超员、超速构成犯罪依法被吊销机动车驾驶证未满多少年的，不得申请机动车驾驶证？ 答案:5年",
          "题目:这个标志的含义是提醒车辆驾驶人前方是非机动车道。 答案:错",
          "题目:驾驶机动车在雨天遇到撑雨伞和穿雨衣的行人在路边行走怎样礼让？ 答案:提前减速鸣喇叭",
          "题目:摩托车下长坡时要减挡行驶，以充分利用发动机的制动作用。 答案:对",
          "题目:打开后雾灯开关，如下图所示指示灯亮起。 答案:错",
          "题目:遇后车发出超车信号后，只要具备让超条件应怎样做？ 答案:主动减速并靠右侧行驶",
          "题目:驾驶人在驾驶证丢失后3个月内还可以驾驶机动车。 答案:错",
          "题目:驾驶与准驾车型不符的机动车的，一次记6分。 答案:错",
          "题目:雾天行车为了提高能见度，应该开启远光灯。 答案:错",
          "题目:驾驶机动车在车道减少的路口，遇到前方车辆依次停车或缓慢行驶时怎么办？ 答案:每车道一辆依次交替驶入路口",
          "题目:在道路与铁路平面交叉道口遇到一个红灯亮起时要尽快通过道口。 答案:错",
          "题目:漫水道路行车时，要挂高速挡，快速通过。 答案:错",
          "题目:这个标志是何含义？ 答案:人工收费车道",
          "题目:驾驶人有下列哪种违法行为，处10日以下拘留，并处1000元以上2000元以下罚款，吊销机动车驾驶证？ 答案:因饮酒后驾驶机动车被处罚，再次饮酒后驾驶机动车的",
          "题目:如图所示，在这个路口不能掉头。 答案:错",
          "题目:机动车驾驶人代替他人参加机动车驾驶人考试的，车辆管理所应当注销其机动车驾驶证。 答案:对",
          "题目:安全气囊是一种防抱死制动系统装置。 答案:错",
          "题目:摩托车遇危险、复杂路况时，驾驶人应以中低速匀速行驶，注意保持车身平衡，谨慎通过。 答案:对",
          "题目:驾车直行通过路口，看到图中这种信号灯亮起时，不能减速或停车等待，必须尽快加速通过，避免出现意外。 答案:错",
          "题目:以下选项中，车辆导航的英文缩写是什么？ 答案:GPS",
          "题目:申请人在考试过程中有贿赂、舞弊行为的，取消考试资格，已经通过考试的其他科目成绩不受影响。 答案:错",
          "题目:同车道行驶的车辆前方遇到下列哪种车辆不得超车？ 答案:执行任务的救护车",
          "题目:行车中遇到执行紧急任务的消防车、救护车、工程救险车时要及时让行。 答案:对",
          "题目:驾驶机动车遇到校车在道路右侧停车上下学生，同向有两条机动车道时，左侧车道后方机动车应当停车等待。 答案:对",
          "题目:驾驶人违反交通运输管理法规发生重大事故使公私财产遭受重大损失的可能处3年以下徒刑或拘役。 答案:对",
          "题目:行车中当机动车突然爆胎时，驾驶人切忌慌乱中急踏制动踏板，尽量采用抢挂低速挡的方法，利用发动机制动使机动车减速。 答案:对",
          "题目:驾驶机动车在下列哪种情形下不能超越前车？ 答案:前车正在左转弯",
          "题目:驾驶机动车在道路上向右变更车道可以不使用转向灯。 答案:错",
          "题目:车辆行至隧道出口或凿开的山谷出口处，容易遇到横风，驾驶人感到车辆行驶方向偏移时，应如何安全驾驶？ 答案:双手稳握转向盘，适当减速",
          "题目:安全文明行车是机动车驾驶人必备的驾驶素质。 答案:对",
          "题目:驾驶非机动车、拖拉机、轮式专用机械车、铰接式客车、全挂拖斗车以及其他设计最高时速低于七十公里的机动车，不得进入高速公路。 答案:对",
          "题目:这个标志是何含义？ 答案:超高绕行",
          "题目:距离宽度不足4米的窄路50米以内的路段不能停车。 答案:对",
          "题目:白天驾驶机动车超车时，应提前开启什么灯光？ 答案:左转向灯",
          "题目:处于实习期的驾驶人，任何情况下都不允许上高速。 答案:错",
          "题目:驾驶电动汽车行驶时，可以频繁刹车。 答案:错",
          "题目:夜间驾驶机动车在照明条件良好的路段可以不使用灯光。 答案:错",
          "题目:这个标志是什么？ 答案:行人",
          "题目:参加公安机关交通管理部门组织的交通安全公益活动的，满几小时为一次，一次扣减几分? 答案:1小时，1分",
          "题目:公安机关交通管理部门对机动车驾驶人的交通违法行为，除依法给予行政处罚外，实行累积记分制度。 答案:对",
          "题目:驾驶车辆行至道路急转弯处，应怎样做？ 答案:充分减速并靠右侧行驶",
          "题目:如图所示，在这段无限速标志和标线的城市道路上行驶的最高速度不能超过多少？ 答案:30公里每小时",
          "题目:驾驶机动车在结冰的道路上怎样会车？ 答案:提前减速缓慢交会",
          "题目:驾驶机动车驶离高速公路后，要通过观察车速表来判断车速，以适应一般道路行驶。 答案:对",
          "题目:道路划设专用车道的，在专用车道内，其他机动车可以借道超车。 答案:错",
          "题目:驾驶人一边驾车，一边吸烟对安全行车无影响。 答案:错",
          "题目:机动车发生财产损失交通事故，对应当自行撤离现场而未撤离造成交通堵塞的，可以对驾驶人处以200元罚款。 答案:对",
          "题目:驾驶机动车驶出地下车库时，应按照导向箭头的方向行驶，不得逆行。 答案:对",
          "题目:下列哪个交通标志，表示该道路仅供非机动车推行，不准骑行? 答案:如图中C所示",
          "题目:下列哪个交通标志，表示禁止电动自行车进入？ 答案:如图中B所示",
          "题目:机动车驾驶人申请学法减分时，在本记分周期内有二次以上参加满分教育记录情形的，公安机关交通管理部门不予受理。 答案:对",
          "题目:道路没有划分机动车道、非机动车道和人行道的，以下说法正确的是什么？ 答案:机动车在道路中间通行，非机动车和行人在道路两侧通行",
          "题目:驾驶载货汽车载物超过最大允许总质量百分之三十以上未达到百分之五十的，或者违反规定载客的，一次记3分。 答案:对",
          "题目:这个标志表示距出口距离200米。 答案:对",
          "题目:驾驶人连续驾驶4小时以上，停车休息的时间不得少于多少？ 答案:20分钟",
          "题目:机动车仪表板上如图所示指示灯一直亮，表示发动机控制系统故障。 答案:对",
          "题目:在路口遇这种情形要减速让行。 答案:对",
          "题目:机动车仪表板上如图所示指示灯亮表示什么？ 答案:右转向指示灯闪烁",
          "题目:机动车驾驶证被依法扣押、扣留、暂扣期间能否申请补发？ 答案:不得申请补发",
          "题目:驾驶人违反交通运输管理法规发生重大事故后，因逃逸致人死亡的，处3年以上7年以下有期徒刑。 答案:错",
          "题目:这个标志是何含义？ 答案:注意牲畜",
          "题目:泥泞路对安全行车的影响是车轮极易空转和侧滑。 答案:对",
          "题目:这属于哪一类标志？ 答案:指路标志",
          "题目:请判断这是一个什么标志？ 答案:指示标志",
          "题目:如图所示，夜间驾驶机动车经过没有信号灯控制的交叉口时，以下做法正确的是什么? 答案:交替使用远、近光灯",
          "题目:这个标志是何含义？ 答案:分隔带右侧行驶",
          "题目:驾驶机动车从辅路汇入主路车流时要迅速。 答案:错",
          "题目:在最近几个记分周期内，机动车驾驶人饮酒后驾驶机动车受到过处罚的，不得通过接受交通安全教育扣减交通违法行为记分？ 答案:3个",
          "题目:社会车辆距离消防栓或者消防队(站)门前30米以内的路段不能停车。 答案:对",
          "题目:如图所示，在高速公路同方向三条机动车道中间车道行驶，车速不能低于多少？ 答案:90公里/小时",
          "题目:申领机动车驾驶证的人在户籍所在地居住的，应当向什么地方的车辆管理所提出申请？ 答案:户籍所在地",
          "题目:载运集装箱的车辆高度从地面起不得超过多少米？ 答案:4.2",
          "题目:驶近如图所示的铁路道口，以下做法正确的是什么？ 答案:不得越过停止线",
          "题目:汽车主要由四大部分组成，分别是发动机、底盘、车身和下列哪项？ 答案:电气设备",
          "题目:下列哪个指示灯亮表示车辆在使用近光灯？ 答案:如图中C所示",
          "题目:机动车驾驶人在一个记分周期内三次以上累积记分满12分或者累积记分满36分的，应当在道路交通安全法律、法规和相关知识考试合格后，按照《机动车驾驶证申领和使用规定》第四十三条和第四十四条的规定预约参加场地驾驶技能和道路驾驶技能考试。 答案:对",
          "题目:伪造、变造机动车驾驶证构成犯罪的将被依法追究刑事责任。 答案:对",
          "题目:申请人在考试过程中有贿赂、舞弊行为的，已经通过考试的其他科目成绩无效，处二千元以下罚款，申请人在一年内不得再次申领机动车驾驶证。 答案:对",
          "题目:超车时应从前车的左侧超越，是因为左侧超车便于观察，有利于安全。 答案:对",
          "题目:机动车驾驶人酒后驾车是指喝白酒后驾驶机动车的。 答案:错",
          "题目:驾驶机动车违反禁令标志、禁止标线指示的，一次记6分。 答案:错",
          "题目:机动车未达到国家强制报废标准，机动车所有人自愿报废的，应当向什么地方的车辆管理所提出申请？ 答案:登记地",
          "题目:夜间驾驶机动车在复杂的交叉路口会车时，怎样使用灯光？ 答案:使用近光灯",
          "题目:机动车驾驶人同时被处以暂扣机动车驾驶证的，经满分学习、考试合格且罚款已缴纳的，记分予以清除，在暂扣期限届满后发还机动车驾驶证。 答案:对",
          "题目:驾驶机动车通过急弯路时，最高速度不能超过多少？ 答案:30公里/小时",
          "题目:收费停车位的停车标线是什么颜色？ 答案:白色",
          "题目:这个标志的含义是提醒车辆驾驶人前方是傍山险路路段。 答案:错",
          "题目:在冰雪道路上行车时，车辆的稳定性降低，加速过急时车轮极易空转或溜滑。 答案:对",
          "题目:道路交通安全违法行为的处罚种类包括：警告、罚款、暂扣或者吊销机动车驾驶证、拘留。 答案:对",
          "题目:机动车驾驶人存在下列哪种交通违法行为的，一次记3分？ 答案:驾驶不按规定安装机动车号牌的机动车上道路行驶的",
          "题目:在高速公路上行驶感觉疲劳时，应当立即停车休息，以保证行车安全，避免因疲劳驾驶而导致的交通事故。 答案:错",
          "题目:冰雪路面处理情况不能使用紧急制动，但可采取急转向的方法躲避。 答案:错",
          "题目:客车在起步前，应检查行李包是否装捆牢固，长、宽、高及重量是否符合规定，可将行李放置在门道或者过道上。 答案:错",
          "题目:如图，在这种铁路道口，如果没有看到列车驶来就要加速通过道口。 答案:错",
          "题目:驾驶人驾驶机动车不按交通信号灯指示通行一次记多少分？ 答案:6分",
          "题目:这个标志是何含义？ 答案:行车疏散通道",
          "题目:这个标志的含义是指示该道路仅供非机动车骑行。 答案:错",
          "题目:这个标志是何含义？ 答案:有轨电车专用车道",
          "题目:机动车仪表板上如图所示指示灯亮，表示行车制动系统可能出现故障。 答案:对",
          "题目:图中标志的含义是禁止载货汽车驶入。 答案:错",
          "题目:在机动车抵押登记期间，申请因质量问题更换整车变更登记的，应当由机动车所有人和抵押权人共同申请。 答案:对",
          "题目:以下哪项行为可构成危险驾驶罪？ 答案:醉驾",
          "题目:如图，看到路边有一个黄灯在闪烁时，正确的做法是？ 答案:提前减速观察确认是否能安全通过",
          "题目:如图所示，驾驶机动车驶出匝道后可以直接驶入行车道。 答案:错",
          "题目:距离交叉路口50米以内的路段不能停车。 答案:对",
          "题目:机动车在抵押登记、质押备案期间不可以办理转移登记。 答案:对",
          "题目:驾驶机动车遇到缓慢通过道路或在路边行走的老年人时，应怎样做？ 答案:减速或停车让行",
          "题目:驾驶机动车追逐竞驶、超员、超速构成犯罪依法被吊销机动车驾驶证未满3年的，不得申请机动车驾驶证。 答案:错",
          "题目:这个标志是何含义？ 答案:硬路肩允许行驶即将结束",
          "题目:道路交通违法行为累积记分周期是多长时间？ 答案:12个月",
          "题目:夜间驾驶机动车超车遇前车不让路时怎样处置？ 答案:保持距离等待让行",
          "题目:这个标志是何含义？ 答案:向左急转弯",
          "题目:驾驶未悬挂机动车号牌的机动车上道路行驶的，一次记12分。 答案:错",
          "题目:驾驶机动车在没有道路中心线的狭窄山路怎样会车？ 答案:不靠山体的一方先行",
          "题目:驾驶人在实习期内单独驾驶机动车上高速公路行驶，会受到什么处罚？ 答案:二十元以上二百元以下罚款",
          "题目:年龄在70周岁以上的机动车驾驶人审验时应当按照规定进行记忆力、判断力、反应力等能力测试。 答案:对",
          "题目:年龄在70周岁以上的驾驶人多长时间提交一次身体条件证明？ 答案:每1年",
          "题目:抢救昏迷失去知觉的伤员需注意什么？ 答案:抢救前先检查呼吸",
          "题目:请判断这是一个什么标志？ 答案:禁令标志",
          "题目:已持有C1/C2准驾车型驾驶证申请增加C6准驾车型的，应当考试科目二和科目三道路驾驶技能。 答案:错",
          "题目:多长时间内有代替他人参加机动车驾驶人考试行为的，不得申请机动车驾驶证？ 答案:3年",
          "题目:机动车办理登记后，机动车所有人收到机动车号牌之日起几天后，临时行驶车号牌作废，不得继续使用？ 答案:三",
          "题目:图中小型汽车的停车地点是正确的。 答案:错",
          "题目:这个标志是何含义？ 答案:上陡坡",
          "题目:初次申领机动车驾驶证的，可以申请准驾车型为轻型牵引挂车的机动车驾驶证。 答案:错",
          "题目:驾驶机动车在高速公路上行驶，遇能见度小于50米的恶劣气象条件时，车速不得超过每小时多少公里，并尽快驶离? 答案:20",
          "题目:这是什么操纵装置？ 答案:灯光、信号组合开关",
          "题目:在高速公路上驾驶机动车感觉疲劳时，应驶入最近的服务区休息，不得在应急车道内停车休息。 答案:对",
          "题目:驾驶机动车上路前应当检查车辆安全技术性能。 答案:对",
          "题目:行车中遇到正在进行作业的道路养护车辆、工程作业车时要注意避让。 答案:对",
          "题目:公路客运车辆载客超过额定乘员20%或者违反规定载货的，处多少罚款？ 答案:500元以上2000元以下",
          "题目:年满20周岁的，不可以初次申请下列哪种准驾车型？ 答案:大型客车",
          "题目:申请人为自学直考人员的，在道路上学习驾驶时，应当在自学用车上按规定放置、粘贴学车专用标识，自学用车可以搭载随车指导人员以外的其他人员。 答案:错",
          "题目:以下哪个标志，表示所指示的车道为直行车道？ 答案:图3",
          "题目:夜间驾驶机动车会车时，应使用的灯光是什么？ 答案:近光灯",
          "题目:这个标志是何含义？ 答案:电动自行车车道",
          "题目:驾驶机动车在道路上车辆发生故障、事故停车后，不按规定使用灯光或设置警告标志的，将被一次记多少分？ 答案:3分",
          "题目:驾驶机动车在冰雪路面行车注意什么？ 答案:制动距离延长",
          "题目:将点火开关转到ACC位置起动机工作。 答案:错",
          "题目:遇后车超车时，在条件许可的情况下应减速靠右让路，是为了给后车留出超车空间。 答案:对",
          "题目:如图所示，在超车过程中，遇对向有来车时要放弃超车是因为什么？ 答案:如继续超车，易与对面机动车发生刮擦、相撞",
          "题目:车辆发生轻微剐蹭事故，双方驾驶人争执不下，坚持在原地等待警察来处理，造成路面堵塞，该行为会受到罚款的处罚。 答案:对",
          "题目:行车中遇有非机动车准备绕过停放的车辆时，应紧随其后鸣喇叭。 答案:错",
          "题目:机动车驾驶人逾期不参加审验仍驾驶机动车的，会受到什么处罚？ 答案:200元以上500元以下",
          "题目:下长坡连续使用行车制动会造成什么不良后果？ 答案:制动器制动效果下降",
          "题目:这个标志是何含义？ 答案:向右转弯",
          "题目:驾驶机动车在城市快速路上违法占用应急车道行驶的，一次记几分？ 答案:6分",
          "题目:记分周期自机动车驾驶人初次领取机动车驾驶证之日起连续计算，或者自初次取得临时机动车驾驶许可之日起累积计算。 答案:对",
          "题目:烧伤伤员口渴时，只能喝白开水。 答案:错",
          "题目:如图所示，在交叉路口遇到这种情况时，应在停止线前等待，不可加速通过路口。 答案:对",
          "题目:上道路行驶的机动车不按规定安装机动车号牌的一次记12分。 答案:错",
          "题目:持有准驾车型为残疾人专用小型自动挡载客汽车的机动车驾驶人驾驶机动车时，应当按规定在车身设置哪种标志？ 答案:残疾人机动车专用标志",
          "题目:指示标志的作用是指引道路信息，为驾驶人传递道路方向、地点、距离等信息。 答案:错",
          "题目:持有大型客车、重型牵引挂车、城市公交车、中型客车、大型货车驾驶证的驾驶人从业单位等信息发生变化的，应当在信息变更后三十日内，向从业单位所在地车辆管理所备案。 答案:对",
          "题目:驾驶人有使用其他车辆保险标志嫌疑的，交通警察可依法扣留车辆。 答案:对",
          "题目:驾驶机动车通过交叉路口要遵守交通信号。 答案:对",
          "题目:这个标志的含义是指示前方道路要注意行人，减速慢行。 答案:错",
          "题目:申请人在道路上学习驾驶时，未按照公安机关交通管理部门指定的路线、时间进行的，由公安机关交通管理部门对教练员或者随车指导人员处多少元罚款？ 答案:20元以上200元以下",
          "题目:驾驶摩托车时可单手离车把，但不得双手同时离把。 答案:错",
          "题目:驾驶机动车在路口看到这种信号灯亮时，在不妨碍被放行车辆、行人的情况下，可以左转弯行驶。 答案:错",
          "题目:轮胎气压过低时，高速行驶可能导致什么结果？ 答案:爆胎",
          "题目:大型客车的车身或者车厢后部未按照规定喷涂放大的牌号或者放大的牌号不清晰的，由公安机关交通管理部门处警告或者多少元以下罚款？ 答案:二百元",
          "题目:如图所示，直行车辆遇到前方路口堵塞，以下说法正确的是什么？ 答案:等前方道路疏通后，且信号灯为绿灯时方可继续行驶",
          "题目:机动车在高速公路上发生故障或事故时，车上人员应当迅速转移到________。 答案:右侧路肩或应急车道内",
          "题目:驾驶机动车在高速公路、城市快速路上穿越中央分隔带掉头的，一次记12分。 答案:对",
          "题目:发生财产损失事故，驾驶人有服用国家管制的精神药品情形的，不适用自行协商解决。 答案:对",
          "题目:在道路上发生交通事故造成人身伤亡时，要立即抢救受伤人员并迅速报警。 答案:对",
          "题目:遇有这种排队等候的情形怎么做？ 答案:依次排队等候",
          "题目:机动车行驶超过规定时速50%的，会受到下列何种处罚？ 答案:200元以上2000元以下罚款",
          "题目:驾驶机动车在雾天怎样跟车行驶？ 答案:保持大间距",
          "题目:驾驶人在实习期内不可以单独驾驶机动车上高速公路行驶，在增加准驾车型后的实习期内，驾驶原准驾车型的机动车时不受上述限制。 答案:对",
          "题目:请判断这是一个什么手势？ 答案:不准前方车辆通行手势",
          "题目:在高速公路加速车道上行驶，遇前车行驶缓慢时，可以超车。 答案:错",
          "题目:机动车驾驶人请他人代为接受交通违法行为处罚和记分并支付经济利益的，由公安机关交通管理部门处所支付经济利益多少倍以下罚款，但最高不超过多少万元? 答案:三，五",
          "题目:如图所示，黄车驾驶人在高速公路逆向行驶的违法行为，会被记几分？ 答案:12分",
          "题目:下长坡控制车速最安全的方法是什么？ 答案:利用发动机制动",
          "题目:驾驶机动车在山区上坡路段行驶，以下做法错误的是什么？ 答案:应使用高速挡",
          "题目:申请轻型牵引挂车准驾车型的，年龄应满多少周岁? 答案:20周岁",
          "题目:从高速公路加速车道汇入行车道时，不应猛打方向盘。 答案:对",
          "题目:上道路行驶的机动车有哪种情形交通警察可依法扣留车辆？ 答案:未放置检验合格标志",
          "题目:报考重型牵引挂车准驾车型科目三考试的，在取得学习驾驶证明满40日后预约。 答案:对",
          "题目:黄昏时分，光线若明若暗，容易产生视觉误差，为了让其他驾驶人发现本车，应提前开启的灯光是哪种？ 答案:前照灯和示廓灯",
          "题目:正面安全气囊与什么配合才能充分发挥保护作用？ 答案:座椅安全带",
          "题目:申请人隐瞒有关情况或者提供虚假材料申请校车驾驶资格的，申请人在一年内不得再次申请校车驾驶资格。 答案:对",
          "题目:这个标志提示需要注意什么？ 答案:前方路段正在进行交通事故管理",
          "题目:机动车驾驶人处理完交通违法行为记录后累积记分未满12分，参加公安机关交通管理部门组织的交通安全教育并达到规定要求的，可以申请在机动车驾驶人现有累积记分分值中扣减记分。在一个记分周期内累计最高扣减几分？ 答案:6分",
          "题目:路面由白色虚线和三角地带标线组成的是什么标线？ 答案:道路出口标线",
          "题目:在为成人做心肺复苏时，胸外按压频率是多少？ 答案:100-120次/分",
          "题目:警告标志的作用是警告车辆驾驶人前方有危险，需谨慎通过。 答案:对",
          "题目:在雪天临时停车要开启前照灯和雾灯。 答案:错",
          "题目:驾驶机动车在高速公路上车辆发生故障时，为获得其他车辆的帮助，可将警告标志放置在其他车道。 答案:错",
          "题目:在这种情形中前车怎样行驶？ 答案:及时让行",
          "题目:驾驶机动车驶离高速公路时，若车辆制动性能良好，可以不经减速车道直接驶入匝道。 答案:错",
          "题目:驾驶机动车运输危险化学品，未经批准进入危险化学品运输车辆限制通行的区域的，一次记多少分？ 答案:6分",
          "题目:关于交通违法行为，以下说法错误的是什么？ 答案:造成致人轻微伤或者财产损失的交通事故后逃逸，尚不构成犯罪的，一次记9分",
          "题目:在高速公路上行驶的小型载客汽车之外的其他机动车不得超过每小时多少公里？ 答案:100",
          "题目:已持有机动车驾驶证，申请增加准驾车型的，只需在本记分周期内没有记满12分记录即可。 答案:错",
          "题目:这辆在道路上行驶的机动车，驾驶人将被一次记多少分？ 答案:9分",
          "题目:驾驶机动车在路口遇到这种信号灯表示什么意思？ 答案:路口警示",
          "题目:这个标志是何含义？ 答案:停车领卡",
          "题目:这个标志是何含义？ 答案:施工路段",
          "题目:对有伪造或变造号牌、行驶证嫌疑的车辆，交通警察可依法予以扣留。 答案:对",
          "题目:这个标志的含义是警告车辆驾驶人前方是人行横道。 答案:错",
          "题目:夜间驾驶机动车通过人行横道时需要交替使用远、近光灯。 答案:对",
          "题目:如图所示，A车在此处停车是可以的。 答案:对",
          "题目:机动车驾驶证补领后，以下说法正确的是什么？ 答案:原驾驶证作废，不得继续使用",
          "题目:距离桥梁、陡坡、隧道50米以内的路段不能停车。 答案:对",
          "题目:这个标志是什么？ 答案:残疾人专用停车位",
          "题目:机动车驾驶人在一个记分周期期限届满，累积记分未满12分的，该记分周期内的记分予以清除。 答案:对",
          "题目:这个标志是何含义？ 答案:机动车车道",
          "题目:如图所示，黄色机动车从这个位置驶入匝道的行为是正确的。 答案:错",
          "题目:驾驶机动车在没有中心线的城市道路上行驶，以下说法正确的是什么？ 答案:最高速度为每小时30公里",
          "题目:当驾驶证出现以下哪种情况时，驾驶人不得驾驶机动车？ 答案:以上均是",
          "题目:图中圈内的白色折线是什么标线？ 答案:车距确认线",
          "题目:驾驶机动车追逐竞驶、超员、超速、违反危险化学品安全管理规定运输危险化学品构成犯罪依法被吊销机动车驾驶证未满五年的，不得申请机动车驾驶证。 答案:对",
          "题目:打开前后雾灯开关，如图所示指示灯亮起。 答案:错",
          "题目:夜间在道路上会车时，应在距离对向来车100米以内将远光灯改用近光灯。 答案:错",
          "题目:如图所示，驾驶机动车在人行横道前遇到这种情况要停车让行。 答案:对",
          "题目:机动车驾驶证电子版与纸质版具有同等效力。 答案:对",
          "题目:如图所示，在这种情况下应加速赶在行人前，通过前方路口。 答案:错",
          "题目:摩托车不得牵引车辆或者被其他车辆牵引。 答案:对",
          "题目:驾驶校车、公路客运汽车、旅游客运汽车、7座以上载客汽车以外的其他载客汽车载人超过核定人数百分之五十以上未达到百分之百的，一次记9分。 答案:错",
          "题目:在这条车道行驶的最低车速是多少？ 答案:90公里/小时",
          "题目:车辆在雨天临时停车时，应开启什么灯？ 答案:危险报警闪光灯",
          "题目:雾天行车多使用喇叭可引起对方注意；听到对方车辆鸣喇叭，也应鸣喇叭回应。 答案:对",
          "题目:夜间驾驶机动车通过急弯路时，应如何使用灯光？ 答案:交替使用远近光灯",
          "题目:机动车行驶中遇有自行车借道通行时，可急促鸣喇叭示意让道。 答案:错",
          "题目:仪表显示当前发动机转速是6000转/分钟。 答案:错",
          "题目:这个标志是什么意思？ 答案:只准继续直行",
          "题目:图中圈内的锯齿状白色实线是什么标线？ 答案:可变导向车道线",
          "题目:如图所示，在这种路况下跟车距离较近时，应开启远光灯照明。 答案:错",
          "题目:驾驶机动车不按规定使用灯光的，将被一次记多少分？ 答案:1分",
          "题目:超过机动车驾驶证有效期一年以上未换证被注销，但未超过2年的，机动车驾驶人参加道路驾驶技能考试合格后即可恢复驾驶资格。 答案:错",
          "题目:牵引故障车时，牵引车和被牵引车均应当开启危险报警闪光灯。 答案:对",
          "题目:驾驶人违反交通运输管理法规发生重大事故使公私财产遭受重大损失，可能会受到什么刑罚？ 答案:处3年以下徒刑或者拘役",
          "题目:驾驶机动车在高速公路或者城市快速路上不按规定车道行驶的，一次记3分。 答案:对",
          "题目:如图所示，驾驶机动车行驶至此路段时，可在路边临时停车。 答案:错",
          "题目:下列交通违法行为，一次记9分的是什么？ 答案:驾驶7座以上载客汽车载人超过核定人数百分之五十以上未达到百分之百的",
          "题目:驾驶机动车发现轮胎漏气，将车辆驶离主车道时，不要采用紧急制动，以免造成翻车或后车制动不及时发生追尾事故。 答案:对",
          "题目:驾驶装有安全气囊的汽车，驾驶员可以不系安全带。 答案:错",
          "题目:发生交通事故后，当事人故意破坏、伪造现场、毁灭证据的，承担全部责任。 答案:对",
          "题目:机动车仪表板上如图所示指示灯亮，提示发电机向蓄电池充电。 答案:错",
          "题目:驾驶未按规定定期进行安全技术检验的危险物品运输车辆上道路行驶的，一次记3分。 答案:对",
          "题目:这个标志是何含义？ 答案:限制最高时速40公里",
          "题目:在这段路上行驶时的最高速度不能超过多少？ 答案:80公里/小时",
          "题目:这个标志是何含义？ 答案:消防设备箱标志",
          "题目:夜间机动车通过照明条件良好的路段时，要怎样使用灯光？ 答案:近光灯",
          "题目:道路上同方向左右两侧车道的机动车向同一车道变更时，左侧车道的车辆让右侧车道的车辆先行。 答案:对",
          "题目:这个标志是何含义？ 答案:直行车道",
          "题目:驾驶人的驾驶证损毁后不得驾驶机动车。 答案:对",
          "题目:这属于哪一种标志？ 答案:旅游区标志",
          "题目:路中心黄色虚线的含义是分隔对向交通流，在保证安全的前提下，可越线超车或转弯。 答案:对",
          "题目:客车遇险后，应设法开启车门、安全门或紧急出口，迅速疏散车上乘客。 答案:对",
          "题目:已经达到报废标准的机动车经大修后可以上路行驶。 答案:错",
          "题目:交通肇事致一人以上重伤，负事故全部或者主要责任，并具有下列哪种行为的，构成交通肇事罪？ 答案:明知是无牌证或者已报废的机动车辆而驾驶的",
          "题目:驾驶校车、公路客运汽车、旅游客运汽车以外的其他载客汽车载人超过核定人数百分之百以上的，一次记12分。 答案:对",
          "题目:驾驶机动车遇有前方交叉路口交通阻塞时，应当依次停在路口以外等候，不得进入路口。 答案:对",
          "题目:这个标志是何含义？ 答案:注意积水",
          "题目:驾驶人有哪种情形，交通警察可依法扣留机动车驾驶证？ 答案:饮酒后驾驶机动车",
          "题目:驾驶校车、中型以上载客载货汽车、危险物品运输车辆以外的机动车在高速公路、城市快速路上行驶超过规定时速百分之五十以上的，一次记9分。 答案:错",
          "题目:看到这个标志的时候，您应该开启车灯。 答案:对",
          "题目:如图所示，驾驶机动车行驶至此路口时，以下做法正确的是什么？ 答案:停车让行",
          "题目:造成交通事故后逃逸构成犯罪的人不能申请机动车驾驶证。 答案:对",
          "题目:图中机动车驾驶人造成事故后逃逸且构成犯罪的违法行为，会被记12分。 答案:错",
          "题目:如图所示，在这种情况下从辅路汇入主路，下列做法正确的是什么？ 答案:减速让左侧车辆先行",
          "题目:路中黄色分界线的作用是什么？ 答案:分隔对向行驶的交通流",
          "题目:危险报警闪光灯可用于下列什么场合？ 答案:机动车发生故障停车时",
          "题目:驾驶校车、中型以上载客载货汽车、危险物品运输车辆以外的机动车在高速公路、城市快速路以外的道路上行驶超过规定时速百分之六十的，一次记6分。 答案:对",
          "题目:如图所示，在有车道信号灯的路段，哪辆机动车行驶的车道是正确的？ 答案:蓝色小型客车（C）行驶车道是正确的",
          "题目:这个标志是何含义？ 答案:前方测速",
          "题目:机动车驾驶人在一个记分周期内累积记分满36分的，应当在道路交通安全法律、法规和相关知识考试合格后，按规定预约参加场地驾驶技能和道路驾驶技能考试。 答案:对",
          "题目:对驾驶拼装机动车上路行驶的驾驶人，处200元以上2000元以下罚款，并处15日以下拘留。 答案:错",
          "题目:驾驶人驾驶有达到报废标准嫌疑机动车上路的，交通警察依法予以拘留。 答案:错",
          "题目:行车中遇到执行紧急任务的消防车、救护车、工程救险车时要及时让行。 答案:对",
          "题目:驾驶人未取得驾驶资格证或者醉酒驾驶机动车，发生道路交通事故的，造成受害人的财产损失，保险公司不承担赔偿责任。 答案:对",
          "题目:以下缩写中，表示车辆随动转向前照灯系统缩写的是什么？ 答案:AFS",
          "题目:在车门、车厢没有关好时不要驾驶机动车起步。 答案:对",
          "题目:行经这种交通标线的路段要加速行驶。 答案:错",
          "题目:机动车发生人员死亡的交通事故时，当事人应当保护现场并立即报警。 答案:对",
          "题目:饮酒后驾驶机动车的，一次记12分。 答案:对",
          "题目:不按交通信号灯指示通行的一次记6分。 答案:对",
          "题目:非营运小微型载客汽车从注册登记之日起10年内，每多长时间向公安机关申领一次检验标志？ 答案:2年",
          "题目:这个标志是何含义？ 答案:限制最高时速40公里",
          "题目:行车中突遇对方车辆强行超车，占据自己车道，正确的做法是什么？ 答案:尽可能减速避让，直至停车",
          "题目:驾驶达到报废标准的机动车上道路行驶的，公安交通管理部门将会予以收缴，以下说法错误的是什么？ 答案:不美观，影响城市形象",
          "题目:行车中要做到文明驾驶，礼让行车，不开冒险车、斗气车。 答案:对",
          "题目:严禁在车辆未停稳或行驶途中开启车门，以防乘客被甩出酿成事故。 答案:对",
          "题目:申请人以不正当手段取得机动车驾驶证的，公安机关交通管理部门收缴机动车驾驶证，撤销机动车驾驶许可，申请人在3年内不得再次申领机动车驾驶证。 答案:对",
          "题目:驾驶电动汽车出行，要尽量避免在雨天积水路段行驶。 答案:对",
          "题目:驾驶机动车，必须遵循什么原则？ 答案:右侧通行",
          "题目:路面上的黄色标线是何含义？ 答案:路面宽度渐变标线",
          "题目:这属于哪一种标志？ 答案:禁令标志",
          "题目:这个标志是何含义？ 答案:禁止车辆长时停放",
          "题目:申请人在道路上学习驾驶时，没有教练员或者随车指导人员的，由公安机关交通管理部门处多少元罚款？ 答案:200元以上2000元以下",
          "题目:座椅安全带在机动车发生碰撞时，能有效保护驾驶人的颈部。 答案:错",
          "题目:驾驶机动车发生未造成人身伤亡的交通事故后，当事人对事实及成因有争议的，应当立即报警。 答案:对",
          "题目:机动车驾驶人使用伪造、变造的行驶证的，一次记9分。 答案:错",
          "题目:这个标志是何含义？ 答案:应当鸣喇叭",
          "题目:驶入高速公路的收费口时，应选择怎样的入口？ 答案:绿灯亮",
          "题目:行车中，发现行人突然横过道路时，应迅速减速避让。 答案:对",
          "题目:车辆在高速公路上行车，可以频繁地变更车道。 答案:错",
          "题目:如图所示，驾驶机动车在这种情况下可以左转弯。 答案:对",
          "题目:驾驶机动车遇有前方交叉路口交通阻塞时怎么办？ 答案:依次停在路口外等候",
          "题目:行车中遇抢救伤员的救护车从本车道逆向驶来时，应怎样做？ 答案:靠边减速或停车让行",
          "题目:机动车驾驶证在实习期内，驾驶人可以通过接受交通安全教育扣减交通违法行为记分。 答案:错",
          "题目:如图所示，未上坡的车辆遇到这种情况时，正确的会车方法是什么？ 答案:未上坡车让下坡车",
          "题目:这个标志是何含义？ 答案:高速公路救援电话",
          "题目:灯光开关在该位置时，前雾灯点亮。 答案:错",
          "题目:关于交通违法行为，以下说法错误的是什么？ 答案:造成致人轻微伤或者财产损失的交通事故后逃逸，尚不构成犯罪的，一次记9分",
          "题目:因交通事故造成有害气体泄漏后，进入现场抢救伤员时，抢救人员须佩戴空气呼吸器或用湿毛巾捂住口鼻。 答案:对",
          "题目:关于电动汽车，以下说法错误的是? 答案:为省电应尽量将电量耗尽再充电",
          "题目:机动车驾驶人违反交通管制的规定强行通行，不听劝阻的，由公安机关交通管理部门处二百元以上二千元以下罚款，可以并处十五日以下拘留。 答案:对",
          "题目:对驾驶拼装机动车上路行驶的驾驶人，处200元以上2000元以下罚款，并吊销机动车行驶证。 答案:错",
          "题目:如图所示，驾车在高速公路上发生故障，车辆无法移动时，应在车辆前方150米处放置警告标志。 答案:错",
          "题目:汽车发生碰撞或紧急制动时，以下哪种安全装置能固定驾乘人员位置并减轻伤害？ 答案:座椅安全带",
          "题目:年龄在70周岁以上的机动车驾驶人发生责任交通事故造成人员重伤或者死亡的，应当在本记分周期结束后多长时间内到公安机关交通管理部门接受审验？ 答案:30日",
          "题目:驾驶机动车不按规定避让校车的，一次记3分。 答案:对",
          "题目:这个标志是何含义？ 答案:向左单行路",
          "题目:车辆在高速公路以每小时100公里的速度行驶时，距同车道前车100米以上为安全距离。 答案:对",
          "题目:图中标志提示前方道路的最高车速限制在50公里以下。 答案:错",
          "题目:造成交通事故后逃逸，尚不构成犯罪的，公安机关交通管理部门处以何种处罚？ 答案:200元以上2000元以下罚款",
          "题目:下列关于驾驶摩托车的说法正确的是哪一项？ 答案:严禁双手同时离开转向把",
          "题目:这个标志是何含义？ 答案:电动自行车行驶",
          "题目:一旦电动汽车发生起火，必须立即切断电源，如果火势较大无法控制，应远离车辆，立即拨打报警电话。 答案:对",
          "题目:驾驶机动车行经下列哪种路段时不得超车？ 答案:交叉路口",
          "题目:这个标志是何含义？ 答案:禁止掉头",
          "题目:这个标志是何含义？ 答案:交通事故管理",
          "题目:驾驶机动车在没有划分车道的道路上通行，机动车在道路中间通行，非机动车和行人在道路两侧通行。 答案:对",
          "题目:超车时前方机动车不减速、不让道，驾驶人怎么办？ 答案:停止继续超车",
          "题目:这个标志的含义是禁止载货汽车驶入。 答案:错",
          "题目:电动汽车涉水时要保持匀速行驶，尽快通过积水路段，水深超过半个轮胎时要绕道通行。 答案:对",
          "题目:申请人在机动车驾驶人考试过程中组织作弊，构成犯罪的，处三年以下有期徒刑或者拘役，并处或者单处罚金。 答案:对",
          "题目:摩托车在颠簸路面上行驶时，驾驶人应采用低挡低速，尽量选择坑大的地方行驶，以减小颠簸。 答案:错",
          "题目:机动车仪表板上（如图所示）亮表示启用地板及后风窗玻璃吹风。 答案:错",
          "题目:在照明不良的路段驾驶时，驾驶人应轻按喇叭，引起对方警惕，及时避让。 答案:对",
          "题目:图中标志提示应该注意什么？ 答案:不准临时或长时停放车辆",
          "题目:如图所示，驾驶机动车遇这种情况时怎样行驶？ 答案:停车避让",
          "题目:机动车载物不得超过机动车行驶证上核定的载质量，装载长度、宽度超出车厢不得超过1米。 答案:错",
          "题目:机动车仪表板上如图所示指示灯亮表示什么？ 答案:地板及迎面出风",
          "题目:持境外机动车驾驶证申请机动车驾驶证的，只需考试科目二。 答案:错",
          "题目:如图所示，跟车进入一段漫水路段时，怎样做才正确？ 答案:增加与前车的距离，谨慎跟车慢行",
          "题目:有听力障碍的机动车驾驶人驾驶机动车时，应当佩戴助听设备。 答案:对",
          "题目:对有使用伪造或变造检验合格标志嫌疑的车辆，交通警察只进行罚款处罚。 答案:错",
          "题目:以下不属于禁止标线的是________。 答案:减速标线",
          "题目:发现前方道路堵塞时，以下正确的做法是什么？ 答案:按顺序停车等候",
          "题目:在这种情况下，驾驶机动车可以向左变更车道。 答案:错",
          "题目:雨天对安全行车的主要影响是什么？ 答案:路面湿滑，视线受阻",
          "题目:驾驶人有下列哪种违法行为一次记3分？ 答案:连续驾驶载货汽车超过4小时未停车休息的",
          "题目:驾驶机动车在泥泞道路行驶时，最高速度不能超过多少？ 答案:30公里/小时",
          "题目:驾驶机动车在冰雪道路行驶时，最高速度不能超过多少？ 答案:30公里/小时",
          "题目:这个标志是何含义？ 答案:靠右侧车道行驶",
          "题目:驾驶机动车在大雾天临时停车后，只开启雾灯和近光灯。 答案:错",
          "题目:遇有浓雾或特大雾天能见度过低，行车困难时，应怎样做？ 答案:开启危险报警闪光灯和雾灯，选择安全地点停车",
          "题目:这个标志是何含义？ 答案:窄桥",
          "题目:持有大型客车、重型牵引挂车、城市公交车、中型客车、大型货车驾驶证的驾驶人，在记分周期内有记分的，应当在记分周期结束后三十日内到公安机关交通管理部门接受审验。 答案:对",
          "题目:连接半挂车时，使牵引车的牵引座与挂车的牵引销连接后，将锁止杆置于哪个位置？ 答案:锁止",
          "题目:驾驶人有下列哪种违法行为一次记6分？ 答案:违法占用应急车道行驶",
          "题目:以下可以掉头的地点是什么？ 答案:设有允许掉头标志",
          "题目:机动车之间发生交通事故造成轻微财产损失，当事人对事实及成因无争议时，在确保安全的原则下，对现场拍照或标划事故车辆现场位置后，可自行撤离现场处理损害赔偿事宜，主要目的是什么？ 答案:为了及时恢复交通，避免造成交通拥堵",
          "题目:机动车驾驶人同时被处以暂扣机动车驾驶证的，经满分学习、考试合格且罚款已缴纳的，记分予以清除，无需等暂扣期限届满即可发还机动车驾驶证。 答案:错",
          "题目:驾驶机动车在高速公路上行驶，车速低于每小时100公里时，与同车道前车距离可以适当缩短，但最小距离不得少于多少米？ 答案:50",
          "题目:客车遇险后，没有安全门的，可用车上配备的铁锤或者其他物品将车窗玻璃敲破，从窗口疏散乘客。 答案:对",
          "题目:驾驶机动车在隧道中超车时，应该提前开启左转向灯。 答案:错",
          "题目:指路标志的作用是什么？ 答案:提供方向信息",
          "题目:机动车通过急转弯路段时，在机动车较少的情况下可以超车。 答案:错",
          "题目:超车时，发现前方机动车正在超车，驾驶人怎么办？ 答案:停止超车，让前方机动车先超车",
          "题目:这个标志是何含义？ 答案:加油站",
          "题目:如图所示，驾驶人的这种违法行为会被记多少分？ 答案:12分",
          "题目:通过山区危险路段，尤其是通过经常发生塌方、泥石流的山区地段，应谨慎驾驶，避免停车。 答案:对",
          "题目:已持有机动车驾驶证，申请增加准驾车型的，应当在本记分周期和申请前最近一个记分周期内没有满分记录。 答案:对",
          "题目:驾驶机动车不按规定会车，或者在高速公路、城市快速路以外的道路上不按规定倒车、掉头的，一次记1分。 答案:对",
          "题目:机动车仪表板上如图所示指示灯亮，提示发动机舱开启。 答案:错",
          "题目:这个标志的含义是告示前方道路有障碍物，车辆左侧绕行。 答案:对",
          "题目:这个标志是何含义？ 答案:非机动车与行人分开空间通行",
          "题目:机动车驾驶人在实习期内驾驶机动车牵引挂车的，由公安机关交通管理部门处多少元罚款？ 答案:20元以上200元以下",
          "题目:如图，在辅路上行驶，遇到一辆机动车从主路进入辅路时，应该怎样做？ 答案:减速或停车让主路驶出的车辆先进入辅路",
          "题目:按下这个开关，后风窗玻璃除霜器开始工作。 答案:错",
          "题目:下列交通违法行为，一次记12分的是什么？ 答案:驾驶机动车在高速公路上倒车的",
          "题目:驾驶机动车在道路上行驶时，未按规定系安全带，一次记几分？ 答案:1分",
          "题目:驾驶机动车在道路上超车完毕驶回原车道时开启右转向灯。 答案:对",
          "题目:驾驶机动车在道路上发生故障，车辆难以移动时，以下做法正确的是什么？ 答案:开启危险报警闪光灯",
          "题目:这个标志用以预告前方是互通式立体交叉道路。 答案:错",
          "题目:夜间行车，需要超车时，变换远、近光灯示意是为了提示前车。 答案:对",
          "题目:申请人因故不能按照预约时间参加考试的，应当提前多长时间申请取消预约？ 答案:1日",
          "题目:图中圈内白色虚线是什么标线？ 答案:路口导向线",
          "题目:驾驶机动车通过交叉路口要遵守交通信号。 答案:对",
          "题目:驾驶机动车在坡道路段跟车行驶时，应保持比平路跟车时更大的安全距离。 答案:对",
          "题目:机动车驾驶证电子版与纸质版具有同等效力。 答案:对",
          "题目:自学直考人员在道路上学习驾驶时，未在自学用车上按规定放置、粘贴学车专用标识的，由公安机关交通管理部门对教练员或者随车指导人员处多少元罚款？ 答案:20元以上200元以下",
          "题目:如图所示，这种情形下，A车可以继续通行。 答案:对",
          "题目:机动车驾驶人在一个记分周期内累积记分满12分的，应按规定参加满分学习、考试。 答案:对",
          "题目:驾驶车辆汇入车流时，应提前开启转向灯，保持直线行驶，通过后视镜观察左右情况，确认安全后汇入合流。 答案:对",
          "题目:在绿灯亮的路口右转，遇到图中所示的情况，应该怎么做？ 答案:等待两个行人都通过路口再右转弯",
          "题目:中型客车准驾车型的代号是什么？ 答案:B1",
          "题目:驾驶载货汽车载物超过最大允许总质量百分之三十以上未达到百分之五十的，一次记6分。 答案:错",
          "题目:机动车驾驶人在一个记分周期内二次累积记分满12分，应当在道路交通安全法律、法规和相关知识考试合格后，按规定预约参加道路驾驶技能考试。 答案:对",
          "题目:如图所示，在这种情况下可以借用快速车道超车。 答案:对",
          "题目:驾驶机动车在这种情况下，可以直行和向左转弯行驶。 答案:错",
          "题目:在冰雪路面上行车，必须降低车速、加大安全距离。 答案:对",
          "题目:驾驶机动车上路前应当检查车辆安全技术性能。 答案:对",
          "题目:车辆后备箱门未关好，不得上路行驶。 答案:对",
          "题目:驾驶机动车在路口遇到这种信号灯可以左转或右转。 答案:对",
          "题目:驾驶人违反交通运输管理法规发生重大事故致人重伤、死亡，可能会受到什么刑罚？ 答案:处3年以下徒刑或者拘役",
          "题目:机动车驾驶人因死亡、身体不适、丧失民事行为能力或超过机动车驾驶证有效期一年以上未换证的，车辆管理所应当如何处理？ 答案:注销其驾驶证",
          "题目:驾驶机动车时可以向道路上抛撒物品。 答案:错",
          "题目:仪表显示油箱内存油量已在警告线以内。 答案:对",
          "题目:如图是事故易发路段标志。 答案:错",
          "题目:下列交通违法行为，一次记1分的是什么？ 答案:驾驶机动车在道路上行驶时，机动车驾驶人未按规定系安全带的",
          "题目:这个标志的含义是提醒驾驶人注意前方路段积水。 答案:对",
          "题目:驾驶机动车在道路上超车时应当使用转向灯。 答案:对",
          "题目:行驶在高速公路上遇到团雾视线受阻时，应当紧急制动停车。 答案:错",
          "题目:驾驶机动车变更车道时，以下何种行为属于交通陋习？ 答案:随意频繁变更车道",
          "题目:这个标志为公交专用车道标志，表示该车道仅供公交车辆、通勤班车等大型载客汽车通行。 答案:错",
          "题目:遇到这种情况下可以从右侧超车。 答案:错",
          "题目:这个标志是何含义？ 答案:非机动车行驶",
          "题目:这个标志是何含义？ 答案:应急避难设施（场所）",
          "题目:如图所示，机动车在高速公路上因故障无法移动，停在行车道上时，驾乘人员应在哪个位置等待救援？ 答案:图中位置D",
          "题目:下列交通违法行为，一次记1分的是什么? 答案:驾驶机动车不按规定使用灯光的",
          "题目:这个标志是何含义？ 答案:交叉路口预告",
          "题目:大雾天气能见度低，开启远光灯会提高能见度。 答案:错",
          "题目:驾驶人出现下列哪种情况时，可以驾驶机动车？ 答案:饮水后",
          "题目:驾驶机动车闯红灯一次扣6分。 答案:对",
          "题目:这个路面标记是什么标线？ 答案:中心圈",
          "题目:这个标志是何含义？ 答案:注意非机动车",
          "题目:因违法停车现场已被处理过的违法行为，可以申请消除电子眼处罚。 答案:对",
          "题目:这个标志是何含义？ 答案:减速丘",
          "题目:如图所示，驾驶机动车在同方向只有1条机动车道的城市道路上行驶，最高行驶速度不得超过每小时多少公里？ 答案:50",
          "题目:驾驶擅自改变已登记的结构、构造或者特征的载货汽车上道路行驶的，一次记3分。 答案:错",
          "题目:有下列哪种违法行为的机动车驾驶人将被一次记6分？ 答案:驾驶机动车不按交通信号灯指示通行",
          "题目:交通肇事致一人以上重伤，负事故全部或者主要责任，并具有下列哪种行为的，构成交通肇事罪？ 答案:明知是安全装置不全或者安全机件失灵的机动车辆而驾驶的",
          "题目:这个标志是何含义？ 答案:路面不平",
          "题目:如图所示，驾驶机动车遇到这种情况时，A车应当注意避让。 答案:对",
          "题目:已经持有小型汽车的驾驶证，增加普通二轮摩托车准驾车型后的12个月为实习期。 答案:对",
          "题目:小型载客汽车驾驶人在一个记分周期内累积记分满12分的，应当参加为期七天的道路交通安全法律、法规和相关知识学习。 答案:对",
          "题目:驾驶下图所示车辆的，驾驶证准驾车型代号为B2。 答案:错",
          "题目:摩托车类驾驶证是指普通三轮摩托车、普通二轮摩托车、轻便摩托车准驾车型驾驶证。 答案:对",
          "题目:你驾驶的机动车在高速公路上发生故障，情况紧急时可以沿所在车道逆行至来车方向150米外放置警告标志。 答案:错",
          "题目:交通信号灯由红灯、绿灯和黄灯组成。 答案:对",
          "题目:路缘石上的黄色实线是何含义？ 答案:禁止停放车辆",
          "题目:启动车辆前，驾驶人无需确认驻车制动器状态。 答案:错",
          "题目:组织他人参加审验教育时在签注学习记录、学习过程中弄虚作假的，没有违法所得的，由公安机关交通管理部门处二万元以下罚款。 答案:对",
          "题目:预计在超车过程中与对面来车有会车可能时，应提前加速超越。 答案:错",
          "题目:驾驶摩托车使用制动时，先使用前轮制动，后使用后轮制动。 答案:错",
          "题目:驾驶人可以通过互联网交通安全综合服务管理平台申请机动车驾驶证电子版。 答案:对",
          "题目:同车道行驶的车辆遇前车有下列哪种情形时不得超车？ 答案:正在超车",
          "题目:驾驶载货汽车载物超过最大允许总质量百分之五十以上的，一次记多少分？ 答案:6分",
          "题目:驾驶校车、公路客运汽车、旅游客运汽车载人超过核定人数未达到百分之二十的，一次记多少分？ 答案:6分",
          "题目:图中标志的含义是什么？ 答案:禁止汽车拖、挂车驶入",
          "题目:驾驶不按规定安装机动车号牌的机动车上道路行驶的，一次记3分。 答案:对",
          "题目:机动车仪表板上如图所示指示灯亮表示什么？ 答案:充电电路故障",
          "题目:驾驶机动车在道路上行驶时，机动车驾驶人未按规定系安全带的，一次记1分。 答案:对",
          "题目:驾驶机动车遇到前方车辆停车排队等候或缓慢行驶时怎么办？ 答案:依次行驶",
          "题目:驾驶机动车在下列哪种情形下不能超越前车？ 答案:前车正在左转弯",
          "题目:机动车发生财产损失交通事故，对应当自行撤离现场而未撤离的，交通警察不可以责令当事人撤离现场。 答案:错",
          "题目:这个标志的含义是提醒前方两侧行车道或路面变窄。 答案:错",
          "题目:在后方无来车的情况下，在隧道中倒车应靠边行驶。 答案:错",
          "题目:驾驶机动车在高速公路上发生故障时，以下做法正确的是什么？ 答案:开启危险报警闪光灯，并在来车方向150米外设置警告标志",
          "题目:对临时入境的机动车需要上道路行驶的，可以凭什么临时上道路行驶？ 答案:临时入境机动车号牌和行驶证",
          "题目:机动车在高速公路上发生故障或交通事故无法正常行驶时，在确保安全的情况下，可以由同行的其他机动车牵引。 答案:错",
          "题目:在道路上发生交通事故造成人身伤亡时，要立即抢救受伤人员并迅速报警。 答案:对",
          "题目:这个标志是何含义？ 答案:海关",
          "题目:会车中遇到对方来车行进有困难需借道时，应怎样做？ 答案:尽量礼让对方先行",
          "题目:驾驶机动车违反道路交通安全法律法规发生交通事故属于交通违章行为。 答案:错",
          "题目:机动车所有权转让后，现机动车所有人未按照规定的时限办理转让登记的，由公安机关交通管理部门处警告或者一千元以下罚款。 答案:错",
          "题目:机动车所有人可以通过计算机随机选取或者按照选号规则自行编排的方式确定机动车号牌号码。 答案:对",
          "题目:这个标志是何含义？ 答案:禁止直行",
          "题目:因饮酒后驾驶机动车被处罚，再次饮酒后驾驶机动车的，处十日以下拘留，并处一千元以上二千元以下罚款，吊销机动车驾驶证。 答案:对",
          "题目:机动车驾驶证依法被吊销或者驾驶许可依法被撤销的，车辆管理所应当对机动车驾驶人处以何种处罚？ 答案:注销其驾驶证",
          "题目:驾驶人在驾驶证核发地车辆管理所管辖区以外地方居住的，可以向政务大厅申请换证。 答案:错",
          "题目:醉酒驾驶机动车在道路上行驶会受到什么处罚？ 答案:处拘役，并处罚金",
          "题目:机动车在雾天临时停车时，应开启什么灯？ 答案:危险报警闪光灯、示廓灯和后位灯",
          "题目:这个标志用以警告车辆驾驶人减速慢行，注意残疾人。 答案:对",
          "题目:机动车仪表板上如图所示指示灯亮时表示什么？ 答案:已开启前照灯近光",
          "题目:驾驶载货汽车载物超过最大允许总质量百分之三十以上未达到百分之五十的，一次记多少分？ 答案:3分",
          "题目:上道路行驶的机动车不按规定安装机动车号牌的一次记12分。 答案:错",
          "题目:机动车驾驶人在一个记分周期内累积记分达到12分，拒不参加学习和考试的，将被公安机关交通管理部门公告其驾驶证停止使用。 答案:对",
          "题目:已持有C2准驾车型驾驶证申请增加C1准驾车型的，应当考试科目二和科目三。 答案:对",
          "题目:这个标志是何含义？ 答案:高速公路特殊天气建议速度",
          "题目:这个标志是何含义？ 答案:禁止向左转弯",
          "题目:路边这种白色矩形标线框的含义是指示车辆垂直于通道方向停放在停车位内。 答案:错",
          "题目:驾驶机动车在没有中心线的公路上，最高速度不能超过每小时70公里。 答案:错",
          "题目:行车中遇突然爆胎时，驾驶人要急踏制动踏板减速停车。 答案:错",
          "题目:驶近没有人行横道的交叉路口时，发现有人横穿道路，应立即迅速变道绕过行人。 答案:错",
          "题目:不得驾驶具有安全隐患的机动车上道路行驶。 答案:对",
          "题目:如图所示，驾驶机动车遇后方车辆强行超车后，不给留出距离便向右变道时，被超机动车驾驶人可连续鸣喇叭警告，并加速反超。 答案:错",
          "题目:上下扳动这个开关前风窗玻璃刮水器开始工作。 答案:对",
          "题目:图中前方机动车存在什么违法行为？ 答案:没开启信号灯",
          "题目:车速增高时，驾驶人的注视点越凝视远方，视野角度会越小，视力会越模糊。 答案:对",
          "题目:上道路行驶的机动车未悬挂机动车号牌的一次记几分？ 答案:9分",
          "题目:机动车发生财产损失交通事故，对应当自行撤离现场而未撤离的，交通警察可以责令当事人撤离现场。 答案:对",
          "题目:如图所示，该交通标志的含义是限制宽度为3米，表示禁止装载宽度超过3米的车辆进入。 答案:对",
          "题目:机动车驾驶人在一个记分周期内累积记分满24分未满36分的，应当在道路交通安全法律、法规和相关知识考试合格后，按规定预约参加场地驾驶技能考试。 答案:错",
          "题目:关于机动车号牌灭失、丢失或者损毁的，以下说法错误的是什么？ 答案:补领、换领机动车号牌的，原机动车号牌可以继续使用",
          "题目:驾驶人要按照驾驶证载明的准驾车型驾驶车辆。 答案:对",
          "题目:驾驶机动车碰撞建筑物、公共设施后可即行撤离现场。 答案:错",
          "题目:机动车在高速公路上行车，如果因疏忽刚驶过出口且距下一出口较远时，可沿路肩倒车退回出口处。 答案:错",
          "题目:这个标志是何含义？ 答案:掉头和左转合用车道",
          "题目:已注册登记的机动车，机动车所有人住所在车辆管理所管辖区域内迁移或者机动车所有人姓名（单位名称）、联系方式变更的，应当向登记地车辆管理所备案。 答案:对",
          "题目:车辆在雪天临时停车时，应开启什么灯？ 答案:危险报警闪光灯",
          "题目:拼装的机动车只要认为安全就可以上路行驶。 答案:错",
          "题目:机动车仪表板上如图所示指示灯亮时，提醒发动机需要补充机油。 答案:错",
          "题目:道路较窄时，车辆转弯前应该注意摆位“借量”，右转需向左摆位。 答案:对",
          "题目:机动车驾驶人在机动车驾驶证的六年有效期内，在最近一个记分周期内没有记满12分记录的，即可换发十年有效期的机动车驾驶证。 答案:错",
          "题目:在高速公路上车辆发生故障需要停车时，以下做法正确的是什么？ 答案:开启右转向灯缓慢行驶至右侧应急车道停车",
          "题目:上道路行驶的机动车，未购买交通事故责任强制保险的，公安机关交通管理部门可以扣留车辆。 答案:对",
          "题目:驾驶小型汽车在普通道路上行驶，超过规定时速20%以上未达50%的，一次记多少分？ 答案:3分",
          "题目:驾驶机动车载运爆炸物品、易燃易爆化学物品以及剧毒、放射性等危险物品，未按指定的时间、路线、速度行驶的，一次记9分。 答案:错",
          "题目:持有大型客车、重型牵引挂车、城市公交车、中型客车、大型货车驾驶证的驾驶人，记分周期内有记分的，应当在记分周期结束后三十日内到公安机关交通管理部门接受审验，同时还应当申报身体条件情况。 答案:对",
          "题目:驾驶机动车在没有交通信号的路口要尽快通过。 答案:错",
          "题目:驾驶机动车在道路上靠路边停车过程中如何使用灯光？ 答案:提前开启右转向灯",
          "题目:如图所示，驾驶人的这种违法行为会被记多少分？ 答案:3分",
          "题目:以下哪种车辆可以在高速公路上行驶？ 答案:小客车",
          "题目:这个导向箭头是何含义？ 答案:指示直行",
          "题目:机动车之间发生的造成财产损失、尚未造成人员伤亡，且车辆可以移动的交通事故，双方驾驶人对交通事故无争议，但其中一方使用伪造、变造的号牌，不可以自行协商解决。 答案:对",
          "题目:小型自动挡汽车驾驶人在一个记分周期内二次累积记分满12分，应当在科目一考试合格后，在取得学习驾驶证明多长时间后预约参加科目三考试？ 答案:20日",
          "题目:驾驶机动车在高速公路或者城市快速路上不按规定车道行驶的，一次记1分。 答案:错",
          "题目:驾驶机动车在高速公路或者城市快速路上违法停车的，将被一次记9分。 答案:对",
          "题目:这个标志是何含义？ 答案:有人看守铁路道口",
          "题目:驾驶人在一个记分周期内累积记分达到12分的，交通警察依法扣留驾驶证。 答案:对",
          "题目:机动车行至泥泞或翻浆路段时，要停车观察，选择平整、坚实或有车辙的路段缓慢通过。 答案:对",
          "题目:这个标志是何含义？ 答案:注意儿童",
          "题目:变更车道时，应开启转向灯，迅速驶入侧方车道。 答案:错",
          "题目:在这个位置时怎样使用灯光？ 答案:开启左转向灯",
          "题目:机动车在高速公路上发生故障时，应当如何设置警告标志？ 答案:来车方向",
          "题目:以欺骗、贿赂等不正当手段取得驾驶证被依法撤销驾驶许可的，五年内不得再次申领机动车驾驶证。 答案:错",
          "题目:这个标志的含义是警告前方道路施工，车辆应减速慢行或绕道行驶。 答案:对",
          "题目:机动车仪表板上如图所示指示灯亮时，提醒驾驶人安全带插头未插入锁扣。 答案:对",
          "题目:机动车在夜间道路上发生故障难以移动时要开启危险报警闪光灯、示廓灯、后位灯。 答案:对",
          "题目:摩托车在下坡行驶时，可充分利用空挡滑行。 答案:错",
          "题目:这个标志是何含义？ 答案:禁止超车",
          "题目:夜间驾驶机动车通过人行横道时需要交替使用远近光灯。 答案:对",
          "题目:在路口遇有交通信号灯和交通警察指挥不一致时，按照交通信号灯通行。 答案:错",
          "题目:包扎止血不能用的物品是什么？ 答案:麻绳",
          "题目:机动车驾驶人在一个记分周期内三次以上累积记分满12分的，应当在道路交通安全法律、法规和相关知识考试合格后，按规定预约参加场地驾驶技能和道路驾驶技能考试。 答案:对",
          "题目:驾驶机动车载运爆炸物品，未悬挂警示标志并采取必要的安全措施的，一次记12分。 答案:错",
          "题目:驾驶机动车在高速公路上行驶，当能见度小于200米时，与同车车道前车应保持50米以上的距离。 答案:错",
          "题目:年龄在70周岁以上的机动车驾驶人，相关法律规定应当多长时间进行一次身体检查并提交身体条件证明？ 答案:每年",
          "题目:夜间行经车流量较少的公路，可以临时超速驾驶。 答案:错",
          "题目:申请大中型客货车驾驶证的，年龄不得超过多少周岁？ 答案:63周岁",
          "题目:机动车在高速公路上发生故障时，为确保安全，车上人员应当坐在车内等待救援。 答案:错",
          "题目:行车中，超越右侧停放的车辆时，为预防其突然起步或开启车门，应怎样做？ 答案:预留出横向安全距离，减速行驶",
          "题目:驾驶机动车遇到这种信号灯，可在对面直行车前直接向左转弯。 答案:错",
          "题目:这个标志是何含义？ 答案:驼峰桥",
          "题目:如图所示这个符号的开关控制什么装置？ 答案:前风窗玻璃刮水器及洗涤器",
          "题目:车辆停稳后，为了避免车辆溜动，应当拉起下列哪个装置？ 答案:驻车制动器操纵杆",
          "题目:驾驶汽车频繁变更车道易导致爆胎。 答案:错",
          "题目:车辆在较窄的山路上行驶时，如果靠山体的一方不让行，应怎样做？ 答案:提前减速或停车避让",
          "题目:机动车仪表板上如下图所示指示灯亮，提示右侧车门未关闭。 答案:对",
          "题目:驾驶机动车上坡时，在将要到达坡道顶端时要加速并鸣喇叭。 答案:错",
          "题目:如图所示，驾驶机动车行经该路段时，应减速慢行，避免因眩目导致的交通事故。 答案:对",
          "题目:夜间会车时，若对方车辆不关闭远光灯，可变换灯光提示对向车辆，同时减速靠右侧行驶或停车。 答案:对",
          "题目:驾驶机动车通过未划分车道的道路时，机动车在道路中间通行，非机动车和行人在道路两侧通行。 答案:对",
          "题目:上道路行驶的机动车未悬挂机动车号牌的一次记多少分？ 答案:9分",
          "题目:记分周期自机动车驾驶人初次领取机动车驾驶证之日起连续计算，或者自初次取得临时机动车驾驶许可之日起累积计算。 答案:对",
          "题目:这个标志表示机动车行至该标志处开启车灯，设在隧道口前等需要开车灯处。 答案:对",
          "题目:申请人以欺骗、贿赂等不正当手段取得机动车驾驶证的，公安机关交通管理部门收缴机动车驾驶证，撤销机动车驾驶许可，处多少元以下罚款，申请人在多长时间内不得再次申领机动车驾驶证？ 答案:2000元，3年",
          "题目:下列交通违法行为，一次记12分的是什么? 答案:驾驶机动车在高速公路或者城市快速路上倒车的",
          "题目:根据交通违法行为的严重程度，一次记分的分值为12分、9分、6分、3分、2分。 答案:错",
          "题目:如图所示，驾驶机动车在路口右转弯时，遇相对方向行驶的车辆左转弯时，以下做法正确的是什么？ 答案:先让对面车左转弯",
          "题目:机动车驾驶人申请学法减分时，参加道路交通安全法律、法规和相关知识网上学习3日内累计满30分钟且考试合格的，一次可扣减几分？ 答案:1分",
          "题目:驾驶机动车不按规定超车、让行，或者在高速公路、城市快速路以外的道路上逆行的，一次记3分。 答案:对",
          "题目:机动车驾驶证被暂扣期间驾驶机动车的，由公安机关交通管理部门处多少元罚款？ 答案:200元以上2000元以下",
          "题目:驾驶机动车下陡坡时不得有哪些危险行为？ 答案:空挡滑行",
          "题目:驾驶车辆进入交叉路口前，应降低行驶速度，注意观察，确认安全。 答案:对",
          "题目:办理残疾人专用小型自动挡载客汽车驾驶证业务时，提交的身体条件证明应当由________卫生健康行政部门认定的专门医疗机构出具。 答案:省级",
          "题目:雨天路面滑湿，车辆制动性能会怎样？ 答案:降低",
          "题目:驾驶机动车上路行驶应当按规定悬挂号牌。 答案:对",
          "题目:伪造、变造或者使用伪造、变造驾驶证的驾驶人构成犯罪的，将依法追究刑事责任。 答案:对",
          "题目:这个标志是何含义？ 答案:只准直行",
          "题目:在道路上临时停车不得妨碍其他车辆和行人通行。 答案:对",
          "题目:机动车驾驶人及乘车人下车时，用远离车门一侧的手开门，转头观察车辆侧方和后方通行状况，避免妨碍他人通行。 答案:对",
          "题目:交通肇事致一人以上重伤，负事故全部或者主要责任，并具有下列哪种行为的，构成交通肇事罪？ 答案:酒后、吸食毒品后驾驶机动车辆的",
          "题目:如图所示，驾驶机动车遇到前方交通拥堵，可以占用公交专用道行驶。 答案:错",
          "题目:机动车在路边起步后应尽快提速，并向左迅速转向驶入正常行驶道路。 答案:错",
          "题目:年龄在70周岁以上能够通过记忆力、判断力、反应力等能力测试的，可以申请下列哪种准驾车型？ 答案:轻便摩托车",
          "题目:驾驶人在发生交通事故后因抢救伤员变动现场时要标明位置。 答案:对",
          "题目:在大暴雨的天气驾车，刮水器无法正常工作时，应怎样做？ 答案:立即减速靠边停车",
          "题目:泥泞道路对安全行车的主要影响是能见度低，视野模糊。 答案:错",
          "题目:如图所示，驾驶机动车遇到没有行人通过的人行横道时不用减速慢行。 答案:错",
          "题目:这个标志是何含义？ 答案:直行和向右转弯",
          "题目:如图所示，高速公路上遇到车辆无法继续行驶的情况时，怎样按规定放置危险警告标志？ 答案:在车后150米以外放置警告标志",
          "题目:这个标志是何含义? 答案:急救站",
          "题目:驾驶人出现下列哪种情况，不得驾驶机动车？ 答案:驾驶证丢失、损毁",
          "题目:夜间会车前，两车在相距150米之外交替变换前照灯远近光的作用是什么？ 答案:便于双方观察前方情况",
          "题目:如图所示，驾驶机动车遇到这种情形时，应当注意哪些潜在危险？ ① B车可能借道超车 ② 右侧行人可能穿越马路 ③ 出口可能有车辆驶出。 答案:①②③",
          "题目:交通肇事致一人以上重伤，负事故全部或者主要责任，并具有下列哪种行为的，构成交通肇事罪？ 答案:无驾驶资格驾驶机动车辆的",
          "题目:普通三轮摩托车对应的车型代号是什么？ 答案:D",
          "题目:以下哪种情形不会被扣留车辆？ 答案:未随车携带灭火器",
          "题目:驾驶机动车在路口遇到这种信号灯可以怎样行驶？ 答案:直行或向右转弯",
          "题目:这个标志是何含义？ 答案:路面不平",
          "题目:已经达到报废标准的机动车经大修后可以上路行驶。 答案:错",
          "题目:驾驶机动车在高速公路上正常行驶，车速低于100km/h时，与同车道前车最小距离不得少于多少米？ 答案:50米",
          "题目:在高速公路上发生事故导致车辆无法正常行驶时，驾驶人可以拦截过往车辆帮助拖车。 答案:错",
          "题目:在这个路口向左转弯时，应靠路口中心圈的右侧转弯。 答案:错",
          "题目:临时入境的机动车驾驶人在一个记分周期内累积记分满12分的，公安机关交通管理部门应当注销其临时机动车驾驶许可，并送达满分教育通知书。 答案:对",
          "题目:驾驶电动汽车，如下图所示指示灯亮表示什么？ 答案:充电系统故障",
          "题目:机动车仪表板上如图所示这个符号表示什么？ 答案:冷风暖气风扇",
          "题目:在高速公路上行驶的中型载客汽车最高车速不得超过多少？ 答案:100公里/小时",
          "题目:这个标志的含义是提醒车辆驾驶人前方是非机动车道。 答案:错",
          "题目:摩托车在山区道路下急坡时，切忌超车。 答案:对",
          "题目:驾驶机动车驶离高速公路时，以下做法正确的是什么？ 答案:驶入减速车道",
          "题目:行车中遇抢救伤员的救护车从本车道逆向驶来时，要怎样做？ 答案:靠边减速或停车让行",
          "题目:驾驶机动车驶入高速公路的收费口时，应选择通道上方绿灯亮的入口。 答案:对",
          "题目:机动车驾驶人可以一次性处理完毕同一辆机动车的多起交通违法行为记录，记分分值累积计算。 答案:对",
          "题目:这个标志是何含义？ 答案:禁止鸣喇叭",
          "题目:初次申领机动车驾驶证的，不可以申请下列哪种准驾车型？ 答案:轻型牵引挂车",
          "题目:如图所示，驾驶机动车行驶至此路段时，可以直接掉头。 答案:错",
          "题目:这个标志是何含义？ 答案:无人看守铁路道口",
          "题目:遇到前方车辆缓慢行驶时怎样行驶？ 答案:依次排队行驶",
          "题目:变更车道时只需开启转向灯，驶入相应的车道，不得妨碍同车道机动车正常行驶。 答案:错",
          "题目:这个标志是何含义？ 答案:T型交叉路口",
          "题目:下列交通违法行为，一次记12分的是什么? 答案:驾驶机动车在城市快速路上倒车的",
          "题目:关于避险车道，以下说法错误的是什么？ 答案:避险车道可以用于临时停车检修故障",
          "题目:驾驶人违反交通运输管理法规发生重大事故后，因逃逸致人死亡的，处3年以上7年以下有期徒刑。 答案:错",
          "题目:机动车驾驶人补领机动车驾驶证后，继续使用原机动车驾驶证的，处20元以上200元以下罚款。 答案:对",
          "题目:驾驶机动车在铁路道口、桥梁、陡坡、隧道或者容易发生危险的路段不能掉头。 答案:对",
          "题目:这个标志是何含义？ 答案:停车让行",
          "题目:这个标志是何含义？ 答案:掉头",
          "题目:驾驶机动车不妨碍其他车辆正常行驶时，可连续变更两条车道。 答案:错",
          "题目:驾驶机动车通过高速公路收费口时，应按规定依次排队进入，不得争道抢行。 答案:对",
          "题目:如图这种情况下，遇到左侧路口有车辆直行，怎样做是正确的？ 答案:等待左侧车辆直行通过后再向右转弯",
          "题目:大雨天气驾驶机动车，光线会受到雨点的散射，车辆灯光照明效能降低，应降低车速，使用近光灯，谨慎驾驶。 答案:对",
          "题目:指示标志的作用是什么？ 答案:指示车辆、行人行进",
          "题目:牵引发生事故的机动车时，最高车速不得超过多少？ 答案:30公里/小时",
          "题目:机动车办理登记后，机动车所有人收到机动车号牌之日起多长时间，临时行驶车号牌作废，不得继续使用？ 答案:三日后",
          "题目:如图所示，机动车驾驶人驾车通过此路口时，应减速慢行，时刻注意观察行人的动态变化，因为行人可能随时改变方向。 答案:对",
          "题目:这个标志是什么？ 答案:注意车道数变少",
          "题目:驾驶机动车应当依法取得哪种证件？ 答案:机动车驾驶证",
          "题目:机动车在道路上发生的造成财产损失、尚未造成人员伤亡，且车辆可以移动的交通事故，必须等待交通警察处理。 答案:错",
          "题目:遇到图中这种情况，要在停止线以外停车等待绿灯亮后再向右转弯。 答案:错",
          "题目:机动车第三者责任强制保险（又称交通事故责任强制保险）赔偿的责任对象是发生交通事故造成________人身伤亡、财产损失，在责任限额内予以赔偿。 答案:本车人员、被保险人以外的受害人",
          "题目:道路交通事故中，驾驶人有饮酒、醉酒嫌疑时，要保护现场并立即报警。 答案:对",
          "题目:如图所示，驾驶机动车行驶至此路段时，可直接掉头。 答案:错",
          "题目:驾驶的车辆正在被其他车辆超越时，应怎样做？ 答案:减速，靠右侧行驶",
          "题目:为电动汽车充电应使用符合规定的充电设备，掌握适当的充电时长，规范充电。 答案:对",
          "题目:这个标志是何含义？ 答案:减速让行",
          "题目:图中标志提示前方路段在限定的范围内，禁止一切车辆长时间停、放，临时停车不受限制。 答案:错",
          "题目:发生交通事故后，当事人故意毁灭证据的，承担全部责任。 答案:对",
          "题目:下长坡连续使用行车制动会缩短发动机使用寿命。 答案:错",
          "题目:醉酒驾驶非营运机动车的，由公安机关交通管理部门吊销机动车驾驶证，依法追究刑事责任，并且多少年内不得重新取得机动车驾驶证？ 答案:五年",
          "题目:驾驶机动车违反禁令标志、禁止标线指示的，将被一次记多少分？ 答案:1分",
          "题目:驾驶机动车通过铁路道口时，最高速度不能超过多少？ 答案:30公里/小时",
          "题目:驾驶机动车在道路上车辆发生故障、事故停车后，不按规定使用灯光或者设置警告标志的，一次记1分。 答案:错",
          "题目:客运机动车可以载货。 答案:错",
          "题目:夜间驾车遇到对向来车未关闭远光灯时，应鸣喇叭并使用远光灯，以提示对方。 答案:错",
          "题目:以下哪种情形会被扣留车辆？ 答案:伪造行驶证",
          "题目:驾驶机动车行经城市没有列车通过的铁路道口时允许超车。 答案:错",
          "题目:如图所示，该机动车在行驶过程中存在违法行为。 答案:对",
          "题目:驶近一个设有信号灯的路口，遇到如图所示信号灯亮着，但有行人通过，应该怎么做？ 答案:在停止线以外停车等待行人通过",
          "题目:驾驶机动车在车道减少的路口，遇到前方车辆依次停车或缓慢行驶时怎么办？ 答案:每车道一辆依次交替驶入路口",
          "题目:这个标志的含义是禁止电动自行车进入。 答案:对",
          "题目:机动车仪表板上如图所示指示灯亮表示启用地板及前风窗玻璃吹风。 答案:对",
          "题目:驾驶机动车不按照规定避让校车的，一次记12分。 答案:错",
          "题目:机动车驾驶人申请学法减分时，参加道路交通安全法律、法规和相关知识现场学习满1小时且考试合格的，一次可扣减几分？ 答案:2分",
          "题目:机动车驾驶人联系电话、联系地址等信息发生变化，应当在信息变更后三十日内，向驾驶证核发地车辆管理所备案。 答案:对",
          "题目:如图所示，黄色机动车驾驶人违法占用高速公路应急车道行驶，会被记3分。 答案:错",
          "题目:驾驶机动车在没有交通信号的路口遇到前方车辆缓慢行驶时要依次交替通行。 答案:对",
          "题目:下列标志哪个表示前方车道数量变少？ 答案:如图中B所示",
          "题目:下列交通违法行为，一次记9分的是什么? 答案:驾驶机动车在城市快速路上违法停车的",
          "题目:驾驶新能源汽车发生起火时，如火势较大无法控制，应快速远离车辆，并立即报警。 答案:对",
          "题目:如图所示，驾驶机动车在没有划分车道的道路上通行，以下做法正确的是什么？ 答案:机动车在道路中间通行",
          "题目:以欺骗、贿赂等不正当手段取得机动车登记的，申请人多久不得再次申请机动车登记？ 答案:三年内",
          "题目:苗某驾驶小型汽车在没有道路中心线的城市道路上以每小时40公里的速度行驶，与行人发生碰撞，造成1人受伤。本次事故中苗某存在超速行驶的违法行为。 答案:对",
          "题目:行车中不开转向灯强行并线是违法行为。 答案:对",
          "题目:车辆管理所在办理驾驶证核发及相关业务过程中发现存在涉嫌提交虚假申请材料的，应当及时开展调查。 答案:对",
          "题目:伤员骨折处出血时，首先要对伤口进行止血和包扎，再固定肢体。 答案:对",
          "题目:机动车遇行人正在通过人行横道时，应当________。 答案:停车让行",
          "题目:发生交通事故造成人员受伤时，要保护现场并立即报警。 答案:对",
          "题目:驾驶人连续驾驶不得超过多长时间？ 答案:4小时",
          "题目:这个标志是何含义？ 答案:注意儿童",
          "题目:驾驶机动车上坡行驶如何保持充足动力？ 答案:在车速下降前减挡",
          "题目:如图所示，在这种天气条件下行车如何使用灯光？ 答案:使用雾灯、示廓灯、后位灯和危险报警闪光灯",
          "题目:驾驶机动车在进出非机动车道时，最高速度不能超过多少？ 答案:30公里/小时",
          "题目:在下图所示的交通事故中，有关事故责任认定，正确的说法是什么？ 答案:B车不得妨碍被放行的直行车辆，所以B车负全责",
          "题目:在道路上发生未造成人员伤亡且无争议的轻微交通事故如何处置？ 答案:撤离现场自行协商",
          "题目:下列关于同一机动车所有人名下两辆机动车的号牌号码互换，以下说法正确的是什么? 答案:申请前两车无未处理的道路交通安全违法和交通事故记录",
          "题目:驾驶人吸食或注射毒品后驾驶机动车的，一经查获，其驾驶证将被注销。 答案:对",
          "题目:驾驶机动车从辅路汇入主路车流时，只要不影响主路车辆的正常行驶就可以加速通过。 答案:错",
          "题目:下雨后路面湿滑，车辆行驶中紧急制动，容易发生侧滑，引发交通事故。 答案:对",
          "题目:图中圈内的白色平行粗实线是路口示意线。 答案:错",
          "题目:驾驶机动车不能进入红色叉形灯或者红色箭头灯亮的车道。 答案:对",
          "题目:下列哪种证件是驾驶机动车上路行驶应当随车携带？ 答案:机动车行驶证",
          "题目:大风天气行车中，当突遇狂风袭来，感觉车辆产生横向偏移时，要急转方向以恢复行驶方向。 答案:错",
          "题目:这个路面标记是网状线。 答案:错",
          "题目:在道路上跟车行驶时，跟车距离不是主要的，只须保持与前车相等的速度，即可防止发生追尾事故。 答案:错",
          "题目:道路交通标线分为指示标线、警告标线、禁止标线。 答案:对",
          "题目:三年内有代替他人参加机动车驾驶人考试行为的，不得申请机动车驾驶证。 答案:对",
          "题目:遇紧急情况避险时，要沉着冷静，坚持什么样的处理原则？ 答案:先避人后避物",
          "题目:以下缩写中，表示盲点监测系统缩写的是什么？ 答案:BSD",
          "题目:机动车驾驶证遗失、损毁无法辨认时，机动车驾驶人应当向机动车驾驶证核发地或者核发地以外的车辆管理所申请补发。 答案:对",
          "题目:驾驶的车辆正在被其他车辆超越时，若此时后方有跟随行驶的车辆，应怎样做？ 答案:稍向右侧行驶，保证横向安全距离",
          "题目:驾驶人在道路上驾驶机动车追逐竞驶，情节恶劣的处3年以下有期徒刑。 答案:错",
          "题目:图中圈内的白色半圆状标记是什么标线？ 答案:车距确认线",
          "题目:驾驶人将机动车交给驾驶证被吊销了的人驾驶时，交通警察依法扣留行驶证。 答案:错",
          "题目:在路口遇这种情形怎样通行？ 答案:让左方来车先行",
          "题目:预计在超车过程中与对面来车有会车可能时，应提前加速超越。 答案:错",
          "题目:上道路行驶的机动车有哪种情形交通警察可依法扣留车辆？ 答案:未悬挂机动车号牌",
          "题目:如图所示，行车中遇到出现这种行为的人，可以不礼让。 答案:错",
          "题目:打开右转向灯开关，如图所示指示灯亮起。 答案:对",
          "题目:如图，这辆蓝色机动车行驶的车道是慢速车道。 答案:错",
          "题目:驾驶机动车在隧道内行驶，遇前方车速过慢时，可选择合适的时机超车通过。 答案:错",
          "题目:造成交通事故后逃逸，尚不构成犯罪的，公安机关交通管理部门处以何种处罚？ 答案:200元以上2000元以下罚款",
          "题目:驾驶校车在高速公路、城市快速路以外的道路上行驶超过规定时速百分之十以上未达到百分之二十的，一次记1分。 答案:对",
          "题目:驾驶技能准考证明的有效期是多久？ 答案:3年",
          "题目:这个标志的含义是提醒车辆驾驶人前方路面颠簸或有桥头跳车现象。 答案:对",
          "题目:初次申领机动车驾驶证的，可以申请下列哪种准驾车型？ 答案:普通二轮摩托车",
          "题目:大型客车、重型牵引挂车、城市公交车、中型客车、大型货车驾驶人应当每两年提交一次身体条件证明。 答案:错",
          "题目:机动车从匝道驶入高速公路，应当开启左转向灯。 答案:对",
          "题目:机动车在高速公路上发生故障时，将车上人员迅速转移到右侧路肩上或者应急车道内，并且迅速报警。 答案:对",
          "题目:未取得驾驶证的学员在道路上学习机动车驾驶技能，可使用私家车由教练员随车指导。 答案:错",
          "题目:如图所示，遇到这种单方交通事故，可直接联系路政部门进行理赔。 答案:错",
          "题目:驾驶机动车不按规定会车，或者在高速公路、城市快速路以外的道路上不按规定倒车、掉头的，一次记3分。 答案:错",
          "题目:驾驶机动车行经下列哪种路段不得超车？ 答案:人行横道",
          "题目:如图，驶近一个铁路道口时，只要看到栏杆还没放下来，就可以加速通过道口。 答案:错",
          "题目:这个标志是什么意思？ 答案:进入前方路口要停车观察",
          "题目:这个标志的含义是提醒车辆驾驶人前方是桥头跳车较严重的路段。 答案:错",
          "题目:驾驶人有下列哪种违法行为一次记1分？ 答案:在高速公路、城市快速路以外的道路上不按规定倒车、掉头的",
          "题目:当行人出现交通安全违法行为时，车辆可以不给行人让行。 答案:错",
          "题目:道路上划设这种标线的车道内允许下列哪类车辆通行？ 答案:公交车",
          "题目:这个标志是何含义？ 答案:直行和向左转弯",
          "题目:驾驶机动车在沙尘天气条件下行车不用开启前照灯、示廓灯和后位灯。 答案:错",
          "题目:当你在高速公路上驾驶载货汽车时，最高车速不得超过每小时多少公里？ 答案:100",
          "题目:驾驶人边驾车边吸烟的做法有什么影响？ 答案:妨碍安全驾驶",
          "题目:这个标志是何含义？ 答案:注意危险",
          "题目:驾驶机动车超车应该提前开启左转向灯、变换使用远近光灯或鸣喇叭。 答案:对",
          "题目:驾驶机动车下长坡时，仅靠行车制动器制动，容易引起行车制动器失灵。 答案:对",
          "题目:造成致人轻伤以上或者死亡的交通事故后逃逸，尚不构成犯罪的一次记12分。 答案:对",
          "题目:这个标志是什么意思？ 答案:前方路口不能右转",
          "题目:驾驶人有下列哪种违法行为一次记3分？ 答案:驾驶不按规定安装机动车号牌的机动车上道路行驶的",
          "题目:驾驶电动汽车，以下说法错误的是什么？ 答案:车辆上应配备普通灭火器",
          "题目:行驶车道绿灯亮时，但车辆前方人行横道仍有行人行走，应等行人通过后再起步。 答案:对",
          "题目:3年内有下列哪种情形，不得申请机动车驾驶证？ 答案:代替他人参加机动车驾驶人考试行为的",
          "题目:这个标志是什么？ 答案:硬路肩允许行驶路段开始",
          "题目:如图所示，在交叉路口遇到这种情况时，应在停止线前等待，不可加速通过路口。 答案:对",
          "题目:电动汽车提速时，可猛踩加速踏板。 答案:错",
          "题目:公安机关交通管理部门对机动车驾驶人的交通违法行为，在作出行政处罚决定时，可以不予记分处理。 答案:错",
          "题目:如图所示，在这种情况下遇到红灯交替闪烁时，要尽快通过道口。 答案:错",
          "题目:这个标志是何含义？ 答案:露天停车场",
          "题目:如图所示，驾驶机动车在路口遇到这种信号灯可以左转、直行或右转。 答案:错",
          "题目:驾驶人违反交通运输管理法规发生重大事故后，因逃逸致人死亡的，处多少年有期徒刑？ 答案:7年以上",
          "题目:如图所示，该机动车发生故障在应急车道停车，该车停车时存在的不安全行为是什么？①未开启危险报警闪光灯 ②警告标志放置不足150米③车上人员未转移到安全区域。 答案:①②③",
          "题目:这个标志是何含义？ 答案:人行疏散通道",
          "题目:如图所示，驾驶机动车行驶至此路段时，可在路边临时停车。 答案:错",
          "题目:车辆在拥挤路段低速行驶时，遇其他车辆强行插队，应怎样做？ 答案:主动礼让，确保行车安全",
          "题目:冰雪道路行车，由于积雪对光线的反射，极易造成驾驶人眩目。 答案:对",
          "题目:机动车驾驶人违法驾驶造成重大交通事故构成犯罪的，依法追究什么责任？ 答案:刑事责任",
          "题目:驾驶人将机动车交给驾驶证被暂扣的人驾驶的，交通警察给予口头警告。 答案:错",
          "题目:这个标志是何含义？ 答案:停车点",
          "题目:驾驶纯电动汽车出行前，应确保电池电量充足，并提前规划路线，了解途中充电桩或充电站位置。 答案:对",
          "题目:以下哪种情形不会被扣留车辆？ 答案:未随车携带灭火器",
          "题目:在路口看到这种信号灯亮时，怎样做才正确？ 答案:停在路口停车线以外等待下一个绿灯信号",
          "题目:在这条城市道路上行驶的最高速度不能超过多少？ 答案:50公里/小时",
          "题目:道路交通标线分为指示标线、警告标线、禁止标线。 答案:对",
          "题目:冰雪道路行车，由于积雪对光线的反射，极易造成驾驶人目眩而产生错觉。 答案:对",
          "题目:驾驶机动车在道路上发生交通事故造成人身伤亡的，驾驶人必须报警。 答案:对",
          "题目:驾驶机动车掉头、转弯、下陡坡时的最高速度不能超过每小时40公里。 答案:错",
          "题目:驾驶小型汽车在高速公路上行驶超过规定时速50%以上的，将被一次记多少分？ 答案:12分",
          "题目:夜间行车遇到图中所示的交叉路口，不管有没有车辆和行人横过路口，都要开启远光灯提示。 答案:错",
          "题目:驾驶机动车运载超限的不可解体的物品，未按指定的时间、路线、速度行驶的，一次记多少分？ 答案:6分",
          "题目:当机动车在湿滑路面上行驶时，路面附着力随着车速的增加如何变化？ 答案:急剧减小",
          "题目:造成致人轻伤以上或者死亡的交通事故后逃逸，尚不构成犯罪的，一次记9分。 答案:错",
          "题目:如图所示，驶近这种铁路道口，怎样做才正确？ 答案:通过铁路道口要做到“一停、二看、三通过”",
          "题目:这个仪表指示发动机冷却液的温度。 答案:错",
          "题目:这个标志是何含义？ 答案:禁止通行",
          "题目:驾驶人在机动车驾驶证的6年有效期内，每个记分周期均未达到12分的，换发长期有效的机动车驾驶证。 答案:错",
          "题目:关于机动车号牌灭失、丢失或者损毁的，以下说法错误的是什么？ 答案:补领、换领机动车号牌的，原机动车号牌可以继续使用",
          "题目:这个标志是何含义？ 答案:有人看守铁路道口",
          "题目:驾驶机动车在高速公路减速车道上行驶，以下做法正确的是什么？ 答案:减速",
          "题目:防抱死制动系统（ABS）在什么情况下可以最大限度发挥制动器效能？ 答案:紧急制动",
          "题目:夜间会车应当在距相对方向来车150米以外改用近光灯。 答案:对",
          "题目:如图所示，B车具有优先通行权。 答案:错",
          "题目:超过机动车驾驶证有效期一年以上未换证被注销，但未超过2年的，机动车驾驶人应当如何恢复驾驶资格？ 答案:参加道路交通安全法律、法规和相关知识考试合格后",
          "题目:这个标志是何含义？ 答案:减速让行",
          "题目:下列驾驶情形中，需要使用转向灯的是？①准备超车②路口转弯③靠边停车④变更车道 答案:①②③④",
          "题目:代替实际机动车驾驶人接受交通违法行为处罚和记分牟取经济利益的，由公安机关交通管理部门处违法所得多少倍以下罚款，但最高不超过多少元？ 答案:3倍，5万",
          "题目:在山区道路超车时，应怎样超越？ 答案:选择宽阔的缓上坡路段超车",
          "题目:驾驶校车、中型以上载客载货汽车、危险物品运输车辆在高速公路、城市快速路以外的道路上行驶超过规定时速百分之五十以上的，一次记9分。 答案:对",
          "题目:关于电动汽车的能量回收功能，以下说法不正确的是？ 答案:可以当制动使用",
          "题目:交叉路口不得倒车的原因是什么？ 答案:交通情况复杂，容易造成交通堵塞甚至引发事故",
          "题目:为保障乘车人不受伤害，客车驾驶人或乘务员应当向乘客讲解安全门的使用方法。 答案:对",
          "题目:机动车发生人员受伤的交通事故，且驾驶人有饮酒嫌疑的，当事人应当保护现场并立即报警。 答案:对",
          "题目:雾天驾驶机动车在道路上行驶，由于能见度低，应加速行驶，尽快到达安全地点。 答案:错",
          "题目:这个标志是何含义？ 答案:禁止直行和向右转弯",
          "题目:如图所示，A车负事故全部责任。 答案:对",
          "题目:故意损毁、移动、涂改交通安全设施，造成危害后果，尚不构成犯罪的，追究其法律责任。 答案:对",
          "题目:在这个路段，即使后方没有来车，也不可以倒车。 答案:对",
          "题目:这个标志是何含义？ 答案:限制宽度为3米",
          "题目:遇前方路段车道减少，车辆行驶缓慢，为保证安全有序应该怎样做？ 答案:依次交替通行",
          "题目:以下缩写中，表示车辆交通标志识别系统缩写的是什么？ 答案:TSR",
          "题目:驾驶人上车时观察开门是否安全，右手开车门，同时左手扶车门角。 答案:错",
          "题目:如图所示，驾驶这辆小型客车能否进入高速公路行驶？ 答案:由持该车型驾驶证3年以上驾驶人陪同允许进入",
          "题目:机动车与该车档案记载内容不一致的，不予办理转让登记。 答案:对",
          "题目:驾驶机动车发生交通事故，仅造成财产损失的，但是对交通事故事实及成因有争议的，应当怎么处理？ 答案:迅速报警",
          "题目:为防止有害气体中毒伤员继续中毒，首先要将伤员转移到空气新鲜的地方。 答案:对",
          "题目:连续降雨天气，山区公路可能会出现路肩疏松和堤坡坍塌现象，行车时应选择道路中间坚实的路面，避免靠近路边行驶。 答案:对",
          "题目:请判断图中这辆小型客车存在什么违法行为？ 答案:占用专用车道",
          "题目:图中圈内两条白色虚线是什么标线？ 答案:左转弯待转区线",
          "题目:驾驶机动车在高速公路上行驶，发生故障必须停车检查时，可以在什么地方停车？ 答案:应急车道内",
          "题目:当前风窗玻璃出现污物影响视线时，可以打开什么装置清洗？ 答案:前风窗玻璃刮水器及洗涤器",
          "题目:驾驶机动车找不到停车位时可以借人行道停放。 答案:错",
          "题目:上道路行驶的机动车未按规定定期进行安全技术检验的，一次记1分。 答案:对",
          "题目:摩托车行至泥泞或翻浆路段时，应停车观察，选择平整、坚实或有车辙的路段通过。 答案:对",
          "题目:在道路上临时停车不得妨碍其他车辆和行人通行。 答案:对",
          "题目:冬季给电动汽车充电前，应提前预热电池。 答案:对",
          "题目:如图所示，遇到这种情况的路段，不可以进入网状线区域内停车等候。 答案:对",
          "题目:车辆在山区上坡路驾驶，减挡要及时、准确、迅速，避免拖挡行驶导致发动机动力不足。 答案:对",
          "题目:行政处罚决定被依法变更或者撤销的，相应记分应当变更或者撤销。 答案:对",
          "题目:这个标志是何含义？ 答案:禁止直行",
          "题目:如图所示，A车遇到这种情形时，应在行人前加速通过。 答案:错",
          "题目:这个标志是电动自行车车道标志，表示该车道仅供电动自行车通行。 答案:对",
          "题目:机动车仪表板上如图所示指示灯亮，提示发动机舱开启。 答案:对",
          "题目:驾驶机动车上道路行驶，不允许超过限速标志标明的最高时速。 答案:对",
          "题目:你驾车启动发动机后，应检查仪表盘，如有黄色或红色指示灯亮时，须及时排除故障。 答案:对",
          "题目:驾驶机动车在道路上超车时可以不使用转向灯。 答案:错",
          "题目:机动车未按照规定期限进行安全技术检验的，由公安机关交通管理部门处以警告或者二百元以下罚款。 答案:对",
          "题目:驾驶机动车在城市快速路上行驶，以下说法正确的是什么？ 答案:不得逆行",
          "题目:驾驶摩托车前必须戴好安全头盔，调整后视镜的角度至能够看清左右两侧后方情况。 答案:对",
          "题目:这一组交通警察手势是什么信号？ 答案:右转弯信号",
          "题目:下长坡时，控制车速的正确方法是什么？ 答案:挂低速挡",
          "题目:驾驶机动车在路口直行遇到这种信号灯时，应该停在路口内等待。 答案:错",
          "题目:使用软连接牵引装置时，牵引车与被牵引车之间应当保持多远距离？ 答案:大于4米小于10米",
          "题目:驾驶人边驾车，边打手持电话是违法行为。 答案:对",
          "题目:驾驶车辆时，长时间左臂搭在车门窗上，或者长时间右手抓住变速器操纵杆，是一种驾驶陋习。 答案:对",
          "题目:这个标志是何含义？ 答案:向左和向右转弯",
          "题目:这一组交通警察手势是什么信号？ 答案:左转弯信号",
          "题目:下列哪个交通标志，表示此处仅允许残疾人驾驶的车辆停放？ 答案:如图中A所示",
          "题目:驾驶载货汽车载物超过最大允许总质量未达到百分之三十的，一次记1分。 答案:对",
          "题目:机动车在雨天临时停车时，应开启什么灯？ 答案:危险报警闪光灯",
          "题目:下列符合记分减免条件的是什么？ 答案:参加道路交通安全法律、法规和相关知识学习且经考试合格",
          "题目:机动车在狭窄的坡路遇对面来车时，正确的会车方法是上坡车让下坡车。 答案:错",
          "题目:这个标志是何含义？ 答案:注意潮汐车道",
          "题目:驾驶人在驾驶证丢失后3个月内还可以驾驶机动车。 答案:错",
          "题目:这个标志是交叉路口预告标志中的“车道式”预告标志。 答案:对",
          "题目:驾驶机动车在隧道、陡坡等特殊路段不得超车。 答案:对",
          "题目:驾驶证有以下哪种情况时，可以参加学法减分？ 答案:处理完所有违法行为后累计记分未达12分",
          "题目:违反交通信号灯指示通行的一次记6分。 答案:对",
          "题目:在这段道路上不能掉头。 答案:对",
          "题目:对于情节轻微，未影响道路通行的道路交通安全违法行为，交通警察应指出违法行为，并处以何种处罚？ 答案:口头警告",
          "题目:行驶中的电动汽车，如底部遇到较大的撞击，应及时到维修店进行检查。 答案:对",
          "题目:驾驶机动车行驶在长下坡路段出现制动失效时，可利用避险车道安全停车。 答案:对",
          "题目:如图所示，在没有道路中心线的公路上驾驶机动车，最高行驶速度不得超过每小时多少公里？ 答案:40",
          "题目:机动车驾驶人存在下列哪种交通违法行为的，一次记9分？ 答案:驾驶校车、中型以上载客载货汽车、危险物品运输车辆在高速公路、城市快速路以外的道路上行驶超过规定时速百分之五十以上的",
          "题目:机动车驾驶人有下列哪种交通违法行为，一次记9分？ 答案:驾驶与准驾车型不符的机动车的",
          "题目:如图所示，驾驶机动车允许在该路段通行。 答案:错",
          "题目:驾驶机动车在高速公路上发生故障时，应在来车方向多少米以外设置警告标志？ 答案:150",
          "题目:如图所示，驾驶人的这种违法行为会被记多少分？ 答案:记9分",
          "题目:驾驶机动车遇到高速公路收费口拥堵、较多车辆排队等候时，可以穿插等候车辆。 答案:错",
          "题目:在大雨天行车，为避免发生“水滑”而造成危险，要控制速度行驶。 答案:对",
          "题目:以下哪个交通标志表示该路段仅供行人步行，任何车辆不准进入? 答案:图B",
          "题目:以下缩写中，表示车辆自适应巡航系统缩写的是什么？ 答案:ACC",
          "题目:下列不属于交通信号的是什么？ 答案:警灯",
          "题目:驾驶机动车通过窄路、窄桥时的最高速度不能超过每小时30公里。 答案:对",
          "题目:这个标志是何含义？ 答案:高速公路左侧出口预告",
          "题目:机动车仪表板上如图所示指示灯亮，提示行李舱开启。 答案:错",
          "题目:如图所示，在这种情形超车时，要提前开启左转向灯，连续鸣喇叭或开启远光灯提示，催促前车让行。 答案:错",
          "题目:驾驶人有使用其他车辆检验合格标志嫌疑的，交通警察可依法扣留车辆。 答案:对",
          "题目:申请人在申请小型汽车驾驶证期间，申请变更考试地不得超过3次。 答案:对",
          "题目:机动车驾驶人在参加接受交通安全教育扣减交通违法行为记分中弄虚作假的，由公安机关交通管理部门撤销相应的记分扣减记录，恢复相应记分，处多少元以下罚款？ 答案:一千",
          "题目:这个标志是何含义？ 答案:指示大型货车靠右侧车道行驶",
          "题目:代替实际机动车驾驶人接受交通违法行为处罚和记分牟取经济利益的，一次记12分。 答案:对",
          "题目:机动车在雪天临时停车时，应开启什么灯？ 答案:危险报警闪光灯、示廓灯和后位灯",
          "题目:这是什么交通标志？ 答案:左侧变窄",
          "题目:驾驶载货汽车载物超过最大允许总质量百分之五十以上的，一次记9分。 答案:错",
          "题目:驾驶人违反交通运输管理法规发生重大事故致人死亡且逃逸的，处多少年有期徒刑？ 答案:3年以上7年以下",
          "题目:车辆通过铁路道口前，换入低速挡，以避免中途换挡导致发动机熄火。 答案:对",
          "题目:驾驶机动车发生交通事故后当事人故意破坏、伪造现场、毁灭证据的，应当承担什么责任？ 答案:全部责任",
          "题目:申请人申领小型汽车驾驶证期间，已通过部分科目考试后，居住地发生变更的，可以申请变更考试地，在现居住地预约其他科目考试。 答案:对",
          "题目:机动车达到国家规定的强制报废标准的不能办理注册登记。 答案:对",
          "题目:这个标志是何含义？ 答案:禁止掉头",
          "题目:驾驶机动车在道路上追逐竞驶，情节恶劣，会受到什么处罚？ 答案:处拘役，并处罚金",
          "题目:驾驶载货汽车违反规定载客的，一次记多少分？ 答案:3分",
          "题目:这个标志是何含义? 答案:超限检测站",
          "题目:驾驶机动车遇到漫水桥时要察明水情确认安全后再低速通过。 答案:对",
          "题目:中型客车对应的车型代号是什么？ 答案:B1",
          "题目:图中标志提示前方路段是易发生车辆追尾的路段。 答案:错",
          "题目:机动车在环形路口内行驶，遇有其他车辆强行驶入时，只要有优先权就可以不避让。 答案:错",
          "题目:这个标志是线形诱导标，用以引导行车方向，提醒驾驶人谨慎驾驶。 答案:对",
          "题目:这个标志是何含义？ 答案:非机动车车道",
          "题目:这个标志是何含义？ 答案:事故易发路段",
          "题目:汽车列车转弯时，牵引车的尾部或挂车部分往往要借用对方车道。因此，驾驶汽车列车在转弯过程中要注意什么？ 答案:做好让车准备",
          "题目:驾驶机动车在没有交通信号的路口要尽快通过。 答案:错",
          "题目:这个标志是何含义？ 答案:非机动车车道",
          "题目:当驾驶人血液中的酒精含量为50毫克/100毫升时，属于醉酒驾驶。 答案:错",
          "题目:以下交通标志表示除货车和拖拉机外，其他车辆可以直行。 答案:对",
          "题目:机动车遇有急弯路时要在进入弯路后减速。 答案:错",
          "题目:饮酒后驾驶机动车的一次记12分。 答案:对",
          "题目:这个标志的含义是表示该车道仅供机动车通行。 答案:错",
          "题目:车辆在下坡行驶时，可充分利用空挡滑行。 答案:错",
          "题目:在没有绷带急救伤员的情况下，可用毛巾、手帕、床单、长筒尼龙袜子等代替绷带包扎。 答案:对",
          "题目:机动车在夜间道路上发生故障难以移动时要开启危险报警闪光灯、示廓灯、后位灯。 答案:对",
          "题目:图中标志表示货车应当在该道路上行驶，其他车辆也可以在该道路上行驶。 答案:对",
          "题目:冬季雪天驾车驶出地下车库时，应适当增大与前车的安全距离，以免前车因路面湿滑溜车造成事故。 答案:对",
          "题目:机动车驾驶人违反交通管制的规定强行通行不听劝阻的，会受到下列哪种处罚？ 答案:处15日以下拘留",
          "题目:这个导向箭头是何含义？ 答案:提示前方有左弯或需向左合流",
          "题目:驾驶机动车在高速公路上行驶，遇有能见度小于100米的恶劣气象条件时，与同车道前车保持多少米以上的距离？ 答案:50",
          "题目:初次申领驾驶证的驾驶人在实习期内可以单独驾驶机动车上高速公路行驶。 答案:错",
          "题目:驾驶机动车在下列哪种路段不得超车？ 答案:窄桥、弯道",
          "题目:交通标志和交通标线不属于交通信号。 答案:错",
          "题目:这个标志是何含义？ 答案:校车专用停车位、校车停靠站点",
          "题目:驾驶机动车追逐竞驶构成犯罪，依法被吊销机动车驾驶证未满多少年的，不得申请驾驶证？ 答案:5年",
          "题目:这个标志的含义是提醒前方右侧行车道或路面变窄。 答案:对",
          "题目:这个标志是何含义？ 答案:禁止电动自行车进入",
          "题目:造成致人轻伤以上或者死亡的交通事故后逃逸，尚不构成犯罪的一次记12分。 答案:对",
          "题目:这个标志是何含义？ 答案:向右急转弯",
          "题目:这个标志是何含义？ 答案:解除时速40公里限制",
          "题目:申请人在道路上学习驾驶时，未取得学习驾驶证明的，由公安机关交通管理部门处多少元罚款？ 答案:200元以上2000元以下",
          "题目:红色圆圈内标线表示驾驶非公交车在上午10点钟时，可以进入该车道行驶。 答案:对",
          "题目:机动车喷涂、粘贴标识或者车身广告，影响安全驾驶的，由公安机关交通管理部门处警告或者二百元以下罚款。 答案:对",
          "题目:这个标志是何含义？ 答案:注意分离式道路",
          "题目:申请人以欺骗、贿赂等不正当手段取得机动车驾驶证的，公安机关交通管理部门收缴机动车驾驶证，撤销机动车驾驶许可，处多少元以下罚款，申请人在多长时间内不得再次申领机动车驾驶证？ 答案:2000元，3年",
          "题目:报考小型汽车准驾车型的，应当在取得学习驾驶证明满多长时间后预约科目三考试？ 答案:30日",
          "题目:夜间尾随前车行驶时，后车可以使用远光灯。 答案:错",
          "题目:在这种情况下，驾驶机动车不可以向左变更车道。 答案:对",
          "题目:以下交通标志中，表示禁止一切车辆和行人通行的是？ 答案:如图中A所示",
          "题目:如图所示，这辆小型汽车驾驶人错在未提前观察侧后方交通情况确认安全。 答案:对",
          "题目:行车中当驾驶人意识到爆胎时，应在控制住方向的情况下，轻踏制动踏板，使车辆缓慢减速，逐渐平稳地停靠于路边。 答案:对",
          "题目:持小型汽车驾驶证的驾驶人在有效期满换领驾驶证时，应当接受公安机关交通管理部门的审验。 答案:对",
          "题目:使用其他机动车的号牌上路行驶的，由公安机关交通管理部门予以收缴，扣留该机动车，处二千元以上五千元以下罚款。 答案:对",
          "题目:机动车驾驶人驾驶证有效期满换领驾驶证时，只能提交县级以上医疗机构出具的身体条件证明。 答案:错",
          "题目:这个标志是何含义？ 答案:会车先行",
          "题目:在道路上作业的洒水车在不影响其他车辆通行的情况下，可不分车道行驶，但不得逆行。 答案:对",
          "题目:在现场对烫伤进行处理时，首先要考虑尽快降温，可用流动的常温清水持续冲洗烫伤部位。 答案:对",
          "题目:A1实习期驾驶人驾驶机动车上高速公路行驶，以下做法正确的是什么？ 答案:应当由持有A1准驾车型驾驶证三年以上的驾驶人陪同",
          "题目:申请人在场地和道路上学习驾驶，应当按规定取得学习驾驶证明，学习驾驶证明的有效期为五年。 答案:错",
          "题目:申领机动车驾驶证的人在户籍所在地居住的，应当向什么地方的车辆管所提出申请？ 答案:户籍所在地",
          "题目:驾驶机动车在高速公路上违法停车的，一次记12分。 答案:错",
          "题目:驾驶拼装、报废机动车上路行驶的驾驶人，除按规定罚款外，还要受到哪种处理？ 答案:吊销驾驶证",
          "题目:这个标志是向左急弯路标志，用以警告车辆驾驶人前方有急弯。 答案:错",
          "题目:图中标志提示前方路口只允许直行。 答案:对",
          "题目:申请危险货物运输车登记的，机动车所有人可以为个人。 答案:错",
          "题目:符合什么条件就可以驾驶图中这辆自学直考小型客车上路学习驾驶？ 答案:符合自学直考规定",
          "题目:连续驾驶载货汽车超过4小时未停车休息的，一次记多少分？ 答案:3分",
          "题目:搬运昏迷失去知觉的伤员要采取仰卧位。 答案:错",
          "题目:如图这种情况下，遇到对面车辆发出左转信号，怎样做是正确的？ 答案:等待对面车辆向左转后再向右转弯",
          "题目:存在以下哪种行为的申请人在一年内不得再次申领机动车驾驶证？ 答案:在考试过程中有舞弊行为",
          "题目:3年内有下列哪种行为的人不得申请机动车驾驶证？ 答案:吸食、注射毒品",
          "题目:图中标志用以指引无障碍设施的位置。 答案:错",
          "题目:机动车驾驶人在一个记分周期内参加满分教育的次数每增加一次或者累积记分每增加12分，道路交通安全法律、法规和相关知识的学习时间增加多少天，每次满分学习的天数不得超过多少天？ 答案:7天，60天",
          "题目:行政处罚决定被依法变更或撤销的，相应记分不会变更或撤销。 答案:错",
          "题目:驾驶机动车发生仅造成财产损失且车辆能移动的交通事故，遇下列哪种情形时，可以自行协商解决？ 答案:驾驶人未携带身份证的",
          "题目:如图所示，在没有道路中心线的城市道路上驾驶机动车，最高行驶速度不得超过每小时多少公里？ 答案:30",
          "题目:雪天行车中，在有车辙的路段要循车辙行驶。 答案:对",
          "题目:申请人隐瞒有关情况或者提供虚假材料申领机动车驾驶证的，会受到什么处罚? 答案:处五百元以下罚款，申请人在一年内不得再次申领机动车驾驶证",
          "题目:如图所示，在没有划分道路中心线的道路上行驶，会车时必须减速靠右通过。 答案:对",
          "题目:驾驶机动车行经漫水路或者漫水桥时，应当停车察明水情，快速通过。 答案:错",
          "题目:这个标志是何含义？ 答案:机动车行驶",
          "题目:小型汽车驾驶人有下列哪种交通违法行为，一次记3分？ 答案:在普通道路上行驶超速20%以上未达到50%的",
          "题目:驾驶机动车应在变更车道的同时开启转向灯。 答案:错",
          "题目:参加公安机关交通管理部门组织的交通安全公益活动的，满一小时为一次，一次扣减1分交通违法行为记分。 答案:对",
          "题目:如图所示，在这种情况下通过路口，交替使用远、近光灯的目的是什么？ 答案:提示其他交通参与者注意来车",
          "题目:遇到这种情况可以优先通行。 答案:对",
          "题目:报考小型自动挡汽车准驾车型的，应当在取得学习驾驶证明满多长时间后预约科目三考试？ 答案:20日",
          "题目:如图所示，在铁路道口遇到两个红灯交替闪烁时，确认安全后可通过。 答案:错",
          "题目:驾驶校车、中型以上载客载货汽车、危险物品运输车辆以外的机动车在高速公路、城市快速路以外的道路上行驶超过规定时速百分之五十以上的，一次记9分。 答案:错",
          "题目:驾驶机动车在山区道路怎样跟车行驶？ 答案:加大安全距离",
          "题目:这个标志是何含义？ 答案:线形诱导标志",
          "题目:驾驶机动车在人行横道前看到有停止的车辆时，一定要停车，不能盲目通过。 答案:对",
          "题目:如图所示，驾驶机动车行驶至此路段时，可直接掉头。 答案:错",
          "题目:在道路上造成人身伤亡、事故后果非常严重的交通事故，可自行撤离现场。 答案:错",
          "题目:如图所示，驾驶机动车行驶到这个位置时，如果车前轮已越过停止线不得继续通过。 答案:对",
          "题目:交通事故中急救中毒伤员，以下做法错误的是什么？ 答案:原地等待救援",
          "题目:驾驶机动车驶离高速公路时，在这个位置怎样行驶？ 答案:驶入减速车道",
          "题目:有下列哪种违法行为的机动车驾驶人将被一次记9分？ 答案:驾驶故意污损号牌的机动车上道路行驶",
          "题目:驾驶准驾车型代号为C2的，可以驾驶以下哪种车型？ 答案:小型自动挡汽车",
          "题目:这个标志为校车专用停车位标志，表示此处仅允许校车停放。 答案:对",
          "题目:驾驶人在实习期内驾驶机动车上高速公路行驶，应当由持相应或者更高准驾车型驾驶证3年以上的驾驶人陪同。 答案:对",
          "题目:如图所示，在路口直行看到这种信号灯亮时，要尽快加速通过路口，不得停车等待。 答案:错",
          "题目:仪表显示当前冷却液的温度是90℃。 答案:对",
          "题目:上道路行驶的机动车未按规定定期进行安全技术检验的，一次记2分。 答案:错",
          "题目:这个标志是何含义？ 答案:禁止向右转弯",
          "题目:在高速公路上行驶的摩托车不得超过每小时多少公里？ 答案:80",
          "题目:驾驶人一边驾车，一边吸烟对安全行车无影响。 答案:错",
          "题目:机动车在设有最高限速标志的道路上行驶时，下列说法正确的是什么？ 答案:不得超过标明的最高时速",
          "题目:驾驶车辆进入高速公路加速车道后，须尽快将车速提高到每小时60公里以上的原因是什么？ 答案:以防汇入车流时影响主线车道上行驶的车辆",
          "题目:驾驶机动车不按交通信号灯指示通行的，一次记3分。 答案:错",
          "题目:如遇交通流量较大的路段，跟车距离不重要，只需保持低速行驶即可。 答案:错",
          "题目:下列关于同一机动车所有人名下两辆机动车的号牌号码互换，以下说法正确的是什么? 答案:申请前两车无未处理的道路交通安全违法行为和交通事故记录",
          "题目:在路口这个位置时可以右转通过路口。 答案:对",
          "题目:这个标志是什么意思？ 答案:前方路口不能直行",
          "题目:在事故现场抢救伤员的基本要求是什么？ 答案:先救命，后治伤",
          "题目:这个标志表示该车道仅供小型客车通行。 答案:错",
          "题目:驾驶人频繁变更车道不属于驾驶陋习。 答案:错",
          "题目:组织他人实施卖分牟取经济利益的，由公安机关交通管理部门处违法所得多少倍以下罚款，但最高不超过多少元？ 答案:5倍，10万",
          "题目:驾驶机动车在地下车库寻找停车位时，应注意观察行人的动态，遇行人横穿车道时及时减速，停车避让。 答案:对",
          "题目:机动车在道路上行驶不得超过限速标志、标线标明的速度安全行驶。 答案:对",
          "题目:非营运小微型载客汽车从注册登记之日起超过10年的，每年检验一次，并向公安机关申领检验标志。 答案:对",
          "题目:路边多辆车一起临近停车时，下列做法错误的是什么？ 答案:逆向或并列停放",
          "题目:机动车在道路边临时停车时，应怎样做？ 答案:不得逆向或并列停放",
          "题目:申请准驾车型为残疾人专用小型自动挡载客汽车驾驶证的申请人，应当符合的年龄条件是多少？ 答案:18周岁以上",
          "题目:如图所示，驾驶小型载客汽车在高速公路上行驶，同方向有2条车道的，左侧车道的最低车速为每小时多少公里？ 答案:100",
          "题目:下列哪个标志，用以指引无障碍设施的位置？ 答案:如C图所示",
          "题目:这个标志是何含义？ 答案:左转车道",
          "题目:驾驶机动车在高速公路上行驶，遇有雾、雨、雪、沙尘、冰雹等低能见度气象条件下，能见度在100米以下时，车速不得超过每小时多少公里，与同车道前车至少保持多少米的距离？ 答案:40，50",
          "题目:持境外机动车驾驶证申请机动车驾驶证的，应当自车辆管理所受理之日起多少年内完成科目考试？ 答案:3年",
          "题目:在冰雪道路上行车时，机动车的稳定性降低，加速过急时车轮易空转或溜滑。 答案:对",
          "题目:机动车驾驶人在一个记分周期内累积记分满24分未满36分的，在道路交通安全法律、法规和相关知识考试合格后即可发还机动车驾驶证。 答案:错",
          "题目:抢救失血伤员时，要先采取什么措施？ 答案:止血",
          "题目:新能源汽车充电时，应选用符合国家标准的充电桩。 答案:对",
          "题目:如图所示，这种情形下，此车不得通过。 答案:对",
          "题目:饮酒后只要不影响驾驶操作可以短距离驾驶机动车。 答案:错",
          "题目:驾驶机动车在距离下述哪些地点30米以内的路段，不得停车？ 答案:加油站",
          "题目:饮酒后驾驶机动车一次记几分？ 答案:12分",
          "题目:这个标志为人行横道标志，机动车驾驶人行经此处时应注意观察行人。 答案:错",
          "题目:当您即将通过交叉路口的时候，才意识到要左转而不是向前，以下说法正确的是什么？ 答案:继续向前行驶",
          "题目:如图所示这个符号的开关控制什么装置？ 答案:前风窗玻璃刮水器",
          "题目:这个标志的含义是告示前方是拥堵路段，注意减速慢行。 答案:错",
          "题目:驾驶机动车在雨天临时停车注意什么？ 答案:开启危险报警闪光灯",
          "题目:驾驶机动车通过路面条件较好的窄桥怎样控制车速？ 答案:不超过30公里/小时",
          "题目:在高速公路上驾驶机动车，以下做法正确的是什么？ 答案:错过出口后继续行驶，从下一出口驶出",
          "题目:抢救有害气体中毒伤员时，应第一时间将伤员移送到有新鲜空气的地方，脱离危险环境，防止吸入更多有害气体。 答案:对",
          "题目:机动车驾驶人有饮酒、醉酒、服用国家管制的________或者麻醉药品嫌疑的，应当接受测试、检验。 答案:精神药品",
          "题目:在几年内无累积记分的机动车驾驶人，可以延长其机动车驾驶证的审验期？ 答案:1年",
          "题目:夜间行车，要尽量避免超车，确需超车时，可变换远近光灯向前车示意。 答案:对",
          "题目:在冰雪路面上减速或停车，要怎样降低车速？ 答案:充分利用发动机的牵制作用",
          "题目:驾驶机动车有拨打、接听手持电话等妨碍安全驾驶行为的，一次记几分？ 答案:3分",
          "题目:驾驶机动车在结冰的道路上遇对向来车时，可先观察情况，车辆临近时再减速交会。 答案:错",
          "题目:驾驶机动车需要在路边停车时怎样选择停车地点？ 答案:在停车泊位内停放",
          "题目:这个标志的含义是告示前方道路是单向通行路段。 答案:错",
          "题目:下列哪个标志表示该车道仅供有轨电车通行？ 答案:B图",
          "题目:非营运小微型载客汽车从注册登记之日起，10年以内上线检验几次？ 答案:2次",
          "题目:准驾车型为A1驾照的，可以驾驶以下哪种车辆？ 答案:大型载客汽车",
          "题目:《道路交通安全法》第几项条款规定，机动车行驶时，驾驶人、乘坐人员应当按规定使用安全带，摩托车驾驶人及乘坐人员应当按规定戴安全头盔？ 答案:第51条",
          "题目:在道路上跟车行驶时，跟车距离不是主要的，只须保持与前车相等的速度，即可防止发生追尾事故。 答案:错",
          "题目:如图所示，校车在最右侧车道停靠上下学生时，校车停靠车道后方和相邻机动车道的机动车应停车等待，最左侧车道上的机动车应当减速通过。 答案:对",
          "题目:机动车发生轻微财产损失的交通事故，对应当自行撤离现场而未撤离的，交通警察有权责令当事人撤离现场。 答案:对",
          "题目:在图中所示的道路上需要停车时，怎样选择正确的停放位置？ 答案:在这段道路上的任何地方都不能停车",
          "题目:驾驶机动车在雾天行车要开启雾灯。 答案:对",
          "题目:机动车在道路上变更车道需要注意什么？ 答案:不能影响其他车辆正常行驶",
          "题目:这个标志是何含义？ 答案:连续下坡",
          "题目:驾驶小型汽车在高速公路行驶，车速超过规定时速50%以上的一次记12分。 答案:对",
          "题目:申请C1/C2/C3驾驶证的，两眼裸视力或矫正视力应达到对数视力表4.9以上。 答案:对",
          "题目:驾驶机动车上道路行驶前，应对机动车的安全技术性能进行认真检查，不得驾驶存在安全隐患的机动车上道路行驶。 答案:对",
          "题目:如图所示，红圈中标记车辆使用灯光的方法是正确的。 答案:错",
          "题目:申请人在道路上学习驾驶时未使用符合规定的机动车的，由公安机关交通管理部门对教练员或者随车指导人员处多少元罚款？ 答案:200元以上500元以下",
          "题目:已经持有小型自动挡汽车驾驶证，增加小型汽车准驾车型后12个月为实习期。 答案:错",
          "题目:造成交通事故后逃逸且构成犯罪的驾驶人，将吊销驾驶证且终生不得重新取得驾驶证。 答案:对",
          "题目:机动车在道路上发生故障，需要停车排除时，驾驶人应立即开启危险报警闪光灯，还应怎样做？ 答案:将机动车移至不妨碍交通的地方停放",
          "题目:以下哪种行为处十日以下拘留，并处一千元以上二千元以下罚款，吊销机动车驾驶证？ 答案:因饮酒后驾驶机动车被处罚，再次饮酒后驾驶机动车的",
          "题目:这个标志是何含义？ 答案:停车检查",
          "题目:饮酒后或者醉酒驾驶机动车发生重大交通事故构成犯罪的，依法追究刑事责任，吊销机动车驾驶证，终生不得重新取得机动车驾驶证。 答案:对",
          "题目:机动车驾驶人申请学法减分时，参加道路交通安全法律、法规和相关知识现场学习满1小时且考试合格的，一次可扣减几分？ 答案:2分",
          "题目:机动车在高速公路上发生交通事故无法正常行驶时，用救援车、清障车拖曳、牵引。 答案:对",
          "题目:这个标志是何含义？ 答案:机动车行驶",
          "题目:驾驶人在实习期内驾驶机动车时，应当在车身后部粘贴或者悬挂统一式样的实习标志。 答案:对",
          "题目:机动车驾驶人使用其他机动车号牌、行驶证的，一次记12分。 答案:对",
          "题目:从事校车业务或者旅客运输，严重超过额定乘员载客的，可构成危险驾驶罪。 答案:对",
          "题目:如图所示，驾驶人的这种违法行为是非常严重的，会被记9分。 答案:对",
          "题目:你应在驾驶证有效期满前多长时间申请换证？ 答案:90日内",
          "题目:3年内有下列哪种情形的，不得申请机动车驾驶证？ 答案:代替他人参加机动车驾驶人考试行为",
          "题目:补发、换发号牌期间，申请人可以申领有效期不超过多长时间的临时行驶车号牌？ 答案:十五日",
          "题目:行车中当驾驶人意识到车辆爆胎时，应在控制住方向的情况下采取紧急制动，迫使车辆迅速停住。 答案:错",
          "题目:驾驶机动车通过学校区域时，应把车速控制在60公里/小时内行驶。 答案:错",
          "题目:在这段高速公路上行驶的最低车速是多少？ 答案:60公里/小时",
          "题目:浓雾天气能见度低，开启远光灯会提高能见度。 答案:错",
          "题目:这个标志是何含义？ 答案:服务站",
          "题目:车辆后轮胎爆裂，车尾会摇摆不定，驾驶人应双手紧握转向盘，控制车辆保持直线行驶，减速停车。 答案:对",
          "题目:车辆下长坡过程中，当制动鼓温度过高时，应怎样做？ 答案:不要立即进入水中冷却",
          "题目:这种白色矩形标线框含义是什么？ 答案:限时停车位",
          "题目:汽车列车急转弯时，无论向左或向右，都应降低车速，低速沿车道的哪个位置通过？ 答案:外侧",
          "题目:机动车仪表板上如下图所示指示灯亮表示什么？ 答案:制动系统出现异常",
          "题目:这个标志是何含义？ 答案:过水路面",
          "题目:机动车仪表板上如图所示指示灯亮表示什么？ 答案:防抱死制动系统故障",
          "题目:初次申请机动车驾驶证或者申请增加准驾车型的，科目一考试合格后，车辆管理所应当在3日内核发学习驾驶证明。 答案:错",
          "题目:驾驶机动车变更车道为什么要提前开启转向灯？ 答案:提示其他车辆我方准备变更车道",
          "题目:机动车驾驶人驾驶车辆前可以饮用少量啤酒。 答案:错",
          "题目:车辆通过学校和小区应注意观察标志标线，低速行驶，不要鸣喇叭。 答案:对",
          "题目:对驾驶过程中接打手机的看法正确的是什么？ 答案:开车需要接打电话时，应该先找到安全的地方停车再操作",
          "题目:如图所示，驾驶机动车要选择绿色箭头灯亮的车道行驶。 答案:对",
          "题目:图中圈内的路面标记是什么标线？ 答案:人行横道线",
          "题目:图中标注车辆在该地点停车是可以的。 答案:错",
          "题目:70周岁以上人员申请小型汽车准驾车型的，应先通过判断力、记忆力、反应力等能力测试。 答案:对",
          "题目:车辆在高速公路匝道上掉头时，应确保后方无来车。 答案:错",
          "题目:高温天气下，若电动汽车出现电池温度报警，应避免充电及驾驶。 答案:对",
          "题目:驾驶机动车在没有施划停车泊位的道路上临时停车，要紧靠左侧路边逆向停放。 答案:错",
          "题目:这个标志是何含义？ 答案:距无人看守铁路道口50米",
          "题目:如图所示，路缘石上的黄色实线指示路边不允许停车上下人员或装卸货物。 答案:对",
          "题目:有酒后驾驶行为的，机动车交通事故责任强制保险费率不受影响。 答案:错",
          "题目:机动车所有人申请转让登记前，应当将涉及该车的道路交通安全违法行为和交通事故处理完毕。 答案:对",
          "题目:夜间驾驶人对物体的观察明显比白天差，视距会有什么变化？ 答案:变短",
          "题目:驾驶人行车中意识到爆胎时，要轻踏制动踏板，缓慢减速停车。 答案:对",
          "题目:驾驶机动车上坡时，在将要到达坡道顶端时要鸣喇叭示意。 答案:对",
          "题目:如图所示，在道路与铁路道口遇到一个红灯亮时要停车等待。 答案:对",
          "题目:以下缩写中，表示车辆车身电子稳定系统缩写的是什么？ 答案:ESP",
          "题目:在超越前车时，提前开启左转向灯，变换使用远、近光灯或者鸣喇叭是为了什么？ 答案:提醒后车以及前车",
          "题目:准驾车型为B2驾照的，可以驾驶以下哪种车辆？ 答案:重型、中型载货汽车",
          "题目:有视力矫正的机动车驾驶人驾驶机动车时，无需佩戴眼镜。 答案:错",
          "题目:这属于哪一种标志？ 答案:警告标志",
          "题目:雨天路面湿滑，车辆制动距离增大，行车中尽量使用紧急制动减速。 答案:错",
          "题目:同车道行驶的车辆前方遇到下列哪种车辆不得超车？ 答案:执行任务的警车",
          "题目:图中标志提示前方路段只禁止一切车辆驶入。 答案:错",
          "题目:机动车驶近坡道顶端等影响安全视距的路段时，要如何保证安全？ 答案:减速慢行并鸣喇叭示意",
          "题目:驾驶机动车通过窄路、窄桥时，最高速度不能超过多少？ 答案:30公里/小时",
          "题目:驾驶机动车在堵车的交叉路口遇绿灯亮时，可借对向车道通过路口。 答案:错",
          "题目:在道路同方向划有2条以上机动车道的，左侧为快速车道，右侧为慢速车道。 答案:对",
          "题目:遇到图中这种有信号灯的路段，选择哪条车道行驶才正确？ 答案:选择中间车道行驶",
          "题目:驾驶机动车时接打电话容易引发事故，以下原因错误的是什么? 答案:电话的信号会对汽车电子设备的运行造成干扰",
          "题目:这个标志是何含义？ 答案:Y型交叉路口预告",
          "题目:驾车驶近图中这种没有信号灯控制的交叉路口，应该如何正确通过？ 答案:路口减速，向左观察，确认安全后通过",
          "题目:烧伤伤员口渴时，可喝少量的淡盐水。 答案:对",
          "题目:在高速公路上驾驶机动车，遇前方拥堵时可临时借用应急车道行驶。 答案:错",
          "题目:如图所示，黄色小型客车驾驶人在高速公路逆向行驶是违法行为，会被记6分。 答案:错",
          "题目:机动车驾驶人有二起以上交通违法行为应当予以记分的，记分分值不累积计算。 答案:错",
          "题目:交通违法行为累积记分未满多少分的，可以处理其驾驶的其他机动车的交通违法行为记录？ 答案:12分",
          "题目:这段道路蓝车所在车道是什么车道？ 答案:快速车道",
          "题目:持有境外机动车驾驶证，对入境短期停留的，可以申领有效期为3个月的临时机动车驾驶许可。 答案:对",
          "题目:驾驶人在一个记分周期内累积记分达到12分的，交通警察依法扣留驾驶证。 答案:对",
          "题目:驾驶机动车通过漫水路时要加速行驶。 答案:错",
          "题目:驾驶机动车不按规定避让校车的，将被一次记多少分？ 答案:3分",
          "题目:如图所示，驾驶机动车看到这种手势信号时，应当停车等待。 答案:对",
          "题目:驾驶人未携带哪种证件驾驶机动车上路，交通警察可依法扣留车辆？ 答案:机动车驾驶证",
          "题目:驾驶校车、中型以上载客载货汽车、危险物品运输车辆以外的机动车在高速公路、城市快速路上行驶超过规定时速50%以上的，一次记9分。 答案:错",
          "题目:车辆驶入高速公路加速车道后，尽快将车速提高到每小时60公里以上。 答案:对",
          "题目:请判断这是一个什么手势？ 答案:准许车辆左转弯手势",
          "题目:对使用其他车辆号牌、行驶证的车辆，交通警察可依法予以扣留。 答案:对",
          "题目:这个标志是何含义？ 答案:此路不通",
          "题目:机动车驾驶人有二起以上交通违法行为应当予以记分的，记分分值累积计算。 答案:对",
          "题目:路面上白色虚线和三角地带标线组成的是什么标线？ 答案:道路入口标线",
          "题目:通过人行横道应减速慢行，遇到行人则需停车让行。 答案:对",
          "题目:A2实习期驾驶人驾驶机动车上高速公路行驶，以下做法正确的是什么？ 答案:应当由持有A2准驾车型驾驶证三年以上的驾驶人陪同",
          "题目:如图所示，在城市道路上，遇到这种情况需要超车时，可以直接开启右转向灯，借公交车道行驶。 答案:错",
          "题目:驾驶机动车在距离下述哪些地点50米以内的路段，不得停车？ 答案:交叉路口",
          "题目:进入减速车道时怎样使用灯光？ 答案:开启右转向灯",
          "题目:这个标志预告什么？ 答案:高速公路停车场预告",
          "题目:夜间驾驶机动车在窄路或者窄桥遇自行车对向驶来时，要怎样使用灯光？ 答案:使用近光灯",
          "题目:上道路行驶的机动车有哪种情形交通警察可依法扣留车辆？ 答案:未悬挂机动车号牌",
          "题目:这个标志是何含义？ 答案:地铁",
          "题目:以下缩写中，表示牵引力控制系统缩写的是什么？ 答案:TCS/ASR/TRC",
          "题目:如图所示，该道路最左侧车道准许车辆直行或左转。 答案:对",
          "题目:代替实际机动车驾驶人参加审验教育的，由公安机关交通管理部门处多少元罚款？ 答案:2000元以下",
          "题目:汽车的车身越高，转弯时的稳定性会怎样？ 答案:越差",
          "题目:驾驶机动车遇到大雾或特大雾等能见度过低天气时，应选择安全地点停车。 答案:对",
          "题目:行车中当车辆前轮爆胎已发生转向时，驾驶人应双手紧握转向盘，尽力控制车辆直线行驶。 答案:对",
          "题目:如图所示，驾驶机动车遇到这种情况，可以轻按喇叭提醒前方非机动车和行人后方有来车。 答案:对",
          "题目:道路交通安全违法行为累积记分一个周期满分为12分。 答案:对",
          "题目:遇到图中所示标志，如何停车？ 答案:在这段道路上的任何地方都不能停车",
          "题目:超车时，前方车辆不让出超车空间，应该怎么做？ 答案:停止超车",
          "题目:驾驶机动车从高速公路匝道进入加速车道应当如何正确使用灯光？ 答案:开启左转向灯",
          "题目:这个标志是什么？ 答案:人行横道",
          "题目:驾驶机动车在高速公路或者城市快速路上违法停车的，一次记多少分？ 答案:9分",
          "题目:驾驶电动汽车出行前，应检查剩余电量。 答案:对",
          "题目:饮酒后驾驶非营运机动车的，处暂扣6个月机动车驾驶证，并处1000元以上2000元以下罚款。 答案:对",
          "题目:下列交通违法行为，一次记9分的是什么? 答案:驾驶故意遮挡、污损机动车号牌的机动车上道路行驶的",
          "题目:公安机关交通管理部门对累积记分达到规定分值的驾驶人怎样处理？ 答案:进行法律法规教育，重新考试",
          "题目:驶近交叉路口，发现前方信号灯为红灯时，应当踩下哪个踏板？ 答案:制动踏板",
          "题目:申请人有下列何种行为的，一年内不得再次申领机动车驾驶证？ 答案:提供虚假材料申领机动车驾驶证",
          "题目:驾驶机动车通过窄路、窄桥时的最高速度不能超过每小时50公里。 答案:错",
          "题目:机动车的型号或者有关技术参数与国务院机动车产品主管部门公告不符的，不予办理注册登记。 答案:对",
          "题目:学习驾驶证明的有效期为3年，但有效期截止日期不得超过申请年龄条件上限。 答案:对",
          "题目:驾驶机动车通过有交通信号灯控制但没有方向指示信号灯的交叉路口，相对方向行驶的左转弯机动车应让右转弯车辆先行。 答案:错",
          "题目:3年内有下列哪种行为的人不得申请机动车驾驶证？ 答案:注射毒品",
          "题目:驾驶机动车不按规定避让校车的，一次记3分。 答案:对",
          "题目:驾驶机动车通过没有交通信号的交叉路口怎样行驶？ 答案:减速慢行",
          "题目:机动车仪表板上如图所示指示灯亮时，表示驻车制动器处于制动状态。 答案:对",
          "题目:机动车驾驶人存在下列哪种交通违法行为的，一次记9分？ 答案:驾驶7座以上载客汽车载人超过核定人数百分之五十以上未达到百分之百的",
          "题目:行驶车道绿灯亮时，但车辆前方人行横道仍有行人行走，应怎样做？ 答案:等行人通过后再起步",
          "题目:当后排座位没有人乘坐时，后车门未关好就起步也是可以的。 答案:错",
          "题目:驾驶机动车不得有拨打接听手持电话、观看电视等妨碍安全驾驶的行为。 答案:对",
          "题目:申请轻型牵引挂车准驾车型的，年龄不得超过多少周岁？ 答案:70周岁",
          "题目:这个标志是何含义？ 答案:事故易发路段",
          "题目:机动车驾驶人经满分学习、考试合格且罚款已缴纳的，记分予以清除，发还机动车驾驶证。 答案:对",
          "题目:这个标志为人行横道标志，机动车驾驶人行经此处时应注意观察行人。 答案:错",
          "题目:申请C1/C2准驾车型的，两眼裸视力或矫正视力应达到对数视力表多少以上？ 答案:4.9",
          "题目:白色实线划于路段中时，用以分割同向行驶的机动车和非机动车，或指示车行道的________；设于路口时，可用作导向车道线或停止线。 答案:边缘",
          "题目:在道路上车辆发生故障、事故停车后，不按规定使用灯光或者设置警告标志的，一次记1分。 答案:错",
          "题目:三年内有吸食、注射毒品行为，不得申请机动车驾驶证。 答案:对",
          "题目:这个标志是何含义？ 答案:电动汽车充电站",
          "题目:漫水道路行车时，应挂低速挡，低速缓慢驶入水中，稳住方向、匀速一气通过。 答案:对",
          "题目:在路口看到这种信号灯亮时，应该怎样做才正确？ 答案:在不妨碍被放行车辆、行人的情况下，可以右转",
          "题目:社会车辆距离消防栓或者消防队(站)门前30米以内的路段不能停车。 答案:对",
          "题目:驾驶人在驾驶证核发地车辆管理所管辖区以外居住的，可以向居住地车辆管理所申请换证。 答案:对",
          "题目:C6车型代号对应的准驾车型是什么? 答案:轻型牵引挂车",
          "题目:驾驶电动汽车发生起火需要报警时，只需要告知起火地点，无需告知起火汽车的品牌和型号。 答案:错",
          "题目:驾驶机动车遇到后方有执行任务的紧急车辆时，可以借用无人通行的非机动车道让行。 答案:对",
          "题目:开启前照灯近光时仪表板上如图所示指示灯亮起。 答案:对",
          "题目:机动车驾驶人参加满分教育现场学习、网络学习的天数累计不得少于5天，其中，现场学习的天数不得少于1天。 答案:错",
          "题目:驾驶机动车应当随身携带哪种证件？ 答案:驾驶证",
          "题目:交通警察手势信号是所有交通信号当中（信号灯、标志、标线等）法律效力最强的一种信号。 答案:对",
          "题目:图中黄色车这种违法的行为会被记多少分？ 答案:记6分",
          "题目:安全文明行车是机动车驾驶员应当具备的基本素质要求。 答案:对",
          "题目:机动车驾驶人有下列哪种交通违法行为，一次记3分？ 答案:驾驶机动车不按规定避让校车的",
          "题目:经购买、调拨、赠予等方式获得机动车后尚未注册登记的，向车辆管理所申领临时行驶车号牌后，方可临时上道路行驶。 答案:对",
          "题目:受伤者在车内无法自行下车时，可设法将其从车内移出，尽量避免二次受伤。 答案:对",
          "题目:在这种路段如何行驶？ 答案:减速鸣喇叭示意",
          "题目:在山区道路遇对向来车时，应怎样会车？ 答案:减速或停车让行",
          "题目:驾驶机动车遇雾、雨、雪等能见度在50米以内时，最高速度不能超过多少？ 答案:30公里/小时",
          "题目:下列哪个指示灯亮表示车辆驻车制动器处于制动状态？ 答案:A图",
          "题目:当事人有下列哪种行为，要承担交通事故全部责任？ 答案:发生事故后故意损坏、伪造现场、毁灭证据的",
          "题目:驾驶小型载客汽车在高速公路上时速低于100公里时的最小跟车距离是多少？ 答案:不得少于50米",
          "题目:行车中遇有前方发生交通事故，需要帮助时，应怎样做？ 答案:协助保护现场，并立即报警",
          "题目:申请人隐瞒有关情况或者提供虚假材料申领机动车驾驶证的，公安机关交通管理部门不予受理或者不予办理，处多少元以下罚款，申请人在多长时间内不得再次申领机动车驾驶证？ 答案:500元，1年",
          "题目:如图所示，驾驶机动车遇到这种情况，不仅要控制车辆留出会车空间，而且要注意与右侧的儿童保持足够的安全距离。 答案:对",
          "题目:驾驶证丢失后，驾驶人可以继续驾驶机动车。 答案:错",
          "题目:机动车仪表板上如图所示指示灯亮时，不影响正常行驶。 答案:错",
          "题目:行车中当驾驶人意识到机动车爆胎时，应在控制住方向的情况下采取紧急制动，迫使机动车迅速停住。 答案:错",
          "题目:这个标志的含义是指示到前方隧道入口的距离。 答案:错",
          "题目:驾驶人有下列哪种违法行为一次记12分？ 答案:使用伪造机动车号牌",
          "题目:对发生道路交通事故需要收集证据的事故车，交通警察可以依法扣留。 答案:对",
          "题目:营运机动车改为非营运机动车的，机动车所有人不需要向公安机关交通管理部门申请登记。 答案:错",
          "题目:以下不属于轻型牵引挂车（C6）科目二考试内容的是什么？ 答案:侧方停车",
          "题目:轻型牵引挂车对应的车型代号是什么？ 答案:C6",
          "题目:驾驶机动车在路上行驶，遇到道路养护车辆、工程作业车进行作业时，正确的做法是什么？ 答案:注意避让",
          "题目:年龄在70周岁以上持有普通二轮摩托车驾驶证的，应当到机动车驾驶证核发地或者核发地以外的车辆管理所换领准驾车型为轻便摩托车的机动车驾驶证。 答案:对",
          "题目:如图所示，A车欲左转，该驾驶人存在的违法行为是什么？ 答案:压实线变更车道",
          "题目:年龄在70周岁以上，在一个记分周期结束后一年内未提交身体条件证明被注销机动车驾驶证，但其驾驶证在有效期内，机动车驾驶人应当如何恢复驾驶资格？ 答案:提交身体条件证明",
          "题目:驾驶机动车在道路上发生交通事故要立即将车移到路边。 答案:错",
          "题目:关于超车，以下说法不正确的是什么？ 答案:加速从右侧超越",
          "题目:机动车遇有停止信号时，应停在何处？ 答案:停止线以外",
          "题目:行驶过程中发现车门未关好，应及时关闭车门，否则车辆在转弯等激烈运动过程中会造成人员或货物被甩到车外。 答案:对",
          "题目:以下哪个标志，表示干路先行？ 答案:图4",
          "题目:驾驶机动车在道路上掉头时提前开启左转向灯。 答案:对",
          "题目:这个标志是何含义？ 答案:注意非机动车",
          "题目:驾驶小型汽车在高速公路行驶，车速超过规定时速50%以上的一次记12分。 答案:对",
          "题目:驾驶机动车在坡道路段跟车行驶时，应保持跟平路一样的安全行车距离。 答案:错",
          "题目:造成交通事故后逃逸，尚不构成犯罪的，公安机关交通管理部门除按照规定罚款外，还可以并处________？ 答案:15日以下拘留",
          "题目:年满70周岁以上的机动车驾驶人发生责任交通事故造成人员重伤或者死亡的，应当在本记分周期结束后三十日内到公安机关交通管理部门接受审验。 答案:对",
          "题目:请判断这是一个什么标志？ 答案:指示标志",
          "题目:驾驶证准驾车型代号为C1的，可以驾驶下图所示车辆。 答案:对",
          "题目:初次申领机动车号牌、行驶证的，机动车所有人应当向户籍所在地的车辆管理所申请注册登记。 答案:错",
          "题目:绿灯亮表示前方路口允许机动车通行。 答案:对",
          "题目:如图所示，在城市快速路上通行，A车存在什么违法行为？ 答案:占用应急车道行驶",
          "题目:驾车在高速公路上错过了出口，应继续前行，到下一出口驶离高速公路后掉头。 答案:对",
          "题目:车辆长期停放时，应选择在哪里停放？ 答案:车库",
          "题目:下列交通违法行为，一次记1分的是什么? 答案:驾驶摩托车，不戴安全头盔的",
          "题目:驾驶机动车在没有中心线的城市道路上，最高速度不能超过70公里每小时。 答案:错",
          "题目:小型自动挡汽车（C2）科目二考试内容包括倒车入库、侧方停车、曲线行驶、直角转弯。 答案:对",
          "题目:机动车在狭窄的坡路会车时，正确的会车方法是什么？ 答案:下坡车让上坡车",
          "题目:专属停车位的停车标线用什么颜色表示？ 答案:黄色",
          "题目:发生无人员伤亡的、财产轻微损失的交通事故后，以下做法正确的是什么？ 答案:确保安全的情况下，对现场拍照，然后将车辆移至路边等不妨碍交通的地点",
          "题目:如图所示，驾驶机动车遇到这种情形时，应停车让行。 答案:对",
          "题目:这个标志是何含义？ 答案:注意行人",
          "题目:行车中，燃油报警灯亮，应及时到附近加油站加油，以免造成车辆乘员滞留公路，发生交通事故。 答案:对",
          "题目:如图所示，驾驶机动车遇到左侧车道有车辆正在超车时，可以等待左侧车辆完成超车后，再寻找时机超车。 答案:对",
          "题目:行人参与道路交通的主要特点是行走随意性大、方向多变。 答案:对",
          "题目:点火开关在ON位置，发动机工作。 答案:对",
          "题目:服用国家管制的精神药品可以短途驾驶机动车。 答案:错",
          "题目:在没有交通信号指示的交叉路口，转弯的机动车让直行的车辆和行人先行。 答案:对",
          "题目:在道路上从事校车业务，严重超员超速的，构成危险驾驶罪，将处拘役，并处罚金。 答案:对",
          "题目:雾天驾驶机动车跟车行驶，以下做法错误的是什么？ 答案:鸣喇叭提醒前车提高车速，避免后车追尾",
          "题目:图中标志提示前方道路有Y形交叉路口，会有横向来车。 答案:对",
          "题目:高速公路限速标志标明的最高时速不得超过多少公里？ 答案:120公里",
          "题目:准驾车型为C1的驾驶人，在实习期内驾驶机动车上高速公路行驶，可以由准驾车型为C2驾照3年以上的驾驶人陪同。 答案:错",
          "题目:年龄在70周岁以上的，不得驾驶以下哪种车型？ 答案:轻型牵引挂车",
          "题目:驾驶人因服兵役、出国（境）等原因延期审验期间不得驾驶机动车。 答案:对",
          "题目:机动车驾驶人参加满分教育现场学习、网络学习的天数累计不得少于五天，其中，现场学习的天数不得少于二天。 答案:对",
          "题目:关于频繁变更车道的危害，以下说法错误的是什么？ 答案:易导致爆胎",
          "题目:驾驶人有下列哪种违法行为一次记1分？ 答案:未按规定系安全带",
          "题目:饮酒后驾驶机动车一次记几分？ 答案:12分",
          "题目:驾驶机动车进入高速公路加速车道后，须尽快将车速提高到每小时60公里以上，以防汇入车流时影响主线车道上行驶的车辆。 答案:对",
          "题目:这是什么交通标志？ 答案:两侧变窄",
          "题目:雾天对安全行车的主要影响是什么？ 答案:能见度低，视线不清",
          "题目:车辆下长坡时要减挡行驶，以充分利用发动机的制动作用。 答案:对",
          "题目:驾驶人有使用其他车辆检验合格标志嫌疑的，交通警察可依法扣留车辆。 答案:对",
          "题目:黄色虚线划于路口时，用以分割对向行驶的交通流。划于路侧或缘石上时，用以________车辆长时在路边停放。 答案:禁止",
          "题目:下列哪种行为会受到200元以上2000元以下罚款，并处吊销机动车驾驶证？ 答案:将机动车交由未取得机动车驾驶证的人驾驶的",
          "题目:已注册登记的小型载客汽车有下列哪种情形，所有人不需要办理变更登记？ 答案:加装前后防撞装置",
          "题目:这个标志是何含义？ 答案:解除禁止超车",
          "题目:当机动车驾驶人通过没有交通信号的交叉路口时，应注意观察来往车辆及行人，减速慢行。 答案:对",
          "题目:报考小型自动挡汽车准驾车型科目三考试的，在取得学习驾驶证明满多长时间后预约考试？ 答案:20日",
          "题目:移动脊柱骨折的伤员，要有两名以上人员扶持移动。 答案:错",
          "题目:在路口左转弯看到这种信号灯亮时，怎样做才正确？ 答案:不能妨碍被放行的直行车辆通行",
          "题目:车速较高，前方发生紧急情况时，要先转方向避让，再采取制动减速，以减小碰撞损坏程度。 答案:错",
          "题目:电动汽车涉水后，要注意对动力电池、电机及电源线束的检查。 答案:对",
          "题目:驾驶人行车中看到注意儿童标志的时候，应怎样做？ 答案:谨慎选择行车速度",
          "题目:申请人申请轻型牵引挂车驾驶证，因当地尚未设立科目二考场的，可以选择省（自治区）内其他考场参加考试。 答案:对",
          "题目:关于机动车掉头地点的规定，以下说法正确的是什么？ 答案:机动车在高速公路不得掉头",
          "题目:驾驶校车、中型以上载客载货汽车、危险物品运输车辆以外的机动车在高速公路上行驶超过规定时速百分之二十以上未达到百分之五十的，一次记多少分？ 答案:6分",
          "题目:如图所示这个符号的开关控制什么装置？ 答案:后风窗玻璃刮水器及洗涤器",
          "题目:长时间在高速公路上行驶，容易导致驾驶人对速度判断出现偏差，往往会低估车辆行驶速度。 答案:对",
          "题目:下长坡连续使用行车制动会导致什么？ 答案:会使制动器温度升高而使制动效果急剧下降",
          "题目:如图所示，在高速公路上牵引故障车的做法是否正确？ 答案:错",
          "题目:使用伪造、变造的驾驶证一次记12分。 答案:对",
          "题目:驾驶机动车在道路上违反道路通行规定应当接受相应的处罚。 答案:对",
          "题目:道路交通事故中，机动车无号牌、检验合格标志、保险标志时，要保护现场并立即报警。 答案:对",
          "题目:如图所示，驾驶机动车在没有划分车道的道路上通行，以下做法正确的是什么？ 答案:机动车在道路中间通行",
          "题目:车辆上道路行驶前，驾乘人员都应当系好安全带。 答案:对",
          "题目:机动车停稳前不能开车门和上下人员。 答案:对",
          "题目:未取得驾驶证的学员在道路上学习驾驶技能，下列哪种做法是正确的？ 答案:使用所学车型的教练车由教练员随车指导",
          "题目:人行横道上禁止掉头的原因是什么？ 答案:避免妨碍行人正常通行，确保行人安全",
          "题目:这个标志的含义是提醒车辆驾驶人前方是单向行驶并且照明不好的涵洞。 答案:错",
          "题目:摩托车后轮胎爆裂时，驾驶人应当怎样做？ 答案:双手紧握转向把",
          "题目:申请人在场地和道路上学习驾驶，应当按规定取得学习驾驶证明。 答案:对",
          "题目:代替实际机动车驾驶人接受交通违法行为处罚和记分牟取经济利益的，一次记多少分？ 答案:12分",
          "题目:驾驶这种机动车上路行驶的做法，是一种轻微的违规行为。 答案:错",
          "题目:超过机动车驾驶证有效期1年以上未换证的，车辆管理所应当处以何种处罚？ 答案:注销其驾驶证",
          "题目:驾驶危险物品运输车辆有下列哪种违法行为，一次记6分？ 答案:在高速公路、城市快速路上行驶超过规定时速未达到20%的",
          "题目:以下缩写中，表示车辆自动刹车辅助系统缩写的是什么？ 答案:AEB",
          "题目:驾驶机动车驶入拥堵的环形路口时，以下做法正确的是什么？ 答案:注意避让已在路口内车辆",
          "题目:这个标志表示硬路肩允许行驶路段开始。 答案:错",
          "题目:如图所示，在这起交通事故中，以下说法正确的是什么？ 答案:B车负全部责任",
          "题目:醉酒驾驶机动车的，可构成危险驾驶罪。 答案:对",
          "题目:大雾天行车，多鸣喇叭是为了引起对方注意，避免发生危险。 答案:对",
          "题目:上道路行驶的机动车未悬挂机动车号牌的一次记9分。 答案:对",
          "题目:持有境外机动车驾驶证的人，经申请可直接发放中国的机动车驾驶证。 答案:错",
          "题目:饮用少量啤酒不影响驾驶操作可以短距离驾驶机动车。 答案:错",
          "题目:上路行驶的机动车未放置检验合格标志的，交通警察可依法扣留机动车。 答案:对",
          "题目:机动车在夜间通过没有交通信号灯控制的交叉路口时，要怎样使用灯光？ 答案:交替使用远近光灯示意",
          "题目:驾驶机动车发生交通事故仅造成轻微财产损失，当事人双方对交通事故事实及成因无争议的，可自行撤离现场处理损害赔偿事宜。 答案:对",
          "题目:机动车驾驶证遗失的，机动车驾驶人应当向哪里的车辆管理所申请补发？ 答案:以上均可",
          "题目:驾驶机动车在高速公路上遇雾天时，以下说法正确的是什么？ 答案:能见度小于50米时，车速不得超过20km/h，从最近的出口驶离高速公路",
          "题目:取得小型汽车、小型自动挡汽车驾驶证1年以上，可以申请增加轻型牵引挂车准驾车型。 答案:对",
          "题目:机动车驾驶人参加审验教育时在签注学习记录、学习过程中弄虚作假的，除相应学习记录无效外，还应当由公安机关交通管理部门处多少元罚款？ 答案:一千元以下",
          "题目:下面哪种做法能帮助您避免被其他车辆从后方追撞？ 答案:在转弯前提前打开相应的转向灯",
          "题目:驾驶机动车在人行横道上临时停车属于违法行为。 答案:对",
          "题目:这个标志的含义是提醒车辆驾驶人前方是急转弯路段。 答案:错",
          "题目:驾驶人未携带哪种证件驾驶机动车上路，交通警察可依法扣留车辆？ 答案:机动车行驶证",
          "题目:这个标志是何含义? 答案:口岸停车检查",
          "题目:驾驶机动车在车道减少的路段，遇前方机动车缓慢行驶的，应当每车道一辆依次交替驶入车道减少后的路段。 答案:对",
          "题目:这个标志的含义是告示前方是塌方路段。 答案:错",
          "题目:持有大型客车、重型牵引挂车、城市公交车、中型客车、大型货车驾驶证的驾驶人，在记分周期内有记分的，应当在记分周期结束后三十日内到公安机关交通管理部门接受审验。 答案:对",
          "题目:如图所示，驾驶小型载客汽车在高速公路上行驶，同方向有3条车道的，中间车道的最低车速为每小时多少公里？ 答案:90",
          "题目:这个标志是何含义？ 答案:公交车专用停车位",
          "题目:驾驶机动车违反禁令标志、禁止标线指示的，一次记1分。 答案:对",
          "题目:这个标志是何含义? 答案:充电停车位",
          "题目:如图所示，A车要在前方掉头行驶，可以在此处变换车道，进入左侧车道准备掉头。 答案:错",
          "题目:以下属于禁止停车标线的是________。 答案:路缘石漆划的黄色实线",
          "题目:这个标志是何含义？ 答案:高速公路起点",
          "题目:如图这种情况下，遇到路口对面有车辆直行，怎么做是正确的？ 答案:等待对面车辆直行通过后再向左转弯",
          "题目:如图所示，驾驶机动车遇到右侧车辆强行变道，应减速慢行，让右前方车辆顺利变道。 答案:对",
          "题目:驾驶电动汽车，如下图所示指示灯亮表示什么？ 答案:驱动电机故障",
          "题目:驾驶机动车在高速公路上倒车、逆行、穿越中央分隔带掉头的一次记6分。 答案:错",
          "题目:如图所示，驾驶机动车遇到这种情形时，应当停车让行。 答案:对",
          "题目:驾驶校车、公路客运汽车、旅游客运汽车、7座以上载客汽车以外的其他载客汽车载人超过核定人数百分之六十的，一次记6分。 答案:对"
         ],
         "legendgroup": "",
         "marker": {
          "color": {
           "dtype": "i2",
           "bdata": "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"
          },
          "coloraxis": "coloraxis",
          "symbol": "circle",
          "size": 10
         },
         "mode": "markers",
         "name": "",
         "showlegend": false,
         "x": {
          "dtype": "f4",
          "bdata": "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"
         },
         "xaxis": "x",
         "y": {
          "dtype": "f4",
          "bdata": "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"
         },
         "yaxis": "y",
         "type": "scattergl"
        }
       ],
       "layout": {
        "template": {
         "data": {
          "histogram2dcontour": [
           {
            "type": "histogram2dcontour",
            "colorbar": {
             "outlinewidth": 0,
             "ticks": ""
            },
            "colorscale": [
             [
              0.0,
              "#0d0887"
             ],
             [
              0.1111111111111111,
              "#46039f"
             ],
             [
              0.2222222222222222,
              "#7201a8"
             ],
             [
              0.3333333333333333,
              "#9c179e"
             ],
             [
              0.4444444444444444,
              "#bd3786"
             ],
             [
              0.5555555555555556,
              "#d8576b"
             ],
             [
              0.6666666666666666,
              "#ed7953"
             ],
             [
              0.7777777777777778,
              "#fb9f3a"
             ],
             [
              0.8888888888888888,
              "#fdca26"
             ],
             [
              1.0,
              "#f0f921"
             ]
            ]
           }
          ],
          "choropleth": [
           {
            "type": "choropleth",
            "colorbar": {
             "outlinewidth": 0,
             "ticks": ""
            }
           }
          ],
          "histogram2d": [
           {
            "type": "histogram2d",
            "colorbar": {
             "outlinewidth": 0,
             "ticks": ""
            },
            "colorscale": [
             [
              0.0,
              "#0d0887"
             ],
             [
              0.1111111111111111,
              "#46039f"
             ],
             [
              0.2222222222222222,
              "#7201a8"
             ],
             [
              0.3333333333333333,
              "#9c179e"
             ],
             [
              0.4444444444444444,
              "#bd3786"
             ],
             [
              0.5555555555555556,
              "#d8576b"
             ],
             [
              0.6666666666666666,
              "#ed7953"
             ],
             [
              0.7777777777777778,
              "#fb9f3a"
             ],
             [
              0.8888888888888888,
              "#fdca26"
             ],
             [
              1.0,
              "#f0f921"
             ]
            ]
           }
          ],
          "heatmap": [
           {
            "type": "heatmap",
            "colorbar": {
             "outlinewidth": 0,
             "ticks": ""
            },
            "colorscale": [
             [
              0.0,
              "#0d0887"
             ],
             [
              0.1111111111111111,
              "#46039f"
             ],
             [
              0.2222222222222222,
              "#7201a8"
             ],
             [
              0.3333333333333333,
              "#9c179e"
             ],
             [
              0.4444444444444444,
              "#bd3786"
             ],
             [
              0.5555555555555556,
              "#d8576b"
             ],
             [
              0.6666666666666666,
              "#ed7953"
             ],
             [
              0.7777777777777778,
              "#fb9f3a"
             ],
             [
              0.8888888888888888,
              "#fdca26"
             ],
             [
              1.0,
              "#f0f921"
             ]
            ]
           }
          ],
          "contourcarpet": [
           {
            "type": "contourcarpet",
            "colorbar": {
             "outlinewidth": 0,
             "ticks": ""
            }
           }
          ],
          "contour": [
           {
            "type": "contour",
            "colorbar": {
             "outlinewidth": 0,
             "ticks": ""
            },
            "colorscale": [
             [
              0.0,
              "#0d0887"
             ],
             [
              0.1111111111111111,
              "#46039f"
             ],
             [
              0.2222222222222222,
              "#7201a8"
             ],
             [
              0.3333333333333333,
              "#9c179e"
             ],
             [
              0.4444444444444444,
              "#bd3786"
             ],
             [
              0.5555555555555556,
              "#d8576b"
             ],
             [
              0.6666666666666666,
              "#ed7953"
             ],
             [
              0.7777777777777778,
              "#fb9f3a"
             ],
             [
              0.8888888888888888,
              "#fdca26"
             ],
             [
              1.0,
              "#f0f921"
             ]
            ]
           }
          ],
          "surface": [
           {
            "type": "surface",
            "colorbar": {
             "outlinewidth": 0,
             "ticks": ""
            },
            "colorscale": [
             [
              0.0,
              "#0d0887"
             ],
             [
              0.1111111111111111,
              "#46039f"
             ],
             [
              0.2222222222222222,
              "#7201a8"
             ],
             [
              0.3333333333333333,
              "#9c179e"
             ],
             [
              0.4444444444444444,
              "#bd3786"
             ],
             [
              0.5555555555555556,
              "#d8576b"
             ],
             [
              0.6666666666666666,
              "#ed7953"
             ],
             [
              0.7777777777777778,
              "#fb9f3a"
             ],
             [
              0.8888888888888888,
              "#fdca26"
             ],
             [
              1.0,
              "#f0f921"
             ]
            ]
           }
          ],
          "mesh3d": [
           {
            "type": "mesh3d",
            "colorbar": {
             "outlinewidth": 0,
             "ticks": ""
            }
           }
          ],
          "scatter": [
           {
            "marker": {
             "line": {
              "color": "#283442"
             }
            },
            "type": "scatter"
           }
          ],
          "parcoords": [
           {
            "type": "parcoords",
            "line": {
             "colorbar": {
              "outlinewidth": 0,
              "ticks": ""
             }
            }
           }
          ],
          "scatterpolargl": [
           {
            "type": "scatterpolargl",
            "marker": {
             "colorbar": {
              "outlinewidth": 0,
              "ticks": ""
             }
            }
           }
          ],
          "bar": [
           {
            "error_x": {
             "color": "#f2f5fa"
            },
            "error_y": {
             "color": "#f2f5fa"
            },
            "marker": {
             "line": {
              "color": "rgb(17,17,17)",
              "width": 0.5
             },
             "pattern": {
              "fillmode": "overlay",
              "size": 10,
              "solidity": 0.2
             }
            },
            "type": "bar"
           }
          ],
          "scattergeo": [
           {
            "type": "scattergeo",
            "marker": {
             "colorbar": {
              "outlinewidth": 0,
              "ticks": ""
             }
            }
           }
          ],
          "scatterpolar": [
           {
            "type": "scatterpolar",
            "marker": {
             "colorbar": {
              "outlinewidth": 0,
              "ticks": ""
             }
            }
           }
          ],
          "histogram": [
           {
            "marker": {
             "pattern": {
              "fillmode": "overlay",
              "size": 10,
              "solidity": 0.2
             }
            },
            "type": "histogram"
           }
          ],
          "scattergl": [
           {
            "marker": {
             "line": {
              "color": "#283442"
             }
            },
            "type": "scattergl"
           }
          ],
          "scatter3d": [
           {
            "type": "scatter3d",
            "line": {
             "colorbar": {
              "outlinewidth": 0,
              "ticks": ""
             }
            },
            "marker": {
             "colorbar": {
              "outlinewidth": 0,
              "ticks": ""
             }
            }
           }
          ],
          "scattermap": [
           {
            "type": "scattermap",
            "marker": {
             "colorbar": {
              "outlinewidth": 0,
              "ticks": ""
             }
            }
           }
          ],
          "scattermapbox": [
           {
            "type": "scattermapbox",
            "marker": {
             "colorbar": {
              "outlinewidth": 0,
              "ticks": ""
             }
            }
           }
          ],
          "scatterternary": [
           {
            "type": "scatterternary",
            "marker": {
             "colorbar": {
              "outlinewidth": 0,
              "ticks": ""
             }
            }
           }
          ],
          "scattercarpet": [
           {
            "type": "scattercarpet",
            "marker": {
             "colorbar": {
              "outlinewidth": 0,
              "ticks": ""
             }
            }
           }
          ],
          "carpet": [
           {
            "aaxis": {
             "endlinecolor": "#A2B1C6",
             "gridcolor": "#506784",
             "linecolor": "#506784",
             "minorgridcolor": "#506784",
             "startlinecolor": "#A2B1C6"
            },
            "baxis": {
             "endlinecolor": "#A2B1C6",
             "gridcolor": "#506784",
             "linecolor": "#506784",
             "minorgridcolor": "#506784",
             "startlinecolor": "#A2B1C6"
            },
            "type": "carpet"
           }
          ],
          "table": [
           {
            "cells": {
             "fill": {
              "color": "#506784"
             },
             "line": {
              "color": "rgb(17,17,17)"
             }
            },
            "header": {
             "fill": {
              "color": "#2a3f5f"
             },
             "line": {
              "color": "rgb(17,17,17)"
             }
            },
            "type": "table"
           }
          ],
          "barpolar": [
           {
            "marker": {
             "line": {
              "color": "rgb(17,17,17)",
              "width": 0.5
             },
             "pattern": {
              "fillmode": "overlay",
              "size": 10,
              "solidity": 0.2
             }
            },
            "type": "barpolar"
           }
          ],
          "pie": [
           {
            "automargin": true,
            "type": "pie"
           }
          ]
         },
         "layout": {
          "autotypenumbers": "strict",
          "colorway": [
           "#636efa",
           "#EF553B",
           "#00cc96",
           "#ab63fa",
           "#FFA15A",
           "#19d3f3",
           "#FF6692",
           "#B6E880",
           "#FF97FF",
           "#FECB52"
          ],
          "font": {
           "color": "#f2f5fa"
          },
          "hovermode": "closest",
          "hoverlabel": {
           "align": "left"
          },
          "paper_bgcolor": "rgb(17,17,17)",
          "plot_bgcolor": "rgb(17,17,17)",
          "polar": {
           "bgcolor": "rgb(17,17,17)",
           "angularaxis": {
            "gridcolor": "#506784",
            "linecolor": "#506784",
            "ticks": ""
           },
           "radialaxis": {
            "gridcolor": "#506784",
            "linecolor": "#506784",
            "ticks": ""
           }
          },
          "ternary": {
           "bgcolor": "rgb(17,17,17)",
           "aaxis": {
            "gridcolor": "#506784",
            "linecolor": "#506784",
            "ticks": ""
           },
           "baxis": {
            "gridcolor": "#506784",
            "linecolor": "#506784",
            "ticks": ""
           },
           "caxis": {
            "gridcolor": "#506784",
            "linecolor": "#506784",
            "ticks": ""
           }
          },
          "coloraxis": {
           "colorbar": {
            "outlinewidth": 0,
            "ticks": ""
           }
          },
          "colorscale": {
           "sequential": [
            [
             0.0,
             "#0d0887"
            ],
            [
             0.1111111111111111,
             "#46039f"
            ],
            [
             0.2222222222222222,
             "#7201a8"
            ],
            [
             0.3333333333333333,
             "#9c179e"
            ],
            [
             0.4444444444444444,
             "#bd3786"
            ],
            [
             0.5555555555555556,
             "#d8576b"
            ],
            [
             0.6666666666666666,
             "#ed7953"
            ],
            [
             0.7777777777777778,
             "#fb9f3a"
            ],
            [
             0.8888888888888888,
             "#fdca26"
            ],
            [
             1.0,
             "#f0f921"
            ]
           ],
           "sequentialminus": [
            [
             0.0,
             "#0d0887"
            ],
            [
             0.1111111111111111,
             "#46039f"
            ],
            [
             0.2222222222222222,
             "#7201a8"
            ],
            [
             0.3333333333333333,
             "#9c179e"
            ],
            [
             0.4444444444444444,
             "#bd3786"
            ],
            [
             0.5555555555555556,
             "#d8576b"
            ],
            [
             0.6666666666666666,
             "#ed7953"
            ],
            [
             0.7777777777777778,
             "#fb9f3a"
            ],
            [
             0.8888888888888888,
             "#fdca26"
            ],
            [
             1.0,
             "#f0f921"
            ]
           ],
           "diverging": [
            [
             0,
             "#8e0152"
            ],
            [
             0.1,
             "#c51b7d"
            ],
            [
             0.2,
             "#de77ae"
            ],
            [
             0.3,
             "#f1b6da"
            ],
            [
             0.4,
             "#fde0ef"
            ],
            [
             0.5,
             "#f7f7f7"
            ],
            [
             0.6,
             "#e6f5d0"
            ],
            [
             0.7,
             "#b8e186"
            ],
            [
             0.8,
             "#7fbc41"
            ],
            [
             0.9,
             "#4d9221"
            ],
            [
             1,
             "#276419"
            ]
           ]
          },
          "xaxis": {
           "gridcolor": "#283442",
           "linecolor": "#506784",
           "ticks": "",
           "title": {
            "standoff": 15
           },
           "zerolinecolor": "#283442",
           "automargin": true,
           "zerolinewidth": 2
          },
          "yaxis": {
           "gridcolor": "#283442",
           "linecolor": "#506784",
           "ticks": "",
           "title": {
            "standoff": 15
           },
           "zerolinecolor": "#283442",
           "automargin": true,
           "zerolinewidth": 2
          },
          "scene": {
           "xaxis": {
            "backgroundcolor": "rgb(17,17,17)",
            "gridcolor": "#506784",
            "linecolor": "#506784",
            "showbackground": true,
            "ticks": "",
            "zerolinecolor": "#C8D4E3",
            "gridwidth": 2
           },
           "yaxis": {
            "backgroundcolor": "rgb(17,17,17)",
            "gridcolor": "#506784",
            "linecolor": "#506784",
            "showbackground": true,
            "ticks": "",
            "zerolinecolor": "#C8D4E3",
            "gridwidth": 2
           },
           "zaxis": {
            "backgroundcolor": "rgb(17,17,17)",
            "gridcolor": "#506784",
            "linecolor": "#506784",
            "showbackground": true,
            "ticks": "",
            "zerolinecolor": "#C8D4E3",
            "gridwidth": 2
           }
          },
          "shapedefaults": {
           "line": {
            "color": "#f2f5fa"
           }
          },
          "annotationdefaults": {
           "arrowcolor": "#f2f5fa",
           "arrowhead": 0,
           "arrowwidth": 1
          },
          "geo": {
           "bgcolor": "rgb(17,17,17)",
           "landcolor": "rgb(17,17,17)",
           "subunitcolor": "#506784",
           "showland": true,
           "showlakes": true,
           "lakecolor": "rgb(17,17,17)"
          },
          "title": {
           "x": 0.05
          },
          "updatemenudefaults": {
           "bgcolor": "#506784",
           "borderwidth": 0
          },
          "sliderdefaults": {
           "bgcolor": "#C8D4E3",
           "borderwidth": 1,
           "bordercolor": "rgb(17,17,17)",
           "tickwidth": 0
          },
          "mapbox": {
           "style": "dark"
          }
         }
        },
        "xaxis": {
         "anchor": "y",
         "domain": [
          0.0,
          1.0
         ],
         "title": {
          "text": "X"
         }
        },
        "yaxis": {
         "anchor": "x",
         "domain": [
          0.0,
          1.0
         ],
         "title": {
          "text": "Y"
         }
        },
        "coloraxis": {
         "colorbar": {
          "title": {
           "text": "topic"
          }
         },
         "colorscale": [
          [
           0.0,
           "#440154"
          ],
          [
           0.1111111111111111,
           "#482878"
          ],
          [
           0.2222222222222222,
           "#3e4989"
          ],
          [
           0.3333333333333333,
           "#31688e"
          ],
          [
           0.4444444444444444,
           "#26828e"
          ],
          [
           0.5555555555555556,
           "#1f9e89"
          ],
          [
           0.6666666666666666,
           "#35b779"
          ],
          [
           0.7777777777777778,
           "#6ece58"
          ],
          [
           0.8888888888888888,
           "#b5de2b"
          ],
          [
           1.0,
           "#fde725"
          ]
         ]
        },
        "legend": {
         "tracegroupgap": 0
        },
        "title": {
         "text": "2D Clusters Colored by Topic"
        },
        "width": 1400,
        "height": 1200,
        "plot_bgcolor": "white"
       },
       "config": {
        "plotlyServerURL": "https://plot.ly"
       }
      }
     },
     "metadata": {},
     "output_type": "display_data"
    }
   ],
   "execution_count": 50
  },
  {
   "metadata": {
    "ExecuteTime": {
     "end_time": "2025-07-15T05:07:14.386309Z",
     "start_time": "2025-07-15T05:07:14.376714Z"
    }
   },
   "cell_type": "code",
   "source": "embeds_with_topics.head(20)",
   "id": "4b87e726858c8a78",
   "outputs": [
    {
     "data": {
      "text/plain": [
       "      qid                                           question  topic  \\\n",
       "0   00428                          题目:这个标志是何含义？ 答案:禁止直行和向右转弯    100   \n",
       "1   00624                           题目:这个标志是何含义？ 答案:十字交叉路口预告    124   \n",
       "2   0079e                        题目:这个标志是何含义？ 答案:会车时停车让对方车先行    100   \n",
       "3   008da                 题目:谨慎驾驶的三个原则是集中注意力、仔细观察和提前预防。 答案:对    126   \n",
       "4   0092c                 题目:在这条公路上行驶的最高速度不能超过多少？ 答案:40公里/小时    142   \n",
       "5   0146a                    题目:驾驶机动车在雾天行车开启雾灯和危险报警闪光灯。 答案:对     48   \n",
       "6   019e1                   题目:驾驶机动车在路口遇到这种信号灯亮时，不能右转弯。 答案:错    136   \n",
       "7   01e32                       题目:灯光开关旋转到这个位置时，全车灯光点亮。 答案:错     23   \n",
       "8   01ea3                       题目:如图所示，这辆小轿车不能在这个位置停车。 答案:对    118   \n",
       "9   01fdd                    题目:汽车列车在转弯过程中，要注意提前做好让车准备。 答案:对      3   \n",
       "10  023c2                          题目:汽车列车的车身越长，转弯半径越小。 答案:错      3   \n",
       "11  02567   题目:机动车驾驶人造成事故后逃逸构成犯罪的，吊销驾驶证且多长时间不得重新取得驾驶证？ 答案:终生     82   \n",
       "12  029f4               题目:机动车仪表板上如图所示指示灯亮时表示什么？ 答案:已开启前照灯远光     39   \n",
       "13  029f7                    题目:这个路面标记是何含义？ 答案:最高限速为100公里/小时    101   \n",
       "14  02d0b            题目:驾驶机动车在道路上靠路边停车过程中如何使用灯光？ 答案:提前开启右转向灯    126   \n",
       "15  02d55  题目:机动车驾驶人初次取得汽车类准驾车型或者初次取得摩托车类准驾车型后的多长时间为实习期？ ...    146   \n",
       "16  02dec           题目:驾驶机动车在道路上违反道路交通安全法的行为，属于什么行为？ 答案:违法行为     82   \n",
       "17  02e80            题目:如图所示，驾驶机动车驶出这个路口时应当怎样使用灯光? 答案:开启右转向灯     57   \n",
       "18  02f95                题目:机动车仪表板上如图所示指示灯亮表示什么？ 答案:左转向指示灯闪烁     15   \n",
       "19  03074                       题目:下列哪个标志提示驾驶人下陡坡？ 答案:如图中D所示    116   \n",
       "\n",
       "            0          1  \n",
       "0    7.499687  -4.585305  \n",
       "1    6.762934  -1.283506  \n",
       "2    7.482961  -4.264588  \n",
       "3    0.403703   4.953165  \n",
       "4   17.299940   3.796474  \n",
       "5    0.400715   6.128050  \n",
       "6   17.949568   4.487716  \n",
       "7   20.486418   8.022362  \n",
       "8   17.592196   1.434911  \n",
       "9    5.004407  18.138884  \n",
       "10   5.004646  18.155771  \n",
       "11  -2.029424  13.783807  \n",
       "12  11.288098   4.928954  \n",
       "13   7.240214  -3.659975  \n",
       "14  -0.061770   5.465846  \n",
       "15  -0.418246   9.351442  \n",
       "16  -1.939247  14.050080  \n",
       "17  16.802494   1.078727  \n",
       "18   9.917698   4.721661  \n",
       "19  11.915952  -2.718073  "
      ],
      "text/html": [
       "<div>\n",
       "<style scoped>\n",
       "    .dataframe tbody tr th:only-of-type {\n",
       "        vertical-align: middle;\n",
       "    }\n",
       "\n",
       "    .dataframe tbody tr th {\n",
       "        vertical-align: top;\n",
       "    }\n",
       "\n",
       "    .dataframe thead th {\n",
       "        text-align: right;\n",
       "    }\n",
       "</style>\n",
       "<table border=\"1\" class=\"dataframe\">\n",
       "  <thead>\n",
       "    <tr style=\"text-align: right;\">\n",
       "      <th></th>\n",
       "      <th>qid</th>\n",
       "      <th>question</th>\n",
       "      <th>topic</th>\n",
       "      <th>0</th>\n",
       "      <th>1</th>\n",
       "    </tr>\n",
       "  </thead>\n",
       "  <tbody>\n",
       "    <tr>\n",
       "      <th>0</th>\n",
       "      <td>00428</td>\n",
       "      <td>题目:这个标志是何含义？ 答案:禁止直行和向右转弯</td>\n",
       "      <td>100</td>\n",
       "      <td>7.499687</td>\n",
       "      <td>-4.585305</td>\n",
       "    </tr>\n",
       "    <tr>\n",
       "      <th>1</th>\n",
       "      <td>00624</td>\n",
       "      <td>题目:这个标志是何含义？ 答案:十字交叉路口预告</td>\n",
       "      <td>124</td>\n",
       "      <td>6.762934</td>\n",
       "      <td>-1.283506</td>\n",
       "    </tr>\n",
       "    <tr>\n",
       "      <th>2</th>\n",
       "      <td>0079e</td>\n",
       "      <td>题目:这个标志是何含义？ 答案:会车时停车让对方车先行</td>\n",
       "      <td>100</td>\n",
       "      <td>7.482961</td>\n",
       "      <td>-4.264588</td>\n",
       "    </tr>\n",
       "    <tr>\n",
       "      <th>3</th>\n",
       "      <td>008da</td>\n",
       "      <td>题目:谨慎驾驶的三个原则是集中注意力、仔细观察和提前预防。 答案:对</td>\n",
       "      <td>126</td>\n",
       "      <td>0.403703</td>\n",
       "      <td>4.953165</td>\n",
       "    </tr>\n",
       "    <tr>\n",
       "      <th>4</th>\n",
       "      <td>0092c</td>\n",
       "      <td>题目:在这条公路上行驶的最高速度不能超过多少？ 答案:40公里/小时</td>\n",
       "      <td>142</td>\n",
       "      <td>17.299940</td>\n",
       "      <td>3.796474</td>\n",
       "    </tr>\n",
       "    <tr>\n",
       "      <th>5</th>\n",
       "      <td>0146a</td>\n",
       "      <td>题目:驾驶机动车在雾天行车开启雾灯和危险报警闪光灯。 答案:对</td>\n",
       "      <td>48</td>\n",
       "      <td>0.400715</td>\n",
       "      <td>6.128050</td>\n",
       "    </tr>\n",
       "    <tr>\n",
       "      <th>6</th>\n",
       "      <td>019e1</td>\n",
       "      <td>题目:驾驶机动车在路口遇到这种信号灯亮时，不能右转弯。 答案:错</td>\n",
       "      <td>136</td>\n",
       "      <td>17.949568</td>\n",
       "      <td>4.487716</td>\n",
       "    </tr>\n",
       "    <tr>\n",
       "      <th>7</th>\n",
       "      <td>01e32</td>\n",
       "      <td>题目:灯光开关旋转到这个位置时，全车灯光点亮。 答案:错</td>\n",
       "      <td>23</td>\n",
       "      <td>20.486418</td>\n",
       "      <td>8.022362</td>\n",
       "    </tr>\n",
       "    <tr>\n",
       "      <th>8</th>\n",
       "      <td>01ea3</td>\n",
       "      <td>题目:如图所示，这辆小轿车不能在这个位置停车。 答案:对</td>\n",
       "      <td>118</td>\n",
       "      <td>17.592196</td>\n",
       "      <td>1.434911</td>\n",
       "    </tr>\n",
       "    <tr>\n",
       "      <th>9</th>\n",
       "      <td>01fdd</td>\n",
       "      <td>题目:汽车列车在转弯过程中，要注意提前做好让车准备。 答案:对</td>\n",
       "      <td>3</td>\n",
       "      <td>5.004407</td>\n",
       "      <td>18.138884</td>\n",
       "    </tr>\n",
       "    <tr>\n",
       "      <th>10</th>\n",
       "      <td>023c2</td>\n",
       "      <td>题目:汽车列车的车身越长，转弯半径越小。 答案:错</td>\n",
       "      <td>3</td>\n",
       "      <td>5.004646</td>\n",
       "      <td>18.155771</td>\n",
       "    </tr>\n",
       "    <tr>\n",
       "      <th>11</th>\n",
       "      <td>02567</td>\n",
       "      <td>题目:机动车驾驶人造成事故后逃逸构成犯罪的，吊销驾驶证且多长时间不得重新取得驾驶证？ 答案:终生</td>\n",
       "      <td>82</td>\n",
       "      <td>-2.029424</td>\n",
       "      <td>13.783807</td>\n",
       "    </tr>\n",
       "    <tr>\n",
       "      <th>12</th>\n",
       "      <td>029f4</td>\n",
       "      <td>题目:机动车仪表板上如图所示指示灯亮时表示什么？ 答案:已开启前照灯远光</td>\n",
       "      <td>39</td>\n",
       "      <td>11.288098</td>\n",
       "      <td>4.928954</td>\n",
       "    </tr>\n",
       "    <tr>\n",
       "      <th>13</th>\n",
       "      <td>029f7</td>\n",
       "      <td>题目:这个路面标记是何含义？ 答案:最高限速为100公里/小时</td>\n",
       "      <td>101</td>\n",
       "      <td>7.240214</td>\n",
       "      <td>-3.659975</td>\n",
       "    </tr>\n",
       "    <tr>\n",
       "      <th>14</th>\n",
       "      <td>02d0b</td>\n",
       "      <td>题目:驾驶机动车在道路上靠路边停车过程中如何使用灯光？ 答案:提前开启右转向灯</td>\n",
       "      <td>126</td>\n",
       "      <td>-0.061770</td>\n",
       "      <td>5.465846</td>\n",
       "    </tr>\n",
       "    <tr>\n",
       "      <th>15</th>\n",
       "      <td>02d55</td>\n",
       "      <td>题目:机动车驾驶人初次取得汽车类准驾车型或者初次取得摩托车类准驾车型后的多长时间为实习期？ ...</td>\n",
       "      <td>146</td>\n",
       "      <td>-0.418246</td>\n",
       "      <td>9.351442</td>\n",
       "    </tr>\n",
       "    <tr>\n",
       "      <th>16</th>\n",
       "      <td>02dec</td>\n",
       "      <td>题目:驾驶机动车在道路上违反道路交通安全法的行为，属于什么行为？ 答案:违法行为</td>\n",
       "      <td>82</td>\n",
       "      <td>-1.939247</td>\n",
       "      <td>14.050080</td>\n",
       "    </tr>\n",
       "    <tr>\n",
       "      <th>17</th>\n",
       "      <td>02e80</td>\n",
       "      <td>题目:如图所示，驾驶机动车驶出这个路口时应当怎样使用灯光? 答案:开启右转向灯</td>\n",
       "      <td>57</td>\n",
       "      <td>16.802494</td>\n",
       "      <td>1.078727</td>\n",
       "    </tr>\n",
       "    <tr>\n",
       "      <th>18</th>\n",
       "      <td>02f95</td>\n",
       "      <td>题目:机动车仪表板上如图所示指示灯亮表示什么？ 答案:左转向指示灯闪烁</td>\n",
       "      <td>15</td>\n",
       "      <td>9.917698</td>\n",
       "      <td>4.721661</td>\n",
       "    </tr>\n",
       "    <tr>\n",
       "      <th>19</th>\n",
       "      <td>03074</td>\n",
       "      <td>题目:下列哪个标志提示驾驶人下陡坡？ 答案:如图中D所示</td>\n",
       "      <td>116</td>\n",
       "      <td>11.915952</td>\n",
       "      <td>-2.718073</td>\n",
       "    </tr>\n",
       "  </tbody>\n",
       "</table>\n",
       "</div>"
      ]
     },
     "execution_count": 51,
     "metadata": {},
     "output_type": "execute_result"
    }
   ],
   "execution_count": 51
  },
  {
   "metadata": {
    "ExecuteTime": {
     "end_time": "2025-07-15T05:07:20.827020Z",
     "start_time": "2025-07-15T05:07:20.824150Z"
    }
   },
   "cell_type": "code",
   "source": "",
   "id": "c4b04d52a77a15a",
   "outputs": [],
   "execution_count": null
  }
 ],
 "metadata": {
  "kernelspec": {
   "display_name": "drivetest_tag_gen",
   "language": "python",
   "name": "drivetest_tag_gen"
  },
  "language_info": {
   "codemirror_mode": {
    "name": "ipython",
    "version": 3
   },
   "file_extension": ".py",
   "mimetype": "text/x-python",
   "name": "python",
   "nbconvert_exporter": "python",
   "pygments_lexer": "ipython3",
   "version": "3.13.5"
  }
 },
 "nbformat": 4,
 "nbformat_minor": 5
}
