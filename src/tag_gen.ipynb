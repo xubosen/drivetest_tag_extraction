{
 "cells": [
  {
   "cell_type": "markdown",
   "id": "3b0af83a-da80-46b9-a0a8-4e70a3399c00",
   "metadata": {},
   "source": [
    "# Drive Test Tag Generation\n",
    "Generate tags for the written portion of the chinese driving exam using a process similar to BERTopic."
   ]
  },
  {
   "cell_type": "markdown",
   "id": "d2bf9df9-a4e7-4134-9652-6a522acf2189",
   "metadata": {},
   "source": [
    "## 1. Load Data\n",
    "Loading data from a local database into a question bank class."
   ]
  },
  {
   "metadata": {
    "ExecuteTime": {
     "end_time": "2025-07-14T12:37:16.715665Z",
     "start_time": "2025-07-14T12:37:16.707565Z"
    }
   },
   "cell_type": "code",
   "source": [
    "from src.qb.question_bank import QuestionBank\n",
    "from data_storage.database.json_database import LocalJsonDB"
   ],
   "id": "a9b70a7d29109633",
   "outputs": [],
   "execution_count": 1
  },
  {
   "cell_type": "code",
   "id": "76b55877-b5f6-4901-841d-4187a9511e0d",
   "metadata": {
    "ExecuteTime": {
     "end_time": "2025-07-14T12:37:16.995057Z",
     "start_time": "2025-07-14T12:37:16.793579Z"
    }
   },
   "source": [
    "db = LocalJsonDB(\"data_storage/database/json_db/data.json\",\n",
    "                 \"data_storage/database/json_db/images\")\n",
    "qb : QuestionBank = db.load()\n",
    "print(qb.question_count())"
   ],
   "outputs": [
    {
     "name": "stdout",
     "output_type": "stream",
     "text": [
      "2836\n"
     ]
    }
   ],
   "execution_count": 2
  },
  {
   "metadata": {},
   "cell_type": "markdown",
   "source": [
    "## 2. Format Data\n",
    "Although the Siglip2 model can handle images of different sizes, we will still standardize the image sizes to the same size to avoid unnecessary complications."
   ],
   "id": "7eebd6332bc9e58e"
  },
  {
   "metadata": {
    "ExecuteTime": {
     "end_time": "2025-07-14T12:37:17.200045Z",
     "start_time": "2025-07-14T12:37:17.147099Z"
    }
   },
   "cell_type": "code",
   "source": "from data_cleaning.img_reshaper import ImgSquarer",
   "id": "2a7bdf10bb9554ea",
   "outputs": [],
   "execution_count": 3
  },
  {
   "metadata": {
    "ExecuteTime": {
     "end_time": "2025-07-14T12:37:17.452365Z",
     "start_time": "2025-07-14T12:37:17.448841Z"
    }
   },
   "cell_type": "code",
   "source": [
    "IMG_DIR_256 = \"data_cleaning/resized_imgs/img256\"\n",
    "squarer_256 = ImgSquarer(256)"
   ],
   "id": "5d1b4ef6948dbabb",
   "outputs": [],
   "execution_count": 4
  },
  {
   "metadata": {
    "ExecuteTime": {
     "end_time": "2025-07-14T12:37:17.726740Z",
     "start_time": "2025-07-14T12:37:17.722614Z"
    }
   },
   "cell_type": "code",
   "source": [
    "def resize_images(qb: QuestionBank, squarer: ImgSquarer, new_dir: str) -> None:\n",
    "    for chapter_id in qb.get_all_chapter_num():\n",
    "        for qid in qb.get_qids_by_chapter(chapter_id):\n",
    "            question = qb.get_question(qid)\n",
    "            if question.get_img_path() is not None:\n",
    "                question.set_img_path(squarer.reshape(qid, qb.get_img_dir(), new_dir))"
   ],
   "id": "5e52674cb6084790",
   "outputs": [],
   "execution_count": 5
  },
  {
   "metadata": {
    "ExecuteTime": {
     "end_time": "2025-07-14T12:37:17.858325Z",
     "start_time": "2025-07-14T12:37:17.855795Z"
    }
   },
   "cell_type": "code",
   "source": "import os",
   "id": "710dd459b356977b",
   "outputs": [],
   "execution_count": 6
  },
  {
   "metadata": {
    "ExecuteTime": {
     "end_time": "2025-07-14T12:37:17.996581Z",
     "start_time": "2025-07-14T12:37:17.982767Z"
    }
   },
   "cell_type": "code",
   "source": [
    "# If the directory is empty, resize images.\n",
    "if not os.listdir(IMG_DIR_256):\n",
    "    print(\"Resizing images to 256x256...\")\n",
    "    resize_images(qb, squarer_256, IMG_DIR_256)\n",
    "else:\n",
    "    print(\"Images already resized to 256x256, skipping...\")"
   ],
   "id": "b4e6d53a53651c93",
   "outputs": [
    {
     "name": "stdout",
     "output_type": "stream",
     "text": [
      "Images already resized to 256x256, skipping...\n"
     ]
    }
   ],
   "execution_count": 7
  },
  {
   "metadata": {},
   "cell_type": "markdown",
   "source": [
    "## 3. Create Multimodal Embeddings\n",
    "Create multimodal embeddings for the questions using a Siglip2 model."
   ],
   "id": "9107061d51b64c55"
  },
  {
   "metadata": {
    "ExecuteTime": {
     "end_time": "2025-07-14T12:37:26.464508Z",
     "start_time": "2025-07-14T12:37:18.086097Z"
    }
   },
   "cell_type": "code",
   "source": [
    "# Library Imports\n",
    "from transformers import AutoModel, AutoProcessor\n",
    "\n",
    "# Local Imports\n",
    "from embedder.siglip2_qb_embedder import Siglip2QBEmbedder"
   ],
   "id": "21c02234f40c68ef",
   "outputs": [],
   "execution_count": 8
  },
  {
   "metadata": {},
   "cell_type": "markdown",
   "source": [
    "### a) Load/Download the Siglip2 Model\n",
    "We will be using \"google/siglip2-base-patch16-256\" for this task."
   ],
   "id": "1aec01c979cca317"
  },
  {
   "metadata": {
    "ExecuteTime": {
     "end_time": "2025-07-14T12:37:26.513931Z",
     "start_time": "2025-07-14T12:37:26.504678Z"
    }
   },
   "cell_type": "code",
   "source": "import torch",
   "id": "e7936f11c52f6e3e",
   "outputs": [],
   "execution_count": 9
  },
  {
   "metadata": {
    "ExecuteTime": {
     "end_time": "2025-07-14T12:37:37.124294Z",
     "start_time": "2025-07-14T12:37:26.583805Z"
    }
   },
   "cell_type": "code",
   "source": [
    "MODEL_NAME = \"google/siglip2-base-patch16-256\"\n",
    "model = AutoModel.from_pretrained(MODEL_NAME, torch_dtype=torch.float32, attn_implementation=\"sdpa\")\n",
    "processor = AutoProcessor.from_pretrained(MODEL_NAME, use_fast=True)"
   ],
   "id": "801a62831dd141bf",
   "outputs": [],
   "execution_count": 10
  },
  {
   "metadata": {},
   "cell_type": "markdown",
   "source": "### b) Create embeddings",
   "id": "68e3e08cc3a642eb"
  },
  {
   "metadata": {},
   "cell_type": "markdown",
   "source": "#### i) Define a logger",
   "id": "601cfc0d981abcf1"
  },
  {
   "metadata": {
    "ExecuteTime": {
     "end_time": "2025-07-14T12:37:38.989722Z",
     "start_time": "2025-07-14T12:37:38.983785Z"
    }
   },
   "cell_type": "code",
   "source": [
    "import logging\n",
    "from logging import Logger\n",
    "from datetime import datetime\n",
    "\n",
    "LOGGING_PATH = \"logs\"\n",
    "\n",
    "def get_logger(name: str) -> Logger:\n",
    "    # Create logger\n",
    "    logger = logging.getLogger(name)\n",
    "    logger.setLevel(logging.INFO) # Set the logging level\n",
    "\n",
    "    # Create a file handler with timestamp in filename\n",
    "    timestamp = datetime.now().strftime(\"%Y%m%d_%H%M\")\n",
    "    file_handler = logging.FileHandler(\n",
    "        os.path.join(LOGGING_PATH, f\"{name}_{timestamp}.log\")\n",
    "    )\n",
    "\n",
    "    # Create formatter\n",
    "    formatter = logging.Formatter(\n",
    "        '%(asctime)s - %(name)s - %(levelname)s - %(message)s'\n",
    "    )\n",
    "    file_handler.setFormatter(formatter)\n",
    "\n",
    "    # Add handler to logger\n",
    "    logger.addHandler(file_handler)\n",
    "\n",
    "    return logger\n",
    "\n",
    "embedder_logger = get_logger(\"embedder\")"
   ],
   "id": "c3d92e8a645cba3a",
   "outputs": [],
   "execution_count": 11
  },
  {
   "metadata": {},
   "cell_type": "markdown",
   "source": "#### ii) Create the embedder",
   "id": "3b4d7e4f38ef5344"
  },
  {
   "metadata": {
    "ExecuteTime": {
     "end_time": "2025-07-14T12:37:40.942777Z",
     "start_time": "2025-07-14T12:37:40.938941Z"
    }
   },
   "cell_type": "code",
   "source": "custom_embedder = Siglip2QBEmbedder(model, processor, embedder_logger)",
   "id": "7b3276b9dc473fd6",
   "outputs": [],
   "execution_count": 12
  },
  {
   "metadata": {},
   "cell_type": "markdown",
   "source": "#### iii) Generate embeddings",
   "id": "a6c1d319ac524873"
  },
  {
   "metadata": {
    "ExecuteTime": {
     "end_time": "2025-07-14T12:37:42.889516Z",
     "start_time": "2025-07-14T12:37:42.886634Z"
    }
   },
   "cell_type": "code",
   "source": "import numpy as np",
   "id": "3223e1f5b6d0482f",
   "outputs": [],
   "execution_count": 13
  },
  {
   "metadata": {
    "ExecuteTime": {
     "end_time": "2025-07-14T12:37:44.879187Z",
     "start_time": "2025-07-14T12:37:44.876186Z"
    }
   },
   "cell_type": "code",
   "source": [
    "def save_embeddings(embeddings, file_path):\n",
    "    np.savez(file_path, **{str(qid): embeddings[qid] for qid in embeddings})"
   ],
   "id": "fa0458e4d525756a",
   "outputs": [],
   "execution_count": 14
  },
  {
   "metadata": {
    "ExecuteTime": {
     "end_time": "2025-07-14T12:56:37.420275Z",
     "start_time": "2025-07-14T12:37:46.742292Z"
    }
   },
   "cell_type": "code",
   "source": [
    "EMBEDDING_FILE_NAME = \"data_storage/embedding_dir/siglip2_embeddings.npz\"\n",
    "if os.path.exists(EMBEDDING_FILE_NAME):\n",
    "    print(f\"Embeddings already exist at {EMBEDDING_FILE_NAME}, skipping generation.\")\n",
    "else:\n",
    "    print(\"Generating embeddings...\")\n",
    "    embeddings = custom_embedder.encode_qb(qb)\n",
    "\n",
    "    print(f\"Saving embeddings to {EMBEDDING_FILE_NAME}...\")\n",
    "    save_embeddings(embeddings, EMBEDDING_FILE_NAME)"
   ],
   "id": "73393130d3b64fcd",
   "outputs": [
    {
     "name": "stdout",
     "output_type": "stream",
     "text": [
      "Generating embeddings...\n",
      "Saving embeddings to data_storage/embedding_dir/siglip2_embeddings.npz...\n"
     ]
    }
   ],
   "execution_count": 15
  },
  {
   "metadata": {},
   "cell_type": "markdown",
   "source": "## 4. Dimension Reduction",
   "id": "f8d344e935d31ec6"
  },
  {
   "metadata": {},
   "cell_type": "markdown",
   "source": "### a) Load Embeddings",
   "id": "4dd168213eb8a39b"
  },
  {
   "metadata": {
    "ExecuteTime": {
     "end_time": "2025-07-14T12:56:39.874810Z",
     "start_time": "2025-07-14T12:56:39.870395Z"
    }
   },
   "cell_type": "code",
   "source": [
    "def load_embeddings(file_path):\n",
    "    loaded = np.load(file_path)\n",
    "    return {key: loaded[key] for key in loaded.files}"
   ],
   "id": "c521938a9f801a23",
   "outputs": [],
   "execution_count": 16
  },
  {
   "metadata": {
    "ExecuteTime": {
     "end_time": "2025-07-14T12:56:43.220037Z",
     "start_time": "2025-07-14T12:56:42.416766Z"
    }
   },
   "cell_type": "code",
   "source": "id_to_embedding = load_embeddings(EMBEDDING_FILE_NAME)",
   "id": "350c58c98f0e98cb",
   "outputs": [],
   "execution_count": 17
  },
  {
   "metadata": {
    "ExecuteTime": {
     "end_time": "2025-07-14T12:56:45.429709Z",
     "start_time": "2025-07-14T12:56:45.425794Z"
    }
   },
   "cell_type": "code",
   "source": [
    "from typing import List\n",
    "\n",
    "from embedder.siglip2_qb_embedder import format_question"
   ],
   "id": "4917a450667c3f9f",
   "outputs": [],
   "execution_count": 18
  },
  {
   "metadata": {
    "ExecuteTime": {
     "end_time": "2025-07-14T12:56:49.279437Z",
     "start_time": "2025-07-14T12:56:49.273133Z"
    }
   },
   "cell_type": "code",
   "source": [
    "def format_for_clustering(id_to_embedding: dict, qb: QuestionBank) -> (List[str], List[str], np.ndarray):\n",
    "    \"\"\"\n",
    "    Format the embeddings for clustering.\n",
    "    \"\"\"\n",
    "    qid_lst: List[str] = []\n",
    "    documents: List[str] = []\n",
    "    embedding_lst: List[np.ndarray] = []\n",
    "\n",
    "    qid_to_chapter = {}\n",
    "    for chapter_id in qb.get_all_chapter_num():\n",
    "        for qid in qb.get_qids_by_chapter(chapter_id):\n",
    "            qid_lst.append(qid)\n",
    "            qid_to_chapter[qid] = chapter_id\n",
    "    qid_lst.sort()\n",
    "\n",
    "    for qid in qid_lst:\n",
    "        documents.append(\n",
    "            format_question(qb.get_question(qid), qb.describe_chapter(\n",
    "                qid_to_chapter[qid])))\n",
    "        embedding_lst.append(id_to_embedding[qid])\n",
    "\n",
    "    embedding_array = np.array(embedding_lst)\n",
    "    return qid_lst, documents, embedding_array"
   ],
   "id": "d9469e155cb15bbb",
   "outputs": [],
   "execution_count": 19
  },
  {
   "metadata": {
    "ExecuteTime": {
     "end_time": "2025-07-14T12:56:51.483664Z",
     "start_time": "2025-07-14T12:56:51.468216Z"
    }
   },
   "cell_type": "code",
   "source": [
    "qid_lst, documents, embeds = format_for_clustering(id_to_embedding, qb)\n",
    "print(f\"Number of questions: {len(qid_lst)} \"\n",
    "      f\"Embedding shape: {embeds.shape}\")"
   ],
   "id": "158b6357d70c9e6a",
   "outputs": [
    {
     "name": "stdout",
     "output_type": "stream",
     "text": [
      "Number of questions: 2836 Embedding shape: (2836, 768)\n"
     ]
    }
   ],
   "execution_count": 20
  },
  {
   "metadata": {
    "ExecuteTime": {
     "end_time": "2025-07-14T12:56:53.539152Z",
     "start_time": "2025-07-14T12:56:53.532222Z"
    }
   },
   "cell_type": "code",
   "source": "documents[:2]  # Display the first few documents to verify formatting",
   "id": "6fe21b3805ae0bce",
   "outputs": [
    {
     "data": {
      "text/plain": [
       "['章节:交通信号 题目:这个标志是何含义？ 答案:禁止直行和向右转弯', '章节:交通信号 题目:这个标志是何含义？ 答案:十字交叉路口预告']"
      ]
     },
     "execution_count": 21,
     "metadata": {},
     "output_type": "execute_result"
    }
   ],
   "execution_count": 21
  },
  {
   "metadata": {},
   "cell_type": "markdown",
   "source": [
    "### b) Set up dimension reduction model\n",
    "We will be using UMAP for dimension reduction."
   ],
   "id": "1fbf3eb18a15ac7b"
  },
  {
   "metadata": {
    "ExecuteTime": {
     "end_time": "2025-07-14T12:57:00.543094Z",
     "start_time": "2025-07-14T12:56:55.564380Z"
    }
   },
   "cell_type": "code",
   "source": [
    "from umap import UMAP\n",
    "def dim_reduction(dimensions: int, n_neighbors: int, embeddings: np.ndarray) -> np.ndarray:\n",
    "    umap_model = UMAP(\n",
    "        n_components=dimensions,\n",
    "        metric='cosine',\n",
    "        n_neighbors=n_neighbors,\n",
    "        min_dist=0.0\n",
    "    )\n",
    "    return umap_model.fit_transform(embeddings)"
   ],
   "id": "f8f78fce0d067b1b",
   "outputs": [],
   "execution_count": 22
  },
  {
   "metadata": {
    "ExecuteTime": {
     "end_time": "2025-07-14T12:57:02.495502Z",
     "start_time": "2025-07-14T12:57:02.490737Z"
    }
   },
   "cell_type": "code",
   "source": [
    "def make_reduced_embeddings(dimension, n_neighbors, embeddings):\n",
    "    path = f\"data_storage/embedding_dir/rdc_embeds_n{n_neighbors}d{dimension}.npz\"\n",
    "    if not os.path.exists(path):\n",
    "        rdc_embeds = dim_reduction(dimension, n_neighbors, embeddings)\n",
    "        np.savez(path, embeddings=rdc_embeds)\n",
    "    else:\n",
    "        rdc_embeds = np.load(path)['embeddings']\n",
    "    return rdc_embeds"
   ],
   "id": "5989827570459b6e",
   "outputs": [],
   "execution_count": 23
  },
  {
   "metadata": {},
   "cell_type": "markdown",
   "source": "## 5. Clustering\n",
   "id": "345e9ec83eeca528"
  },
  {
   "metadata": {},
   "cell_type": "markdown",
   "source": "Generate a small representative sample of the question bank by clustering the questions and selecting representative questions from each cluster.",
   "id": "58bd3bc4c40872a7"
  },
  {
   "metadata": {},
   "cell_type": "markdown",
   "source": "### a) Set up clustering model",
   "id": "c952c674ec461cf8"
  },
  {
   "metadata": {
    "ExecuteTime": {
     "end_time": "2025-07-14T12:57:04.539551Z",
     "start_time": "2025-07-14T12:57:04.375937Z"
    }
   },
   "cell_type": "code",
   "source": [
    "from sklearn.cluster import HDBSCAN\n",
    "def cluster_embeddings(embeddings: np.ndarray) -> np.ndarray:\n",
    "    \"\"\"\n",
    "    Cluster the embeddings using HDBSCAN.\n",
    "\n",
    "    Args:\n",
    "        embeddings: Embeddings array with shape (n_samples, n_features)\n",
    "\n",
    "    Returns:\n",
    "        Cluster labels for each embedding\n",
    "    \"\"\"\n",
    "    clusterer = HDBSCAN(min_cluster_size=2, metric='cosine', min_samples=2, cluster_selection_method=\"leaf\", allow_single_cluster=True)\n",
    "    return clusterer.fit_predict(embeddings)"
   ],
   "id": "684713f810028a25",
   "outputs": [],
   "execution_count": 24
  },
  {
   "metadata": {},
   "cell_type": "markdown",
   "source": [
    "### b) Tune Hyperparameters\n",
    "Find optimal hyperparameters\n",
    "#### i) Set up experiments trying a range of hyperparameters"
   ],
   "id": "49c13f6845e6018"
  },
  {
   "metadata": {
    "ExecuteTime": {
     "end_time": "2025-07-14T12:57:06.329089Z",
     "start_time": "2025-07-14T12:57:06.326012Z"
    }
   },
   "cell_type": "code",
   "source": "from pandas import DataFrame",
   "id": "e272fa7d8af0f63e",
   "outputs": [],
   "execution_count": 25
  },
  {
   "metadata": {
    "ExecuteTime": {
     "end_time": "2025-07-14T12:57:08.146175Z",
     "start_time": "2025-07-14T12:57:08.141568Z"
    }
   },
   "cell_type": "code",
   "source": [
    "def make_topics(dimension: int, n_neighbors: int, qid_lst: List[str], docs: List[str], embeddings: np.ndarray) -> DataFrame:\n",
    "    \"\"\"\n",
    "    A pipeline that takes in the dimension and n_neighbors, then performs dimension reduction and clustering using those hyperparameters on docs.\n",
    "    \"\"\"\n",
    "    topic_labels = cluster_embeddings(make_reduced_embeddings(dimension, n_neighbors, embeddings))\n",
    "    return DataFrame({\n",
    "        \"topic\" : topic_labels,\n",
    "        \"qid\": qid_lst,\n",
    "        \"question\": docs\n",
    "    })"
   ],
   "id": "a4b8bb83b92c6db2",
   "outputs": [],
   "execution_count": 26
  },
  {
   "metadata": {
    "ExecuteTime": {
     "end_time": "2025-07-14T12:57:09.954283Z",
     "start_time": "2025-07-14T12:57:09.951404Z"
    }
   },
   "cell_type": "code",
   "source": [
    "from typing import Tuple\n",
    "from ipywidgets import IntProgress, Label, HBox\n",
    "from IPython.display import display"
   ],
   "id": "7d7ef6d5d0fdb08b",
   "outputs": [],
   "execution_count": 27
  },
  {
   "metadata": {
    "ExecuteTime": {
     "end_time": "2025-07-14T12:57:11.822621Z",
     "start_time": "2025-07-14T12:57:11.817101Z"
    }
   },
   "cell_type": "code",
   "source": [
    "def dimred_experiment(qid_lst: List[str], questions: List[str], embeddings: np.ndarray, n_d_pairs: List[Tuple[int]]) -> DataFrame:\n",
    "    \"\"\"\n",
    "    An experiment to find the optimal hyperparameters for dimension reduction (dimensions and n_neighbors).\n",
    "\n",
    "    With a fixed clustering method, we will vary the dimensions and n_neighbors to see how it affects the outlier count.\n",
    "    \"\"\"\n",
    "\n",
    "    cur, total = 0, len(n_d_pairs)\n",
    "    progress_bar = IntProgress(min=0, max=total, description='Progress:')\n",
    "    progress_label = Label(f'0/{total} complete')\n",
    "    progress_box = HBox([progress_bar, progress_label])\n",
    "    display(progress_box)\n",
    "\n",
    "    result_dict = {\n",
    "        \"qid\": qid_lst,\n",
    "        \"question\": questions\n",
    "    }\n",
    "    for n_neighbors, dimension in n_d_pairs:\n",
    "        progress_label.value = f\"{cur}/{total} complete. Calculating n = {n_neighbors}, d = {dimension}...\"\n",
    "\n",
    "        column_name = f\"n{n_neighbors}d{dimension}\"\n",
    "        result_dict[column_name] = cluster_embeddings(make_reduced_embeddings(dimension, n_neighbors, embeddings))\n",
    "\n",
    "        cur += 1\n",
    "        progress_bar.value += 1\n",
    "    progress_label.value = \"Experiment complete!\"\n",
    "    return DataFrame(result_dict)"
   ],
   "id": "436352498f8ee0b2",
   "outputs": [],
   "execution_count": 28
  },
  {
   "metadata": {
    "ExecuteTime": {
     "end_time": "2025-07-14T12:57:13.636043Z",
     "start_time": "2025-07-14T12:57:13.632757Z"
    }
   },
   "cell_type": "code",
   "source": [
    "import pandas as pd\n",
    "import warnings"
   ],
   "id": "39346c793efa1c08",
   "outputs": [],
   "execution_count": 29
  },
  {
   "metadata": {
    "ExecuteTime": {
     "end_time": "2025-07-14T14:59:42.528684Z",
     "start_time": "2025-07-14T12:57:15.482314Z"
    }
   },
   "cell_type": "code",
   "source": [
    "DIMRED_EXPR1_PATH = \"data_storage/experiments/dimension_reduction_experiment1.csv\"\n",
    "if not os.path.exists(DIMRED_EXPR1_PATH):\n",
    "    with warnings.catch_warnings():\n",
    "        warnings.simplefilter(\"ignore\")\n",
    "\n",
    "        n_d_pairs = [(n, d) for n in range(2, 767, 50) for d in range(2, 767, 50)]\n",
    "        results = dimred_experiment(qid_lst=qid_lst,\n",
    "                                    questions=documents,\n",
    "                                    embeddings=embeds,\n",
    "                                    n_d_pairs=n_d_pairs)\n",
    "        results.to_csv(DIMRED_EXPR1_PATH, index=False)\n",
    "        dimred_exp1_results = results\n",
    "else:\n",
    "    print(f\"Results already exist at {DIMRED_EXPR1_PATH}. Loading results from file...\")\n",
    "    dimred_exp1_results = pd.read_csv(DIMRED_EXPR1_PATH)"
   ],
   "id": "214d8889d50872e7",
   "outputs": [
    {
     "data": {
      "text/plain": [
       "HBox(children=(IntProgress(value=0, description='Progress:', max=256), Label(value='0/256 complete')))"
      ],
      "application/vnd.jupyter.widget-view+json": {
       "version_major": 2,
       "version_minor": 0,
       "model_id": "b57b799e3dd84888b6e8528eee562673"
      }
     },
     "metadata": {},
     "output_type": "display_data"
    },
    {
     "name": "stderr",
     "output_type": "stream",
     "text": [
      "huggingface/tokenizers: The current process just got forked, after parallelism has already been used. Disabling parallelism to avoid deadlocks...\n",
      "To disable this warning, you can either:\n",
      "\t- Avoid using `tokenizers` before the fork if possible\n",
      "\t- Explicitly set the environment variable TOKENIZERS_PARALLELISM=(true | false)\n"
     ]
    }
   ],
   "execution_count": 30
  },
  {
   "metadata": {
    "ExecuteTime": {
     "end_time": "2025-07-14T14:59:45.268890Z",
     "start_time": "2025-07-14T14:59:45.265186Z"
    }
   },
   "cell_type": "code",
   "source": [
    "combined_results = dimred_exp1_results\n",
    "print(combined_results.shape)"
   ],
   "id": "ac482d94f03281",
   "outputs": [
    {
     "name": "stdout",
     "output_type": "stream",
     "text": [
      "(2836, 258)\n"
     ]
    }
   ],
   "execution_count": 31
  },
  {
   "metadata": {},
   "cell_type": "markdown",
   "source": "#### ii) Analyze Results",
   "id": "c24ce1eaf80a83bb"
  },
  {
   "metadata": {},
   "cell_type": "markdown",
   "source": "Extract key metrics from the data into a dataframe.",
   "id": "7754d0f948c5f4ab"
  },
  {
   "metadata": {
    "ExecuteTime": {
     "end_time": "2025-07-14T14:59:47.845697Z",
     "start_time": "2025-07-14T14:59:47.840586Z"
    }
   },
   "cell_type": "code",
   "source": [
    "def extract_n_d(col_name: str) -> (int, int):\n",
    "    \"\"\"\n",
    "    Extract n_neighbors and dimensions from the column name.\n",
    "    \"\"\"\n",
    "    parts = col_name.split(\"d\")\n",
    "    n_neighbors = int(parts[0][1:])  # Remove 'n' and convert to int\n",
    "    dimensions = int(parts[1])  # Convert to int\n",
    "    return n_neighbors, dimensions"
   ],
   "id": "515f22e2b9aa6f36",
   "outputs": [],
   "execution_count": 32
  },
  {
   "metadata": {
    "ExecuteTime": {
     "end_time": "2025-07-14T14:59:50.429357Z",
     "start_time": "2025-07-14T14:59:50.423661Z"
    }
   },
   "cell_type": "code",
   "source": [
    "def analyze_dimred_data(data: DataFrame) -> DataFrame:\n",
    "    \"\"\"\n",
    "    Set up a data frame with n_neighbours and dimensions as the first 2 columns, followed by\n",
    "    key metrics, such as:\n",
    "        - Number of clusters\n",
    "        - Number of outliers\n",
    "        - ...\n",
    "    \"\"\"\n",
    "    metrics = {\n",
    "        \"n_neighbors\": [],\n",
    "        \"dimensions\": [],\n",
    "        \"num_clusters\": [],\n",
    "        \"num_outliers\": []\n",
    "    }\n",
    "    for col in data.columns:\n",
    "        if col.startswith(\"n\") and \"d\" in col:\n",
    "            n_neighbors, dimensions = extract_n_d(col)\n",
    "            metrics[\"n_neighbors\"].append(n_neighbors)\n",
    "            metrics[\"dimensions\"].append(dimensions)\n",
    "            metrics[\"num_clusters\"].append(data[col].nunique())\n",
    "            metrics[\"num_outliers\"].append((data[col] == -1).sum())\n",
    "    return DataFrame(metrics)"
   ],
   "id": "b622ca51b696b88e",
   "outputs": [],
   "execution_count": 33
  },
  {
   "metadata": {
    "ExecuteTime": {
     "end_time": "2025-07-14T14:59:54.298210Z",
     "start_time": "2025-07-14T14:59:53.974888Z"
    }
   },
   "cell_type": "code",
   "source": "import plotly.express as px",
   "id": "aec6f91e7d77c53a",
   "outputs": [],
   "execution_count": 34
  },
  {
   "metadata": {
    "ExecuteTime": {
     "end_time": "2025-07-14T15:58:41.392498Z",
     "start_time": "2025-07-14T15:58:41.387940Z"
    }
   },
   "cell_type": "code",
   "source": [
    "def interactive_plot3d(df, z_metric, title=None, size=(1600, 800)):\n",
    "    \"\"\"\n",
    "    Creates an interactive 3D plot using Plotly.\n",
    "\n",
    "    Parameters:\n",
    "    -----------\n",
    "    df : DataFrame\n",
    "        DataFrame with 'n_neighbors', 'dimensions', and z_metric\n",
    "    z_metric : str\n",
    "        Column name to use for z-axis values\n",
    "    title : str, optional\n",
    "        Plot title\n",
    "    size : tuple, optional\n",
    "        Figure size in pixels\n",
    "    \"\"\"\n",
    "    if title is None:\n",
    "        title = f'3D Plot of {z_metric} by n_neighbors and dimensions'\n",
    "\n",
    "    fig = px.scatter_3d(\n",
    "        df,\n",
    "        x='n_neighbors',\n",
    "        y='dimensions',\n",
    "        z=z_metric,\n",
    "        color=z_metric,\n",
    "        color_continuous_scale='Viridis',\n",
    "        range_color=(df[z_metric].min(), df[z_metric].max()),\n",
    "        title=title\n",
    "    )\n",
    "\n",
    "    fig.update_traces(marker=dict(size=3))\n",
    "\n",
    "    fig.update_layout(\n",
    "        width=size[0],\n",
    "        height=size[1],\n",
    "        scene=dict(\n",
    "            xaxis_title='n_neighbors',\n",
    "            yaxis_title='dimensions',\n",
    "            zaxis_title=z_metric\n",
    "        ),\n",
    "        coloraxis_colorbar=dict(\n",
    "            title=z_metric,\n",
    "            len=0.75\n",
    "        )\n",
    "    )\n",
    "\n",
    "    return fig"
   ],
   "id": "cb52ed966ee4b6e7",
   "outputs": [],
   "execution_count": 37
  },
  {
   "metadata": {},
   "cell_type": "markdown",
   "source": "Examine number of clusters",
   "id": "161a2e21af5927db"
  },
  {
   "metadata": {
    "ExecuteTime": {
     "end_time": "2025-07-14T15:58:43.831341Z",
     "start_time": "2025-07-14T15:58:43.121480Z"
    }
   },
   "cell_type": "code",
   "source": [
    "metrics = analyze_dimred_data(combined_results)\n",
    "fig = interactive_plot3d(metrics, z_metric='num_clusters')\n",
    "fig.show()"
   ],
   "id": "99a7b104733a732c",
   "outputs": [
    {
     "data": {
      "application/vnd.plotly.v1+json": {
       "data": [
        {
         "hovertemplate": "n_neighbors=%{x}<br>dimensions=%{y}<br>num_clusters=%{marker.color}<extra></extra>",
         "legendgroup": "",
         "marker": {
          "color": {
           "dtype": "i2",
           "bdata": "xwPRA9ED4QPlA7YDbAPvAzcDwgLYAfAATwAYAAsABQCdA+gC4QLYAucC3wLYAtgCwwLbAtEC2QLbAtsC5ALJApcD2gLIAuECxQLCAscC5gLRAsQCxgLHAtAC6gLTAtICvQPPAsACzgLRAssCsgLLArkCzQLMAsECxwLXAsUCzQKzA6oCrwKyAsUC0AKuAqYC2gLfAqgC1QLaAtACygLJArQDtwLGArwCxwLdAsQCyALHArgCuwKvArQCwQLDAsYCpQPRAsQCygK+AtoCvQKzAtoCvAKsArcCygLQArcCwAKsA8gCxQLLArQCxgLHAr0CvwLSArACygLVArwCqgLMAqEDtgLBAs8C0QLAArwCsALGAsECxgLDArkC0gLjAs0CvQOtAsIC1AK7AsMCwQK8AsMCqwKsAssCzQKwAskCvAK2A7oCqwK9ArgCuwKuArMCwgK3AsYCtQK2ArgCtAK6AsADsQLKAsoCyQK3ArsCwALEAsoCvwLOArkCzgKzAtcCnwPCAtkCtwKpAqcCtgK6AscCqgKsAskCswK8ArwCvwKuA78CwQLEArwCzQKtAr0CqgLCAscCugK6AsgCswKyArEDwgKwArwCzgKzAsICwgLAArsCvwK9ArQCrALAArgCtwO6Ar8CvAKmArcCvgKnArICwAK5AqYCvQLDArICugI="
          },
          "coloraxis": "coloraxis",
          "symbol": "circle",
          "size": 3
         },
         "mode": "markers",
         "name": "",
         "scene": "scene",
         "showlegend": false,
         "x": {
          "dtype": "i2",
          "bdata": "AgACAAIAAgACAAIAAgACAAIAAgACAAIAAgACAAIAAgA0ADQANAA0ADQANAA0ADQANAA0ADQANAA0ADQANAA0AGYAZgBmAGYAZgBmAGYAZgBmAGYAZgBmAGYAZgBmAGYAmACYAJgAmACYAJgAmACYAJgAmACYAJgAmACYAJgAmADKAMoAygDKAMoAygDKAMoAygDKAMoAygDKAMoAygDKAPwA/AD8APwA/AD8APwA/AD8APwA/AD8APwA/AD8APwALgEuAS4BLgEuAS4BLgEuAS4BLgEuAS4BLgEuAS4BLgFgAWABYAFgAWABYAFgAWABYAFgAWABYAFgAWABYAFgAZIBkgGSAZIBkgGSAZIBkgGSAZIBkgGSAZIBkgGSAZIBxAHEAcQBxAHEAcQBxAHEAcQBxAHEAcQBxAHEAcQBxAH2AfYB9gH2AfYB9gH2AfYB9gH2AfYB9gH2AfYB9gH2ASgCKAIoAigCKAIoAigCKAIoAigCKAIoAigCKAIoAigCWgJaAloCWgJaAloCWgJaAloCWgJaAloCWgJaAloCWgKMAowCjAKMAowCjAKMAowCjAKMAowCjAKMAowCjAKMAr4CvgK+Ar4CvgK+Ar4CvgK+Ar4CvgK+Ar4CvgK+Ar4C8ALwAvAC8ALwAvAC8ALwAvAC8ALwAvAC8ALwAvAC8AI="
         },
         "y": {
          "dtype": "i2",
          "bdata": "AgA0AGYAmADKAPwALgFgAZIBxAH2ASgCWgKMAr4C8AICADQAZgCYAMoA/AAuAWABkgHEAfYBKAJaAowCvgLwAgIANABmAJgAygD8AC4BYAGSAcQB9gEoAloCjAK+AvACAgA0AGYAmADKAPwALgFgAZIBxAH2ASgCWgKMAr4C8AICADQAZgCYAMoA/AAuAWABkgHEAfYBKAJaAowCvgLwAgIANABmAJgAygD8AC4BYAGSAcQB9gEoAloCjAK+AvACAgA0AGYAmADKAPwALgFgAZIBxAH2ASgCWgKMAr4C8AICADQAZgCYAMoA/AAuAWABkgHEAfYBKAJaAowCvgLwAgIANABmAJgAygD8AC4BYAGSAcQB9gEoAloCjAK+AvACAgA0AGYAmADKAPwALgFgAZIBxAH2ASgCWgKMAr4C8AICADQAZgCYAMoA/AAuAWABkgHEAfYBKAJaAowCvgLwAgIANABmAJgAygD8AC4BYAGSAcQB9gEoAloCjAK+AvACAgA0AGYAmADKAPwALgFgAZIBxAH2ASgCWgKMAr4C8AICADQAZgCYAMoA/AAuAWABkgHEAfYBKAJaAowCvgLwAgIANABmAJgAygD8AC4BYAGSAcQB9gEoAloCjAK+AvACAgA0AGYAmADKAPwALgFgAZIBxAH2ASgCWgKMAr4C8AI="
         },
         "z": {
          "dtype": "i2",
          "bdata": "xwPRA9ED4QPlA7YDbAPvAzcDwgLYAfAATwAYAAsABQCdA+gC4QLYAucC3wLYAtgCwwLbAtEC2QLbAtsC5ALJApcD2gLIAuECxQLCAscC5gLRAsQCxgLHAtAC6gLTAtICvQPPAsACzgLRAssCsgLLArkCzQLMAsECxwLXAsUCzQKzA6oCrwKyAsUC0AKuAqYC2gLfAqgC1QLaAtACygLJArQDtwLGArwCxwLdAsQCyALHArgCuwKvArQCwQLDAsYCpQPRAsQCygK+AtoCvQKzAtoCvAKsArcCygLQArcCwAKsA8gCxQLLArQCxgLHAr0CvwLSArACygLVArwCqgLMAqEDtgLBAs8C0QLAArwCsALGAsECxgLDArkC0gLjAs0CvQOtAsIC1AK7AsMCwQK8AsMCqwKsAssCzQKwAskCvAK2A7oCqwK9ArgCuwKuArMCwgK3AsYCtQK2ArgCtAK6AsADsQLKAsoCyQK3ArsCwALEAsoCvwLOArkCzgKzAtcCnwPCAtkCtwKpAqcCtgK6AscCqgKsAskCswK8ArwCvwKuA78CwQLEArwCzQKtAr0CqgLCAscCugK6AsgCswKyArEDwgKwArwCzgKzAsICwgLAArsCvwK9ArQCrALAArgCtwO6Ar8CvAKmArcCvgKnArICwAK5AqYCvQLDArICugI="
         },
         "type": "scatter3d"
        }
       ],
       "layout": {
        "template": {
         "data": {
          "histogram2dcontour": [
           {
            "type": "histogram2dcontour",
            "colorbar": {
             "outlinewidth": 0,
             "ticks": ""
            },
            "colorscale": [
             [
              0.0,
              "#0d0887"
             ],
             [
              0.1111111111111111,
              "#46039f"
             ],
             [
              0.2222222222222222,
              "#7201a8"
             ],
             [
              0.3333333333333333,
              "#9c179e"
             ],
             [
              0.4444444444444444,
              "#bd3786"
             ],
             [
              0.5555555555555556,
              "#d8576b"
             ],
             [
              0.6666666666666666,
              "#ed7953"
             ],
             [
              0.7777777777777778,
              "#fb9f3a"
             ],
             [
              0.8888888888888888,
              "#fdca26"
             ],
             [
              1.0,
              "#f0f921"
             ]
            ]
           }
          ],
          "choropleth": [
           {
            "type": "choropleth",
            "colorbar": {
             "outlinewidth": 0,
             "ticks": ""
            }
           }
          ],
          "histogram2d": [
           {
            "type": "histogram2d",
            "colorbar": {
             "outlinewidth": 0,
             "ticks": ""
            },
            "colorscale": [
             [
              0.0,
              "#0d0887"
             ],
             [
              0.1111111111111111,
              "#46039f"
             ],
             [
              0.2222222222222222,
              "#7201a8"
             ],
             [
              0.3333333333333333,
              "#9c179e"
             ],
             [
              0.4444444444444444,
              "#bd3786"
             ],
             [
              0.5555555555555556,
              "#d8576b"
             ],
             [
              0.6666666666666666,
              "#ed7953"
             ],
             [
              0.7777777777777778,
              "#fb9f3a"
             ],
             [
              0.8888888888888888,
              "#fdca26"
             ],
             [
              1.0,
              "#f0f921"
             ]
            ]
           }
          ],
          "heatmap": [
           {
            "type": "heatmap",
            "colorbar": {
             "outlinewidth": 0,
             "ticks": ""
            },
            "colorscale": [
             [
              0.0,
              "#0d0887"
             ],
             [
              0.1111111111111111,
              "#46039f"
             ],
             [
              0.2222222222222222,
              "#7201a8"
             ],
             [
              0.3333333333333333,
              "#9c179e"
             ],
             [
              0.4444444444444444,
              "#bd3786"
             ],
             [
              0.5555555555555556,
              "#d8576b"
             ],
             [
              0.6666666666666666,
              "#ed7953"
             ],
             [
              0.7777777777777778,
              "#fb9f3a"
             ],
             [
              0.8888888888888888,
              "#fdca26"
             ],
             [
              1.0,
              "#f0f921"
             ]
            ]
           }
          ],
          "contourcarpet": [
           {
            "type": "contourcarpet",
            "colorbar": {
             "outlinewidth": 0,
             "ticks": ""
            }
           }
          ],
          "contour": [
           {
            "type": "contour",
            "colorbar": {
             "outlinewidth": 0,
             "ticks": ""
            },
            "colorscale": [
             [
              0.0,
              "#0d0887"
             ],
             [
              0.1111111111111111,
              "#46039f"
             ],
             [
              0.2222222222222222,
              "#7201a8"
             ],
             [
              0.3333333333333333,
              "#9c179e"
             ],
             [
              0.4444444444444444,
              "#bd3786"
             ],
             [
              0.5555555555555556,
              "#d8576b"
             ],
             [
              0.6666666666666666,
              "#ed7953"
             ],
             [
              0.7777777777777778,
              "#fb9f3a"
             ],
             [
              0.8888888888888888,
              "#fdca26"
             ],
             [
              1.0,
              "#f0f921"
             ]
            ]
           }
          ],
          "surface": [
           {
            "type": "surface",
            "colorbar": {
             "outlinewidth": 0,
             "ticks": ""
            },
            "colorscale": [
             [
              0.0,
              "#0d0887"
             ],
             [
              0.1111111111111111,
              "#46039f"
             ],
             [
              0.2222222222222222,
              "#7201a8"
             ],
             [
              0.3333333333333333,
              "#9c179e"
             ],
             [
              0.4444444444444444,
              "#bd3786"
             ],
             [
              0.5555555555555556,
              "#d8576b"
             ],
             [
              0.6666666666666666,
              "#ed7953"
             ],
             [
              0.7777777777777778,
              "#fb9f3a"
             ],
             [
              0.8888888888888888,
              "#fdca26"
             ],
             [
              1.0,
              "#f0f921"
             ]
            ]
           }
          ],
          "mesh3d": [
           {
            "type": "mesh3d",
            "colorbar": {
             "outlinewidth": 0,
             "ticks": ""
            }
           }
          ],
          "scatter": [
           {
            "marker": {
             "line": {
              "color": "#283442"
             }
            },
            "type": "scatter"
           }
          ],
          "parcoords": [
           {
            "type": "parcoords",
            "line": {
             "colorbar": {
              "outlinewidth": 0,
              "ticks": ""
             }
            }
           }
          ],
          "scatterpolargl": [
           {
            "type": "scatterpolargl",
            "marker": {
             "colorbar": {
              "outlinewidth": 0,
              "ticks": ""
             }
            }
           }
          ],
          "bar": [
           {
            "error_x": {
             "color": "#f2f5fa"
            },
            "error_y": {
             "color": "#f2f5fa"
            },
            "marker": {
             "line": {
              "color": "rgb(17,17,17)",
              "width": 0.5
             },
             "pattern": {
              "fillmode": "overlay",
              "size": 10,
              "solidity": 0.2
             }
            },
            "type": "bar"
           }
          ],
          "scattergeo": [
           {
            "type": "scattergeo",
            "marker": {
             "colorbar": {
              "outlinewidth": 0,
              "ticks": ""
             }
            }
           }
          ],
          "scatterpolar": [
           {
            "type": "scatterpolar",
            "marker": {
             "colorbar": {
              "outlinewidth": 0,
              "ticks": ""
             }
            }
           }
          ],
          "histogram": [
           {
            "marker": {
             "pattern": {
              "fillmode": "overlay",
              "size": 10,
              "solidity": 0.2
             }
            },
            "type": "histogram"
           }
          ],
          "scattergl": [
           {
            "marker": {
             "line": {
              "color": "#283442"
             }
            },
            "type": "scattergl"
           }
          ],
          "scatter3d": [
           {
            "type": "scatter3d",
            "line": {
             "colorbar": {
              "outlinewidth": 0,
              "ticks": ""
             }
            },
            "marker": {
             "colorbar": {
              "outlinewidth": 0,
              "ticks": ""
             }
            }
           }
          ],
          "scattermap": [
           {
            "type": "scattermap",
            "marker": {
             "colorbar": {
              "outlinewidth": 0,
              "ticks": ""
             }
            }
           }
          ],
          "scattermapbox": [
           {
            "type": "scattermapbox",
            "marker": {
             "colorbar": {
              "outlinewidth": 0,
              "ticks": ""
             }
            }
           }
          ],
          "scatterternary": [
           {
            "type": "scatterternary",
            "marker": {
             "colorbar": {
              "outlinewidth": 0,
              "ticks": ""
             }
            }
           }
          ],
          "scattercarpet": [
           {
            "type": "scattercarpet",
            "marker": {
             "colorbar": {
              "outlinewidth": 0,
              "ticks": ""
             }
            }
           }
          ],
          "carpet": [
           {
            "aaxis": {
             "endlinecolor": "#A2B1C6",
             "gridcolor": "#506784",
             "linecolor": "#506784",
             "minorgridcolor": "#506784",
             "startlinecolor": "#A2B1C6"
            },
            "baxis": {
             "endlinecolor": "#A2B1C6",
             "gridcolor": "#506784",
             "linecolor": "#506784",
             "minorgridcolor": "#506784",
             "startlinecolor": "#A2B1C6"
            },
            "type": "carpet"
           }
          ],
          "table": [
           {
            "cells": {
             "fill": {
              "color": "#506784"
             },
             "line": {
              "color": "rgb(17,17,17)"
             }
            },
            "header": {
             "fill": {
              "color": "#2a3f5f"
             },
             "line": {
              "color": "rgb(17,17,17)"
             }
            },
            "type": "table"
           }
          ],
          "barpolar": [
           {
            "marker": {
             "line": {
              "color": "rgb(17,17,17)",
              "width": 0.5
             },
             "pattern": {
              "fillmode": "overlay",
              "size": 10,
              "solidity": 0.2
             }
            },
            "type": "barpolar"
           }
          ],
          "pie": [
           {
            "automargin": true,
            "type": "pie"
           }
          ]
         },
         "layout": {
          "autotypenumbers": "strict",
          "colorway": [
           "#636efa",
           "#EF553B",
           "#00cc96",
           "#ab63fa",
           "#FFA15A",
           "#19d3f3",
           "#FF6692",
           "#B6E880",
           "#FF97FF",
           "#FECB52"
          ],
          "font": {
           "color": "#f2f5fa"
          },
          "hovermode": "closest",
          "hoverlabel": {
           "align": "left"
          },
          "paper_bgcolor": "rgb(17,17,17)",
          "plot_bgcolor": "rgb(17,17,17)",
          "polar": {
           "bgcolor": "rgb(17,17,17)",
           "angularaxis": {
            "gridcolor": "#506784",
            "linecolor": "#506784",
            "ticks": ""
           },
           "radialaxis": {
            "gridcolor": "#506784",
            "linecolor": "#506784",
            "ticks": ""
           }
          },
          "ternary": {
           "bgcolor": "rgb(17,17,17)",
           "aaxis": {
            "gridcolor": "#506784",
            "linecolor": "#506784",
            "ticks": ""
           },
           "baxis": {
            "gridcolor": "#506784",
            "linecolor": "#506784",
            "ticks": ""
           },
           "caxis": {
            "gridcolor": "#506784",
            "linecolor": "#506784",
            "ticks": ""
           }
          },
          "coloraxis": {
           "colorbar": {
            "outlinewidth": 0,
            "ticks": ""
           }
          },
          "colorscale": {
           "sequential": [
            [
             0.0,
             "#0d0887"
            ],
            [
             0.1111111111111111,
             "#46039f"
            ],
            [
             0.2222222222222222,
             "#7201a8"
            ],
            [
             0.3333333333333333,
             "#9c179e"
            ],
            [
             0.4444444444444444,
             "#bd3786"
            ],
            [
             0.5555555555555556,
             "#d8576b"
            ],
            [
             0.6666666666666666,
             "#ed7953"
            ],
            [
             0.7777777777777778,
             "#fb9f3a"
            ],
            [
             0.8888888888888888,
             "#fdca26"
            ],
            [
             1.0,
             "#f0f921"
            ]
           ],
           "sequentialminus": [
            [
             0.0,
             "#0d0887"
            ],
            [
             0.1111111111111111,
             "#46039f"
            ],
            [
             0.2222222222222222,
             "#7201a8"
            ],
            [
             0.3333333333333333,
             "#9c179e"
            ],
            [
             0.4444444444444444,
             "#bd3786"
            ],
            [
             0.5555555555555556,
             "#d8576b"
            ],
            [
             0.6666666666666666,
             "#ed7953"
            ],
            [
             0.7777777777777778,
             "#fb9f3a"
            ],
            [
             0.8888888888888888,
             "#fdca26"
            ],
            [
             1.0,
             "#f0f921"
            ]
           ],
           "diverging": [
            [
             0,
             "#8e0152"
            ],
            [
             0.1,
             "#c51b7d"
            ],
            [
             0.2,
             "#de77ae"
            ],
            [
             0.3,
             "#f1b6da"
            ],
            [
             0.4,
             "#fde0ef"
            ],
            [
             0.5,
             "#f7f7f7"
            ],
            [
             0.6,
             "#e6f5d0"
            ],
            [
             0.7,
             "#b8e186"
            ],
            [
             0.8,
             "#7fbc41"
            ],
            [
             0.9,
             "#4d9221"
            ],
            [
             1,
             "#276419"
            ]
           ]
          },
          "xaxis": {
           "gridcolor": "#283442",
           "linecolor": "#506784",
           "ticks": "",
           "title": {
            "standoff": 15
           },
           "zerolinecolor": "#283442",
           "automargin": true,
           "zerolinewidth": 2
          },
          "yaxis": {
           "gridcolor": "#283442",
           "linecolor": "#506784",
           "ticks": "",
           "title": {
            "standoff": 15
           },
           "zerolinecolor": "#283442",
           "automargin": true,
           "zerolinewidth": 2
          },
          "scene": {
           "xaxis": {
            "backgroundcolor": "rgb(17,17,17)",
            "gridcolor": "#506784",
            "linecolor": "#506784",
            "showbackground": true,
            "ticks": "",
            "zerolinecolor": "#C8D4E3",
            "gridwidth": 2
           },
           "yaxis": {
            "backgroundcolor": "rgb(17,17,17)",
            "gridcolor": "#506784",
            "linecolor": "#506784",
            "showbackground": true,
            "ticks": "",
            "zerolinecolor": "#C8D4E3",
            "gridwidth": 2
           },
           "zaxis": {
            "backgroundcolor": "rgb(17,17,17)",
            "gridcolor": "#506784",
            "linecolor": "#506784",
            "showbackground": true,
            "ticks": "",
            "zerolinecolor": "#C8D4E3",
            "gridwidth": 2
           }
          },
          "shapedefaults": {
           "line": {
            "color": "#f2f5fa"
           }
          },
          "annotationdefaults": {
           "arrowcolor": "#f2f5fa",
           "arrowhead": 0,
           "arrowwidth": 1
          },
          "geo": {
           "bgcolor": "rgb(17,17,17)",
           "landcolor": "rgb(17,17,17)",
           "subunitcolor": "#506784",
           "showland": true,
           "showlakes": true,
           "lakecolor": "rgb(17,17,17)"
          },
          "title": {
           "x": 0.05
          },
          "updatemenudefaults": {
           "bgcolor": "#506784",
           "borderwidth": 0
          },
          "sliderdefaults": {
           "bgcolor": "#C8D4E3",
           "borderwidth": 1,
           "bordercolor": "rgb(17,17,17)",
           "tickwidth": 0
          },
          "mapbox": {
           "style": "dark"
          }
         }
        },
        "scene": {
         "domain": {
          "x": [
           0.0,
           1.0
          ],
          "y": [
           0.0,
           1.0
          ]
         },
         "xaxis": {
          "title": {
           "text": "n_neighbors"
          }
         },
         "yaxis": {
          "title": {
           "text": "dimensions"
          }
         },
         "zaxis": {
          "title": {
           "text": "num_clusters"
          }
         }
        },
        "coloraxis": {
         "colorbar": {
          "title": {
           "text": "num_clusters"
          },
          "len": 0.75
         },
         "colorscale": [
          [
           0.0,
           "#440154"
          ],
          [
           0.1111111111111111,
           "#482878"
          ],
          [
           0.2222222222222222,
           "#3e4989"
          ],
          [
           0.3333333333333333,
           "#31688e"
          ],
          [
           0.4444444444444444,
           "#26828e"
          ],
          [
           0.5555555555555556,
           "#1f9e89"
          ],
          [
           0.6666666666666666,
           "#35b779"
          ],
          [
           0.7777777777777778,
           "#6ece58"
          ],
          [
           0.8888888888888888,
           "#b5de2b"
          ],
          [
           1.0,
           "#fde725"
          ]
         ],
         "cmin": 5,
         "cmax": 1007
        },
        "legend": {
         "tracegroupgap": 0
        },
        "title": {
         "text": "3D Plot of num_clusters by n_neighbors and dimensions"
        },
        "width": 1600,
        "height": 800
       },
       "config": {
        "plotlyServerURL": "https://plot.ly"
       }
      }
     },
     "metadata": {},
     "output_type": "display_data"
    }
   ],
   "execution_count": 38
  },
  {
   "metadata": {},
   "cell_type": "markdown",
   "source": "Examine number of outliers",
   "id": "2e4b9ae241eb9018"
  },
  {
   "metadata": {
    "ExecuteTime": {
     "end_time": "2025-07-14T15:58:45.717101Z",
     "start_time": "2025-07-14T15:58:45.669353Z"
    }
   },
   "cell_type": "code",
   "source": [
    "fig = interactive_plot3d(metrics, z_metric='num_outliers')\n",
    "fig.show()"
   ],
   "id": "847a0879d3a8f40a",
   "outputs": [
    {
     "data": {
      "application/vnd.plotly.v1+json": {
       "data": [
        {
         "hovertemplate": "n_neighbors=%{x}<br>dimensions=%{y}<br>num_outliers=%{marker.color}<extra></extra>",
         "legendgroup": "",
         "marker": {
          "color": {
           "dtype": "i2",
           "bdata": "nQCWAJQAkgB9AP4AqQGAALIBmwOhBvUIbArkCv8KCgvIAMYC1wKwAr8CywLTAucC4gK6AtQC2QLNAtwCzgIwA+MA4wITA9ICAwMOAwcD5wIEAxIDCQMbAwAD3AIcA+QC2AAbAxED+AIPA/QCKgMhA/kCDgPpAgUDBwMZA/8CCAPjADEDWQMYAwQDJgNWAzEDIgP8AkUDNgMnA0MD9AIKA9wALQM5A18DMgMGAy0DBgMQAx8DZwMyAxoDMgNIA0oDwwABAyEDNAM7Aw8DGQNIAxIDKwNEAxgD+AIMAzgDHQPgACUDMQNAA0UDNAMQAygDPQM1AzQDKgP9AgoDLQMSA8oANwMoAzADOQMvA2wDTwMgA2YDKQM5Az4DNQP9AgkDuQAqA0IDPQM9AxADSANHA1AD8gJEAxkDKQM4AxEDRgPVAE0DPgMlAxcDMwMeA1wDNAM6AzwDHQM+AyEDBAM4A8YANAMnAy8DKQNAA20DLwP6Ah4DOAP8AkwDUgM1Az4DyAAtAyoDagMnA1EDSQMqA0YDXANaAz0DOAMiA0cDRwPIAEcDIANnAycDNgNJA0sDbwNuAzgDJAMmAz8DQgM3A9IANgNfA14DOQNvAy4DKQP/AioDMAMyAz8DRwM7A08D6AA6A0UDNQNKA1YDQwNVA1MDJwM6AzoDPgNLA18DNQM="
          },
          "coloraxis": "coloraxis",
          "symbol": "circle",
          "size": 3
         },
         "mode": "markers",
         "name": "",
         "scene": "scene",
         "showlegend": false,
         "x": {
          "dtype": "i2",
          "bdata": "AgACAAIAAgACAAIAAgACAAIAAgACAAIAAgACAAIAAgA0ADQANAA0ADQANAA0ADQANAA0ADQANAA0ADQANAA0AGYAZgBmAGYAZgBmAGYAZgBmAGYAZgBmAGYAZgBmAGYAmACYAJgAmACYAJgAmACYAJgAmACYAJgAmACYAJgAmADKAMoAygDKAMoAygDKAMoAygDKAMoAygDKAMoAygDKAPwA/AD8APwA/AD8APwA/AD8APwA/AD8APwA/AD8APwALgEuAS4BLgEuAS4BLgEuAS4BLgEuAS4BLgEuAS4BLgFgAWABYAFgAWABYAFgAWABYAFgAWABYAFgAWABYAFgAZIBkgGSAZIBkgGSAZIBkgGSAZIBkgGSAZIBkgGSAZIBxAHEAcQBxAHEAcQBxAHEAcQBxAHEAcQBxAHEAcQBxAH2AfYB9gH2AfYB9gH2AfYB9gH2AfYB9gH2AfYB9gH2ASgCKAIoAigCKAIoAigCKAIoAigCKAIoAigCKAIoAigCWgJaAloCWgJaAloCWgJaAloCWgJaAloCWgJaAloCWgKMAowCjAKMAowCjAKMAowCjAKMAowCjAKMAowCjAKMAr4CvgK+Ar4CvgK+Ar4CvgK+Ar4CvgK+Ar4CvgK+Ar4C8ALwAvAC8ALwAvAC8ALwAvAC8ALwAvAC8ALwAvAC8AI="
         },
         "y": {
          "dtype": "i2",
          "bdata": "AgA0AGYAmADKAPwALgFgAZIBxAH2ASgCWgKMAr4C8AICADQAZgCYAMoA/AAuAWABkgHEAfYBKAJaAowCvgLwAgIANABmAJgAygD8AC4BYAGSAcQB9gEoAloCjAK+AvACAgA0AGYAmADKAPwALgFgAZIBxAH2ASgCWgKMAr4C8AICADQAZgCYAMoA/AAuAWABkgHEAfYBKAJaAowCvgLwAgIANABmAJgAygD8AC4BYAGSAcQB9gEoAloCjAK+AvACAgA0AGYAmADKAPwALgFgAZIBxAH2ASgCWgKMAr4C8AICADQAZgCYAMoA/AAuAWABkgHEAfYBKAJaAowCvgLwAgIANABmAJgAygD8AC4BYAGSAcQB9gEoAloCjAK+AvACAgA0AGYAmADKAPwALgFgAZIBxAH2ASgCWgKMAr4C8AICADQAZgCYAMoA/AAuAWABkgHEAfYBKAJaAowCvgLwAgIANABmAJgAygD8AC4BYAGSAcQB9gEoAloCjAK+AvACAgA0AGYAmADKAPwALgFgAZIBxAH2ASgCWgKMAr4C8AICADQAZgCYAMoA/AAuAWABkgHEAfYBKAJaAowCvgLwAgIANABmAJgAygD8AC4BYAGSAcQB9gEoAloCjAK+AvACAgA0AGYAmADKAPwALgFgAZIBxAH2ASgCWgKMAr4C8AI="
         },
         "z": {
          "dtype": "i2",
          "bdata": "nQCWAJQAkgB9AP4AqQGAALIBmwOhBvUIbArkCv8KCgvIAMYC1wKwAr8CywLTAucC4gK6AtQC2QLNAtwCzgIwA+MA4wITA9ICAwMOAwcD5wIEAxIDCQMbAwAD3AIcA+QC2AAbAxED+AIPA/QCKgMhA/kCDgPpAgUDBwMZA/8CCAPjADEDWQMYAwQDJgNWAzEDIgP8AkUDNgMnA0MD9AIKA9wALQM5A18DMgMGAy0DBgMQAx8DZwMyAxoDMgNIA0oDwwABAyEDNAM7Aw8DGQNIAxIDKwNEAxgD+AIMAzgDHQPgACUDMQNAA0UDNAMQAygDPQM1AzQDKgP9AgoDLQMSA8oANwMoAzADOQMvA2wDTwMgA2YDKQM5Az4DNQP9AgkDuQAqA0IDPQM9AxADSANHA1AD8gJEAxkDKQM4AxEDRgPVAE0DPgMlAxcDMwMeA1wDNAM6AzwDHQM+AyEDBAM4A8YANAMnAy8DKQNAA20DLwP6Ah4DOAP8AkwDUgM1Az4DyAAtAyoDagMnA1EDSQMqA0YDXANaAz0DOAMiA0cDRwPIAEcDIANnAycDNgNJA0sDbwNuAzgDJAMmAz8DQgM3A9IANgNfA14DOQNvAy4DKQP/AioDMAMyAz8DRwM7A08D6AA6A0UDNQNKA1YDQwNVA1MDJwM6AzoDPgNLA18DNQM="
         },
         "type": "scatter3d"
        }
       ],
       "layout": {
        "template": {
         "data": {
          "histogram2dcontour": [
           {
            "type": "histogram2dcontour",
            "colorbar": {
             "outlinewidth": 0,
             "ticks": ""
            },
            "colorscale": [
             [
              0.0,
              "#0d0887"
             ],
             [
              0.1111111111111111,
              "#46039f"
             ],
             [
              0.2222222222222222,
              "#7201a8"
             ],
             [
              0.3333333333333333,
              "#9c179e"
             ],
             [
              0.4444444444444444,
              "#bd3786"
             ],
             [
              0.5555555555555556,
              "#d8576b"
             ],
             [
              0.6666666666666666,
              "#ed7953"
             ],
             [
              0.7777777777777778,
              "#fb9f3a"
             ],
             [
              0.8888888888888888,
              "#fdca26"
             ],
             [
              1.0,
              "#f0f921"
             ]
            ]
           }
          ],
          "choropleth": [
           {
            "type": "choropleth",
            "colorbar": {
             "outlinewidth": 0,
             "ticks": ""
            }
           }
          ],
          "histogram2d": [
           {
            "type": "histogram2d",
            "colorbar": {
             "outlinewidth": 0,
             "ticks": ""
            },
            "colorscale": [
             [
              0.0,
              "#0d0887"
             ],
             [
              0.1111111111111111,
              "#46039f"
             ],
             [
              0.2222222222222222,
              "#7201a8"
             ],
             [
              0.3333333333333333,
              "#9c179e"
             ],
             [
              0.4444444444444444,
              "#bd3786"
             ],
             [
              0.5555555555555556,
              "#d8576b"
             ],
             [
              0.6666666666666666,
              "#ed7953"
             ],
             [
              0.7777777777777778,
              "#fb9f3a"
             ],
             [
              0.8888888888888888,
              "#fdca26"
             ],
             [
              1.0,
              "#f0f921"
             ]
            ]
           }
          ],
          "heatmap": [
           {
            "type": "heatmap",
            "colorbar": {
             "outlinewidth": 0,
             "ticks": ""
            },
            "colorscale": [
             [
              0.0,
              "#0d0887"
             ],
             [
              0.1111111111111111,
              "#46039f"
             ],
             [
              0.2222222222222222,
              "#7201a8"
             ],
             [
              0.3333333333333333,
              "#9c179e"
             ],
             [
              0.4444444444444444,
              "#bd3786"
             ],
             [
              0.5555555555555556,
              "#d8576b"
             ],
             [
              0.6666666666666666,
              "#ed7953"
             ],
             [
              0.7777777777777778,
              "#fb9f3a"
             ],
             [
              0.8888888888888888,
              "#fdca26"
             ],
             [
              1.0,
              "#f0f921"
             ]
            ]
           }
          ],
          "contourcarpet": [
           {
            "type": "contourcarpet",
            "colorbar": {
             "outlinewidth": 0,
             "ticks": ""
            }
           }
          ],
          "contour": [
           {
            "type": "contour",
            "colorbar": {
             "outlinewidth": 0,
             "ticks": ""
            },
            "colorscale": [
             [
              0.0,
              "#0d0887"
             ],
             [
              0.1111111111111111,
              "#46039f"
             ],
             [
              0.2222222222222222,
              "#7201a8"
             ],
             [
              0.3333333333333333,
              "#9c179e"
             ],
             [
              0.4444444444444444,
              "#bd3786"
             ],
             [
              0.5555555555555556,
              "#d8576b"
             ],
             [
              0.6666666666666666,
              "#ed7953"
             ],
             [
              0.7777777777777778,
              "#fb9f3a"
             ],
             [
              0.8888888888888888,
              "#fdca26"
             ],
             [
              1.0,
              "#f0f921"
             ]
            ]
           }
          ],
          "surface": [
           {
            "type": "surface",
            "colorbar": {
             "outlinewidth": 0,
             "ticks": ""
            },
            "colorscale": [
             [
              0.0,
              "#0d0887"
             ],
             [
              0.1111111111111111,
              "#46039f"
             ],
             [
              0.2222222222222222,
              "#7201a8"
             ],
             [
              0.3333333333333333,
              "#9c179e"
             ],
             [
              0.4444444444444444,
              "#bd3786"
             ],
             [
              0.5555555555555556,
              "#d8576b"
             ],
             [
              0.6666666666666666,
              "#ed7953"
             ],
             [
              0.7777777777777778,
              "#fb9f3a"
             ],
             [
              0.8888888888888888,
              "#fdca26"
             ],
             [
              1.0,
              "#f0f921"
             ]
            ]
           }
          ],
          "mesh3d": [
           {
            "type": "mesh3d",
            "colorbar": {
             "outlinewidth": 0,
             "ticks": ""
            }
           }
          ],
          "scatter": [
           {
            "marker": {
             "line": {
              "color": "#283442"
             }
            },
            "type": "scatter"
           }
          ],
          "parcoords": [
           {
            "type": "parcoords",
            "line": {
             "colorbar": {
              "outlinewidth": 0,
              "ticks": ""
             }
            }
           }
          ],
          "scatterpolargl": [
           {
            "type": "scatterpolargl",
            "marker": {
             "colorbar": {
              "outlinewidth": 0,
              "ticks": ""
             }
            }
           }
          ],
          "bar": [
           {
            "error_x": {
             "color": "#f2f5fa"
            },
            "error_y": {
             "color": "#f2f5fa"
            },
            "marker": {
             "line": {
              "color": "rgb(17,17,17)",
              "width": 0.5
             },
             "pattern": {
              "fillmode": "overlay",
              "size": 10,
              "solidity": 0.2
             }
            },
            "type": "bar"
           }
          ],
          "scattergeo": [
           {
            "type": "scattergeo",
            "marker": {
             "colorbar": {
              "outlinewidth": 0,
              "ticks": ""
             }
            }
           }
          ],
          "scatterpolar": [
           {
            "type": "scatterpolar",
            "marker": {
             "colorbar": {
              "outlinewidth": 0,
              "ticks": ""
             }
            }
           }
          ],
          "histogram": [
           {
            "marker": {
             "pattern": {
              "fillmode": "overlay",
              "size": 10,
              "solidity": 0.2
             }
            },
            "type": "histogram"
           }
          ],
          "scattergl": [
           {
            "marker": {
             "line": {
              "color": "#283442"
             }
            },
            "type": "scattergl"
           }
          ],
          "scatter3d": [
           {
            "type": "scatter3d",
            "line": {
             "colorbar": {
              "outlinewidth": 0,
              "ticks": ""
             }
            },
            "marker": {
             "colorbar": {
              "outlinewidth": 0,
              "ticks": ""
             }
            }
           }
          ],
          "scattermap": [
           {
            "type": "scattermap",
            "marker": {
             "colorbar": {
              "outlinewidth": 0,
              "ticks": ""
             }
            }
           }
          ],
          "scattermapbox": [
           {
            "type": "scattermapbox",
            "marker": {
             "colorbar": {
              "outlinewidth": 0,
              "ticks": ""
             }
            }
           }
          ],
          "scatterternary": [
           {
            "type": "scatterternary",
            "marker": {
             "colorbar": {
              "outlinewidth": 0,
              "ticks": ""
             }
            }
           }
          ],
          "scattercarpet": [
           {
            "type": "scattercarpet",
            "marker": {
             "colorbar": {
              "outlinewidth": 0,
              "ticks": ""
             }
            }
           }
          ],
          "carpet": [
           {
            "aaxis": {
             "endlinecolor": "#A2B1C6",
             "gridcolor": "#506784",
             "linecolor": "#506784",
             "minorgridcolor": "#506784",
             "startlinecolor": "#A2B1C6"
            },
            "baxis": {
             "endlinecolor": "#A2B1C6",
             "gridcolor": "#506784",
             "linecolor": "#506784",
             "minorgridcolor": "#506784",
             "startlinecolor": "#A2B1C6"
            },
            "type": "carpet"
           }
          ],
          "table": [
           {
            "cells": {
             "fill": {
              "color": "#506784"
             },
             "line": {
              "color": "rgb(17,17,17)"
             }
            },
            "header": {
             "fill": {
              "color": "#2a3f5f"
             },
             "line": {
              "color": "rgb(17,17,17)"
             }
            },
            "type": "table"
           }
          ],
          "barpolar": [
           {
            "marker": {
             "line": {
              "color": "rgb(17,17,17)",
              "width": 0.5
             },
             "pattern": {
              "fillmode": "overlay",
              "size": 10,
              "solidity": 0.2
             }
            },
            "type": "barpolar"
           }
          ],
          "pie": [
           {
            "automargin": true,
            "type": "pie"
           }
          ]
         },
         "layout": {
          "autotypenumbers": "strict",
          "colorway": [
           "#636efa",
           "#EF553B",
           "#00cc96",
           "#ab63fa",
           "#FFA15A",
           "#19d3f3",
           "#FF6692",
           "#B6E880",
           "#FF97FF",
           "#FECB52"
          ],
          "font": {
           "color": "#f2f5fa"
          },
          "hovermode": "closest",
          "hoverlabel": {
           "align": "left"
          },
          "paper_bgcolor": "rgb(17,17,17)",
          "plot_bgcolor": "rgb(17,17,17)",
          "polar": {
           "bgcolor": "rgb(17,17,17)",
           "angularaxis": {
            "gridcolor": "#506784",
            "linecolor": "#506784",
            "ticks": ""
           },
           "radialaxis": {
            "gridcolor": "#506784",
            "linecolor": "#506784",
            "ticks": ""
           }
          },
          "ternary": {
           "bgcolor": "rgb(17,17,17)",
           "aaxis": {
            "gridcolor": "#506784",
            "linecolor": "#506784",
            "ticks": ""
           },
           "baxis": {
            "gridcolor": "#506784",
            "linecolor": "#506784",
            "ticks": ""
           },
           "caxis": {
            "gridcolor": "#506784",
            "linecolor": "#506784",
            "ticks": ""
           }
          },
          "coloraxis": {
           "colorbar": {
            "outlinewidth": 0,
            "ticks": ""
           }
          },
          "colorscale": {
           "sequential": [
            [
             0.0,
             "#0d0887"
            ],
            [
             0.1111111111111111,
             "#46039f"
            ],
            [
             0.2222222222222222,
             "#7201a8"
            ],
            [
             0.3333333333333333,
             "#9c179e"
            ],
            [
             0.4444444444444444,
             "#bd3786"
            ],
            [
             0.5555555555555556,
             "#d8576b"
            ],
            [
             0.6666666666666666,
             "#ed7953"
            ],
            [
             0.7777777777777778,
             "#fb9f3a"
            ],
            [
             0.8888888888888888,
             "#fdca26"
            ],
            [
             1.0,
             "#f0f921"
            ]
           ],
           "sequentialminus": [
            [
             0.0,
             "#0d0887"
            ],
            [
             0.1111111111111111,
             "#46039f"
            ],
            [
             0.2222222222222222,
             "#7201a8"
            ],
            [
             0.3333333333333333,
             "#9c179e"
            ],
            [
             0.4444444444444444,
             "#bd3786"
            ],
            [
             0.5555555555555556,
             "#d8576b"
            ],
            [
             0.6666666666666666,
             "#ed7953"
            ],
            [
             0.7777777777777778,
             "#fb9f3a"
            ],
            [
             0.8888888888888888,
             "#fdca26"
            ],
            [
             1.0,
             "#f0f921"
            ]
           ],
           "diverging": [
            [
             0,
             "#8e0152"
            ],
            [
             0.1,
             "#c51b7d"
            ],
            [
             0.2,
             "#de77ae"
            ],
            [
             0.3,
             "#f1b6da"
            ],
            [
             0.4,
             "#fde0ef"
            ],
            [
             0.5,
             "#f7f7f7"
            ],
            [
             0.6,
             "#e6f5d0"
            ],
            [
             0.7,
             "#b8e186"
            ],
            [
             0.8,
             "#7fbc41"
            ],
            [
             0.9,
             "#4d9221"
            ],
            [
             1,
             "#276419"
            ]
           ]
          },
          "xaxis": {
           "gridcolor": "#283442",
           "linecolor": "#506784",
           "ticks": "",
           "title": {
            "standoff": 15
           },
           "zerolinecolor": "#283442",
           "automargin": true,
           "zerolinewidth": 2
          },
          "yaxis": {
           "gridcolor": "#283442",
           "linecolor": "#506784",
           "ticks": "",
           "title": {
            "standoff": 15
           },
           "zerolinecolor": "#283442",
           "automargin": true,
           "zerolinewidth": 2
          },
          "scene": {
           "xaxis": {
            "backgroundcolor": "rgb(17,17,17)",
            "gridcolor": "#506784",
            "linecolor": "#506784",
            "showbackground": true,
            "ticks": "",
            "zerolinecolor": "#C8D4E3",
            "gridwidth": 2
           },
           "yaxis": {
            "backgroundcolor": "rgb(17,17,17)",
            "gridcolor": "#506784",
            "linecolor": "#506784",
            "showbackground": true,
            "ticks": "",
            "zerolinecolor": "#C8D4E3",
            "gridwidth": 2
           },
           "zaxis": {
            "backgroundcolor": "rgb(17,17,17)",
            "gridcolor": "#506784",
            "linecolor": "#506784",
            "showbackground": true,
            "ticks": "",
            "zerolinecolor": "#C8D4E3",
            "gridwidth": 2
           }
          },
          "shapedefaults": {
           "line": {
            "color": "#f2f5fa"
           }
          },
          "annotationdefaults": {
           "arrowcolor": "#f2f5fa",
           "arrowhead": 0,
           "arrowwidth": 1
          },
          "geo": {
           "bgcolor": "rgb(17,17,17)",
           "landcolor": "rgb(17,17,17)",
           "subunitcolor": "#506784",
           "showland": true,
           "showlakes": true,
           "lakecolor": "rgb(17,17,17)"
          },
          "title": {
           "x": 0.05
          },
          "updatemenudefaults": {
           "bgcolor": "#506784",
           "borderwidth": 0
          },
          "sliderdefaults": {
           "bgcolor": "#C8D4E3",
           "borderwidth": 1,
           "bordercolor": "rgb(17,17,17)",
           "tickwidth": 0
          },
          "mapbox": {
           "style": "dark"
          }
         }
        },
        "scene": {
         "domain": {
          "x": [
           0.0,
           1.0
          ],
          "y": [
           0.0,
           1.0
          ]
         },
         "xaxis": {
          "title": {
           "text": "n_neighbors"
          }
         },
         "yaxis": {
          "title": {
           "text": "dimensions"
          }
         },
         "zaxis": {
          "title": {
           "text": "num_outliers"
          }
         }
        },
        "coloraxis": {
         "colorbar": {
          "title": {
           "text": "num_outliers"
          },
          "len": 0.75
         },
         "colorscale": [
          [
           0.0,
           "#440154"
          ],
          [
           0.1111111111111111,
           "#482878"
          ],
          [
           0.2222222222222222,
           "#3e4989"
          ],
          [
           0.3333333333333333,
           "#31688e"
          ],
          [
           0.4444444444444444,
           "#26828e"
          ],
          [
           0.5555555555555556,
           "#1f9e89"
          ],
          [
           0.6666666666666666,
           "#35b779"
          ],
          [
           0.7777777777777778,
           "#6ece58"
          ],
          [
           0.8888888888888888,
           "#b5de2b"
          ],
          [
           1.0,
           "#fde725"
          ]
         ],
         "cmin": 125,
         "cmax": 2826
        },
        "legend": {
         "tracegroupgap": 0
        },
        "title": {
         "text": "3D Plot of num_outliers by n_neighbors and dimensions"
        },
        "width": 1600,
        "height": 800
       },
       "config": {
        "plotlyServerURL": "https://plot.ly"
       }
      }
     },
     "metadata": {},
     "output_type": "display_data"
    }
   ],
   "execution_count": 39
  },
  {
   "metadata": {},
   "cell_type": "markdown",
   "source": [
    "#### iii) Refine Experiment Based on Results\n",
    "##### Experiment 2"
   ],
   "id": "3b17a92072e2c6fe"
  },
  {
   "metadata": {},
   "cell_type": "code",
   "source": [
    "def get_nd_experiment2() -> List[Tuple[int]]:\n",
    "    \"\"\"\n",
    "    Get the n_neighbors and dimensions pairs for the second experiment.\n",
    "    This is based on the results of the first experiment.\n",
    "    \"\"\"\n",
    "    nd_set = set()\n",
    "    for n in range(2, 767, 25):\n",
    "        for d in range(2, 11, 1):\n",
    "            nd_set.add((n, d))\n",
    "    return list(nd_set)"
   ],
   "id": "936ba4dad2bbfce7",
   "outputs": [],
   "execution_count": null
  },
  {
   "metadata": {},
   "cell_type": "code",
   "source": [
    "def run_experiment(qid_lst: List[str], documents: List[str], embeds: np.ndarray, n_d_pairs: List[Tuple[int]], path: str) -> DataFrame:\n",
    "    \"\"\"Set up experiment.\"\"\"\n",
    "    # Suppress all warnings within this block\n",
    "    if not os.path.exists(path):\n",
    "        with warnings.catch_warnings():\n",
    "            warnings.simplefilter(\"ignore\")\n",
    "            results = dimred_experiment(qid_lst=qid_lst, questions=documents, embeddings=embeds, n_d_pairs=n_d_pairs)\n",
    "            results.to_csv(path, index=False)\n",
    "    else:\n",
    "        results = pd.read_csv(path)\n",
    "    return results"
   ],
   "id": "e6ad89aeaa1da435",
   "outputs": [],
   "execution_count": null
  },
  {
   "metadata": {},
   "cell_type": "code",
   "source": "DIMRED_EXPR2_PATH = \"data_storage/experiments/dimension_reduction_experiment2.csv\"",
   "id": "78c6add6a3b0ec83",
   "outputs": [],
   "execution_count": null
  },
  {
   "metadata": {},
   "cell_type": "code",
   "source": "dimred_exp2_results = run_experiment(qid_lst=qid_lst, documents=documents, embeds=embeds, n_d_pairs=get_nd_experiment2(), path=DIMRED_EXPR2_PATH)",
   "id": "f09333cfb2b2b04b",
   "outputs": [],
   "execution_count": null
  },
  {
   "metadata": {},
   "cell_type": "code",
   "source": [
    "combined_results = pd.concat([\n",
    "    combined_results.drop(columns=[\"id\", \"question\"]),\n",
    "    dimred_exp2_results], axis=1).reindex()\n",
    "combined_results.shape"
   ],
   "id": "efc4608f4cd99fbd",
   "outputs": [],
   "execution_count": null
  },
  {
   "metadata": {},
   "cell_type": "code",
   "source": "metrics = analyze_dimred_data(combined_results)",
   "id": "ada9280c58c8a545",
   "outputs": [],
   "execution_count": null
  },
  {
   "metadata": {},
   "cell_type": "code",
   "source": [
    "fig = interactive_plot3d(metrics, z_metric='num_clusters')\n",
    "fig.show()"
   ],
   "id": "8c172567ce8fd513",
   "outputs": [],
   "execution_count": null
  },
  {
   "metadata": {},
   "cell_type": "code",
   "source": [
    "fig = interactive_plot3d(metrics, z_metric='num_outliers')\n",
    "fig.show()"
   ],
   "id": "27fb3f7cdc4027a2",
   "outputs": [],
   "execution_count": null
  },
  {
   "metadata": {},
   "cell_type": "markdown",
   "source": "Inspect certain points manually to determine the quality of clusters",
   "id": "caa9920607849964"
  },
  {
   "metadata": {},
   "cell_type": "code",
   "source": [
    "def inspect_topic(data: DataFrame, n_neighbors: int, dimensions: int, sort_df=False, ascending=False) -> DataFrame:\n",
    "    \"\"\"\n",
    "    Inspect the results for a specific n_neighbors and dimensions combination.\n",
    "    \"\"\"\n",
    "    col_name = f\"n{n_neighbors}d{dimensions}\"\n",
    "    if col_name in data.columns:\n",
    "        output = data[[\"qid\", \"question\", col_name]].rename(columns={col_name: \"topic\"})\n",
    "        if sort_df:\n",
    "            output = output.sort_values(by=\"topic\", ascending=ascending)\n",
    "    else:\n",
    "        raise ValueError(f\"No results found for n_neighbors={n_neighbors} and dimensions={dimensions}\")\n",
    "    return output"
   ],
   "id": "b9d8fdb66d9c04e1",
   "outputs": [],
   "execution_count": null
  }
 ],
 "metadata": {
  "kernelspec": {
   "display_name": "drivetest_tag_gen",
   "language": "python",
   "name": "drivetest_tag_gen"
  },
  "language_info": {
   "codemirror_mode": {
    "name": "ipython",
    "version": 3
   },
   "file_extension": ".py",
   "mimetype": "text/x-python",
   "name": "python",
   "nbconvert_exporter": "python",
   "pygments_lexer": "ipython3",
   "version": "3.13.5"
  }
 },
 "nbformat": 4,
 "nbformat_minor": 5
}
