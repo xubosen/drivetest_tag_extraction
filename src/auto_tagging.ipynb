{
 "cells": [
  {
   "metadata": {},
   "cell_type": "markdown",
   "source": [
    "# Driving Exam Auto Tagging\n",
    "Direct tagging with a VLM"
   ],
   "id": "a6338108438402fb"
  },
  {
   "metadata": {},
   "cell_type": "markdown",
   "source": "## A. Load Question Data",
   "id": "cb858b7a257f6624"
  },
  {
   "metadata": {},
   "cell_type": "markdown",
   "source": "### 1. Import the scraped question bank",
   "id": "8dc1f3b0517888f1"
  },
  {
   "cell_type": "code",
   "id": "initial_id",
   "metadata": {
    "collapsed": true,
    "ExecuteTime": {
     "end_time": "2025-07-17T00:44:53.148664Z",
     "start_time": "2025-07-17T00:44:53.146125Z"
    }
   },
   "source": [
    "from src.qb.question_bank import QuestionBank\n",
    "from data_storage.database.json_database import LocalJsonDB"
   ],
   "outputs": [],
   "execution_count": 35
  },
  {
   "metadata": {
    "ExecuteTime": {
     "end_time": "2025-07-17T00:44:53.289006Z",
     "start_time": "2025-07-17T00:44:53.188874Z"
    }
   },
   "cell_type": "code",
   "source": [
    "db = LocalJsonDB(\"data_storage/database/json_db/data.json\",\n",
    "                 \"data_storage/database/json_db/images\")\n",
    "qb : QuestionBank = db.load()\n",
    "print(qb.question_count())"
   ],
   "id": "6b7e1c3ae610f675",
   "outputs": [
    {
     "name": "stdout",
     "output_type": "stream",
     "text": [
      "2836\n"
     ]
    }
   ],
   "execution_count": 36
  },
  {
   "metadata": {
    "ExecuteTime": {
     "end_time": "2025-07-17T00:44:53.309172Z",
     "start_time": "2025-07-17T00:44:53.304335Z"
    }
   },
   "cell_type": "code",
   "source": [
    "def set_up_question_chapters(qb: QuestionBank):\n",
    "    for chapter_id in qb.list_chapters():\n",
    "        for qid in qb.get_qids_by_chapter(chapter_id):\n",
    "            question = qb.get_question(qid)\n",
    "            question.set_chapter((chapter_id, qb.describe_chapter(chapter_id)))\n",
    "set_up_question_chapters(qb)"
   ],
   "id": "d7b4c2c6cecad391",
   "outputs": [],
   "execution_count": 37
  },
  {
   "metadata": {},
   "cell_type": "markdown",
   "source": [
    "### 2. Resize images\n",
    "Images are resized to 256x256 with grey padding to maintain aspect ratio."
   ],
   "id": "3e242e50d8a3d555"
  },
  {
   "metadata": {
    "ExecuteTime": {
     "end_time": "2025-07-17T00:44:53.323878Z",
     "start_time": "2025-07-17T00:44:53.321739Z"
    }
   },
   "cell_type": "code",
   "source": [
    "import os\n",
    "\n",
    "from data_cleaning.img_reshaper import ImgSquarer"
   ],
   "id": "2e9d66e42dbc8313",
   "outputs": [],
   "execution_count": 38
  },
  {
   "metadata": {
    "ExecuteTime": {
     "end_time": "2025-07-17T00:44:53.341357Z",
     "start_time": "2025-07-17T00:44:53.338158Z"
    }
   },
   "cell_type": "code",
   "source": [
    "def resize_images(qb: QuestionBank, squarer: ImgSquarer, new_dir: str) -> None:\n",
    "    for qid in qb.get_qid_list():\n",
    "        question = qb.get_question(qid)\n",
    "        if question.get_img_path() is not None:\n",
    "            new_path = squarer.reshape(qid, qb.get_img_dir(), new_dir)\n",
    "            question.set_img_path(new_path)\n",
    "    qb.set_img_dir(new_dir)"
   ],
   "id": "36c54dd3879a76ff",
   "outputs": [],
   "execution_count": 39
  },
  {
   "metadata": {
    "ExecuteTime": {
     "end_time": "2025-07-17T00:44:53.358679Z",
     "start_time": "2025-07-17T00:44:53.354382Z"
    }
   },
   "cell_type": "code",
   "source": [
    "IMG_DIR_256 = \"data_cleaning/resized_imgs/img256\"\n",
    "squarer_256 = ImgSquarer(256)\n",
    "# If the directory is empty, resize images.\n",
    "if not os.listdir(IMG_DIR_256):\n",
    "    print(\"Resizing images to 256x256...\")\n",
    "    resize_images(qb, squarer_256, IMG_DIR_256)\n",
    "else:\n",
    "    print(\"Images already resized to 256x256, skipping...\")"
   ],
   "id": "67e7138a1e08dc1d",
   "outputs": [
    {
     "name": "stdout",
     "output_type": "stream",
     "text": [
      "Images already resized to 256x256, skipping...\n"
     ]
    }
   ],
   "execution_count": 40
  },
  {
   "metadata": {},
   "cell_type": "markdown",
   "source": "## B. Auto Tagging with VLM",
   "id": "d989a90499682060"
  },
  {
   "metadata": {
    "ExecuteTime": {
     "end_time": "2025-07-17T00:44:53.380947Z",
     "start_time": "2025-07-17T00:44:53.378367Z"
    }
   },
   "cell_type": "code",
   "source": [
    "from transformers import Qwen2VLForConditionalGeneration, AutoTokenizer, AutoProcessor\n",
    "import torch\n",
    "from qwen_vl_utils import process_vision_info"
   ],
   "id": "17306111b669f962",
   "outputs": [],
   "execution_count": 41
  },
  {
   "metadata": {
    "ExecuteTime": {
     "end_time": "2025-07-17T00:44:53.400448Z",
     "start_time": "2025-07-17T00:44:53.398169Z"
    }
   },
   "cell_type": "code",
   "source": [
    "from typing import Dict, List, Any\n",
    "from src.qb.question import Question"
   ],
   "id": "2d296961c093958b",
   "outputs": [],
   "execution_count": 42
  },
  {
   "metadata": {
    "ExecuteTime": {
     "end_time": "2025-07-17T00:44:53.421546Z",
     "start_time": "2025-07-17T00:44:53.413936Z"
    }
   },
   "cell_type": "code",
   "source": [
    "def get_prompt() -> str:\n",
    "    prompt = \"\"\"你是一位驾考科目一领域的知识分类专家。你的核心任务是，通过“提炼与升维法”分步思考，综合分析给出的【章节】、【题目】、【选项】和【答案】，为这道题提炼并归纳出用于分类的高阶`tags`（标签）和用于搜索的精细`keywords`（关键词）。\n",
    "\n",
    "---\n",
    "### 思考与输出格式\n",
    "\n",
    "你必须严格遵循以下两步进行输出：\n",
    "\n",
    "**第一步：思考过程**\n",
    "你需要按下面的步骤展示你的分析逻辑：\n",
    "* **步骤1：情境概括。** 用一句话概括这道题的完整场景和核心问题。\n",
    "* **步骤2：关键词提取。** 从题目所有信息中，提取最核心、最具体的关键词。此步骤的输出将直接作为最终的`keywords`。\n",
    "* **步骤3：标签归纳与升维。** 针对上一步提取的关键词，思考它们各自所属的更高阶的“概念”或“分类”。例如，从“70周岁”可以升维至“高龄驾驶员”。\n",
    "* **步骤4：最终决策。** 从上一步归纳出的所有高阶概念中，选择2-4个最相关、最具有代表性的作为最终的`tags`。\n",
    "\n",
    "**第二步：最终输出**\n",
    "在完成思考过程后，另起一行，以一个包含`tags`和`keywords`两个键的JSON对象格式输出。\n",
    "* `tags`字段中放入步骤4决策的最终标签数组。\n",
    "* `keywords`字段中放入步骤2提取的（不重复的）关键要素数组。\n",
    "\n",
    "---\n",
    "### 示范\n",
    "\n",
    "**输入 1:**\n",
    "{\n",
    "  \"章节\": \"1: 道路交通安全法律、法规和规章\",\n",
    "  \"题目\": \"年满70周岁以上的机动车驾驶人发生责任交通事故造成人员重伤或者死亡的，应当在本记分周期结束后三十日内到公安机关交通管理部门接受审验。\",\n",
    "  \"选项\": {\"A\": \"对\", \"B\": \"错\"},\n",
    "  \"答案\": \"A\"\n",
    "}\n",
    "\n",
    "**输出 1:**\n",
    "思考过程:\n",
    "步骤1：情境概括。本题考察的是关于70岁以上驾驶员在发生严重责任事故后，必须在规定期限内接受驾驶证审验的法规。\n",
    "步骤2：关键词提取。70周岁、责任交通事故、重伤死亡、审验、三十日内、记分周期。\n",
    "步骤3：标签归纳与升维。“70周岁” -\\> 高龄驾驶员；“责任交通事故”、“重伤死亡” -\\> 交通事故责任；“审验”、“记分周期”、“三十日内” -\\> 驾驶证审验；题目来源的章节 -\\> 法律法规。\n",
    "步骤4：最终决策。选择“驾驶证审验”、“高龄驾驶员”、“交通事故责任”、“法律法规”作为最核心的标签。\n",
    "\n",
    "最终输出:\n",
    "{\n",
    "  \"tags\": [\"驾驶证审验\", \"高龄驾驶员\", \"交通事故责任\", \"法律法规\"],\n",
    "  \"keywords\": [\"70周岁\", \"责任交通事故\", \"重伤死亡\", \"审验\", \"三十日内\", \"记分周期\"]\n",
    "}\n",
    "\n",
    "**输入 2:**\n",
    "{\n",
    "  \"章节\": \"2: 交通信号\",\n",
    "  \"题目\": \"浓雾天气能见度低，开启远光灯会提高能见度。\",\n",
    "  \"选项\": {\"A\": \"对\", \"B\": \"错\"},\n",
    "  \"答案\": \"B\"\n",
    "}\n",
    "\n",
    "**输出 2:**\n",
    "思考过程:\n",
    "步骤1：情境概括。本题考察的是在浓雾天气下，错误使用远光灯反而会降低能见度的安全知识。\n",
    "步骤2：关键词提取。浓雾、能见度低、远光灯、视野、错误操作。\n",
    "步骤3：标签归纳与升维。“浓雾” -\\> 恶劣天气驾驶；“远光灯” -\\> 灯光使用；“能见度低”、“视野” -\\> 安全视野。\n",
    "步骤4：最终决策。选择“恶劣天气驾驶”、“灯光使用”、“安全视野”作为最核心的标签。\n",
    "\n",
    "最终输出:\n",
    "{\n",
    "  \"tags\": [\"恶劣天气驾驶\", \"灯光使用\", \"安全视野\"],\n",
    "  \"keywords\": [\"浓雾\", \"能见度低\", \"远光灯\", \"视野\", \"漫反射\"]\n",
    "}\n",
    "\n",
    "**输入 3:**\n",
    "{\n",
    "  \"章节\": \"3: 安全行车、文明驾驶基础知识\",\n",
    "  \"题目\": \"参加公安机关交通管理部门组织的道路交通安全法律、法规和相关知识网上学习三日内累计满三十分钟且考试合格的，一次扣减1分交通违法行为记分。\",\n",
    "  \"选项\": {\"A\": \"对\", \"B\": \"错\"},\n",
    "  \"答案\": \"A\"\n",
    "}\n",
    "\n",
    "**输出 3:**\n",
    "思考过程:\n",
    "步骤1：情境概括。本题考察的是关于“学法减分”政策的具体执行标准，包括学习时长和减免分数。\n",
    "步骤2：关键词提取。网上学习、考试合格、扣减1分、记分、三日内、三十分钟。\n",
    "步骤3：标签归纳与升维。“网上学习”、“扣减1分” -\\> 学法减分；“记分” -\\> 记分管理；题目来源的章节 -\\> 法律法规。\n",
    "步骤4：最终决策。选择“学法减分”、“记分管理”、“法律法规”作为最核心的标签。\n",
    "\n",
    "最终输出:\n",
    "{\n",
    "  \"tags\": [\"学法减分\", \"记分管理\", \"法律法规\"],\n",
    "  \"keywords\": [\"网上学习\", \"考试合格\", \"扣减1分\", \"记分\", \"三日内\", \"三十分钟\"]\n",
    "}\n",
    "\n",
    "**输入 4:**\n",
    "{\n",
    "  \"章节\": \"4: 机动车驾驶操作相关基础知识\",\n",
    "  \"题目\": \"机动车仪表板上如图所示这个符号表示什么？\",\n",
    "  \"选项\": {\"A\": \"后雾灯开关\", \"B\": \"车灯总开关\", \"C\": \"近光灯开关\", \"D\": \"远光灯开关\"},\n",
    "  \"答案\": \"B\"\n",
    "}\n",
    "\n",
    "**输出 4:**\n",
    "思考过程:\n",
    "步骤1：情境概括。本题考察的是对仪表板上一个特定符号（车灯总开关）的辨认能力。\n",
    "步骤2：关键词提取。仪表板、符号、车灯总开关、后雾灯、近光灯、远光灯。\n",
    "步骤3：标签归纳与升维。“仪表板”、“符号” -\\> 仪表与指示灯；“车灯总开关”、“后雾灯开关”等选项 -\\> 灯光开关、车辆功能按键。\n",
    "步骤4：最终决策。选择“仪表与指示灯”、“车辆功能按键”、“灯光开关”作为最核心的标签。\n",
    "\n",
    "最终输出:\n",
    "{\n",
    "  \"tags\": [\"仪表与指示灯\", \"车辆功能按键\", \"灯光开关\"],\n",
    "  \"keywords\": [\"仪表板\", \"符号\", \"车灯总开关\", \"后雾灯\", \"近光灯\", \"远光灯\"]\n",
    "}\n",
    "\n",
    "**输入 5:**\n",
    "{\n",
    "  \"章节\": \"5: 货车专用试题\",\n",
    "  \"题目\": \"安全头枕在发生追尾事故时，能有效保护驾驶人的什么部位？\",\n",
    "  \"选项\": {\"A\": \"头部\", \"B\": \"胸部\", \"C\": \"腰部\", \"D\": \"颈部\"},\n",
    "  \"答案\": \"D\"\n",
    "}\n",
    "\n",
    "**输出 5:**\n",
    "思考过程:\n",
    "步骤1：情境概括。本题考察的是车辆被动安全装置“安全头枕”在追尾事故中对驾驶员颈部的保护功能。\n",
    "步骤2：关键词提取。安全头枕、追尾事故、保护、颈部、货车。\n",
    "步骤3：标签归纳与升维。“安全头枕” -\\> 车辆安全装置、被动安全；“追尾事故” -\\> 追尾事故防护；“颈部” -\\> 驾驶员防护。\n",
    "步骤4：最终决策。选择“车辆安全装置”、“被动安全”、“追尾事故防护”作为最核心的标签。\n",
    "\n",
    "最终输出:\n",
    "{\n",
    "  \"tags\": [\"车辆安全装置\", \"被动安全\", \"追尾事故防护\"],\n",
    "  \"keywords\": [\"安全头枕\", \"追尾事故\", \"保护\", \"颈部\", \"货车\"]\n",
    "}\n",
    "\n",
    "**输入 6:**\n",
    "{\n",
    "  \"章节\": \"6: 客车专用试题\",\n",
    "  \"题目\": \"再次饮酒后驾驶机动车的，不得申请大型客车准驾车型。\",\n",
    "  \"选项\": {\"A\": \"对\", \"B\": \"错\"},\n",
    "  \"答案\": \"A\"\n",
    "}\n",
    "\n",
    "**输出 6:**\n",
    "思考过程:\n",
    "步骤1：情境概括。本题考察的是因有“再次酒驾”这一严重违法行为历史，导致驾驶人被限制申请大型客车准驾车型的法律规定。\n",
    "步骤2：关键词提取。再次饮酒、驾驶、不得申请、大型客车、准驾车型。\n",
    "步骤3：标签归纳与升维。“再次饮酒” -\\> 饮酒驾驶、违法行为处罚；“不得申请”、“准驾车型” -\\> 驾驶证申领；“大型客车” -\\> 客车规定。\n",
    "步骤4：最终决策。选择“驾驶证申领”、“饮酒驾驶”、“客车规定”、“违法行为处罚”作为最核心的标签。\n",
    "\n",
    "最终输出:\n",
    "{\n",
    "  \"tags\": [\"驾驶证申领\", \"饮酒驾驶\", \"客车规定\", \"违法行为处罚\"],\n",
    "  \"keywords\": [\"再次饮酒\", \"驾驶\", \"不得申请\", \"大型客车\", \"准驾车型\"]\n",
    "}\n",
    "\n",
    "**输入 7:**\n",
    "{\n",
    "  \"章节\": \"7: 摩托车专用试题\",\n",
    "  \"题目\": \"驾驶机动车在道路上向右变更车道可以不使用转向灯。\",\n",
    "  \"选项\": {\"A\": \"对\", \"B\": \"错\"},\n",
    "  \"答案\": \"B\"\n",
    "}\n",
    "\n",
    "**输出 7:**\n",
    "思考过程:\n",
    "步骤1：情境概括。本题考察的是变更车道前必须使用转向灯这一基本安全驾驶操作规范。\n",
    "步骤2：关键词提取。变更车道、转向灯、向右、摩托车、不使用。\n",
    "步骤3：标签归-维。“变更车道” -\\> 变更车道、安全驾驶操作；“转向灯” -\\> 转向灯使用；该行为规范 -\\> 道路通行规则。\n",
    "步骤4：最终决策。选择“安全驾驶操作”、“变更车道”、“转向灯使用”、“道路通行规则”作为最核心的标签。\n",
    "\n",
    "最终输出:\n",
    "{\n",
    "  \"tags\": [\"安全驾驶操作\", \"变更车道\", \"转向灯使用\", \"道路通行规则\"],\n",
    "  \"keywords\": [\"变更车道\", \"转向灯\", \"向右\", \"摩托车\", \"示意\"]\n",
    "}\n",
    "\n",
    "-----\n",
    "\n",
    "### 待处理问题\n",
    "\n",
    "请根据以上规则，为下面的问题生成标签。\n",
    "\"\"\"\n",
    "    return prompt"
   ],
   "id": "6a30a468b98881c2",
   "outputs": [],
   "execution_count": 43
  },
  {
   "metadata": {
    "ExecuteTime": {
     "end_time": "2025-07-17T00:44:53.437825Z",
     "start_time": "2025-07-17T00:44:53.434035Z"
    }
   },
   "cell_type": "code",
   "source": [
    "def format_question(question: Question) -> str:\n",
    "    \"\"\" Format the question into a json string \"\"\"\n",
    "    dict_question = {\"章节\": f\"{question.get_chapter()[0]}: {question.get_chapter()[1]}\",\n",
    "                     \"题目\": question.get_question(),\n",
    "                     \"选项\": {},\n",
    "                     \"答案\": \"\"}\n",
    "\n",
    "    answer_choices = list(question.get_answers())\n",
    "    answer_choices.sort()\n",
    "    for i in range(0, len(answer_choices)):\n",
    "        letter_code = chr(ord('A') + i)\n",
    "        dict_question[\"选项\"][letter_code] = answer_choices[i]\n",
    "        if answer_choices[i] == question.get_correct_answer():\n",
    "            dict_question[\"答案\"] = letter_code\n",
    "    return str(dict_question)"
   ],
   "id": "d629ea5223d545cc",
   "outputs": [],
   "execution_count": 44
  },
  {
   "metadata": {
    "ExecuteTime": {
     "end_time": "2025-07-17T00:44:53.454204Z",
     "start_time": "2025-07-17T00:44:53.450804Z"
    }
   },
   "cell_type": "code",
   "source": [
    "sample_lst = []\n",
    "for chapter in qb.list_chapters():\n",
    "    for qid in qb.get_qids_by_chapter(chapter):\n",
    "        test_question = qb.get_question(qid)\n",
    "        sample_lst.append(format_question(test_question))\n",
    "        break\n",
    "\n",
    "for sample in sample_lst:\n",
    "    print(sample)"
   ],
   "id": "c3c411b33827a269",
   "outputs": [
    {
     "name": "stdout",
     "output_type": "stream",
     "text": [
      "{'章节': '1: 道路交通安全法律、法规和规章', '题目': '三年内有代替他人参加机动车驾驶人考试行为的，不得申请机动车驾驶证。', '选项': {'A': '对', 'B': '错'}, '答案': 'A'}\n",
      "{'章节': '2: 交通信号', '题目': '这个标志是何含义？', '选项': {'A': '右侧车辆向左行驶', 'B': '向左边变更车道', 'C': '硬路肩允许行驶即将结束', 'D': '硬路肩禁止行驶'}, '答案': 'C'}\n",
      "{'章节': '3: 安全行车、文明驾驶基础知识', '题目': '倒车过程中要缓慢行驶，注意观察车辆两侧和后方的情况，随时做好停车准备。', '选项': {'A': '对', 'B': '错'}, '答案': 'A'}\n",
      "{'章节': '4: 机动车驾驶操作相关基础知识', '题目': '车辆停稳后，为了避免车辆溜动，应当拉起下列哪个装置？', '选项': {'A': '变速器操纵杆', 'B': '离合器操纵杆', 'C': '节气门操纵杆', 'D': '驻车制动器操纵杆'}, '答案': 'D'}\n",
      "{'章节': '5: 货车专用试题', '题目': '机动车在紧急制动时ABS系统会起到什么作用？', '选项': {'A': '减轻制动惯性', 'B': '切断动力输出', 'C': '自动控制方向', 'D': '防止车轮抱死'}, '答案': 'D'}\n",
      "{'章节': '6: 客车专用试题', '题目': '城市公共汽车不得在站点以外的路段停车上下乘客。', '选项': {'A': '对', 'B': '错'}, '答案': 'A'}\n",
      "{'章节': '7: 摩托车专用试题', '题目': '驾驶机动车在没有交通信号的路口遇到前方车辆缓慢行驶时要依次交替通行。', '选项': {'A': '对', 'B': '错'}, '答案': 'A'}\n"
     ]
    }
   ],
   "execution_count": 45
  },
  {
   "metadata": {
    "ExecuteTime": {
     "end_time": "2025-07-17T00:44:53.475505Z",
     "start_time": "2025-07-17T00:44:53.472401Z"
    }
   },
   "cell_type": "code",
   "source": [
    "def make_content(question: Question) -> List[Dict[str, Any]]:\n",
    "    if question.get_img_path() is not None:\n",
    "        return [\n",
    "            {\"type\": \"image\",\n",
    "             \"image\": question.get_img_path()},\n",
    "            {\"type\": \"text\",\n",
    "             \"text\": format_question(question)},\n",
    "        ]\n",
    "    else:\n",
    "        return [\n",
    "            {\"type\": \"text\",\n",
    "             \"text\": format_question(question)}\n",
    "        ]"
   ],
   "id": "18808f5abd2456cb",
   "outputs": [],
   "execution_count": 46
  },
  {
   "metadata": {
    "ExecuteTime": {
     "end_time": "2025-07-17T00:44:53.493680Z",
     "start_time": "2025-07-17T00:44:53.491076Z"
    }
   },
   "cell_type": "code",
   "source": [
    "def make_message(question: Question) -> List[Dict[str, Any]]:\n",
    "    return [{\"role\": \"system\",\n",
    "             \"content\": get_prompt()},\n",
    "            {\"role\": \"user\",\n",
    "             \"content\": make_content(question)}]"
   ],
   "id": "609dafe841ab3334",
   "outputs": [],
   "execution_count": 47
  },
  {
   "metadata": {
    "ExecuteTime": {
     "end_time": "2025-07-17T00:44:53.525317Z",
     "start_time": "2025-07-17T00:44:53.522551Z"
    }
   },
   "cell_type": "code",
   "source": [
    "def make_messages(qb: QuestionBank) -> List[List[Dict[str, Any]]]:\n",
    "    input_lst = []\n",
    "    for qid in qb.get_qid_list():\n",
    "        input_lst.append(make_message(qb.get_question(qid)))\n",
    "    return input_lst"
   ],
   "id": "40265e8e0d3cfe92",
   "outputs": [],
   "execution_count": 49
  },
  {
   "metadata": {
    "ExecuteTime": {
     "end_time": "2025-07-17T00:44:53.541137Z",
     "start_time": "2025-07-17T00:44:53.538078Z"
    }
   },
   "cell_type": "code",
   "source": [
    "def make_inputs(messages, processor):\n",
    "    texts = []\n",
    "    for msg in messages:\n",
    "        texts.append(processor.apply_chat_template(msg, tokenize=False, add_generation_prompt=True))\n",
    "    image_inputs, video_inputs = process_vision_info(messages)\n",
    "    inputs = processor(\n",
    "        text=texts,\n",
    "        images=image_inputs,\n",
    "        videos=video_inputs,\n",
    "        padding=True,\n",
    "        return_tensors=\"pt\",\n",
    "    )\n",
    "    inputs = inputs.to(\"cuda\")\n",
    "    return inputs"
   ],
   "id": "3bd3938d89ae3564",
   "outputs": [],
   "execution_count": 50
  },
  {
   "metadata": {
    "ExecuteTime": {
     "end_time": "2025-07-17T00:45:02.232799Z",
     "start_time": "2025-07-17T00:44:53.554180Z"
    }
   },
   "cell_type": "code",
   "source": [
    "# We recommend enabling flash_attention_2 for better acceleration and memory saving, especially in multi-image and video scenarios.\n",
    "model = Qwen2VLForConditionalGeneration.from_pretrained(\n",
    "    \"Qwen/Qwen2-VL-2B-Instruct\",\n",
    "    torch_dtype=torch.bfloat16,\n",
    "    attn_implementation=\"flash_attention_2\",\n",
    "    device_map=\"cuda\",\n",
    ")\n",
    "\n",
    "# The default range for the number of visual tokens per image in the model is 4-16384. You can set min_pixels and max_pixels according to your needs, such as a token count range of 256-1280, to balance speed and memory usage.\n",
    "min_pixels = 256*28*28\n",
    "max_pixels = 257*28*28\n",
    "processor = AutoProcessor.from_pretrained(\"Qwen/Qwen2-VL-2B-Instruct\", min_pixels=min_pixels, max_pixels=max_pixels, use_fast=True)"
   ],
   "id": "c220319ab2db660b",
   "outputs": [
    {
     "data": {
      "text/plain": [
       "Loading checkpoint shards:   0%|          | 0/2 [00:00<?, ?it/s]"
      ],
      "application/vnd.jupyter.widget-view+json": {
       "version_major": 2,
       "version_minor": 0,
       "model_id": "eca8da1aca8c4b2e9ae19a83a726eed3"
      }
     },
     "metadata": {},
     "output_type": "display_data"
    },
    {
     "name": "stderr",
     "output_type": "stream",
     "text": [
      "You have video processor config saved in `preprocessor.json` file which is deprecated. Video processor configs should be saved in their own `video_preprocessor.json` file. You can rename the file or load and save the processor back which renames it automatically. Loading from `preprocessor.json` will be removed in v5.0.\n"
     ]
    }
   ],
   "execution_count": 51
  },
  {
   "metadata": {
    "ExecuteTime": {
     "end_time": "2025-07-17T00:45:02.726360Z",
     "start_time": "2025-07-17T00:45:02.705020Z"
    }
   },
   "cell_type": "code",
   "source": [
    "messages = make_messages(qb)\n",
    "inputs = make_inputs(messages, processor)"
   ],
   "id": "119011e03f1cb8b0",
   "outputs": [],
   "execution_count": 52
  },
  {
   "metadata": {
    "ExecuteTime": {
     "end_time": "2025-07-17T06:56:18.459246Z",
     "start_time": "2025-07-17T00:45:03.952916Z"
    }
   },
   "cell_type": "code",
   "source": "generated_ids = model.generate(**inputs, max_new_tokens=512)",
   "id": "4181bee78dafa005",
   "outputs": [],
   "execution_count": 54
  },
  {
   "metadata": {
    "ExecuteTime": {
     "end_time": "2025-07-18T00:06:35.104382Z",
     "start_time": "2025-07-18T00:06:35.100729Z"
    }
   },
   "cell_type": "code",
   "source": [
    "generated_ids_trimmed = [\n",
    "    out_ids[len(in_ids) :] for in_ids, out_ids in zip(inputs.input_ids, generated_ids)\n",
    "]"
   ],
   "id": "d538350c543f058a",
   "outputs": [],
   "execution_count": 68
  },
  {
   "metadata": {
    "ExecuteTime": {
     "end_time": "2025-07-18T00:06:35.930999Z",
     "start_time": "2025-07-18T00:06:35.926395Z"
    }
   },
   "cell_type": "code",
   "source": [
    "results = processor.batch_decode(\n",
    "    generated_ids_trimmed, skip_special_tokens=True, clean_up_tokenization_spaces=False\n",
    ")"
   ],
   "id": "2a6556c4a453dab5",
   "outputs": [],
   "execution_count": 69
  },
  {
   "metadata": {
    "ExecuteTime": {
     "end_time": "2025-07-18T00:08:38.023986Z",
     "start_time": "2025-07-18T00:08:38.018130Z"
    }
   },
   "cell_type": "code",
   "source": [
    "import pandas as pd\n",
    "from pandas import DataFrame\n",
    "\n",
    "def result_to_df(qb: QuestionBank, messages: List[List[Dict[str, Any]]], result: List[str]) -> DataFrame:\n",
    "    \"\"\" Convert the result into a dataframe \"\"\"\n",
    "    data = {\n",
    "        \"qid\": qb.get_qid_list(),\n",
    "        \"question\": [],\n",
    "        \"tags\": [],\n",
    "        \"keywords\":[]\n",
    "    }\n",
    "    for msg in messages:\n",
    "        question_text = msg[-1][\"content\"][-1][\"text\"]\n",
    "        data[\"question\"].append(question_text)\n",
    "    for output in result:\n",
    "        tag_start = output.rfind(\"tags: [\")\n",
    "        tag_end = output[tag_start:].find(\"]\")\n",
    "        keywords_start = output.rfind(\"keywords: [\")\n",
    "        keywords_end = output[keywords_start:].find(\"]\")\n",
    "        tags = output[tag_start + 7: tag_end + tag_start].strip().split(\", \")\n",
    "        keywords = output[keywords_start + 11: keywords_end + keywords_start].strip().split(\", \")\n",
    "        data[\"tags\"].append(tags)\n",
    "        data[\"keywords\"].append(keywords)\n",
    "    return DataFrame(data)"
   ],
   "id": "6bc08eb324ddaedb",
   "outputs": [],
   "execution_count": 79
  },
  {
   "metadata": {
    "ExecuteTime": {
     "end_time": "2025-07-18T00:08:38.562313Z",
     "start_time": "2025-07-18T00:08:38.557838Z"
    }
   },
   "cell_type": "code",
   "source": [
    "from datetime import datetime\n",
    "TAGGING_RESULTS_DIR = \"data_storage/tagging_results\"\n",
    "\n",
    "def save_labeling_data(qb: QuestionBank, messages: List[List[Dict[str, Any]]], results: List[str]) -> None:\n",
    "    \"\"\" Save the tagging results to a CSV file \"\"\"\n",
    "    if not os.path.exists(TAGGING_RESULTS_DIR):\n",
    "        os.makedirs(TAGGING_RESULTS_DIR)\n",
    "\n",
    "    timestamp = datetime.now().strftime(\"%Y%m%d_%H%M\")\n",
    "    tagging_results_file = os.path.join(TAGGING_RESULTS_DIR, f\"tagging_results_{timestamp}.csv\")\n",
    "    tagging_results = result_to_df(qb, messages, results)\n",
    "    tagging_results.to_csv(tagging_results_file, index=False)"
   ],
   "id": "51c8bdeca3d5c617",
   "outputs": [],
   "execution_count": 80
  },
  {
   "metadata": {
    "ExecuteTime": {
     "end_time": "2025-07-18T00:08:39.133062Z",
     "start_time": "2025-07-18T00:08:39.127853Z"
    }
   },
   "cell_type": "code",
   "source": [
    "def load_labeling_data() -> DataFrame:\n",
    "    \"\"\" Load the tagging results from the latest CSV file \"\"\"\n",
    "    files = os.listdir(TAGGING_RESULTS_DIR)\n",
    "    if not files:\n",
    "        return DataFrame()\n",
    "    latest_file = max(files, key=lambda x: os.path.getctime(os.path.join(TAGGING_RESULTS_DIR, x)))\n",
    "    return pd.read_csv(os.path.join(TAGGING_RESULTS_DIR, latest_file))"
   ],
   "id": "372222342d48a5c8",
   "outputs": [],
   "execution_count": 81
  },
  {
   "metadata": {
    "ExecuteTime": {
     "end_time": "2025-07-18T00:08:39.624412Z",
     "start_time": "2025-07-18T00:08:39.616049Z"
    }
   },
   "cell_type": "code",
   "source": [
    "save_labeling_data(qb, msgs_sample, results)\n",
    "tagging_results = load_labeling_data()"
   ],
   "id": "6c43b356d5c56449",
   "outputs": [],
   "execution_count": 82
  },
  {
   "metadata": {
    "ExecuteTime": {
     "end_time": "2025-07-18T00:08:40.101303Z",
     "start_time": "2025-07-18T00:08:40.095417Z"
    }
   },
   "cell_type": "code",
   "source": "tagging_results.head()",
   "id": "6af44dbc217aeef7",
   "outputs": [
    {
     "data": {
      "text/plain": [
       "                                            question  \\\n",
       "0  {'章节': '2: 交通信号', '题目': '这个标志是何含义？', '选项': {'A...   \n",
       "1  {'章节': '2: 交通信号', '题目': '这个标志是何含义？', '选项': {'A...   \n",
       "2  {'章节': '1: 道路交通安全法律、法规和规章', '题目': '驾驶校车、中型以上载客...   \n",
       "3  {'章节': '2: 交通信号', '题目': '如图所示，驾驶机动车行驶至铁路道口时，以下...   \n",
       "4  {'章节': '1: 道路交通安全法律、法规和规章', '题目': '图中前方机动车存在什么...   \n",
       "\n",
       "                                                tags  \\\n",
       "0  ['步骤1：情境概括。本题考察的是交通信号标志的含义。\\n步骤2：关键词提取。交通信号、标志...   \n",
       "1  ['步骤1：情境概括。本题考察的是交通信号标志的含义。\\n步骤2：关键词提取。交通信号、标志...   \n",
       "2  ['步骤1：情境概括。本题考察的是关于高速公路上行驶超过规定时速百分之四十的违法行为，以及相...   \n",
       "3  ['步骤1：情境概括。本题考察的是在铁路道口行驶时，正确处理交通信号灯的使用。\\n步骤2：关...   \n",
       "4  ['步骤1：情境概括。本题考察的是在雨天驾驶时，前方机动车存在哪些违法行为。\\n步骤2：关键...   \n",
       "\n",
       "                                            keywords  \n",
       "0  ['情境概括。本题考察的是交通信号标志的含义。\\n步骤2：关键词提取。交通信号、标志、禁止直...  \n",
       "1  ['情境概括。本题考察的是交通信号标志的含义。\\n步骤2：关键词提取。交通信号、标志、直行、...  \n",
       "2  ['情境概括。本题考察的是关于高速公路上行驶超过规定时速百分之四十的违法行为，以及相应的记分...  \n",
       "3  ['情境概括。本题考察的是在铁路道口行驶时，正确处理交通信号灯的使用。\\n步骤2：关键词提取...  \n",
       "4  ['情境概括。本题考察的是在雨天驾驶时，前方机动车存在哪些违法行为。\\n步骤2：关键词提取。...  "
      ],
      "text/html": [
       "<div>\n",
       "<style scoped>\n",
       "    .dataframe tbody tr th:only-of-type {\n",
       "        vertical-align: middle;\n",
       "    }\n",
       "\n",
       "    .dataframe tbody tr th {\n",
       "        vertical-align: top;\n",
       "    }\n",
       "\n",
       "    .dataframe thead th {\n",
       "        text-align: right;\n",
       "    }\n",
       "</style>\n",
       "<table border=\"1\" class=\"dataframe\">\n",
       "  <thead>\n",
       "    <tr style=\"text-align: right;\">\n",
       "      <th></th>\n",
       "      <th>question</th>\n",
       "      <th>tags</th>\n",
       "      <th>keywords</th>\n",
       "    </tr>\n",
       "  </thead>\n",
       "  <tbody>\n",
       "    <tr>\n",
       "      <th>0</th>\n",
       "      <td>{'章节': '2: 交通信号', '题目': '这个标志是何含义？', '选项': {'A...</td>\n",
       "      <td>['步骤1：情境概括。本题考察的是交通信号标志的含义。\\n步骤2：关键词提取。交通信号、标志...</td>\n",
       "      <td>['情境概括。本题考察的是交通信号标志的含义。\\n步骤2：关键词提取。交通信号、标志、禁止直...</td>\n",
       "    </tr>\n",
       "    <tr>\n",
       "      <th>1</th>\n",
       "      <td>{'章节': '2: 交通信号', '题目': '这个标志是何含义？', '选项': {'A...</td>\n",
       "      <td>['步骤1：情境概括。本题考察的是交通信号标志的含义。\\n步骤2：关键词提取。交通信号、标志...</td>\n",
       "      <td>['情境概括。本题考察的是交通信号标志的含义。\\n步骤2：关键词提取。交通信号、标志、直行、...</td>\n",
       "    </tr>\n",
       "    <tr>\n",
       "      <th>2</th>\n",
       "      <td>{'章节': '1: 道路交通安全法律、法规和规章', '题目': '驾驶校车、中型以上载客...</td>\n",
       "      <td>['步骤1：情境概括。本题考察的是关于高速公路上行驶超过规定时速百分之四十的违法行为，以及相...</td>\n",
       "      <td>['情境概括。本题考察的是关于高速公路上行驶超过规定时速百分之四十的违法行为，以及相应的记分...</td>\n",
       "    </tr>\n",
       "    <tr>\n",
       "      <th>3</th>\n",
       "      <td>{'章节': '2: 交通信号', '题目': '如图所示，驾驶机动车行驶至铁路道口时，以下...</td>\n",
       "      <td>['步骤1：情境概括。本题考察的是在铁路道口行驶时，正确处理交通信号灯的使用。\\n步骤2：关...</td>\n",
       "      <td>['情境概括。本题考察的是在铁路道口行驶时，正确处理交通信号灯的使用。\\n步骤2：关键词提取...</td>\n",
       "    </tr>\n",
       "    <tr>\n",
       "      <th>4</th>\n",
       "      <td>{'章节': '1: 道路交通安全法律、法规和规章', '题目': '图中前方机动车存在什么...</td>\n",
       "      <td>['步骤1：情境概括。本题考察的是在雨天驾驶时，前方机动车存在哪些违法行为。\\n步骤2：关键...</td>\n",
       "      <td>['情境概括。本题考察的是在雨天驾驶时，前方机动车存在哪些违法行为。\\n步骤2：关键词提取。...</td>\n",
       "    </tr>\n",
       "  </tbody>\n",
       "</table>\n",
       "</div>"
      ]
     },
     "execution_count": 83,
     "metadata": {},
     "output_type": "execute_result"
    }
   ],
   "execution_count": 83
  }
 ],
 "metadata": {
  "kernelspec": {
   "display_name": "Python 3",
   "language": "python",
   "name": "python3"
  },
  "language_info": {
   "codemirror_mode": {
    "name": "ipython",
    "version": 2
   },
   "file_extension": ".py",
   "mimetype": "text/x-python",
   "name": "python",
   "nbconvert_exporter": "python",
   "pygments_lexer": "ipython2",
   "version": "2.7.6"
  }
 },
 "nbformat": 4,
 "nbformat_minor": 5
}
