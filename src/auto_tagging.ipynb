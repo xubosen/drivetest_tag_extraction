{
 "cells": [
  {
   "metadata": {},
   "cell_type": "markdown",
   "source": [
    "# Driving Exam Auto Tagging\n",
    "Direct tagging with a VLM"
   ],
   "id": "a6338108438402fb"
  },
  {
   "metadata": {},
   "cell_type": "markdown",
   "source": "## A. Load Question Data",
   "id": "cb858b7a257f6624"
  },
  {
   "metadata": {},
   "cell_type": "markdown",
   "source": "### 1. Import the scraped question bank",
   "id": "8dc1f3b0517888f1"
  },
  {
   "cell_type": "code",
   "id": "initial_id",
   "metadata": {
    "collapsed": true,
    "ExecuteTime": {
     "end_time": "2025-07-15T16:51:21.015926Z",
     "start_time": "2025-07-15T16:51:21.009280Z"
    }
   },
   "source": [
    "from src.qb.question_bank import QuestionBank\n",
    "from data_storage.database.json_database import LocalJsonDB"
   ],
   "outputs": [],
   "execution_count": 1
  },
  {
   "metadata": {
    "ExecuteTime": {
     "end_time": "2025-07-15T16:51:21.221329Z",
     "start_time": "2025-07-15T16:51:21.121456Z"
    }
   },
   "cell_type": "code",
   "source": [
    "db = LocalJsonDB(\"data_storage/database/json_db/data.json\",\n",
    "                 \"data_storage/database/json_db/images\")\n",
    "qb : QuestionBank = db.load()\n",
    "print(qb.question_count())"
   ],
   "id": "6b7e1c3ae610f675",
   "outputs": [
    {
     "name": "stdout",
     "output_type": "stream",
     "text": [
      "2836\n"
     ]
    }
   ],
   "execution_count": 2
  },
  {
   "metadata": {
    "ExecuteTime": {
     "end_time": "2025-07-15T16:51:21.722399Z",
     "start_time": "2025-07-15T16:51:21.241624Z"
    }
   },
   "cell_type": "code",
   "source": [
    "def set_up_question_chapters(qb: QuestionBank):\n",
    "    for chapter_id in qb.list_chapters():\n",
    "        for qid in qb.get_qids_by_chapter():\n",
    "            question = qb.get_question(qid)\n",
    "            question.set_chapter((chapter_id, qb.describe_chapter(chapter_id)))\n",
    "set_up_question_chapters(qb)"
   ],
   "id": "d7b4c2c6cecad391",
   "outputs": [
    {
     "ename": "AttributeError",
     "evalue": "'QuestionBank' object has no attribute 'list_chapters'",
     "output_type": "error",
     "traceback": [
      "\u001B[31m---------------------------------------------------------------------------\u001B[39m",
      "\u001B[31mAttributeError\u001B[39m                            Traceback (most recent call last)",
      "\u001B[36mCell\u001B[39m\u001B[36m \u001B[39m\u001B[32mIn[3]\u001B[39m\u001B[32m, line 6\u001B[39m\n\u001B[32m      4\u001B[39m             question = qb.get_question(qid)\n\u001B[32m      5\u001B[39m             question.set_chapter((chapter_id, qb.describe_chapter(chapter_id)))\n\u001B[32m----> \u001B[39m\u001B[32m6\u001B[39m set_up_question_chapters(qb)\n",
      "\u001B[36mCell\u001B[39m\u001B[36m \u001B[39m\u001B[32mIn[3]\u001B[39m\u001B[32m, line 2\u001B[39m, in \u001B[36mset_up_question_chapters\u001B[39m\u001B[34m(qb)\u001B[39m\n\u001B[32m      1\u001B[39m \u001B[38;5;28;01mdef\u001B[39;00m\u001B[38;5;250m \u001B[39m\u001B[34mset_up_question_chapters\u001B[39m(qb: QuestionBank):\n\u001B[32m----> \u001B[39m\u001B[32m2\u001B[39m     \u001B[38;5;28;01mfor\u001B[39;00m chapter_id \u001B[38;5;129;01min\u001B[39;00m qb.list_chapters():\n\u001B[32m      3\u001B[39m         \u001B[38;5;28;01mfor\u001B[39;00m qid \u001B[38;5;129;01min\u001B[39;00m qb.get_qids_by_chapter():\n\u001B[32m      4\u001B[39m             question = qb.get_question(qid)\n",
      "\u001B[31mAttributeError\u001B[39m: 'QuestionBank' object has no attribute 'list_chapters'"
     ]
    }
   ],
   "execution_count": 3
  },
  {
   "metadata": {},
   "cell_type": "markdown",
   "source": [
    "### 2. Resize images\n",
    "Images are resized to 256x256 with grey padding to maintain aspect ratio."
   ],
   "id": "3e242e50d8a3d555"
  },
  {
   "metadata": {},
   "cell_type": "code",
   "source": [
    "import os\n",
    "\n",
    "from data_cleaning.img_reshaper import ImgSquarer"
   ],
   "id": "2e9d66e42dbc8313",
   "outputs": [],
   "execution_count": null
  },
  {
   "metadata": {},
   "cell_type": "code",
   "source": [
    "def resize_images(qb: QuestionBank, squarer: ImgSquarer, new_dir: str) -> None:\n",
    "    for qid in qb.get_qid_list():\n",
    "        question = qb.get_question(qid)\n",
    "        if question.get_img_path() is not None:\n",
    "            new_path = squarer.reshape(qid, qb.get_img_dir(), new_dir)\n",
    "            question.set_img_path(new_path)\n",
    "    qb.set_img_dir(new_dir)"
   ],
   "id": "36c54dd3879a76ff",
   "outputs": [],
   "execution_count": null
  },
  {
   "metadata": {},
   "cell_type": "code",
   "source": [
    "IMG_DIR_256 = \"data_cleaning/resized_imgs/img256\"\n",
    "squarer_256 = ImgSquarer(256)\n",
    "# If the directory is empty, resize images.\n",
    "if not os.listdir(IMG_DIR_256):\n",
    "    print(\"Resizing images to 256x256...\")\n",
    "    resize_images(qb, squarer_256, IMG_DIR_256)\n",
    "else:\n",
    "    print(\"Images already resized to 256x256, skipping...\")"
   ],
   "id": "67e7138a1e08dc1d",
   "outputs": [],
   "execution_count": null
  },
  {
   "metadata": {},
   "cell_type": "markdown",
   "source": "## B. Auto Tagging with VLM",
   "id": "d989a90499682060"
  },
  {
   "metadata": {},
   "cell_type": "code",
   "outputs": [],
   "execution_count": null,
   "source": [
    "from transformers import Qwen2VLForConditionalGeneration, AutoTokenizer, AutoProcessor\n",
    "import torch\n",
    "from qwen_vl_utils import process_vision_info"
   ],
   "id": "17306111b669f962"
  },
  {
   "metadata": {},
   "cell_type": "code",
   "outputs": [],
   "execution_count": null,
   "source": [
    "from typing import Dict, List, Any\n",
    "from src.qb.question import Question"
   ],
   "id": "2d296961c093958b"
  },
  {
   "metadata": {},
   "cell_type": "code",
   "outputs": [],
   "execution_count": null,
   "source": [
    "def get_prompt() -> str:\n",
    "    return \"\"\"你是一位驾考科目一领域的知识分类专家。你的核心任务是为给定的【题目】和【答案】提炼并归纳出 2 到 10 个核心关键词标签。\n",
    "\n",
    "这个任务的目标是为后续的自动化聚类分析提供高质量的原始数据。因此，你生成的标签需要遵循以下原则：\n",
    "\n",
    "---\n",
    "### 标签生成原则\n",
    "\n",
    "1.  **高度概括 (Abstractive)**: 标签应该是对考点的抽象和总结，而不仅仅是摘录原文的词语。例如，对于“行驶超过规定时速百分之四十”，一个好的标签是“超速行驶”，而不是“超过规定时速40%”。\n",
    "2.  **简洁精炼 (Concise)**: 每个标签应该是一个简短的词组或名词，通常不超过6个汉字。\n",
    "3.  **核心聚焦 (Core Focus)**: 标签必须直接反映题目最核心的知识点或考察场景。\n",
    "4.  **术语通用 (Common Terminology)**: 尽量使用驾考领域最常用和通用的术语。例如，使用“记分”而不是“扣除分数”。\n",
    "5.  **自由生成 (Free Generation)**: 你**不需要**遵循任何预设的列表，请根据你对题目的理解自由地生成最合适的标签。\n",
    "\n",
    "---\n",
    "### 输出要求\n",
    "\n",
    "* 仔细阅读【题目】和【答案】，理解其完整含义和考点。\n",
    "* 根据上述原则，生成2到10个最能代表题目的核心标签。\n",
    "* 必须以JSON数组的格式输出标签，例如：[\"标签1\", \"标签2\"]\n",
    "\n",
    "---\n",
    "### 示范\n",
    "\n",
    "**输入 1:**\n",
    "{'题目': '申请人因故不能按照预约时间参加考试的，应当提前多长时间申请取消预约？', '选项': {'A': '15日', 'B': '1日', 'C': '30日', 'D': '3日'}, '答案': 'B'}\n",
    "\n",
    "**输出 1:**\n",
    "[]\n",
    "\"\"\""
   ],
   "id": "6a30a468b98881c2"
  },
  {
   "metadata": {},
   "cell_type": "code",
   "outputs": [],
   "execution_count": null,
   "source": "print(get_prompt())",
   "id": "9106c0423f040bdb"
  },
  {
   "metadata": {},
   "cell_type": "code",
   "outputs": [],
   "execution_count": null,
   "source": [
    "def format_question(question: Question) -> str:\n",
    "    \"\"\" Format the question into a json string \"\"\"\n",
    "    dict_question = {\"章节\": f\"{question.get_chapter()[0]}: {question.get_chapter()[1]}\",\n",
    "                     \"题目\": question.get_question(),\n",
    "                     \"选项\": {},\n",
    "                     \"答案\": \"\"}\n",
    "\n",
    "    answer_choices = list(question.get_answers())\n",
    "    answer_choices.sort()\n",
    "    for i in range(0, len(answer_choices)):\n",
    "        letter_code = chr(ord('A') + i)\n",
    "        dict_question[\"选项\"][letter_code] = answer_choices[i]\n",
    "        if answer_choices[i] == question.get_correct_answer():\n",
    "            dict_question[\"答案\"] = letter_code\n",
    "    return str(dict_question)"
   ],
   "id": "d629ea5223d545cc"
  },
  {
   "metadata": {
    "ExecuteTime": {
     "end_time": "2025-07-15T16:51:21.736224Z",
     "start_time": "2025-07-15T16:49:34.343037Z"
    }
   },
   "cell_type": "code",
   "outputs": [
    {
     "ename": "NameError",
     "evalue": "name 'qb' is not defined",
     "output_type": "error",
     "traceback": [
      "\u001B[31m---------------------------------------------------------------------------\u001B[39m",
      "\u001B[31mNameError\u001B[39m                                 Traceback (most recent call last)",
      "\u001B[36mCell\u001B[39m\u001B[36m \u001B[39m\u001B[32mIn[1]\u001B[39m\u001B[32m, line 2\u001B[39m\n\u001B[32m      1\u001B[39m sample_lst = []\n\u001B[32m----> \u001B[39m\u001B[32m2\u001B[39m \u001B[38;5;28;01mfor\u001B[39;00m chapter \u001B[38;5;129;01min\u001B[39;00m qb.list_chapters():\n\u001B[32m      3\u001B[39m     \u001B[38;5;28;01mfor\u001B[39;00m qid \u001B[38;5;129;01min\u001B[39;00m qb.get_qids_by_chapter(chapter):\n\u001B[32m      4\u001B[39m         test_question = qb.get_question(qid)\n",
      "\u001B[31mNameError\u001B[39m: name 'qb' is not defined"
     ]
    }
   ],
   "execution_count": 1,
   "source": [
    "sample_lst = []\n",
    "for chapter in qb.list_chapters():\n",
    "    for qid in qb.get_qids_by_chapter(chapter):\n",
    "        test_question = qb.get_question(qid)\n",
    "        sample_lst.append(format_question(test_question))\n",
    "        break\n",
    "\n",
    "for question in sample_lst:\n",
    "    print(format_question(question))"
   ],
   "id": "c3c411b33827a269"
  },
  {
   "metadata": {},
   "cell_type": "code",
   "outputs": [],
   "execution_count": null,
   "source": [
    "def make_content(question: Question) -> List[Dict[str, Any]]:\n",
    "    if question.get_img_path() is not None:\n",
    "        return [\n",
    "            {\"type\": \"image\",\n",
    "             \"image\": question.get_img_path()},\n",
    "            {\"type\": \"text\",\n",
    "             \"text\": format_question(question)},\n",
    "        ]\n",
    "    else:\n",
    "        return [\n",
    "            {\"type\": \"text\",\n",
    "             \"text\": format_question(question)}\n",
    "        ]"
   ],
   "id": "18808f5abd2456cb"
  },
  {
   "metadata": {},
   "cell_type": "code",
   "outputs": [],
   "execution_count": null,
   "source": [
    "def make_message(question: Question) -> List[Dict[str, Any]]:\n",
    "    return [{\"role\": \"system\",\n",
    "             \"content\": get_prompt()},\n",
    "            {\"role\": \"user\",\n",
    "             \"content\": make_content(question)}]"
   ],
   "id": "609dafe841ab3334"
  },
  {
   "metadata": {},
   "cell_type": "code",
   "outputs": [],
   "execution_count": null,
   "source": [
    "def get_qid_lst(qb: QuestionBank) -> List[str]:\n",
    "    qid_lst = []\n",
    "    for chapter in qb.list_chapters():\n",
    "        for qid in qb.get_qids_by_chapter(chapter):\n",
    "            qid_lst.append(qid)\n",
    "    qid_lst.sort()\n",
    "    return qid_lst"
   ],
   "id": "3be8e0d51d71eafb"
  },
  {
   "metadata": {},
   "cell_type": "code",
   "outputs": [],
   "execution_count": null,
   "source": [
    "def make_messages(qb: QuestionBank) -> List[List[Dict[str, Any]]]:\n",
    "    input_lst = []\n",
    "    for qid in get_qid_lst(qb):\n",
    "        question = qb.get_question(qid)\n",
    "        input_lst.append(make_message(question))\n",
    "    return input_lst"
   ],
   "id": "40265e8e0d3cfe92"
  },
  {
   "metadata": {},
   "cell_type": "code",
   "outputs": [],
   "execution_count": null,
   "source": [
    "def make_inputs(messages, processor):\n",
    "    texts = []\n",
    "    for msg in messages:\n",
    "        texts.append(processor.apply_chat_template(msg, tokenize=False, add_generation_prompt=True))\n",
    "    image_inputs, video_inputs = process_vision_info(messages)\n",
    "    inputs = processor(\n",
    "        text=texts,\n",
    "        images=image_inputs,\n",
    "        videos=video_inputs,\n",
    "        padding=True,\n",
    "        return_tensors=\"pt\",\n",
    "    )\n",
    "    # inputs = inputs.to(\"cuda\")\n",
    "    return inputs"
   ],
   "id": "3bd3938d89ae3564"
  },
  {
   "metadata": {},
   "cell_type": "code",
   "outputs": [],
   "execution_count": null,
   "source": [
    "# We recommend enabling flash_attention_2 for better acceleration and memory saving, especially in multi-image and video scenarios.\n",
    "model = Qwen2VLForConditionalGeneration.from_pretrained(\n",
    "    \"Qwen/Qwen2-VL-2B-Instruct\",\n",
    "    torch_dtype=torch.bfloat16,\n",
    "    attn_implementation=\"sdpa\",\n",
    "    device_map=\"cpu\",\n",
    ")\n",
    "\n",
    "# The default range for the number of visual tokens per image in the model is 4-16384. You can set min_pixels and max_pixels according to your needs, such as a token count range of 256-1280, to balance speed and memory usage.\n",
    "min_pixels = 256*28*28\n",
    "max_pixels = 258*28*28\n",
    "processor = AutoProcessor.from_pretrained(\"Qwen/Qwen2-VL-2B-Instruct\", min_pixels=min_pixels, max_pixels=max_pixels)"
   ],
   "id": "c220319ab2db660b"
  },
  {
   "metadata": {},
   "cell_type": "code",
   "source": "messages = make_messages(qb)",
   "id": "119011e03f1cb8b0",
   "outputs": [],
   "execution_count": null
  },
  {
   "metadata": {},
   "cell_type": "code",
   "source": [
    "msgs_test = messages[:5]\n",
    "inputs = make_inputs(msgs_test, processor)"
   ],
   "id": "cf46f83b0414dae4",
   "outputs": [],
   "execution_count": null
  },
  {
   "metadata": {},
   "cell_type": "code",
   "source": "generated_ids = model.generate(**inputs, max_new_tokens=128)",
   "id": "4181bee78dafa005",
   "outputs": [],
   "execution_count": null
  },
  {
   "metadata": {},
   "cell_type": "code",
   "source": [
    "generated_ids_trimmed = [\n",
    "    out_ids[len(in_ids) :] for in_ids, out_ids in zip(inputs.input_ids, generated_ids)\n",
    "]"
   ],
   "id": "d538350c543f058a",
   "outputs": [],
   "execution_count": null
  },
  {
   "metadata": {},
   "cell_type": "code",
   "source": [
    "output_texts = processor.batch_decode(\n",
    "    generated_ids_trimmed, skip_special_tokens=True, clean_up_tokenization_spaces=False\n",
    ")"
   ],
   "id": "2a6556c4a453dab5",
   "outputs": [],
   "execution_count": null
  }
 ],
 "metadata": {
  "kernelspec": {
   "display_name": "Python 3",
   "language": "python",
   "name": "python3"
  },
  "language_info": {
   "codemirror_mode": {
    "name": "ipython",
    "version": 2
   },
   "file_extension": ".py",
   "mimetype": "text/x-python",
   "name": "python",
   "nbconvert_exporter": "python",
   "pygments_lexer": "ipython2",
   "version": "2.7.6"
  }
 },
 "nbformat": 4,
 "nbformat_minor": 5
}
