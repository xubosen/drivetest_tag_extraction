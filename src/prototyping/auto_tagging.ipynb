{
 "cells": [
  {
   "cell_type": "markdown",
   "id": "a6338108438402fb",
   "metadata": {
    "id": "a6338108438402fb"
   },
   "source": [
    "# Driving Exam Auto Tagging\n",
    "Direct tagging with a VLM"
   ]
  },
  {
   "cell_type": "markdown",
   "id": "cb858b7a257f6624",
   "metadata": {
    "id": "cb858b7a257f6624"
   },
   "source": [
    "## A. Load Question Data"
   ]
  },
  {
   "cell_type": "markdown",
   "id": "8dc1f3b0517888f1",
   "metadata": {
    "id": "8dc1f3b0517888f1"
   },
   "source": [
    "### 1. Import the scraped question bank"
   ]
  },
  {
   "cell_type": "code",
   "id": "initial_id",
   "metadata": {
    "collapsed": true,
    "id": "initial_id",
    "executionInfo": {
     "status": "ok",
     "timestamp": 1752986917275,
     "user_tz": -480,
     "elapsed": 4260,
     "user": {
      "displayName": "Simon Xu",
      "userId": "12024836940530881699"
     }
    },
    "ExecuteTime": {
     "end_time": "2025-07-21T10:29:18.995926Z",
     "start_time": "2025-07-21T10:29:18.917008Z"
    }
   },
   "source": [
    "import os\n",
    "\n",
    "from entities.question_bank import QuestionBank\n",
    "from data_access.local_json_db import LocalJsonDB\n",
    "from data_formatting.data_formatter import DataFormatter\n",
    "from data_formatting.img_reshaper import ImgSquarer"
   ],
   "outputs": [],
   "execution_count": 1
  },
  {
   "cell_type": "code",
   "id": "d7b4c2c6cecad391",
   "metadata": {
    "colab": {
     "base_uri": "https://localhost:8080/"
    },
    "id": "d7b4c2c6cecad391",
    "executionInfo": {
     "status": "ok",
     "timestamp": 1752986917907,
     "user_tz": -480,
     "elapsed": 629,
     "user": {
      "displayName": "Simon Xu",
      "userId": "12024836940530881699"
     }
    },
    "outputId": "762208ff-b24a-492f-f95b-0975341913d7",
    "ExecuteTime": {
     "end_time": "2025-07-21T10:29:19.117940Z",
     "start_time": "2025-07-21T10:29:19.014236Z"
    }
   },
   "source": [
    "RAW_DATA_DIR = \"../data_storage/raw_database/json_db\"\n",
    "FORMATTED_DATA_DIR = \"../data_storage/formatted_database\"\n",
    "\n",
    "def load_data(make_new_data=False) -> QuestionBank:\n",
    "    \"\"\" Load the question bank from the formatted data directory \"\"\"\n",
    "    if not os.path.exists(FORMATTED_DATA_DIR) or not os.listdir(FORMATTED_DATA_DIR) or make_new_data:\n",
    "        os.makedirs(FORMATTED_DATA_DIR, exist_ok=True)\n",
    "        raw_db = LocalJsonDB(os.path.join(RAW_DATA_DIR, \"data.json\"),\n",
    "                             os.path.join(RAW_DATA_DIR, \"images\"))\n",
    "        data_formatter = DataFormatter(image_reshaper=(ImgSquarer(256)))\n",
    "        qb = data_formatter.format_data(raw_db, FORMATTED_DATA_DIR)\n",
    "    else:\n",
    "        data = LocalJsonDB(os.path.join(FORMATTED_DATA_DIR, \"data.json\"),\n",
    "                         os.path.join(FORMATTED_DATA_DIR, \"images\"))\n",
    "        qb = data.load()\n",
    "    return qb\n",
    "qb = load_data(make_new_data=False)\n",
    "print(len(qb.get_qid_list()))"
   ],
   "outputs": [
    {
     "name": "stdout",
     "output_type": "stream",
     "text": [
      "2836\n"
     ]
    }
   ],
   "execution_count": 2
  },
  {
   "cell_type": "markdown",
   "id": "d989a90499682060",
   "metadata": {
    "id": "d989a90499682060"
   },
   "source": [
    "## B. Auto Tagging with VLM"
   ]
  },
  {
   "cell_type": "code",
   "id": "2d296961c093958b",
   "metadata": {
    "id": "2d296961c093958b",
    "executionInfo": {
     "status": "ok",
     "timestamp": 1752986917923,
     "user_tz": -480,
     "elapsed": 12,
     "user": {
      "displayName": "Simon Xu",
      "userId": "12024836940530881699"
     }
    },
    "ExecuteTime": {
     "end_time": "2025-07-21T10:29:19.282939Z",
     "start_time": "2025-07-21T10:29:19.280384Z"
    }
   },
   "source": [
    "from typing import Dict, List, Any\n",
    "\n",
    "from entities.question import Question"
   ],
   "outputs": [],
   "execution_count": 3
  },
  {
   "cell_type": "code",
   "id": "6a30a468b98881c2",
   "metadata": {
    "id": "6a30a468b98881c2",
    "executionInfo": {
     "status": "ok",
     "timestamp": 1752986918116,
     "user_tz": -480,
     "elapsed": 190,
     "user": {
      "displayName": "Simon Xu",
      "userId": "12024836940530881699"
     }
    },
    "ExecuteTime": {
     "end_time": "2025-07-21T10:29:19.307348Z",
     "start_time": "2025-07-21T10:29:19.300390Z"
    }
   },
   "source": [
    "def get_prompt() -> str:\n",
    "    prompt = \"\"\"你是一位驾考科目一领域的知识分类专家。你的核心任务是分步思考，综合分析给出的【章节】、【题目】、【选项】和【答案】，为这道题提炼并归纳出用于分类的高阶`tags`（标签）和用于搜索的精细`keywords`（关键词）。\n",
    "\n",
    "---\n",
    "### 思考与输出格式\n",
    "\n",
    "你必须严格遵循以下两步进行输出：\n",
    "\n",
    "**第一步：思考过程**\n",
    "你需要按下面的步骤展示你的分析逻辑：\n",
    "* **步骤1：情境概括。** 用一句话概括这道题的完整场景和核心问题。\n",
    "* **步骤2：关键词提取。** 从题目所有信息中，提取最核心、最具体的关键词。此步骤的输出将直接作为最终的`keywords`。\n",
    "* **步骤3：标签归纳与升维。** 针对上一步提取的关键词，思考它们各自所属的更高阶的“概念”或“分类”。例如，从“70周岁”可以升维至“高龄驾驶员”。\n",
    "* **步骤4：最终决策。** 从上一步归纳出的所有高阶概念中，选择2-6个最相关、最具有代表性的作为最终的`tags`。\n",
    "\n",
    "**第二步：最终输出**\n",
    "在完成思考过程后，另起一行，以一个包含`tags`和`keywords`两个键的JSON对象格式输出。\n",
    "* `tags`字段中放入步骤4决策的最终标签数组。\n",
    "* `keywords`字段中放入步骤2提取的（不重复的）关键要素数组。\n",
    "\n",
    "---\n",
    "### 示范\n",
    "\n",
    "**输入 1:**\n",
    "{\n",
    "  \"章节\": \"1: 道路交通安全法律、法规和规章\",\n",
    "  \"题目\": \"年满70周岁以上的机动车驾驶人发生责任交通事故造成人员重伤或者死亡的，应当在本记分周期结束后三十日内到公安机关交通管理部门接受审验。\",\n",
    "  \"选项\": {\"A\": \"对\", \"B\": \"错\"},\n",
    "  \"答案\": \"A\"\n",
    "}\n",
    "\n",
    "**输出 1:**\n",
    "思考过程:\n",
    "步骤1：情境概括。本题考察的是关于70岁以上驾驶员在发生严重责任事故后，必须在规定期限内接受驾驶证审验的法规。\n",
    "步骤2：关键词提取。70周岁、责任交通事故、重伤死亡、审验、三十日内、记分周期。\n",
    "步骤3：标签归纳与升维。“70周岁” -\\> 高龄驾驶员；“责任交通事故”、“重伤死亡” -\\> 交通事故责任；“审验”、“记分周期”、“三十日内” -\\> 驾驶证审验；题目来源的章节 -\\> 法律法规。\n",
    "步骤4：最终决策。选择“驾驶证审验”、“高龄驾驶员”、“交通事故责任”、“法律法规”作为最核心的标签。\n",
    "\n",
    "最终输出:\n",
    "{\n",
    "  \"tags\": [\"驾驶证审验\", \"高龄驾驶员\", \"交通事故责任\", \"法律法规\"],\n",
    "  \"keywords\": [\"70周岁\", \"责任交通事故\", \"重伤死亡\", \"审验\", \"三十日内\", \"记分周期\"]\n",
    "}\n",
    "\n",
    "**输入 2:**\n",
    "{\n",
    "  \"章节\": \"2: 交通信号\",\n",
    "  \"题目\": \"浓雾天气能见度低，开启远光灯会提高能见度。\",\n",
    "  \"选项\": {\"A\": \"对\", \"B\": \"错\"},\n",
    "  \"答案\": \"B\"\n",
    "}\n",
    "\n",
    "**输出 2:**\n",
    "思考过程:\n",
    "步骤1：情境概括。本题考察的是在浓雾天气下，错误使用远光灯反而会降低能见度的安全知识。\n",
    "步骤2：关键词提取。浓雾、能见度低、远光灯、视野、错误操作。\n",
    "步骤3：标签归纳与升维。“浓雾” -\\> 恶劣天气驾驶；“远光灯” -\\> 灯光使用；“能见度低”、“视野” -\\> 安全视野。\n",
    "步骤4：最终决策。选择“恶劣天气驾驶”、“灯光使用”、“安全视野”作为最核心的标签。\n",
    "\n",
    "最终输出:\n",
    "{\n",
    "  \"tags\": [\"恶劣天气驾驶\", \"灯光使用\", \"安全视野\"],\n",
    "  \"keywords\": [\"浓雾\", \"能见度低\", \"远光灯\", \"视野\", \"漫反射\"]\n",
    "}\n",
    "\n",
    "**输入 3:**\n",
    "{\n",
    "  \"章节\": \"3: 安全行车、文明驾驶基础知识\",\n",
    "  \"题目\": \"参加公安机关交通管理部门组织的道路交通安全法律、法规和相关知识网上学习三日内累计满三十分钟且考试合格的，一次扣减1分交通违法行为记分。\",\n",
    "  \"选项\": {\"A\": \"对\", \"B\": \"错\"},\n",
    "  \"答案\": \"A\"\n",
    "}\n",
    "\n",
    "**输出 3:**\n",
    "思考过程:\n",
    "步骤1：情境概括。本题考察的是关于“学法减分”政策的具体执行标准，包括学习时长和减免分数。\n",
    "步骤2：关键词提取。网上学习、考试合格、扣减1分、记分、三日内、三十分钟。\n",
    "步骤3：标签归纳与升维。“网上学习”、“扣减1分” -\\> 学法减分；“记分” -\\> 记分管理；题目来源的章节 -\\> 法律法规。\n",
    "步骤4：最终决策。选择“学法减分”、“记分管理”、“法律法规”作为最核心的标签。\n",
    "\n",
    "最终输出:\n",
    "{\n",
    "  \"tags\": [\"学法减分\", \"记分管理\", \"法律法规\"],\n",
    "  \"keywords\": [\"网上学习\", \"考试合格\", \"扣减1分\", \"记分\", \"三日内\", \"三十分钟\"]\n",
    "}\n",
    "\n",
    "**输入 4:**\n",
    "{\n",
    "  \"章节\": \"4: 机动车驾驶操作相关基础知识\",\n",
    "  \"题目\": \"机动车仪表板上如图所示这个符号表示什么？\",\n",
    "  \"选项\": {\"A\": \"后雾灯开关\", \"B\": \"车灯总开关\", \"C\": \"近光灯开关\", \"D\": \"远光灯开关\"},\n",
    "  \"答案\": \"B\"\n",
    "}\n",
    "\n",
    "**输出 4:**\n",
    "思考过程:\n",
    "步骤1：情境概括。本题考察的是对仪表板上一个特定符号（车灯总开关）的辨认能力。\n",
    "步骤2：关键词提取。仪表板、符号、车灯总开关、后雾灯、近光灯、远光灯。\n",
    "步骤3：标签归纳与升维。“仪表板”、“符号” -\\> 仪表与指示灯；“车灯总开关”、“后雾灯开关”等选项 -\\> 灯光开关、车辆功能按键。\n",
    "步骤4：最终决策。选择“仪表与指示灯”、“车辆功能按键”、“灯光开关”作为最核心的标签。\n",
    "\n",
    "最终输出:\n",
    "{\n",
    "  \"tags\": [\"仪表与指示灯\", \"车辆功能按键\", \"灯光开关\"],\n",
    "  \"keywords\": [\"仪表板\", \"符号\", \"车灯总开关\", \"后雾灯\", \"近光灯\", \"远光灯\"]\n",
    "}\n",
    "\n",
    "**输入 5:**\n",
    "{\n",
    "  \"章节\": \"5: 货车专用试题\",\n",
    "  \"题目\": \"安全头枕在发生追尾事故时，能有效保护驾驶人的什么部位？\",\n",
    "  \"选项\": {\"A\": \"头部\", \"B\": \"胸部\", \"C\": \"腰部\", \"D\": \"颈部\"},\n",
    "  \"答案\": \"D\"\n",
    "}\n",
    "\n",
    "**输出 5:**\n",
    "思考过程:\n",
    "步骤1：情境概括。本题考察的是车辆被动安全装置“安全头枕”在追尾事故中对驾驶员颈部的保护功能。\n",
    "步骤2：关键词提取。安全头枕、追尾事故、保护、颈部、货车。\n",
    "步骤3：标签归纳与升维。“安全头枕” -\\> 车辆安全装置、被动安全；“追尾事故” -\\> 追尾事故防护；“颈部” -\\> 驾驶员防护。\n",
    "步骤4：最终决策。选择“车辆安全装置”、“被动安全”、“追尾事故防护”作为最核心的标签。\n",
    "\n",
    "最终输出:\n",
    "{\n",
    "  \"tags\": [\"车辆安全装置\", \"被动安全\", \"追尾事故防护\"],\n",
    "  \"keywords\": [\"安全头枕\", \"追尾事故\", \"保护\", \"颈部\", \"货车\"]\n",
    "}\n",
    "\n",
    "**输入 6:**\n",
    "{\n",
    "  \"章节\": \"6: 客车专用试题\",\n",
    "  \"题目\": \"再次饮酒后驾驶机动车的，不得申请大型客车准驾车型。\",\n",
    "  \"选项\": {\"A\": \"对\", \"B\": \"错\"},\n",
    "  \"答案\": \"A\"\n",
    "}\n",
    "\n",
    "**输出 6:**\n",
    "思考过程:\n",
    "步骤1：情境概括。本题考察的是因有“再次酒驾”这一严重违法行为历史，导致驾驶人被限制申请大型客车准驾车型的法律规定。\n",
    "步骤2：关键词提取。再次饮酒、驾驶、不得申请、大型客车、准驾车型。\n",
    "步骤3：标签归纳与升维。“再次饮酒” -\\> 饮酒驾驶、违法行为处罚；“不得申请”、“准驾车型” -\\> 驾驶证申领；“大型客车” -\\> 客车规定。\n",
    "步骤4：最终决策。选择“驾驶证申领”、“饮酒驾驶”、“客车规定”、“违法行为处罚”作为最核心的标签。\n",
    "\n",
    "最终输出:\n",
    "{\n",
    "  \"tags\": [\"驾驶证申领\", \"饮酒驾驶\", \"客车规定\", \"违法行为处罚\"],\n",
    "  \"keywords\": [\"再次饮酒\", \"驾驶\", \"不得申请\", \"大型客车\", \"准驾车型\"]\n",
    "}\n",
    "\n",
    "**输入 7:**\n",
    "{\n",
    "  \"章节\": \"7: 摩托车专用试题\",\n",
    "  \"题目\": \"驾驶机动车在道路上向右变更车道可以不使用转向灯。\",\n",
    "  \"选项\": {\"A\": \"对\", \"B\": \"错\"},\n",
    "  \"答案\": \"B\"\n",
    "}\n",
    "\n",
    "**输出 7:**\n",
    "思考过程:\n",
    "步骤1：情境概括。本题考察的是变更车道前必须使用转向灯这一基本安全驾驶操作规范。\n",
    "步骤2：关键词提取。变更车道、转向灯、向右、摩托车、不使用。\n",
    "步骤3：标签归-维。“变更车道” -\\> 变更车道、安全驾驶操作；“转向灯” -\\> 转向灯使用；该行为规范 -\\> 道路通行规则。\n",
    "步骤4：最终决策。选择“安全驾驶操作”、“变更车道”、“转向灯使用”、“道路通行规则”作为最核心的标签。\n",
    "\n",
    "最终输出:\n",
    "{\n",
    "  \"tags\": [\"安全驾驶操作\", \"变更车道\", \"转向灯使用\", \"道路通行规则\"],\n",
    "  \"keywords\": [\"变更车道\", \"转向灯\", \"向右\", \"摩托车\", \"示意\"]\n",
    "}\n",
    "\"\"\"\n",
    "    return prompt"
   ],
   "outputs": [],
   "execution_count": 4
  },
  {
   "cell_type": "code",
   "id": "d629ea5223d545cc",
   "metadata": {
    "id": "d629ea5223d545cc",
    "executionInfo": {
     "status": "ok",
     "timestamp": 1752986918129,
     "user_tz": -480,
     "elapsed": 20,
     "user": {
      "displayName": "Simon Xu",
      "userId": "12024836940530881699"
     }
    },
    "ExecuteTime": {
     "end_time": "2025-07-21T10:29:19.446810Z",
     "start_time": "2025-07-21T10:29:19.442024Z"
    }
   },
   "source": [
    "def format_question(question: Question) -> str:\n",
    "    \"\"\" Format the question into a json string \"\"\"\n",
    "    dict_question = {\"章节\": f\"{question.get_chapter()[0]}: {question.get_chapter()[1]}\",\n",
    "                     \"题目\": question.get_question(),\n",
    "                     \"选项\": {},\n",
    "                     \"答案\": \"\"}\n",
    "\n",
    "    # Sort the answer choices for reproducibility\n",
    "    answer_choices = list(question.get_answers())\n",
    "    answer_choices.sort()\n",
    "    assign_letter_codes(answer_choices, dict_question, question)\n",
    "    return str(dict_question)\n",
    "\n",
    "def assign_letter_codes(answer_choices, dict_question, question):\n",
    "    # Assign letter codes to the answer choices\n",
    "    for i in range(0, len(answer_choices)):\n",
    "        letter_code = chr(ord('A') + i)\n",
    "        dict_question[\"选项\"][letter_code] = answer_choices[i]\n",
    "        if answer_choices[i] == question.get_correct_answer():\n",
    "            dict_question[\"答案\"] = letter_code"
   ],
   "outputs": [],
   "execution_count": 5
  },
  {
   "cell_type": "code",
   "id": "18808f5abd2456cb",
   "metadata": {
    "id": "18808f5abd2456cb",
    "executionInfo": {
     "status": "ok",
     "timestamp": 1752986918148,
     "user_tz": -480,
     "elapsed": 17,
     "user": {
      "displayName": "Simon Xu",
      "userId": "12024836940530881699"
     }
    },
    "ExecuteTime": {
     "end_time": "2025-07-21T10:29:19.559170Z",
     "start_time": "2025-07-21T10:29:19.554125Z"
    }
   },
   "source": [
    "def make_content(question: Question) -> List[Dict[str, Any]]:\n",
    "    if question.get_img_path() is not None:\n",
    "        return [\n",
    "            {\"type\": \"image\",\n",
    "             \"image\": question.get_img_path()},\n",
    "            {\"type\": \"text\",\n",
    "             \"text\": format_question(question)},\n",
    "        ]\n",
    "    else:\n",
    "        return [\n",
    "            {\"type\": \"text\",\n",
    "             \"text\": format_question(question)}\n",
    "        ]"
   ],
   "outputs": [],
   "execution_count": 6
  },
  {
   "cell_type": "code",
   "id": "40265e8e0d3cfe92",
   "metadata": {
    "id": "40265e8e0d3cfe92",
    "executionInfo": {
     "status": "ok",
     "timestamp": 1752986918375,
     "user_tz": -480,
     "elapsed": 4,
     "user": {
      "displayName": "Simon Xu",
      "userId": "12024836940530881699"
     }
    },
    "ExecuteTime": {
     "end_time": "2025-07-21T10:29:19.621971Z",
     "start_time": "2025-07-21T10:29:19.618168Z"
    }
   },
   "source": [
    "def make_messages(qb: QuestionBank) -> List[List[Dict[str, Any]]]:\n",
    "    input_lst = []\n",
    "    for qid in qb.get_qid_list():\n",
    "        question = qb.get_question(qid)\n",
    "        input_lst.append([{\"role\": \"system\",\n",
    "                           \"content\": get_prompt()},\n",
    "                          {\"role\": \"user\",\n",
    "                           \"content\": make_content(question)}])\n",
    "    return input_lst"
   ],
   "outputs": [],
   "execution_count": 7
  },
  {
   "cell_type": "code",
   "id": "c220319ab2db660b",
   "metadata": {
    "id": "c220319ab2db660b",
    "colab": {
     "base_uri": "https://localhost:8080/",
     "height": 321
    },
    "executionInfo": {
     "status": "error",
     "timestamp": 1752988250641,
     "user_tz": -480,
     "elapsed": 714,
     "user": {
      "displayName": "Simon Xu",
      "userId": "12024836940530881699"
     }
    },
    "outputId": "1c6cb981-bdb6-49f2-d244-dc2da5d37736",
    "ExecuteTime": {
     "end_time": "2025-07-21T10:31:02.809618Z",
     "start_time": "2025-07-21T10:31:01.860928Z"
    }
   },
   "source": [
    "from openai import OpenAI\n",
    "\n",
    "client = OpenAI(\n",
    "    api_key=os.getenv(\"ALI_API_KEY\"),\n",
    "    base_url=\"https://dashscope.aliyuncs.com/compatible-mode/v1\",\n",
    ")\n",
    "\n",
    "completion = client.chat.completions.create(\n",
    "    model=\"qwen2.5-vl-32b-instruct\",\n",
    "    messages=[\n",
    "        {\n",
    "            \"role\": \"system\",\n",
    "            \"content\": [{\"type\": \"text\", \"text\": \"You are a helpful assistant.\"}],\n",
    "        },\n",
    "        {\n",
    "            \"role\": \"user\",\n",
    "            \"content\": [\n",
    "                {\"type\": \"text\", \"text\": \"1+1等于几?\"},\n",
    "            ],\n",
    "        },\n",
    "    ],\n",
    ")"
   ],
   "outputs": [],
   "execution_count": 10
  },
  {
   "metadata": {
    "ExecuteTime": {
     "end_time": "2025-07-21T10:31:03.050648Z",
     "start_time": "2025-07-21T10:31:03.047248Z"
    }
   },
   "cell_type": "code",
   "source": "print(completion)",
   "id": "9a12edfb207c77cd",
   "outputs": [
    {
     "name": "stdout",
     "output_type": "stream",
     "text": [
      "ChatCompletion(id='chatcmpl-89fe58ee-2fff-96e1-81e6-c1c980a9b937', choices=[Choice(finish_reason='stop', index=0, logprobs=None, message=ChatCompletionMessage(content='$ 1 + 1 = \\\\boxed{2} $。', refusal=None, role='assistant', annotations=None, audio=None, function_call=None, tool_calls=None))], created=1753093863, model='qwen2.5-vl-32b-instruct', object='chat.completion', service_tier=None, system_fingerprint=None, usage=CompletionUsage(completion_tokens=15, prompt_tokens=25, total_tokens=40, completion_tokens_details=None, prompt_tokens_details=None))\n"
     ]
    }
   ],
   "execution_count": 11
  },
  {
   "cell_type": "code",
   "execution_count": null,
   "id": "8c5ff3be4fe5f8fb",
   "metadata": {
    "id": "8c5ff3be4fe5f8fb",
    "executionInfo": {
     "status": "aborted",
     "timestamp": 1752986955456,
     "user_tz": -480,
     "elapsed": 5,
     "user": {
      "displayName": "Simon Xu",
      "userId": "12024836940530881699"
     }
    }
   },
   "outputs": [],
   "source": [
    "from datetime import datetime\n",
    "import pandas as pd\n",
    "from pandas import DataFrame"
   ]
  },
  {
   "cell_type": "code",
   "execution_count": 13,
   "id": "3bd3938d89ae3564",
   "metadata": {
    "id": "3bd3938d89ae3564",
    "executionInfo": {
     "status": "ok",
     "timestamp": 1752986952663,
     "user_tz": -480,
     "elapsed": 4,
     "user": {
      "displayName": "Simon Xu",
      "userId": "12024836940530881699"
     }
    }
   },
   "outputs": [],
   "source": [
    "def make_inputs(messages, processor, device=MY_DEVICE) -> Dict[str, torch.Tensor]:\n",
    "    \"\"\"\n",
    "    Prepare the inputs for the model from the messages.\n",
    "    \"\"\"\n",
    "    texts = []\n",
    "    for msg in messages:\n",
    "        texts.append(processor.apply_chat_template(msg, tokenize=False, add_generation_prompt=True))\n",
    "    image_inputs, video_inputs = process_vision_info(messages)\n",
    "    inputs = processor(\n",
    "        text=texts,\n",
    "        images=image_inputs,\n",
    "        videos=video_inputs,\n",
    "        padding=True,\n",
    "        return_tensors=\"pt\",\n",
    "    )\n",
    "    inputs = inputs.to(device)\n",
    "    return inputs"
   ]
  },
  {
   "cell_type": "code",
   "execution_count": null,
   "id": "6bc08eb324ddaedb",
   "metadata": {
    "id": "6bc08eb324ddaedb",
    "executionInfo": {
     "status": "aborted",
     "timestamp": 1752986955457,
     "user_tz": -480,
     "elapsed": 5,
     "user": {
      "displayName": "Simon Xu",
      "userId": "12024836940530881699"
     }
    }
   },
   "outputs": [],
   "source": [
    "def result_to_df(qid_lst: List[str], messages: List[List[Dict[str, Any]]], result: List[str]) -> DataFrame:\n",
    "    \"\"\" Convert the result into a dataframe \"\"\"\n",
    "    data = {\n",
    "        \"qid\": qid_lst,\n",
    "        \"question\": [],\n",
    "        \"tags\": [],\n",
    "        \"keywords\":[]\n",
    "    }\n",
    "    for msg in messages:\n",
    "        question_text = msg[-1][\"content\"][-1][\"text\"]\n",
    "        data[\"question\"].append(question_text)\n",
    "    for output in result:\n",
    "        tag_start = output.rfind(\"tags: [\")\n",
    "        tag_end = output[tag_start:].find(\"]\")\n",
    "        keywords_start = output.rfind(\"keywords: [\")\n",
    "        keywords_end = output[keywords_start:].find(\"]\")\n",
    "        tags = output[tag_start + 7: tag_end + tag_start].strip().split(\", \")\n",
    "        keywords = output[keywords_start + 11: keywords_end + keywords_start].strip().split(\", \")\n",
    "        data[\"tags\"].append(tags)\n",
    "        data[\"keywords\"].append(keywords)\n",
    "    return DataFrame(data)"
   ]
  },
  {
   "cell_type": "code",
   "execution_count": null,
   "id": "51c8bdeca3d5c617",
   "metadata": {
    "id": "51c8bdeca3d5c617",
    "executionInfo": {
     "status": "aborted",
     "timestamp": 1752986955459,
     "user_tz": -480,
     "elapsed": 6,
     "user": {
      "displayName": "Simon Xu",
      "userId": "12024836940530881699"
     }
    }
   },
   "outputs": [],
   "source": [
    "def save_labeling_data(qid_lst: List[str], messages: List[List[Dict[str, Any]]], results: List[str], tagging_results_dir) -> None:\n",
    "    \"\"\" Save the tagging results to a CSV file \"\"\"\n",
    "    if not os.path.exists(tagging_results_dir):\n",
    "        os.makedirs(tagging_results_dir)\n",
    "\n",
    "    timestamp = datetime.now().strftime(\"%Y%m%d_%H%M\")\n",
    "    tagging_results_file = os.path.join(tagging_results_dir, f\"tagging_results_{timestamp}.csv\")\n",
    "    tagging_results = result_to_df(qid_lst, messages, results)\n",
    "    tagging_results.to_csv(tagging_results_file, index=False)"
   ]
  },
  {
   "cell_type": "code",
   "execution_count": null,
   "id": "372222342d48a5c8",
   "metadata": {
    "id": "372222342d48a5c8",
    "executionInfo": {
     "status": "aborted",
     "timestamp": 1752986955460,
     "user_tz": -480,
     "elapsed": 7,
     "user": {
      "displayName": "Simon Xu",
      "userId": "12024836940530881699"
     }
    }
   },
   "outputs": [],
   "source": [
    "def load_labeling_data(directory: str) -> DataFrame:\n",
    "    \"\"\" Load the tagging results from the latest CSV file \"\"\"\n",
    "    files = os.listdir(directory)\n",
    "    if not files:\n",
    "        return DataFrame()\n",
    "    latest_file = max(files, key=lambda x: os.path.getctime(os.path.join(directory, x)))\n",
    "    return pd.read_csv(os.path.join(directory, latest_file))"
   ]
  },
  {
   "cell_type": "code",
   "execution_count": null,
   "id": "119011e03f1cb8b0",
   "metadata": {
    "id": "119011e03f1cb8b0",
    "executionInfo": {
     "status": "aborted",
     "timestamp": 1752986955462,
     "user_tz": -480,
     "elapsed": 8,
     "user": {
      "displayName": "Simon Xu",
      "userId": "12024836940530881699"
     }
    }
   },
   "outputs": [],
   "source": [
    "def make_batches(qb: QuestionBank, messages: List[str], batch_size: int) -> (List[List[str]], List[List[str]]):\n",
    "    \"\"\" Split the messages into batches \"\"\"\n",
    "    qid_batches = []\n",
    "    qid_list = qb.get_qid_list()\n",
    "\n",
    "    msg_batches = []\n",
    "    for i in range(0, len(messages), batch_size):\n",
    "        qid_batch = qid_list[i:i + batch_size]\n",
    "        qid_batches.append(qid_batch)\n",
    "\n",
    "        batch = messages[i:i + batch_size]\n",
    "        msg_batches.append(batch)\n",
    "    return qid_batches, msg_batches"
   ]
  },
  {
   "cell_type": "code",
   "execution_count": null,
   "id": "8aff102ed886e294",
   "metadata": {
    "id": "8aff102ed886e294",
    "executionInfo": {
     "status": "aborted",
     "timestamp": 1752986955463,
     "user_tz": -480,
     "elapsed": 9,
     "user": {
      "displayName": "Simon Xu",
      "userId": "12024836940530881699"
     }
    }
   },
   "outputs": [],
   "source": [
    "def generate_labels(messages: List[str], model, processor) -> List[str]:\n",
    "    inputs = make_inputs(messages, processor)\n",
    "    generated_ids = model.generate(**inputs, max_new_tokens=512)\n",
    "    generated_ids_trimmed = [\n",
    "        out_ids[len(in_ids) :] for in_ids, out_ids in zip(inputs.input_ids, generated_ids)\n",
    "    ]\n",
    "    results = processor.batch_decode(\n",
    "        generated_ids_trimmed, skip_special_tokens=True, clean_up_tokenization_spaces=False\n",
    "    )\n",
    "    return results"
   ]
  },
  {
   "cell_type": "code",
   "execution_count": null,
   "id": "fea6bb54e70c97c1",
   "metadata": {
    "id": "fea6bb54e70c97c1",
    "executionInfo": {
     "status": "aborted",
     "timestamp": 1752986955464,
     "user_tz": -480,
     "elapsed": 9,
     "user": {
      "displayName": "Simon Xu",
      "userId": "12024836940530881699"
     }
    }
   },
   "outputs": [],
   "source": [
    "TAGGING_RESULTS_DIR = os.path.join(SRC_PATH, \"data_storage/tagging_results\")\n",
    "messages = make_messages(qb)\n",
    "qid_batches, msg_batches = make_batches(qb, messages, batch_size=10)\n",
    "print(len(qid_batches), len(msg_batches))"
   ]
  },
  {
   "cell_type": "code",
   "execution_count": null,
   "id": "q2bArJrcG2yU",
   "metadata": {
    "id": "q2bArJrcG2yU",
    "executionInfo": {
     "status": "aborted",
     "timestamp": 1752986955466,
     "user_tz": -480,
     "elapsed": 92156,
     "user": {
      "displayName": "Simon Xu",
      "userId": "12024836940530881699"
     }
    }
   },
   "outputs": [],
   "source": [
    "for i in range(len(msg_batches)):\n",
    "    print(f\"Processing batch {i + 1}/{len(msg_batches)}\")\n",
    "    start_time = datetime.now()\n",
    "    inputs = make_inputs(msg_batches[i], processor)\n",
    "    generated_ids = model.generate(**inputs, max_new_tokens=1024)\n",
    "    generated_ids_trimmed = [\n",
    "        out_ids[len(in_ids) :] for in_ids, out_ids in zip(inputs.input_ids, generated_ids)\n",
    "    ]\n",
    "    results = processor.batch_decode(\n",
    "        generated_ids_trimmed, skip_special_tokens=True, clean_up_tokenization_spaces=False\n",
    "    )\n",
    "    save_labeling_data(qid_batches[i], msg_batches[i], results, TAGGING_RESULTS_DIR)\n",
    "    end_time = datetime.now()\n",
    "    print(f\"Batch {i + 1} processed in {end_time - start_time} seconds\")"
   ]
  },
  {
   "cell_type": "code",
   "execution_count": null,
   "id": "BNDlB0tqNpIF",
   "metadata": {
    "id": "BNDlB0tqNpIF",
    "executionInfo": {
     "status": "aborted",
     "timestamp": 1752986955467,
     "user_tz": -480,
     "elapsed": 92156,
     "user": {
      "displayName": "Simon Xu",
      "userId": "12024836940530881699"
     }
    }
   },
   "outputs": [],
   "source": [
    "result_df = load_labeling_data(TAGGING_RESULTS_DIR)\n",
    "result_df.head()"
   ]
  }
 ],
 "metadata": {
  "accelerator": "GPU",
  "colab": {
   "gpuType": "T4",
   "provenance": []
  },
  "kernelspec": {
   "display_name": "Python 3",
   "name": "python3"
  },
  "language_info": {
   "codemirror_mode": {
    "name": "ipython",
    "version": 2
   },
   "file_extension": ".py",
   "mimetype": "text/x-python",
   "name": "python",
   "nbconvert_exporter": "python",
   "pygments_lexer": "ipython2",
   "version": "2.7.6"
  }
 },
 "nbformat": 4,
 "nbformat_minor": 5
}
