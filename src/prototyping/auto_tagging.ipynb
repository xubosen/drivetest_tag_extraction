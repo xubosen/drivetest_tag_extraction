{
 "cells": [
  {
   "cell_type": "markdown",
   "id": "a6338108438402fb",
   "metadata": {
    "id": "a6338108438402fb"
   },
   "source": [
    "# Driving Exam Auto Tagging\n",
    "Direct tagging with a VLM"
   ]
  },
  {
   "cell_type": "markdown",
   "id": "cb858b7a257f6624",
   "metadata": {
    "id": "cb858b7a257f6624"
   },
   "source": "## A. Format Question Data"
  },
  {
   "metadata": {},
   "cell_type": "markdown",
   "source": "## 0. Set up the environment",
   "id": "5068201e98d4584d"
  },
  {
   "metadata": {},
   "cell_type": "markdown",
   "source": "Set the source path to the root of the project",
   "id": "9897d967179f469b"
  },
  {
   "metadata": {
    "ExecuteTime": {
     "end_time": "2025-08-04T06:18:22.109440Z",
     "start_time": "2025-08-04T06:18:22.103918Z"
    }
   },
   "cell_type": "code",
   "source": [
    "import json\n",
    "import os"
   ],
   "id": "3940e3207f02c046",
   "outputs": [],
   "execution_count": 1
  },
  {
   "metadata": {
    "ExecuteTime": {
     "end_time": "2025-08-04T06:18:26.969326Z",
     "start_time": "2025-08-04T06:18:22.122959Z"
    }
   },
   "cell_type": "code",
   "source": [
    "SRC_PATH = input(\"Enter the source path to the root of the project: \")\n",
    "if not SRC_PATH:\n",
    "    raise ValueError(\"Source path is required.\")\n",
    "os.chdir(SRC_PATH)"
   ],
   "id": "4e03e57a7fe73c11",
   "outputs": [],
   "execution_count": 2
  },
  {
   "metadata": {
    "id": "8dc1f3b0517888f1"
   },
   "cell_type": "markdown",
   "source": "### 1. Set up the question bank",
   "id": "8dc1f3b0517888f1"
  },
  {
   "metadata": {
    "collapsed": true,
    "id": "initial_id",
    "executionInfo": {
     "status": "ok",
     "timestamp": 1752986917275,
     "user_tz": -480,
     "elapsed": 4260,
     "user": {
      "displayName": "Simon Xu",
      "userId": "12024836940530881699"
     }
    },
    "ExecuteTime": {
     "end_time": "2025-08-04T06:18:27.311023Z",
     "start_time": "2025-08-04T06:18:27.107202Z"
    }
   },
   "cell_type": "code",
   "source": [
    "from entities.question_bank import QuestionBank\n",
    "from data_access.local_json_db import LocalJsonDB\n",
    "from data_formatting.data_formatter import DataFormatter, DataFormat"
   ],
   "id": "initial_id",
   "outputs": [],
   "execution_count": 3
  },
  {
   "metadata": {},
   "cell_type": "markdown",
   "source": "### i) Load the question bank",
   "id": "274014d947d856a1"
  },
  {
   "metadata": {
    "ExecuteTime": {
     "end_time": "2025-08-04T06:18:27.350594Z",
     "start_time": "2025-08-04T06:18:27.347604Z"
    }
   },
   "cell_type": "code",
   "source": [
    "RAW_DATA_FILE = \"data_storage/raw_database/data.json\"\n",
    "RAW_IMG_DIR = \"data_storage/raw_database/images\"\n",
    "\n",
    "def load_data() -> QuestionBank:\n",
    "    \"\"\" Load the question bank from the formatted data directory \"\"\"\n",
    "    raw_db = LocalJsonDB(RAW_DATA_FILE, RAW_IMG_DIR)\n",
    "    return raw_db.load()"
   ],
   "id": "cc1550375c825244",
   "outputs": [],
   "execution_count": 4
  },
  {
   "metadata": {
    "ExecuteTime": {
     "end_time": "2025-08-04T06:18:27.554997Z",
     "start_time": "2025-08-04T06:18:27.395657Z"
    }
   },
   "cell_type": "code",
   "source": [
    "raw_qb = load_data()\n",
    "print(raw_qb.question_count())"
   ],
   "id": "a9e1c1b28036f45d",
   "outputs": [
    {
     "name": "stdout",
     "output_type": "stream",
     "text": [
      "2836\n"
     ]
    }
   ],
   "execution_count": 5
  },
  {
   "metadata": {},
   "cell_type": "markdown",
   "source": "### ii) Preprocessing",
   "id": "968320141e520ed0"
  },
  {
   "metadata": {},
   "cell_type": "markdown",
   "source": "Images are reshaped to a standard size and format.",
   "id": "c0a8b208a6b56c10"
  },
  {
   "cell_type": "code",
   "id": "d7b4c2c6cecad391",
   "metadata": {
    "colab": {
     "base_uri": "https://localhost:8080/"
    },
    "id": "d7b4c2c6cecad391",
    "executionInfo": {
     "status": "ok",
     "timestamp": 1752986917907,
     "user_tz": -480,
     "elapsed": 629,
     "user": {
      "displayName": "Simon Xu",
      "userId": "12024836940530881699"
     }
    },
    "outputId": "762208ff-b24a-492f-f95b-0975341913d7",
    "ExecuteTime": {
     "end_time": "2025-08-04T06:18:27.597768Z",
     "start_time": "2025-08-04T06:18:27.594868Z"
    }
   },
   "source": [
    "FORMATTED_IMG_DIR = \"data_storage/formatted_database/images\"\n",
    "def format_data(raw_qb: QuestionBank, data_format: DataFormat) -> QuestionBank:\n",
    "    \"\"\" Load the question bank from the formatted data directory \"\"\"\n",
    "    data_formatter = DataFormatter(data_format=data_format)\n",
    "    new_qb = data_formatter.format_data(question_bank=raw_qb,\n",
    "                                        new_img_dir=FORMATTED_IMG_DIR)\n",
    "    return new_qb"
   ],
   "outputs": [],
   "execution_count": 6
  },
  {
   "metadata": {
    "ExecuteTime": {
     "end_time": "2025-08-04T06:18:42.205396Z",
     "start_time": "2025-08-04T06:18:27.648749Z"
    }
   },
   "cell_type": "code",
   "source": [
    "%%time\n",
    "INPUT_IMG_EXTENSION = \"webp\"\n",
    "OUTPUT_IMG_EXTENSION = \"jpg\"\n",
    "\n",
    "data_format = DataFormat(image_shape=(256, 256),\n",
    "                         input_image_extension=INPUT_IMG_EXTENSION,\n",
    "                         output_image_extension=OUTPUT_IMG_EXTENSION)\n",
    "qb = format_data(raw_qb=raw_qb, data_format=data_format)\n",
    "print(qb.question_count())"
   ],
   "id": "f04037bd80f34c1a",
   "outputs": [
    {
     "name": "stdout",
     "output_type": "stream",
     "text": [
      "2836\n",
      "CPU times: user 12 s, sys: 2.08 s, total: 14 s\n",
      "Wall time: 14.6 s\n"
     ]
    }
   ],
   "execution_count": 7
  },
  {
   "metadata": {},
   "cell_type": "markdown",
   "source": "### iii) Save the formatted question bank",
   "id": "3d32f9aaa8162c3d"
  },
  {
   "metadata": {
    "ExecuteTime": {
     "end_time": "2025-08-04T06:18:42.267428Z",
     "start_time": "2025-08-04T06:18:42.264749Z"
    }
   },
   "cell_type": "code",
   "source": "FORMATTED_DB_FILE_PATH = \"data_storage/formatted_database/data.json\"",
   "id": "47d22c694560dea",
   "outputs": [],
   "execution_count": 8
  },
  {
   "metadata": {
    "ExecuteTime": {
     "end_time": "2025-08-04T06:18:42.332440Z",
     "start_time": "2025-08-04T06:18:42.329185Z"
    }
   },
   "cell_type": "code",
   "source": [
    "def save_formatted_data(question_bank: QuestionBank) -> None:\n",
    "    \"\"\" Save the question bank to the specified file path \"\"\"\n",
    "    formatted_db = LocalJsonDB(FORMATTED_DB_FILE_PATH, FORMATTED_IMG_DIR)\n",
    "    formatted_db.save(question_bank)"
   ],
   "id": "fae96b58a7bd3d95",
   "outputs": [],
   "execution_count": 9
  },
  {
   "metadata": {
    "ExecuteTime": {
     "end_time": "2025-08-04T06:18:42.451356Z",
     "start_time": "2025-08-04T06:18:42.392459Z"
    }
   },
   "cell_type": "code",
   "source": "save_formatted_data(qb)",
   "id": "3d36b2e92db3ec91",
   "outputs": [],
   "execution_count": 10
  },
  {
   "metadata": {},
   "cell_type": "markdown",
   "source": "## C. Question Bank to Batch Request File",
   "id": "d169bb1447a4367c"
  },
  {
   "metadata": {},
   "cell_type": "markdown",
   "source": "Turn the question bank into a jsonl file that can be used for making batch requests compatible with the OpenAI standard.",
   "id": "f704313b35085a62"
  },
  {
   "metadata": {
    "ExecuteTime": {
     "end_time": "2025-08-04T06:18:42.520016Z",
     "start_time": "2025-08-04T06:18:42.509350Z"
    }
   },
   "cell_type": "code",
   "source": [
    "import datetime\n",
    "import logging\n",
    "from logging import Logger\n",
    "\n",
    "from label_generator.batch_request_factory import BatchRequestFactory"
   ],
   "id": "b2a69a481c405563",
   "outputs": [],
   "execution_count": 11
  },
  {
   "metadata": {
    "ExecuteTime": {
     "end_time": "2025-08-04T06:18:42.578805Z",
     "start_time": "2025-08-04T06:18:42.575867Z"
    }
   },
   "cell_type": "code",
   "source": [
    "def load_prompt() -> str:\n",
    "    \"\"\" Load the prompt from the specified file path. \"\"\"\n",
    "    with open(PROMPT_FILE_PATH, 'r', encoding='utf-8') as file:\n",
    "        prompt = file.read()\n",
    "    return prompt"
   ],
   "id": "bfef7e52ed3cef32",
   "outputs": [],
   "execution_count": 12
  },
  {
   "metadata": {
    "ExecuteTime": {
     "end_time": "2025-08-04T06:18:42.644112Z",
     "start_time": "2025-08-04T06:18:42.636373Z"
    }
   },
   "cell_type": "code",
   "source": [
    "def make_logger(logging_directory: str, verbose: bool=False, debug: bool=False) -> Logger:\n",
    "    \"\"\" Create a logger that logs to the specified directory. \"\"\"\n",
    "    log_filename, timestamp = _make_logger_name(logging_directory)\n",
    "    logger = logging.getLogger(f\"batch_request_{timestamp}\")\n",
    "    if debug:\n",
    "        logger.setLevel(logging.DEBUG)\n",
    "    else:\n",
    "        logger.setLevel(logging.INFO)\n",
    "    _add_handlers(log_filename, logger, verbose, debug)\n",
    "    return logger\n",
    "\n",
    "def _make_logger_name(logging_directory):\n",
    "    timestamp = datetime.datetime.now().strftime(\"%Y%m%d_%H%M\")\n",
    "    log_filename = os.path.join(logging_directory,\n",
    "                                f\"batch_request_{timestamp}.log\")\n",
    "    return log_filename, timestamp\n",
    "\n",
    "def _add_handlers(log_filename, logger, verbose, debug):\n",
    "    for handler in logger.handlers[:]:\n",
    "        logger.removeHandler(handler)\n",
    "    formatter = _add_file_handler(log_filename, logger, debug)\n",
    "    if verbose:\n",
    "        _add_console_handler(formatter, logger)\n",
    "\n",
    "def _add_file_handler(log_filename, logger, debug):\n",
    "    file_handler = logging.FileHandler(log_filename)\n",
    "    if debug:\n",
    "        file_handler.setLevel(logging.DEBUG)\n",
    "    else:\n",
    "        file_handler.setLevel(logging.INFO)\n",
    "    formatter = logging.Formatter(\n",
    "        '%(asctime)s - %(name)s - %(levelname)s - %(message)s')\n",
    "    file_handler.setFormatter(formatter)\n",
    "    logger.addHandler(file_handler)\n",
    "    return formatter\n",
    "\n",
    "def _add_console_handler(formatter, logger):\n",
    "    console_handler = logging.StreamHandler()\n",
    "    console_handler.setLevel(logging.DEBUG)\n",
    "    console_handler.setFormatter(formatter)\n",
    "    logger.addHandler(console_handler)"
   ],
   "id": "904a9efd016927e0",
   "outputs": [],
   "execution_count": 13
  },
  {
   "metadata": {},
   "cell_type": "markdown",
   "source": "Specify model information and request URL.",
   "id": "2fdaf1056faa49f9"
  },
  {
   "metadata": {
    "ExecuteTime": {
     "end_time": "2025-08-04T06:18:42.701349Z",
     "start_time": "2025-08-04T06:18:42.697951Z"
    }
   },
   "cell_type": "code",
   "source": [
    "LOGGING_DIRECTORY = \"my_logs\"\n",
    "PROMPT_FILE_PATH = \"data_storage/prompt_file/prompt.txt\"\n",
    "MODEL_NAME = \"qwen-vl-max\"\n",
    "REQUEST_URL = \"/v1/chat/completions\""
   ],
   "id": "c758dac1af3e355a",
   "outputs": [],
   "execution_count": 14
  },
  {
   "metadata": {
    "ExecuteTime": {
     "end_time": "2025-08-04T06:18:43.810091Z",
     "start_time": "2025-08-04T06:18:42.760230Z"
    }
   },
   "cell_type": "code",
   "source": [
    "%%time\n",
    "batch_maker = BatchRequestFactory(\n",
    "    question_bank=qb,\n",
    "    prompt=load_prompt(),\n",
    "    url=REQUEST_URL,\n",
    "    model_name=MODEL_NAME,\n",
    "    logger=make_logger(LOGGING_DIRECTORY, verbose=False, debug=True))\n",
    "batch_request = batch_maker.make_batch_request()"
   ],
   "id": "3c1cb56df9c670ad",
   "outputs": [
    {
     "name": "stdout",
     "output_type": "stream",
     "text": [
      "CPU times: user 722 ms, sys: 323 ms, total: 1.04 s\n",
      "Wall time: 1.05 s\n"
     ]
    }
   ],
   "execution_count": 15
  },
  {
   "metadata": {
    "ExecuteTime": {
     "end_time": "2025-08-04T06:18:44.370091Z",
     "start_time": "2025-08-04T06:18:44.367852Z"
    }
   },
   "cell_type": "code",
   "source": "REQUEST_FILE_PATH = \"data_storage/batch_request_file/tagging_request.jsonl\"",
   "id": "6edcd326b3ad94c2",
   "outputs": [],
   "execution_count": 16
  },
  {
   "metadata": {
    "ExecuteTime": {
     "end_time": "2025-08-04T06:18:44.862134Z",
     "start_time": "2025-08-04T06:18:44.859368Z"
    }
   },
   "cell_type": "code",
   "source": [
    "def clear_request_file():\n",
    "    with open(REQUEST_FILE_PATH, 'w', encoding='utf-8') as file:\n",
    "        json.dump({}, file)"
   ],
   "id": "5d90376cd0fcb3da",
   "outputs": [],
   "execution_count": 17
  },
  {
   "metadata": {
    "ExecuteTime": {
     "end_time": "2025-08-04T06:18:45.338399Z",
     "start_time": "2025-08-04T06:18:45.335441Z"
    }
   },
   "cell_type": "code",
   "source": [
    "def count_lines_in_file(file_path: str) -> int:\n",
    "    \"\"\" Count the number of lines in a file. \"\"\"\n",
    "    with open(file_path, 'r', encoding='utf-8') as file:\n",
    "        return sum(1 for _ in file)"
   ],
   "id": "3c42b0ce8703d9ad",
   "outputs": [],
   "execution_count": 18
  },
  {
   "metadata": {
    "ExecuteTime": {
     "end_time": "2025-08-04T06:18:46.274512Z",
     "start_time": "2025-08-04T06:18:45.807874Z"
    }
   },
   "cell_type": "code",
   "source": [
    "batch_request.to_jsonl_file(REQUEST_FILE_PATH)\n",
    "print(f\"Number of lines in the request file: {count_lines_in_file(REQUEST_FILE_PATH)}\")"
   ],
   "id": "dc35890e1f69a40",
   "outputs": [
    {
     "name": "stdout",
     "output_type": "stream",
     "text": [
      "Number of lines in the request file: 2836\n"
     ]
    }
   ],
   "execution_count": 19
  },
  {
   "metadata": {},
   "cell_type": "markdown",
   "source": "# 2. Generate the Labels",
   "id": "7740ef07d17ccbb3"
  },
  {
   "metadata": {
    "ExecuteTime": {
     "end_time": "2025-08-04T06:18:46.739597Z",
     "start_time": "2025-08-04T06:18:46.736924Z"
    }
   },
   "cell_type": "code",
   "source": "RESULT_OUTPUT_PATH = \"data_storage/tagging_results/result.jsonl\"",
   "id": "d5feac3f7caef2bb",
   "outputs": [],
   "execution_count": 20
  },
  {
   "metadata": {
    "id": "c220319ab2db660b",
    "colab": {
     "base_uri": "https://localhost:8080/",
     "height": 321
    },
    "executionInfo": {
     "status": "error",
     "timestamp": 1752988250641,
     "user_tz": -480,
     "elapsed": 714,
     "user": {
      "displayName": "Simon Xu",
      "userId": "12024836940530881699"
     }
    },
    "outputId": "1c6cb981-bdb6-49f2-d244-dc2da5d37736"
   },
   "cell_type": "code",
   "outputs": [],
   "execution_count": null,
   "source": [
    "from pathlib import Path\n",
    "from openai import OpenAI"
   ],
   "id": "c220319ab2db660b"
  },
  {
   "metadata": {},
   "cell_type": "code",
   "outputs": [],
   "execution_count": null,
   "source": [
    "client = OpenAI(\n",
    "    api_key=os.getenv(\"DASHSCOPE_API_KEY\"),\n",
    "    base_url=\"https://dashscope.aliyuncs.com/compatible-mode/v1\",\n",
    ")"
   ],
   "id": "3f49965812918efd"
  },
  {
   "metadata": {},
   "cell_type": "markdown",
   "source": "## a) Upload batch file",
   "id": "46a010dfb098f746"
  },
  {
   "metadata": {},
   "cell_type": "code",
   "outputs": [],
   "execution_count": null,
   "source": [
    "%%time\n",
    "file_object = client.files.create(file=Path(REQUEST_FILE_PATH), purpose=\"batch\")"
   ],
   "id": "c1d18bba581bfac"
  },
  {
   "metadata": {},
   "cell_type": "code",
   "outputs": [],
   "execution_count": null,
   "source": "print(file_object.model_dump_json())",
   "id": "a31d9905f4f62d01"
  },
  {
   "metadata": {},
   "cell_type": "markdown",
   "source": "## b) Create batch job",
   "id": "4a93d44e72638e60"
  },
  {
   "metadata": {},
   "cell_type": "code",
   "outputs": [],
   "execution_count": null,
   "source": [
    "REQUEST_METADATA = {'ds_name':\"科目一标签生成\",\n",
    "                    'ds_description':'为驾考科目一题目自动生成 \"tags\" 和 \"keywords\"。 其中\"tags\" 需要深入理解问题的测试内容，代表问题的知识点与考点。“keywords”需要提取问题中明确或隐含的关键词， 用来检索问题内容。'}"
   ],
   "id": "b4253cc09ae548cb"
  },
  {
   "metadata": {},
   "cell_type": "code",
   "outputs": [],
   "execution_count": null,
   "source": [
    "%%time\n",
    "request_id = file_object.id\n",
    "batch = client.batches.create(\n",
    "    input_file_id=request_id,\n",
    "    endpoint=REQUEST_URL,\n",
    "    completion_window=\"24h\",\n",
    "    metadata=REQUEST_METADATA\n",
    ")\n",
    "print(batch)"
   ],
   "id": "cfa6b607b827be24"
  },
  {
   "metadata": {},
   "cell_type": "markdown",
   "source": "Periodically check the status of the batch job.",
   "id": "d2c5f22f9271d882"
  },
  {
   "metadata": {},
   "cell_type": "code",
   "outputs": [],
   "execution_count": null,
   "source": "from time import sleep",
   "id": "1c8d2a8732567cdc"
  },
  {
   "metadata": {},
   "cell_type": "code",
   "outputs": [],
   "execution_count": null,
   "source": [
    "WAIT_TIME = 300 # 5 Minutes\n",
    "IN_PROGRESS_STATUS_CODES = [\"validating\", \"in_progress\", \"finalizing\", \"cancelling\"]\n",
    "ERROR_STATUS_CODES = [\"failed\", \"expired\", \"cancelled\"]"
   ],
   "id": "8ea625750a82bd79"
  },
  {
   "metadata": {},
   "cell_type": "markdown",
   "source": "It may be easier to just check batch_status on their website",
   "id": "d0a20b3daa43cdca"
  },
  {
   "metadata": {},
   "cell_type": "code",
   "outputs": [],
   "execution_count": null,
   "source": [
    "batch_status = client.batches.retrieve(batch.id)\n",
    "while batch_status.status in IN_PROGRESS_STATUS_CODES:\n",
    "    print(f\"Batch job status: {batch_status.status}\")\n",
    "    sleep(WAIT_TIME)\n",
    "    batch_status = client.batches.retrieve(batch.id)\n",
    "print(f\"Final job status: {batch_status.status}\")"
   ],
   "id": "9cb5daec41cc8cb7"
  },
  {
   "metadata": {},
   "cell_type": "markdown",
   "source": "## c) Error handling",
   "id": "adb88bfd2e1eefe4"
  },
  {
   "metadata": {},
   "cell_type": "code",
   "outputs": [],
   "execution_count": null,
   "source": "ERROR_FILE_PATH = \"data_storage/tagging_results/error.jsonl\"",
   "id": "987617baf9304385"
  },
  {
   "metadata": {},
   "cell_type": "markdown",
   "source": "### i) Clear the error file",
   "id": "c7053988648e7ebc"
  },
  {
   "metadata": {},
   "cell_type": "code",
   "outputs": [],
   "execution_count": null,
   "source": [
    "if os.path.exists(ERROR_FILE_PATH):\n",
    "    with open(ERROR_FILE_PATH, 'w', encoding='utf-8') as file:\n",
    "        file.write(\"\")"
   ],
   "id": "123f5562d6ac52ef"
  },
  {
   "metadata": {},
   "cell_type": "markdown",
   "source": "### ii) Save the new errors",
   "id": "3c73d6ef08547c6c"
  },
  {
   "metadata": {},
   "cell_type": "code",
   "outputs": [],
   "execution_count": null,
   "source": [
    "if batch_status.error_file_id is not None:\n",
    "    content = client.files.content(batch_status.error_file_id)\n",
    "    content.write_to_file(ERROR_FILE_PATH)\n",
    "    print(f\"完整的请求失败信息已保存至本地错误文件: {ERROR_FILE_PATH}\")"
   ],
   "id": "1e841ce4663ae4f3"
  },
  {
   "metadata": {},
   "cell_type": "markdown",
   "source": "## d) Retrieve result",
   "id": "fc9db19b426a08e8"
  },
  {
   "metadata": {},
   "cell_type": "markdown",
   "source": "### i) Clear the result file",
   "id": "2568c0b780893980"
  },
  {
   "metadata": {},
   "cell_type": "code",
   "source": [
    "if os.path.exists(RESULT_OUTPUT_PATH):\n",
    "    with open(RESULT_OUTPUT_PATH, 'w', encoding='utf-8') as file:\n",
    "        file.write(\"\")"
   ],
   "id": "546f939f2f6f9b71",
   "outputs": [],
   "execution_count": null
  },
  {
   "metadata": {},
   "cell_type": "markdown",
   "source": "### ii) Save the result file",
   "id": "2ef2a82b4e560b68"
  },
  {
   "metadata": {},
   "cell_type": "code",
   "source": [
    "output_file = client.files.content(file_id=batch_status.output_file_id)\n",
    "output_file.write_to_file(RESULT_OUTPUT_PATH)"
   ],
   "id": "8205033982801721",
   "outputs": [],
   "execution_count": null
  },
  {
   "metadata": {},
   "cell_type": "code",
   "source": "count_lines_in_file(RESULT_OUTPUT_PATH)",
   "id": "cc23b3dc591c80ee",
   "outputs": [],
   "execution_count": null
  },
  {
   "metadata": {},
   "cell_type": "markdown",
   "source": "## e) Archive result",
   "id": "57f018b98c83c5d7"
  },
  {
   "metadata": {},
   "cell_type": "code",
   "source": [
    "RESULT_ARCHIVE_PATH = \"data_storage/tagging_results/result_archive\"\n",
    "ERROR_ARCHIVE_PATH = \"data_storage/tagging_results/error_archive\""
   ],
   "id": "dacb531f5e982255",
   "outputs": [],
   "execution_count": null
  },
  {
   "metadata": {},
   "cell_type": "code",
   "source": [
    "def get_archive_paths() -> (str, str):\n",
    "    \"\"\" Get the archive path for the result and error files. \"\"\"\n",
    "    os.makedirs(RESULT_ARCHIVE_PATH, exist_ok=True)\n",
    "    os.makedirs(ERROR_ARCHIVE_PATH, exist_ok=True)\n",
    "    timestamp = datetime.datetime.now().strftime(\"%Y%m%d_%H%M\")\n",
    "    archive_path = os.path.join(RESULT_ARCHIVE_PATH, f\"result_{timestamp}.jsonl\")\n",
    "    error_archive_path = os.path.join(ERROR_ARCHIVE_PATH, f\"error_{timestamp}.jsonl\")\n",
    "    return archive_path, error_archive_path"
   ],
   "id": "1ba02d4e4b51331d",
   "outputs": [],
   "execution_count": null
  },
  {
   "metadata": {},
   "cell_type": "code",
   "source": "import shutil",
   "id": "b3d1d1f10b9308e2",
   "outputs": [],
   "execution_count": null
  },
  {
   "metadata": {},
   "cell_type": "code",
   "source": [
    "def archive_files():\n",
    "    \"\"\" Archive the result file by copying it to the archive directory. \"\"\"\n",
    "    result_path, error_path = get_archive_paths()\n",
    "    shutil.copy(RESULT_OUTPUT_PATH, result_path)\n",
    "    shutil.copy(ERROR_FILE_PATH, error_path)"
   ],
   "id": "e1fbb85b11b35bf9",
   "outputs": [],
   "execution_count": null
  },
  {
   "metadata": {},
   "cell_type": "code",
   "source": "archive_files()",
   "id": "244b64d4ac1cab74",
   "outputs": [],
   "execution_count": null
  },
  {
   "metadata": {},
   "cell_type": "markdown",
   "source": "# 3) Parse the results",
   "id": "82bda47b45b06941"
  },
  {
   "metadata": {},
   "cell_type": "markdown",
   "source": "## a) Load labels into the question bank",
   "id": "980bd894ac3e3993"
  },
  {
   "metadata": {
    "ExecuteTime": {
     "end_time": "2025-08-04T06:19:18.361382Z",
     "start_time": "2025-08-04T06:19:18.339922Z"
    }
   },
   "cell_type": "code",
   "source": [
    "from label_generator.response_parsing_pipeline import ResponseParsingPipeline\n",
    "from label_generator.label_factory import MessageFormatConfig"
   ],
   "id": "ab9d9297d1345ac2",
   "outputs": [],
   "execution_count": 21
  },
  {
   "metadata": {
    "ExecuteTime": {
     "end_time": "2025-08-04T06:19:18.818444Z",
     "start_time": "2025-08-04T06:19:18.815854Z"
    }
   },
   "cell_type": "code",
   "source": [
    "message_format = MessageFormatConfig(output_end_tag=\"</JSON>\",\n",
    "                                     output_start_tag=\"<JSON>\")"
   ],
   "id": "c2a3cbb932b0ab05",
   "outputs": [],
   "execution_count": 22
  },
  {
   "metadata": {
    "ExecuteTime": {
     "end_time": "2025-08-04T06:19:19.260625Z",
     "start_time": "2025-08-04T06:19:19.258010Z"
    }
   },
   "cell_type": "code",
   "source": [
    "final_qb = raw_qb\n",
    "response_parser = ResponseParsingPipeline(\n",
    "    question_bank=final_qb,\n",
    "    message_format=message_format,\n",
    "    result_path=RESULT_OUTPUT_PATH)"
   ],
   "id": "7706015aceb42c90",
   "outputs": [],
   "execution_count": 23
  },
  {
   "metadata": {
    "ExecuteTime": {
     "end_time": "2025-08-04T06:19:20.021673Z",
     "start_time": "2025-08-04T06:19:19.746317Z"
    }
   },
   "cell_type": "code",
   "source": "response_parser.parse_and_load()",
   "id": "44127adf440a3dc7",
   "outputs": [],
   "execution_count": 24
  },
  {
   "metadata": {
    "ExecuteTime": {
     "end_time": "2025-08-04T06:19:20.550244Z",
     "start_time": "2025-08-04T06:19:20.546155Z"
    }
   },
   "cell_type": "code",
   "source": [
    "for qid in final_qb.get_qid_list()[:10]:\n",
    "    question = final_qb.get_question(qid)\n",
    "    print(f\"Question ID: {qid}\")\n",
    "    print(f\"Tags: {question.tags}\")\n",
    "    print(f\"Keywords: {question.keywords}\")\n",
    "    print(\"-\" * 40)"
   ],
   "id": "15c120d45265ae53",
   "outputs": [
    {
     "name": "stdout",
     "output_type": "stream",
     "text": [
      "Question ID: 00428\n",
      "Tags: ['交通信号-标志-禁令']\n",
      "Keywords: ['交通标志', '禁令标志', '禁止直行', '禁止右转', '红色圆形']\n",
      "----------------------------------------\n",
      "Question ID: 00624\n",
      "Tags: ['交通信号-标志-预告', '道路信息-交叉路口']\n",
      "Keywords: ['蓝色标志', '南京路', '东北路', '前方500m', 'G2', '十字交叉路口预告']\n",
      "----------------------------------------\n",
      "Question ID: 0079e\n",
      "Tags: ['交通信号-标志-会车让行', '安全驾驶-驾驶习惯-礼让行车']\n",
      "Keywords: ['交通标志', '红色边框', '黑色箭头', '红色箭头', '会车', '停车让行']\n",
      "----------------------------------------\n",
      "Question ID: 008da\n",
      "Tags: ['安全驾驶-基本原则-谨慎驾驶', '规则记忆型-安全理念']\n",
      "Keywords: ['谨慎驾驶', '集中注意力', '仔细观察', '提前预防']\n",
      "----------------------------------------\n",
      "Question ID: 0092c\n",
      "Tags: ['通行规定-速度限制-无标志公路限速', '法规记忆型-法定限速']\n",
      "Keywords: ['公路', '最高速度', '40公里/小时', '双车道', '茂密树木']\n",
      "----------------------------------------\n",
      "Question ID: 0146a\n",
      "Tags: ['安全驾驶-灯光使用-雾天', '规则记忆型-法规细节']\n",
      "Keywords: ['雾天', '行车', '雾灯', '危险报警闪光灯', '开启']\n",
      "----------------------------------------\n",
      "Question ID: 019e1\n",
      "Tags: ['交通信号-信号灯-绿灯通行规则', '情景判断型-交通信号理解']\n",
      "Keywords: ['交通信号灯', '绿灯', '右转弯', '直行', '左转', '不能右转']\n",
      "----------------------------------------\n",
      "Question ID: 01e32\n",
      "Tags: ['车辆知识-灯光系统-灯光开关', '情景判断型-车辆操作']\n",
      "Keywords: ['灯光开关', '全车灯光', '点亮', '方向盘', '仪表盘']\n",
      "----------------------------------------\n",
      "Question ID: 01ea3\n",
      "Tags: ['通行规定-禁止停车-人行横道', '规则记忆型-法规细节']\n",
      "Keywords: ['人行横道', '停车', '小轿车', '行人', '违法停车']\n",
      "----------------------------------------\n",
      "Question ID: 01fdd\n",
      "Tags: ['安全驾驶-货车转弯-提前让车', '大型车辆-操作规范-转弯安全']\n",
      "Keywords: ['汽车列车', '转弯过程', '提前让车', '安全驾驶']\n",
      "----------------------------------------\n"
     ]
    }
   ],
   "execution_count": 25
  },
  {
   "metadata": {},
   "cell_type": "markdown",
   "source": [
    "## b) Examine missing labels\n",
    "Question that are missing labels are usually those that violate the model's content policy in some way."
   ],
   "id": "f4041384fa1ee728"
  },
  {
   "metadata": {
    "ExecuteTime": {
     "end_time": "2025-08-04T06:19:21.018542Z",
     "start_time": "2025-08-04T06:19:21.016168Z"
    }
   },
   "cell_type": "code",
   "source": "from typing import List",
   "id": "b4515e894201d257",
   "outputs": [],
   "execution_count": 26
  },
  {
   "metadata": {
    "ExecuteTime": {
     "end_time": "2025-08-04T06:19:21.514467Z",
     "start_time": "2025-08-04T06:19:21.511561Z"
    }
   },
   "cell_type": "code",
   "source": [
    "def get_empty_labels(question_bank: QuestionBank) -> List[str]:\n",
    "    \"\"\" Get a list of questions with empty tags or keywords. \"\"\"\n",
    "    empty_labels = []\n",
    "    for qid in question_bank.get_qid_list():\n",
    "        question = question_bank.get_question(qid)\n",
    "        if not question.tags or not question.keywords:\n",
    "            empty_labels.append(qid)\n",
    "    return empty_labels"
   ],
   "id": "b9462fe6c26e3c1d",
   "outputs": [],
   "execution_count": 27
  },
  {
   "metadata": {
    "ExecuteTime": {
     "end_time": "2025-08-04T06:21:07.778337Z",
     "start_time": "2025-08-04T06:21:07.771848Z"
    }
   },
   "cell_type": "code",
   "source": [
    "for qid in get_empty_labels(question_bank=qb):\n",
    "    question = final_qb.get_question(qid)\n",
    "    print(f\"Question ID: {qid}\\n\"\n",
    "          f\"Question Text: {question.get_question()}\\n\"\n",
    "          f\"Answer Choices: {question.get_answers()}\\n\"\n",
    "          f\"Answer: {question.get_correct_answer()}\\n\"\n",
    "          + (\"-\" * 40))"
   ],
   "id": "a54fe168a383775d",
   "outputs": [
    {
     "name": "stdout",
     "output_type": "stream",
     "text": [
      "Question ID: e386c\n",
      "Question Text: 以下哪种情形不会被扣留车辆？\n",
      "Answer Choices: {'未按规定购买第三者责任强制保险', '未随车携带行驶证', '未随车携带灭火器', '未按规定悬挂号牌'}\n",
      "Answer: 未随车携带灭火器\n",
      "----------------------------------------\n"
     ]
    }
   ],
   "execution_count": 32
  },
  {
   "metadata": {
    "ExecuteTime": {
     "end_time": "2025-08-04T06:21:16.177980Z",
     "start_time": "2025-08-04T06:21:16.174603Z"
    }
   },
   "cell_type": "code",
   "source": [
    "q_e386c = final_qb.get_question(\"e386c\")\n",
    "q_e386c.set_keywords([\"扣留车辆\", \"未悬挂号牌\", \"未购买交强险\", \"未携带行驶证\", \"未携带灭火器\", \"违法行为\"])\n",
    "q_e386c.set_tags([\"违法处理-行政处罚-扣留车辆\",\n",
    "                  \"规则记忆型-法规处罚\"])"
   ],
   "id": "bc5da068bb1153af",
   "outputs": [],
   "execution_count": 33
  },
  {
   "metadata": {},
   "cell_type": "markdown",
   "source": "## c) Save the updated question bank",
   "id": "8c0ce742c4e827fe"
  },
  {
   "metadata": {
    "ExecuteTime": {
     "end_time": "2025-08-04T06:21:16.708612Z",
     "start_time": "2025-08-04T06:21:16.705533Z"
    }
   },
   "cell_type": "code",
   "source": [
    "LABELED_DATA_DIR = \"data_storage/labeled_database\"\n",
    "LABELED_DB_FILE_PATH = os.path.join(LABELED_DATA_DIR, \"data.json\")\n",
    "FINAL_IMG_DIR = RAW_IMG_DIR"
   ],
   "id": "6cd5c233d52bd6fc",
   "outputs": [],
   "execution_count": 34
  },
  {
   "metadata": {
    "ExecuteTime": {
     "end_time": "2025-08-04T06:21:18.237737Z",
     "start_time": "2025-08-04T06:21:17.305871Z"
    }
   },
   "cell_type": "code",
   "source": [
    "labeled_db = LocalJsonDB(db_file_path=LABELED_DB_FILE_PATH,\n",
    "                         img_dir=FINAL_IMG_DIR)\n",
    "labeled_db.save(final_qb)\n",
    "final_qb = labeled_db.load()"
   ],
   "id": "c84da67ecef164a3",
   "outputs": [],
   "execution_count": 35
  },
  {
   "metadata": {},
   "cell_type": "markdown",
   "source": "Display the first 10 questions with their tags and keywords.",
   "id": "8efaf0f311f67e6c"
  },
  {
   "metadata": {
    "ExecuteTime": {
     "end_time": "2025-08-04T06:21:18.799082Z",
     "start_time": "2025-08-04T06:21:18.792433Z"
    }
   },
   "cell_type": "code",
   "source": [
    "for qid in final_qb.get_qid_list()[:10]:\n",
    "    question = final_qb.get_question(qid)\n",
    "    print(f\"Question ID: {qid}\")\n",
    "    print(f\"Tags: {question.tags}\")\n",
    "    print(f\"Keywords: {question.keywords}\")\n",
    "    print(\"-\" * 40)"
   ],
   "id": "eefc8ac205ba98d1",
   "outputs": [
    {
     "name": "stdout",
     "output_type": "stream",
     "text": [
      "Question ID: 00428\n",
      "Tags: ['交通信号-标志-禁令']\n",
      "Keywords: ['交通标志', '禁令标志', '禁止直行', '禁止右转', '红色圆形']\n",
      "----------------------------------------\n",
      "Question ID: 00624\n",
      "Tags: ['交通信号-标志-预告', '道路信息-交叉路口']\n",
      "Keywords: ['蓝色标志', '南京路', '东北路', '前方500m', 'G2', '十字交叉路口预告']\n",
      "----------------------------------------\n",
      "Question ID: 0079e\n",
      "Tags: ['交通信号-标志-会车让行', '安全驾驶-驾驶习惯-礼让行车']\n",
      "Keywords: ['交通标志', '红色边框', '黑色箭头', '红色箭头', '会车', '停车让行']\n",
      "----------------------------------------\n",
      "Question ID: 008da\n",
      "Tags: ['安全驾驶-基本原则-谨慎驾驶', '规则记忆型-安全理念']\n",
      "Keywords: ['谨慎驾驶', '集中注意力', '仔细观察', '提前预防']\n",
      "----------------------------------------\n",
      "Question ID: 0092c\n",
      "Tags: ['通行规定-速度限制-无标志公路限速', '法规记忆型-法定限速']\n",
      "Keywords: ['公路', '最高速度', '40公里/小时', '双车道', '茂密树木']\n",
      "----------------------------------------\n",
      "Question ID: 0146a\n",
      "Tags: ['安全驾驶-灯光使用-雾天', '规则记忆型-法规细节']\n",
      "Keywords: ['雾天', '行车', '雾灯', '危险报警闪光灯', '开启']\n",
      "----------------------------------------\n",
      "Question ID: 019e1\n",
      "Tags: ['交通信号-信号灯-绿灯通行规则', '情景判断型-交通信号理解']\n",
      "Keywords: ['交通信号灯', '绿灯', '右转弯', '直行', '左转', '不能右转']\n",
      "----------------------------------------\n",
      "Question ID: 01e32\n",
      "Tags: ['车辆知识-灯光系统-灯光开关', '情景判断型-车辆操作']\n",
      "Keywords: ['灯光开关', '全车灯光', '点亮', '方向盘', '仪表盘']\n",
      "----------------------------------------\n",
      "Question ID: 01ea3\n",
      "Tags: ['通行规定-禁止停车-人行横道', '规则记忆型-法规细节']\n",
      "Keywords: ['人行横道', '停车', '小轿车', '行人', '违法停车']\n",
      "----------------------------------------\n",
      "Question ID: 01fdd\n",
      "Tags: ['安全驾驶-货车转弯-提前让车', '大型车辆-操作规范-转弯安全']\n",
      "Keywords: ['汽车列车', '转弯过程', '提前让车', '安全驾驶']\n",
      "----------------------------------------\n"
     ]
    }
   ],
   "execution_count": 36
  }
 ],
 "metadata": {
  "accelerator": "GPU",
  "colab": {
   "gpuType": "T4",
   "provenance": []
  },
  "kernelspec": {
   "display_name": "Python 3 (ipykernel)",
   "name": "python3",
   "language": "python"
  },
  "language_info": {
   "codemirror_mode": {
    "name": "ipython",
    "version": 2
   },
   "file_extension": ".py",
   "mimetype": "text/x-python",
   "name": "python",
   "nbconvert_exporter": "python",
   "pygments_lexer": "ipython2",
   "version": "2.7.6"
  }
 },
 "nbformat": 4,
 "nbformat_minor": 5
}
