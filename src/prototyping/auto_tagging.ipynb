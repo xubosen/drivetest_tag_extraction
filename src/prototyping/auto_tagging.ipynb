{
 "cells": [
  {
   "cell_type": "markdown",
   "id": "a6338108438402fb",
   "metadata": {
    "id": "a6338108438402fb"
   },
   "source": [
    "# Driving Exam Auto Tagging\n",
    "Direct tagging with a VLM"
   ]
  },
  {
   "cell_type": "markdown",
   "id": "cb858b7a257f6624",
   "metadata": {
    "id": "cb858b7a257f6624"
   },
   "source": "## A. Format Question Data"
  },
  {
   "metadata": {},
   "cell_type": "markdown",
   "source": "## 0. Set up the environment",
   "id": "5068201e98d4584d"
  },
  {
   "metadata": {},
   "cell_type": "markdown",
   "source": "Set the source path to the root of the project",
   "id": "9897d967179f469b"
  },
  {
   "metadata": {
    "ExecuteTime": {
     "end_time": "2025-07-28T08:06:06.511630Z",
     "start_time": "2025-07-28T08:06:06.506086Z"
    }
   },
   "cell_type": "code",
   "source": [
    "import json\n",
    "import os"
   ],
   "id": "3940e3207f02c046",
   "outputs": [],
   "execution_count": 1
  },
  {
   "metadata": {
    "ExecuteTime": {
     "end_time": "2025-07-28T08:06:06.674811Z",
     "start_time": "2025-07-28T08:06:06.672119Z"
    }
   },
   "cell_type": "code",
   "source": [
    "SRC_PATH = \"/Users/simonxu/Files/Projects/Drivetest_App/2_NLP Tag Creation/drivetest_tag_extraction/src\"\n",
    "os.chdir(SRC_PATH)"
   ],
   "id": "4e03e57a7fe73c11",
   "outputs": [],
   "execution_count": 2
  },
  {
   "metadata": {
    "id": "8dc1f3b0517888f1"
   },
   "cell_type": "markdown",
   "source": "### 1. Set up the question bank",
   "id": "8dc1f3b0517888f1"
  },
  {
   "metadata": {
    "collapsed": true,
    "id": "initial_id",
    "executionInfo": {
     "status": "ok",
     "timestamp": 1752986917275,
     "user_tz": -480,
     "elapsed": 4260,
     "user": {
      "displayName": "Simon Xu",
      "userId": "12024836940530881699"
     }
    },
    "ExecuteTime": {
     "end_time": "2025-07-28T08:06:07.047086Z",
     "start_time": "2025-07-28T08:06:06.846737Z"
    }
   },
   "cell_type": "code",
   "source": [
    "from entities.question_bank import QuestionBank\n",
    "from data_access.local_json_db import LocalJsonDB\n",
    "from data_formatting.data_formatter import DataFormatter, DataFormat"
   ],
   "id": "initial_id",
   "outputs": [],
   "execution_count": 3
  },
  {
   "metadata": {},
   "cell_type": "markdown",
   "source": "### i) Load the question bank",
   "id": "274014d947d856a1"
  },
  {
   "metadata": {
    "ExecuteTime": {
     "end_time": "2025-07-28T08:06:07.146034Z",
     "start_time": "2025-07-28T08:06:07.142235Z"
    }
   },
   "cell_type": "code",
   "source": [
    "RAW_DATA_FILE = \"data_storage/raw_database/data.json\"\n",
    "RAW_IMG_DIR = \"data_storage/raw_database/images\"\n",
    "\n",
    "def load_data() -> QuestionBank:\n",
    "    \"\"\" Load the question bank from the formatted data directory \"\"\"\n",
    "    raw_db = LocalJsonDB(RAW_DATA_FILE, RAW_IMG_DIR)\n",
    "    return raw_db.load()"
   ],
   "id": "cc1550375c825244",
   "outputs": [],
   "execution_count": 4
  },
  {
   "metadata": {
    "ExecuteTime": {
     "end_time": "2025-07-28T08:06:07.735146Z",
     "start_time": "2025-07-28T08:06:07.414877Z"
    }
   },
   "cell_type": "code",
   "source": [
    "raw_qb = load_data()\n",
    "print(raw_qb.question_count())"
   ],
   "id": "a9e1c1b28036f45d",
   "outputs": [
    {
     "name": "stdout",
     "output_type": "stream",
     "text": [
      "2836\n"
     ]
    }
   ],
   "execution_count": 5
  },
  {
   "metadata": {},
   "cell_type": "markdown",
   "source": "### ii) Preprocessing",
   "id": "968320141e520ed0"
  },
  {
   "metadata": {},
   "cell_type": "markdown",
   "source": "Images are reshaped to a standard size and format.",
   "id": "c0a8b208a6b56c10"
  },
  {
   "cell_type": "code",
   "id": "d7b4c2c6cecad391",
   "metadata": {
    "colab": {
     "base_uri": "https://localhost:8080/"
    },
    "id": "d7b4c2c6cecad391",
    "executionInfo": {
     "status": "ok",
     "timestamp": 1752986917907,
     "user_tz": -480,
     "elapsed": 629,
     "user": {
      "displayName": "Simon Xu",
      "userId": "12024836940530881699"
     }
    },
    "outputId": "762208ff-b24a-492f-f95b-0975341913d7",
    "ExecuteTime": {
     "end_time": "2025-07-28T08:06:07.877835Z",
     "start_time": "2025-07-28T08:06:07.871671Z"
    }
   },
   "source": [
    "FORMATTED_IMG_DIR = \"data_storage/formatted_database/images\"\n",
    "def format_data(raw_qb: QuestionBank, data_format: DataFormat) -> QuestionBank:\n",
    "    \"\"\" Load the question bank from the formatted data directory \"\"\"\n",
    "    data_formatter = DataFormatter(data_format=data_format)\n",
    "    new_qb = data_formatter.format_data(question_bank=raw_qb,\n",
    "                                        new_img_dir=FORMATTED_IMG_DIR)\n",
    "    return new_qb"
   ],
   "outputs": [],
   "execution_count": 6
  },
  {
   "metadata": {
    "ExecuteTime": {
     "end_time": "2025-07-28T08:06:25.430753Z",
     "start_time": "2025-07-28T08:06:08.064911Z"
    }
   },
   "cell_type": "code",
   "source": [
    "%%time\n",
    "INPUT_IMG_EXTENSION = \"webp\"\n",
    "OUTPUT_IMG_EXTENSION = \"jpg\"\n",
    "\n",
    "data_format = DataFormat(image_shape=(256, 256),\n",
    "                         input_image_extension=INPUT_IMG_EXTENSION,\n",
    "                         output_image_extension=OUTPUT_IMG_EXTENSION)\n",
    "qb = format_data(raw_qb=raw_qb, data_format=data_format)\n",
    "print(qb.question_count())"
   ],
   "id": "f04037bd80f34c1a",
   "outputs": [
    {
     "name": "stdout",
     "output_type": "stream",
     "text": [
      "2836\n",
      "CPU times: user 14 s, sys: 2.8 s, total: 16.8 s\n",
      "Wall time: 17.4 s\n"
     ]
    }
   ],
   "execution_count": 7
  },
  {
   "metadata": {},
   "cell_type": "markdown",
   "source": "### iii) Save the formatted question bank",
   "id": "3d32f9aaa8162c3d"
  },
  {
   "metadata": {
    "ExecuteTime": {
     "end_time": "2025-07-28T08:06:25.498236Z",
     "start_time": "2025-07-28T08:06:25.494820Z"
    }
   },
   "cell_type": "code",
   "source": [
    "FORMATTED_DB_FILE_PATH = \"data_storage/formatted_database/data.json\"\n",
    "def save_formatted_data(question_bank: QuestionBank) -> None:\n",
    "    \"\"\" Save the question bank to the specified file path \"\"\"\n",
    "    formatted_db = LocalJsonDB(FORMATTED_DB_FILE_PATH, FORMATTED_IMG_DIR)\n",
    "    formatted_db.save(question_bank)"
   ],
   "id": "fae96b58a7bd3d95",
   "outputs": [],
   "execution_count": 8
  },
  {
   "metadata": {
    "ExecuteTime": {
     "end_time": "2025-07-28T08:06:25.687929Z",
     "start_time": "2025-07-28T08:06:25.601079Z"
    }
   },
   "cell_type": "code",
   "source": "save_formatted_data(qb)",
   "id": "3d36b2e92db3ec91",
   "outputs": [],
   "execution_count": 9
  },
  {
   "metadata": {},
   "cell_type": "markdown",
   "source": "## C. Question Bank to Batch Request File",
   "id": "d169bb1447a4367c"
  },
  {
   "metadata": {},
   "cell_type": "markdown",
   "source": "Turn the question bank into a jsonl file that can be used for making batch requests compatible with the OpenAI standard.",
   "id": "f704313b35085a62"
  },
  {
   "metadata": {
    "ExecuteTime": {
     "end_time": "2025-07-28T08:06:25.792133Z",
     "start_time": "2025-07-28T08:06:25.779588Z"
    }
   },
   "cell_type": "code",
   "source": [
    "import datetime\n",
    "import logging\n",
    "from logging import Logger\n",
    "\n",
    "from label_generator.batch_request_factory import BatchRequestFactory"
   ],
   "id": "b2a69a481c405563",
   "outputs": [],
   "execution_count": 10
  },
  {
   "metadata": {
    "ExecuteTime": {
     "end_time": "2025-07-28T08:06:25.906512Z",
     "start_time": "2025-07-28T08:06:25.902065Z"
    }
   },
   "cell_type": "code",
   "source": [
    "def load_prompt() -> str:\n",
    "    \"\"\" Load the prompt from the specified file path. \"\"\"\n",
    "    with open(PROMPT_FILE_PATH, 'r', encoding='utf-8') as file:\n",
    "        prompt = file.read()\n",
    "    return prompt"
   ],
   "id": "bfef7e52ed3cef32",
   "outputs": [],
   "execution_count": 11
  },
  {
   "metadata": {
    "ExecuteTime": {
     "end_time": "2025-07-28T08:06:26.022011Z",
     "start_time": "2025-07-28T08:06:26.009619Z"
    }
   },
   "cell_type": "code",
   "source": [
    "def make_logger(logging_directory: str, verbose: bool=False, debug: bool=False) -> Logger:\n",
    "    \"\"\" Create a logger that logs to the specified directory. \"\"\"\n",
    "    log_filename, timestamp = _make_logger_name(logging_directory)\n",
    "    logger = logging.getLogger(f\"batch_request_{timestamp}\")\n",
    "    if debug:\n",
    "        logger.setLevel(logging.DEBUG)\n",
    "    else:\n",
    "        logger.setLevel(logging.INFO)\n",
    "    _add_handlers(log_filename, logger, verbose, debug)\n",
    "    return logger\n",
    "\n",
    "def _make_logger_name(logging_directory):\n",
    "    timestamp = datetime.datetime.now().strftime(\"%Y%m%d_%H%M\")\n",
    "    log_filename = os.path.join(logging_directory,\n",
    "                                f\"batch_request_{timestamp}.log\")\n",
    "    return log_filename, timestamp\n",
    "\n",
    "def _add_handlers(log_filename, logger, verbose, debug):\n",
    "    for handler in logger.handlers[:]:\n",
    "        logger.removeHandler(handler)\n",
    "    formatter = _add_file_handler(log_filename, logger, debug)\n",
    "    if verbose:\n",
    "        _add_console_handler(formatter, logger)\n",
    "\n",
    "def _add_file_handler(log_filename, logger, debug):\n",
    "    file_handler = logging.FileHandler(log_filename)\n",
    "    if debug:\n",
    "        file_handler.setLevel(logging.DEBUG)\n",
    "    else:\n",
    "        file_handler.setLevel(logging.INFO)\n",
    "    formatter = logging.Formatter(\n",
    "        '%(asctime)s - %(name)s - %(levelname)s - %(message)s')\n",
    "    file_handler.setFormatter(formatter)\n",
    "    logger.addHandler(file_handler)\n",
    "    return formatter\n",
    "\n",
    "def _add_console_handler(formatter, logger):\n",
    "    console_handler = logging.StreamHandler()\n",
    "    console_handler.setLevel(logging.DEBUG)\n",
    "    console_handler.setFormatter(formatter)\n",
    "    logger.addHandler(console_handler)"
   ],
   "id": "904a9efd016927e0",
   "outputs": [],
   "execution_count": 12
  },
  {
   "metadata": {},
   "cell_type": "markdown",
   "source": "Specify model information and request URL.",
   "id": "2fdaf1056faa49f9"
  },
  {
   "metadata": {
    "ExecuteTime": {
     "end_time": "2025-07-28T08:07:57.464377Z",
     "start_time": "2025-07-28T08:07:57.460984Z"
    }
   },
   "cell_type": "code",
   "source": [
    "LOGGING_DIRECTORY = \"my_logs\"\n",
    "PROMPT_FILE_PATH = \"data_storage/prompt_file/prompt.txt\"\n",
    "MODEL_NAME = \"qwen-vl-max\"\n",
    "REQUEST_URL = \"/v1/chat/completions\""
   ],
   "id": "c758dac1af3e355a",
   "outputs": [],
   "execution_count": 20
  },
  {
   "metadata": {
    "ExecuteTime": {
     "end_time": "2025-07-28T08:07:58.829488Z",
     "start_time": "2025-07-28T08:07:57.565206Z"
    }
   },
   "cell_type": "code",
   "source": [
    "%%time\n",
    "batch_maker = BatchRequestFactory(\n",
    "    question_bank=qb,\n",
    "    prompt=load_prompt(),\n",
    "    url=REQUEST_URL,\n",
    "    model_name=MODEL_NAME,\n",
    "    logger=make_logger(LOGGING_DIRECTORY, verbose=False, debug=True))\n",
    "batch_request = batch_maker.make_batch_request()"
   ],
   "id": "3c1cb56df9c670ad",
   "outputs": [
    {
     "name": "stdout",
     "output_type": "stream",
     "text": [
      "CPU times: user 858 ms, sys: 395 ms, total: 1.25 s\n",
      "Wall time: 1.26 s\n"
     ]
    }
   ],
   "execution_count": 21
  },
  {
   "metadata": {
    "ExecuteTime": {
     "end_time": "2025-07-28T08:07:59.489319Z",
     "start_time": "2025-07-28T08:07:59.486840Z"
    }
   },
   "cell_type": "code",
   "source": "REQUEST_FILE_PATH = \"data_storage/batch_request_file/tagging_request.jsonl\"",
   "id": "6edcd326b3ad94c2",
   "outputs": [],
   "execution_count": 22
  },
  {
   "metadata": {
    "ExecuteTime": {
     "end_time": "2025-07-28T08:08:00.033325Z",
     "start_time": "2025-07-28T08:08:00.030700Z"
    }
   },
   "cell_type": "code",
   "source": [
    "def clear_request_file():\n",
    "    with open(REQUEST_FILE_PATH, 'w', encoding='utf-8') as file:\n",
    "        json.dump({}, file)"
   ],
   "id": "5d90376cd0fcb3da",
   "outputs": [],
   "execution_count": 23
  },
  {
   "metadata": {
    "ExecuteTime": {
     "end_time": "2025-07-28T08:08:00.649996Z",
     "start_time": "2025-07-28T08:08:00.644804Z"
    }
   },
   "cell_type": "code",
   "source": [
    "def count_lines_in_file(file_path: str) -> int:\n",
    "    \"\"\" Count the number of lines in a file. \"\"\"\n",
    "    with open(file_path, 'r', encoding='utf-8') as file:\n",
    "        return sum(1 for _ in file)"
   ],
   "id": "3c42b0ce8703d9ad",
   "outputs": [],
   "execution_count": 24
  },
  {
   "metadata": {
    "ExecuteTime": {
     "end_time": "2025-07-28T08:29:48.807475Z",
     "start_time": "2025-07-28T08:29:48.306202Z"
    }
   },
   "cell_type": "code",
   "source": [
    "batch_request.to_jsonl_file(REQUEST_FILE_PATH)\n",
    "print(f\"Number of lines in the request file: {count_lines_in_file(REQUEST_FILE_PATH)}\")"
   ],
   "id": "dc35890e1f69a40",
   "outputs": [
    {
     "name": "stdout",
     "output_type": "stream",
     "text": [
      "Number of lines in the request file: 2836\n"
     ]
    }
   ],
   "execution_count": 43
  },
  {
   "metadata": {},
   "cell_type": "markdown",
   "source": "# 2. Generate the Labels",
   "id": "7740ef07d17ccbb3"
  },
  {
   "cell_type": "code",
   "id": "c220319ab2db660b",
   "metadata": {
    "id": "c220319ab2db660b",
    "colab": {
     "base_uri": "https://localhost:8080/",
     "height": 321
    },
    "executionInfo": {
     "status": "error",
     "timestamp": 1752988250641,
     "user_tz": -480,
     "elapsed": 714,
     "user": {
      "displayName": "Simon Xu",
      "userId": "12024836940530881699"
     }
    },
    "outputId": "1c6cb981-bdb6-49f2-d244-dc2da5d37736",
    "ExecuteTime": {
     "end_time": "2025-07-28T08:08:03.052799Z",
     "start_time": "2025-07-28T08:08:02.479982Z"
    }
   },
   "source": [
    "from pathlib import Path\n",
    "from openai import OpenAI"
   ],
   "outputs": [],
   "execution_count": 26
  },
  {
   "metadata": {
    "ExecuteTime": {
     "end_time": "2025-07-28T08:08:03.963996Z",
     "start_time": "2025-07-28T08:08:03.839502Z"
    }
   },
   "cell_type": "code",
   "source": [
    "client = OpenAI(\n",
    "    api_key=os.getenv(\"DASHSCOPE_API_KEY\"),\n",
    "    base_url=\"https://dashscope.aliyuncs.com/compatible-mode/v1\",\n",
    ")"
   ],
   "id": "3f49965812918efd",
   "outputs": [],
   "execution_count": 27
  },
  {
   "metadata": {},
   "cell_type": "markdown",
   "source": "## a) Upload batch file",
   "id": "46a010dfb098f746"
  },
  {
   "metadata": {
    "ExecuteTime": {
     "end_time": "2025-07-28T08:08:04.642756Z",
     "start_time": "2025-07-28T08:08:04.638293Z"
    }
   },
   "cell_type": "code",
   "source": "# REQUEST_TEST_FILE_PATH = \"data_storage/batch_request_file/tagging_request_test.jsonl\"",
   "id": "245fcd0e5fa3c212",
   "outputs": [],
   "execution_count": 28
  },
  {
   "metadata": {
    "ExecuteTime": {
     "end_time": "2025-07-28T08:08:42.024064Z",
     "start_time": "2025-07-28T08:08:05.498671Z"
    }
   },
   "cell_type": "code",
   "source": [
    "%%time\n",
    "file_object = client.files.create(file=Path(REQUEST_FILE_PATH), purpose=\"batch\")"
   ],
   "id": "c1d18bba581bfac",
   "outputs": [
    {
     "name": "stdout",
     "output_type": "stream",
     "text": [
      "CPU times: user 432 ms, sys: 227 ms, total: 659 ms\n",
      "Wall time: 36.5 s\n"
     ]
    }
   ],
   "execution_count": 29
  },
  {
   "metadata": {
    "ExecuteTime": {
     "end_time": "2025-07-28T08:08:42.541612Z",
     "start_time": "2025-07-28T08:08:42.533500Z"
    }
   },
   "cell_type": "code",
   "source": "print(file_object.model_dump_json())",
   "id": "a31d9905f4f62d01",
   "outputs": [
    {
     "name": "stdout",
     "output_type": "stream",
     "text": [
      "{\"id\":\"file-batch-77ec329f500a4ecd9de16a3d\",\"bytes\":69592805,\"created_at\":1753690121,\"filename\":\"tagging_request.jsonl\",\"object\":\"file\",\"purpose\":\"batch\",\"status\":\"processed\",\"expires_at\":null,\"status_details\":null}\n"
     ]
    }
   ],
   "execution_count": 30
  },
  {
   "metadata": {},
   "cell_type": "markdown",
   "source": "## b) Create batch job",
   "id": "4a93d44e72638e60"
  },
  {
   "metadata": {
    "ExecuteTime": {
     "end_time": "2025-07-28T08:08:43.088305Z",
     "start_time": "2025-07-28T08:08:43.085298Z"
    }
   },
   "cell_type": "code",
   "source": [
    "REQUEST_METADATA = {'ds_name':\"科目一标签生成\",\n",
    "                    'ds_description':'为驾考科目一题目自动生成 \"tags\" 和 \"keywords\"。 其中\"tags\" 需要深入理解问题的测试内容，代表问题的知识点与考点。“keywords”需要提取问题中明确或隐含的关键词， 用来检索问题内容。'}"
   ],
   "id": "b4253cc09ae548cb",
   "outputs": [],
   "execution_count": 31
  },
  {
   "metadata": {
    "ExecuteTime": {
     "end_time": "2025-07-28T08:08:43.796098Z",
     "start_time": "2025-07-28T08:08:43.605566Z"
    }
   },
   "cell_type": "code",
   "source": [
    "%%time\n",
    "request_id = file_object.id\n",
    "batch = client.batches.create(\n",
    "    input_file_id=request_id,\n",
    "    endpoint=REQUEST_URL,\n",
    "    completion_window=\"24h\",\n",
    "    metadata=REQUEST_METADATA\n",
    ")\n",
    "print(batch)"
   ],
   "id": "d0c931b3683219d8",
   "outputs": [
    {
     "name": "stdout",
     "output_type": "stream",
     "text": [
      "Batch(id='batch_61bc1296-7776-416f-9552-36a3593295be', completion_window='24h', created_at=1753690123, endpoint='/v1/chat/completions', input_file_id='file-batch-77ec329f500a4ecd9de16a3d', object='batch', status='validating', cancelled_at=None, cancelling_at=None, completed_at=None, error_file_id=None, errors=None, expired_at=None, expires_at=None, failed_at=None, finalizing_at=None, in_progress_at=None, metadata={'ds_name': '科目一标签生成', 'ds_description': '为驾考科目一题目自动生成 \"tags\" 和 \"keywords\"。 其中\"tags\" 需要深入理解问题的测试内容，代表问题的知识点与考点。“keywords”需要提取问题中明确或隐含的关键词， 用来检索问题内容。'}, output_file_id=None, request_counts=BatchRequestCounts(completed=0, failed=0, total=0))\n",
      "CPU times: user 4.38 ms, sys: 8.1 ms, total: 12.5 ms\n",
      "Wall time: 187 ms\n"
     ]
    }
   ],
   "execution_count": 32
  },
  {
   "metadata": {},
   "cell_type": "markdown",
   "source": "Periodically check the status of the batch job.",
   "id": "d2c5f22f9271d882"
  },
  {
   "metadata": {
    "ExecuteTime": {
     "end_time": "2025-07-28T08:09:14.309498Z",
     "start_time": "2025-07-28T08:08:44.305055Z"
    }
   },
   "cell_type": "code",
   "source": [
    "from time import sleep\n",
    "sleep(30) # Wait for 30 seconds before checking the first status"
   ],
   "id": "1c8d2a8732567cdc",
   "outputs": [],
   "execution_count": 33
  },
  {
   "metadata": {
    "ExecuteTime": {
     "end_time": "2025-07-28T08:26:26.407070Z",
     "start_time": "2025-07-28T08:26:26.404049Z"
    }
   },
   "cell_type": "code",
   "source": [
    "WAIT_TIME = 900 # 15 Minutes\n",
    "IN_PROGRESS_STATUS_CODES = [\"validating\", \"in_progress\", \"finalizing\", \"cancelling\"]\n",
    "ERROR_STATUS_CODES = [\"failed\", \"expired\", \"cancelled\"]"
   ],
   "id": "8ea625750a82bd79",
   "outputs": [],
   "execution_count": 36
  },
  {
   "metadata": {
    "ExecuteTime": {
     "end_time": "2025-07-28T08:26:29.764163Z",
     "start_time": "2025-07-28T08:26:27.416976Z"
    }
   },
   "cell_type": "code",
   "source": [
    "batch_status = client.batches.retrieve(batch.id)\n",
    "while batch_status.status in IN_PROGRESS_STATUS_CODES:\n",
    "    print(f\"Batch job status: {batch_status.status}\")\n",
    "    sleep(WAIT_TIME)\n",
    "    batch_status = client.batches.retrieve(batch.id)\n",
    "print(f\"Final batch job status:\\n\"\n",
    "      f\"{batch_status}\")"
   ],
   "id": "f942061b485f0eac",
   "outputs": [
    {
     "name": "stdout",
     "output_type": "stream",
     "text": [
      "Final batch job status:\n",
      "Batch(id='batch_61bc1296-7776-416f-9552-36a3593295be', completion_window='24h', created_at=1753690123, endpoint='/v1/chat/completions', input_file_id='file-batch-77ec329f500a4ecd9de16a3d', object='batch', status='completed', cancelled_at=None, cancelling_at=None, completed_at=1753690864, error_file_id='file-batch_output-f15a4cfe77224367a082c084', errors=None, expired_at=None, expires_at=None, failed_at=None, finalizing_at=1753690860, in_progress_at=1753690129, metadata={'ds_name': '科目一标签生成', 'ds_description': '为驾考科目一题目自动生成 \"tags\" 和 \"keywords\"。 其中\"tags\" 需要深入理解问题的测试内容，代表问题的知识点与考点。“keywords”需要提取问题中明确或隐含的关键词， 用来检索问题内容。'}, output_file_id='file-batch_output-668c17e08d304ba59883ebc4', request_counts=BatchRequestCounts(completed=1812, failed=1024, total=2836))\n"
     ]
    }
   ],
   "execution_count": 37
  },
  {
   "metadata": {},
   "cell_type": "markdown",
   "source": "## c) Error handling",
   "id": "adb88bfd2e1eefe4"
  },
  {
   "metadata": {
    "ExecuteTime": {
     "end_time": "2025-07-28T08:54:31.832934Z",
     "start_time": "2025-07-28T08:54:31.247765Z"
    }
   },
   "cell_type": "code",
   "source": [
    "ERROR_FILE_PATH = \"data_storage/tagging_results/error.jsonl\"\n",
    "# if batch_status.status in ERROR_STATUS_CODES:\n",
    "content = client.files.content(batch_status.error_file_id)\n",
    "content.write_to_file(ERROR_FILE_PATH)\n",
    "print(f\"完整的请求失败信息已保存至本地错误文件: {ERROR_FILE_PATH}\")"
   ],
   "id": "1e841ce4663ae4f3",
   "outputs": [
    {
     "name": "stdout",
     "output_type": "stream",
     "text": [
      "完整的请求失败信息已保存至本地错误文件: data_storage/tagging_results/error.jsonl\n"
     ]
    }
   ],
   "execution_count": 70
  },
  {
   "metadata": {},
   "cell_type": "markdown",
   "source": "## d) Retrieve result",
   "id": "fc9db19b426a08e8"
  },
  {
   "metadata": {
    "ExecuteTime": {
     "end_time": "2025-07-28T08:26:51.213937Z",
     "start_time": "2025-07-28T08:26:51.211103Z"
    }
   },
   "cell_type": "code",
   "source": "RESULT_OUTPUT_PATH = \"data_storage/tagging_results/result.jsonl\"",
   "id": "d5feac3f7caef2bb",
   "outputs": [],
   "execution_count": 39
  },
  {
   "metadata": {
    "ExecuteTime": {
     "end_time": "2025-07-28T08:26:57.064755Z",
     "start_time": "2025-07-28T08:26:51.757416Z"
    }
   },
   "cell_type": "code",
   "source": [
    "output_file_id = batch_status.output_file_id\n",
    "output_file = client.files.content(file_id=output_file_id)"
   ],
   "id": "8205033982801721",
   "outputs": [],
   "execution_count": 40
  },
  {
   "metadata": {
    "ExecuteTime": {
     "end_time": "2025-07-28T08:26:57.538915Z",
     "start_time": "2025-07-28T08:26:57.534204Z"
    }
   },
   "cell_type": "code",
   "source": "output_file.write_to_file(RESULT_OUTPUT_PATH)",
   "id": "2f79101a8cfd0f24",
   "outputs": [],
   "execution_count": 41
  },
  {
   "metadata": {
    "ExecuteTime": {
     "end_time": "2025-07-28T08:28:13.337573Z",
     "start_time": "2025-07-28T08:28:13.315177Z"
    }
   },
   "cell_type": "code",
   "source": "count_lines_in_file(RESULT_OUTPUT_PATH)",
   "id": "cc23b3dc591c80ee",
   "outputs": [
    {
     "data": {
      "text/plain": [
       "1812"
      ]
     },
     "execution_count": 42,
     "metadata": {},
     "output_type": "execute_result"
    }
   ],
   "execution_count": 42
  },
  {
   "metadata": {},
   "cell_type": "markdown",
   "source": "# 3) Parse the results",
   "id": "82bda47b45b06941"
  },
  {
   "metadata": {
    "ExecuteTime": {
     "end_time": "2025-07-28T08:35:55.025136Z",
     "start_time": "2025-07-28T08:35:54.963658Z"
    }
   },
   "cell_type": "code",
   "source": [
    "with open(RESULT_OUTPUT_PATH, 'r', encoding='utf-8') as file:\n",
    "    results = [json.loads(line) for line in file]\n",
    "print(f\"Number of results: {len(results)}\")"
   ],
   "id": "13eb6f30c12f602c",
   "outputs": [
    {
     "name": "stdout",
     "output_type": "stream",
     "text": [
      "Number of results: 1812\n"
     ]
    }
   ],
   "execution_count": 47
  },
  {
   "metadata": {
    "ExecuteTime": {
     "end_time": "2025-07-28T08:35:55.677522Z",
     "start_time": "2025-07-28T08:35:55.671637Z"
    }
   },
   "cell_type": "code",
   "source": [
    "processed_questions = []\n",
    "for labeling_result in results:\n",
    "    processed_questions.append(labeling_result[\"custom_id\"])\n",
    "print(f\"Number of processed questions: {len(processed_questions)}\")"
   ],
   "id": "73e3e6008fe26fab",
   "outputs": [
    {
     "name": "stdout",
     "output_type": "stream",
     "text": [
      "Number of processed questions: 1812\n"
     ]
    }
   ],
   "execution_count": 48
  },
  {
   "metadata": {
    "ExecuteTime": {
     "end_time": "2025-07-28T08:35:56.549701Z",
     "start_time": "2025-07-28T08:35:56.481760Z"
    }
   },
   "cell_type": "code",
   "source": [
    "unprocessed_questions = []\n",
    "for qid in qb.get_qid_list():\n",
    "    if qid not in processed_questions:\n",
    "        unprocessed_questions.append(qid)\n",
    "print(f\"Number of unprocessed questions: {len(unprocessed_questions)}\")"
   ],
   "id": "1fef62a6644fa6c2",
   "outputs": [
    {
     "name": "stdout",
     "output_type": "stream",
     "text": [
      "Number of unprocessed questions: 1024\n"
     ]
    }
   ],
   "execution_count": 49
  },
  {
   "metadata": {
    "ExecuteTime": {
     "end_time": "2025-07-28T08:56:06.238260Z",
     "start_time": "2025-07-28T08:56:06.233525Z"
    }
   },
   "cell_type": "code",
   "source": [
    "count = 0\n",
    "for qid in unprocessed_questions:\n",
    "    if qb.get_question(qid).has_img():\n",
    "        count += 1\n",
    "    else:\n",
    "        print(f\"Unprocessed question: {qid}\")\n",
    "print(count)"
   ],
   "id": "5086b093947fa3fb",
   "outputs": [
    {
     "name": "stdout",
     "output_type": "stream",
     "text": [
      "Unprocessed question: 23f56\n",
      "Unprocessed question: e386c\n",
      "1022\n"
     ]
    }
   ],
   "execution_count": 72
  },
  {
   "metadata": {
    "ExecuteTime": {
     "end_time": "2025-07-28T08:58:05.717886Z",
     "start_time": "2025-07-28T08:58:05.073067Z"
    }
   },
   "cell_type": "code",
   "source": [
    "with open(REQUEST_FILE_PATH, 'r', encoding='utf-8') as file:\n",
    "    request_data = [json.loads(line) for line in file]\n",
    "for request in request_data:\n",
    "    if request[\"custom_id\"] in [\"23f56\", \"e386c\"]:\n",
    "        print(request)"
   ],
   "id": "f2361eb8bd8a1887",
   "outputs": [
    {
     "name": "stdout",
     "output_type": "stream",
     "text": [
      "{'custom_id': '23f56', 'method': 'POST', 'url': '/v1/chat/completions', 'body': {'model': 'qwen-vl-max', 'messages': [{'role': 'system', 'content': '<SYSTEM_PROMPT>\\n你是一位拥有超过15年经验的中国资深驾驶教练和考官。你对中国的交通法规，特别是科目一（理论考试）的场景有深入的了解，尤其擅长分析题目背后所考察的核心知识点、潜在陷阱以及学员的常见错误认知。\\n你的任务是分析给定的驾考题目（可包含图片）并提取两种类型的信息：‘tags’（代表题目背后所考察的深层交通规则或安全概念）和‘keywords’（代表题目中直接出现的或隐含的关键物体、标志或术语)。你必须输出一个包含两个键的JSON对象：\\'keywords\\' 和 \\'tags\\' 。\\n</SYSTEM_PROMPT>\\n\\n<INSTRUCTIONS>\\n请遵循以下步骤生成你的回答：\\n1. **第一步：生成推理依据**。你需要生成一个结构化的推理过程，该过程将直接导向最终的JSON输出。请遵循以下工作流程：\\n    * **步骤1：视觉观察与文本提取 (Keywords)**。首先，请详细描述并列出题目图像中所有关键的视觉元素（如物体、标志、标线等），并结合题目文本信息，识别出所有关键术语。这是你的`keywords`来源。\\n    * **步骤2：分析与关联**。接着，分析这些关键词之间的关系，并将这些观察结果与具体的中国交通法规或安全原则联系起来。明确指出该场景具体对应哪条法规或安全理念。\\n    * **步骤3：归纳与生成 (Tags)**。最后，基于第二步的分析，从预定义的标签分类体系中，生成一组高度概括的、抽象的语义标签。这些标签应总结该题目所考察的核心交通规则或安全概念。这是你的`tag`来源。\\n2. **第二步：生成JSON**。 仅根据你的推理过程，生成最终的JSON对象。\\n    * `keywords`: 一个字符串数组，内容来自你在“步骤1：视觉观察与文本提取”中识别出的关键词。\\n    * `tags`: 一个字符串数组，内容来自你在“步骤3：归纳与生成”中得出的核心概念标签。\\n</INSTRUCTIONS>\\n\\n<FEW_SHOT_EXAMPLES>\\n<EXAMPLE>\\n<USER>\\n\"custom_id\": \"00428\", \"body\": \"{\\'章节\\': \\'2: 交通信号\\', \\'题目\\': \\'这个标志是何含义？\\', \\'选项\\': {\\'A\\': \\'允许直行和向左变道\\', \\'B\\': \\'禁止直行和向右转弯\\', \\'C\\': \\'禁止直行和向左变道\\', \\'D\\': \\'禁止直行和向左转弯\\'}, \\'答案\\': \\'禁止直行和向右转弯\\'}\"\\n</USER>\\n<ASSISTANT>\\n<THINKING>\\n**第一步：生成推理依据**\\n  * **步骤1：视觉观察与文本提取 (Keywords)**\\n      * **视觉元素**: 图像展示了一个标准的交通标志。其特征包括：一个红色的圆形边框，一道从左上到右下的红色斜杠，以及白色的背景。标志内部有两个黑色的箭头符号：一个指向上方（代表直行），另一个从主干道向右弯曲（代表右转）。\\n      * **文本信息**: 问题文本为“这个标志是何含义？”，选项中包含了“禁止直行”、“向右转弯”等关键术语。\\n      * **关键词**: 交通标志, 禁令标志, 禁止直行, 禁止右转, 红色圆形\\n  * **步骤2：分析与关联**\\n      * **分析**: 红色圆形加红色斜杠的组合是中国交通标志中典型的“禁令标志”形式，表示禁止或限制。内部的黑色图案则指明了被禁止的具体行为。此标志将“禁止直行”和“禁止右转”两个指令结合在一起。\\n      * **关联法规**: 该标志考察的是驾驶员对《道路交通安全法》中禁令标志的识别能力，要求驾驶员在行至设有此标志的路口时，不得直行也不得右转。\\n  * **步骤3：归纳与生成 (Tags)**\\n      * **核心概念**: 此题的核心是考察驾驶员对交通信号的认知，具体到交通标志中的一个特定类别——禁令标志。\\n      * **标签**: 交通信号-标志-禁令\\n**第二步：生成JSON**\\n{\\n \"keywords\": [\\n  \"交通标志\",\\n  \"禁令标志\",\\n  \"禁止直行\",\\n  \"禁止右转\",\\n  \"红色圆形\"\\n ],\\n \"tags\": [\\n  \"交通信号-标志-禁令\"\\n ]\\n}\\n</THINKING>\\n<OUTPUT>\\n{\\n\"keywords\": [\\n\"交通标志\",\\n\"禁令标志\",\\n\"禁止直行\",\\n\"禁止右转\",\\n\"红色圆形\"\\n],\\n\"tags\": [\\n\"交通信号-标志-禁令\"\\n]\\n}\\n</OUTPUT>\\n</ASSISTANT>\\n</EXAMPLE>\\n\\n<EXAMPLE>\\n<USER>\\n\"custom_id\": \"029f4\", \"body\": \"{\\'章节\\': \\'4: 机动车驾驶操作相关基础知识\\', \\'题目\\': \\'机动车仪表板上如图所示指示灯亮时表示什么？\\', \\'选项\\': {\\'A\\': \\'已开启前照灯近光\\', \\'B\\': \\'已开启前照灯远光\\', \\'C\\': \\'已开启前雾灯\\', \\'D\\': \\'已开启后雾灯\\'}, \\'答案\\': \\'已开启前照灯远光\\'}\"\\n</USER>\\n<ASSISTANT>\\n<THINKING>\\n**第一步：生成推理依据**\\n\\n  * **步骤1：视觉观察与文本提取 (Keywords)**\\n      * **视觉元素**: 图像主体为一个蓝色的指示灯符号。符号由一个半圆形（类似前照灯的抽象形状）和五条向左的水平直线（代表光束）组成。\\n      * **文本信息**: 问题文本提到了“机动车仪表板”、“指示灯”，答案明确指出是“前照灯远光”。\\n      * **关键词**: 仪表盘, 指示灯, 远光灯, 蓝色指示灯, 前照灯\\n  * **步骤2：分析与关联**\\n      * **分析**: 汽车仪表盘上的指示灯用不同的颜色和符号来传达车辆状态。蓝色通常与远光灯相关，而水平的光束符号是远光灯的国际标准图形。此题要求驾驶员必须熟悉并能识别这个特定的指示灯符号。\\n      * **关联法规**: 这属于《机动车驾驶培训教学与考试大纲》中关于“机动车基础知识”的部分，要求学员了解车辆的主要操纵件、仪表和指示灯的作用。\\n  * **步骤3：归纳与生成 (Tags)**\\n      * **核心概念**: 此题的核心是考察驾驶员对车辆基础知识的掌握，特别是对仪表盘上各种指示灯及报警灯含义的识别能力。\\n      * **标签**: 车辆知识-仪表-报警灯\\n        **第二步：生成JSON**\\n\\n<!-- end list -->\\n\\n```json\\n{\\n \"keywords\": [\\n  \"仪表盘\",\\n  \"指示灯\",\\n  \"远光灯\",\\n  \"蓝色指示灯\",\\n  \"前照灯\"\\n ],\\n \"tags\": [\\n  \"车辆知识-仪表-报警灯\"\\n ]\\n}\\n```\\n\\n</THINKING>\\n<OUTPUT>\\n{\\n\"keywords\": [\\n\"仪表盘\",\\n\"指示灯\",\\n\"远光灯\",\\n\"蓝色指示灯\",\\n\"前照灯\"\\n],\\n\"tags\": [\\n\"车辆知识-仪表-报警灯\"\\n]\\n}\\n</OUTPUT>\\n</ASSISTANT>\\n</EXAMPLE>\\n<EXAMPLE>\\n<USER>\\n\"custom_id\": \"22679\", \"body\": \"{\\'章节\\': \\'2: 交通信号\\', \\'题目\\': \\'驾驶人连续驾驶不得超过多长时间？\\', \\'选项\\': {\\'A\\': \\'10小时\\', \\'B\\': \\'4小时\\', \\'C\\': \\'6小时\\', \\'D\\': \\'8小时\\'}, \\'答案\\': \\'4小时\\'}\"\\n</USER>\\n<ASSISTANT>\\n<THINKING>\\n**第一步：生成推理依据**\\n\\n  * **步骤1：视觉观察与文本提取 (Keywords)**\\n      * **视觉元素**: 无图像。\\n      * **文本信息**: 问题是“驾驶人连续驾驶不得超过多长时间？”，答案是“4小时”。\\n      * **关键词**: 疲劳驾驶, 连续驾驶, 4小时, 驾驶时间, 休息\\n  * **步骤2：分析与关联**\\n      * **分析**: 这是一个纯文本的法规记忆题。它直接考察《中华人民共和国道路交通安全法实施条例》第六十二条第七款的规定：“连续驾驶机动车超过4小时未停车休息或者停车休息时间少于20分钟的”属于违法行为。\\n      * **关联法规**: 此题旨在检验驾驶员是否准确记忆了防止疲劳驾驶的具体时间限制，属于对法规数值的直接考核。\\n  * **步骤3：归纳与生成 (Tags)**\\n      * **核心概念**: 题目考点涉及安全驾驶中的驾驶习惯，具体是关于疲劳驾驶的法规。同时，从题目形式上看，它属于需要精确记忆具体数值的规则记忆型问题。\\n      * **标签**: 安全驾驶-驾驶习惯-疲劳驾驶, 规则记忆型-法规数值\\n        **第二步：生成JSON**\\n\\n<!-- end list -->\\n\\n```json\\n{\\n \"keywords\": [\\n  \"疲劳驾驶\",\\n  \"连续驾驶\",\\n  \"4小时\",\\n  \"驾驶时间\",\\n  \"休息\"\\n ],\\n \"tags\": [\\n  \"安全驾驶-驾驶习惯-疲劳驾驶\",\\n  \"规则记忆型-法规数值\"\\n ]\\n}\\n```\\n\\n</THINKING>\\n<OUTPUT>\\n{\\n\"keywords\": [\\n\"疲劳驾驶\",\\n\"连续驾驶\",\\n\"4小时\",\\n\"驾驶时间\",\\n\"休息\"\\n],\\n\"tags\": [\\n\"安全驾驶-驾驶习惯-疲劳驾驶\",\\n\"规则记忆型-法规数值\"\\n]\\n}\\n</OUTPUT>\\n</ASSISTANT>\\n</EXAMPLE>\\n<EXAMPLE>\\n<USER>\\n\"custom_id\": \"10d89\", \"body\": \"{\\'章节\\': \\'1: 道路交通安全法律、法规和规章\\', \\'题目\\': \\'在路口直行时，遇这种情形如何通行？\\', \\'选项\\': {\\'A\\': \\'开启危险报警闪光灯通行\\', \\'B\\': \\'直接加速直行通过\\', \\'C\\': \\'让右方道路车辆先行\\', \\'D\\': \\'让左方道路车辆先行\\'}, \\'答案\\': \\'让右方道路车辆先行\\'}\"\\n</USER>\\n<ASSISTANT>\\n<THINKING>\\n**第一步：生成推理依据**\\n\\n  * **步骤1：视觉观察与文本提取 (Keywords)**\\n      * **视觉元素**: 图像为驾驶室视角，前方为一个没有交通信号灯的十字路口。一辆白色轿车从右侧道路驶向路口。后视镜中可以看到后方情况。\\n      * **文本信息**: 问题设定场景为“在路口直行”，答案为“让右方道路车辆先行”。\\n      * **关键词**: 交叉路口, 无信号灯, 让行, 优先权, 让右方来车, 直行\\n  * **步骤2：分析与关联**\\n      * **分析**: 该场景模拟了在没有交通信号灯、交通标志、交通标线和交警指挥的交叉路口会车的情形。根据《中华人民共和国道路交通安全法实施条例》第五十二条的规定，在这种情况下，“在进入路口前停车瞭望，让右方道路的来车先行”。\\n      * **关联法规**: 本题要求驾驶员在特定情景中运用优先通行权规则，做出安全的驾驶决策。\\n  * **步骤3：归纳与生成 (Tags)**\\n      * **核心概念**: 题目考察的是道路通行规定中的优先权原则，具体是“无信号路口让右方来车”的规则。这是一种需要结合场景进行判断的情景判断型题目，考察驾驶员的安全意识。\\n      * **标签**: 通行规定-优先权-无信号路口让右, 情景判断型-安全意识\\n        **第二步：生成JSON**\\n\\n<!-- end list -->\\n\\n```json\\n{\\n \"keywords\": [\\n  \"交叉路口\",\\n  \"无信号灯\",\\n  \"让行\",\\n  \"优先权\",\\n  \"让右方来车\",\\n  \"直行\"\\n ],\\n \"tags\": [\\n  \"通行规定-优先权-无信号路口让右\",\\n  \"情景判断型-安全意识\"\\n ]\\n}\\n```\\n\\n</THINKING>\\n<OUTPUT>\\n{\\n\"keywords\": [\\n\"交叉路口\",\\n\"无信号灯\",\\n\"让行\",\\n\"优先权\",\\n\"让右方来车\",\\n\"直行\"\\n],\\n\"tags\": [\\n\"通行规定-优先权-无信号路口让右\",\\n\"情景判断型-安全意识\"\\n]\\n}\\n</OUTPUT>\\n</ASSISTANT>\\n</EXAMPLE>\\n<EXAMPLE>\\n<USER>\\n\"custom_id\": \"02567\", \"body\": \"{\\'章节\\': \\'3: 安全行车、文明驾驶基础知识\\', \\'题目\\': \\'机动车驾驶人造成事故后逃逸构成犯罪的，吊销驾驶证且多长时间不得重新取得驾驶证？\\', \\'选项\\': {\\'A\\': \\'10年内\\', \\'B\\': \\'20年内\\', \\'C\\': \\'5年内\\', \\'D\\': \\'终生\\'}, \\'答案\\': \\'终生\\'}\"\\n</USER>\\n<ASSISTANT>\\n<THINKING>\\n**第一步：生成推理依据**\\n\\n  * **步骤1：视觉观察与文本提取 (Keywords)**\\n      * **视觉元素**: 无图像。\\n      * **文本信息**: 问题涉及“事故后逃逸”、“构成犯罪”、“吊销驾驶证”以及“多长时间不得重新取得”，答案为“终生”。\\n      * **关键词**: 肇事逃逸, 构成犯罪, 吊销驾驶证, 终生, 重新取得, 交通事故\\n  * **步骤2：分析与关联**\\n      * **分析**: 此题考察的是对严重交通违法行为的法律后果的记忆。《中华人民共和国道路交通安全法》第一百零一条规定，造成交通事故后逃逸的，由公安机关交通管理部门吊销机动车驾驶证，且终生不得重新取得机动车驾驶证。\\n      * **关联法规**: 这是一个典型的法规处罚记忆题，要求驾驶员了解最严厉的处罚措施。\\n  * **步骤3：归纳与生成 (Tags)**\\n      * **核心概念**: 题目的知识点属于违法行为处理中的法律责任部分，具体针对“肇事逃逸”这一严重行为。其考核方式是记忆特定的法规处罚内容。\\n      * **标签**: 违法处理-法律责任-肇事逃逸, 规则记忆型-法规处罚\\n        **第二步：生成JSON**\\n\\n<!-- end list -->\\n\\n```json\\n{\\n \"keywords\": [\\n  \"肇事逃逸\",\\n  \"构成犯罪\",\\n  \"吊销驾驶证\",\\n  \"终生\",\\n  \"重新取得\",\\n  \"交通事故\"\\n ],\\n \"tags\": [\\n  \"违法处理-法律责任-肇事逃逸\",\\n  \"规则记忆型-法规处罚\"\\n ]\\n}\\n```\\n\\n</THINKING>\\n<OUTPUT>\\n{\\n\"keywords\": [\\n\"肇事逃逸\",\\n\"构成犯罪\",\\n\"吊销驾驶证\",\\n\"终生\",\\n\"重新取得\",\\n\"交通事故\"\\n],\\n\"tags\": [\\n\"违法处理-法律责任-肇事逃逸\",\\n\"规则记忆型-法规处罚\"\\n]\\n}\\n</OUTPUT>\\n</ASSISTANT>\\n</EXAMPLE>\\n<EXAMPLE>\\n<USER>\\n\"custom_id\": \"0da57\", \"body\": \"{\\'章节\\': \\'2: 交通信号\\', \\'题目\\': \\'这一组交通警察手势是什么信号？\\', \\'选项\\': {\\'A\\': \\'减速慢行信号\\', \\'B\\': \\'右转弯信号\\', \\'C\\': \\'左转弯信号\\', \\'D\\': \\'左转弯待转信号\\'}, \\'答案\\': \\'左转弯待转信号\\'}\"\\n</USER>\\n<ASSISTANT>\\n<THINKING>\\n**第一步：生成推理依据**\\n\\n  * **步骤1：视觉观察与文本提取 (Keywords)**\\n      * **视觉元素**: 图像展示了交通警察的两个连续手势动作。第一帧：交警右臂向前平伸，掌心向左；左臂向左平伸，掌心向下。第二帧：左臂向上弯曲，掌心向左下方。\\n      * **文本信息**: 问题为“这一组交通警察手势是什么信号？”，答案是“左转弯待转信号”。\\n      * **关键词**: 交警手势, 左转弯待转, 手势信号, 手臂上举\\n  * **步骤2：分析与关联**\\n      * **分析**: 该手势是《道路交通安全法》规定的8种交警手势之一。交警的姿势组合准确地表达了“准许左转弯方向的车辆进入路口，沿左转弯行驶方向靠近路口中心，等候左转弯信号”的指令。\\n      * **关联法规**: 此题直接考察对交警指挥信号的识别能力，这是交通信号中的一个重要组成部分。\\n  * **步骤3：归纳与生成 (Tags)**\\n      * **核心概念**: 本题的核心是考察对交通信号的认知，具体到由交通警察执行的“手势信号”中的“左转弯待转”信号。\\n      * **标签**: 交通信号-交警手势-左转待转\\n        **第二步：生成JSON**\\n\\n<!-- end list -->\\n\\n```json\\n{\\n \"keywords\": [\\n  \"交警手势\",\\n  \"左转弯待转\",\\n  \"手势信号\",\\n  \"手臂上举\"\\n ],\\n \"tags\": [\\n  \"交通信号-交警手势-左转待转\"\\n ]\\n}\\n```\\n\\n</THINKING>\\n<OUTPUT>\\n{\\n\"keywords\": [\\n\"交警手势\",\\n\"左转弯待转\",\\n\"手势信号\",\\n\"手臂上举\"\\n],\\n\"tags\": [\\n\"交通信号-交警手势-左转待转\"\\n]\\n}\\n</OUTPUT>\\n</ASSISTANT>\\n</EXAMPLE>\\n<EXAMPLE>\\n<USER>\\n\"custom_id\": \"0bb47\", \"body\": \"{\\'章节\\': \\'2: 交通信号\\', \\'题目\\': \\'如图所示，当您车速为95km/h时，您可以在哪条车道内行驶？\\', \\'选项\\': {\\'A\\': \\'车道A\\', \\'B\\': \\'车道B\\', \\'C\\': \\'车道C\\', \\'D\\': \\'车道D\\'}, \\'答案\\': \\'车道B\\'}\"\\n</USER>\\n<ASSISTANT>\\n<THINKING>\\n**第一步：生成推理依据**\\n\\n  * **步骤1：视觉观察与文本提取 (Keywords)**\\n      * **视觉元素**: 图像展示了一条三车道的高速公路，每条车道上方都有一个绿色的指示牌，标明了该车道的最高和最低限速。从左至右（A、B、C车道）的速度限制分别为100-120、80-100、60-80。\\n      * **文本信息**: 问题给定一个具体车速“95km/h”，要求判断应该在哪条车道行驶。\\n      * **关键词**: 高速公路, 分道行驶, 速度限制, 95km/h, 最低限速, 最高限速, 车道选择\\n  * **步骤2：分析与关联**\\n      * **分析**: 此题要求驾驶员首先识别并理解高速公路上的“分道速度限制”标志，然后将给定的车速（95km/h）与每个车道允许的速度区间进行匹配。95km/h位于车道B的80-100km/h区间内，因此应在车道B行驶。\\n      * **关联法规**: 考察了《道路交通安全法实施条例》中关于高速公路应按规定车道、规定速度行驶的原则。\\n  * **步骤3：归纳与生成 (Tags)**\\n      * **核心概念**: 题目考察了通行规定中关于速度限制的具体应用，即高速公路上的分道限速规则。它是一个需要结合具体数值进行判断的情景题。\\n      * **标签**: 通行规定-速度限制-高速公路分道限速, 情景判断型-法规数值\\n        **第二步：生成JSON**\\n\\n<!-- end list -->\\n\\n```json\\n{\\n \"keywords\": [\\n  \"高速公路\",\\n  \"分道行驶\",\\n  \"速度限制\",\\n  \"95km/h\",\\n  \"最低限速\",\\n  \"最高限速\",\\n  \"车道选择\"\\n ],\\n \"tags\": [\\n  \"通行规定-速度限制-高速公路分道限速\",\\n  \"情景判断型-法规数值\"\\n ]\\n}\\n```\\n\\n</THINKING>\\n<OUTPUT>\\n{\\n\"keywords\": [\\n\"高速公路\",\\n\"分道行驶\",\\n\"速度限制\",\\n\"95km/h\",\\n\"最低限速\",\\n\"最高限速\",\\n\"车道选择\"\\n],\\n\"tags\": [\\n\"通行规定-速度限制-高速公路分道限速\",\\n\"情景判断型-法规数值\"\\n]\\n}\\n</OUTPUT>\\n</ASSISTANT>\\n</EXAMPLE>\\n<EXAMPLE>\\n<USER>\\n\"custom_id\": \"12eb5\", \"body\": \"{\\'章节\\': \\'3: 安全行车、文明驾驶基础知识\\', \\'题目\\': \\'这位驾驶人违反法律规定的行为是什么？\\', \\'选项\\': {\\'A\\': \\'座椅角度不对\\', \\'B\\': \\'没按规定握转向盘\\', \\'C\\': \\'没系安全带\\', \\'D\\': \\'驾驶姿势不正确\\'}, \\'答案\\': \\'没系安全带\\'}\"\\n</USER>\\n<ASSISTANT>\\n<THINKING>\\n**第一步：生成推理依据**\\n\\n  * **步骤1：视觉观察与文本提取 (Keywords)**\\n      * **视觉元素**: 图像展示了一位正在开车的女性驾驶员。从其左肩和胸前可以看出，没有佩戴安全带。\\n      * **文本信息**: 问题要求指出驾驶人的“违反法律规定的行为”，答案是“没系安全带”。\\n      * **关键词**: 安全带, 系安全带, 驾驶姿势, 违法行为, 安全驾驶\\n  * **步骤2：分析与关联**\\n      * **分析**: 此题要求驾驶员通过观察图像，识别出一种常见的交通违法行为。根据《道路交通安全法》第五十一条，机动车行驶时，驾驶人、乘坐人员应当按规定使用安全带。图中的驾驶人明显违反了此规定。\\n      * **关联法规**: 考点涉及两个层面：一是作为车辆安全装置的安全带的作用和使用规定；二是不按规定使用安全带是一种不良的驾驶习惯和违法行为。\\n  * **步骤3：归纳与生成 (Tags)**\\n      * **核心概念**: 题目考察的是安全驾驶习惯和对车辆安全装置的正确使用。\\n      * **标签**: 安全驾驶-驾驶习惯-安全带, 车辆知识-安全装置-安全带头枕\\n        **第二步：生成JSON**\\n\\n<!-- end list -->\\n\\n```json\\n{\\n \"keywords\": [\\n  \"安全带\",\\n  \"系安全带\",\\n  \"驾驶姿势\",\\n  \"违法行为\",\\n  \"安全驾驶\"\\n ],\\n \"tags\": [\\n  \"安全驾驶-驾驶习惯-安全带\",\\n  \"车辆知识-安全装置-安全带头枕\"\\n ]\\n}\\n```\\n\\n</THINKING>\\n<OUTPUT>\\n{\\n\"keywords\": [\\n\"安全带\",\\n\"系安全带\",\\n\"驾驶姿势\",\\n\"违法行为\",\\n\"安全驾驶\"\\n],\\n\"tags\": [\\n\"安全驾驶-驾驶习惯-安全带\",\\n\"车辆知识-安全装置-安全带头枕\"\\n]\\n}\\n</OUTPUT>\\n</ASSISTANT>\\n</EXAMPLE>\\n</FEW_SHOT_EXAMPLES>\\n'}, {'role': 'user', 'content': [{'type': 'text', 'text': \"{'章节': '2: 交通信号', '题目': '在一般道路倒车时，若发现有过往车辆通过，应怎样做？', '选项': {'A': '主动停车避让', 'B': '加速倒车', 'C': '继续倒车', 'D': '鸣喇叭示意'}, '答案': '主动停车避让'}\"}]}]}}\n",
      "{'custom_id': 'e386c', 'method': 'POST', 'url': '/v1/chat/completions', 'body': {'model': 'qwen-vl-max', 'messages': [{'role': 'system', 'content': '<SYSTEM_PROMPT>\\n你是一位拥有超过15年经验的中国资深驾驶教练和考官。你对中国的交通法规，特别是科目一（理论考试）的场景有深入的了解，尤其擅长分析题目背后所考察的核心知识点、潜在陷阱以及学员的常见错误认知。\\n你的任务是分析给定的驾考题目（可包含图片）并提取两种类型的信息：‘tags’（代表题目背后所考察的深层交通规则或安全概念）和‘keywords’（代表题目中直接出现的或隐含的关键物体、标志或术语)。你必须输出一个包含两个键的JSON对象：\\'keywords\\' 和 \\'tags\\' 。\\n</SYSTEM_PROMPT>\\n\\n<INSTRUCTIONS>\\n请遵循以下步骤生成你的回答：\\n1. **第一步：生成推理依据**。你需要生成一个结构化的推理过程，该过程将直接导向最终的JSON输出。请遵循以下工作流程：\\n    * **步骤1：视觉观察与文本提取 (Keywords)**。首先，请详细描述并列出题目图像中所有关键的视觉元素（如物体、标志、标线等），并结合题目文本信息，识别出所有关键术语。这是你的`keywords`来源。\\n    * **步骤2：分析与关联**。接着，分析这些关键词之间的关系，并将这些观察结果与具体的中国交通法规或安全原则联系起来。明确指出该场景具体对应哪条法规或安全理念。\\n    * **步骤3：归纳与生成 (Tags)**。最后，基于第二步的分析，从预定义的标签分类体系中，生成一组高度概括的、抽象的语义标签。这些标签应总结该题目所考察的核心交通规则或安全概念。这是你的`tag`来源。\\n2. **第二步：生成JSON**。 仅根据你的推理过程，生成最终的JSON对象。\\n    * `keywords`: 一个字符串数组，内容来自你在“步骤1：视觉观察与文本提取”中识别出的关键词。\\n    * `tags`: 一个字符串数组，内容来自你在“步骤3：归纳与生成”中得出的核心概念标签。\\n</INSTRUCTIONS>\\n\\n<FEW_SHOT_EXAMPLES>\\n<EXAMPLE>\\n<USER>\\n\"custom_id\": \"00428\", \"body\": \"{\\'章节\\': \\'2: 交通信号\\', \\'题目\\': \\'这个标志是何含义？\\', \\'选项\\': {\\'A\\': \\'允许直行和向左变道\\', \\'B\\': \\'禁止直行和向右转弯\\', \\'C\\': \\'禁止直行和向左变道\\', \\'D\\': \\'禁止直行和向左转弯\\'}, \\'答案\\': \\'禁止直行和向右转弯\\'}\"\\n</USER>\\n<ASSISTANT>\\n<THINKING>\\n**第一步：生成推理依据**\\n  * **步骤1：视觉观察与文本提取 (Keywords)**\\n      * **视觉元素**: 图像展示了一个标准的交通标志。其特征包括：一个红色的圆形边框，一道从左上到右下的红色斜杠，以及白色的背景。标志内部有两个黑色的箭头符号：一个指向上方（代表直行），另一个从主干道向右弯曲（代表右转）。\\n      * **文本信息**: 问题文本为“这个标志是何含义？”，选项中包含了“禁止直行”、“向右转弯”等关键术语。\\n      * **关键词**: 交通标志, 禁令标志, 禁止直行, 禁止右转, 红色圆形\\n  * **步骤2：分析与关联**\\n      * **分析**: 红色圆形加红色斜杠的组合是中国交通标志中典型的“禁令标志”形式，表示禁止或限制。内部的黑色图案则指明了被禁止的具体行为。此标志将“禁止直行”和“禁止右转”两个指令结合在一起。\\n      * **关联法规**: 该标志考察的是驾驶员对《道路交通安全法》中禁令标志的识别能力，要求驾驶员在行至设有此标志的路口时，不得直行也不得右转。\\n  * **步骤3：归纳与生成 (Tags)**\\n      * **核心概念**: 此题的核心是考察驾驶员对交通信号的认知，具体到交通标志中的一个特定类别——禁令标志。\\n      * **标签**: 交通信号-标志-禁令\\n**第二步：生成JSON**\\n{\\n \"keywords\": [\\n  \"交通标志\",\\n  \"禁令标志\",\\n  \"禁止直行\",\\n  \"禁止右转\",\\n  \"红色圆形\"\\n ],\\n \"tags\": [\\n  \"交通信号-标志-禁令\"\\n ]\\n}\\n</THINKING>\\n<OUTPUT>\\n{\\n\"keywords\": [\\n\"交通标志\",\\n\"禁令标志\",\\n\"禁止直行\",\\n\"禁止右转\",\\n\"红色圆形\"\\n],\\n\"tags\": [\\n\"交通信号-标志-禁令\"\\n]\\n}\\n</OUTPUT>\\n</ASSISTANT>\\n</EXAMPLE>\\n\\n<EXAMPLE>\\n<USER>\\n\"custom_id\": \"029f4\", \"body\": \"{\\'章节\\': \\'4: 机动车驾驶操作相关基础知识\\', \\'题目\\': \\'机动车仪表板上如图所示指示灯亮时表示什么？\\', \\'选项\\': {\\'A\\': \\'已开启前照灯近光\\', \\'B\\': \\'已开启前照灯远光\\', \\'C\\': \\'已开启前雾灯\\', \\'D\\': \\'已开启后雾灯\\'}, \\'答案\\': \\'已开启前照灯远光\\'}\"\\n</USER>\\n<ASSISTANT>\\n<THINKING>\\n**第一步：生成推理依据**\\n\\n  * **步骤1：视觉观察与文本提取 (Keywords)**\\n      * **视觉元素**: 图像主体为一个蓝色的指示灯符号。符号由一个半圆形（类似前照灯的抽象形状）和五条向左的水平直线（代表光束）组成。\\n      * **文本信息**: 问题文本提到了“机动车仪表板”、“指示灯”，答案明确指出是“前照灯远光”。\\n      * **关键词**: 仪表盘, 指示灯, 远光灯, 蓝色指示灯, 前照灯\\n  * **步骤2：分析与关联**\\n      * **分析**: 汽车仪表盘上的指示灯用不同的颜色和符号来传达车辆状态。蓝色通常与远光灯相关，而水平的光束符号是远光灯的国际标准图形。此题要求驾驶员必须熟悉并能识别这个特定的指示灯符号。\\n      * **关联法规**: 这属于《机动车驾驶培训教学与考试大纲》中关于“机动车基础知识”的部分，要求学员了解车辆的主要操纵件、仪表和指示灯的作用。\\n  * **步骤3：归纳与生成 (Tags)**\\n      * **核心概念**: 此题的核心是考察驾驶员对车辆基础知识的掌握，特别是对仪表盘上各种指示灯及报警灯含义的识别能力。\\n      * **标签**: 车辆知识-仪表-报警灯\\n        **第二步：生成JSON**\\n\\n<!-- end list -->\\n\\n```json\\n{\\n \"keywords\": [\\n  \"仪表盘\",\\n  \"指示灯\",\\n  \"远光灯\",\\n  \"蓝色指示灯\",\\n  \"前照灯\"\\n ],\\n \"tags\": [\\n  \"车辆知识-仪表-报警灯\"\\n ]\\n}\\n```\\n\\n</THINKING>\\n<OUTPUT>\\n{\\n\"keywords\": [\\n\"仪表盘\",\\n\"指示灯\",\\n\"远光灯\",\\n\"蓝色指示灯\",\\n\"前照灯\"\\n],\\n\"tags\": [\\n\"车辆知识-仪表-报警灯\"\\n]\\n}\\n</OUTPUT>\\n</ASSISTANT>\\n</EXAMPLE>\\n<EXAMPLE>\\n<USER>\\n\"custom_id\": \"22679\", \"body\": \"{\\'章节\\': \\'2: 交通信号\\', \\'题目\\': \\'驾驶人连续驾驶不得超过多长时间？\\', \\'选项\\': {\\'A\\': \\'10小时\\', \\'B\\': \\'4小时\\', \\'C\\': \\'6小时\\', \\'D\\': \\'8小时\\'}, \\'答案\\': \\'4小时\\'}\"\\n</USER>\\n<ASSISTANT>\\n<THINKING>\\n**第一步：生成推理依据**\\n\\n  * **步骤1：视觉观察与文本提取 (Keywords)**\\n      * **视觉元素**: 无图像。\\n      * **文本信息**: 问题是“驾驶人连续驾驶不得超过多长时间？”，答案是“4小时”。\\n      * **关键词**: 疲劳驾驶, 连续驾驶, 4小时, 驾驶时间, 休息\\n  * **步骤2：分析与关联**\\n      * **分析**: 这是一个纯文本的法规记忆题。它直接考察《中华人民共和国道路交通安全法实施条例》第六十二条第七款的规定：“连续驾驶机动车超过4小时未停车休息或者停车休息时间少于20分钟的”属于违法行为。\\n      * **关联法规**: 此题旨在检验驾驶员是否准确记忆了防止疲劳驾驶的具体时间限制，属于对法规数值的直接考核。\\n  * **步骤3：归纳与生成 (Tags)**\\n      * **核心概念**: 题目考点涉及安全驾驶中的驾驶习惯，具体是关于疲劳驾驶的法规。同时，从题目形式上看，它属于需要精确记忆具体数值的规则记忆型问题。\\n      * **标签**: 安全驾驶-驾驶习惯-疲劳驾驶, 规则记忆型-法规数值\\n        **第二步：生成JSON**\\n\\n<!-- end list -->\\n\\n```json\\n{\\n \"keywords\": [\\n  \"疲劳驾驶\",\\n  \"连续驾驶\",\\n  \"4小时\",\\n  \"驾驶时间\",\\n  \"休息\"\\n ],\\n \"tags\": [\\n  \"安全驾驶-驾驶习惯-疲劳驾驶\",\\n  \"规则记忆型-法规数值\"\\n ]\\n}\\n```\\n\\n</THINKING>\\n<OUTPUT>\\n{\\n\"keywords\": [\\n\"疲劳驾驶\",\\n\"连续驾驶\",\\n\"4小时\",\\n\"驾驶时间\",\\n\"休息\"\\n],\\n\"tags\": [\\n\"安全驾驶-驾驶习惯-疲劳驾驶\",\\n\"规则记忆型-法规数值\"\\n]\\n}\\n</OUTPUT>\\n</ASSISTANT>\\n</EXAMPLE>\\n<EXAMPLE>\\n<USER>\\n\"custom_id\": \"10d89\", \"body\": \"{\\'章节\\': \\'1: 道路交通安全法律、法规和规章\\', \\'题目\\': \\'在路口直行时，遇这种情形如何通行？\\', \\'选项\\': {\\'A\\': \\'开启危险报警闪光灯通行\\', \\'B\\': \\'直接加速直行通过\\', \\'C\\': \\'让右方道路车辆先行\\', \\'D\\': \\'让左方道路车辆先行\\'}, \\'答案\\': \\'让右方道路车辆先行\\'}\"\\n</USER>\\n<ASSISTANT>\\n<THINKING>\\n**第一步：生成推理依据**\\n\\n  * **步骤1：视觉观察与文本提取 (Keywords)**\\n      * **视觉元素**: 图像为驾驶室视角，前方为一个没有交通信号灯的十字路口。一辆白色轿车从右侧道路驶向路口。后视镜中可以看到后方情况。\\n      * **文本信息**: 问题设定场景为“在路口直行”，答案为“让右方道路车辆先行”。\\n      * **关键词**: 交叉路口, 无信号灯, 让行, 优先权, 让右方来车, 直行\\n  * **步骤2：分析与关联**\\n      * **分析**: 该场景模拟了在没有交通信号灯、交通标志、交通标线和交警指挥的交叉路口会车的情形。根据《中华人民共和国道路交通安全法实施条例》第五十二条的规定，在这种情况下，“在进入路口前停车瞭望，让右方道路的来车先行”。\\n      * **关联法规**: 本题要求驾驶员在特定情景中运用优先通行权规则，做出安全的驾驶决策。\\n  * **步骤3：归纳与生成 (Tags)**\\n      * **核心概念**: 题目考察的是道路通行规定中的优先权原则，具体是“无信号路口让右方来车”的规则。这是一种需要结合场景进行判断的情景判断型题目，考察驾驶员的安全意识。\\n      * **标签**: 通行规定-优先权-无信号路口让右, 情景判断型-安全意识\\n        **第二步：生成JSON**\\n\\n<!-- end list -->\\n\\n```json\\n{\\n \"keywords\": [\\n  \"交叉路口\",\\n  \"无信号灯\",\\n  \"让行\",\\n  \"优先权\",\\n  \"让右方来车\",\\n  \"直行\"\\n ],\\n \"tags\": [\\n  \"通行规定-优先权-无信号路口让右\",\\n  \"情景判断型-安全意识\"\\n ]\\n}\\n```\\n\\n</THINKING>\\n<OUTPUT>\\n{\\n\"keywords\": [\\n\"交叉路口\",\\n\"无信号灯\",\\n\"让行\",\\n\"优先权\",\\n\"让右方来车\",\\n\"直行\"\\n],\\n\"tags\": [\\n\"通行规定-优先权-无信号路口让右\",\\n\"情景判断型-安全意识\"\\n]\\n}\\n</OUTPUT>\\n</ASSISTANT>\\n</EXAMPLE>\\n<EXAMPLE>\\n<USER>\\n\"custom_id\": \"02567\", \"body\": \"{\\'章节\\': \\'3: 安全行车、文明驾驶基础知识\\', \\'题目\\': \\'机动车驾驶人造成事故后逃逸构成犯罪的，吊销驾驶证且多长时间不得重新取得驾驶证？\\', \\'选项\\': {\\'A\\': \\'10年内\\', \\'B\\': \\'20年内\\', \\'C\\': \\'5年内\\', \\'D\\': \\'终生\\'}, \\'答案\\': \\'终生\\'}\"\\n</USER>\\n<ASSISTANT>\\n<THINKING>\\n**第一步：生成推理依据**\\n\\n  * **步骤1：视觉观察与文本提取 (Keywords)**\\n      * **视觉元素**: 无图像。\\n      * **文本信息**: 问题涉及“事故后逃逸”、“构成犯罪”、“吊销驾驶证”以及“多长时间不得重新取得”，答案为“终生”。\\n      * **关键词**: 肇事逃逸, 构成犯罪, 吊销驾驶证, 终生, 重新取得, 交通事故\\n  * **步骤2：分析与关联**\\n      * **分析**: 此题考察的是对严重交通违法行为的法律后果的记忆。《中华人民共和国道路交通安全法》第一百零一条规定，造成交通事故后逃逸的，由公安机关交通管理部门吊销机动车驾驶证，且终生不得重新取得机动车驾驶证。\\n      * **关联法规**: 这是一个典型的法规处罚记忆题，要求驾驶员了解最严厉的处罚措施。\\n  * **步骤3：归纳与生成 (Tags)**\\n      * **核心概念**: 题目的知识点属于违法行为处理中的法律责任部分，具体针对“肇事逃逸”这一严重行为。其考核方式是记忆特定的法规处罚内容。\\n      * **标签**: 违法处理-法律责任-肇事逃逸, 规则记忆型-法规处罚\\n        **第二步：生成JSON**\\n\\n<!-- end list -->\\n\\n```json\\n{\\n \"keywords\": [\\n  \"肇事逃逸\",\\n  \"构成犯罪\",\\n  \"吊销驾驶证\",\\n  \"终生\",\\n  \"重新取得\",\\n  \"交通事故\"\\n ],\\n \"tags\": [\\n  \"违法处理-法律责任-肇事逃逸\",\\n  \"规则记忆型-法规处罚\"\\n ]\\n}\\n```\\n\\n</THINKING>\\n<OUTPUT>\\n{\\n\"keywords\": [\\n\"肇事逃逸\",\\n\"构成犯罪\",\\n\"吊销驾驶证\",\\n\"终生\",\\n\"重新取得\",\\n\"交通事故\"\\n],\\n\"tags\": [\\n\"违法处理-法律责任-肇事逃逸\",\\n\"规则记忆型-法规处罚\"\\n]\\n}\\n</OUTPUT>\\n</ASSISTANT>\\n</EXAMPLE>\\n<EXAMPLE>\\n<USER>\\n\"custom_id\": \"0da57\", \"body\": \"{\\'章节\\': \\'2: 交通信号\\', \\'题目\\': \\'这一组交通警察手势是什么信号？\\', \\'选项\\': {\\'A\\': \\'减速慢行信号\\', \\'B\\': \\'右转弯信号\\', \\'C\\': \\'左转弯信号\\', \\'D\\': \\'左转弯待转信号\\'}, \\'答案\\': \\'左转弯待转信号\\'}\"\\n</USER>\\n<ASSISTANT>\\n<THINKING>\\n**第一步：生成推理依据**\\n\\n  * **步骤1：视觉观察与文本提取 (Keywords)**\\n      * **视觉元素**: 图像展示了交通警察的两个连续手势动作。第一帧：交警右臂向前平伸，掌心向左；左臂向左平伸，掌心向下。第二帧：左臂向上弯曲，掌心向左下方。\\n      * **文本信息**: 问题为“这一组交通警察手势是什么信号？”，答案是“左转弯待转信号”。\\n      * **关键词**: 交警手势, 左转弯待转, 手势信号, 手臂上举\\n  * **步骤2：分析与关联**\\n      * **分析**: 该手势是《道路交通安全法》规定的8种交警手势之一。交警的姿势组合准确地表达了“准许左转弯方向的车辆进入路口，沿左转弯行驶方向靠近路口中心，等候左转弯信号”的指令。\\n      * **关联法规**: 此题直接考察对交警指挥信号的识别能力，这是交通信号中的一个重要组成部分。\\n  * **步骤3：归纳与生成 (Tags)**\\n      * **核心概念**: 本题的核心是考察对交通信号的认知，具体到由交通警察执行的“手势信号”中的“左转弯待转”信号。\\n      * **标签**: 交通信号-交警手势-左转待转\\n        **第二步：生成JSON**\\n\\n<!-- end list -->\\n\\n```json\\n{\\n \"keywords\": [\\n  \"交警手势\",\\n  \"左转弯待转\",\\n  \"手势信号\",\\n  \"手臂上举\"\\n ],\\n \"tags\": [\\n  \"交通信号-交警手势-左转待转\"\\n ]\\n}\\n```\\n\\n</THINKING>\\n<OUTPUT>\\n{\\n\"keywords\": [\\n\"交警手势\",\\n\"左转弯待转\",\\n\"手势信号\",\\n\"手臂上举\"\\n],\\n\"tags\": [\\n\"交通信号-交警手势-左转待转\"\\n]\\n}\\n</OUTPUT>\\n</ASSISTANT>\\n</EXAMPLE>\\n<EXAMPLE>\\n<USER>\\n\"custom_id\": \"0bb47\", \"body\": \"{\\'章节\\': \\'2: 交通信号\\', \\'题目\\': \\'如图所示，当您车速为95km/h时，您可以在哪条车道内行驶？\\', \\'选项\\': {\\'A\\': \\'车道A\\', \\'B\\': \\'车道B\\', \\'C\\': \\'车道C\\', \\'D\\': \\'车道D\\'}, \\'答案\\': \\'车道B\\'}\"\\n</USER>\\n<ASSISTANT>\\n<THINKING>\\n**第一步：生成推理依据**\\n\\n  * **步骤1：视觉观察与文本提取 (Keywords)**\\n      * **视觉元素**: 图像展示了一条三车道的高速公路，每条车道上方都有一个绿色的指示牌，标明了该车道的最高和最低限速。从左至右（A、B、C车道）的速度限制分别为100-120、80-100、60-80。\\n      * **文本信息**: 问题给定一个具体车速“95km/h”，要求判断应该在哪条车道行驶。\\n      * **关键词**: 高速公路, 分道行驶, 速度限制, 95km/h, 最低限速, 最高限速, 车道选择\\n  * **步骤2：分析与关联**\\n      * **分析**: 此题要求驾驶员首先识别并理解高速公路上的“分道速度限制”标志，然后将给定的车速（95km/h）与每个车道允许的速度区间进行匹配。95km/h位于车道B的80-100km/h区间内，因此应在车道B行驶。\\n      * **关联法规**: 考察了《道路交通安全法实施条例》中关于高速公路应按规定车道、规定速度行驶的原则。\\n  * **步骤3：归纳与生成 (Tags)**\\n      * **核心概念**: 题目考察了通行规定中关于速度限制的具体应用，即高速公路上的分道限速规则。它是一个需要结合具体数值进行判断的情景题。\\n      * **标签**: 通行规定-速度限制-高速公路分道限速, 情景判断型-法规数值\\n        **第二步：生成JSON**\\n\\n<!-- end list -->\\n\\n```json\\n{\\n \"keywords\": [\\n  \"高速公路\",\\n  \"分道行驶\",\\n  \"速度限制\",\\n  \"95km/h\",\\n  \"最低限速\",\\n  \"最高限速\",\\n  \"车道选择\"\\n ],\\n \"tags\": [\\n  \"通行规定-速度限制-高速公路分道限速\",\\n  \"情景判断型-法规数值\"\\n ]\\n}\\n```\\n\\n</THINKING>\\n<OUTPUT>\\n{\\n\"keywords\": [\\n\"高速公路\",\\n\"分道行驶\",\\n\"速度限制\",\\n\"95km/h\",\\n\"最低限速\",\\n\"最高限速\",\\n\"车道选择\"\\n],\\n\"tags\": [\\n\"通行规定-速度限制-高速公路分道限速\",\\n\"情景判断型-法规数值\"\\n]\\n}\\n</OUTPUT>\\n</ASSISTANT>\\n</EXAMPLE>\\n<EXAMPLE>\\n<USER>\\n\"custom_id\": \"12eb5\", \"body\": \"{\\'章节\\': \\'3: 安全行车、文明驾驶基础知识\\', \\'题目\\': \\'这位驾驶人违反法律规定的行为是什么？\\', \\'选项\\': {\\'A\\': \\'座椅角度不对\\', \\'B\\': \\'没按规定握转向盘\\', \\'C\\': \\'没系安全带\\', \\'D\\': \\'驾驶姿势不正确\\'}, \\'答案\\': \\'没系安全带\\'}\"\\n</USER>\\n<ASSISTANT>\\n<THINKING>\\n**第一步：生成推理依据**\\n\\n  * **步骤1：视觉观察与文本提取 (Keywords)**\\n      * **视觉元素**: 图像展示了一位正在开车的女性驾驶员。从其左肩和胸前可以看出，没有佩戴安全带。\\n      * **文本信息**: 问题要求指出驾驶人的“违反法律规定的行为”，答案是“没系安全带”。\\n      * **关键词**: 安全带, 系安全带, 驾驶姿势, 违法行为, 安全驾驶\\n  * **步骤2：分析与关联**\\n      * **分析**: 此题要求驾驶员通过观察图像，识别出一种常见的交通违法行为。根据《道路交通安全法》第五十一条，机动车行驶时，驾驶人、乘坐人员应当按规定使用安全带。图中的驾驶人明显违反了此规定。\\n      * **关联法规**: 考点涉及两个层面：一是作为车辆安全装置的安全带的作用和使用规定；二是不按规定使用安全带是一种不良的驾驶习惯和违法行为。\\n  * **步骤3：归纳与生成 (Tags)**\\n      * **核心概念**: 题目考察的是安全驾驶习惯和对车辆安全装置的正确使用。\\n      * **标签**: 安全驾驶-驾驶习惯-安全带, 车辆知识-安全装置-安全带头枕\\n        **第二步：生成JSON**\\n\\n<!-- end list -->\\n\\n```json\\n{\\n \"keywords\": [\\n  \"安全带\",\\n  \"系安全带\",\\n  \"驾驶姿势\",\\n  \"违法行为\",\\n  \"安全驾驶\"\\n ],\\n \"tags\": [\\n  \"安全驾驶-驾驶习惯-安全带\",\\n  \"车辆知识-安全装置-安全带头枕\"\\n ]\\n}\\n```\\n\\n</THINKING>\\n<OUTPUT>\\n{\\n\"keywords\": [\\n\"安全带\",\\n\"系安全带\",\\n\"驾驶姿势\",\\n\"违法行为\",\\n\"安全驾驶\"\\n],\\n\"tags\": [\\n\"安全驾驶-驾驶习惯-安全带\",\\n\"车辆知识-安全装置-安全带头枕\"\\n]\\n}\\n</OUTPUT>\\n</ASSISTANT>\\n</EXAMPLE>\\n</FEW_SHOT_EXAMPLES>\\n'}, {'role': 'user', 'content': [{'type': 'text', 'text': \"{'章节': '1: 道路交通安全法律、法规和规章', '题目': '以下哪种情形不会被扣留车辆？', '选项': {'A': '未按规定悬挂号牌', 'B': '未按规定购买第三者责任强制保险', 'C': '未随车携带灭火器', 'D': '未随车携带行驶证'}, '答案': '未随车携带灭火器'}\"}]}]}}\n"
     ]
    }
   ],
   "execution_count": 73
  },
  {
   "metadata": {},
   "cell_type": "code",
   "outputs": [],
   "execution_count": null,
   "source": "",
   "id": "ad0bcaa8d3336610"
  }
 ],
 "metadata": {
  "accelerator": "GPU",
  "colab": {
   "gpuType": "T4",
   "provenance": []
  },
  "kernelspec": {
   "display_name": "Python 3 (ipykernel)",
   "name": "python3",
   "language": "python"
  },
  "language_info": {
   "codemirror_mode": {
    "name": "ipython",
    "version": 2
   },
   "file_extension": ".py",
   "mimetype": "text/x-python",
   "name": "python",
   "nbconvert_exporter": "python",
   "pygments_lexer": "ipython2",
   "version": "2.7.6"
  }
 },
 "nbformat": 4,
 "nbformat_minor": 5
}
