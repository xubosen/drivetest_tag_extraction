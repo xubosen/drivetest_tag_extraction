{
 "cells": [
  {
   "cell_type": "markdown",
   "id": "a6338108438402fb",
   "metadata": {
    "id": "a6338108438402fb"
   },
   "source": [
    "# Driving Exam Auto Tagging\n",
    "Direct tagging with a VLM"
   ]
  },
  {
   "cell_type": "markdown",
   "id": "cb858b7a257f6624",
   "metadata": {
    "id": "cb858b7a257f6624"
   },
   "source": "## A. Format Question Data"
  },
  {
   "metadata": {},
   "cell_type": "markdown",
   "source": "## 0. Set up the environment",
   "id": "5068201e98d4584d"
  },
  {
   "metadata": {},
   "cell_type": "markdown",
   "source": "Set the source path to the root of the project",
   "id": "9897d967179f469b"
  },
  {
   "metadata": {
    "ExecuteTime": {
     "end_time": "2025-07-30T06:34:02.298973Z",
     "start_time": "2025-07-30T06:34:02.293265Z"
    }
   },
   "cell_type": "code",
   "source": [
    "import json\n",
    "import os"
   ],
   "id": "3940e3207f02c046",
   "outputs": [],
   "execution_count": 1
  },
  {
   "metadata": {
    "ExecuteTime": {
     "end_time": "2025-07-30T06:34:02.317510Z",
     "start_time": "2025-07-30T06:34:02.314739Z"
    }
   },
   "cell_type": "code",
   "source": [
    "SRC_PATH = \"/Users/simonxu/Files/Projects/Drivetest_App/2_NLP Tag Creation/drivetest_tag_extraction/src\"\n",
    "os.chdir(SRC_PATH)"
   ],
   "id": "4e03e57a7fe73c11",
   "outputs": [],
   "execution_count": 2
  },
  {
   "metadata": {
    "id": "8dc1f3b0517888f1"
   },
   "cell_type": "markdown",
   "source": "### 1. Set up the question bank",
   "id": "8dc1f3b0517888f1"
  },
  {
   "metadata": {
    "collapsed": true,
    "id": "initial_id",
    "executionInfo": {
     "status": "ok",
     "timestamp": 1752986917275,
     "user_tz": -480,
     "elapsed": 4260,
     "user": {
      "displayName": "Simon Xu",
      "userId": "12024836940530881699"
     }
    },
    "ExecuteTime": {
     "end_time": "2025-07-30T06:34:02.651290Z",
     "start_time": "2025-07-30T06:34:02.325552Z"
    }
   },
   "cell_type": "code",
   "source": [
    "from entities.question_bank import QuestionBank\n",
    "from data_access.local_json_db import LocalJsonDB\n",
    "from data_formatting.data_formatter import DataFormatter, DataFormat"
   ],
   "id": "initial_id",
   "outputs": [],
   "execution_count": 3
  },
  {
   "metadata": {},
   "cell_type": "markdown",
   "source": "### i) Load the question bank",
   "id": "274014d947d856a1"
  },
  {
   "metadata": {
    "ExecuteTime": {
     "end_time": "2025-07-30T06:34:02.844341Z",
     "start_time": "2025-07-30T06:34:02.839997Z"
    }
   },
   "cell_type": "code",
   "source": [
    "RAW_DATA_FILE = \"data_storage/raw_database/data.json\"\n",
    "RAW_IMG_DIR = \"data_storage/raw_database/images\"\n",
    "\n",
    "def load_data() -> QuestionBank:\n",
    "    \"\"\" Load the question bank from the formatted data directory \"\"\"\n",
    "    raw_db = LocalJsonDB(RAW_DATA_FILE, RAW_IMG_DIR)\n",
    "    return raw_db.load()"
   ],
   "id": "cc1550375c825244",
   "outputs": [],
   "execution_count": 4
  },
  {
   "metadata": {
    "ExecuteTime": {
     "end_time": "2025-07-30T06:34:03.127084Z",
     "start_time": "2025-07-30T06:34:02.862951Z"
    }
   },
   "cell_type": "code",
   "source": [
    "raw_qb = load_data()\n",
    "print(raw_qb.question_count())"
   ],
   "id": "a9e1c1b28036f45d",
   "outputs": [
    {
     "name": "stdout",
     "output_type": "stream",
     "text": [
      "2836\n"
     ]
    }
   ],
   "execution_count": 5
  },
  {
   "metadata": {},
   "cell_type": "markdown",
   "source": "### ii) Preprocessing",
   "id": "968320141e520ed0"
  },
  {
   "metadata": {},
   "cell_type": "markdown",
   "source": "Images are reshaped to a standard size and format.",
   "id": "c0a8b208a6b56c10"
  },
  {
   "cell_type": "code",
   "id": "d7b4c2c6cecad391",
   "metadata": {
    "colab": {
     "base_uri": "https://localhost:8080/"
    },
    "id": "d7b4c2c6cecad391",
    "executionInfo": {
     "status": "ok",
     "timestamp": 1752986917907,
     "user_tz": -480,
     "elapsed": 629,
     "user": {
      "displayName": "Simon Xu",
      "userId": "12024836940530881699"
     }
    },
    "outputId": "762208ff-b24a-492f-f95b-0975341913d7",
    "ExecuteTime": {
     "end_time": "2025-07-30T06:34:03.309860Z",
     "start_time": "2025-07-30T06:34:03.304538Z"
    }
   },
   "source": [
    "FORMATTED_IMG_DIR = \"data_storage/formatted_database/images\"\n",
    "def format_data(raw_qb: QuestionBank, data_format: DataFormat) -> QuestionBank:\n",
    "    \"\"\" Load the question bank from the formatted data directory \"\"\"\n",
    "    data_formatter = DataFormatter(data_format=data_format)\n",
    "    new_qb = data_formatter.format_data(question_bank=raw_qb,\n",
    "                                        new_img_dir=FORMATTED_IMG_DIR)\n",
    "    return new_qb"
   ],
   "outputs": [],
   "execution_count": 6
  },
  {
   "metadata": {
    "ExecuteTime": {
     "end_time": "2025-07-30T06:34:22.392298Z",
     "start_time": "2025-07-30T06:34:03.384133Z"
    }
   },
   "cell_type": "code",
   "source": [
    "%%time\n",
    "INPUT_IMG_EXTENSION = \"webp\"\n",
    "OUTPUT_IMG_EXTENSION = \"jpg\"\n",
    "\n",
    "data_format = DataFormat(image_shape=(256, 256),\n",
    "                         input_image_extension=INPUT_IMG_EXTENSION,\n",
    "                         output_image_extension=OUTPUT_IMG_EXTENSION)\n",
    "qb = format_data(raw_qb=raw_qb, data_format=data_format)\n",
    "print(qb.question_count())"
   ],
   "id": "f04037bd80f34c1a",
   "outputs": [
    {
     "name": "stdout",
     "output_type": "stream",
     "text": [
      "2836\n",
      "CPU times: user 15.1 s, sys: 2.23 s, total: 17.3 s\n",
      "Wall time: 19 s\n"
     ]
    }
   ],
   "execution_count": 7
  },
  {
   "metadata": {},
   "cell_type": "markdown",
   "source": "### iii) Save the formatted question bank",
   "id": "3d32f9aaa8162c3d"
  },
  {
   "metadata": {
    "ExecuteTime": {
     "end_time": "2025-07-30T06:34:22.460244Z",
     "start_time": "2025-07-30T06:34:22.457257Z"
    }
   },
   "cell_type": "code",
   "source": [
    "FORMATTED_DB_FILE_PATH = \"data_storage/formatted_database/data.json\"\n",
    "def save_formatted_data(question_bank: QuestionBank) -> None:\n",
    "    \"\"\" Save the question bank to the specified file path \"\"\"\n",
    "    formatted_db = LocalJsonDB(FORMATTED_DB_FILE_PATH, FORMATTED_IMG_DIR)\n",
    "    formatted_db.save(question_bank)"
   ],
   "id": "fae96b58a7bd3d95",
   "outputs": [],
   "execution_count": 8
  },
  {
   "metadata": {
    "ExecuteTime": {
     "end_time": "2025-07-30T06:34:22.629226Z",
     "start_time": "2025-07-30T06:34:22.549631Z"
    }
   },
   "cell_type": "code",
   "source": "save_formatted_data(qb)",
   "id": "3d36b2e92db3ec91",
   "outputs": [],
   "execution_count": 9
  },
  {
   "metadata": {},
   "cell_type": "markdown",
   "source": "## C. Question Bank to Batch Request File",
   "id": "d169bb1447a4367c"
  },
  {
   "metadata": {},
   "cell_type": "markdown",
   "source": "Turn the question bank into a jsonl file that can be used for making batch requests compatible with the OpenAI standard.",
   "id": "f704313b35085a62"
  },
  {
   "metadata": {
    "ExecuteTime": {
     "end_time": "2025-07-30T06:34:22.729089Z",
     "start_time": "2025-07-30T06:34:22.718293Z"
    }
   },
   "cell_type": "code",
   "source": [
    "import datetime\n",
    "import logging\n",
    "from logging import Logger\n",
    "\n",
    "from label_generator.batch_request_factory import BatchRequestFactory"
   ],
   "id": "b2a69a481c405563",
   "outputs": [],
   "execution_count": 10
  },
  {
   "metadata": {
    "ExecuteTime": {
     "end_time": "2025-07-30T06:34:22.836672Z",
     "start_time": "2025-07-30T06:34:22.831761Z"
    }
   },
   "cell_type": "code",
   "source": [
    "def load_prompt() -> str:\n",
    "    \"\"\" Load the prompt from the specified file path. \"\"\"\n",
    "    with open(PROMPT_FILE_PATH, 'r', encoding='utf-8') as file:\n",
    "        prompt = file.read()\n",
    "    return prompt"
   ],
   "id": "bfef7e52ed3cef32",
   "outputs": [],
   "execution_count": 11
  },
  {
   "metadata": {
    "ExecuteTime": {
     "end_time": "2025-07-30T06:34:22.918096Z",
     "start_time": "2025-07-30T06:34:22.910603Z"
    }
   },
   "cell_type": "code",
   "source": [
    "def make_logger(logging_directory: str, verbose: bool=False, debug: bool=False) -> Logger:\n",
    "    \"\"\" Create a logger that logs to the specified directory. \"\"\"\n",
    "    log_filename, timestamp = _make_logger_name(logging_directory)\n",
    "    logger = logging.getLogger(f\"batch_request_{timestamp}\")\n",
    "    if debug:\n",
    "        logger.setLevel(logging.DEBUG)\n",
    "    else:\n",
    "        logger.setLevel(logging.INFO)\n",
    "    _add_handlers(log_filename, logger, verbose, debug)\n",
    "    return logger\n",
    "\n",
    "def _make_logger_name(logging_directory):\n",
    "    timestamp = datetime.datetime.now().strftime(\"%Y%m%d_%H%M\")\n",
    "    log_filename = os.path.join(logging_directory,\n",
    "                                f\"batch_request_{timestamp}.log\")\n",
    "    return log_filename, timestamp\n",
    "\n",
    "def _add_handlers(log_filename, logger, verbose, debug):\n",
    "    for handler in logger.handlers[:]:\n",
    "        logger.removeHandler(handler)\n",
    "    formatter = _add_file_handler(log_filename, logger, debug)\n",
    "    if verbose:\n",
    "        _add_console_handler(formatter, logger)\n",
    "\n",
    "def _add_file_handler(log_filename, logger, debug):\n",
    "    file_handler = logging.FileHandler(log_filename)\n",
    "    if debug:\n",
    "        file_handler.setLevel(logging.DEBUG)\n",
    "    else:\n",
    "        file_handler.setLevel(logging.INFO)\n",
    "    formatter = logging.Formatter(\n",
    "        '%(asctime)s - %(name)s - %(levelname)s - %(message)s')\n",
    "    file_handler.setFormatter(formatter)\n",
    "    logger.addHandler(file_handler)\n",
    "    return formatter\n",
    "\n",
    "def _add_console_handler(formatter, logger):\n",
    "    console_handler = logging.StreamHandler()\n",
    "    console_handler.setLevel(logging.DEBUG)\n",
    "    console_handler.setFormatter(formatter)\n",
    "    logger.addHandler(console_handler)"
   ],
   "id": "904a9efd016927e0",
   "outputs": [],
   "execution_count": 12
  },
  {
   "metadata": {},
   "cell_type": "markdown",
   "source": "Specify model information and request URL.",
   "id": "2fdaf1056faa49f9"
  },
  {
   "metadata": {
    "ExecuteTime": {
     "end_time": "2025-07-30T06:34:22.983924Z",
     "start_time": "2025-07-30T06:34:22.981287Z"
    }
   },
   "cell_type": "code",
   "source": [
    "LOGGING_DIRECTORY = \"my_logs\"\n",
    "PROMPT_FILE_PATH = \"data_storage/prompt_file/prompt.txt\"\n",
    "MODEL_NAME = \"qwen-vl-max\"\n",
    "REQUEST_URL = \"/v1/chat/completions\""
   ],
   "id": "c758dac1af3e355a",
   "outputs": [],
   "execution_count": 13
  },
  {
   "metadata": {
    "ExecuteTime": {
     "end_time": "2025-07-30T06:34:24.337836Z",
     "start_time": "2025-07-30T06:34:23.063571Z"
    }
   },
   "cell_type": "code",
   "source": [
    "%%time\n",
    "batch_maker = BatchRequestFactory(\n",
    "    question_bank=qb,\n",
    "    prompt=load_prompt(),\n",
    "    url=REQUEST_URL,\n",
    "    model_name=MODEL_NAME,\n",
    "    logger=make_logger(LOGGING_DIRECTORY, verbose=False, debug=True))\n",
    "batch_request = batch_maker.make_batch_request()"
   ],
   "id": "3c1cb56df9c670ad",
   "outputs": [
    {
     "name": "stdout",
     "output_type": "stream",
     "text": [
      "CPU times: user 825 ms, sys: 370 ms, total: 1.19 s\n",
      "Wall time: 1.27 s\n"
     ]
    }
   ],
   "execution_count": 14
  },
  {
   "metadata": {
    "ExecuteTime": {
     "end_time": "2025-07-30T06:34:24.847734Z",
     "start_time": "2025-07-30T06:34:24.845045Z"
    }
   },
   "cell_type": "code",
   "source": "REQUEST_FILE_PATH = \"data_storage/batch_request_file/tagging_request.jsonl\"",
   "id": "6edcd326b3ad94c2",
   "outputs": [],
   "execution_count": 15
  },
  {
   "metadata": {
    "ExecuteTime": {
     "end_time": "2025-07-30T06:34:25.326996Z",
     "start_time": "2025-07-30T06:34:25.321629Z"
    }
   },
   "cell_type": "code",
   "source": [
    "def clear_request_file():\n",
    "    with open(REQUEST_FILE_PATH, 'w', encoding='utf-8') as file:\n",
    "        json.dump({}, file)"
   ],
   "id": "5d90376cd0fcb3da",
   "outputs": [],
   "execution_count": 16
  },
  {
   "metadata": {
    "ExecuteTime": {
     "end_time": "2025-07-30T06:34:25.833758Z",
     "start_time": "2025-07-30T06:34:25.828996Z"
    }
   },
   "cell_type": "code",
   "source": [
    "def count_lines_in_file(file_path: str) -> int:\n",
    "    \"\"\" Count the number of lines in a file. \"\"\"\n",
    "    with open(file_path, 'r', encoding='utf-8') as file:\n",
    "        return sum(1 for _ in file)"
   ],
   "id": "3c42b0ce8703d9ad",
   "outputs": [],
   "execution_count": 17
  },
  {
   "metadata": {
    "ExecuteTime": {
     "end_time": "2025-07-30T06:34:26.770429Z",
     "start_time": "2025-07-30T06:34:26.316155Z"
    }
   },
   "cell_type": "code",
   "source": [
    "batch_request.to_jsonl_file(REQUEST_FILE_PATH)\n",
    "print(f\"Number of lines in the request file: {count_lines_in_file(REQUEST_FILE_PATH)}\")"
   ],
   "id": "dc35890e1f69a40",
   "outputs": [
    {
     "name": "stdout",
     "output_type": "stream",
     "text": [
      "Number of lines in the request file: 2836\n"
     ]
    }
   ],
   "execution_count": 18
  },
  {
   "metadata": {},
   "cell_type": "markdown",
   "source": "# 2. Generate the Labels",
   "id": "7740ef07d17ccbb3"
  },
  {
   "cell_type": "code",
   "id": "c220319ab2db660b",
   "metadata": {
    "id": "c220319ab2db660b",
    "colab": {
     "base_uri": "https://localhost:8080/",
     "height": 321
    },
    "executionInfo": {
     "status": "error",
     "timestamp": 1752988250641,
     "user_tz": -480,
     "elapsed": 714,
     "user": {
      "displayName": "Simon Xu",
      "userId": "12024836940530881699"
     }
    },
    "outputId": "1c6cb981-bdb6-49f2-d244-dc2da5d37736",
    "ExecuteTime": {
     "end_time": "2025-07-30T06:34:28.062513Z",
     "start_time": "2025-07-30T06:34:27.295943Z"
    }
   },
   "source": [
    "from pathlib import Path\n",
    "from openai import OpenAI"
   ],
   "outputs": [],
   "execution_count": 19
  },
  {
   "metadata": {
    "ExecuteTime": {
     "end_time": "2025-07-30T06:34:28.783873Z",
     "start_time": "2025-07-30T06:34:28.687057Z"
    }
   },
   "cell_type": "code",
   "source": [
    "client = OpenAI(\n",
    "    api_key=os.getenv(\"DASHSCOPE_API_KEY\"),\n",
    "    base_url=\"https://dashscope.aliyuncs.com/compatible-mode/v1\",\n",
    ")"
   ],
   "id": "3f49965812918efd",
   "outputs": [],
   "execution_count": 20
  },
  {
   "metadata": {},
   "cell_type": "markdown",
   "source": "## a) Upload batch file",
   "id": "46a010dfb098f746"
  },
  {
   "metadata": {
    "ExecuteTime": {
     "end_time": "2025-07-30T02:53:54.483357Z",
     "start_time": "2025-07-30T02:53:22.464673Z"
    }
   },
   "cell_type": "code",
   "source": [
    "%%time\n",
    "file_object = client.files.create(file=Path(REQUEST_FILE_PATH), purpose=\"batch\")"
   ],
   "id": "c1d18bba581bfac",
   "outputs": [
    {
     "name": "stdout",
     "output_type": "stream",
     "text": [
      "CPU times: user 329 ms, sys: 219 ms, total: 548 ms\n",
      "Wall time: 32 s\n"
     ]
    }
   ],
   "execution_count": 21
  },
  {
   "metadata": {
    "ExecuteTime": {
     "end_time": "2025-07-30T02:53:55.091443Z",
     "start_time": "2025-07-30T02:53:55.085692Z"
    }
   },
   "cell_type": "code",
   "source": "print(file_object.model_dump_json())",
   "id": "a31d9905f4f62d01",
   "outputs": [
    {
     "name": "stdout",
     "output_type": "stream",
     "text": [
      "{\"id\":\"file-batch-1e9ecf9f7ee349d29a7dcfe8\",\"bytes\":63841065,\"created_at\":1753844034,\"filename\":\"tagging_request.jsonl\",\"object\":\"file\",\"purpose\":\"batch\",\"status\":\"processed\",\"expires_at\":null,\"status_details\":null}\n"
     ]
    }
   ],
   "execution_count": 22
  },
  {
   "metadata": {},
   "cell_type": "markdown",
   "source": "## b) Create batch job",
   "id": "4a93d44e72638e60"
  },
  {
   "metadata": {
    "ExecuteTime": {
     "end_time": "2025-07-30T02:53:55.811379Z",
     "start_time": "2025-07-30T02:53:55.808884Z"
    }
   },
   "cell_type": "code",
   "source": [
    "REQUEST_METADATA = {'ds_name':\"科目一标签生成\",\n",
    "                    'ds_description':'为驾考科目一题目自动生成 \"tags\" 和 \"keywords\"。 其中\"tags\" 需要深入理解问题的测试内容，代表问题的知识点与考点。“keywords”需要提取问题中明确或隐含的关键词， 用来检索问题内容。'}"
   ],
   "id": "b4253cc09ae548cb",
   "outputs": [],
   "execution_count": 23
  },
  {
   "metadata": {},
   "cell_type": "code",
   "outputs": [],
   "execution_count": null,
   "source": [
    "%%time\n",
    "request_id = file_object.id\n",
    "batch = client.batches.create(\n",
    "    input_file_id=request_id,\n",
    "    endpoint=REQUEST_URL,\n",
    "    completion_window=\"24h\",\n",
    "    metadata=REQUEST_METADATA\n",
    ")\n",
    "print(batch)"
   ],
   "id": "cfa6b607b827be24"
  },
  {
   "metadata": {},
   "cell_type": "markdown",
   "source": "Periodically check the status of the batch job.",
   "id": "d2c5f22f9271d882"
  },
  {
   "metadata": {
    "ExecuteTime": {
     "end_time": "2025-07-30T06:35:48.598986Z",
     "start_time": "2025-07-30T06:35:48.596343Z"
    }
   },
   "cell_type": "code",
   "source": "from time import sleep",
   "id": "1c8d2a8732567cdc",
   "outputs": [],
   "execution_count": 23
  },
  {
   "metadata": {
    "ExecuteTime": {
     "end_time": "2025-07-30T06:35:49.042695Z",
     "start_time": "2025-07-30T06:35:49.039279Z"
    }
   },
   "cell_type": "code",
   "source": [
    "WAIT_TIME = 300 # 5 Minutes\n",
    "IN_PROGRESS_STATUS_CODES = [\"validating\", \"in_progress\", \"finalizing\", \"cancelling\"]\n",
    "ERROR_STATUS_CODES = [\"failed\", \"expired\", \"cancelled\"]"
   ],
   "id": "8ea625750a82bd79",
   "outputs": [],
   "execution_count": 24
  },
  {
   "metadata": {},
   "cell_type": "markdown",
   "source": "It may be easier to just check batch_status on their website",
   "id": "d0a20b3daa43cdca"
  },
  {
   "metadata": {},
   "cell_type": "code",
   "outputs": [],
   "execution_count": null,
   "source": [
    "batch_status = client.batches.retrieve(batch.id)\n",
    "while batch_status.status in IN_PROGRESS_STATUS_CODES:\n",
    "    print(f\"Batch job status: {batch_status.status}\")\n",
    "    sleep(WAIT_TIME)\n",
    "    batch_status = client.batches.retrieve(batch.id)\n",
    "print(f\"Final job status: {batch_status.status}\")"
   ],
   "id": "9cb5daec41cc8cb7"
  },
  {
   "metadata": {},
   "cell_type": "markdown",
   "source": "## c) Error handling",
   "id": "adb88bfd2e1eefe4"
  },
  {
   "metadata": {
    "ExecuteTime": {
     "end_time": "2025-07-30T06:36:25.816033Z",
     "start_time": "2025-07-30T06:36:25.813587Z"
    }
   },
   "cell_type": "code",
   "source": "ERROR_FILE_PATH = \"data_storage/tagging_results/error.jsonl\"",
   "id": "987617baf9304385",
   "outputs": [],
   "execution_count": 26
  },
  {
   "metadata": {},
   "cell_type": "markdown",
   "source": "### i) Clear the error file",
   "id": "c7053988648e7ebc"
  },
  {
   "metadata": {
    "ExecuteTime": {
     "end_time": "2025-07-30T06:36:26.573439Z",
     "start_time": "2025-07-30T06:36:26.569573Z"
    }
   },
   "cell_type": "code",
   "source": [
    "# clear the error file if it exists\n",
    "if os.path.exists(ERROR_FILE_PATH):\n",
    "    with open(ERROR_FILE_PATH, 'w', encoding='utf-8') as file:\n",
    "        file.write(\"\")"
   ],
   "id": "123f5562d6ac52ef",
   "outputs": [],
   "execution_count": 27
  },
  {
   "metadata": {
    "ExecuteTime": {
     "end_time": "2025-07-30T06:36:27.138461Z",
     "start_time": "2025-07-30T06:36:27.135780Z"
    }
   },
   "cell_type": "code",
   "source": "print(batch_status)",
   "id": "4c7578ab6b85fe5",
   "outputs": [
    {
     "name": "stdout",
     "output_type": "stream",
     "text": [
      "Batch(id='batch_97cba504-9d72-4f06-9aa2-bbd9f0e1033c', completion_window='24h', created_at=1753844036, endpoint='/v1/chat/completions', input_file_id='file-batch-1e9ecf9f7ee349d29a7dcfe8', object='batch', status='completed', cancelled_at=None, cancelling_at=None, completed_at=1753851351, error_file_id='file-batch_output-dfe5f30e0f6a4230b1ce5acf', errors=None, expired_at=None, expires_at=None, failed_at=None, finalizing_at=1753851348, in_progress_at=1753844862, metadata={'ds_name': '科目一标签生成', 'ds_description': '为驾考科目一题目自动生成 \"tags\" 和 \"keywords\"。 其中\"tags\" 需要深入理解问题的测试内容，代表问题的知识点与考点。“keywords”需要提取问题中明确或隐含的关键词， 用来检索问题内容。'}, output_file_id='file-batch_output-333af3402f9f43b7a8630039', request_counts=BatchRequestCounts(completed=2835, failed=1, total=2836))\n"
     ]
    }
   ],
   "execution_count": 28
  },
  {
   "metadata": {},
   "cell_type": "markdown",
   "source": "### ii) Save the new errors",
   "id": "3c73d6ef08547c6c"
  },
  {
   "metadata": {
    "ExecuteTime": {
     "end_time": "2025-07-30T06:36:30.725223Z",
     "start_time": "2025-07-30T06:36:29.283797Z"
    }
   },
   "cell_type": "code",
   "source": [
    "if batch_status.error_file_id is not None:\n",
    "    content = client.files.content(batch_status.error_file_id)\n",
    "    content.write_to_file(ERROR_FILE_PATH)\n",
    "    print(f\"完整的请求失败信息已保存至本地错误文件: {ERROR_FILE_PATH}\")"
   ],
   "id": "1e841ce4663ae4f3",
   "outputs": [
    {
     "name": "stdout",
     "output_type": "stream",
     "text": [
      "完整的请求失败信息已保存至本地错误文件: data_storage/tagging_results/error.jsonl\n"
     ]
    }
   ],
   "execution_count": 29
  },
  {
   "metadata": {},
   "cell_type": "markdown",
   "source": "## d) Retrieve result",
   "id": "fc9db19b426a08e8"
  },
  {
   "metadata": {
    "ExecuteTime": {
     "end_time": "2025-07-30T06:36:32.035865Z",
     "start_time": "2025-07-30T06:36:32.033011Z"
    }
   },
   "cell_type": "code",
   "source": "RESULT_OUTPUT_PATH = \"data_storage/tagging_results/result.jsonl\"",
   "id": "d5feac3f7caef2bb",
   "outputs": [],
   "execution_count": 30
  },
  {
   "metadata": {},
   "cell_type": "markdown",
   "source": "### i) Clear the result file",
   "id": "2568c0b780893980"
  },
  {
   "metadata": {
    "ExecuteTime": {
     "end_time": "2025-07-30T06:36:33.182286Z",
     "start_time": "2025-07-30T06:36:33.179082Z"
    }
   },
   "cell_type": "code",
   "source": [
    "if os.path.exists(RESULT_OUTPUT_PATH):\n",
    "    with open(RESULT_OUTPUT_PATH, 'w', encoding='utf-8') as file:\n",
    "        file.write(\"\")"
   ],
   "id": "546f939f2f6f9b71",
   "outputs": [],
   "execution_count": 31
  },
  {
   "metadata": {},
   "cell_type": "markdown",
   "source": "### ii) Save the result file",
   "id": "2ef2a82b4e560b68"
  },
  {
   "metadata": {
    "ExecuteTime": {
     "end_time": "2025-07-30T06:36:38.335588Z",
     "start_time": "2025-07-30T06:36:34.356557Z"
    }
   },
   "cell_type": "code",
   "source": [
    "output_file = client.files.content(file_id=batch_status.output_file_id)\n",
    "output_file.write_to_file(RESULT_OUTPUT_PATH)"
   ],
   "id": "8205033982801721",
   "outputs": [],
   "execution_count": 32
  },
  {
   "metadata": {
    "ExecuteTime": {
     "end_time": "2025-07-30T06:36:38.796557Z",
     "start_time": "2025-07-30T06:36:38.771396Z"
    }
   },
   "cell_type": "code",
   "source": "count_lines_in_file(RESULT_OUTPUT_PATH)",
   "id": "cc23b3dc591c80ee",
   "outputs": [
    {
     "data": {
      "text/plain": [
       "2835"
      ]
     },
     "execution_count": 33,
     "metadata": {},
     "output_type": "execute_result"
    }
   ],
   "execution_count": 33
  },
  {
   "metadata": {},
   "cell_type": "markdown",
   "source": "## e) Archive result",
   "id": "57f018b98c83c5d7"
  },
  {
   "metadata": {
    "ExecuteTime": {
     "end_time": "2025-07-30T06:36:43.042061Z",
     "start_time": "2025-07-30T06:36:43.039002Z"
    }
   },
   "cell_type": "code",
   "source": [
    "RESULT_ARCHIVE_PATH = \"data_storage/tagging_results/result_archive\"\n",
    "ERROR_ARCHIVE_PATH = \"data_storage/tagging_results/error_archive\""
   ],
   "id": "dacb531f5e982255",
   "outputs": [],
   "execution_count": 34
  },
  {
   "metadata": {
    "ExecuteTime": {
     "end_time": "2025-07-30T06:36:43.533302Z",
     "start_time": "2025-07-30T06:36:43.529543Z"
    }
   },
   "cell_type": "code",
   "source": [
    "def get_archive_paths() -> (str, str):\n",
    "    \"\"\" Get the archive path for the result and error files. \"\"\"\n",
    "    os.makedirs(RESULT_ARCHIVE_PATH, exist_ok=True)\n",
    "    os.makedirs(ERROR_ARCHIVE_PATH, exist_ok=True)\n",
    "    timestamp = datetime.datetime.now().strftime(\"%Y%m%d_%H%M\")\n",
    "    archive_path = os.path.join(RESULT_ARCHIVE_PATH, f\"result_{timestamp}.jsonl\")\n",
    "    error_archive_path = os.path.join(ERROR_ARCHIVE_PATH, f\"error_{timestamp}.jsonl\")\n",
    "    return archive_path, error_archive_path"
   ],
   "id": "1ba02d4e4b51331d",
   "outputs": [],
   "execution_count": 35
  },
  {
   "metadata": {
    "ExecuteTime": {
     "end_time": "2025-07-30T06:36:44.000411Z",
     "start_time": "2025-07-30T06:36:43.997255Z"
    }
   },
   "cell_type": "code",
   "source": "import shutil",
   "id": "b3d1d1f10b9308e2",
   "outputs": [],
   "execution_count": 36
  },
  {
   "metadata": {
    "ExecuteTime": {
     "end_time": "2025-07-30T06:36:44.505793Z",
     "start_time": "2025-07-30T06:36:44.502132Z"
    }
   },
   "cell_type": "code",
   "source": [
    "def archive_files():\n",
    "    \"\"\" Archive the result file by copying it to the archive directory. \"\"\"\n",
    "    result_path, error_path = get_archive_paths()\n",
    "    shutil.copy(RESULT_OUTPUT_PATH, result_path)\n",
    "    shutil.copy(ERROR_FILE_PATH, error_path)"
   ],
   "id": "e1fbb85b11b35bf9",
   "outputs": [],
   "execution_count": 37
  },
  {
   "metadata": {
    "ExecuteTime": {
     "end_time": "2025-07-30T06:36:45.022286Z",
     "start_time": "2025-07-30T06:36:45.016811Z"
    }
   },
   "cell_type": "code",
   "source": "archive_files()",
   "id": "244b64d4ac1cab74",
   "outputs": [],
   "execution_count": 38
  },
  {
   "metadata": {},
   "cell_type": "markdown",
   "source": "# 3) Parse the results",
   "id": "82bda47b45b06941"
  },
  {
   "metadata": {},
   "cell_type": "code",
   "outputs": [],
   "execution_count": null,
   "source": "from label_generator.response_parsing_pipeline import ResponseParsingPipeline",
   "id": "ab9d9297d1345ac2"
  }
 ],
 "metadata": {
  "accelerator": "GPU",
  "colab": {
   "gpuType": "T4",
   "provenance": []
  },
  "kernelspec": {
   "display_name": "Python 3 (ipykernel)",
   "name": "python3",
   "language": "python"
  },
  "language_info": {
   "codemirror_mode": {
    "name": "ipython",
    "version": 2
   },
   "file_extension": ".py",
   "mimetype": "text/x-python",
   "name": "python",
   "nbconvert_exporter": "python",
   "pygments_lexer": "ipython2",
   "version": "2.7.6"
  }
 },
 "nbformat": 4,
 "nbformat_minor": 5
}
