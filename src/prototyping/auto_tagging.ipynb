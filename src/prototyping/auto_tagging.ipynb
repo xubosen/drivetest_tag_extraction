{
 "cells": [
  {
   "cell_type": "markdown",
   "id": "a6338108438402fb",
   "metadata": {
    "id": "a6338108438402fb"
   },
   "source": [
    "# Driving Exam Auto Tagging\n",
    "Direct tagging with a VLM"
   ]
  },
  {
   "cell_type": "markdown",
   "id": "cb858b7a257f6624",
   "metadata": {
    "id": "cb858b7a257f6624"
   },
   "source": "## A. Format Question Data"
  },
  {
   "metadata": {},
   "cell_type": "markdown",
   "source": "## 0. Set up the environment",
   "id": "5068201e98d4584d"
  },
  {
   "metadata": {},
   "cell_type": "markdown",
   "source": "Set the source path to the root of the project",
   "id": "9897d967179f469b"
  },
  {
   "metadata": {
    "ExecuteTime": {
     "end_time": "2025-07-24T18:16:17.031577Z",
     "start_time": "2025-07-24T18:16:17.025504Z"
    }
   },
   "cell_type": "code",
   "source": [
    "import json\n",
    "import os"
   ],
   "id": "3940e3207f02c046",
   "outputs": [],
   "execution_count": 1
  },
  {
   "metadata": {
    "ExecuteTime": {
     "end_time": "2025-07-24T18:16:17.128870Z",
     "start_time": "2025-07-24T18:16:17.125668Z"
    }
   },
   "cell_type": "code",
   "source": [
    "SRC_PATH = \"/Users/simonxu/Files/Projects/Drivetest_App/2_NLP Tag Creation/drivetest_tag_extraction/src\"\n",
    "os.chdir(SRC_PATH)"
   ],
   "id": "4e03e57a7fe73c11",
   "outputs": [],
   "execution_count": 2
  },
  {
   "metadata": {
    "id": "8dc1f3b0517888f1"
   },
   "cell_type": "markdown",
   "source": "### 1. Set up the question bank",
   "id": "8dc1f3b0517888f1"
  },
  {
   "metadata": {
    "collapsed": true,
    "id": "initial_id",
    "executionInfo": {
     "status": "ok",
     "timestamp": 1752986917275,
     "user_tz": -480,
     "elapsed": 4260,
     "user": {
      "displayName": "Simon Xu",
      "userId": "12024836940530881699"
     }
    },
    "ExecuteTime": {
     "end_time": "2025-07-24T18:16:17.241620Z",
     "start_time": "2025-07-24T18:16:17.142703Z"
    }
   },
   "cell_type": "code",
   "source": [
    "from entities.question_bank import QuestionBank\n",
    "from data_access.local_json_db import LocalJsonDB\n",
    "from data_formatting.data_formatter import DataFormatter, DataFormat"
   ],
   "id": "initial_id",
   "outputs": [],
   "execution_count": 3
  },
  {
   "metadata": {},
   "cell_type": "markdown",
   "source": "### i) Load the question bank",
   "id": "274014d947d856a1"
  },
  {
   "metadata": {
    "ExecuteTime": {
     "end_time": "2025-07-24T18:16:17.254738Z",
     "start_time": "2025-07-24T18:16:17.251852Z"
    }
   },
   "cell_type": "code",
   "source": [
    "RAW_DATA_FILE = \"data_storage/raw_database/data.json\"\n",
    "RAW_IMG_DIR = \"data_storage/raw_database/images\"\n",
    "\n",
    "def load_data() -> QuestionBank:\n",
    "    \"\"\" Load the question bank from the formatted data directory \"\"\"\n",
    "    raw_db = LocalJsonDB(RAW_DATA_FILE, RAW_IMG_DIR)\n",
    "    return raw_db.load()"
   ],
   "id": "cc1550375c825244",
   "outputs": [],
   "execution_count": 4
  },
  {
   "metadata": {
    "ExecuteTime": {
     "end_time": "2025-07-24T18:16:17.421255Z",
     "start_time": "2025-07-24T18:16:17.265030Z"
    }
   },
   "cell_type": "code",
   "source": [
    "raw_qb = load_data()\n",
    "print(raw_qb.question_count())"
   ],
   "id": "a9e1c1b28036f45d",
   "outputs": [
    {
     "name": "stdout",
     "output_type": "stream",
     "text": [
      "2836\n"
     ]
    }
   ],
   "execution_count": 5
  },
  {
   "metadata": {},
   "cell_type": "markdown",
   "source": "### ii) Preprocessing",
   "id": "968320141e520ed0"
  },
  {
   "metadata": {},
   "cell_type": "markdown",
   "source": "Images are reshaped to a standard size and format.",
   "id": "c0a8b208a6b56c10"
  },
  {
   "cell_type": "code",
   "id": "d7b4c2c6cecad391",
   "metadata": {
    "colab": {
     "base_uri": "https://localhost:8080/"
    },
    "id": "d7b4c2c6cecad391",
    "executionInfo": {
     "status": "ok",
     "timestamp": 1752986917907,
     "user_tz": -480,
     "elapsed": 629,
     "user": {
      "displayName": "Simon Xu",
      "userId": "12024836940530881699"
     }
    },
    "outputId": "762208ff-b24a-492f-f95b-0975341913d7",
    "ExecuteTime": {
     "end_time": "2025-07-24T18:16:17.465139Z",
     "start_time": "2025-07-24T18:16:17.459966Z"
    }
   },
   "source": [
    "FORMATTED_IMG_DIR = \"data_storage/formatted_database\"\n",
    "def format_data(raw_qb: QuestionBank, data_format: DataFormat) -> QuestionBank:\n",
    "    \"\"\" Load the question bank from the formatted data directory \"\"\"\n",
    "    data_formatter = DataFormatter(data_format=data_format)\n",
    "    new_qb = data_formatter.format_data(question_bank=raw_qb,\n",
    "                                        new_img_dir=FORMATTED_IMG_DIR)\n",
    "    return new_qb"
   ],
   "outputs": [],
   "execution_count": 6
  },
  {
   "metadata": {
    "ExecuteTime": {
     "end_time": "2025-07-24T18:16:31.360756Z",
     "start_time": "2025-07-24T18:16:17.502177Z"
    }
   },
   "cell_type": "code",
   "source": [
    "%%time\n",
    "INPUT_IMG_EXTENSION = \"webp\"\n",
    "OUTPUT_IMG_EXTENSION = \"jpg\"\n",
    "\n",
    "data_format = DataFormat(image_shape=(256, 256),\n",
    "                         input_image_extension=INPUT_IMG_EXTENSION,\n",
    "                         output_image_extension=OUTPUT_IMG_EXTENSION)\n",
    "qb = format_data(raw_qb=raw_qb, data_format=data_format)\n",
    "print(qb.question_count())"
   ],
   "id": "f04037bd80f34c1a",
   "outputs": [
    {
     "name": "stdout",
     "output_type": "stream",
     "text": [
      "2836\n",
      "CPU times: user 11.8 s, sys: 2.05 s, total: 13.8 s\n",
      "Wall time: 13.9 s\n"
     ]
    }
   ],
   "execution_count": 7
  },
  {
   "metadata": {},
   "cell_type": "markdown",
   "source": "### iii) Save the formatted question bank",
   "id": "3d32f9aaa8162c3d"
  },
  {
   "metadata": {
    "ExecuteTime": {
     "end_time": "2025-07-24T18:16:31.425482Z",
     "start_time": "2025-07-24T18:16:31.422529Z"
    }
   },
   "cell_type": "code",
   "source": [
    "FORMATTED_DB_FILE_PATH = \"data_storage/formatted_database/data.json\"\n",
    "def save_formatted_data(question_bank: QuestionBank) -> None:\n",
    "    \"\"\" Save the question bank to the specified file path \"\"\"\n",
    "    formatted_db = LocalJsonDB(FORMATTED_DB_FILE_PATH, FORMATTED_IMG_DIR)\n",
    "    formatted_db.save(question_bank)"
   ],
   "id": "fae96b58a7bd3d95",
   "outputs": [],
   "execution_count": 8
  },
  {
   "metadata": {
    "ExecuteTime": {
     "end_time": "2025-07-24T18:16:31.551758Z",
     "start_time": "2025-07-24T18:16:31.490273Z"
    }
   },
   "cell_type": "code",
   "source": "save_formatted_data(qb)",
   "id": "3d36b2e92db3ec91",
   "outputs": [],
   "execution_count": 9
  },
  {
   "metadata": {},
   "cell_type": "markdown",
   "source": "## C. Question Bank to Batch Request File",
   "id": "d169bb1447a4367c"
  },
  {
   "metadata": {},
   "cell_type": "markdown",
   "source": "Turn the question bank into a jsonl file that can be used for making batch requests compatible with the OpenAI standard.",
   "id": "f704313b35085a62"
  },
  {
   "metadata": {
    "ExecuteTime": {
     "end_time": "2025-07-24T18:16:31.630631Z",
     "start_time": "2025-07-24T18:16:31.621860Z"
    }
   },
   "cell_type": "code",
   "source": [
    "import datetime\n",
    "import logging\n",
    "from logging import Logger\n",
    "\n",
    "from label_generator.batch_request_maker import BatchRequestMaker"
   ],
   "id": "b2a69a481c405563",
   "outputs": [],
   "execution_count": 10
  },
  {
   "metadata": {
    "ExecuteTime": {
     "end_time": "2025-07-24T18:16:31.692523Z",
     "start_time": "2025-07-24T18:16:31.689606Z"
    }
   },
   "cell_type": "code",
   "source": [
    "def load_prompt(PROMPT_FILE_PATH) -> str:\n",
    "    \"\"\" Load the prompt from the specified file path. \"\"\"\n",
    "    with open(PROMPT_FILE_PATH, 'r', encoding='utf-8') as file:\n",
    "        prompt = file.read()\n",
    "    return prompt"
   ],
   "id": "bfef7e52ed3cef32",
   "outputs": [],
   "execution_count": 11
  },
  {
   "metadata": {
    "ExecuteTime": {
     "end_time": "2025-07-24T18:16:31.763488Z",
     "start_time": "2025-07-24T18:16:31.756428Z"
    }
   },
   "cell_type": "code",
   "source": [
    "def make_logger(logging_directory: str, verbose: bool=False, debug: bool=False) -> Logger:\n",
    "    \"\"\" Create a logger that logs to the specified directory. \"\"\"\n",
    "    log_filename, timestamp = _make_logger_name(logging_directory)\n",
    "    logger = logging.getLogger(f\"batch_request_{timestamp}\")\n",
    "    if debug:\n",
    "        logger.setLevel(logging.DEBUG)\n",
    "    else:\n",
    "        logger.setLevel(logging.INFO)\n",
    "    _add_handlers(log_filename, logger, verbose, debug)\n",
    "    return logger\n",
    "\n",
    "def _make_logger_name(logging_directory):\n",
    "    timestamp = datetime.datetime.now().strftime(\"%Y%m%d_%H%M\")\n",
    "    log_filename = os.path.join(logging_directory,\n",
    "                                f\"batch_request_{timestamp}.log\")\n",
    "    return log_filename, timestamp\n",
    "\n",
    "def _add_handlers(log_filename, logger, verbose, debug):\n",
    "    for handler in logger.handlers[:]:\n",
    "        logger.removeHandler(handler)\n",
    "    formatter = _add_file_handler(log_filename, logger, debug)\n",
    "    if verbose:\n",
    "        _add_console_handler(formatter, logger)\n",
    "\n",
    "def _add_file_handler(log_filename, logger, debug):\n",
    "    file_handler = logging.FileHandler(log_filename)\n",
    "    if debug:\n",
    "        file_handler.setLevel(logging.DEBUG)\n",
    "    else:\n",
    "        file_handler.setLevel(logging.INFO)\n",
    "    formatter = logging.Formatter(\n",
    "        '%(asctime)s - %(name)s - %(levelname)s - %(message)s')\n",
    "    file_handler.setFormatter(formatter)\n",
    "    logger.addHandler(file_handler)\n",
    "    return formatter\n",
    "\n",
    "def _add_console_handler(formatter, logger):\n",
    "    console_handler = logging.StreamHandler()\n",
    "    console_handler.setLevel(logging.DEBUG)\n",
    "    console_handler.setFormatter(formatter)\n",
    "    logger.addHandler(console_handler)"
   ],
   "id": "904a9efd016927e0",
   "outputs": [],
   "execution_count": 12
  },
  {
   "metadata": {
    "ExecuteTime": {
     "end_time": "2025-07-24T18:16:32.928427Z",
     "start_time": "2025-07-24T18:16:31.821017Z"
    }
   },
   "cell_type": "code",
   "source": [
    "%%time\n",
    "\n",
    "LOGGING_DIRECTORY = \"logs\"\n",
    "PROMPT_FILE_PATH = \"data_storage/prompt_file/prompt.txt\"\n",
    "MODEL_NAME = \"batch-test-model\"\n",
    "REQUEST_URL = \"/v1/chat/ds-test\"\n",
    "\n",
    "batch_maker = BatchRequestMaker(\n",
    "    question_bank=qb,\n",
    "    prompt=load_prompt(PROMPT_FILE_PATH),\n",
    "    url=REQUEST_URL,\n",
    "    model_name=MODEL_NAME,\n",
    "    logger=make_logger(LOGGING_DIRECTORY, verbose=False, debug=True))\n",
    "batch_request = batch_maker.make_batch_request()"
   ],
   "id": "3c1cb56df9c670ad",
   "outputs": [
    {
     "name": "stdout",
     "output_type": "stream",
     "text": [
      "CPU times: user 757 ms, sys: 345 ms, total: 1.1 s\n",
      "Wall time: 1.1 s\n"
     ]
    }
   ],
   "execution_count": 13
  },
  {
   "metadata": {
    "ExecuteTime": {
     "end_time": "2025-07-24T18:16:33.090942Z",
     "start_time": "2025-07-24T18:16:33.087933Z"
    }
   },
   "cell_type": "code",
   "source": [
    "REQUEST_FILE_PATH = \"data_storage/batch_request_file/tagging_request.jsonl\"\n",
    "\n",
    "with open(REQUEST_FILE_PATH, 'w', encoding='utf-8') as file:\n",
    "    json.dump({}, file)"
   ],
   "id": "5d90376cd0fcb3da",
   "outputs": [],
   "execution_count": 14
  },
  {
   "metadata": {
    "ExecuteTime": {
     "end_time": "2025-07-24T18:16:33.356983Z",
     "start_time": "2025-07-24T18:16:33.236323Z"
    }
   },
   "cell_type": "code",
   "source": "batch_request.to_jsonl_file(REQUEST_FILE_PATH)",
   "id": "c8591f620a1f7abf",
   "outputs": [],
   "execution_count": 15
  },
  {
   "metadata": {
    "ExecuteTime": {
     "end_time": "2025-07-24T18:16:33.493672Z",
     "start_time": "2025-07-24T18:16:33.490579Z"
    }
   },
   "cell_type": "code",
   "source": [
    "def count_lines_in_file(file_path: str) -> int:\n",
    "    \"\"\" Count the number of lines in a file. \"\"\"\n",
    "    with open(file_path, 'r', encoding='utf-8') as file:\n",
    "        return sum(1 for _ in file)"
   ],
   "id": "3c42b0ce8703d9ad",
   "outputs": [],
   "execution_count": 16
  },
  {
   "metadata": {
    "ExecuteTime": {
     "end_time": "2025-07-24T18:16:33.665614Z",
     "start_time": "2025-07-24T18:16:33.633891Z"
    }
   },
   "cell_type": "code",
   "source": "print(f\"Number of lines in the request file: {count_lines_in_file(REQUEST_FILE_PATH)}\")",
   "id": "dc35890e1f69a40",
   "outputs": [
    {
     "name": "stdout",
     "output_type": "stream",
     "text": [
      "Number of lines in the request file: 2836\n"
     ]
    }
   ],
   "execution_count": 17
  },
  {
   "metadata": {},
   "cell_type": "markdown",
   "source": "# 2. Generate the Labels",
   "id": "7740ef07d17ccbb3"
  },
  {
   "cell_type": "code",
   "id": "c220319ab2db660b",
   "metadata": {
    "id": "c220319ab2db660b",
    "colab": {
     "base_uri": "https://localhost:8080/",
     "height": 321
    },
    "executionInfo": {
     "status": "error",
     "timestamp": 1752988250641,
     "user_tz": -480,
     "elapsed": 714,
     "user": {
      "displayName": "Simon Xu",
      "userId": "12024836940530881699"
     }
    },
    "outputId": "1c6cb981-bdb6-49f2-d244-dc2da5d37736",
    "ExecuteTime": {
     "end_time": "2025-07-24T18:16:33.816231Z",
     "start_time": "2025-07-24T18:16:33.813746Z"
    }
   },
   "source": [
    "# from openai import OpenAI\n",
    "#\n",
    "# client = OpenAI(\n",
    "#     api_key=os.getenv(\"ALI_API_KEY\"),\n",
    "#     base_url=\"https://dashscope.aliyuncs.com/compatible-mode/v1\",\n",
    "# )\n",
    "#\n",
    "# completion = client.chat.completions.create(\n",
    "#     model=\"qwen2.5-vl-32b-instruct\",\n",
    "#     messages=[\n",
    "#         {\n",
    "#             \"role\": \"system\",\n",
    "#             \"content\": [{\"type\": \"text\", \"text\": \"You are a helpful assistant.\"}],\n",
    "#         },\n",
    "#         {\n",
    "#             \"role\": \"user\",\n",
    "#             \"content\": [\n",
    "#                 {\"type\": \"text\", \"text\": \"1+1等于几?\"},\n",
    "#             ],\n",
    "#         },\n",
    "#     ],\n",
    "# )\n",
    "# print(completion)"
   ],
   "outputs": [],
   "execution_count": 18
  }
 ],
 "metadata": {
  "accelerator": "GPU",
  "colab": {
   "gpuType": "T4",
   "provenance": []
  },
  "kernelspec": {
   "display_name": "Python 3 (ipykernel)",
   "name": "python3",
   "language": "python"
  },
  "language_info": {
   "codemirror_mode": {
    "name": "ipython",
    "version": 2
   },
   "file_extension": ".py",
   "mimetype": "text/x-python",
   "name": "python",
   "nbconvert_exporter": "python",
   "pygments_lexer": "ipython2",
   "version": "2.7.6"
  }
 },
 "nbformat": 4,
 "nbformat_minor": 5
}
