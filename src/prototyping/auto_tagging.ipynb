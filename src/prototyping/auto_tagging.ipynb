{
 "cells": [
  {
   "cell_type": "markdown",
   "id": "a6338108438402fb",
   "metadata": {
    "id": "a6338108438402fb"
   },
   "source": [
    "# Driving Exam Auto Tagging\n",
    "Direct tagging with a VLM"
   ]
  },
  {
   "cell_type": "markdown",
   "id": "cb858b7a257f6624",
   "metadata": {
    "id": "cb858b7a257f6624"
   },
   "source": "## A. Format Question Data"
  },
  {
   "metadata": {},
   "cell_type": "markdown",
   "source": "## 0. Set up the environment",
   "id": "5068201e98d4584d"
  },
  {
   "metadata": {},
   "cell_type": "markdown",
   "source": "Set the source path to the root of the project",
   "id": "9897d967179f469b"
  },
  {
   "metadata": {
    "ExecuteTime": {
     "end_time": "2025-07-29T14:03:29.604562Z",
     "start_time": "2025-07-29T14:03:29.589462Z"
    }
   },
   "cell_type": "code",
   "source": [
    "import json\n",
    "import os"
   ],
   "id": "3940e3207f02c046",
   "outputs": [],
   "execution_count": 1
  },
  {
   "metadata": {
    "ExecuteTime": {
     "end_time": "2025-07-29T14:03:29.635642Z",
     "start_time": "2025-07-29T14:03:29.632532Z"
    }
   },
   "cell_type": "code",
   "source": [
    "SRC_PATH = \"/Users/simonxu/Files/Projects/Drivetest_App/2_NLP Tag Creation/drivetest_tag_extraction/src\"\n",
    "os.chdir(SRC_PATH)"
   ],
   "id": "4e03e57a7fe73c11",
   "outputs": [],
   "execution_count": 2
  },
  {
   "metadata": {
    "id": "8dc1f3b0517888f1"
   },
   "cell_type": "markdown",
   "source": "### 1. Set up the question bank",
   "id": "8dc1f3b0517888f1"
  },
  {
   "metadata": {
    "collapsed": true,
    "id": "initial_id",
    "executionInfo": {
     "status": "ok",
     "timestamp": 1752986917275,
     "user_tz": -480,
     "elapsed": 4260,
     "user": {
      "displayName": "Simon Xu",
      "userId": "12024836940530881699"
     }
    },
    "ExecuteTime": {
     "end_time": "2025-07-29T14:03:29.769496Z",
     "start_time": "2025-07-29T14:03:29.647818Z"
    }
   },
   "cell_type": "code",
   "source": [
    "from entities.question_bank import QuestionBank\n",
    "from data_access.local_json_db import LocalJsonDB\n",
    "from data_formatting.data_formatter import DataFormatter, DataFormat"
   ],
   "id": "initial_id",
   "outputs": [],
   "execution_count": 3
  },
  {
   "metadata": {},
   "cell_type": "markdown",
   "source": "### i) Load the question bank",
   "id": "274014d947d856a1"
  },
  {
   "metadata": {
    "ExecuteTime": {
     "end_time": "2025-07-29T14:03:29.895545Z",
     "start_time": "2025-07-29T14:03:29.892193Z"
    }
   },
   "cell_type": "code",
   "source": [
    "RAW_DATA_FILE = \"data_storage/raw_database/data.json\"\n",
    "RAW_IMG_DIR = \"data_storage/raw_database/images\"\n",
    "\n",
    "def load_data() -> QuestionBank:\n",
    "    \"\"\" Load the question bank from the formatted data directory \"\"\"\n",
    "    raw_db = LocalJsonDB(RAW_DATA_FILE, RAW_IMG_DIR)\n",
    "    return raw_db.load()"
   ],
   "id": "cc1550375c825244",
   "outputs": [],
   "execution_count": 4
  },
  {
   "metadata": {
    "ExecuteTime": {
     "end_time": "2025-07-29T14:03:30.244060Z",
     "start_time": "2025-07-29T14:03:30.065659Z"
    }
   },
   "cell_type": "code",
   "source": [
    "raw_qb = load_data()\n",
    "print(raw_qb.question_count())"
   ],
   "id": "a9e1c1b28036f45d",
   "outputs": [
    {
     "name": "stdout",
     "output_type": "stream",
     "text": [
      "2836\n"
     ]
    }
   ],
   "execution_count": 5
  },
  {
   "metadata": {},
   "cell_type": "markdown",
   "source": "### ii) Preprocessing",
   "id": "968320141e520ed0"
  },
  {
   "metadata": {},
   "cell_type": "markdown",
   "source": "Images are reshaped to a standard size and format.",
   "id": "c0a8b208a6b56c10"
  },
  {
   "cell_type": "code",
   "id": "d7b4c2c6cecad391",
   "metadata": {
    "colab": {
     "base_uri": "https://localhost:8080/"
    },
    "id": "d7b4c2c6cecad391",
    "executionInfo": {
     "status": "ok",
     "timestamp": 1752986917907,
     "user_tz": -480,
     "elapsed": 629,
     "user": {
      "displayName": "Simon Xu",
      "userId": "12024836940530881699"
     }
    },
    "outputId": "762208ff-b24a-492f-f95b-0975341913d7",
    "ExecuteTime": {
     "end_time": "2025-07-29T14:03:30.297247Z",
     "start_time": "2025-07-29T14:03:30.293569Z"
    }
   },
   "source": [
    "FORMATTED_IMG_DIR = \"data_storage/formatted_database/images\"\n",
    "def format_data(raw_qb: QuestionBank, data_format: DataFormat) -> QuestionBank:\n",
    "    \"\"\" Load the question bank from the formatted data directory \"\"\"\n",
    "    data_formatter = DataFormatter(data_format=data_format)\n",
    "    new_qb = data_formatter.format_data(question_bank=raw_qb,\n",
    "                                        new_img_dir=FORMATTED_IMG_DIR)\n",
    "    return new_qb"
   ],
   "outputs": [],
   "execution_count": 6
  },
  {
   "metadata": {
    "ExecuteTime": {
     "end_time": "2025-07-29T14:03:46.543544Z",
     "start_time": "2025-07-29T14:03:30.374129Z"
    }
   },
   "cell_type": "code",
   "source": [
    "%%time\n",
    "INPUT_IMG_EXTENSION = \"webp\"\n",
    "OUTPUT_IMG_EXTENSION = \"jpg\"\n",
    "\n",
    "data_format = DataFormat(image_shape=(256, 256),\n",
    "                         input_image_extension=INPUT_IMG_EXTENSION,\n",
    "                         output_image_extension=OUTPUT_IMG_EXTENSION)\n",
    "qb = format_data(raw_qb=raw_qb, data_format=data_format)\n",
    "print(qb.question_count())"
   ],
   "id": "f04037bd80f34c1a",
   "outputs": [
    {
     "name": "stdout",
     "output_type": "stream",
     "text": [
      "2836\n",
      "CPU times: user 13.4 s, sys: 2.43 s, total: 15.8 s\n",
      "Wall time: 16.2 s\n"
     ]
    }
   ],
   "execution_count": 7
  },
  {
   "metadata": {},
   "cell_type": "markdown",
   "source": "### iii) Save the formatted question bank",
   "id": "3d32f9aaa8162c3d"
  },
  {
   "metadata": {
    "ExecuteTime": {
     "end_time": "2025-07-29T14:03:46.613651Z",
     "start_time": "2025-07-29T14:03:46.610793Z"
    }
   },
   "cell_type": "code",
   "source": [
    "FORMATTED_DB_FILE_PATH = \"data_storage/formatted_database/data.json\"\n",
    "def save_formatted_data(question_bank: QuestionBank) -> None:\n",
    "    \"\"\" Save the question bank to the specified file path \"\"\"\n",
    "    formatted_db = LocalJsonDB(FORMATTED_DB_FILE_PATH, FORMATTED_IMG_DIR)\n",
    "    formatted_db.save(question_bank)"
   ],
   "id": "fae96b58a7bd3d95",
   "outputs": [],
   "execution_count": 8
  },
  {
   "metadata": {
    "ExecuteTime": {
     "end_time": "2025-07-29T14:03:46.738845Z",
     "start_time": "2025-07-29T14:03:46.678768Z"
    }
   },
   "cell_type": "code",
   "source": "save_formatted_data(qb)",
   "id": "3d36b2e92db3ec91",
   "outputs": [],
   "execution_count": 9
  },
  {
   "metadata": {},
   "cell_type": "markdown",
   "source": "## C. Question Bank to Batch Request File",
   "id": "d169bb1447a4367c"
  },
  {
   "metadata": {},
   "cell_type": "markdown",
   "source": "Turn the question bank into a jsonl file that can be used for making batch requests compatible with the OpenAI standard.",
   "id": "f704313b35085a62"
  },
  {
   "metadata": {
    "ExecuteTime": {
     "end_time": "2025-07-29T13:59:45.820470Z",
     "start_time": "2025-07-29T13:59:45.812952Z"
    }
   },
   "cell_type": "code",
   "source": [
    "import datetime\n",
    "import logging\n",
    "from logging import Logger\n",
    "\n",
    "from label_generator.batch_request_factory import BatchRequestFactory"
   ],
   "id": "b2a69a481c405563",
   "outputs": [],
   "execution_count": 10
  },
  {
   "metadata": {
    "ExecuteTime": {
     "end_time": "2025-07-29T13:59:45.899427Z",
     "start_time": "2025-07-29T13:59:45.896377Z"
    }
   },
   "cell_type": "code",
   "source": [
    "def load_prompt() -> str:\n",
    "    \"\"\" Load the prompt from the specified file path. \"\"\"\n",
    "    with open(PROMPT_FILE_PATH, 'r', encoding='utf-8') as file:\n",
    "        prompt = file.read()\n",
    "    return prompt"
   ],
   "id": "bfef7e52ed3cef32",
   "outputs": [],
   "execution_count": 11
  },
  {
   "metadata": {
    "ExecuteTime": {
     "end_time": "2025-07-29T13:59:45.971864Z",
     "start_time": "2025-07-29T13:59:45.964465Z"
    }
   },
   "cell_type": "code",
   "source": [
    "def make_logger(logging_directory: str, verbose: bool=False, debug: bool=False) -> Logger:\n",
    "    \"\"\" Create a logger that logs to the specified directory. \"\"\"\n",
    "    log_filename, timestamp = _make_logger_name(logging_directory)\n",
    "    logger = logging.getLogger(f\"batch_request_{timestamp}\")\n",
    "    if debug:\n",
    "        logger.setLevel(logging.DEBUG)\n",
    "    else:\n",
    "        logger.setLevel(logging.INFO)\n",
    "    _add_handlers(log_filename, logger, verbose, debug)\n",
    "    return logger\n",
    "\n",
    "def _make_logger_name(logging_directory):\n",
    "    timestamp = datetime.datetime.now().strftime(\"%Y%m%d_%H%M\")\n",
    "    log_filename = os.path.join(logging_directory,\n",
    "                                f\"batch_request_{timestamp}.log\")\n",
    "    return log_filename, timestamp\n",
    "\n",
    "def _add_handlers(log_filename, logger, verbose, debug):\n",
    "    for handler in logger.handlers[:]:\n",
    "        logger.removeHandler(handler)\n",
    "    formatter = _add_file_handler(log_filename, logger, debug)\n",
    "    if verbose:\n",
    "        _add_console_handler(formatter, logger)\n",
    "\n",
    "def _add_file_handler(log_filename, logger, debug):\n",
    "    file_handler = logging.FileHandler(log_filename)\n",
    "    if debug:\n",
    "        file_handler.setLevel(logging.DEBUG)\n",
    "    else:\n",
    "        file_handler.setLevel(logging.INFO)\n",
    "    formatter = logging.Formatter(\n",
    "        '%(asctime)s - %(name)s - %(levelname)s - %(message)s')\n",
    "    file_handler.setFormatter(formatter)\n",
    "    logger.addHandler(file_handler)\n",
    "    return formatter\n",
    "\n",
    "def _add_console_handler(formatter, logger):\n",
    "    console_handler = logging.StreamHandler()\n",
    "    console_handler.setLevel(logging.DEBUG)\n",
    "    console_handler.setFormatter(formatter)\n",
    "    logger.addHandler(console_handler)"
   ],
   "id": "904a9efd016927e0",
   "outputs": [],
   "execution_count": 12
  },
  {
   "metadata": {},
   "cell_type": "markdown",
   "source": "Specify model information and request URL.",
   "id": "2fdaf1056faa49f9"
  },
  {
   "metadata": {
    "ExecuteTime": {
     "end_time": "2025-07-29T13:59:46.059537Z",
     "start_time": "2025-07-29T13:59:46.057004Z"
    }
   },
   "cell_type": "code",
   "source": [
    "LOGGING_DIRECTORY = \"my_logs\"\n",
    "PROMPT_FILE_PATH = \"data_storage/prompt_file/prompt.txt\"\n",
    "MODEL_NAME = \"qwen-vl-max\"\n",
    "REQUEST_URL = \"/v1/chat/completions\""
   ],
   "id": "c758dac1af3e355a",
   "outputs": [],
   "execution_count": 13
  },
  {
   "metadata": {
    "ExecuteTime": {
     "end_time": "2025-07-29T13:59:47.133218Z",
     "start_time": "2025-07-29T13:59:46.120900Z"
    }
   },
   "cell_type": "code",
   "source": [
    "%%time\n",
    "batch_maker = BatchRequestFactory(\n",
    "    question_bank=qb,\n",
    "    prompt=load_prompt(),\n",
    "    url=REQUEST_URL,\n",
    "    model_name=MODEL_NAME,\n",
    "    logger=make_logger(LOGGING_DIRECTORY, verbose=False, debug=True))\n",
    "batch_request = batch_maker.make_batch_request()"
   ],
   "id": "3c1cb56df9c670ad",
   "outputs": [
    {
     "name": "stdout",
     "output_type": "stream",
     "text": [
      "CPU times: user 698 ms, sys: 312 ms, total: 1.01 s\n",
      "Wall time: 1.01 s\n"
     ]
    }
   ],
   "execution_count": 14
  },
  {
   "metadata": {
    "ExecuteTime": {
     "end_time": "2025-07-29T13:59:47.681317Z",
     "start_time": "2025-07-29T13:59:47.679004Z"
    }
   },
   "cell_type": "code",
   "source": "REQUEST_FILE_PATH = \"data_storage/batch_request_file/tagging_request.jsonl\"",
   "id": "6edcd326b3ad94c2",
   "outputs": [],
   "execution_count": 15
  },
  {
   "metadata": {
    "ExecuteTime": {
     "end_time": "2025-07-29T13:59:48.160906Z",
     "start_time": "2025-07-29T13:59:48.158214Z"
    }
   },
   "cell_type": "code",
   "source": [
    "def clear_request_file():\n",
    "    with open(REQUEST_FILE_PATH, 'w', encoding='utf-8') as file:\n",
    "        json.dump({}, file)"
   ],
   "id": "5d90376cd0fcb3da",
   "outputs": [],
   "execution_count": 16
  },
  {
   "metadata": {
    "ExecuteTime": {
     "end_time": "2025-07-29T13:59:48.727220Z",
     "start_time": "2025-07-29T13:59:48.724121Z"
    }
   },
   "cell_type": "code",
   "source": [
    "def count_lines_in_file(file_path: str) -> int:\n",
    "    \"\"\" Count the number of lines in a file. \"\"\"\n",
    "    with open(file_path, 'r', encoding='utf-8') as file:\n",
    "        return sum(1 for _ in file)"
   ],
   "id": "3c42b0ce8703d9ad",
   "outputs": [],
   "execution_count": 17
  },
  {
   "metadata": {
    "ExecuteTime": {
     "end_time": "2025-07-29T13:59:49.750801Z",
     "start_time": "2025-07-29T13:59:49.251634Z"
    }
   },
   "cell_type": "code",
   "source": [
    "batch_request.to_jsonl_file(REQUEST_FILE_PATH)\n",
    "print(f\"Number of lines in the request file: {count_lines_in_file(REQUEST_FILE_PATH)}\")"
   ],
   "id": "dc35890e1f69a40",
   "outputs": [
    {
     "name": "stdout",
     "output_type": "stream",
     "text": [
      "Number of lines in the request file: 2836\n"
     ]
    }
   ],
   "execution_count": 18
  },
  {
   "metadata": {},
   "cell_type": "markdown",
   "source": "# 2. Generate the Labels",
   "id": "7740ef07d17ccbb3"
  },
  {
   "cell_type": "code",
   "id": "c220319ab2db660b",
   "metadata": {
    "id": "c220319ab2db660b",
    "colab": {
     "base_uri": "https://localhost:8080/",
     "height": 321
    },
    "executionInfo": {
     "status": "error",
     "timestamp": 1752988250641,
     "user_tz": -480,
     "elapsed": 714,
     "user": {
      "displayName": "Simon Xu",
      "userId": "12024836940530881699"
     }
    },
    "outputId": "1c6cb981-bdb6-49f2-d244-dc2da5d37736"
   },
   "source": [
    "from pathlib import Path\n",
    "from openai import OpenAI"
   ],
   "outputs": [],
   "execution_count": null
  },
  {
   "metadata": {},
   "cell_type": "code",
   "source": [
    "client = OpenAI(\n",
    "    api_key=os.getenv(\"DASHSCOPE_API_KEY\"),\n",
    "    base_url=\"https://dashscope.aliyuncs.com/compatible-mode/v1\",\n",
    ")"
   ],
   "id": "3f49965812918efd",
   "outputs": [],
   "execution_count": null
  },
  {
   "metadata": {},
   "cell_type": "markdown",
   "source": "## a) Upload batch file",
   "id": "46a010dfb098f746"
  },
  {
   "metadata": {},
   "cell_type": "code",
   "source": [
    "%%time\n",
    "file_object = client.files.create(file=Path(REQUEST_FILE_PATH), purpose=\"batch\")"
   ],
   "id": "c1d18bba581bfac",
   "outputs": [],
   "execution_count": null
  },
  {
   "metadata": {},
   "cell_type": "code",
   "source": "print(file_object.model_dump_json())",
   "id": "a31d9905f4f62d01",
   "outputs": [],
   "execution_count": null
  },
  {
   "metadata": {},
   "cell_type": "markdown",
   "source": "## b) Create batch job",
   "id": "4a93d44e72638e60"
  },
  {
   "metadata": {},
   "cell_type": "code",
   "source": [
    "REQUEST_METADATA = {'ds_name':\"科目一标签生成\",\n",
    "                    'ds_description':'为驾考科目一题目自动生成 \"tags\" 和 \"keywords\"。 其中\"tags\" 需要深入理解问题的测试内容，代表问题的知识点与考点。“keywords”需要提取问题中明确或隐含的关键词， 用来检索问题内容。'}"
   ],
   "id": "b4253cc09ae548cb",
   "outputs": [],
   "execution_count": null
  },
  {
   "metadata": {},
   "cell_type": "code",
   "source": [
    "%%time\n",
    "request_id = file_object.id\n",
    "batch = client.batches.create(\n",
    "    input_file_id=request_id,\n",
    "    endpoint=REQUEST_URL,\n",
    "    completion_window=\"24h\",\n",
    "    metadata=REQUEST_METADATA\n",
    ")\n",
    "print(batch)"
   ],
   "id": "d0c931b3683219d8",
   "outputs": [],
   "execution_count": null
  },
  {
   "metadata": {},
   "cell_type": "markdown",
   "source": "Periodically check the status of the batch job.",
   "id": "d2c5f22f9271d882"
  },
  {
   "metadata": {},
   "cell_type": "code",
   "source": "from time import sleep",
   "id": "1c8d2a8732567cdc",
   "outputs": [],
   "execution_count": null
  },
  {
   "metadata": {},
   "cell_type": "code",
   "source": [
    "WAIT_TIME = 300 # 5 Minutes\n",
    "IN_PROGRESS_STATUS_CODES = [\"validating\", \"in_progress\", \"finalizing\", \"cancelling\"]\n",
    "ERROR_STATUS_CODES = [\"failed\", \"expired\", \"cancelled\"]"
   ],
   "id": "8ea625750a82bd79",
   "outputs": [],
   "execution_count": null
  },
  {
   "metadata": {},
   "cell_type": "code",
   "source": [
    "batch_status = client.batches.retrieve(batch.id)\n",
    "while batch_status.status in IN_PROGRESS_STATUS_CODES:\n",
    "    print(f\"Batch job status: {batch_status.status}\")\n",
    "    sleep(WAIT_TIME)\n",
    "    batch_status = client.batches.retrieve(batch.id)\n",
    "print(f\"Final job status: {batch_status.status}\")"
   ],
   "id": "f942061b485f0eac",
   "outputs": [],
   "execution_count": null
  },
  {
   "metadata": {},
   "cell_type": "markdown",
   "source": "## c) Error handling",
   "id": "adb88bfd2e1eefe4"
  },
  {
   "metadata": {},
   "cell_type": "code",
   "source": "ERROR_FILE_PATH = \"data_storage/tagging_results/error.jsonl\"",
   "id": "987617baf9304385",
   "outputs": [],
   "execution_count": null
  },
  {
   "metadata": {},
   "cell_type": "markdown",
   "source": "### i) Clear the error file",
   "id": "c7053988648e7ebc"
  },
  {
   "metadata": {},
   "cell_type": "code",
   "source": [
    "# clear the error file if it exists\n",
    "if os.path.exists(ERROR_FILE_PATH):\n",
    "    with open(ERROR_FILE_PATH, 'w', encoding='utf-8') as file:\n",
    "        file.write(\"\")"
   ],
   "id": "123f5562d6ac52ef",
   "outputs": [],
   "execution_count": null
  },
  {
   "metadata": {},
   "cell_type": "markdown",
   "source": "### ii) Save the new errors",
   "id": "3c73d6ef08547c6c"
  },
  {
   "metadata": {},
   "cell_type": "code",
   "source": [
    "content = client.files.content(batch_status.error_file_id)\n",
    "content.write_to_file(ERROR_FILE_PATH)\n",
    "print(f\"完整的请求失败信息已保存至本地错误文件: {ERROR_FILE_PATH}\")"
   ],
   "id": "1e841ce4663ae4f3",
   "outputs": [],
   "execution_count": null
  },
  {
   "metadata": {},
   "cell_type": "markdown",
   "source": "## d) Retrieve result",
   "id": "fc9db19b426a08e8"
  },
  {
   "metadata": {},
   "cell_type": "code",
   "source": "RESULT_OUTPUT_PATH = \"data_storage/tagging_results/result.jsonl\"",
   "id": "d5feac3f7caef2bb",
   "outputs": [],
   "execution_count": null
  },
  {
   "metadata": {},
   "cell_type": "markdown",
   "source": "### i) Clear the result file",
   "id": "2568c0b780893980"
  },
  {
   "metadata": {},
   "cell_type": "code",
   "source": [
    "if os.path.exists(RESULT_OUTPUT_PATH):\n",
    "    with open(RESULT_OUTPUT_PATH, 'w', encoding='utf-8') as file:\n",
    "        file.write(\"\")"
   ],
   "id": "546f939f2f6f9b71",
   "outputs": [],
   "execution_count": null
  },
  {
   "metadata": {},
   "cell_type": "markdown",
   "source": "### ii) Save the result file",
   "id": "2ef2a82b4e560b68"
  },
  {
   "metadata": {},
   "cell_type": "code",
   "source": [
    "output_file = client.files.content(file_id=batch_status.output_file_id)\n",
    "output_file.write_to_file(RESULT_OUTPUT_PATH)"
   ],
   "id": "8205033982801721",
   "outputs": [],
   "execution_count": null
  },
  {
   "metadata": {},
   "cell_type": "code",
   "source": "count_lines_in_file(RESULT_OUTPUT_PATH)",
   "id": "cc23b3dc591c80ee",
   "outputs": [],
   "execution_count": null
  },
  {
   "metadata": {},
   "cell_type": "markdown",
   "source": "## e) Archive result",
   "id": "57f018b98c83c5d7"
  },
  {
   "metadata": {
    "ExecuteTime": {
     "end_time": "2025-07-29T14:03:46.805597Z",
     "start_time": "2025-07-29T14:03:46.803198Z"
    }
   },
   "cell_type": "code",
   "source": [
    "RESULT_ARCHIVE_PATH = \"data_storage/tagging_results/result_archive\"\n",
    "ERROR_ARCHIVE_PATH = \"data_storage/tagging_results/error_archive\""
   ],
   "id": "dacb531f5e982255",
   "outputs": [],
   "execution_count": 10
  },
  {
   "metadata": {},
   "cell_type": "code",
   "source": [
    "def get_archive_paths() -> (str, str):\n",
    "    \"\"\" Get the archive path for the result and error files. \"\"\"\n",
    "    os.makedirs(RESULT_ARCHIVE_PATH, exist_ok=True)\n",
    "    os.makedirs(ERROR_ARCHIVE_PATH, exist_ok=True)\n",
    "    timestamp = datetime.datetime.now().strftime(\"%Y%m%d_%H%M\")\n",
    "    archive_path = os.path.join(RESULT_ARCHIVE_PATH, f\"result_{timestamp}.jsonl\")\n",
    "    error_archive_path = os.path.join(ERROR_ARCHIVE_PATH, f\"error_{timestamp}.jsonl\")\n",
    "    return archive_path, error_archive_path"
   ],
   "id": "1ba02d4e4b51331d",
   "outputs": [],
   "execution_count": null
  },
  {
   "metadata": {},
   "cell_type": "code",
   "source": "import shutil",
   "id": "b3d1d1f10b9308e2",
   "outputs": [],
   "execution_count": null
  },
  {
   "metadata": {},
   "cell_type": "code",
   "source": [
    "def archive_files():\n",
    "    \"\"\" Archive the result file by copying it to the archive directory. \"\"\"\n",
    "    result_path, error_path = get_archive_paths()\n",
    "    shutil.copy(RESULT_OUTPUT_PATH, result_path)\n",
    "    shutil.copy(ERROR_FILE_PATH, error_path)"
   ],
   "id": "e1fbb85b11b35bf9",
   "outputs": [],
   "execution_count": null
  },
  {
   "metadata": {},
   "cell_type": "code",
   "source": "archive_files()",
   "id": "244b64d4ac1cab74",
   "outputs": [],
   "execution_count": null
  },
  {
   "metadata": {},
   "cell_type": "markdown",
   "source": "# 3) Parse the results",
   "id": "82bda47b45b06941"
  },
  {
   "metadata": {
    "ExecuteTime": {
     "end_time": "2025-07-29T14:03:46.885132Z",
     "start_time": "2025-07-29T14:03:46.870044Z"
    }
   },
   "cell_type": "code",
   "source": "from label_generator.response_parsing_pipeline import ResponseParsingPipeline",
   "id": "4758a060e6633834",
   "outputs": [],
   "execution_count": 11
  },
  {
   "metadata": {
    "ExecuteTime": {
     "end_time": "2025-07-29T14:03:47.506496Z",
     "start_time": "2025-07-29T14:03:46.947952Z"
    }
   },
   "cell_type": "code",
   "source": [
    "for file in os.listdir(RESULT_ARCHIVE_PATH):\n",
    "    if file.endswith(\".jsonl\"):\n",
    "        print(f\"Archive file: {file}\")\n",
    "        file_path = os.path.join(RESULT_ARCHIVE_PATH, file)\n",
    "        pipe = ResponseParsingPipeline(question_bank=qb, result_path=file_path)\n",
    "        pipe.parse_and_load()"
   ],
   "id": "13eb6f30c12f602c",
   "outputs": [
    {
     "name": "stdout",
     "output_type": "stream",
     "text": [
      "Archive file: result_20250729_1127.jsonl\n"
     ]
    },
    {
     "ename": "KeyError",
     "evalue": "'id'",
     "output_type": "error",
     "traceback": [
      "\u001B[31m---------------------------------------------------------------------------\u001B[39m",
      "\u001B[31mKeyError\u001B[39m                                  Traceback (most recent call last)",
      "\u001B[36mCell\u001B[39m\u001B[36m \u001B[39m\u001B[32mIn[12]\u001B[39m\u001B[32m, line 6\u001B[39m\n\u001B[32m      4\u001B[39m file_path = os.path.join(RESULT_ARCHIVE_PATH, file)\n\u001B[32m      5\u001B[39m pipe = ResponseParsingPipeline(question_bank=qb, result_path=file_path)\n\u001B[32m----> \u001B[39m\u001B[32m6\u001B[39m pipe.parse_and_load()\n",
      "\u001B[36mFile \u001B[39m\u001B[32m~/Files/Projects/Drivetest_App/2_NLP Tag Creation/drivetest_tag_extraction/src/label_generator/response_parsing_pipeline.py:23\u001B[39m, in \u001B[36mResponseParsingPipeline.parse_and_load\u001B[39m\u001B[34m(self)\u001B[39m\n\u001B[32m     19\u001B[39m \u001B[38;5;28;01mdef\u001B[39;00m\u001B[38;5;250m \u001B[39m\u001B[34mparse_and_load\u001B[39m(\u001B[38;5;28mself\u001B[39m):\n\u001B[32m     20\u001B[39m \u001B[38;5;250m    \u001B[39m\u001B[33;03m\"\"\"\u001B[39;00m\n\u001B[32m     21\u001B[39m \u001B[33;03m    Parse the response data and load it into the question bank.\u001B[39;00m\n\u001B[32m     22\u001B[39m \u001B[33;03m    \"\"\"\u001B[39;00m\n\u001B[32m---> \u001B[39m\u001B[32m23\u001B[39m     response_lst = \u001B[38;5;28mself\u001B[39m._json_to_response()\n\u001B[32m     24\u001B[39m     qid_to_labels = \u001B[38;5;28mself\u001B[39m._response_to_labels(response_lst)\n\u001B[32m     25\u001B[39m     \u001B[38;5;28mself\u001B[39m._load_question_bank(qid_to_labels)\n",
      "\u001B[36mFile \u001B[39m\u001B[32m~/Files/Projects/Drivetest_App/2_NLP Tag Creation/drivetest_tag_extraction/src/label_generator/response_parsing_pipeline.py:36\u001B[39m, in \u001B[36mResponseParsingPipeline._json_to_response\u001B[39m\u001B[34m(self)\u001B[39m\n\u001B[32m     34\u001B[39m     \u001B[38;5;28;01mfor\u001B[39;00m line \u001B[38;5;129;01min\u001B[39;00m file:\n\u001B[32m     35\u001B[39m         json_response = json.loads(line)\n\u001B[32m---> \u001B[39m\u001B[32m36\u001B[39m         response = ResponseFactory.create_response(json_response)\n\u001B[32m     37\u001B[39m         response_lst.append(response)\n\u001B[32m     38\u001B[39m \u001B[38;5;28;01mreturn\u001B[39;00m response_lst\n",
      "\u001B[36mFile \u001B[39m\u001B[32m~/Files/Projects/Drivetest_App/2_NLP Tag Creation/drivetest_tag_extraction/src/label_generator/response_factory.py:64\u001B[39m, in \u001B[36mResponseFactory.create_response\u001B[39m\u001B[34m(response_json)\u001B[39m\n\u001B[32m     50\u001B[39m body = ResponseBody(\n\u001B[32m     51\u001B[39m     created=response_json[\u001B[33m'\u001B[39m\u001B[33mresponse\u001B[39m\u001B[33m'\u001B[39m][\u001B[33m'\u001B[39m\u001B[33mbody\u001B[39m\u001B[33m'\u001B[39m][\u001B[33m'\u001B[39m\u001B[33mcreated\u001B[39m\u001B[33m'\u001B[39m],\n\u001B[32m     52\u001B[39m     usage=usage,\n\u001B[32m   (...)\u001B[39m\u001B[32m     56\u001B[39m     \u001B[38;5;28mobject\u001B[39m=response_json[\u001B[33m'\u001B[39m\u001B[33mresponse\u001B[39m\u001B[33m'\u001B[39m][\u001B[33m'\u001B[39m\u001B[33mbody\u001B[39m\u001B[33m'\u001B[39m][\u001B[33m'\u001B[39m\u001B[33mobject\u001B[39m\u001B[33m'\u001B[39m]\n\u001B[32m     57\u001B[39m )\n\u001B[32m     59\u001B[39m response_data = ResponseData(\n\u001B[32m     60\u001B[39m     status_code=response_json[\u001B[33m'\u001B[39m\u001B[33mresponse\u001B[39m\u001B[33m'\u001B[39m][\u001B[33m'\u001B[39m\u001B[33mstatus_code\u001B[39m\u001B[33m'\u001B[39m],\n\u001B[32m     61\u001B[39m     request_id=response_json[\u001B[33m'\u001B[39m\u001B[33mresponse\u001B[39m\u001B[33m'\u001B[39m][\u001B[33m'\u001B[39m\u001B[33mrequest_id\u001B[39m\u001B[33m'\u001B[39m],\n\u001B[32m     62\u001B[39m     response_body=body)\n\u001B[32m---> \u001B[39m\u001B[32m64\u001B[39m response = Response(response_id=response_json[\u001B[33m'\u001B[39m\u001B[33mresponse\u001B[39m\u001B[33m'\u001B[39m][\u001B[33m'\u001B[39m\u001B[33mid\u001B[39m\u001B[33m'\u001B[39m],\n\u001B[32m     65\u001B[39m                     custom_id=response_json[\u001B[33m'\u001B[39m\u001B[33mresponse\u001B[39m\u001B[33m'\u001B[39m][\u001B[33m'\u001B[39m\u001B[33mcustom_id\u001B[39m\u001B[33m'\u001B[39m],\n\u001B[32m     66\u001B[39m                     response_data=response_data)\n\u001B[32m     67\u001B[39m \u001B[38;5;28;01mreturn\u001B[39;00m response\n",
      "\u001B[31mKeyError\u001B[39m: 'id'"
     ]
    }
   ],
   "execution_count": 12
  },
  {
   "metadata": {},
   "cell_type": "code",
   "source": [
    "SAMPLE_MESSAGE = (\"<THINKING>\\n\"\n",
    "                  \"**第一步：生成推理依据**\\n\"\n",
    "                  \"\\n\"\n",
    "                  \"  * **步骤1：视觉观察与文本提取 (Keywords)**\\n\"\n",
    "                  \"      * **视觉元素**: 无图像。\\n\"\n",
    "                  \"      * **文本信息**: 题目陈述“谨慎驾驶的三个原则是集中注意力、仔细观察和提前预防。”，答案为“对”。\\n\"\n",
    "                  \"      * **关键词**: 谨慎驾驶, 集中注意力, 仔细观察, 提前预防\\n\"\n",
    "                  \"  * **步骤2：分析与关联**\\n\"\n",
    "                  \"      * **分析**: 此题考察的是安全驾驶的基本原则。谨慎驾驶是防御性驾驶的核心理念之一，它要求驾驶员在驾驶过程中始终保持高度的警觉性和预见性。题目中的三个原则（集中注意力、仔细观察和提前预防）正是谨慎驾驶的关键要素。\\n\"\n",
    "                  \"      * **关联法规**: 这些原则虽然不是具体的交通法规条款，但它们是《道路交通安全法》及其实施条例所倡导的安全驾驶行为的重要组成部分。\\n\"\n",
    "                  \"  * **步骤3：归纳与生成 (Tags)**\\n\"\n",
    "                  \"      * **核心概念**: 题目考察的是安全驾驶的基本理念和原则，特别是谨慎驾驶的三个核心要素。这属于安全驾驶知识的一部分，强调了驾驶员的行为规范和心理准备。\\n\"\n",
    "                  \"      * **标签**: 安全驾驶-基本原则-谨慎驾驶, 安全意识-防御性驾驶\\n\"\n",
    "                  \"\\n\"\n",
    "                  \"**第二步：生成JSON**\\n\"\n",
    "                  \"\\n\"\n",
    "                  \"```json\\n\"\n",
    "                  \"{\\n\"\n",
    "                  \" \\\"keywords\\\": [\\n\"\n",
    "                  \"  \\\"谨慎驾驶\\\",\\n\"\n",
    "                  \"  \\\"集中注意力\\\",\\n\"\n",
    "                  \"  \\\"仔细观察\\\",\\n\"\n",
    "                  \"  \\\"提前预防\\\"\\n\"\n",
    "                  \" ],\\n\"\n",
    "                  \" \\\"tags\\\": [\\n\"\n",
    "                  \"  \\\"安全驾驶-基本原则-谨慎驾驶\\\",\\n\"\n",
    "                  \"  \\\"安全意识-防御性驾驶\\\"\\n\"\n",
    "                  \" ]\\n\"\n",
    "                  \"}\\n\"\n",
    "                  \"```\\n\"\n",
    "                  \"\\n\"\n",
    "                  \"</THINKING>\\n\"\n",
    "                  \"<OUTPUT>\\n\"\n",
    "                  \"```json\\n\"\n",
    "                  \"{\\n\"\n",
    "                  \"\\\"keywords\\\": [\"\n",
    "                  \"\\n\\\"谨慎驾驶\\\",\"\n",
    "                  \"\\n\\\"集中注意力\\\",\"\n",
    "                  \"\\n\\\"仔细观察\\\",\"\n",
    "                  \"\\n\\\"提前预防\\\"\"\n",
    "                  \"\\n],\"\n",
    "                  \"\\n\\\"tags\\\": [\"\n",
    "                  \"\\n\\\"安全驾驶-基本原则-谨慎驾驶\\\",\"\n",
    "                  \"\\n\\\"安全意识-防御性驾驶\\\"\"\n",
    "                  \"\\n]\"\n",
    "                  \"\\n}\"\n",
    "                  \"\\n```\")"
   ],
   "id": "eb7b0348589c2898",
   "outputs": [],
   "execution_count": null
  }
 ],
 "metadata": {
  "accelerator": "GPU",
  "colab": {
   "gpuType": "T4",
   "provenance": []
  },
  "kernelspec": {
   "display_name": "Python 3 (ipykernel)",
   "name": "python3",
   "language": "python"
  },
  "language_info": {
   "codemirror_mode": {
    "name": "ipython",
    "version": 2
   },
   "file_extension": ".py",
   "mimetype": "text/x-python",
   "name": "python",
   "nbconvert_exporter": "python",
   "pygments_lexer": "ipython2",
   "version": "2.7.6"
  }
 },
 "nbformat": 4,
 "nbformat_minor": 5
}
