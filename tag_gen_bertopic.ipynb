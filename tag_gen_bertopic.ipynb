{
 "cells": [
  {
   "cell_type": "markdown",
   "id": "3b0af83a-da80-46b9-a0a8-4e70a3399c00",
   "metadata": {},
   "source": [
    "# Drive Test Tag Generation With BERTopic\n",
    "Generate tags for the written portion of the chinese driving exam using BERTopic."
   ]
  },
  {
   "cell_type": "markdown",
   "id": "d2bf9df9-a4e7-4134-9652-6a522acf2189",
   "metadata": {},
   "source": [
    "## 1. Load Data\n",
    "Loading data fom local database into a pandas dataframe"
   ]
  },
  {
   "metadata": {},
   "cell_type": "markdown",
   "source": "### a) Load data into question bank class",
   "id": "921e1d009ed0cc7b"
  },
  {
   "cell_type": "code",
   "id": "76b55877-b5f6-4901-841d-4187a9511e0d",
   "metadata": {
    "ExecuteTime": {
     "end_time": "2025-06-22T04:39:57.337025Z",
     "start_time": "2025-06-22T04:39:57.244248Z"
    }
   },
   "source": [
    "from qb.question import Question\n",
    "from qb.question_bank import QuestionBank\n",
    "from data_storage.database.json_database import LocalJsonDB\n",
    "\n",
    "db = LocalJsonDB(\"data_storage/database/json_db/data.json\",\n",
    "                 \"data_storage/database/json_db/images\")\n",
    "qb : QuestionBank = db.load()\n",
    "print(qb.question_count())"
   ],
   "outputs": [
    {
     "name": "stdout",
     "output_type": "stream",
     "text": [
      "2836\n"
     ]
    }
   ],
   "execution_count": 1
  },
  {
   "metadata": {},
   "cell_type": "markdown",
   "source": "### b) Convert question bank to pandas dataframe",
   "id": "66844d224eb7c8d4"
  },
  {
   "metadata": {
    "ExecuteTime": {
     "end_time": "2025-06-22T04:39:58.291764Z",
     "start_time": "2025-06-22T04:39:57.572474Z"
    }
   },
   "cell_type": "code",
   "source": [
    "import pandas as pd\n",
    "from pandas import DataFrame\n",
    "def qb_to_df(qb: QuestionBank) -> DataFrame:\n",
    "    data = {\n",
    "        \"ID\": [],\n",
    "        \"Question\": [],\n",
    "        \"Answer Choices\": [],\n",
    "        \"Answer\": [],\n",
    "        \"Chapter\": [],\n",
    "        \"Image Path\": []\n",
    "    }\n",
    "    for chapter_id in qb.get_all_chapter_num():\n",
    "        chapter_description = qb.describe_chapter(chapter_id)\n",
    "        qid_lst = qb.get_qids_by_chapter(chapter_id)\n",
    "        for qid in qid_lst:\n",
    "            question: Question = qb.get_question(qid)\n",
    "            data[\"ID\"].append(qid)\n",
    "            data[\"Question\"].append(question.get_question())\n",
    "            data[\"Answer Choices\"].append(\", \".join(question.get_answers()))\n",
    "            data[\"Answer\"].append(question.get_correct_answer())\n",
    "            data[\"Chapter\"].append(chapter_description)\n",
    "            data[\"Image Path\"].append(question.get_img_path() if question.get_img_path() else \"\")\n",
    "    return pd.DataFrame(data)\n",
    "question_bank = qb_to_df(qb)"
   ],
   "id": "6c8223a4b098fe44",
   "outputs": [],
   "execution_count": 2
  },
  {
   "metadata": {
    "ExecuteTime": {
     "end_time": "2025-06-22T04:40:20.731327Z",
     "start_time": "2025-06-22T04:40:20.719667Z"
    }
   },
   "cell_type": "code",
   "source": [
    "print(question_bank.shape)\n",
    "question_bank.head()"
   ],
   "id": "6f47101cc999dd9",
   "outputs": [
    {
     "name": "stdout",
     "output_type": "stream",
     "text": [
      "(2836, 6)\n"
     ]
    },
    {
     "data": {
      "text/plain": [
       "      ID                                           Question  \\\n",
       "0  7d9ae  驾驶机动车在高速公路上行驶，遇低能见度气象条件时，能见度在200米以下，车速不得超过每小时多...   \n",
       "1  be189                        驾驶机动车载货长度、宽度、高度超过规定的，一次记1分。   \n",
       "2  ed1cc                               驾驶机动车应在变更车道的同时开启转向灯。   \n",
       "3  fd850                             车辆上道路行驶前，驾乘人员都应当系好安全带。   \n",
       "4  ed1b3                          小型汽车驾驶人有下列哪种交通违法行为，一次记3分？   \n",
       "\n",
       "                                      Answer Choices                  Answer  \\\n",
       "0                       40，80, 70，100, 30，80, 60，100                  60，100   \n",
       "1                                               对, 错                       对   \n",
       "2                                               对, 错                       错   \n",
       "3                                               对, 错                       对   \n",
       "4  在高速公路、城市快速路上行驶超速50%以上的, 在高速公路、城市快速路上行驶超速20%以上未...  在普通道路上行驶超速20%以上未达到50%的   \n",
       "\n",
       "          Chapter Image Path  \n",
       "0  道路交通安全法律、法规和规章             \n",
       "1  道路交通安全法律、法规和规章             \n",
       "2  道路交通安全法律、法规和规章             \n",
       "3  道路交通安全法律、法规和规章             \n",
       "4  道路交通安全法律、法规和规章             "
      ],
      "text/html": [
       "<div>\n",
       "<style scoped>\n",
       "    .dataframe tbody tr th:only-of-type {\n",
       "        vertical-align: middle;\n",
       "    }\n",
       "\n",
       "    .dataframe tbody tr th {\n",
       "        vertical-align: top;\n",
       "    }\n",
       "\n",
       "    .dataframe thead th {\n",
       "        text-align: right;\n",
       "    }\n",
       "</style>\n",
       "<table border=\"1\" class=\"dataframe\">\n",
       "  <thead>\n",
       "    <tr style=\"text-align: right;\">\n",
       "      <th></th>\n",
       "      <th>ID</th>\n",
       "      <th>Question</th>\n",
       "      <th>Answer Choices</th>\n",
       "      <th>Answer</th>\n",
       "      <th>Chapter</th>\n",
       "      <th>Image Path</th>\n",
       "    </tr>\n",
       "  </thead>\n",
       "  <tbody>\n",
       "    <tr>\n",
       "      <th>0</th>\n",
       "      <td>7d9ae</td>\n",
       "      <td>驾驶机动车在高速公路上行驶，遇低能见度气象条件时，能见度在200米以下，车速不得超过每小时多...</td>\n",
       "      <td>40，80, 70，100, 30，80, 60，100</td>\n",
       "      <td>60，100</td>\n",
       "      <td>道路交通安全法律、法规和规章</td>\n",
       "      <td></td>\n",
       "    </tr>\n",
       "    <tr>\n",
       "      <th>1</th>\n",
       "      <td>be189</td>\n",
       "      <td>驾驶机动车载货长度、宽度、高度超过规定的，一次记1分。</td>\n",
       "      <td>对, 错</td>\n",
       "      <td>对</td>\n",
       "      <td>道路交通安全法律、法规和规章</td>\n",
       "      <td></td>\n",
       "    </tr>\n",
       "    <tr>\n",
       "      <th>2</th>\n",
       "      <td>ed1cc</td>\n",
       "      <td>驾驶机动车应在变更车道的同时开启转向灯。</td>\n",
       "      <td>对, 错</td>\n",
       "      <td>错</td>\n",
       "      <td>道路交通安全法律、法规和规章</td>\n",
       "      <td></td>\n",
       "    </tr>\n",
       "    <tr>\n",
       "      <th>3</th>\n",
       "      <td>fd850</td>\n",
       "      <td>车辆上道路行驶前，驾乘人员都应当系好安全带。</td>\n",
       "      <td>对, 错</td>\n",
       "      <td>对</td>\n",
       "      <td>道路交通安全法律、法规和规章</td>\n",
       "      <td></td>\n",
       "    </tr>\n",
       "    <tr>\n",
       "      <th>4</th>\n",
       "      <td>ed1b3</td>\n",
       "      <td>小型汽车驾驶人有下列哪种交通违法行为，一次记3分？</td>\n",
       "      <td>在高速公路、城市快速路上行驶超速50%以上的, 在高速公路、城市快速路上行驶超速20%以上未...</td>\n",
       "      <td>在普通道路上行驶超速20%以上未达到50%的</td>\n",
       "      <td>道路交通安全法律、法规和规章</td>\n",
       "      <td></td>\n",
       "    </tr>\n",
       "  </tbody>\n",
       "</table>\n",
       "</div>"
      ]
     },
     "execution_count": 4,
     "metadata": {},
     "output_type": "execute_result"
    }
   ],
   "execution_count": 4
  },
  {
   "cell_type": "markdown",
   "id": "c367c9da-7000-440e-afed-82729b20536c",
   "metadata": {},
   "source": "## 2."
  },
  {
   "cell_type": "code",
   "id": "7b1553f5-1bc5-4c33-98ef-296f43474ca1",
   "metadata": {
    "ExecuteTime": {
     "end_time": "2025-06-22T04:39:58.409671Z",
     "start_time": "2025-06-22T04:39:58.406746Z"
    }
   },
   "source": [],
   "outputs": [],
   "execution_count": null
  },
  {
   "cell_type": "code",
   "id": "fc221026-6187-4e5e-97f8-6a11a6dd170e",
   "metadata": {
    "ExecuteTime": {
     "end_time": "2025-06-22T04:39:58.563697Z",
     "start_time": "2025-06-22T04:39:58.561185Z"
    }
   },
   "source": [],
   "outputs": [],
   "execution_count": null
  }
 ],
 "metadata": {
  "kernelspec": {
   "display_name": "drivetest_tag_gen",
   "language": "python",
   "name": "drivetest_tag_gen"
  },
  "language_info": {
   "codemirror_mode": {
    "name": "ipython",
    "version": 3
   },
   "file_extension": ".py",
   "mimetype": "text/x-python",
   "name": "python",
   "nbconvert_exporter": "python",
   "pygments_lexer": "ipython3",
   "version": "3.13.5"
  }
 },
 "nbformat": 4,
 "nbformat_minor": 5
}
