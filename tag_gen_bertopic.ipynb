{
 "cells": [
  {
   "cell_type": "markdown",
   "id": "3b0af83a-da80-46b9-a0a8-4e70a3399c00",
   "metadata": {},
   "source": [
    "# Drive Test Tag Generation With BERTopic\n",
    "Generate tags for the written portion of the chinese driving exam using BERTopic."
   ]
  },
  {
   "cell_type": "markdown",
   "id": "d2bf9df9-a4e7-4134-9652-6a522acf2189",
   "metadata": {},
   "source": [
    "## 1. Load Data\n",
    "Loading data fom local database into a pandas dataframe"
   ]
  },
  {
   "metadata": {},
   "cell_type": "markdown",
   "source": "### a) Load data into question bank class",
   "id": "921e1d009ed0cc7b"
  },
  {
   "cell_type": "code",
   "id": "76b55877-b5f6-4901-841d-4187a9511e0d",
   "metadata": {
    "ExecuteTime": {
     "end_time": "2025-06-22T23:20:27.396247Z",
     "start_time": "2025-06-22T23:20:27.284775Z"
    }
   },
   "source": [
    "from qb.question import Question\n",
    "from qb.question_bank import QuestionBank\n",
    "from data_storage.database.json_database import LocalJsonDB\n",
    "\n",
    "db = LocalJsonDB(\"data_storage/database/json_db/data.json\",\n",
    "                 \"data_storage/database/json_db/images\")\n",
    "qb : QuestionBank = db.load()\n",
    "print(qb.question_count())"
   ],
   "outputs": [
    {
     "name": "stdout",
     "output_type": "stream",
     "text": [
      "2836\n"
     ]
    }
   ],
   "execution_count": 1
  },
  {
   "metadata": {},
   "cell_type": "markdown",
   "source": "### b) Convert question bank to pandas dataframe",
   "id": "66844d224eb7c8d4"
  },
  {
   "metadata": {
    "ExecuteTime": {
     "end_time": "2025-06-22T23:20:27.847210Z",
     "start_time": "2025-06-22T23:20:27.486442Z"
    }
   },
   "cell_type": "code",
   "source": [
    "import pandas as pd\n",
    "from pandas import DataFrame\n",
    "def qb_to_df(qb: QuestionBank) -> DataFrame:\n",
    "    data = {\n",
    "        \"ID\": [],\n",
    "        \"Question\": [],\n",
    "        \"Answer Choices\": [],\n",
    "        \"Answer\": [],\n",
    "        \"Chapter\": [],\n",
    "        \"Image Path\": []\n",
    "    }\n",
    "    for chapter_id in qb.get_all_chapter_num():\n",
    "        chapter_description = qb.describe_chapter(chapter_id)\n",
    "        qid_lst = qb.get_qids_by_chapter(chapter_id)\n",
    "        for qid in qid_lst:\n",
    "            question: Question = qb.get_question(qid)\n",
    "            data[\"ID\"].append(qid)\n",
    "            data[\"Question\"].append(question.get_question())\n",
    "            data[\"Answer Choices\"].append(\", \".join(question.get_answers()))\n",
    "            data[\"Answer\"].append(question.get_correct_answer())\n",
    "            data[\"Chapter\"].append(chapter_description)\n",
    "            data[\"Image Path\"].append(question.get_img_path() if question.get_img_path() else \"\")\n",
    "    return pd.DataFrame(data)\n",
    "question_bank = qb_to_df(qb)"
   ],
   "id": "6c8223a4b098fe44",
   "outputs": [],
   "execution_count": 2
  },
  {
   "metadata": {
    "ExecuteTime": {
     "end_time": "2025-06-22T23:20:27.870048Z",
     "start_time": "2025-06-22T23:20:27.859974Z"
    }
   },
   "cell_type": "code",
   "source": [
    "print(question_bank.shape)\n",
    "question_bank.head()"
   ],
   "id": "6f47101cc999dd9",
   "outputs": [
    {
     "name": "stdout",
     "output_type": "stream",
     "text": [
      "(2836, 6)\n"
     ]
    },
    {
     "data": {
      "text/plain": [
       "      ID                            Question  \\\n",
       "0  ce254                关于交通违法行为，以下说法错误的是什么？   \n",
       "1  62fb9                      遇到这种情况的路口怎样通过？   \n",
       "2  ed1cc                驾驶机动车应在变更车道的同时开启转向灯。   \n",
       "3  3cdaa  下列哪种标识是自学直考人员在道路上学习驾驶时，应当在车上放置的标志？   \n",
       "4  f980d         以下不属于轻型牵引挂车（C6）科目二考试内容的是什么？   \n",
       "\n",
       "                                      Answer Choices  \\\n",
       "0  机动车驾驶证被暂扣或者扣留期间驾驶机动车的，一次记6分, 驾驶机动车在高速公路或者城市快速路...   \n",
       "1                  加速直行通过, 确认安全后通过, 右转弯加速通过, 左转弯加速通过   \n",
       "2                                               对, 错   \n",
       "3                     学车专用标识, 产品合格标识, 保持车距标识, 提醒危险标识   \n",
       "4                               桩考, 直角转弯, 侧方停车, 曲线行驶   \n",
       "\n",
       "                                Answer         Chapter  \\\n",
       "0  造成致人轻微伤或者财产损失的交通事故后逃逸，尚不构成犯罪的，一次记9分  道路交通安全法律、法规和规章   \n",
       "1                              确认安全后通过  道路交通安全法律、法规和规章   \n",
       "2                                    错  道路交通安全法律、法规和规章   \n",
       "3                               学车专用标识  道路交通安全法律、法规和规章   \n",
       "4                                 侧方停车  道路交通安全法律、法规和规章   \n",
       "\n",
       "                                        Image Path  \n",
       "0                                                   \n",
       "1  data_storage/database/json_db/images/62fb9.webp  \n",
       "2                                                   \n",
       "3                                                   \n",
       "4                                                   "
      ],
      "text/html": [
       "<div>\n",
       "<style scoped>\n",
       "    .dataframe tbody tr th:only-of-type {\n",
       "        vertical-align: middle;\n",
       "    }\n",
       "\n",
       "    .dataframe tbody tr th {\n",
       "        vertical-align: top;\n",
       "    }\n",
       "\n",
       "    .dataframe thead th {\n",
       "        text-align: right;\n",
       "    }\n",
       "</style>\n",
       "<table border=\"1\" class=\"dataframe\">\n",
       "  <thead>\n",
       "    <tr style=\"text-align: right;\">\n",
       "      <th></th>\n",
       "      <th>ID</th>\n",
       "      <th>Question</th>\n",
       "      <th>Answer Choices</th>\n",
       "      <th>Answer</th>\n",
       "      <th>Chapter</th>\n",
       "      <th>Image Path</th>\n",
       "    </tr>\n",
       "  </thead>\n",
       "  <tbody>\n",
       "    <tr>\n",
       "      <th>0</th>\n",
       "      <td>ce254</td>\n",
       "      <td>关于交通违法行为，以下说法错误的是什么？</td>\n",
       "      <td>机动车驾驶证被暂扣或者扣留期间驾驶机动车的，一次记6分, 驾驶机动车在高速公路或者城市快速路...</td>\n",
       "      <td>造成致人轻微伤或者财产损失的交通事故后逃逸，尚不构成犯罪的，一次记9分</td>\n",
       "      <td>道路交通安全法律、法规和规章</td>\n",
       "      <td></td>\n",
       "    </tr>\n",
       "    <tr>\n",
       "      <th>1</th>\n",
       "      <td>62fb9</td>\n",
       "      <td>遇到这种情况的路口怎样通过？</td>\n",
       "      <td>加速直行通过, 确认安全后通过, 右转弯加速通过, 左转弯加速通过</td>\n",
       "      <td>确认安全后通过</td>\n",
       "      <td>道路交通安全法律、法规和规章</td>\n",
       "      <td>data_storage/database/json_db/images/62fb9.webp</td>\n",
       "    </tr>\n",
       "    <tr>\n",
       "      <th>2</th>\n",
       "      <td>ed1cc</td>\n",
       "      <td>驾驶机动车应在变更车道的同时开启转向灯。</td>\n",
       "      <td>对, 错</td>\n",
       "      <td>错</td>\n",
       "      <td>道路交通安全法律、法规和规章</td>\n",
       "      <td></td>\n",
       "    </tr>\n",
       "    <tr>\n",
       "      <th>3</th>\n",
       "      <td>3cdaa</td>\n",
       "      <td>下列哪种标识是自学直考人员在道路上学习驾驶时，应当在车上放置的标志？</td>\n",
       "      <td>学车专用标识, 产品合格标识, 保持车距标识, 提醒危险标识</td>\n",
       "      <td>学车专用标识</td>\n",
       "      <td>道路交通安全法律、法规和规章</td>\n",
       "      <td></td>\n",
       "    </tr>\n",
       "    <tr>\n",
       "      <th>4</th>\n",
       "      <td>f980d</td>\n",
       "      <td>以下不属于轻型牵引挂车（C6）科目二考试内容的是什么？</td>\n",
       "      <td>桩考, 直角转弯, 侧方停车, 曲线行驶</td>\n",
       "      <td>侧方停车</td>\n",
       "      <td>道路交通安全法律、法规和规章</td>\n",
       "      <td></td>\n",
       "    </tr>\n",
       "  </tbody>\n",
       "</table>\n",
       "</div>"
      ]
     },
     "execution_count": 3,
     "metadata": {},
     "output_type": "execute_result"
    }
   ],
   "execution_count": 3
  },
  {
   "cell_type": "markdown",
   "id": "c367c9da-7000-440e-afed-82729b20536c",
   "metadata": {},
   "source": [
    "## 2. Clean Data\n",
    "Convert Question Bank to a form suitable for BERTopic"
   ]
  },
  {
   "cell_type": "code",
   "id": "7b1553f5-1bc5-4c33-98ef-296f43474ca1",
   "metadata": {
    "ExecuteTime": {
     "end_time": "2025-06-22T23:20:28.028698Z",
     "start_time": "2025-06-22T23:20:27.927681Z"
    }
   },
   "source": [
    "from typing import List\n",
    "def make_docs_images(question_bank: DataFrame) -> (List[str], List[str]):\n",
    "    docs = []\n",
    "    images = []\n",
    "    for key in question_bank.index:\n",
    "        question = question_bank.loc[key, \"Question\"]\n",
    "        answer_choices = question_bank.loc[key, \"Answer Choices\"]\n",
    "        answer = question_bank.loc[key, \"Answer\"]\n",
    "        chapter = question_bank.loc[key, \"Chapter\"]\n",
    "        image_path = question_bank.loc[key, \"Image Path\"]\n",
    "\n",
    "        # Combine all parts into a single document\n",
    "        doc = f\"章节: {chapter}\\n 题目: {question}\\n 选项: {answer_choices}\\n 答案: {answer}\"\n",
    "\n",
    "        docs.append(doc)\n",
    "        images.append(f\"图: {image_path}\")\n",
    "    return docs, images\n",
    "docs, images = make_docs_images(question_bank)"
   ],
   "outputs": [],
   "execution_count": 4
  },
  {
   "cell_type": "code",
   "id": "fc221026-6187-4e5e-97f8-6a11a6dd170e",
   "metadata": {
    "ExecuteTime": {
     "end_time": "2025-06-22T23:20:28.073842Z",
     "start_time": "2025-06-22T23:20:28.070127Z"
    }
   },
   "source": [
    "# Display the first 5 documents and images\n",
    "for i in range(5):\n",
    "    print(docs[i], \"\\n\")\n",
    "    print(images[i], \"\\n\")"
   ],
   "outputs": [
    {
     "name": "stdout",
     "output_type": "stream",
     "text": [
      "章节: 道路交通安全法律、法规和规章\n",
      " 题目: 关于交通违法行为，以下说法错误的是什么？\n",
      " 选项: 机动车驾驶证被暂扣或者扣留期间驾驶机动车的，一次记6分, 驾驶机动车在高速公路或者城市快速路上违法停车的，一次记9分, 造成致人轻微伤或者财产损失的交通事故后逃逸，尚不构成犯罪的，一次记9分, 驾驶机动车在高速公路或者城市快速路上违法占用应急车道行驶的，一次记6分\n",
      " 答案: 造成致人轻微伤或者财产损失的交通事故后逃逸，尚不构成犯罪的，一次记9分 \n",
      "\n",
      "图:  \n",
      "\n",
      "章节: 道路交通安全法律、法规和规章\n",
      " 题目: 遇到这种情况的路口怎样通过？\n",
      " 选项: 加速直行通过, 确认安全后通过, 右转弯加速通过, 左转弯加速通过\n",
      " 答案: 确认安全后通过 \n",
      "\n",
      "图: data_storage/database/json_db/images/62fb9.webp \n",
      "\n",
      "章节: 道路交通安全法律、法规和规章\n",
      " 题目: 驾驶机动车应在变更车道的同时开启转向灯。\n",
      " 选项: 对, 错\n",
      " 答案: 错 \n",
      "\n",
      "图:  \n",
      "\n",
      "章节: 道路交通安全法律、法规和规章\n",
      " 题目: 下列哪种标识是自学直考人员在道路上学习驾驶时，应当在车上放置的标志？\n",
      " 选项: 学车专用标识, 产品合格标识, 保持车距标识, 提醒危险标识\n",
      " 答案: 学车专用标识 \n",
      "\n",
      "图:  \n",
      "\n",
      "章节: 道路交通安全法律、法规和规章\n",
      " 题目: 以下不属于轻型牵引挂车（C6）科目二考试内容的是什么？\n",
      " 选项: 桩考, 直角转弯, 侧方停车, 曲线行驶\n",
      " 答案: 侧方停车 \n",
      "\n",
      "图:  \n",
      "\n"
     ]
    }
   ],
   "execution_count": 5
  },
  {
   "metadata": {},
   "cell_type": "markdown",
   "source": "## 3. Naive Processing",
   "id": "6f47c8d2ece88148"
  },
  {
   "metadata": {
    "ExecuteTime": {
     "end_time": "2025-06-22T23:20:36.822075Z",
     "start_time": "2025-06-22T23:20:28.126654Z"
    }
   },
   "cell_type": "code",
   "source": "from bertopic import BERTopic",
   "id": "1c669dd17986f81",
   "outputs": [
    {
     "name": "stderr",
     "output_type": "stream",
     "text": [
      "\n",
      "A module that was compiled using NumPy 1.x cannot be run in\n",
      "NumPy 2.2.6 as it may crash. To support both 1.x and 2.x\n",
      "versions of NumPy, modules must be compiled with NumPy 2.0.\n",
      "Some module may need to rebuild instead e.g. with 'pybind11>=2.12'.\n",
      "\n",
      "If you are a user of the module, the easiest solution will be to\n",
      "downgrade to 'numpy<2' or try to upgrade the affected module.\n",
      "We expect that some modules will need time to support NumPy 2.\n",
      "\n",
      "Traceback (most recent call last):  File \"/Users/simonxu/opt/anaconda3/envs/drivetest_tag_gen/lib/python3.11/runpy.py\", line 198, in _run_module_as_main\n",
      "    return _run_code(code, main_globals, None,\n",
      "  File \"/Users/simonxu/opt/anaconda3/envs/drivetest_tag_gen/lib/python3.11/runpy.py\", line 88, in _run_code\n",
      "    exec(code, run_globals)\n",
      "  File \"/Users/simonxu/opt/anaconda3/envs/drivetest_tag_gen/lib/python3.11/site-packages/ipykernel_launcher.py\", line 18, in <module>\n",
      "    app.launch_new_instance()\n",
      "  File \"/Users/simonxu/opt/anaconda3/envs/drivetest_tag_gen/lib/python3.11/site-packages/traitlets/config/application.py\", line 1075, in launch_instance\n",
      "    app.start()\n",
      "  File \"/Users/simonxu/opt/anaconda3/envs/drivetest_tag_gen/lib/python3.11/site-packages/ipykernel/kernelapp.py\", line 739, in start\n",
      "    self.io_loop.start()\n",
      "  File \"/Users/simonxu/opt/anaconda3/envs/drivetest_tag_gen/lib/python3.11/site-packages/tornado/platform/asyncio.py\", line 211, in start\n",
      "    self.asyncio_loop.run_forever()\n",
      "  File \"/Users/simonxu/opt/anaconda3/envs/drivetest_tag_gen/lib/python3.11/asyncio/base_events.py\", line 608, in run_forever\n",
      "    self._run_once()\n",
      "  File \"/Users/simonxu/opt/anaconda3/envs/drivetest_tag_gen/lib/python3.11/asyncio/base_events.py\", line 1936, in _run_once\n",
      "    handle._run()\n",
      "  File \"/Users/simonxu/opt/anaconda3/envs/drivetest_tag_gen/lib/python3.11/asyncio/events.py\", line 84, in _run\n",
      "    self._context.run(self._callback, *self._args)\n",
      "  File \"/Users/simonxu/opt/anaconda3/envs/drivetest_tag_gen/lib/python3.11/site-packages/ipykernel/kernelbase.py\", line 545, in dispatch_queue\n",
      "    await self.process_one()\n",
      "  File \"/Users/simonxu/opt/anaconda3/envs/drivetest_tag_gen/lib/python3.11/site-packages/ipykernel/kernelbase.py\", line 534, in process_one\n",
      "    await dispatch(*args)\n",
      "  File \"/Users/simonxu/opt/anaconda3/envs/drivetest_tag_gen/lib/python3.11/site-packages/ipykernel/kernelbase.py\", line 437, in dispatch_shell\n",
      "    await result\n",
      "  File \"/Users/simonxu/opt/anaconda3/envs/drivetest_tag_gen/lib/python3.11/site-packages/ipykernel/ipkernel.py\", line 362, in execute_request\n",
      "    await super().execute_request(stream, ident, parent)\n",
      "  File \"/Users/simonxu/opt/anaconda3/envs/drivetest_tag_gen/lib/python3.11/site-packages/ipykernel/kernelbase.py\", line 778, in execute_request\n",
      "    reply_content = await reply_content\n",
      "  File \"/Users/simonxu/opt/anaconda3/envs/drivetest_tag_gen/lib/python3.11/site-packages/ipykernel/ipkernel.py\", line 449, in do_execute\n",
      "    res = shell.run_cell(\n",
      "  File \"/Users/simonxu/opt/anaconda3/envs/drivetest_tag_gen/lib/python3.11/site-packages/ipykernel/zmqshell.py\", line 549, in run_cell\n",
      "    return super().run_cell(*args, **kwargs)\n",
      "  File \"/Users/simonxu/opt/anaconda3/envs/drivetest_tag_gen/lib/python3.11/site-packages/IPython/core/interactiveshell.py\", line 3098, in run_cell\n",
      "    result = self._run_cell(\n",
      "  File \"/Users/simonxu/opt/anaconda3/envs/drivetest_tag_gen/lib/python3.11/site-packages/IPython/core/interactiveshell.py\", line 3153, in _run_cell\n",
      "    result = runner(coro)\n",
      "  File \"/Users/simonxu/opt/anaconda3/envs/drivetest_tag_gen/lib/python3.11/site-packages/IPython/core/async_helpers.py\", line 128, in _pseudo_sync_runner\n",
      "    coro.send(None)\n",
      "  File \"/Users/simonxu/opt/anaconda3/envs/drivetest_tag_gen/lib/python3.11/site-packages/IPython/core/interactiveshell.py\", line 3362, in run_cell_async\n",
      "    has_raised = await self.run_ast_nodes(code_ast.body, cell_name,\n",
      "  File \"/Users/simonxu/opt/anaconda3/envs/drivetest_tag_gen/lib/python3.11/site-packages/IPython/core/interactiveshell.py\", line 3607, in run_ast_nodes\n",
      "    if await self.run_code(code, result, async_=asy):\n",
      "  File \"/Users/simonxu/opt/anaconda3/envs/drivetest_tag_gen/lib/python3.11/site-packages/IPython/core/interactiveshell.py\", line 3667, in run_code\n",
      "    exec(code_obj, self.user_global_ns, self.user_ns)\n",
      "  File \"/var/folders/71/jllnlvwn0gv1k0610m4_0dvh0000gn/T/ipykernel_4884/1090013460.py\", line 1, in <module>\n",
      "    from bertopic import BERTopic\n",
      "  File \"/Users/simonxu/opt/anaconda3/envs/drivetest_tag_gen/lib/python3.11/site-packages/bertopic/__init__.py\", line 3, in <module>\n",
      "    from bertopic._bertopic import BERTopic\n",
      "  File \"/Users/simonxu/opt/anaconda3/envs/drivetest_tag_gen/lib/python3.11/site-packages/bertopic/_bertopic.py\", line 58, in <module>\n",
      "    from bertopic.backend import BaseEmbedder\n",
      "  File \"/Users/simonxu/opt/anaconda3/envs/drivetest_tag_gen/lib/python3.11/site-packages/bertopic/backend/__init__.py\", line 22, in <module>\n",
      "    from bertopic.backend._multimodal import MultiModalBackend\n",
      "  File \"/Users/simonxu/opt/anaconda3/envs/drivetest_tag_gen/lib/python3.11/site-packages/bertopic/backend/_multimodal.py\", line 5, in <module>\n",
      "    from sentence_transformers import SentenceTransformer\n",
      "  File \"/Users/simonxu/opt/anaconda3/envs/drivetest_tag_gen/lib/python3.11/site-packages/sentence_transformers/__init__.py\", line 9, in <module>\n",
      "    from sentence_transformers.backend import (\n",
      "  File \"/Users/simonxu/opt/anaconda3/envs/drivetest_tag_gen/lib/python3.11/site-packages/sentence_transformers/backend.py\", line 11, in <module>\n",
      "    from sentence_transformers.util import disable_datasets_caching, is_datasets_available\n",
      "  File \"/Users/simonxu/opt/anaconda3/envs/drivetest_tag_gen/lib/python3.11/site-packages/sentence_transformers/util.py\", line 17, in <module>\n",
      "    import torch\n",
      "  File \"/Users/simonxu/opt/anaconda3/envs/drivetest_tag_gen/lib/python3.11/site-packages/torch/__init__.py\", line 1477, in <module>\n",
      "    from .functional import *  # noqa: F403\n",
      "  File \"/Users/simonxu/opt/anaconda3/envs/drivetest_tag_gen/lib/python3.11/site-packages/torch/functional.py\", line 9, in <module>\n",
      "    import torch.nn.functional as F\n",
      "  File \"/Users/simonxu/opt/anaconda3/envs/drivetest_tag_gen/lib/python3.11/site-packages/torch/nn/__init__.py\", line 1, in <module>\n",
      "    from .modules import *  # noqa: F403\n",
      "  File \"/Users/simonxu/opt/anaconda3/envs/drivetest_tag_gen/lib/python3.11/site-packages/torch/nn/modules/__init__.py\", line 35, in <module>\n",
      "    from .transformer import TransformerEncoder, TransformerDecoder, \\\n",
      "  File \"/Users/simonxu/opt/anaconda3/envs/drivetest_tag_gen/lib/python3.11/site-packages/torch/nn/modules/transformer.py\", line 20, in <module>\n",
      "    device: torch.device = torch.device(torch._C._get_default_device()),  # torch.device('cpu'),\n"
     ]
    }
   ],
   "execution_count": 6
  },
  {
   "metadata": {},
   "cell_type": "code",
   "source": "from bertopic.representation import VisualRepresentation",
   "id": "142c1b0dd33bda32",
   "outputs": [],
   "execution_count": null
  },
  {
   "metadata": {},
   "cell_type": "code",
   "source": "visual_model = VisualRepresentation()",
   "id": "13427c194e3f7f5",
   "outputs": [],
   "execution_count": null
  },
  {
   "metadata": {},
   "cell_type": "code",
   "source": [
    "representation_model = {\n",
    "    \"Visual_Aspect\": visual_model,\n",
    "}"
   ],
   "id": "5803f8b8d5f5b640",
   "outputs": [],
   "execution_count": null
  },
  {
   "metadata": {},
   "cell_type": "code",
   "source": [
    "topic_model = BERTopic(representation_model=representation_model,\n",
    "                        verbose=True)"
   ],
   "id": "18704befda6d24e3",
   "outputs": [],
   "execution_count": null
  },
  {
   "metadata": {},
   "cell_type": "code",
   "source": "topic_model.fit(docs, images=images)",
   "id": "44337bb636bdd80",
   "outputs": [],
   "execution_count": null
  },
  {
   "metadata": {},
   "cell_type": "code",
   "source": [
    "import base64\n",
    "\n",
    "def image_base64(im_path) -> str:\n",
    "    if im_path:\n",
    "        with open(im_path, \"rb\") as image_file:\n",
    "            webp_data = image_file.read()\n",
    "            encoded_bytes = base64.b64encode(webp_data)\n",
    "            base64_string = encoded_bytes.decode('utf-8')\n",
    "            return base64_string\n",
    "    else:\n",
    "        return \"\"\n",
    "\n",
    "def image_formatter(im_path):\n",
    "    return f'<img src=\"data:image/webp;base64,{image_base64(im_path)}\">'\n",
    "\n",
    "# Extract dataframe\n",
    "# df = topic_model.get_topic_info()"
   ],
   "id": "598d2dc7acc219f7",
   "outputs": [],
   "execution_count": null
  },
  {
   "metadata": {},
   "cell_type": "code",
   "source": "# df.head()",
   "id": "2d0ae2b21720f88b",
   "outputs": [],
   "execution_count": null
  }
 ],
 "metadata": {
  "kernelspec": {
   "display_name": "drivetest_tag_gen",
   "language": "python",
   "name": "drivetest_tag_gen"
  },
  "language_info": {
   "codemirror_mode": {
    "name": "ipython",
    "version": 3
   },
   "file_extension": ".py",
   "mimetype": "text/x-python",
   "name": "python",
   "nbconvert_exporter": "python",
   "pygments_lexer": "ipython3",
   "version": "3.13.5"
  }
 },
 "nbformat": 4,
 "nbformat_minor": 5
}
